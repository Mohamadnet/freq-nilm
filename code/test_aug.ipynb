{
 "cells": [
  {
   "cell_type": "code",
   "execution_count": 17,
   "metadata": {
    "collapsed": true
   },
   "outputs": [],
   "source": [
    "import numpy as np\n",
    "import random\n",
    "from dataloader import APPLIANCE_ORDER, get_train_test"
   ]
  },
  {
   "cell_type": "code",
   "execution_count": 14,
   "metadata": {},
   "outputs": [],
   "source": [
    "def aug_random(train,num_aug):\n",
    "    print (\"random\")\n",
    "    new = []\n",
    "    for i in range(num_aug):\n",
    "        index = random.sample(list(np.arange(len(train))), 2)\n",
    "    #     print index\n",
    "        new_sample = 0.5*train[index[0], :, :, :] + 0.5*train[index[1], :, :, :]\n",
    "        new.append(new_sample)\n",
    "    new = np.array(new)\n",
    "    return new"
   ]
  },
  {
   "cell_type": "code",
   "execution_count": 15,
   "metadata": {
    "collapsed": true
   },
   "outputs": [],
   "source": [
    "def aug_appliance(train, num_aug):\n",
    "    print (\"appliance\")\n",
    "    new = np.zeros((num_aug, 6, 112, 24))\n",
    "    for i in range(num_aug):\n",
    "        home_agg = np.zeros((112,24))\n",
    "        for appliance in range(1,6):\n",
    "            index = np.random.choice(list(range(len(train))))\n",
    "            new[i, appliance, :, :] = train.copy()[index, appliance, : :]\n",
    "            home_agg += train.copy()[index, appliance, :, :]\n",
    "        new[i, 0, :, :] = home_agg\n",
    "    return new"
   ]
  },
  {
   "cell_type": "code",
   "execution_count": 16,
   "metadata": {
    "collapsed": true
   },
   "outputs": [],
   "source": [
    "def aug_noise(train, num_aug):\n",
    "    print (\"noise\")\n",
    "    new = []\n",
    "    for i in range(num_aug):\n",
    "        index = np.random.choice(list(range(len(train))))\n",
    "        noise = np.random.normal(0,1,112*24*5).reshape(5, 112, 24)\n",
    "        new_sample = train.copy()[index]\n",
    "        new_sample[1:] = new_sample[1:] + noise\n",
    "        new_sample[0] = 0 \n",
    "        for j in range(1, 6):\n",
    "            new_sample[0] += new_sample[j]\n",
    "        new.append(new_sample)\n",
    "    new = np.array(new)\n",
    "    return new"
   ]
  },
  {
   "cell_type": "code",
   "execution_count": 56,
   "metadata": {
    "collapsed": true
   },
   "outputs": [],
   "source": [
    "def selective(train, test):\n",
    "    test_aggregate = test[:, 0, :, :]\n",
    "    train_aggregate = train[:, 0, :, :]\n",
    "    \n",
    "    test_aggregate = test_aggregate.reshape(test_aggregate.shape[0], -1)\n",
    "    train_aggregate = train_aggregate.reshape(train_aggregate.shape[0], -1)\n",
    "    \n",
    "    concated = np.vstack([train_aggregate, test_aggregate])\n",
    "    \n",
    "    cosine_similarity = cosine_similarity(concated)\n",
    "    cosine_similarity = cosine_similarity[:len(train_aggregate), len(train_aggregate):]\n",
    "    \n",
    "    train_max = cosine_similarity.max(axis=1)\n",
    "    \n",
    "    k = int(0.5*len(train_aggregate))\n",
    "    index = np.argpartition(train_max, -k)[-k:]\n",
    "    \n",
    "    return train[index]"
   ]
  },
  {
   "cell_type": "code",
   "execution_count": null,
   "metadata": {
    "collapsed": true
   },
   "outputs": [],
   "source": [
    "def augmented_data(train, test = None, num_aug, case, select=True):\n",
    "    \n",
    "    if num_aug == 0:\n",
    "        return train\n",
    "    else:\n",
    "        continue\n",
    "    \n",
    "    if select:\n",
    "        train = selective(train, test)\n",
    "    else:\n",
    "        continue\n",
    "        \n",
    "    if case == 1:\n",
    "        new = aug_random(train, num_aug)\n",
    "    if case == 2:\n",
    "        new = aug_appliance(train, num_aug)\n",
    "    if case == 3:\n",
    "        new = aug_noise(train, num_aug)\n",
    "    return np.vstack([train, new])\n"
   ]
  }
 ],
 "metadata": {
  "kernelspec": {
   "display_name": "Python 3",
   "language": "python",
   "name": "python3"
  },
  "language_info": {
   "codemirror_mode": {
    "name": "ipython",
    "version": 2
   },
   "file_extension": ".py",
   "mimetype": "text/x-python",
   "name": "python",
   "nbconvert_exporter": "python",
   "pygments_lexer": "ipython2",
   "version": "2.7.13"
  }
 },
 "nbformat": 4,
 "nbformat_minor": 2
}
