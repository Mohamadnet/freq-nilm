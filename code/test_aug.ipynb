{
 "cells": [
  {
   "cell_type": "code",
   "execution_count": 1,
   "metadata": {
    "collapsed": true
   },
   "outputs": [],
   "source": [
    "import numpy as np\n",
    "import random\n",
    "from dataloader import APPLIANCE_ORDER, get_train_test\n",
    "from sklearn.metrics.pairwise import cosine_similarity\n"
   ]
  },
  {
   "cell_type": "code",
   "execution_count": 2,
   "metadata": {
    "collapsed": true
   },
   "outputs": [],
   "source": [
    "def aug_random(train,num_aug):\n",
    "    print (\"random\")\n",
    "    new = []\n",
    "    for i in range(num_aug):\n",
    "        index = random.sample(list(np.arange(len(train))), 2)\n",
    "    #     print index\n",
    "        new_sample = 0.5*train[index[0], :, :, :] + 0.5*train[index[1], :, :, :]\n",
    "        new.append(new_sample)\n",
    "    new = np.array(new)\n",
    "    return new"
   ]
  },
  {
   "cell_type": "code",
   "execution_count": 3,
   "metadata": {
    "collapsed": true
   },
   "outputs": [],
   "source": [
    "def aug_appliance(train, num_aug):\n",
    "    print (\"appliance\")\n",
    "    new = np.zeros((num_aug, 6, 112, 24))\n",
    "    for i in range(num_aug):\n",
    "        home_agg = np.zeros((112,24))\n",
    "        for appliance in range(1,6):\n",
    "            index = np.random.choice(list(range(len(train))))\n",
    "            new[i, appliance, :, :] = train.copy()[index, appliance, : :]\n",
    "            home_agg += train.copy()[index, appliance, :, :]\n",
    "        new[i, 0, :, :] = home_agg\n",
    "    return new"
   ]
  },
  {
   "cell_type": "code",
   "execution_count": 4,
   "metadata": {
    "collapsed": true
   },
   "outputs": [],
   "source": [
    "def aug_noise(train, num_aug):\n",
    "    print (\"noise\")\n",
    "    new = []\n",
    "    for i in range(num_aug):\n",
    "        index = np.random.choice(list(range(len(train))))\n",
    "        noise = np.random.normal(0,1,112*24*5).reshape(5, 112, 24)\n",
    "        new_sample = train.copy()[index]\n",
    "        new_sample[1:] = new_sample[1:] + noise\n",
    "        new_sample[0] = 0 \n",
    "        for j in range(1, 6):\n",
    "            new_sample[0] += new_sample[j]\n",
    "        new.append(new_sample)\n",
    "    new = np.array(new)\n",
    "    return new"
   ]
  },
  {
   "cell_type": "code",
   "execution_count": 5,
   "metadata": {
    "collapsed": true
   },
   "outputs": [],
   "source": [
    "def selective(train, test):\n",
    "    test_aggregate = test[:, 0, :, :]\n",
    "    train_aggregate = train[:, 0, :, :]\n",
    "    \n",
    "    test_aggregate = test_aggregate.reshape(test_aggregate.shape[0], -1)\n",
    "    train_aggregate = train_aggregate.reshape(train_aggregate.shape[0], -1)\n",
    "    \n",
    "    concated = np.vstack([train_aggregate, test_aggregate])\n",
    "    \n",
    "    similarity = cosine_similarity(concated)\n",
    "    similarity = similarity[:len(train_aggregate), len(train_aggregate):]\n",
    "    \n",
    "    train_max = similarity.max(axis=1)\n",
    "    \n",
    "    k = int(0.5*len(train_aggregate))\n",
    "    index = np.argpartition(train_max, -k)[-k:]\n",
    "    \n",
    "    return train[index]"
   ]
  },
  {
   "cell_type": "code",
   "execution_count": 18,
   "metadata": {
    "collapsed": true
   },
   "outputs": [],
   "source": [
    "def augmented_data(train, num_aug, case, test = None, select=True):\n",
    "    \n",
    "    if num_aug == 0:\n",
    "        return train\n",
    "    \n",
    "    if select:\n",
    "        selected_train = selective(train, test)\n",
    "\n",
    "        \n",
    "    if case == 1:\n",
    "        new = aug_random(selected_train, num_aug)\n",
    "    if case == 2:\n",
    "        new = aug_appliance(selected_train, num_aug)\n",
    "    if case == 3:\n",
    "        new = aug_noise(selected_train, num_aug)\n",
    "    print (new.shape)\n",
    "    print (train.shape)\n",
    "    return np.vstack([train, new])\n"
   ]
  },
  {
   "cell_type": "code",
   "execution_count": 19,
   "metadata": {
    "collapsed": true
   },
   "outputs": [],
   "source": [
    "train, test = get_train_test(1, 5, 0)"
   ]
  },
  {
   "cell_type": "code",
   "execution_count": 20,
   "metadata": {},
   "outputs": [
    {
     "name": "stdout",
     "output_type": "stream",
     "text": [
      "random\n",
      "(2, 6, 112, 24)\n",
      "(54, 6, 112, 24)\n"
     ]
    }
   ],
   "source": [
    "new_train = augmented_data(train, 2, 1, test, True)"
   ]
  },
  {
   "cell_type": "code",
   "execution_count": 21,
   "metadata": {},
   "outputs": [
    {
     "data": {
      "text/plain": [
       "(54, 6, 112, 24)"
      ]
     },
     "execution_count": 21,
     "metadata": {},
     "output_type": "execute_result"
    }
   ],
   "source": [
    "train.shape"
   ]
  },
  {
   "cell_type": "code",
   "execution_count": 22,
   "metadata": {},
   "outputs": [
    {
     "data": {
      "text/plain": [
       "(56, 6, 112, 24)"
      ]
     },
     "execution_count": 22,
     "metadata": {},
     "output_type": "execute_result"
    }
   ],
   "source": [
    "new_train.shape"
   ]
  }
 ],
 "metadata": {
  "kernelspec": {
   "display_name": "Python 3",
   "language": "python",
   "name": "python3"
  },
  "language_info": {
   "codemirror_mode": {
    "name": "ipython",
    "version": 3
   },
   "file_extension": ".py",
   "mimetype": "text/x-python",
   "name": "python",
   "nbconvert_exporter": "python",
   "pygments_lexer": "ipython3",
   "version": "3.6.3"
  }
 },
 "nbformat": 4,
 "nbformat_minor": 2
}
