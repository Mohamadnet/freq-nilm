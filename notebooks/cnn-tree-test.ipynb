{
 "cells": [
  {
   "cell_type": "code",
   "execution_count": 1,
   "metadata": {
    "collapsed": true
   },
   "outputs": [],
   "source": [
    "import torch\n",
    "from torch.autograd import Variable\n",
    "import numpy as np\n",
    "import torch.nn as nn\n",
    "from torchvision import datasets,transforms\n",
    "import torch.nn.functional as F\n",
    "import sys\n",
    "sys.path.append(\"../code/\")\n",
    "from dataloader import APPLIANCE_ORDER, get_train_test"
   ]
  },
  {
   "cell_type": "code",
   "execution_count": 2,
   "metadata": {
    "collapsed": true
   },
   "outputs": [],
   "source": [
    "class CustomCNN(nn.Module):\n",
    "    def __init__(self):\n",
    "        super(CustomCNN, self).__init__()\n",
    "        self.conv1 = nn.Conv2d(1, 20, kernel_size=7, stride=1, padding=2)\n",
    "        self.bn1 = nn.BatchNorm2d(20)\n",
    "\n",
    "        self.conv2 = nn.Conv2d(20, 16, kernel_size=2, stride=2, padding=1)\n",
    "        self.bn2 = nn.BatchNorm2d(16)\n",
    "\n",
    "        self.conv3 = nn.Conv2d(16, 64, kernel_size=4, stride=2, padding=1)\n",
    "        self.bn3 = nn.BatchNorm2d(64)\n",
    "\n",
    "        self.conv4 = nn.ConvTranspose2d(64, 16, kernel_size=4, stride=2, padding=1)\n",
    "        self.bn4 = nn.BatchNorm2d(16)\n",
    "\n",
    "        self.conv5 = nn.ConvTranspose2d(16, 6, kernel_size=4, stride=2, padding=1)\n",
    "        self.bn5 = nn.BatchNorm2d(6)\n",
    "\n",
    "        self.conv6 = nn.ConvTranspose2d(6, 1, kernel_size=5, stride=1, padding=2) \n",
    "        \n",
    "        self.act = nn.ReLU()\n",
    "        \n",
    "    # forward method\n",
    "    def forward(self, input):\n",
    "        \n",
    "        e1 = self.conv1(input)\n",
    "        bn1 = self.bn1(self.act(e1))\n",
    "        e2 = self.bn2(self.conv2(bn1))\n",
    "#         e3 = self.bn3(self.conv3(e2))\n",
    "        \n",
    "#         e4 = self.bn4(self.conv4(e3))\n",
    "        e5 = self.bn5(self.conv5(e2))\n",
    "        e6 = self.conv6(e5)\n",
    "\n",
    "        return e6"
   ]
  },
  {
   "cell_type": "code",
   "execution_count": 3,
   "metadata": {
    "collapsed": true
   },
   "outputs": [],
   "source": [
    "class AppliancesCNN(nn.Module):\n",
    "    def __init__(self, num_appliance):\n",
    "        super(AppliancesCNN, self).__init__()\n",
    "        self.num_appliance = num_appliance\n",
    "        self.preds = {}\n",
    "        self.order = ORDER\n",
    "        for appliance in range(self.num_appliance):\n",
    "            if cuda_av:\n",
    "                setattr(self, \"Appliance_\" + str(appliance), CustomCNN().cuda())\n",
    "            else:\n",
    "                setattr(self, \"Appliance_\" + str(appliance), CustomCNN())\n",
    "\n",
    "    def forward(self, *args):\n",
    "        agg_current = args[0]\n",
    "        flag = False\n",
    "        if np.random.random() > args[1]:\n",
    "            flag = True\n",
    "        else:\n",
    "            pass\n",
    "        for appliance in range(self.num_appliance):\n",
    "            self.preds[appliance] = getattr(self, \"Appliance_\" + str(appliance))(agg_current)\n",
    "            if flag:\n",
    "                agg_current = agg_current - self.preds[appliance]\n",
    "            else:\n",
    "                agg_current = agg_current - args[2 + appliance]\n",
    "\n",
    "        return torch.cat([self.preds[a] for a in range(self.num_appliance)])"
   ]
  },
  {
   "cell_type": "code",
   "execution_count": 15,
   "metadata": {
    "collapsed": true
   },
   "outputs": [],
   "source": [
    "torch.manual_seed(0)\n",
    "num_folds = 5\n",
    "dataset = 1\n",
    "fold_num = 0\n",
    "lr = 0.01\n",
    "train, test = get_train_test(dataset, num_folds=num_folds, fold_num=fold_num)"
   ]
  },
  {
   "cell_type": "code",
   "execution_count": 16,
   "metadata": {
    "collapsed": true
   },
   "outputs": [],
   "source": [
    "valid = train[int(0.8*len(train)):].copy()\n",
    "train = train[:int(0.8 * len(train))].copy()\n",
    "\n",
    "train_aggregate = train[:, 0, :, :].reshape(train.shape[0], 1, -1, 24)\n",
    "valid_aggregate = valid[:, 0, :, :].reshape(valid.shape[0], 1, -1, 24)\n",
    "test_aggregate = test[:, 0, :, :].reshape(test.shape[0], 1, -1, 24)"
   ]
  },
  {
   "cell_type": "code",
   "execution_count": 59,
   "metadata": {
    "collapsed": true
   },
   "outputs": [],
   "source": [
    "ORDER = ['hvac', 'fridge', 'dr', 'dw', 'mw']\n",
    "ORDER = ['fridge', 'hvac', 'dr', 'dw', 'mw']\n",
    "ORDER = ['dw', 'mw', 'fridge', 'hvac', 'dr']\n",
    "cuda_av = False\n",
    "if torch.cuda.is_available():\n",
    "    cuda_av = True"
   ]
  },
  {
   "cell_type": "code",
   "execution_count": 60,
   "metadata": {
    "collapsed": true
   },
   "outputs": [],
   "source": [
    "out_train = [None for temp in range(len(ORDER))]\n",
    "for a_num, appliance in enumerate(ORDER):\n",
    "    out_train[a_num] = Variable(\n",
    "        torch.Tensor(train[:, APPLIANCE_ORDER.index(appliance), :, :].reshape((train.shape[0], 1, -1, 24))))\n",
    "    if cuda_av:\n",
    "        out_train[a_num] = out_train[a_num].cuda()\n",
    "\n",
    "out_valid = [None for temp in range(len(ORDER))]\n",
    "for a_num, appliance in enumerate(ORDER):\n",
    "    out_valid[a_num] = Variable(\n",
    "        torch.Tensor(valid[:, APPLIANCE_ORDER.index(appliance), :, :].reshape((valid.shape[0], 1, -1, 24))))\n",
    "    if cuda_av:\n",
    "        out_valid[a_num] = out_valid[a_num].cuda()\n",
    "        \n",
    "out_test = [None for temp in range(len(ORDER))]\n",
    "for a_num, appliance in enumerate(ORDER):\n",
    "    out_test[a_num] = Variable(\n",
    "        torch.Tensor(test[:, APPLIANCE_ORDER.index(appliance), :, :].reshape((test.shape[0], 1, -1, 24))))\n",
    "    if cuda_av:\n",
    "        out_test[a_num] = out_test[a_num].cuda()"
   ]
  },
  {
   "cell_type": "code",
   "execution_count": 61,
   "metadata": {
    "collapsed": true
   },
   "outputs": [],
   "source": [
    "loss_func = nn.L1Loss()\n",
    "model = AppliancesCNN(len(ORDER))\n",
    "optimizer = torch.optim.Adam(model.parameters(), lr=lr)\n",
    "\n",
    "if cuda_av:\n",
    "    model = model.cuda()\n",
    "    loss_func = loss_func.cuda()"
   ]
  },
  {
   "cell_type": "code",
   "execution_count": 62,
   "metadata": {
    "collapsed": true
   },
   "outputs": [],
   "source": [
    "inp = Variable(torch.Tensor(train_aggregate).type(torch.FloatTensor),\n",
    "               requires_grad=True)\n",
    "\n",
    "inp = Variable(torch.Tensor(train_aggregate), requires_grad=False)\n",
    "if cuda_av:\n",
    "    inp = inp.cuda()\n",
    "\n",
    "valid_inp = Variable(torch.Tensor(valid_aggregate), requires_grad=False)\n",
    "if cuda_av:\n",
    "    valid_inp = valid_inp.cuda()\n",
    "\n",
    "test_inp = Variable(torch.Tensor(test_aggregate), requires_grad=False)\n",
    "if cuda_av:\n",
    "    test_inp = test_inp.cuda()\n",
    "\n",
    "valid_pred = {}\n",
    "train_pred = {}\n",
    "test_pred = {}\n",
    "test_losses = {}\n",
    "valid_losses = {}"
   ]
  },
  {
   "cell_type": "code",
   "execution_count": 63,
   "metadata": {},
   "outputs": [
    {
     "data": {
      "text/plain": [
       "(11, 1, 112, 24)"
      ]
     },
     "execution_count": 63,
     "metadata": {},
     "output_type": "execute_result"
    }
   ],
   "source": [
    "valid_aggregate.shape"
   ]
  },
  {
   "cell_type": "code",
   "execution_count": 64,
   "metadata": {},
   "outputs": [],
   "source": [
    "valid_out = torch.cat([out_valid[appliance_num] for appliance_num, appliance in enumerate(ORDER)])\n",
    "test_out = torch.cat([out_test[appliance_num] for appliance_num, appliance in enumerate(ORDER)])\n",
    "train_out = torch.cat([out_train[appliance_num] for appliance_num, appliance in enumerate(ORDER)])"
   ]
  },
  {
   "cell_type": "code",
   "execution_count": null,
   "metadata": {},
   "outputs": [
    {
     "name": "stdout",
     "output_type": "stream",
     "text": [
      "Round: 500 Training Error: 67.36023712158203 Validation Error: 101.37979888916016 Test Error: 79.24258422851562\n",
      "Round: 1000 Training Error: 48.506465911865234 Validation Error: 90.74720764160156 Test Error: 81.68138885498047\n",
      "Round: 1500 Training Error: 41.975460052490234 Validation Error: 89.37362670898438 Test Error: 91.28257751464844\n",
      "Round: 2000 Training Error: 41.4940071105957 Validation Error: 88.96916198730469 Test Error: 89.79879760742188\n",
      "Round: 2500 Training Error: 40.60870361328125 Validation Error: 89.5868911743164 Test Error: 91.08229064941406\n",
      "Round: 3000 Training Error: 40.07412338256836 Validation Error: 87.16902923583984 Test Error: 88.00807189941406\n",
      "Round: 3500 Training Error: 39.065521240234375 Validation Error: 90.32083892822266 Test Error: 90.55892944335938\n",
      "Round: 4000 Training Error: 39.614227294921875 Validation Error: 89.43894958496094 Test Error: 89.50813293457031\n",
      "Round: 4500 Training Error: 39.91252136230469 Validation Error: 90.61051940917969 Test Error: 91.07877349853516\n",
      "Round: 5000 Training Error: 38.35544204711914 Validation Error: 90.40798950195312 Test Error: 89.6208724975586\n",
      "Round: 5500 Training Error: 41.91343688964844 Validation Error: 85.20238494873047 Test Error: 84.63764190673828\n",
      "Round: 6000 Training Error: 41.61763381958008 Validation Error: 87.4500961303711 Test Error: 85.13148498535156\n",
      "Round: 6500 Training Error: 37.95680618286133 Validation Error: 91.39405059814453 Test Error: 89.94158172607422\n",
      "Round: 7000 Training Error: 37.74077224731445 Validation Error: 91.88098907470703 Test Error: 90.21375274658203\n"
     ]
    }
   ],
   "source": [
    "p = 0\n",
    "num_iterations = 20000\n",
    "params = [inp, p]\n",
    "for a_num, appliance in enumerate(ORDER):\n",
    "    params.append(out_train[a_num])\n",
    "        \n",
    "for t in range(1, num_iterations+1):\n",
    "  \n",
    "    if cuda_av:\n",
    "        train_out = train_out.cuda()\n",
    "\n",
    "    \n",
    "    pred = model(*params)\n",
    "\n",
    "    optimizer.zero_grad()\n",
    "    loss = loss_func(pred, train_out)\n",
    "    if t % 500 == 0:\n",
    "\n",
    "        if cuda_av:\n",
    "            valid_inp = valid_inp.cuda()\n",
    "        valid_params = [valid_inp, -2]\n",
    "        for i in range(len(ORDER)):\n",
    "            valid_params.append(None)\n",
    "        valid_pr = model(*valid_params)\n",
    "        valid_loss = loss_func(valid_pr, valid_out)\n",
    "\n",
    "        if cuda_av:\n",
    "            test_inp = test_inp.cuda()\n",
    "        test_params = [test_inp, -2]\n",
    "        for i in range(len(ORDER)):\n",
    "            test_params.append(None)\n",
    "        test_pr = model(*test_params)\n",
    "        test_loss = loss_func(test_pr, test_out)\n",
    "\n",
    "        test_losses[t] = test_loss.data[0]\n",
    "        valid_losses[t] = valid_loss.data[0]\n",
    "        # np.save(\"./baseline/p_50_loss\")\n",
    "\n",
    "        if t % 1000 == 0:\n",
    "            valid_pr = torch.clamp(valid_pr, min=0.)\n",
    "            valid_pred[t] = valid_pr\n",
    "            test_pr = torch.clamp(test_pr, min=0.)\n",
    "            test_pred[t] = test_pr\n",
    "            train_pr = pred\n",
    "            train_pr = torch.clamp(train_pr, min=0.)\n",
    "            train_pred[t] = train_pr\n",
    "\n",
    "        print(\"Round:\", t, \"Training Error:\", loss.data[0], \"Validation Error:\", valid_loss.data[0], \"Test Error:\", test_loss.data[0])\n",
    "\n",
    "    loss.backward()\n",
    "    optimizer.step()\n",
    "\n"
   ]
  },
  {
   "cell_type": "code",
   "execution_count": 24,
   "metadata": {
    "collapsed": true
   },
   "outputs": [],
   "source": [
    "from sklearn.metrics import mean_absolute_error\n",
    "\n",
    "train_fold = [None for x in range(len(ORDER))]\n",
    "\n",
    "valid_fold = {}\n",
    "for t in range(1000, num_iterations + 1, 1000):\n",
    "\n",
    "    valid_pred[t] = torch.split(valid_pred[t], valid_aggregate.shape[0])\n",
    "    valid_fold[t] = [None for x in range(len(ORDER))]\n",
    "    if cuda_av:\n",
    "        for appliance_num, appliance in enumerate(ORDER):\n",
    "            valid_fold[t][appliance_num] = valid_pred[t][appliance_num].cpu().data.numpy().reshape(-1, 24)\n",
    "    else:\n",
    "        for appliance_num, appliance in enumerate(ORDER):\n",
    "            valid_fold[t][appliance_num] = valid_pred[t][appliance_num].data.numpy().reshape(-1, 24)\n",
    "\n",
    "test_fold = {}\n",
    "for t in range(1000, num_iterations + 1, 1000):\n",
    "\n",
    "    test_pred[t] = torch.split(test_pred[t], test_aggregate.shape[0])\n",
    "    test_fold[t] = [None for x in range(len(ORDER))]\n",
    "    if cuda_av:\n",
    "        for appliance_num, appliance in enumerate(ORDER):\n",
    "            test_fold[t][appliance_num] = test_pred[t][appliance_num].cpu().data.numpy().reshape(-1, 24)\n",
    "    else:\n",
    "        for appliance_num, appliance in enumerate(ORDER):\n",
    "            test_fold[t][appliance_num] = test_pred[t][appliance_num].data.numpy().reshape(-1, 24)\n",
    "\n",
    "# store ground truth of validation set\n",
    "valid_gt_fold = [None for x in range(len(ORDER))]\n",
    "for appliance_num, appliance in enumerate(ORDER):\n",
    "    valid_gt_fold[appliance_num] = valid[:, APPLIANCE_ORDER.index(appliance), :, :].reshape(\n",
    "        valid_aggregate.shape[0],\n",
    "        -1, 1).reshape(-1, 24)\n",
    "\n",
    "test_gt_fold = [None for x in range(len(ORDER))]\n",
    "for appliance_num, appliance in enumerate(ORDER):\n",
    "    test_gt_fold[appliance_num] = test[:, APPLIANCE_ORDER.index(appliance), :, :].reshape(\n",
    "        test_aggregate.shape[0],\n",
    "        -1, 1).reshape(-1, 24)\n",
    "\n",
    "# calcualte the error of validation set\n",
    "valid_error = {}\n",
    "for t in range(1000, num_iterations + 1, 1000):\n",
    "    valid_error[t] = {}\n",
    "    for appliance_num, appliance in enumerate(ORDER):\n",
    "        valid_error[t][appliance] = mean_absolute_error(valid_fold[t][appliance_num], valid_gt_fold[appliance_num])\n",
    "\n",
    "test_error = {}\n",
    "for t in range(1000, num_iterations + 1, 1000):\n",
    "    test_error[t] = {}\n",
    "    for appliance_num, appliance in enumerate(ORDER):\n",
    "        test_error[t][appliance] = mean_absolute_error(test_fold[t][appliance_num], test_gt_fold[appliance_num])"
   ]
  },
  {
   "cell_type": "code",
   "execution_count": 38,
   "metadata": {
    "collapsed": true
   },
   "outputs": [],
   "source": [
    "import seaborn as sns\n",
    "import matplotlib.pyplot as plt\n",
    "import pandas as pd\n",
    "%matplotlib inline"
   ]
  },
  {
   "cell_type": "code",
   "execution_count": 44,
   "metadata": {},
   "outputs": [
    {
     "data": {
      "text/plain": [
       "(14, 1, 112, 24)"
      ]
     },
     "execution_count": 44,
     "metadata": {},
     "output_type": "execute_result"
    }
   ],
   "source": [
    "test_aggregate.shape"
   ]
  },
  {
   "cell_type": "code",
   "execution_count": 45,
   "metadata": {},
   "outputs": [
    {
     "data": {
      "text/plain": [
       "<matplotlib.axes._subplots.AxesSubplot at 0x7ff9d3063be0>"
      ]
     },
     "execution_count": 45,
     "metadata": {},
     "output_type": "execute_result"
    },
    {
     "data": {
      "image/png": "[encoded data removed]",
      "text/plain": [
       "<matplotlib.figure.Figure at 0x7ff9d30d95c0>"
      ]
     },
     "metadata": {},
     "output_type": "display_data"
    }
   ],
   "source": [
    "sns.heatmap(pd.DataFrame(test_aggregate[0][0]), cmap='Greens')"
   ]
  },
  {
   "cell_type": "code",
   "execution_count": 58,
   "metadata": {},
   "outputs": [
    {
     "data": {
      "text/plain": [
       "<matplotlib.axes._subplots.AxesSubplot at 0x7ff9d24b5d68>"
      ]
     },
     "execution_count": 58,
     "metadata": {},
     "output_type": "execute_result"
    },
    {
     "data": {
      "image/png": "[encoded data removed]",
      "text/plain": [
       "<matplotlib.figure.Figure at 0x7ff9d24a8a90>"
      ]
     },
     "metadata": {},
     "output_type": "display_data"
    }
   ],
   "source": [
    "sns.heatmap(pd.DataFrame(test_fold[20000][2].reshape(-1, 112, 24)[10]), cmap='Greens')"
   ]
  },
  {
   "cell_type": "code",
   "execution_count": 57,
   "metadata": {},
   "outputs": [
    {
     "data": {
      "text/plain": [
       "<matplotlib.axes._subplots.AxesSubplot at 0x7ff9d258bd68>"
      ]
     },
     "execution_count": 57,
     "metadata": {},
     "output_type": "execute_result"
    },
    {
     "data": {
      "image/png": "[encoded data removed]",
      "text/plain": [
       "<matplotlib.figure.Figure at 0x7ff9d25a06d8>"
      ]
     },
     "metadata": {},
     "output_type": "display_data"
    }
   ],
   "source": [
    "sns.heatmap(pd.DataFrame(test_gt_fold[2].reshape(-1, 112, 24)[10]), cmap='Greens')"
   ]
  },
  {
   "cell_type": "code",
   "execution_count": 25,
   "metadata": {},
   "outputs": [
    {
     "data": {
      "text/plain": [
       "{1000: {'dr': 103.05109335308289,\n",
       "  'dw': 11.025081509308853,\n",
       "  'fridge': 29.413692293765674,\n",
       "  'hvac': 167.42309408342922,\n",
       "  'mw': 7.6379931115323183},\n",
       " 2000: {'dr': 125.21000955134691,\n",
       "  'dw': 11.024307778145825,\n",
       "  'fridge': 29.042041853108472,\n",
       "  'hvac': 185.40137434938651,\n",
       "  'mw': 7.2122579443572974},\n",
       " 3000: {'dr': 130.39909943155246,\n",
       "  'dw': 11.024307778145825,\n",
       "  'fridge': 31.051492384673121,\n",
       "  'hvac': 186.54717256925269,\n",
       "  'mw': 7.2014793461672939},\n",
       " 4000: {'dr': 130.22088564787916,\n",
       "  'dw': 11.024352028374793,\n",
       "  'fridge': 31.108969738530543,\n",
       "  'hvac': 183.84720348463475,\n",
       "  'mw': 7.1766213004177972},\n",
       " 5000: {'dr': 129.1211544492933,\n",
       "  'dw': 11.024586555323287,\n",
       "  'fridge': 31.283911292864286,\n",
       "  'hvac': 182.78496545885301,\n",
       "  'mw': 7.2458296424679958},\n",
       " 6000: {'dr': 130.3828524357416,\n",
       "  'dw': 11.02430868254145,\n",
       "  'fridge': 31.572062828450751,\n",
       "  'hvac': 180.57148349186977,\n",
       "  'mw': 7.3255250871153379},\n",
       " 7000: {'dr': 132.0341465098472,\n",
       "  'dw': 11.024821942437585,\n",
       "  'fridge': 31.655822664554915,\n",
       "  'hvac': 180.36293592202119,\n",
       "  'mw': 7.3558999199472082},\n",
       " 8000: {'dr': 131.67735109272272,\n",
       "  'dw': 11.024308165824996,\n",
       "  'fridge': 31.847942733905342,\n",
       "  'hvac': 181.57908665762432,\n",
       "  'mw': 7.3660292998288881},\n",
       " 9000: {'dr': 133.23473476033226,\n",
       "  'dw': 11.025296403492115,\n",
       "  'fridge': 31.946145129596161,\n",
       "  'hvac': 181.72391132298245,\n",
       "  'mw': 7.4074442654439858},\n",
       " 10000: {'dr': 133.5207149931372,\n",
       "  'dw': 11.025328124310848,\n",
       "  'fridge': 31.783419373761394,\n",
       "  'hvac': 181.3822595679454,\n",
       "  'mw': 7.4294181426469912},\n",
       " 11000: {'dr': 132.98815144411606,\n",
       "  'dw': 11.024307783373084,\n",
       "  'fridge': 31.616463096519549,\n",
       "  'hvac': 181.44877826057373,\n",
       "  'mw': 7.4386337508657725},\n",
       " 12000: {'dr': 132.99653036655266,\n",
       "  'dw': 11.024969386352694,\n",
       "  'fridge': 31.71769594365345,\n",
       "  'hvac': 179.39125232054539,\n",
       "  'mw': 7.422897861675132},\n",
       " 13000: {'dr': 132.7856298648866,\n",
       "  'dw': 11.024642389656336,\n",
       "  'fridge': 31.770612606786859,\n",
       "  'hvac': 180.79724860221253,\n",
       "  'mw': 7.4101779886684147},\n",
       " 14000: {'dr': 131.98945818058129,\n",
       "  'dw': 11.025024401734335,\n",
       "  'fridge': 31.794018584759915,\n",
       "  'hvac': 180.21874973592818,\n",
       "  'mw': 7.3842845238423678},\n",
       " 15000: {'dr': 133.35298708608261,\n",
       "  'dw': 11.024307778145825,\n",
       "  'fridge': 31.949171961130151,\n",
       "  'hvac': 180.18723766602622,\n",
       "  'mw': 7.4120228953454026},\n",
       " 16000: {'dr': 133.63861143889997,\n",
       "  'dw': 11.024307778145825,\n",
       "  'fridge': 31.841960018570575,\n",
       "  'hvac': 181.00830306130493,\n",
       "  'mw': 7.4159661820883001},\n",
       " 17000: {'dr': 133.52966057825685,\n",
       "  'dw': 11.024307778145825,\n",
       "  'fridge': 31.811563072746917,\n",
       "  'hvac': 180.45345311009689,\n",
       "  'mw': 7.5076807101485228},\n",
       " 18000: {'dr': 131.1316335827764,\n",
       "  'dw': 11.024310389930136,\n",
       "  'fridge': 31.702689302901675,\n",
       "  'hvac': 179.30385027975854,\n",
       "  'mw': 7.5687549339768125},\n",
       " 19000: {'dr': 131.57447641340977,\n",
       "  'dw': 11.024900671324668,\n",
       "  'fridge': 31.779170546414793,\n",
       "  'hvac': 179.83068305122788,\n",
       "  'mw': 7.5177986156900234},\n",
       " 20000: {'dr': 132.0331777819776,\n",
       "  'dw': 11.025408098599129,\n",
       "  'fridge': 30.942886217678051,\n",
       "  'hvac': 179.71514079582471,\n",
       "  'mw': 7.5161753904783621}}"
      ]
     },
     "execution_count": 25,
     "metadata": {},
     "output_type": "execute_result"
    }
   ],
   "source": [
    "test_error"
   ]
  },
  {
   "cell_type": "code",
   "execution_count": 14,
   "metadata": {},
   "outputs": [
    {
     "data": {
      "text/plain": [
       "{1000: {'dr': 104.51486100150184,\n",
       "  'dw': 11.024693286003417,\n",
       "  'fridge': 43.628079512353146,\n",
       "  'hvac': 170.66594519918587,\n",
       "  'mw': 7.1834119964077372},\n",
       " 2000: {'dr': 132.7653845653841,\n",
       "  'dw': 11.024307860026147,\n",
       "  'fridge': 47.901991705041326,\n",
       "  'hvac': 181.09079424734418,\n",
       "  'mw': 7.1065447021710924},\n",
       " 3000: {'dr': 139.08151216003162,\n",
       "  'dw': 11.024774495282799,\n",
       "  'fridge': 47.871046935981276,\n",
       "  'hvac': 183.52738505555899,\n",
       "  'mw': 7.2129953022498627},\n",
       " 4000: {'dr': 143.52523411012223,\n",
       "  'dw': 11.024311092145034,\n",
       "  'fridge': 47.957222381518989,\n",
       "  'hvac': 183.53725180561787,\n",
       "  'mw': 7.3162178633638364},\n",
       " 5000: {'dr': 147.3578787644916,\n",
       "  'dw': 11.024311247478749,\n",
       "  'fridge': 46.48262682793203,\n",
       "  'hvac': 182.57096604425192,\n",
       "  'mw': 7.3999224717760086},\n",
       " 6000: {'dr': 149.68912326295776,\n",
       "  'dw': 11.024307778145825,\n",
       "  'fridge': 47.255146366351035,\n",
       "  'hvac': 181.87193982892714,\n",
       "  'mw': 7.3724442526361926},\n",
       " 7000: {'dr': 151.1437072533798,\n",
       "  'dw': 11.024307853860456,\n",
       "  'fridge': 46.717229327915732,\n",
       "  'hvac': 181.48665810607824,\n",
       "  'mw': 7.3207172355333467},\n",
       " 8000: {'dr': 152.31718285382053,\n",
       "  'dw': 11.025932603573244,\n",
       "  'fridge': 46.855993559501066,\n",
       "  'hvac': 182.9256162134968,\n",
       "  'mw': 7.2582059045950649},\n",
       " 9000: {'dr': 152.37787066138117,\n",
       "  'dw': 11.024422628325672,\n",
       "  'fridge': 46.689493621713972,\n",
       "  'hvac': 180.6533794534383,\n",
       "  'mw': 7.3147285351374096},\n",
       " 10000: {'dr': 154.46815952176937,\n",
       "  'dw': 11.024907508884889,\n",
       "  'fridge': 45.760092951826401,\n",
       "  'hvac': 180.84976314583136,\n",
       "  'mw': 7.2884722027231135},\n",
       " 11000: {'dr': 154.75650227582003,\n",
       "  'dw': 11.0246821908064,\n",
       "  'fridge': 46.960906693159302,\n",
       "  'hvac': 181.43210881061009,\n",
       "  'mw': 7.3886169309042424},\n",
       " 12000: {'dr': 154.94893909795672,\n",
       "  'dw': 11.024307778420505,\n",
       "  'fridge': 47.065166255988402,\n",
       "  'hvac': 182.12049901952381,\n",
       "  'mw': 7.3165841984723343},\n",
       " 13000: {'dr': 156.39963615045318,\n",
       "  'dw': 11.024466538241564,\n",
       "  'fridge': 46.729634126791062,\n",
       "  'hvac': 182.11279849723573,\n",
       "  'mw': 7.3000256407492765},\n",
       " 14000: {'dr': 155.6760498978359,\n",
       "  'dw': 11.025475895993253,\n",
       "  'fridge': 46.738337796908638,\n",
       "  'hvac': 182.26614527594404,\n",
       "  'mw': 7.3659191848803225},\n",
       " 15000: {'dr': 156.22652940058524,\n",
       "  'dw': 11.024801901400798,\n",
       "  'fridge': 45.832806986446379,\n",
       "  'hvac': 181.65740219521766,\n",
       "  'mw': 7.3436302799796032},\n",
       " 16000: {'dr': 157.36149376351031,\n",
       "  'dw': 11.02431131483681,\n",
       "  'fridge': 45.031742190514727,\n",
       "  'hvac': 181.10976547662767,\n",
       "  'mw': 7.347034767833752},\n",
       " 17000: {'dr': 158.37191575285851,\n",
       "  'dw': 11.024918507342079,\n",
       "  'fridge': 44.620204522097232,\n",
       "  'hvac': 180.5102650107012,\n",
       "  'mw': 7.431757078687407},\n",
       " 18000: {'dr': 157.87068188760301,\n",
       "  'dw': 11.025061503524313,\n",
       "  'fridge': 44.342206117420083,\n",
       "  'hvac': 181.6346876079449,\n",
       "  'mw': 7.461338231840756},\n",
       " 19000: {'dr': 157.75774157997719,\n",
       "  'dw': 11.024616647986397,\n",
       "  'fridge': 43.828741595919006,\n",
       "  'hvac': 181.67620563579649,\n",
       "  'mw': 7.479609761449673},\n",
       " 20000: {'dr': 159.08375126381898,\n",
       "  'dw': 11.026767597495676,\n",
       "  'fridge': 43.792015141285013,\n",
       "  'hvac': 180.38080306910783,\n",
       "  'mw': 7.4739426774765549}}"
      ]
     },
     "execution_count": 14,
     "metadata": {},
     "output_type": "execute_result"
    }
   ],
   "source": [
    "test_error"
   ]
  },
  {
   "cell_type": "code",
   "execution_count": null,
   "metadata": {
    "collapsed": true
   },
   "outputs": [],
   "source": []
  }
 ],
 "metadata": {
  "kernelspec": {
   "display_name": "Python 3",
   "language": "python",
   "name": "python3"
  },
  "language_info": {
   "codemirror_mode": {
    "name": "ipython",
    "version": 3
   },
   "file_extension": ".py",
   "mimetype": "text/x-python",
   "name": "python",
   "nbconvert_exporter": "python",
   "pygments_lexer": "ipython3",
   "version": "3.6.3"
  }
 },
 "nbformat": 4,
 "nbformat_minor": 2
}
