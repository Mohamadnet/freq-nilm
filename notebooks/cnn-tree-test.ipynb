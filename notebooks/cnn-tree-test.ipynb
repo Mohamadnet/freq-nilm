{
 "cells": [
  {
   "cell_type": "code",
   "execution_count": 1,
   "metadata": {
    "collapsed": true
   },
   "outputs": [],
   "source": [
    "import torch\n",
    "from torch.autograd import Variable\n",
    "import numpy as np\n",
    "import torch.nn as nn\n",
    "from torchvision import datasets,transforms\n",
    "import torch.nn.functional as F\n",
    "import sys\n",
    "sys.path.append(\"../code/\")\n",
    "from dataloader import APPLIANCE_ORDER, get_train_test"
   ]
  },
  {
   "cell_type": "code",
   "execution_count": 2,
   "metadata": {
    "collapsed": true
   },
   "outputs": [],
   "source": [
    "class CustomCNN(nn.Module):\n",
    "    def __init__(self):\n",
    "        super(CustomCNN, self).__init__()\n",
    "        self.conv1 = nn.Conv2d(1, 20, kernel_size=7, stride=1, padding=2)\n",
    "        self.bn1 = nn.BatchNorm2d(20)\n",
    "\n",
    "        self.conv2 = nn.Conv2d(20, 16, kernel_size=2, stride=2, padding=1)\n",
    "        self.bn2 = nn.BatchNorm2d(16)\n",
    "\n",
    "        self.conv3 = nn.Conv2d(16, 64, kernel_size=4, stride=2, padding=1)\n",
    "        self.bn3 = nn.BatchNorm2d(64)\n",
    "\n",
    "        self.conv4 = nn.ConvTranspose2d(64, 16, kernel_size=4, stride=2, padding=1)\n",
    "        self.bn4 = nn.BatchNorm2d(16)\n",
    "\n",
    "        self.conv5 = nn.ConvTranspose2d(16, 6, kernel_size=4, stride=2, padding=1)\n",
    "        self.bn5 = nn.BatchNorm2d(6)\n",
    "\n",
    "        self.conv6 = nn.ConvTranspose2d(6, 1, kernel_size=5, stride=1, padding=2) \n",
    "        \n",
    "        self.act = nn.ReLU()\n",
    "        \n",
    "    # forward method\n",
    "    def forward(self, input):\n",
    "        \n",
    "        e1 = self.conv1(input)\n",
    "        bn1 = self.bn1(self.act(e1))\n",
    "        e2 = self.bn2(self.conv2(bn1))\n",
    "#         e3 = self.bn3(self.conv3(e2))\n",
    "        \n",
    "#         e4 = self.bn4(self.conv4(e3))\n",
    "        e5 = self.bn5(self.conv5(e2))\n",
    "        e6 = self.conv6(e5)\n",
    "\n",
    "        return e6"
   ]
  },
  {
   "cell_type": "code",
   "execution_count": 3,
   "metadata": {
    "collapsed": true
   },
   "outputs": [],
   "source": [
    "class AppliancesCNN(nn.Module):\n",
    "    def __init__(self, num_appliance):\n",
    "        super(AppliancesCNN, self).__init__()\n",
    "        self.num_appliance = num_appliance\n",
    "        self.preds = {}\n",
    "        self.order = ORDER\n",
    "        for appliance in range(self.num_appliance):\n",
    "            if cuda_av:\n",
    "                setattr(self, \"Appliance_\" + str(appliance), CustomCNN().cuda())\n",
    "            else:\n",
    "                setattr(self, \"Appliance_\" + str(appliance), CustomCNN())\n",
    "\n",
    "    def forward(self, *args):\n",
    "        agg_current = args[0]\n",
    "        flag = False\n",
    "        if np.random.random() > args[1]:\n",
    "            flag = True\n",
    "        else:\n",
    "            pass\n",
    "        for appliance in range(self.num_appliance):\n",
    "            self.preds[appliance] = getattr(self, \"Appliance_\" + str(appliance))(agg_current)\n",
    "            if flag:\n",
    "                agg_current = agg_current - self.preds[appliance]\n",
    "            else:\n",
    "                agg_current = agg_current - args[2 + appliance]\n",
    "\n",
    "        return torch.cat([self.preds[a] for a in range(self.num_appliance)])"
   ]
  },
  {
   "cell_type": "code",
   "execution_count": 15,
   "metadata": {
    "collapsed": true
   },
   "outputs": [],
   "source": [
    "torch.manual_seed(0)\n",
    "num_folds = 5\n",
    "dataset = 1\n",
    "fold_num = 0\n",
    "lr = 0.01\n",
    "train, test = get_train_test(dataset, num_folds=num_folds, fold_num=fold_num)"
   ]
  },
  {
   "cell_type": "code",
   "execution_count": 16,
   "metadata": {
    "collapsed": true
   },
   "outputs": [],
   "source": [
    "valid = train[int(0.8*len(train)):].copy()\n",
    "train = train[:int(0.8 * len(train))].copy()\n",
    "\n",
    "train_aggregate = train[:, 0, :, :].reshape(train.shape[0], 1, -1, 24)\n",
    "valid_aggregate = valid[:, 0, :, :].reshape(valid.shape[0], 1, -1, 24)\n",
    "test_aggregate = test[:, 0, :, :].reshape(test.shape[0], 1, -1, 24)"
   ]
  },
  {
   "cell_type": "code",
   "execution_count": 59,
   "metadata": {
    "collapsed": true
   },
   "outputs": [],
   "source": [
    "ORDER = ['hvac', 'fridge', 'dr', 'dw', 'mw']\n",
    "ORDER = ['fridge', 'hvac', 'dr', 'dw', 'mw']\n",
    "ORDER = ['dw', 'mw', 'fridge', 'hvac', 'dr']\n",
    "cuda_av = False\n",
    "if torch.cuda.is_available():\n",
    "    cuda_av = True"
   ]
  },
  {
   "cell_type": "code",
   "execution_count": 60,
   "metadata": {
    "collapsed": true
   },
   "outputs": [],
   "source": [
    "out_train = [None for temp in range(len(ORDER))]\n",
    "for a_num, appliance in enumerate(ORDER):\n",
    "    out_train[a_num] = Variable(\n",
    "        torch.Tensor(train[:, APPLIANCE_ORDER.index(appliance), :, :].reshape((train.shape[0], 1, -1, 24))))\n",
    "    if cuda_av:\n",
    "        out_train[a_num] = out_train[a_num].cuda()\n",
    "\n",
    "out_valid = [None for temp in range(len(ORDER))]\n",
    "for a_num, appliance in enumerate(ORDER):\n",
    "    out_valid[a_num] = Variable(\n",
    "        torch.Tensor(valid[:, APPLIANCE_ORDER.index(appliance), :, :].reshape((valid.shape[0], 1, -1, 24))))\n",
    "    if cuda_av:\n",
    "        out_valid[a_num] = out_valid[a_num].cuda()\n",
    "        \n",
    "out_test = [None for temp in range(len(ORDER))]\n",
    "for a_num, appliance in enumerate(ORDER):\n",
    "    out_test[a_num] = Variable(\n",
    "        torch.Tensor(test[:, APPLIANCE_ORDER.index(appliance), :, :].reshape((test.shape[0], 1, -1, 24))))\n",
    "    if cuda_av:\n",
    "        out_test[a_num] = out_test[a_num].cuda()"
   ]
  },
  {
   "cell_type": "code",
   "execution_count": 61,
   "metadata": {
    "collapsed": true
   },
   "outputs": [],
   "source": [
    "loss_func = nn.L1Loss()\n",
    "model = AppliancesCNN(len(ORDER))\n",
    "optimizer = torch.optim.Adam(model.parameters(), lr=lr)\n",
    "\n",
    "if cuda_av:\n",
    "    model = model.cuda()\n",
    "    loss_func = loss_func.cuda()"
   ]
  },
  {
   "cell_type": "code",
   "execution_count": 62,
   "metadata": {
    "collapsed": true
   },
   "outputs": [],
   "source": [
    "inp = Variable(torch.Tensor(train_aggregate).type(torch.FloatTensor),\n",
    "               requires_grad=True)\n",
    "\n",
    "inp = Variable(torch.Tensor(train_aggregate), requires_grad=False)\n",
    "if cuda_av:\n",
    "    inp = inp.cuda()\n",
    "\n",
    "valid_inp = Variable(torch.Tensor(valid_aggregate), requires_grad=False)\n",
    "if cuda_av:\n",
    "    valid_inp = valid_inp.cuda()\n",
    "\n",
    "test_inp = Variable(torch.Tensor(test_aggregate), requires_grad=False)\n",
    "if cuda_av:\n",
    "    test_inp = test_inp.cuda()\n",
    "\n",
    "valid_pred = {}\n",
    "train_pred = {}\n",
    "test_pred = {}\n",
    "test_losses = {}\n",
    "valid_losses = {}"
   ]
  },
  {
   "cell_type": "code",
   "execution_count": 63,
   "metadata": {},
   "outputs": [
    {
     "data": {
      "text/plain": [
       "(11, 1, 112, 24)"
      ]
     },
     "execution_count": 63,
     "metadata": {},
     "output_type": "execute_result"
    }
   ],
   "source": [
    "valid_aggregate.shape"
   ]
  },
  {
   "cell_type": "code",
   "execution_count": 64,
   "metadata": {},
   "outputs": [],
   "source": [
    "valid_out = torch.cat([out_valid[appliance_num] for appliance_num, appliance in enumerate(ORDER)])\n",
    "test_out = torch.cat([out_test[appliance_num] for appliance_num, appliance in enumerate(ORDER)])\n",
    "train_out = torch.cat([out_train[appliance_num] for appliance_num, appliance in enumerate(ORDER)])"
   ]
  },
  {
   "cell_type": "code",
   "execution_count": 65,
   "metadata": {},
   "outputs": [
    {
     "name": "stdout",
     "output_type": "stream",
     "text": [
      "Round: 500 Training Error: 67.36023712158203 Validation Error: 101.37979888916016 Test Error: 79.24258422851562\n",
      "Round: 1000 Training Error: 48.506465911865234 Validation Error: 90.74720764160156 Test Error: 81.68138885498047\n",
      "Round: 1500 Training Error: 41.975460052490234 Validation Error: 89.37362670898438 Test Error: 91.28257751464844\n",
      "Round: 2000 Training Error: 41.4940071105957 Validation Error: 88.96916198730469 Test Error: 89.79879760742188\n",
      "Round: 2500 Training Error: 40.60870361328125 Validation Error: 89.5868911743164 Test Error: 91.08229064941406\n",
      "Round: 3000 Training Error: 40.07412338256836 Validation Error: 87.16902923583984 Test Error: 88.00807189941406\n",
      "Round: 3500 Training Error: 39.065521240234375 Validation Error: 90.32083892822266 Test Error: 90.55892944335938\n",
      "Round: 4000 Training Error: 39.614227294921875 Validation Error: 89.43894958496094 Test Error: 89.50813293457031\n",
      "Round: 4500 Training Error: 39.91252136230469 Validation Error: 90.61051940917969 Test Error: 91.07877349853516\n",
      "Round: 5000 Training Error: 38.35544204711914 Validation Error: 90.40798950195312 Test Error: 89.6208724975586\n",
      "Round: 5500 Training Error: 41.91343688964844 Validation Error: 85.20238494873047 Test Error: 84.63764190673828\n",
      "Round: 6000 Training Error: 41.61763381958008 Validation Error: 87.4500961303711 Test Error: 85.13148498535156\n",
      "Round: 6500 Training Error: 37.95680618286133 Validation Error: 91.39405059814453 Test Error: 89.94158172607422\n",
      "Round: 7000 Training Error: 37.74077224731445 Validation Error: 91.88098907470703 Test Error: 90.21375274658203\n",
      "Round: 7500 Training Error: 38.842830657958984 Validation Error: 89.38875579833984 Test Error: 88.32408905029297\n",
      "Round: 8000 Training Error: 37.96771240234375 Validation Error: 92.21037292480469 Test Error: 90.40843963623047\n",
      "Round: 8500 Training Error: 37.83107376098633 Validation Error: 91.06139373779297 Test Error: 89.28852844238281\n",
      "Round: 9000 Training Error: 37.54243087768555 Validation Error: 91.58267974853516 Test Error: 89.77859497070312\n",
      "Round: 9500 Training Error: 37.884437561035156 Validation Error: 91.62071990966797 Test Error: 89.51496887207031\n",
      "Round: 10000 Training Error: 37.256099700927734 Validation Error: 92.54885864257812 Test Error: 90.09153747558594\n",
      "Round: 10500 Training Error: 38.0941276550293 Validation Error: 90.76510620117188 Test Error: 89.34733581542969\n",
      "Round: 11000 Training Error: 37.82567596435547 Validation Error: 91.91325378417969 Test Error: 89.9962158203125\n",
      "Round: 11500 Training Error: 37.302005767822266 Validation Error: 92.8647689819336 Test Error: 90.37786865234375\n",
      "Round: 12000 Training Error: 37.01922607421875 Validation Error: 92.50052642822266 Test Error: 90.1773910522461\n",
      "Round: 12500 Training Error: 37.7186279296875 Validation Error: 91.11107635498047 Test Error: 88.92381286621094\n",
      "Round: 13000 Training Error: 37.21445846557617 Validation Error: 91.5316390991211 Test Error: 89.33295440673828\n",
      "Round: 13500 Training Error: 37.245121002197266 Validation Error: 91.73860168457031 Test Error: 89.36843872070312\n",
      "Round: 14000 Training Error: 36.776309967041016 Validation Error: 92.68782043457031 Test Error: 90.56411743164062\n",
      "Round: 14500 Training Error: 37.003360748291016 Validation Error: 92.1834716796875 Test Error: 89.79995727539062\n",
      "Round: 15000 Training Error: 37.081626892089844 Validation Error: 93.5620346069336 Test Error: 91.4384994506836\n",
      "Round: 15500 Training Error: 36.87614059448242 Validation Error: 92.74160766601562 Test Error: 90.89453887939453\n",
      "Round: 16000 Training Error: 36.810176849365234 Validation Error: 93.06204986572266 Test Error: 90.92631530761719\n",
      "Round: 16500 Training Error: 36.94232940673828 Validation Error: 93.29307556152344 Test Error: 91.1768569946289\n",
      "Round: 17000 Training Error: 38.09968948364258 Validation Error: 91.50159454345703 Test Error: 89.27721405029297\n",
      "Round: 17500 Training Error: 36.60851287841797 Validation Error: 92.48399353027344 Test Error: 90.23786163330078\n",
      "Round: 18000 Training Error: 36.48128890991211 Validation Error: 93.09857177734375 Test Error: 90.54257202148438\n",
      "Round: 18500 Training Error: 36.583866119384766 Validation Error: 93.49205017089844 Test Error: 90.04695129394531\n",
      "Round: 19000 Training Error: 36.25878143310547 Validation Error: 93.68655395507812 Test Error: 90.46104431152344\n",
      "Round: 19500 Training Error: 36.404884338378906 Validation Error: 93.62519836425781 Test Error: 90.25894165039062\n",
      "Round: 20000 Training Error: 36.3528938293457 Validation Error: 93.56351470947266 Test Error: 90.20364379882812\n"
     ]
    }
   ],
   "source": [
    "p = 0\n",
    "num_iterations = 20000\n",
    "params = [inp, p]\n",
    "for a_num, appliance in enumerate(ORDER):\n",
    "    params.append(out_train[a_num])\n",
    "        \n",
    "for t in range(1, num_iterations+1):\n",
    "  \n",
    "    if cuda_av:\n",
    "        train_out = train_out.cuda()\n",
    "\n",
    "    \n",
    "    pred = model(*params)\n",
    "\n",
    "    optimizer.zero_grad()\n",
    "    loss = loss_func(pred, train_out)\n",
    "    if t % 500 == 0:\n",
    "\n",
    "        if cuda_av:\n",
    "            valid_inp = valid_inp.cuda()\n",
    "        valid_params = [valid_inp, -2]\n",
    "        for i in range(len(ORDER)):\n",
    "            valid_params.append(None)\n",
    "        valid_pr = model(*valid_params)\n",
    "        valid_loss = loss_func(valid_pr, valid_out)\n",
    "\n",
    "        if cuda_av:\n",
    "            test_inp = test_inp.cuda()\n",
    "        test_params = [test_inp, -2]\n",
    "        for i in range(len(ORDER)):\n",
    "            test_params.append(None)\n",
    "        test_pr = model(*test_params)\n",
    "        test_loss = loss_func(test_pr, test_out)\n",
    "\n",
    "        test_losses[t] = test_loss.data[0]\n",
    "        valid_losses[t] = valid_loss.data[0]\n",
    "        # np.save(\"./baseline/p_50_loss\")\n",
    "\n",
    "        if t % 1000 == 0:\n",
    "            valid_pr = torch.clamp(valid_pr, min=0.)\n",
    "            valid_pred[t] = valid_pr\n",
    "            test_pr = torch.clamp(test_pr, min=0.)\n",
    "            test_pred[t] = test_pr\n",
    "            train_pr = pred\n",
    "            train_pr = torch.clamp(train_pr, min=0.)\n",
    "            train_pred[t] = train_pr\n",
    "\n",
    "        print(\"Round:\", t, \"Training Error:\", loss.data[0], \"Validation Error:\", valid_loss.data[0], \"Test Error:\", test_loss.data[0])\n",
    "\n",
    "    loss.backward()\n",
    "    optimizer.step()\n",
    "\n"
   ]
  },
  {
   "cell_type": "code",
   "execution_count": 91,
   "metadata": {},
   "outputs": [
    {
     "ename": "AttributeError",
     "evalue": "'tuple' object has no attribute 'size'",
     "output_type": "error",
     "traceback": [
      "\u001b[0;31m---------------------------------------------------------------------------\u001b[0m",
      "\u001b[0;31mAttributeError\u001b[0m                            Traceback (most recent call last)",
      "\u001b[0;32m<ipython-input-91-a644693172eb>\u001b[0m in \u001b[0;36m<module>\u001b[0;34m()\u001b[0m\n\u001b[1;32m     15\u001b[0m \u001b[0;32mfor\u001b[0m \u001b[0mt\u001b[0m \u001b[0;32min\u001b[0m \u001b[0mrange\u001b[0m\u001b[0;34m(\u001b[0m\u001b[0;36m1000\u001b[0m\u001b[0;34m,\u001b[0m \u001b[0mnum_iterations\u001b[0m \u001b[0;34m+\u001b[0m \u001b[0;36m1\u001b[0m\u001b[0;34m,\u001b[0m \u001b[0;36m1000\u001b[0m\u001b[0;34m)\u001b[0m\u001b[0;34m:\u001b[0m\u001b[0;34m\u001b[0m\u001b[0m\n\u001b[1;32m     16\u001b[0m \u001b[0;34m\u001b[0m\u001b[0m\n\u001b[0;32m---> 17\u001b[0;31m     \u001b[0mvalid_pred\u001b[0m\u001b[0;34m[\u001b[0m\u001b[0mt\u001b[0m\u001b[0;34m]\u001b[0m \u001b[0;34m=\u001b[0m \u001b[0mtorch\u001b[0m\u001b[0;34m.\u001b[0m\u001b[0msplit\u001b[0m\u001b[0;34m(\u001b[0m\u001b[0mvalid_pred\u001b[0m\u001b[0;34m[\u001b[0m\u001b[0mt\u001b[0m\u001b[0;34m]\u001b[0m\u001b[0;34m,\u001b[0m \u001b[0mvalid_aggregate\u001b[0m\u001b[0;34m.\u001b[0m\u001b[0mshape\u001b[0m\u001b[0;34m[\u001b[0m\u001b[0;36m0\u001b[0m\u001b[0;34m]\u001b[0m\u001b[0;34m)\u001b[0m\u001b[0;34m\u001b[0m\u001b[0m\n\u001b[0m\u001b[1;32m     18\u001b[0m     \u001b[0mvalid_fold\u001b[0m\u001b[0;34m[\u001b[0m\u001b[0mt\u001b[0m\u001b[0;34m]\u001b[0m \u001b[0;34m=\u001b[0m \u001b[0;34m[\u001b[0m\u001b[0;32mNone\u001b[0m \u001b[0;32mfor\u001b[0m \u001b[0mx\u001b[0m \u001b[0;32min\u001b[0m \u001b[0mrange\u001b[0m\u001b[0;34m(\u001b[0m\u001b[0mlen\u001b[0m\u001b[0;34m(\u001b[0m\u001b[0mORDER\u001b[0m\u001b[0;34m)\u001b[0m\u001b[0;34m)\u001b[0m\u001b[0;34m]\u001b[0m\u001b[0;34m\u001b[0m\u001b[0m\n\u001b[1;32m     19\u001b[0m     \u001b[0;32mif\u001b[0m \u001b[0mcuda_av\u001b[0m\u001b[0;34m:\u001b[0m\u001b[0;34m\u001b[0m\u001b[0m\n",
      "\u001b[0;32m~/anaconda3/lib/python3.6/site-packages/torch/functional.py\u001b[0m in \u001b[0;36msplit\u001b[0;34m(tensor, split_size, dim)\u001b[0m\n\u001b[1;32m     22\u001b[0m     \u001b[0;32mif\u001b[0m \u001b[0mdim\u001b[0m \u001b[0;34m<\u001b[0m \u001b[0;36m0\u001b[0m\u001b[0;34m:\u001b[0m\u001b[0;34m\u001b[0m\u001b[0m\n\u001b[1;32m     23\u001b[0m         \u001b[0mdim\u001b[0m \u001b[0;34m+=\u001b[0m \u001b[0mtensor\u001b[0m\u001b[0;34m.\u001b[0m\u001b[0mdim\u001b[0m\u001b[0;34m(\u001b[0m\u001b[0;34m)\u001b[0m\u001b[0;34m\u001b[0m\u001b[0m\n\u001b[0;32m---> 24\u001b[0;31m     \u001b[0mdim_size\u001b[0m \u001b[0;34m=\u001b[0m \u001b[0mtensor\u001b[0m\u001b[0;34m.\u001b[0m\u001b[0msize\u001b[0m\u001b[0;34m(\u001b[0m\u001b[0mdim\u001b[0m\u001b[0;34m)\u001b[0m\u001b[0;34m\u001b[0m\u001b[0m\n\u001b[0m\u001b[1;32m     25\u001b[0m     \u001b[0mnum_splits\u001b[0m \u001b[0;34m=\u001b[0m \u001b[0;34m(\u001b[0m\u001b[0mdim_size\u001b[0m \u001b[0;34m+\u001b[0m \u001b[0msplit_size\u001b[0m \u001b[0;34m-\u001b[0m \u001b[0;36m1\u001b[0m\u001b[0;34m)\u001b[0m \u001b[0;34m//\u001b[0m \u001b[0msplit_size\u001b[0m\u001b[0;34m\u001b[0m\u001b[0m\n\u001b[1;32m     26\u001b[0m     \u001b[0mlast_split_size\u001b[0m \u001b[0;34m=\u001b[0m \u001b[0msplit_size\u001b[0m \u001b[0;34m-\u001b[0m \u001b[0;34m(\u001b[0m\u001b[0msplit_size\u001b[0m \u001b[0;34m*\u001b[0m \u001b[0mnum_splits\u001b[0m \u001b[0;34m-\u001b[0m \u001b[0mdim_size\u001b[0m\u001b[0;34m)\u001b[0m\u001b[0;34m\u001b[0m\u001b[0m\n",
      "\u001b[0;31mAttributeError\u001b[0m: 'tuple' object has no attribute 'size'"
     ]
    }
   ],
   "source": [
    "from sklearn.metrics import mean_absolute_error\n",
    "\n",
    "train_fold = {}\n",
    "for t in range(1000, num_iterations + 1, 1000):\n",
    "    train_pred[t] = torch.split(train_pred[t], train_aggregate.shape[0])\n",
    "    train_fold[t] = [None for x in range(len(ORDER))]\n",
    "    if cuda_av:\n",
    "        for appliance_num, appliance in enumerate(ORDER):\n",
    "            train_fold[t][appliance_num] = train_pred[t][appliance_num].cpu().data.numpy().reshape(-1, 24)\n",
    "    else:\n",
    "        for appliance_num, appliance in enumerate(ORDER):\n",
    "            train_fold[t][appliance_num] = train_pred[t][appliance_num].data.numpy().reshape(-1, 24)\n",
    "            \n",
    "valid_fold = {}\n",
    "for t in range(1000, num_iterations + 1, 1000):\n",
    "\n",
    "    valid_pred[t] = torch.split(valid_pred[t], valid_aggregate.shape[0])\n",
    "    valid_fold[t] = [None for x in range(len(ORDER))]\n",
    "    if cuda_av:\n",
    "        for appliance_num, appliance in enumerate(ORDER):\n",
    "            valid_fold[t][appliance_num] = valid_pred[t][appliance_num].cpu().data.numpy().reshape(-1, 24)\n",
    "    else:\n",
    "        for appliance_num, appliance in enumerate(ORDER):\n",
    "            valid_fold[t][appliance_num] = valid_pred[t][appliance_num].data.numpy().reshape(-1, 24)\n",
    "\n",
    "test_fold = {}\n",
    "for t in range(1000, num_iterations + 1, 1000):\n",
    "\n",
    "    test_pred[t] = torch.split(test_pred[t], test_aggregate.shape[0])\n",
    "    test_fold[t] = [None for x in range(len(ORDER))]\n",
    "    if cuda_av:\n",
    "        for appliance_num, appliance in enumerate(ORDER):\n",
    "            test_fold[t][appliance_num] = test_pred[t][appliance_num].cpu().data.numpy().reshape(-1, 24)\n",
    "    else:\n",
    "        for appliance_num, appliance in enumerate(ORDER):\n",
    "            test_fold[t][appliance_num] = test_pred[t][appliance_num].data.numpy().reshape(-1, 24)\n",
    "\n",
    "# store ground truth of validation set\n",
    "valid_gt_fold = [None for x in range(len(ORDER))]\n",
    "for appliance_num, appliance in enumerate(ORDER):\n",
    "    valid_gt_fold[appliance_num] = valid[:, APPLIANCE_ORDER.index(appliance), :, :].reshape(\n",
    "        valid_aggregate.shape[0],\n",
    "        -1, 1).reshape(-1, 24)\n",
    "\n",
    "test_gt_fold = [None for x in range(len(ORDER))]\n",
    "for appliance_num, appliance in enumerate(ORDER):\n",
    "    test_gt_fold[appliance_num] = test[:, APPLIANCE_ORDER.index(appliance), :, :].reshape(\n",
    "        test_aggregate.shape[0],\n",
    "        -1, 1).reshape(-1, 24)\n",
    "\n",
    "# calcualte the error of validation set\n",
    "valid_error = {}\n",
    "for t in range(1000, num_iterations + 1, 1000):\n",
    "    valid_error[t] = {}\n",
    "    for appliance_num, appliance in enumerate(ORDER):\n",
    "        valid_error[t][appliance] = mean_absolute_error(valid_fold[t][appliance_num], valid_gt_fold[appliance_num])\n",
    "\n",
    "test_error = {}\n",
    "for t in range(1000, num_iterations + 1, 1000):\n",
    "    test_error[t] = {}\n",
    "    for appliance_num, appliance in enumerate(ORDER):\n",
    "        test_error[t][appliance] = mean_absolute_error(test_fold[t][appliance_num], test_gt_fold[appliance_num])"
   ]
  },
  {
   "cell_type": "code",
   "execution_count": 92,
   "metadata": {},
   "outputs": [
    {
     "ename": "AttributeError",
     "evalue": "'tuple' object has no attribute 'size'",
     "output_type": "error",
     "traceback": [
      "\u001b[0;31m---------------------------------------------------------------------------\u001b[0m",
      "\u001b[0;31mAttributeError\u001b[0m                            Traceback (most recent call last)",
      "\u001b[0;32m<ipython-input-92-294ee92cab39>\u001b[0m in \u001b[0;36m<module>\u001b[0;34m()\u001b[0m\n\u001b[1;32m      1\u001b[0m \u001b[0mtrain_fold\u001b[0m \u001b[0;34m=\u001b[0m \u001b[0;34m{\u001b[0m\u001b[0;34m}\u001b[0m\u001b[0;34m\u001b[0m\u001b[0m\n\u001b[1;32m      2\u001b[0m \u001b[0;32mfor\u001b[0m \u001b[0mt\u001b[0m \u001b[0;32min\u001b[0m \u001b[0mrange\u001b[0m\u001b[0;34m(\u001b[0m\u001b[0;36m1000\u001b[0m\u001b[0;34m,\u001b[0m \u001b[0mnum_iterations\u001b[0m \u001b[0;34m+\u001b[0m \u001b[0;36m1\u001b[0m\u001b[0;34m,\u001b[0m \u001b[0;36m1000\u001b[0m\u001b[0;34m)\u001b[0m\u001b[0;34m:\u001b[0m\u001b[0;34m\u001b[0m\u001b[0m\n\u001b[0;32m----> 3\u001b[0;31m     \u001b[0mtrain_pred\u001b[0m\u001b[0;34m[\u001b[0m\u001b[0mt\u001b[0m\u001b[0;34m]\u001b[0m \u001b[0;34m=\u001b[0m \u001b[0mtorch\u001b[0m\u001b[0;34m.\u001b[0m\u001b[0msplit\u001b[0m\u001b[0;34m(\u001b[0m\u001b[0mtrain_pred\u001b[0m\u001b[0;34m[\u001b[0m\u001b[0mt\u001b[0m\u001b[0;34m]\u001b[0m\u001b[0;34m,\u001b[0m \u001b[0mtrain_aggregate\u001b[0m\u001b[0;34m.\u001b[0m\u001b[0mshape\u001b[0m\u001b[0;34m[\u001b[0m\u001b[0;36m0\u001b[0m\u001b[0;34m]\u001b[0m\u001b[0;34m)\u001b[0m\u001b[0;34m\u001b[0m\u001b[0m\n\u001b[0m\u001b[1;32m      4\u001b[0m     \u001b[0mtrain_fold\u001b[0m\u001b[0;34m[\u001b[0m\u001b[0mt\u001b[0m\u001b[0;34m]\u001b[0m \u001b[0;34m=\u001b[0m \u001b[0;34m[\u001b[0m\u001b[0;32mNone\u001b[0m \u001b[0;32mfor\u001b[0m \u001b[0mx\u001b[0m \u001b[0;32min\u001b[0m \u001b[0mrange\u001b[0m\u001b[0;34m(\u001b[0m\u001b[0mlen\u001b[0m\u001b[0;34m(\u001b[0m\u001b[0mORDER\u001b[0m\u001b[0;34m)\u001b[0m\u001b[0;34m)\u001b[0m\u001b[0;34m]\u001b[0m\u001b[0;34m\u001b[0m\u001b[0m\n\u001b[1;32m      5\u001b[0m     \u001b[0;32mif\u001b[0m \u001b[0mcuda_av\u001b[0m\u001b[0;34m:\u001b[0m\u001b[0;34m\u001b[0m\u001b[0m\n",
      "\u001b[0;32m~/anaconda3/lib/python3.6/site-packages/torch/functional.py\u001b[0m in \u001b[0;36msplit\u001b[0;34m(tensor, split_size, dim)\u001b[0m\n\u001b[1;32m     22\u001b[0m     \u001b[0;32mif\u001b[0m \u001b[0mdim\u001b[0m \u001b[0;34m<\u001b[0m \u001b[0;36m0\u001b[0m\u001b[0;34m:\u001b[0m\u001b[0;34m\u001b[0m\u001b[0m\n\u001b[1;32m     23\u001b[0m         \u001b[0mdim\u001b[0m \u001b[0;34m+=\u001b[0m \u001b[0mtensor\u001b[0m\u001b[0;34m.\u001b[0m\u001b[0mdim\u001b[0m\u001b[0;34m(\u001b[0m\u001b[0;34m)\u001b[0m\u001b[0;34m\u001b[0m\u001b[0m\n\u001b[0;32m---> 24\u001b[0;31m     \u001b[0mdim_size\u001b[0m \u001b[0;34m=\u001b[0m \u001b[0mtensor\u001b[0m\u001b[0;34m.\u001b[0m\u001b[0msize\u001b[0m\u001b[0;34m(\u001b[0m\u001b[0mdim\u001b[0m\u001b[0;34m)\u001b[0m\u001b[0;34m\u001b[0m\u001b[0m\n\u001b[0m\u001b[1;32m     25\u001b[0m     \u001b[0mnum_splits\u001b[0m \u001b[0;34m=\u001b[0m \u001b[0;34m(\u001b[0m\u001b[0mdim_size\u001b[0m \u001b[0;34m+\u001b[0m \u001b[0msplit_size\u001b[0m \u001b[0;34m-\u001b[0m \u001b[0;36m1\u001b[0m\u001b[0;34m)\u001b[0m \u001b[0;34m//\u001b[0m \u001b[0msplit_size\u001b[0m\u001b[0;34m\u001b[0m\u001b[0m\n\u001b[1;32m     26\u001b[0m     \u001b[0mlast_split_size\u001b[0m \u001b[0;34m=\u001b[0m \u001b[0msplit_size\u001b[0m \u001b[0;34m-\u001b[0m \u001b[0;34m(\u001b[0m\u001b[0msplit_size\u001b[0m \u001b[0;34m*\u001b[0m \u001b[0mnum_splits\u001b[0m \u001b[0;34m-\u001b[0m \u001b[0mdim_size\u001b[0m\u001b[0;34m)\u001b[0m\u001b[0;34m\u001b[0m\u001b[0m\n",
      "\u001b[0;31mAttributeError\u001b[0m: 'tuple' object has no attribute 'size'"
     ]
    }
   ],
   "source": [
    "train_fold = {}\n",
    "for t in range(1000, num_iterations + 1, 1000):\n",
    "    train_pred[t] = torch.split(train_pred[t], train_aggregate.shape[0])\n",
    "    train_fold[t] = [None for x in range(len(ORDER))]\n",
    "    if cuda_av:\n",
    "        for appliance_num, appliance in enumerate(ORDER):\n",
    "            train_fold[t][appliance_num] = train_pred[t][appliance_num].cpu().data.numpy().reshape(-1, 24)\n",
    "    else:\n",
    "        for appliance_num, appliance in enumerate(ORDER):\n",
    "            train_fold[t][appliance_num] = train_pred[t][appliance_num].data.numpy().reshape(-1, 24)"
   ]
  },
  {
   "cell_type": "code",
   "execution_count": 86,
   "metadata": {
    "collapsed": true
   },
   "outputs": [],
   "source": [
    "train_gt_fold = [None for x in range(len(ORDER))]\n",
    "for appliance_num, appliance in enumerate(ORDER):\n",
    "    train_gt_fold[appliance_num] = train[:, APPLIANCE_ORDER.index(appliance), :, :].reshape(\n",
    "        train_aggregate.shape[0],\n",
    "        -1, 1).reshape(-1, 24)"
   ]
  },
  {
   "cell_type": "code",
   "execution_count": 90,
   "metadata": {},
   "outputs": [
    {
     "data": {
      "text/plain": [
       "[None, None, None, None, None]"
      ]
     },
     "execution_count": 90,
     "metadata": {},
     "output_type": "execute_result"
    }
   ],
   "source": [
    "train_fold"
   ]
  },
  {
   "cell_type": "code",
   "execution_count": 89,
   "metadata": {},
   "outputs": [
    {
     "name": "stdout",
     "output_type": "stream",
     "text": [
      "1000\n"
     ]
    },
    {
     "ename": "IndexError",
     "evalue": "list index out of range",
     "output_type": "error",
     "traceback": [
      "\u001b[0;31m---------------------------------------------------------------------------\u001b[0m",
      "\u001b[0;31mIndexError\u001b[0m                                Traceback (most recent call last)",
      "\u001b[0;32m<ipython-input-89-3d3b5029103a>\u001b[0m in \u001b[0;36m<module>\u001b[0;34m()\u001b[0m\n\u001b[1;32m      4\u001b[0m     \u001b[0;32mfor\u001b[0m \u001b[0mappliance_num\u001b[0m\u001b[0;34m,\u001b[0m \u001b[0mappliance\u001b[0m \u001b[0;32min\u001b[0m \u001b[0menumerate\u001b[0m\u001b[0;34m(\u001b[0m\u001b[0mORDER\u001b[0m\u001b[0;34m)\u001b[0m\u001b[0;34m:\u001b[0m\u001b[0;34m\u001b[0m\u001b[0m\n\u001b[1;32m      5\u001b[0m         \u001b[0mprint\u001b[0m\u001b[0;34m(\u001b[0m\u001b[0mt\u001b[0m\u001b[0;34m)\u001b[0m\u001b[0;34m\u001b[0m\u001b[0m\n\u001b[0;32m----> 6\u001b[0;31m         \u001b[0mtrain_error\u001b[0m\u001b[0;34m[\u001b[0m\u001b[0mt\u001b[0m\u001b[0;34m]\u001b[0m\u001b[0;34m[\u001b[0m\u001b[0mappliance\u001b[0m\u001b[0;34m]\u001b[0m \u001b[0;34m=\u001b[0m \u001b[0mmean_absolute_error\u001b[0m\u001b[0;34m(\u001b[0m\u001b[0mtrain_fold\u001b[0m\u001b[0;34m[\u001b[0m\u001b[0mt\u001b[0m\u001b[0;34m]\u001b[0m\u001b[0;34m[\u001b[0m\u001b[0mappliance_num\u001b[0m\u001b[0;34m]\u001b[0m\u001b[0;34m,\u001b[0m \u001b[0mtrain_gt_fold\u001b[0m\u001b[0;34m[\u001b[0m\u001b[0mappliance_num\u001b[0m\u001b[0;34m]\u001b[0m\u001b[0;34m)\u001b[0m\u001b[0;34m\u001b[0m\u001b[0m\n\u001b[0m",
      "\u001b[0;31mIndexError\u001b[0m: list index out of range"
     ]
    }
   ],
   "source": [
    "train_error = {}\n",
    "for t in range(1000, num_iterations + 1, 1000):\n",
    "    train_error[t] = {}\n",
    "    for appliance_num, appliance in enumerate(ORDER):\n",
    "        print(t)\n",
    "        train_error[t][appliance] = mean_absolute_error(train_fold[t][appliance_num], train_gt_fold[appliance_num])"
   ]
  },
  {
   "cell_type": "code",
   "execution_count": 67,
   "metadata": {
    "collapsed": true
   },
   "outputs": [],
   "source": [
    "import seaborn as sns\n",
    "import matplotlib.pyplot as plt\n",
    "import pandas as pd\n",
    "%matplotlib inline"
   ]
  },
  {
   "cell_type": "code",
   "execution_count": 68,
   "metadata": {},
   "outputs": [
    {
     "data": {
      "text/plain": [
       "(14, 1, 112, 24)"
      ]
     },
     "execution_count": 68,
     "metadata": {},
     "output_type": "execute_result"
    }
   ],
   "source": [
    "test_aggregate.shape"
   ]
  },
  {
   "cell_type": "code",
   "execution_count": 69,
   "metadata": {},
   "outputs": [
    {
     "data": {
      "text/plain": [
       "<matplotlib.axes._subplots.AxesSubplot at 0x7ffa038c78d0>"
      ]
     },
     "execution_count": 69,
     "metadata": {},
     "output_type": "execute_result"
    },
    {
     "data": {
      "image/png": "[encoded data removed]",
      "text/plain": [
       "<matplotlib.figure.Figure at 0x7ff9d239fc50>"
      ]
     },
     "metadata": {},
     "output_type": "display_data"
    }
   ],
   "source": [
    "sns.heatmap(pd.DataFrame(test_aggregate[0][0]), cmap='Greens')"
   ]
  },
  {
   "cell_type": "code",
   "execution_count": 83,
   "metadata": {},
   "outputs": [
    {
     "data": {
      "text/plain": [
       "<matplotlib.axes._subplots.AxesSubplot at 0x7ff9d1687ac8>"
      ]
     },
     "execution_count": 83,
     "metadata": {},
     "output_type": "execute_result"
    },
    {
     "data": {
      "image/png": "[encoded data removed]",
      "text/plain": [
       "<matplotlib.figure.Figure at 0x7ff9d16412b0>"
      ]
     },
     "metadata": {},
     "output_type": "display_data"
    }
   ],
   "source": [
    "sns.heatmap(pd.DataFrame(test_fold[20000][3].reshape(-1, 112, 24)[5]), cmap='Greens')"
   ]
  },
  {
   "cell_type": "code",
   "execution_count": 82,
   "metadata": {},
   "outputs": [
    {
     "data": {
      "text/plain": [
       "<matplotlib.axes._subplots.AxesSubplot at 0x7ff9d1869cf8>"
      ]
     },
     "execution_count": 82,
     "metadata": {},
     "output_type": "execute_result"
    },
    {
     "data": {
      "image/png": "[encoded data removed]",
      "text/plain": [
       "<matplotlib.figure.Figure at 0x7ff9d174df28>"
      ]
     },
     "metadata": {},
     "output_type": "display_data"
    }
   ],
   "source": [
    "sns.heatmap(pd.DataFrame(test_gt_fold[3].reshape(-1, 112, 24)[5]), cmap='Greens')"
   ]
  },
  {
   "cell_type": "code",
   "execution_count": 85,
   "metadata": {},
   "outputs": [
    {
     "data": {
      "text/html": [
       "<div>\n",
       "<style scoped>\n",
       "    .dataframe tbody tr th:only-of-type {\n",
       "        vertical-align: middle;\n",
       "    }\n",
       "\n",
       "    .dataframe tbody tr th {\n",
       "        vertical-align: top;\n",
       "    }\n",
       "\n",
       "    .dataframe thead th {\n",
       "        text-align: right;\n",
       "    }\n",
       "</style>\n",
       "<table border=\"1\" class=\"dataframe\">\n",
       "  <thead>\n",
       "    <tr style=\"text-align: right;\">\n",
       "      <th></th>\n",
       "      <th>1000</th>\n",
       "      <th>2000</th>\n",
       "      <th>3000</th>\n",
       "      <th>4000</th>\n",
       "      <th>5000</th>\n",
       "      <th>6000</th>\n",
       "      <th>7000</th>\n",
       "      <th>8000</th>\n",
       "      <th>9000</th>\n",
       "      <th>10000</th>\n",
       "      <th>11000</th>\n",
       "      <th>12000</th>\n",
       "      <th>13000</th>\n",
       "      <th>14000</th>\n",
       "      <th>15000</th>\n",
       "      <th>16000</th>\n",
       "      <th>17000</th>\n",
       "      <th>18000</th>\n",
       "      <th>19000</th>\n",
       "      <th>20000</th>\n",
       "    </tr>\n",
       "  </thead>\n",
       "  <tbody>\n",
       "    <tr>\n",
       "      <th>dr</th>\n",
       "      <td>105.482101</td>\n",
       "      <td>122.668810</td>\n",
       "      <td>123.352893</td>\n",
       "      <td>125.800083</td>\n",
       "      <td>127.261818</td>\n",
       "      <td>118.991764</td>\n",
       "      <td>126.052355</td>\n",
       "      <td>125.258603</td>\n",
       "      <td>124.843171</td>\n",
       "      <td>124.826726</td>\n",
       "      <td>125.769003</td>\n",
       "      <td>125.870451</td>\n",
       "      <td>124.020993</td>\n",
       "      <td>125.855283</td>\n",
       "      <td>127.734817</td>\n",
       "      <td>127.020504</td>\n",
       "      <td>124.198935</td>\n",
       "      <td>127.253612</td>\n",
       "      <td>128.534271</td>\n",
       "      <td>127.581710</td>\n",
       "    </tr>\n",
       "    <tr>\n",
       "      <th>dw</th>\n",
       "      <td>11.024505</td>\n",
       "      <td>11.024308</td>\n",
       "      <td>11.025135</td>\n",
       "      <td>11.024309</td>\n",
       "      <td>11.024308</td>\n",
       "      <td>11.024429</td>\n",
       "      <td>11.024309</td>\n",
       "      <td>11.025096</td>\n",
       "      <td>11.024311</td>\n",
       "      <td>11.024533</td>\n",
       "      <td>11.024308</td>\n",
       "      <td>11.026185</td>\n",
       "      <td>11.024892</td>\n",
       "      <td>11.024320</td>\n",
       "      <td>11.024308</td>\n",
       "      <td>11.024308</td>\n",
       "      <td>11.024558</td>\n",
       "      <td>11.024543</td>\n",
       "      <td>11.024313</td>\n",
       "      <td>11.024312</td>\n",
       "    </tr>\n",
       "    <tr>\n",
       "      <th>fridge</th>\n",
       "      <td>29.463762</td>\n",
       "      <td>29.858650</td>\n",
       "      <td>30.180648</td>\n",
       "      <td>31.003725</td>\n",
       "      <td>31.364057</td>\n",
       "      <td>30.410376</td>\n",
       "      <td>31.506484</td>\n",
       "      <td>31.646299</td>\n",
       "      <td>31.474392</td>\n",
       "      <td>31.997201</td>\n",
       "      <td>31.895617</td>\n",
       "      <td>32.037030</td>\n",
       "      <td>31.707582</td>\n",
       "      <td>32.216208</td>\n",
       "      <td>32.216424</td>\n",
       "      <td>32.152304</td>\n",
       "      <td>31.551003</td>\n",
       "      <td>31.871706</td>\n",
       "      <td>31.660632</td>\n",
       "      <td>31.425863</td>\n",
       "    </tr>\n",
       "    <tr>\n",
       "      <th>hvac</th>\n",
       "      <td>180.510001</td>\n",
       "      <td>201.436465</td>\n",
       "      <td>194.757846</td>\n",
       "      <td>198.758890</td>\n",
       "      <td>201.258011</td>\n",
       "      <td>197.961997</td>\n",
       "      <td>209.224327</td>\n",
       "      <td>211.345359</td>\n",
       "      <td>209.449107</td>\n",
       "      <td>212.435757</td>\n",
       "      <td>206.357852</td>\n",
       "      <td>209.522192</td>\n",
       "      <td>208.590795</td>\n",
       "      <td>212.312137</td>\n",
       "      <td>211.955955</td>\n",
       "      <td>210.384574</td>\n",
       "      <td>206.731581</td>\n",
       "      <td>208.888319</td>\n",
       "      <td>205.664498</td>\n",
       "      <td>206.181917</td>\n",
       "    </tr>\n",
       "    <tr>\n",
       "      <th>mw</th>\n",
       "      <td>7.729903</td>\n",
       "      <td>7.756271</td>\n",
       "      <td>7.721206</td>\n",
       "      <td>7.668841</td>\n",
       "      <td>7.800155</td>\n",
       "      <td>7.804899</td>\n",
       "      <td>7.802061</td>\n",
       "      <td>7.820516</td>\n",
       "      <td>7.818060</td>\n",
       "      <td>7.854411</td>\n",
       "      <td>7.836028</td>\n",
       "      <td>7.852047</td>\n",
       "      <td>7.856998</td>\n",
       "      <td>7.901384</td>\n",
       "      <td>7.963682</td>\n",
       "      <td>7.994298</td>\n",
       "      <td>8.009189</td>\n",
       "      <td>8.043051</td>\n",
       "      <td>8.085153</td>\n",
       "      <td>8.084520</td>\n",
       "    </tr>\n",
       "  </tbody>\n",
       "</table>\n",
       "</div>"
      ],
      "text/plain": [
       "             1000        2000        3000        4000        5000   \\\n",
       "dr      105.482101  122.668810  123.352893  125.800083  127.261818   \n",
       "dw       11.024505   11.024308   11.025135   11.024309   11.024308   \n",
       "fridge   29.463762   29.858650   30.180648   31.003725   31.364057   \n",
       "hvac    180.510001  201.436465  194.757846  198.758890  201.258011   \n",
       "mw        7.729903    7.756271    7.721206    7.668841    7.800155   \n",
       "\n",
       "             6000        7000        8000        9000        10000  \\\n",
       "dr      118.991764  126.052355  125.258603  124.843171  124.826726   \n",
       "dw       11.024429   11.024309   11.025096   11.024311   11.024533   \n",
       "fridge   30.410376   31.506484   31.646299   31.474392   31.997201   \n",
       "hvac    197.961997  209.224327  211.345359  209.449107  212.435757   \n",
       "mw        7.804899    7.802061    7.820516    7.818060    7.854411   \n",
       "\n",
       "             11000       12000       13000       14000       15000  \\\n",
       "dr      125.769003  125.870451  124.020993  125.855283  127.734817   \n",
       "dw       11.024308   11.026185   11.024892   11.024320   11.024308   \n",
       "fridge   31.895617   32.037030   31.707582   32.216208   32.216424   \n",
       "hvac    206.357852  209.522192  208.590795  212.312137  211.955955   \n",
       "mw        7.836028    7.852047    7.856998    7.901384    7.963682   \n",
       "\n",
       "             16000       17000       18000       19000       20000  \n",
       "dr      127.020504  124.198935  127.253612  128.534271  127.581710  \n",
       "dw       11.024308   11.024558   11.024543   11.024313   11.024312  \n",
       "fridge   32.152304   31.551003   31.871706   31.660632   31.425863  \n",
       "hvac    210.384574  206.731581  208.888319  205.664498  206.181917  \n",
       "mw        7.994298    8.009189    8.043051    8.085153    8.084520  "
      ]
     },
     "execution_count": 85,
     "metadata": {},
     "output_type": "execute_result"
    }
   ],
   "source": [
    "pd.DataFrame(test_error)"
   ]
  },
  {
   "cell_type": "code",
   "execution_count": 14,
   "metadata": {},
   "outputs": [
    {
     "data": {
      "text/plain": [
       "{1000: {'dr': 104.51486100150184,\n",
       "  'dw': 11.024693286003417,\n",
       "  'fridge': 43.628079512353146,\n",
       "  'hvac': 170.66594519918587,\n",
       "  'mw': 7.1834119964077372},\n",
       " 2000: {'dr': 132.7653845653841,\n",
       "  'dw': 11.024307860026147,\n",
       "  'fridge': 47.901991705041326,\n",
       "  'hvac': 181.09079424734418,\n",
       "  'mw': 7.1065447021710924},\n",
       " 3000: {'dr': 139.08151216003162,\n",
       "  'dw': 11.024774495282799,\n",
       "  'fridge': 47.871046935981276,\n",
       "  'hvac': 183.52738505555899,\n",
       "  'mw': 7.2129953022498627},\n",
       " 4000: {'dr': 143.52523411012223,\n",
       "  'dw': 11.024311092145034,\n",
       "  'fridge': 47.957222381518989,\n",
       "  'hvac': 183.53725180561787,\n",
       "  'mw': 7.3162178633638364},\n",
       " 5000: {'dr': 147.3578787644916,\n",
       "  'dw': 11.024311247478749,\n",
       "  'fridge': 46.48262682793203,\n",
       "  'hvac': 182.57096604425192,\n",
       "  'mw': 7.3999224717760086},\n",
       " 6000: {'dr': 149.68912326295776,\n",
       "  'dw': 11.024307778145825,\n",
       "  'fridge': 47.255146366351035,\n",
       "  'hvac': 181.87193982892714,\n",
       "  'mw': 7.3724442526361926},\n",
       " 7000: {'dr': 151.1437072533798,\n",
       "  'dw': 11.024307853860456,\n",
       "  'fridge': 46.717229327915732,\n",
       "  'hvac': 181.48665810607824,\n",
       "  'mw': 7.3207172355333467},\n",
       " 8000: {'dr': 152.31718285382053,\n",
       "  'dw': 11.025932603573244,\n",
       "  'fridge': 46.855993559501066,\n",
       "  'hvac': 182.9256162134968,\n",
       "  'mw': 7.2582059045950649},\n",
       " 9000: {'dr': 152.37787066138117,\n",
       "  'dw': 11.024422628325672,\n",
       "  'fridge': 46.689493621713972,\n",
       "  'hvac': 180.6533794534383,\n",
       "  'mw': 7.3147285351374096},\n",
       " 10000: {'dr': 154.46815952176937,\n",
       "  'dw': 11.024907508884889,\n",
       "  'fridge': 45.760092951826401,\n",
       "  'hvac': 180.84976314583136,\n",
       "  'mw': 7.2884722027231135},\n",
       " 11000: {'dr': 154.75650227582003,\n",
       "  'dw': 11.0246821908064,\n",
       "  'fridge': 46.960906693159302,\n",
       "  'hvac': 181.43210881061009,\n",
       "  'mw': 7.3886169309042424},\n",
       " 12000: {'dr': 154.94893909795672,\n",
       "  'dw': 11.024307778420505,\n",
       "  'fridge': 47.065166255988402,\n",
       "  'hvac': 182.12049901952381,\n",
       "  'mw': 7.3165841984723343},\n",
       " 13000: {'dr': 156.39963615045318,\n",
       "  'dw': 11.024466538241564,\n",
       "  'fridge': 46.729634126791062,\n",
       "  'hvac': 182.11279849723573,\n",
       "  'mw': 7.3000256407492765},\n",
       " 14000: {'dr': 155.6760498978359,\n",
       "  'dw': 11.025475895993253,\n",
       "  'fridge': 46.738337796908638,\n",
       "  'hvac': 182.26614527594404,\n",
       "  'mw': 7.3659191848803225},\n",
       " 15000: {'dr': 156.22652940058524,\n",
       "  'dw': 11.024801901400798,\n",
       "  'fridge': 45.832806986446379,\n",
       "  'hvac': 181.65740219521766,\n",
       "  'mw': 7.3436302799796032},\n",
       " 16000: {'dr': 157.36149376351031,\n",
       "  'dw': 11.02431131483681,\n",
       "  'fridge': 45.031742190514727,\n",
       "  'hvac': 181.10976547662767,\n",
       "  'mw': 7.347034767833752},\n",
       " 17000: {'dr': 158.37191575285851,\n",
       "  'dw': 11.024918507342079,\n",
       "  'fridge': 44.620204522097232,\n",
       "  'hvac': 180.5102650107012,\n",
       "  'mw': 7.431757078687407},\n",
       " 18000: {'dr': 157.87068188760301,\n",
       "  'dw': 11.025061503524313,\n",
       "  'fridge': 44.342206117420083,\n",
       "  'hvac': 181.6346876079449,\n",
       "  'mw': 7.461338231840756},\n",
       " 19000: {'dr': 157.75774157997719,\n",
       "  'dw': 11.024616647986397,\n",
       "  'fridge': 43.828741595919006,\n",
       "  'hvac': 181.67620563579649,\n",
       "  'mw': 7.479609761449673},\n",
       " 20000: {'dr': 159.08375126381898,\n",
       "  'dw': 11.026767597495676,\n",
       "  'fridge': 43.792015141285013,\n",
       "  'hvac': 180.38080306910783,\n",
       "  'mw': 7.4739426774765549}}"
      ]
     },
     "execution_count": 14,
     "metadata": {},
     "output_type": "execute_result"
    }
   ],
   "source": [
    "test_error"
   ]
  },
  {
   "cell_type": "code",
   "execution_count": null,
   "metadata": {
    "collapsed": true
   },
   "outputs": [],
   "source": []
  }
 ],
 "metadata": {
  "kernelspec": {
   "display_name": "Python 3",
   "language": "python",
   "name": "python3"
  },
  "language_info": {
   "codemirror_mode": {
    "name": "ipython",
    "version": 3
   },
   "file_extension": ".py",
   "mimetype": "text/x-python",
   "name": "python",
   "nbconvert_exporter": "python",
   "pygments_lexer": "ipython3",
   "version": "3.6.3"
  }
 },
 "nbformat": 4,
 "nbformat_minor": 2
}
