{
 "cells": [
  {
   "cell_type": "code",
   "execution_count": 2,
   "metadata": {
    "collapsed": true
   },
   "outputs": [],
   "source": [
    "import sys\n",
    "import numpy as np\n",
    "import pandas as pd\n",
    "sys.path.append(\"../code/\")"
   ]
  },
  {
   "cell_type": "code",
   "execution_count": 3,
   "metadata": {
    "collapsed": true
   },
   "outputs": [],
   "source": [
    "from dataloader import APPLIANCE_ORDER, get_train_test\n",
    "from ddsc import SparseCoding, reshape_for_sc"
   ]
  },
  {
   "cell_type": "code",
   "execution_count": 4,
   "metadata": {
    "collapsed": true
   },
   "outputs": [],
   "source": [
    "num_folds = 5"
   ]
  },
  {
   "cell_type": "code",
   "execution_count": 5,
   "metadata": {},
   "outputs": [
    {
     "ename": "NameError",
     "evalue": "name 'train' is not defined",
     "output_type": "error",
     "traceback": [
      "\u001b[0;31m---------------------------------------------------------------------------\u001b[0m",
      "\u001b[0;31mNameError\u001b[0m                                 Traceback (most recent call last)",
      "\u001b[0;32m<ipython-input-5-d171896fd8e3>\u001b[0m in \u001b[0;36m<module>\u001b[0;34m()\u001b[0m\n\u001b[1;32m      1\u001b[0m \u001b[0mappliance\u001b[0m\u001b[0;34m,\u001b[0m \u001b[0mday\u001b[0m\u001b[0;34m=\u001b[0m\u001b[0;36m1\u001b[0m\u001b[0;34m,\u001b[0m \u001b[0;36m2\u001b[0m\u001b[0;34m\u001b[0m\u001b[0m\n\u001b[0;32m----> 2\u001b[0;31m \u001b[0mtrain\u001b[0m\u001b[0;34m[\u001b[0m\u001b[0;34m:\u001b[0m\u001b[0;34m,\u001b[0m \u001b[0mappliance\u001b[0m\u001b[0;34m+\u001b[0m\u001b[0;36m1\u001b[0m\u001b[0;34m,\u001b[0m \u001b[0mday\u001b[0m\u001b[0;34m,\u001b[0m \u001b[0;34m:\u001b[0m\u001b[0;34m]\u001b[0m\u001b[0;34m.\u001b[0m\u001b[0mmean\u001b[0m\u001b[0;34m(\u001b[0m\u001b[0maxis\u001b[0m\u001b[0;34m=\u001b[0m\u001b[0;36m0\u001b[0m\u001b[0;34m)\u001b[0m\u001b[0;34m\u001b[0m\u001b[0m\n\u001b[0m",
      "\u001b[0;31mNameError\u001b[0m: name 'train' is not defined"
     ]
    }
   ],
   "source": [
    "appliance, day=1, 2\n",
    "train[:, appliance+1, day, :].mean(axis=0)"
   ]
  },
  {
   "cell_type": "code",
   "execution_count": 15,
   "metadata": {
    "collapsed": true
   },
   "outputs": [],
   "source": [
    "def mean_predictions(dataset):\n",
    "    out = []\n",
    "    for cur_fold in range(5):\n",
    "        train, test = get_train_test(dataset, num_folds=num_folds, fold_num=cur_fold)\n",
    "        pred = np.zeros_like(test[:, 1:, :, :])\n",
    "        print(pred.shape)\n",
    "        \n",
    "        for appliance in range(test.shape[1]-1):\n",
    "            for day in range(test.shape[2]):\n",
    "                pred[:, appliance, day, :] = train[:, appliance+1, day, :].mean(axis=0)\n",
    "        print(pred[0, 1, 0, 20])\n",
    "        out.append(pred)\n",
    "    return np.concatenate(out)\n"
   ]
  },
  {
   "cell_type": "code",
   "execution_count": 16,
   "metadata": {},
   "outputs": [
    {
     "name": "stdout",
     "output_type": "stream",
     "text": [
      "(14, 5, 112, 24)\n",
      "98.7793213173\n",
      "(14, 5, 112, 24)\n",
      "100.113271572\n",
      "(14, 5, 112, 24)\n",
      "94.5120377011\n",
      "(13, 5, 112, 24)\n",
      "95.5896971269\n",
      "(13, 5, 112, 24)\n",
      "102.55484855\n"
     ]
    }
   ],
   "source": [
    "tensor = np.load('../2015-5appliances-true-agg.npy')\n",
    "# tensor = np.load('../2015-5appliances.numpy.npy')\n",
    "from sklearn.metrics import mean_absolute_error\n",
    "\n",
    "dataset = 2\n",
    "err_mean ={}\n",
    "gt = tensor[:, 1:, :, :]\n",
    "pred = mean_predictions(dataset)\n",
    "# Clamping prediction to aggregate\n",
    "pred = np.minimum(pred, tensor[:, 0:1, :,:])\n",
    "err_mean = {APPLIANCE_ORDER[i+1]:mean_absolute_error(pred[:, i,:,:].flatten(), \n",
    "                                                                       gt[:, i, :, :].flatten()) for i in range(pred.shape[1])}"
   ]
  },
  {
   "cell_type": "code",
   "execution_count": 8,
   "metadata": {
    "collapsed": true
   },
   "outputs": [],
   "source": [
    "np.save(\"../code/baseline/mean-pred-2.npy\", pred)"
   ]
  },
  {
   "cell_type": "code",
   "execution_count": 8,
   "metadata": {},
   "outputs": [
    {
     "data": {
      "text/plain": [
       "dr        120.872076\n",
       "dw         28.659566\n",
       "fridge     30.387217\n",
       "hvac      444.765293\n",
       "mw         11.225810\n",
       "dtype: float64"
      ]
     },
     "execution_count": 8,
     "metadata": {},
     "output_type": "execute_result"
    }
   ],
   "source": [
    "pd.Series(err_mean)"
   ]
  }
 ],
 "metadata": {
  "kernelspec": {
   "display_name": "Python 3",
   "language": "python",
   "name": "python3"
  },
  "language_info": {
   "codemirror_mode": {
    "name": "ipython",
    "version": 3
   },
   "file_extension": ".py",
   "mimetype": "text/x-python",
   "name": "python",
   "nbconvert_exporter": "python",
   "pygments_lexer": "ipython3",
   "version": "3.6.3"
  }
 },
 "nbformat": 4,
 "nbformat_minor": 2
}
