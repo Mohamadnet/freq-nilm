{
 "cells": [
  {
   "cell_type": "code",
   "execution_count": 2,
   "metadata": {
    "collapsed": true
   },
   "outputs": [],
   "source": [
    "import numpy as np\n",
    "import pandas as pd"
   ]
  },
  {
   "cell_type": "code",
   "execution_count": 4,
   "metadata": {
    "collapsed": true
   },
   "outputs": [],
   "source": [
    "k = np.load(\"../../baseline/rnn-nested-cv/2/0/valid-error-0-2-GRU-100-1-False-0.01-1000-0.0-['dr'].npy\")"
   ]
  },
  {
   "cell_type": "code",
   "execution_count": 4,
   "metadata": {},
   "outputs": [
    {
     "ename": "FileNotFoundError",
     "evalue": "[Errno 2] No such file or directory: \"../../baseline/rnn-nested-cv/3/0/valid-error-0-3-GRU-20-1-True-0.01-1000-0.0-['hvac'].npy\"",
     "output_type": "error",
     "traceback": [
      "\u001b[0;31m---------------------------------------------------------------------------\u001b[0m",
      "\u001b[0;31mFileNotFoundError\u001b[0m                         Traceback (most recent call last)",
      "\u001b[0;32m<ipython-input-4-0ed196947f0b>\u001b[0m in \u001b[0;36m<module>\u001b[0;34m()\u001b[0m\n\u001b[1;32m     25\u001b[0m     \u001b[0;31m#                             print(filename)\u001b[0m\u001b[0;34m\u001b[0m\u001b[0;34m\u001b[0m\u001b[0m\n\u001b[1;32m     26\u001b[0m                                 \u001b[0mfull_path\u001b[0m \u001b[0;34m=\u001b[0m \u001b[0mdirectory\u001b[0m \u001b[0;34m+\u001b[0m \u001b[0mfilename\u001b[0m\u001b[0;34m\u001b[0m\u001b[0m\n\u001b[0;32m---> 27\u001b[0;31m                                 \u001b[0mvalid_error\u001b[0m\u001b[0;34m[\u001b[0m\u001b[0mappliance\u001b[0m\u001b[0;34m]\u001b[0m\u001b[0;34m[\u001b[0m\u001b[0mfold_num\u001b[0m\u001b[0;34m]\u001b[0m\u001b[0;34m[\u001b[0m\u001b[0mcell_type\u001b[0m\u001b[0;34m]\u001b[0m\u001b[0;34m[\u001b[0m\u001b[0mhidden_size\u001b[0m\u001b[0;34m]\u001b[0m\u001b[0;34m[\u001b[0m\u001b[0mnum_layers\u001b[0m\u001b[0;34m]\u001b[0m\u001b[0;34m[\u001b[0m\u001b[0mbidirectional\u001b[0m\u001b[0;34m]\u001b[0m\u001b[0;34m[\u001b[0m\u001b[0mlr\u001b[0m\u001b[0;34m]\u001b[0m\u001b[0;34m[\u001b[0m\u001b[0miters\u001b[0m\u001b[0;34m]\u001b[0m \u001b[0;34m=\u001b[0m \u001b[0mnp\u001b[0m\u001b[0;34m.\u001b[0m\u001b[0mload\u001b[0m\u001b[0;34m(\u001b[0m\u001b[0mfull_path\u001b[0m\u001b[0;34m)\u001b[0m\u001b[0;34m.\u001b[0m\u001b[0mitem\u001b[0m\u001b[0;34m(\u001b[0m\u001b[0;34m)\u001b[0m\u001b[0;34m[\u001b[0m\u001b[0mappliance\u001b[0m\u001b[0;34m]\u001b[0m\u001b[0;34m\u001b[0m\u001b[0m\n\u001b[0m",
      "\u001b[0;32m~/anaconda3/lib/python3.6/site-packages/numpy/lib/npyio.py\u001b[0m in \u001b[0;36mload\u001b[0;34m(file, mmap_mode, allow_pickle, fix_imports, encoding)\u001b[0m\n\u001b[1;32m    368\u001b[0m     \u001b[0mown_fid\u001b[0m \u001b[0;34m=\u001b[0m \u001b[0;32mFalse\u001b[0m\u001b[0;34m\u001b[0m\u001b[0m\n\u001b[1;32m    369\u001b[0m     \u001b[0;32mif\u001b[0m \u001b[0misinstance\u001b[0m\u001b[0;34m(\u001b[0m\u001b[0mfile\u001b[0m\u001b[0;34m,\u001b[0m \u001b[0mbasestring\u001b[0m\u001b[0;34m)\u001b[0m\u001b[0;34m:\u001b[0m\u001b[0;34m\u001b[0m\u001b[0m\n\u001b[0;32m--> 370\u001b[0;31m         \u001b[0mfid\u001b[0m \u001b[0;34m=\u001b[0m \u001b[0mopen\u001b[0m\u001b[0;34m(\u001b[0m\u001b[0mfile\u001b[0m\u001b[0;34m,\u001b[0m \u001b[0;34m\"rb\"\u001b[0m\u001b[0;34m)\u001b[0m\u001b[0;34m\u001b[0m\u001b[0m\n\u001b[0m\u001b[1;32m    371\u001b[0m         \u001b[0mown_fid\u001b[0m \u001b[0;34m=\u001b[0m \u001b[0;32mTrue\u001b[0m\u001b[0;34m\u001b[0m\u001b[0m\n\u001b[1;32m    372\u001b[0m     \u001b[0;32melif\u001b[0m \u001b[0mis_pathlib_path\u001b[0m\u001b[0;34m(\u001b[0m\u001b[0mfile\u001b[0m\u001b[0;34m)\u001b[0m\u001b[0;34m:\u001b[0m\u001b[0;34m\u001b[0m\u001b[0m\n",
      "\u001b[0;31mFileNotFoundError\u001b[0m: [Errno 2] No such file or directory: \"../../baseline/rnn-nested-cv/3/0/valid-error-0-3-GRU-20-1-True-0.01-1000-0.0-['hvac'].npy\""
     ]
    }
   ],
   "source": [
    "valid_error = {}\n",
    "for appliance in ['hvac', 'fridge', 'dr', 'dw', 'mw']:\n",
    "    valid_error[appliance] = {}\n",
    "    for fold_num in range(5):\n",
    "        valid_error[appliance][fold_num] = {}\n",
    "\n",
    "        for cell_type  in ['GRU', 'LSTM', 'RNN']:\n",
    "            valid_error[appliance][fold_num][cell_type] = {}\n",
    "            for hidden_size in [20, 50, 100]:\n",
    "                valid_error[appliance][fold_num][cell_type][hidden_size] = {}\n",
    "                for num_layers in range(1, 5):\n",
    "                    valid_error[appliance][fold_num][cell_type][hidden_size][num_layers] = {}\n",
    "                    for bidirectional in [True, False]:\n",
    "                        valid_error[appliance][fold_num][cell_type][hidden_size][num_layers][bidirectional] = {}\n",
    "                        for lr in [0.01, 0.1, 1.0]:\n",
    "                            valid_error[appliance][fold_num][cell_type][hidden_size][num_layers][bidirectional][lr] = {}\n",
    "                            for iters in [1000, 2000, 3000]:\n",
    "                                filename = \"valid-error-{}-3-{}-{}-{}-{}-{}-{}-0.0-[\\'{}\\'].npy\".format(fold_num, \n",
    "                                                                                                    cell_type,\n",
    "                                                                                                   hidden_size,\n",
    "                                                                                                   num_layers,\n",
    "                                                                                                   bidirectional,\n",
    "                                                                                                   lr, iters, appliance)\n",
    "                                directory = \"../../baseline/rnn-nested-cv/3/{}/\".format(fold_num)\n",
    "    #                             print(filename)\n",
    "                                full_path = directory + filename\n",
    "                                valid_error[appliance][fold_num][cell_type][hidden_size][num_layers][bidirectional][lr][iters] = np.load(full_path).item()[appliance]\n"
   ]
  },
  {
   "cell_type": "code",
   "execution_count": null,
   "metadata": {
    "collapsed": true
   },
   "outputs": [],
   "source": []
  },
  {
   "cell_type": "code",
   "execution_count": 29,
   "metadata": {},
   "outputs": [
    {
     "data": {
      "text/plain": [
       "612.27177617977202"
      ]
     },
     "execution_count": 29,
     "metadata": {},
     "output_type": "execute_result"
    }
   ],
   "source": [
    "valid_error['hvac'][0]['GRU'][20][1][False][0.01][1000]"
   ]
  },
  {
   "cell_type": "code",
   "execution_count": 3,
   "metadata": {
    "collapsed": true
   },
   "outputs": [],
   "source": [
    "best_param = {}\n",
    "best_error = {}\n",
    "for appliance in ['hvac', 'fridge', 'dr', 'dw', 'mw']:\n",
    "    best_param[appliance] = {}\n",
    "    best_error[appliance] = {}\n",
    "    for fold_num in range(5):\n",
    "        best_param[appliance][fold_num] = {}\n",
    "        best_error[appliance][fold_num] = np.Inf\n",
    "        for cell_type  in ['GRU', 'LSTM', 'RNN']:\n",
    "            for hidden_size in [20, 50, 100]:\n",
    "                for num_layers in range(1, 5):\n",
    "                    for bidirectional in [True, False]:\n",
    "                        for lr in [0.01, 0.1, 1.0]:\n",
    "                            for iters in [1000, 2000, 3000]:\n",
    "                                cur_error = valid_error[appliance][fold_num][cell_type][hidden_size][num_layers][bidirectional][lr][iters]\n",
    "                                if best_error[appliance][fold_num] > cur_error:\n",
    "                                    best_error[appliance][fold_num] = cur_error\n",
    "                                    best_param[appliance][fold_num]['cell_type'] = cell_type\n",
    "                                    best_param[appliance][fold_num]['hidden_size'] = hidden_size\n",
    "                                    best_param[appliance][fold_num]['num_layers'] = num_layers\n",
    "                                    best_param[appliance][fold_num]['bidirectional'] = bidirectional\n",
    "                                    best_param[appliance][fold_num]['lr'] = lr\n",
    "                                    best_param[appliance][fold_num]['iters'] = iters"
   ]
  },
  {
   "cell_type": "code",
   "execution_count": 5,
   "metadata": {
    "collapsed": true
   },
   "outputs": [],
   "source": [
    "np.save(\"../code/baseline/result/rnn-individual-param-2.npy\", best_param)"
   ]
  },
  {
   "cell_type": "code",
   "execution_count": 44,
   "metadata": {},
   "outputs": [
    {
     "name": "stdout",
     "output_type": "stream",
     "text": [
      "python rnn-nested-cv-individual.py 2 LSTM 50 2 True 0.01 3000 0 0 hvac\n",
      "python rnn-nested-cv-individual.py 2 LSTM 100 2 True 0.01 2000 0 1 hvac\n",
      "python rnn-nested-cv-individual.py 2 LSTM 100 2 True 0.01 3000 0 2 hvac\n",
      "python rnn-nested-cv-individual.py 2 LSTM 100 2 True 0.01 3000 0 3 hvac\n",
      "python rnn-nested-cv-individual.py 2 LSTM 100 2 True 0.01 3000 0 4 hvac\n",
      "python rnn-nested-cv-individual.py 2 GRU 100 3 True 0.01 1000 0 0 fridge\n",
      "python rnn-nested-cv-individual.py 2 LSTM 100 1 True 0.01 3000 0 1 fridge\n",
      "python rnn-nested-cv-individual.py 2 RNN 50 2 True 0.01 2000 0 2 fridge\n",
      "python rnn-nested-cv-individual.py 2 LSTM 20 2 True 0.01 3000 0 3 fridge\n",
      "python rnn-nested-cv-individual.py 2 LSTM 20 4 True 0.01 1000 0 4 fridge\n",
      "python rnn-nested-cv-individual.py 2 GRU 20 1 True 0.1 3000 0 0 dr\n",
      "python rnn-nested-cv-individual.py 2 GRU 100 2 True 0.01 2000 0 1 dr\n",
      "python rnn-nested-cv-individual.py 2 RNN 50 2 True 0.01 3000 0 2 dr\n",
      "python rnn-nested-cv-individual.py 2 GRU 20 1 True 0.1 2000 0 3 dr\n",
      "python rnn-nested-cv-individual.py 2 GRU 20 3 True 0.01 3000 0 4 dr\n",
      "python rnn-nested-cv-individual.py 2 GRU 20 1 True 0.01 1000 0 0 dw\n",
      "python rnn-nested-cv-individual.py 2 GRU 20 1 True 0.01 1000 0 1 dw\n",
      "python rnn-nested-cv-individual.py 2 GRU 20 1 True 0.1 2000 0 2 dw\n",
      "python rnn-nested-cv-individual.py 2 GRU 20 1 True 0.01 2000 0 3 dw\n",
      "python rnn-nested-cv-individual.py 2 GRU 20 1 True 0.01 2000 0 4 dw\n",
      "python rnn-nested-cv-individual.py 2 LSTM 50 4 True 0.01 2000 0 0 mw\n",
      "python rnn-nested-cv-individual.py 2 LSTM 50 3 True 0.01 1000 0 1 mw\n",
      "python rnn-nested-cv-individual.py 2 GRU 100 4 True 0.01 1000 0 2 mw\n",
      "python rnn-nested-cv-individual.py 2 GRU 20 4 True 0.01 1000 0 3 mw\n",
      "python rnn-nested-cv-individual.py 2 LSTM 50 3 True 0.01 1000 0 4 mw\n"
     ]
    }
   ],
   "source": [
    "for appliance in ['hvac', 'fridge', 'dr', 'dw', 'mw']:\n",
    "    for fold_num in range(5):\n",
    "        cell_type = best_param[appliance][fold_num]['cell_type'] \n",
    "        hidden_size = best_param[appliance][fold_num]['hidden_size'] \n",
    "        num_layers = best_param[appliance][fold_num]['num_layers'] \n",
    "        bidirectional = best_param[appliance][fold_num]['bidirectional'] \n",
    "        lr = best_param[appliance][fold_num]['lr'] \n",
    "        iters = best_param[appliance][fold_num]['iters'] \n",
    "        print(\"python rnn-nested-cv-individual.py 2 {} {} {} {} {} {} 0 {} {}\".format(cell_type, hidden_size, num_layers, bidirectional, lr, iters, fold_num, appliance))"
   ]
  },
  {
   "cell_type": "code",
   "execution_count": 51,
   "metadata": {
    "collapsed": true
   },
   "outputs": [],
   "source": [
    "test_error = {}\n",
    "for appliance in ['hvac', 'fridge', 'dr', 'dw', 'mw']:\n",
    "    test_error[appliance] = {}\n",
    "    for fold_num in range(5):\n",
    "        cell_type = best_param[appliance][fold_num]['cell_type'] \n",
    "        hidden_size = best_param[appliance][fold_num]['hidden_size'] \n",
    "        num_layers = best_param[appliance][fold_num]['num_layers'] \n",
    "        bidirectional = best_param[appliance][fold_num]['bidirectional'] \n",
    "        lr = best_param[appliance][fold_num]['lr'] \n",
    "        iters = best_param[appliance][fold_num]['iters']\n",
    "        \n",
    "        directory = \"../../baseline/rnn-individual/2/{}/{}/{}/{}/{}/{}/{}/0.0/\".format(fold_num, cell_type,\n",
    "                                                                                                hidden_size,\n",
    "                                                                                                num_layers,\n",
    "                                                                                                bidirectional,\n",
    "                                                                                                lr, iters)\n",
    "        filename = \"test-error-{}-2-{}-{}-{}-{}-{}-{}-0.0-[\\'{}\\'].npy\".format(fold_num, cell_type, hidden_size, num_layers,\n",
    "                                                         bidirectional, lr, iters, appliance)\n",
    "        full_path = directory + filename\n",
    "        test_error[appliance][fold_num] = np.load(full_path).item()[iters][appliance]"
   ]
  },
  {
   "cell_type": "code",
   "execution_count": 54,
   "metadata": {},
   "outputs": [
    {
     "data": {
      "text/html": [
       "<div>\n",
       "<style scoped>\n",
       "    .dataframe tbody tr th:only-of-type {\n",
       "        vertical-align: middle;\n",
       "    }\n",
       "\n",
       "    .dataframe tbody tr th {\n",
       "        vertical-align: top;\n",
       "    }\n",
       "\n",
       "    .dataframe thead th {\n",
       "        text-align: right;\n",
       "    }\n",
       "</style>\n",
       "<table border=\"1\" class=\"dataframe\">\n",
       "  <thead>\n",
       "    <tr style=\"text-align: right;\">\n",
       "      <th></th>\n",
       "      <th>0</th>\n",
       "      <th>1</th>\n",
       "      <th>2</th>\n",
       "      <th>3</th>\n",
       "      <th>4</th>\n",
       "    </tr>\n",
       "  </thead>\n",
       "  <tbody>\n",
       "    <tr>\n",
       "      <th>dr</th>\n",
       "      <td>51.326346</td>\n",
       "      <td>64.961606</td>\n",
       "      <td>71.062742</td>\n",
       "      <td>83.048024</td>\n",
       "      <td>65.399230</td>\n",
       "    </tr>\n",
       "    <tr>\n",
       "      <th>dw</th>\n",
       "      <td>11.061491</td>\n",
       "      <td>16.492105</td>\n",
       "      <td>19.615092</td>\n",
       "      <td>20.592083</td>\n",
       "      <td>9.510532</td>\n",
       "    </tr>\n",
       "    <tr>\n",
       "      <th>fridge</th>\n",
       "      <td>27.452612</td>\n",
       "      <td>34.600016</td>\n",
       "      <td>25.526234</td>\n",
       "      <td>31.120937</td>\n",
       "      <td>29.966619</td>\n",
       "    </tr>\n",
       "    <tr>\n",
       "      <th>hvac</th>\n",
       "      <td>418.030461</td>\n",
       "      <td>404.558100</td>\n",
       "      <td>352.350371</td>\n",
       "      <td>544.693777</td>\n",
       "      <td>477.629806</td>\n",
       "    </tr>\n",
       "    <tr>\n",
       "      <th>mw</th>\n",
       "      <td>6.766763</td>\n",
       "      <td>10.059784</td>\n",
       "      <td>6.491012</td>\n",
       "      <td>5.547876</td>\n",
       "      <td>12.538048</td>\n",
       "    </tr>\n",
       "  </tbody>\n",
       "</table>\n",
       "</div>"
      ],
      "text/plain": [
       "                 0           1           2           3           4\n",
       "dr       51.326346   64.961606   71.062742   83.048024   65.399230\n",
       "dw       11.061491   16.492105   19.615092   20.592083    9.510532\n",
       "fridge   27.452612   34.600016   25.526234   31.120937   29.966619\n",
       "hvac    418.030461  404.558100  352.350371  544.693777  477.629806\n",
       "mw        6.766763   10.059784    6.491012    5.547876   12.538048"
      ]
     },
     "execution_count": 54,
     "metadata": {},
     "output_type": "execute_result"
    }
   ],
   "source": [
    "pd.DataFrame(test_error).T"
   ]
  }
 ],
 "metadata": {
  "kernelspec": {
   "display_name": "Python 3",
   "language": "python",
   "name": "python3"
  },
  "language_info": {
   "codemirror_mode": {
    "name": "ipython",
    "version": 3
   },
   "file_extension": ".py",
   "mimetype": "text/x-python",
   "name": "python",
   "nbconvert_exporter": "python",
   "pygments_lexer": "ipython3",
   "version": "3.6.3"
  }
 },
 "nbformat": 4,
 "nbformat_minor": 2
}
