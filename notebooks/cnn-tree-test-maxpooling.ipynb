{
 "cells": [
  {
   "cell_type": "code",
   "execution_count": 1,
   "metadata": {
    "collapsed": true
   },
   "outputs": [],
   "source": [
    "import torch\n",
    "from torch.autograd import Variable\n",
    "import numpy as np\n",
    "import torch.nn as nn\n",
    "from torchvision import datasets,transforms\n",
    "import torch.nn.functional as F\n",
    "import sys\n",
    "sys.path.append(\"../code/\")\n",
    "from dataloader import APPLIANCE_ORDER, get_train_test"
   ]
  },
  {
   "cell_type": "code",
   "execution_count": 2,
   "metadata": {
    "collapsed": true
   },
   "outputs": [],
   "source": [
    "torch.manual_seed(0)\n",
    "np.random.seed(0)\n",
    "\n",
    "class CustomCNN(nn.Module):\n",
    "    def __init__(self):\n",
    "        super(CustomCNN, self).__init__()\n",
    "        self.conv1 = nn.Conv2d(1, 20, kernel_size=5, stride=1, padding=2)\n",
    "        self.bn1 = nn.BatchNorm2d(20)\n",
    "\n",
    "        self.conv2 = nn.Conv2d(20, 16, kernel_size=3, stride=1, padding=1)\n",
    "        self.bn2 = nn.BatchNorm2d(16)\n",
    "\n",
    "        self.conv3 = nn.Conv2d(16, 64, kernel_size=7, stride=1, padding=3)\n",
    "        self.bn3 = nn.BatchNorm2d(64)\n",
    "\n",
    "        self.conv4 = nn.ConvTranspose2d(64, 16, kernel_size=7, stride=1, padding=3)\n",
    "        self.bn4 = nn.BatchNorm2d(16)\n",
    "\n",
    "        self.conv5 = nn.ConvTranspose2d(16, 6, kernel_size=3, stride=1, padding=1)\n",
    "        self.bn5 = nn.BatchNorm2d(6)\n",
    "\n",
    "        self.conv6 = nn.ConvTranspose2d(6, 1, kernel_size=5, stride=1, padding=2) \n",
    "        \n",
    "        self.maxpool = nn.MaxPool2d(kernel_size=2,return_indices=True)\n",
    "        self.avgpool = nn.AvgPool2d(kernel_size=2)\n",
    "        self.unpool = nn.MaxUnpool2d(2)\n",
    "        \n",
    "        self.act = nn.ReLU()\n",
    "        \n",
    "    # forward method\n",
    "    def forward(self, input):\n",
    "    \n",
    "        pred = self.conv1(input)\n",
    "        pred = self.bn1(self.act(pred))\n",
    "        layer1 = pred.clone()\n",
    "        \n",
    "        pred = self.conv2(pred)\n",
    "        pred = self.bn2(self.act(pred))\n",
    "        layer2 = pred.clone()\n",
    "        \n",
    "        pred = self.conv3(pred)\n",
    "        pred = self.bn3(self.act(pred))\n",
    "        \n",
    "        pred, indices = self.maxpool(pred)\n",
    "        pred = self.unpool(pred, indices)\n",
    "        maxlayer = pred.clone()\n",
    "    \n",
    "        pred = self.conv4(pred)\n",
    "        pred = self.bn4(self.act(pred))\n",
    "        \n",
    "        pred = self.conv5(pred)\n",
    "        pred = self.bn5(self.act(pred))\n",
    "        layer5 = pred.clone()\n",
    "        \n",
    "        pred = self.conv6(pred)\n",
    "        \n",
    "        return pred\n",
    "\n",
    "\n"
   ]
  },
  {
   "cell_type": "code",
   "execution_count": 3,
   "metadata": {
    "collapsed": true
   },
   "outputs": [],
   "source": [
    "class AppliancesCNN(nn.Module):\n",
    "    def __init__(self, num_appliance):\n",
    "        super(AppliancesCNN, self).__init__()\n",
    "        self.num_appliance = num_appliance\n",
    "        self.preds = {}\n",
    "        self.order = ORDER\n",
    "        for appliance in range(self.num_appliance):\n",
    "            if cuda_av:\n",
    "                setattr(self, \"Appliance_\" + str(appliance), CustomCNN().cuda())\n",
    "            else:\n",
    "                setattr(self, \"Appliance_\" + str(appliance), CustomCNN())\n",
    "\n",
    "    def forward(self, *args):\n",
    "        agg_current = args[0]\n",
    "        flag = False\n",
    "        if np.random.random() > args[1]:\n",
    "            flag = True\n",
    "        else:\n",
    "            pass\n",
    "        for appliance in range(self.num_appliance):\n",
    "            self.preds[appliance] = getattr(self, \"Appliance_\" + str(appliance))(agg_current)\n",
    "            if flag:\n",
    "                agg_current = agg_current - self.preds[appliance]\n",
    "            else:\n",
    "                agg_current = agg_current - args[2 + appliance]\n",
    "\n",
    "        return torch.cat([self.preds[a] for a in range(self.num_appliance)])"
   ]
  },
  {
   "cell_type": "code",
   "execution_count": 4,
   "metadata": {
    "collapsed": true
   },
   "outputs": [],
   "source": [
    "torch.manual_seed(0)\n",
    "num_folds = 5\n",
    "dataset = 3\n",
    "fold_num = 2\n",
    "lr = 0.1\n",
    "train, test = get_train_test(dataset, num_folds=num_folds, fold_num=fold_num)"
   ]
  },
  {
   "cell_type": "code",
   "execution_count": 5,
   "metadata": {
    "collapsed": true
   },
   "outputs": [],
   "source": [
    "valid = train[int(0.8*len(train)):].copy()\n",
    "train = train[:int(0.8 * len(train))].copy()\n",
    "\n",
    "train_aggregate = train[:, 0, :, :].reshape(train.shape[0], 1, -1, 24)\n",
    "valid_aggregate = valid[:, 0, :, :].reshape(valid.shape[0], 1, -1, 24)\n",
    "test_aggregate = test[:, 0, :, :].reshape(test.shape[0], 1, -1, 24)"
   ]
  },
  {
   "cell_type": "code",
   "execution_count": 84,
   "metadata": {
    "collapsed": true
   },
   "outputs": [],
   "source": [
    "# ORDER = ['hvac', 'dr', 'fridge', 'dw', 'mw']\n",
    "ORDER = ['dr']\n",
    "# ORDER = ['dw', 'mw', 'fridge', 'hvac', 'dr']\n",
    "cuda_av = False\n",
    "if torch.cuda.is_available():\n",
    "    cuda_av = True"
   ]
  },
  {
   "cell_type": "code",
   "execution_count": 85,
   "metadata": {},
   "outputs": [
    {
     "data": {
      "text/plain": [
       "['dr']"
      ]
     },
     "execution_count": 85,
     "metadata": {},
     "output_type": "execute_result"
    }
   ],
   "source": [
    "ORDER"
   ]
  },
  {
   "cell_type": "code",
   "execution_count": 86,
   "metadata": {
    "collapsed": true
   },
   "outputs": [],
   "source": [
    "out_train = [None for temp in range(len(ORDER))]\n",
    "for a_num, appliance in enumerate(ORDER):\n",
    "    out_train[a_num] = Variable(\n",
    "        torch.Tensor(train[:, APPLIANCE_ORDER.index(appliance), :, :].reshape((train.shape[0], 1, -1, 24))))\n",
    "    if cuda_av:\n",
    "        out_train[a_num] = out_train[a_num].cuda()\n",
    "\n",
    "out_valid = [None for temp in range(len(ORDER))]\n",
    "for a_num, appliance in enumerate(ORDER):\n",
    "    out_valid[a_num] = Variable(\n",
    "        torch.Tensor(valid[:, APPLIANCE_ORDER.index(appliance), :, :].reshape((valid.shape[0], 1, -1, 24))))\n",
    "    if cuda_av:\n",
    "        out_valid[a_num] = out_valid[a_num].cuda()\n",
    "        \n",
    "out_test = [None for temp in range(len(ORDER))]\n",
    "for a_num, appliance in enumerate(ORDER):\n",
    "    out_test[a_num] = Variable(\n",
    "        torch.Tensor(test[:, APPLIANCE_ORDER.index(appliance), :, :].reshape((test.shape[0], 1, -1, 24))))\n",
    "    if cuda_av:\n",
    "        out_test[a_num] = out_test[a_num].cuda()"
   ]
  },
  {
   "cell_type": "code",
   "execution_count": 87,
   "metadata": {
    "collapsed": true
   },
   "outputs": [],
   "source": [
    "loss_func = nn.L1Loss()\n",
    "model = AppliancesCNN(len(ORDER))\n",
    "optimizer = torch.optim.Adam(model.parameters(), lr=lr)\n",
    "optimizer = torch.optim.Adam(model.parameters(), lr=lr)\n",
    "\n",
    "if cuda_av:\n",
    "    model = model.cuda()\n",
    "    loss_func = loss_func.cuda()"
   ]
  },
  {
   "cell_type": "code",
   "execution_count": 88,
   "metadata": {
    "collapsed": true
   },
   "outputs": [],
   "source": [
    "inp = Variable(torch.Tensor(train_aggregate).type(torch.FloatTensor),\n",
    "               requires_grad=True)\n",
    "\n",
    "inp = Variable(torch.Tensor(train_aggregate), requires_grad=False)\n",
    "if cuda_av:\n",
    "    inp = inp.cuda()\n",
    "\n",
    "valid_inp = Variable(torch.Tensor(valid_aggregate), requires_grad=False)\n",
    "if cuda_av:\n",
    "    valid_inp = valid_inp.cuda()\n",
    "\n",
    "test_inp = Variable(torch.Tensor(test_aggregate), requires_grad=False)\n",
    "if cuda_av:\n",
    "    test_inp = test_inp.cuda()\n",
    "\n",
    "valid_pred = {}\n",
    "train_pred = {}\n",
    "test_pred = {}\n",
    "test_losses = {}\n",
    "valid_losses = {}"
   ]
  },
  {
   "cell_type": "code",
   "execution_count": 89,
   "metadata": {},
   "outputs": [
    {
     "data": {
      "text/plain": [
       "(11, 1, 112, 24)"
      ]
     },
     "execution_count": 89,
     "metadata": {},
     "output_type": "execute_result"
    }
   ],
   "source": [
    "valid_aggregate.shape"
   ]
  },
  {
   "cell_type": "code",
   "execution_count": 90,
   "metadata": {},
   "outputs": [
    {
     "ename": "RuntimeError",
     "evalue": "cuda runtime error (2) : out of memory at /opt/conda/conda-bld/pytorch_1512386481460/work/torch/lib/THC/THCTensorCopy.cu:204",
     "output_type": "error",
     "traceback": [
      "\u001b[0;31m---------------------------------------------------------------------------\u001b[0m",
      "\u001b[0;31mRuntimeError\u001b[0m                              Traceback (most recent call last)",
      "\u001b[0;32m<ipython-input-90-7bbd940ec90c>\u001b[0m in \u001b[0;36m<module>\u001b[0;34m()\u001b[0m\n\u001b[0;32m----> 1\u001b[0;31m \u001b[0mvalid_out\u001b[0m \u001b[0;34m=\u001b[0m \u001b[0mtorch\u001b[0m\u001b[0;34m.\u001b[0m\u001b[0mcat\u001b[0m\u001b[0;34m(\u001b[0m\u001b[0;34m[\u001b[0m\u001b[0mout_valid\u001b[0m\u001b[0;34m[\u001b[0m\u001b[0mappliance_num\u001b[0m\u001b[0;34m]\u001b[0m \u001b[0;32mfor\u001b[0m \u001b[0mappliance_num\u001b[0m\u001b[0;34m,\u001b[0m \u001b[0mappliance\u001b[0m \u001b[0;32min\u001b[0m \u001b[0menumerate\u001b[0m\u001b[0;34m(\u001b[0m\u001b[0mORDER\u001b[0m\u001b[0;34m)\u001b[0m\u001b[0;34m]\u001b[0m\u001b[0;34m)\u001b[0m\u001b[0;34m\u001b[0m\u001b[0m\n\u001b[0m\u001b[1;32m      2\u001b[0m \u001b[0mtest_out\u001b[0m \u001b[0;34m=\u001b[0m \u001b[0mtorch\u001b[0m\u001b[0;34m.\u001b[0m\u001b[0mcat\u001b[0m\u001b[0;34m(\u001b[0m\u001b[0;34m[\u001b[0m\u001b[0mout_test\u001b[0m\u001b[0;34m[\u001b[0m\u001b[0mappliance_num\u001b[0m\u001b[0;34m]\u001b[0m \u001b[0;32mfor\u001b[0m \u001b[0mappliance_num\u001b[0m\u001b[0;34m,\u001b[0m \u001b[0mappliance\u001b[0m \u001b[0;32min\u001b[0m \u001b[0menumerate\u001b[0m\u001b[0;34m(\u001b[0m\u001b[0mORDER\u001b[0m\u001b[0;34m)\u001b[0m\u001b[0;34m]\u001b[0m\u001b[0;34m)\u001b[0m\u001b[0;34m\u001b[0m\u001b[0m\n\u001b[1;32m      3\u001b[0m \u001b[0mtrain_out\u001b[0m \u001b[0;34m=\u001b[0m \u001b[0mtorch\u001b[0m\u001b[0;34m.\u001b[0m\u001b[0mcat\u001b[0m\u001b[0;34m(\u001b[0m\u001b[0;34m[\u001b[0m\u001b[0mout_train\u001b[0m\u001b[0;34m[\u001b[0m\u001b[0mappliance_num\u001b[0m\u001b[0;34m]\u001b[0m \u001b[0;32mfor\u001b[0m \u001b[0mappliance_num\u001b[0m\u001b[0;34m,\u001b[0m \u001b[0mappliance\u001b[0m \u001b[0;32min\u001b[0m \u001b[0menumerate\u001b[0m\u001b[0;34m(\u001b[0m\u001b[0mORDER\u001b[0m\u001b[0;34m)\u001b[0m\u001b[0;34m]\u001b[0m\u001b[0;34m)\u001b[0m\u001b[0;34m\u001b[0m\u001b[0m\n",
      "\u001b[0;31mRuntimeError\u001b[0m: cuda runtime error (2) : out of memory at /opt/conda/conda-bld/pytorch_1512386481460/work/torch/lib/THC/THCTensorCopy.cu:204"
     ]
    }
   ],
   "source": [
    "valid_out = torch.cat([out_valid[appliance_num] for appliance_num, appliance in enumerate(ORDER)])\n",
    "test_out = torch.cat([out_test[appliance_num] for appliance_num, appliance in enumerate(ORDER)])\n",
    "train_out = torch.cat([out_train[appliance_num] for appliance_num, appliance in enumerate(ORDER)])"
   ]
  },
  {
   "cell_type": "code",
   "execution_count": 91,
   "metadata": {},
   "outputs": [
    {
     "ename": "RuntimeError",
     "evalue": "input and target have different number of elements: input[43 x 1 x 112 x 24] has 115584 elements, while target[215 x 1 x 112 x 24] has 577920 elements at /opt/conda/conda-bld/pytorch_1512386481460/work/torch/lib/THCUNN/generic/AbsCriterion.cu:15",
     "output_type": "error",
     "traceback": [
      "\u001b[0;31m---------------------------------------------------------------------------\u001b[0m",
      "\u001b[0;31mRuntimeError\u001b[0m                              Traceback (most recent call last)",
      "\u001b[0;32m<ipython-input-91-5f1cd0aa7f7a>\u001b[0m in \u001b[0;36m<module>\u001b[0;34m()\u001b[0m\n\u001b[1;32m     14\u001b[0m \u001b[0;34m\u001b[0m\u001b[0m\n\u001b[1;32m     15\u001b[0m     \u001b[0moptimizer\u001b[0m\u001b[0;34m.\u001b[0m\u001b[0mzero_grad\u001b[0m\u001b[0;34m(\u001b[0m\u001b[0;34m)\u001b[0m\u001b[0;34m\u001b[0m\u001b[0m\n\u001b[0;32m---> 16\u001b[0;31m     \u001b[0mloss\u001b[0m \u001b[0;34m=\u001b[0m \u001b[0mloss_func\u001b[0m\u001b[0;34m(\u001b[0m\u001b[0mpred\u001b[0m\u001b[0;34m,\u001b[0m \u001b[0mtrain_out\u001b[0m\u001b[0;34m)\u001b[0m\u001b[0;34m\u001b[0m\u001b[0m\n\u001b[0m\u001b[1;32m     17\u001b[0m     \u001b[0;32mif\u001b[0m \u001b[0mt\u001b[0m \u001b[0;34m%\u001b[0m \u001b[0;36m200\u001b[0m \u001b[0;34m==\u001b[0m \u001b[0;36m0\u001b[0m\u001b[0;34m:\u001b[0m\u001b[0;34m\u001b[0m\u001b[0m\n\u001b[1;32m     18\u001b[0m \u001b[0;34m\u001b[0m\u001b[0m\n",
      "\u001b[0;32m~/anaconda3/lib/python3.6/site-packages/torch/nn/modules/module.py\u001b[0m in \u001b[0;36m__call__\u001b[0;34m(self, *input, **kwargs)\u001b[0m\n\u001b[1;32m    323\u001b[0m         \u001b[0;32mfor\u001b[0m \u001b[0mhook\u001b[0m \u001b[0;32min\u001b[0m \u001b[0mself\u001b[0m\u001b[0;34m.\u001b[0m\u001b[0m_forward_pre_hooks\u001b[0m\u001b[0;34m.\u001b[0m\u001b[0mvalues\u001b[0m\u001b[0;34m(\u001b[0m\u001b[0;34m)\u001b[0m\u001b[0;34m:\u001b[0m\u001b[0;34m\u001b[0m\u001b[0m\n\u001b[1;32m    324\u001b[0m             \u001b[0mhook\u001b[0m\u001b[0;34m(\u001b[0m\u001b[0mself\u001b[0m\u001b[0;34m,\u001b[0m \u001b[0minput\u001b[0m\u001b[0;34m)\u001b[0m\u001b[0;34m\u001b[0m\u001b[0m\n\u001b[0;32m--> 325\u001b[0;31m         \u001b[0mresult\u001b[0m \u001b[0;34m=\u001b[0m \u001b[0mself\u001b[0m\u001b[0;34m.\u001b[0m\u001b[0mforward\u001b[0m\u001b[0;34m(\u001b[0m\u001b[0;34m*\u001b[0m\u001b[0minput\u001b[0m\u001b[0;34m,\u001b[0m \u001b[0;34m**\u001b[0m\u001b[0mkwargs\u001b[0m\u001b[0;34m)\u001b[0m\u001b[0;34m\u001b[0m\u001b[0m\n\u001b[0m\u001b[1;32m    326\u001b[0m         \u001b[0;32mfor\u001b[0m \u001b[0mhook\u001b[0m \u001b[0;32min\u001b[0m \u001b[0mself\u001b[0m\u001b[0;34m.\u001b[0m\u001b[0m_forward_hooks\u001b[0m\u001b[0;34m.\u001b[0m\u001b[0mvalues\u001b[0m\u001b[0;34m(\u001b[0m\u001b[0;34m)\u001b[0m\u001b[0;34m:\u001b[0m\u001b[0;34m\u001b[0m\u001b[0m\n\u001b[1;32m    327\u001b[0m             \u001b[0mhook_result\u001b[0m \u001b[0;34m=\u001b[0m \u001b[0mhook\u001b[0m\u001b[0;34m(\u001b[0m\u001b[0mself\u001b[0m\u001b[0;34m,\u001b[0m \u001b[0minput\u001b[0m\u001b[0;34m,\u001b[0m \u001b[0mresult\u001b[0m\u001b[0;34m)\u001b[0m\u001b[0;34m\u001b[0m\u001b[0m\n",
      "\u001b[0;32m~/anaconda3/lib/python3.6/site-packages/torch/nn/modules/loss.py\u001b[0m in \u001b[0;36mforward\u001b[0;34m(self, input, target)\u001b[0m\n\u001b[1;32m     70\u001b[0m         \u001b[0m_assert_no_grad\u001b[0m\u001b[0;34m(\u001b[0m\u001b[0mtarget\u001b[0m\u001b[0;34m)\u001b[0m\u001b[0;34m\u001b[0m\u001b[0m\n\u001b[1;32m     71\u001b[0m         return F.l1_loss(input, target, size_average=self.size_average,\n\u001b[0;32m---> 72\u001b[0;31m                          reduce=self.reduce)\n\u001b[0m\u001b[1;32m     73\u001b[0m \u001b[0;34m\u001b[0m\u001b[0m\n\u001b[1;32m     74\u001b[0m \u001b[0;34m\u001b[0m\u001b[0m\n",
      "\u001b[0;31mRuntimeError\u001b[0m: input and target have different number of elements: input[43 x 1 x 112 x 24] has 115584 elements, while target[215 x 1 x 112 x 24] has 577920 elements at /opt/conda/conda-bld/pytorch_1512386481460/work/torch/lib/THCUNN/generic/AbsCriterion.cu:15"
     ]
    }
   ],
   "source": [
    "p = 0\n",
    "num_iterations = 2000\n",
    "params = [inp, p]\n",
    "for a_num, appliance in enumerate(ORDER):\n",
    "    params.append(out_train[a_num])\n",
    "        \n",
    "for t in range(1, num_iterations+1):\n",
    "  \n",
    "    if cuda_av:\n",
    "        train_out = train_out.cuda()\n",
    "\n",
    "    \n",
    "    pred = model(*params)\n",
    "\n",
    "    optimizer.zero_grad()\n",
    "    loss = loss_func(pred, train_out)\n",
    "    if t % 200 == 0:\n",
    "\n",
    "        if cuda_av:\n",
    "            valid_inp = valid_inp.cuda()\n",
    "        valid_params = [valid_inp, -2]\n",
    "        for i in range(len(ORDER)):\n",
    "            valid_params.append(None)\n",
    "        valid_pr = model(*valid_params)\n",
    "        valid_loss = loss_func(valid_pr, valid_out)\n",
    "\n",
    "        if cuda_av:\n",
    "            test_inp = test_inp.cuda()\n",
    "        test_params = [test_inp, -2]\n",
    "        for i in range(len(ORDER)):\n",
    "            test_params.append(None)\n",
    "        test_pr = model(*test_params)\n",
    "        test_loss = loss_func(test_pr, test_out)\n",
    "\n",
    "        test_losses[t] = test_loss.data[0]\n",
    "        valid_losses[t] = valid_loss.data[0]\n",
    "        # np.save(\"./baseline/p_50_loss\")\n",
    "\n",
    "        if t % 200 == 0:\n",
    "            valid_pr = torch.clamp(valid_pr, min=0.)\n",
    "            valid_pred[t] = valid_pr\n",
    "            test_pr = torch.clamp(test_pr, min=0.)\n",
    "            test_pred[t] = test_pr\n",
    "            train_pr = pred\n",
    "            train_pr = torch.clamp(train_pr, min=0.)\n",
    "            train_pred[t] = train_pr\n",
    "\n",
    "        print(\"Round:\", t, \"Training Error:\", loss.data[0], \"Validation Error:\", valid_loss.data[0], \"Test Error:\", test_loss.data[0])\n",
    "\n",
    "    loss.backward()\n",
    "    optimizer.step()\n",
    "\n"
   ]
  },
  {
   "cell_type": "code",
   "execution_count": 62,
   "metadata": {
    "collapsed": true
   },
   "outputs": [],
   "source": [
    "from sklearn.metrics import mean_absolute_error\n",
    "num_iterations = 1600"
   ]
  },
  {
   "cell_type": "code",
   "execution_count": 63,
   "metadata": {},
   "outputs": [],
   "source": [
    "\n",
    "train_fold = {}\n",
    "for t in range(200, num_iterations + 1, 200):\n",
    "    train_pred[t] = torch.split(train_pred[t], train_aggregate.shape[0])\n",
    "    train_fold[t] = [None for x in range(len(ORDER))]\n",
    "    if cuda_av:\n",
    "        for appliance_num, appliance in enumerate(ORDER):\n",
    "            train_fold[t][appliance_num] = train_pred[t][appliance_num].cpu().data.numpy().reshape(-1, 24)\n",
    "    else:\n",
    "        for appliance_num, appliance in enumerate(ORDER):\n",
    "            train_fold[t][appliance_num] = train_pred[t][appliance_num].data.numpy().reshape(-1, 24)\n",
    "            \n",
    "valid_fold = {}\n",
    "for t in range(200, num_iterations + 1, 200):\n",
    "\n",
    "    valid_pred[t] = torch.split(valid_pred[t], valid_aggregate.shape[0])\n",
    "    valid_fold[t] = [None for x in range(len(ORDER))]\n",
    "    if cuda_av:\n",
    "        for appliance_num, appliance in enumerate(ORDER):\n",
    "            valid_fold[t][appliance_num] = valid_pred[t][appliance_num].cpu().data.numpy().reshape(-1, 24)\n",
    "    else:\n",
    "        for appliance_num, appliance in enumerate(ORDER):\n",
    "            valid_fold[t][appliance_num] = valid_pred[t][appliance_num].data.numpy().reshape(-1, 24)\n",
    "\n",
    "test_fold = {}\n",
    "for t in range(200, num_iterations + 1, 200):\n",
    "\n",
    "    test_pred[t] = torch.split(test_pred[t], test_aggregate.shape[0])\n",
    "    test_fold[t] = [None for x in range(len(ORDER))]\n",
    "    if cuda_av:\n",
    "        for appliance_num, appliance in enumerate(ORDER):\n",
    "            test_fold[t][appliance_num] = test_pred[t][appliance_num].cpu().data.numpy().reshape(-1, 24)\n",
    "    else:\n",
    "        for appliance_num, appliance in enumerate(ORDER):\n",
    "            test_fold[t][appliance_num] = test_pred[t][appliance_num].data.numpy().reshape(-1, 24)\n",
    "\n",
    "# store ground truth of validation set\n",
    "valid_gt_fold = [None for x in range(len(ORDER))]\n",
    "for appliance_num, appliance in enumerate(ORDER):\n",
    "    valid_gt_fold[appliance_num] = valid[:, APPLIANCE_ORDER.index(appliance), :, :].reshape(\n",
    "        valid_aggregate.shape[0],\n",
    "        -1, 1).reshape(-1, 24)\n",
    "\n",
    "test_gt_fold = [None for x in range(len(ORDER))]\n",
    "for appliance_num, appliance in enumerate(ORDER):\n",
    "    test_gt_fold[appliance_num] = test[:, APPLIANCE_ORDER.index(appliance), :, :].reshape(\n",
    "        test_aggregate.shape[0],\n",
    "        -1, 1).reshape(-1, 24)\n",
    "\n",
    "# calcualte the error of validation set\n",
    "valid_error = {}\n",
    "for t in range(200, num_iterations + 1, 200):\n",
    "    valid_error[t] = {}\n",
    "    for appliance_num, appliance in enumerate(ORDER):\n",
    "        valid_error[t][appliance] = mean_absolute_error(valid_fold[t][appliance_num], valid_gt_fold[appliance_num])\n",
    "\n",
    "test_error = {}\n",
    "for t in range(200, num_iterations + 1, 200):\n",
    "    test_error[t] = {}\n",
    "    for appliance_num, appliance in enumerate(ORDER):\n",
    "        test_error[t][appliance] = mean_absolute_error(test_fold[t][appliance_num], test_gt_fold[appliance_num])"
   ]
  },
  {
   "cell_type": "code",
   "execution_count": 64,
   "metadata": {
    "collapsed": true
   },
   "outputs": [],
   "source": [
    "train_gt_fold = [None for x in range(len(ORDER))]\n",
    "for appliance_num, appliance in enumerate(ORDER):\n",
    "    train_gt_fold[appliance_num] = train[:, APPLIANCE_ORDER.index(appliance), :, :].reshape(\n",
    "        train_aggregate.shape[0],\n",
    "        -1, 1).reshape(-1, 24)"
   ]
  },
  {
   "cell_type": "code",
   "execution_count": 65,
   "metadata": {},
   "outputs": [],
   "source": [
    "train_error = {}\n",
    "for t in range(200, num_iterations+1, 200):\n",
    "    train_error[t] = {}\n",
    "    for appliance_num, appliance in enumerate(ORDER):\n",
    "        train_error[t][appliance] = mean_absolute_error(train_fold[t][appliance_num], train_gt_fold[appliance_num])"
   ]
  },
  {
   "cell_type": "code",
   "execution_count": 66,
   "metadata": {
    "collapsed": true
   },
   "outputs": [],
   "source": [
    "import seaborn as sns\n",
    "import matplotlib.pyplot as plt\n",
    "import pandas as pd\n",
    "%matplotlib inline"
   ]
  },
  {
   "cell_type": "code",
   "execution_count": 67,
   "metadata": {},
   "outputs": [
    {
     "data": {
      "text/plain": [
       "(14, 1, 112, 24)"
      ]
     },
     "execution_count": 67,
     "metadata": {},
     "output_type": "execute_result"
    }
   ],
   "source": [
    "test_aggregate.shape"
   ]
  },
  {
   "cell_type": "code",
   "execution_count": 68,
   "metadata": {},
   "outputs": [
    {
     "data": {
      "text/plain": [
       "<matplotlib.axes._subplots.AxesSubplot at 0x7fc668448d30>"
      ]
     },
     "execution_count": 68,
     "metadata": {},
     "output_type": "execute_result"
    },
    {
     "data": {
      "image/png": "[encoded data removed]",
      "text/plain": [
       "<matplotlib.figure.Figure at 0x7fc668647f28>"
      ]
     },
     "metadata": {},
     "output_type": "display_data"
    }
   ],
   "source": [
    "sns.heatmap(pd.DataFrame(test_aggregate[0][0]), cmap='Greens')"
   ]
  },
  {
   "cell_type": "code",
   "execution_count": 82,
   "metadata": {},
   "outputs": [
    {
     "data": {
      "text/plain": [
       "<matplotlib.axes._subplots.AxesSubplot at 0x7fc4884b9400>"
      ]
     },
     "execution_count": 82,
     "metadata": {},
     "output_type": "execute_result"
    },
    {
     "data": {
      "image/png": "[encoded data removed]",
      "text/plain": [
       "<matplotlib.figure.Figure at 0x7fc4884e1cc0>"
      ]
     },
     "metadata": {},
     "output_type": "display_data"
    }
   ],
   "source": [
    "sns.heatmap(pd.DataFrame(train_fold[1600][0].reshape(-1, 112, 24)[5]), cmap='Greens')"
   ]
  },
  {
   "cell_type": "code",
   "execution_count": 83,
   "metadata": {},
   "outputs": [
    {
     "data": {
      "text/plain": [
       "<matplotlib.axes._subplots.AxesSubplot at 0x7fc4884172e8>"
      ]
     },
     "execution_count": 83,
     "metadata": {},
     "output_type": "execute_result"
    },
    {
     "data": {
      "image/png": "[encoded data removed]",
      "text/plain": [
       "<matplotlib.figure.Figure at 0x7fc48874ff60>"
      ]
     },
     "metadata": {},
     "output_type": "display_data"
    }
   ],
   "source": [
    "sns.heatmap(pd.DataFrame(train_gt_fold[0].reshape(-1, 112, 24)[5]), cmap='Greens')"
   ]
  },
  {
   "cell_type": "code",
   "execution_count": 75,
   "metadata": {
    "collapsed": true
   },
   "outputs": [],
   "source": [
    "def onoff_error(pred, gt, threshold):\n",
    "    abs_error = np.abs(pred-gt)\n",
    "    error = [x for x in abs_error.reshape(1, -1).tolist()[0] if x >= threshold]\n",
    "    \n",
    "    return np.mean(error)"
   ]
  },
  {
   "cell_type": "code",
   "execution_count": 77,
   "metadata": {},
   "outputs": [
    {
     "name": "stdout",
     "output_type": "stream",
     "text": [
      "200 1100.26056066\n",
      "400 1100.24719467\n",
      "600 1092.43778824\n",
      "800 1100.18988694\n",
      "1000 1100.21025543\n",
      "1200 1100.25972182\n",
      "1400 1100.26066377\n",
      "1600 1100.17578339\n"
     ]
    }
   ],
   "source": [
    "for t in range(200, num_iterations+1, 200):\n",
    "\n",
    "    print(t, onoff_error(test_fold[t][0], test_gt_fold[0], 18))"
   ]
  },
  {
   "cell_type": "code",
   "execution_count": 49,
   "metadata": {},
   "outputs": [
    {
     "data": {
      "text/plain": [
       "array([[ 0.2       ,  0.26666668,  0.2       , ...,  1.41666663,\n",
       "         1.26666665,  2.6833334 ],\n",
       "       [ 1.64999998,  1.36666667,  0.64999998, ...,  0.33333334,\n",
       "         1.64999998,  1.68333328],\n",
       "       [ 0.63333333,  0.55000001,  0.98333335, ...,  1.63333333,\n",
       "         0.64999998,  0.66666669],\n",
       "       ..., \n",
       "       [ 0.        ,  0.        ,  0.        , ...,  0.        ,\n",
       "         0.        ,  0.        ],\n",
       "       [ 0.        ,  0.        ,  0.        , ...,  0.2       ,\n",
       "         0.        ,  0.        ],\n",
       "       [ 0.        ,  0.        ,  0.        , ...,  0.        ,\n",
       "         0.        ,  0.        ]])"
      ]
     },
     "execution_count": 49,
     "metadata": {},
     "output_type": "execute_result"
    }
   ],
   "source": [
    "train_gt_fold[2]"
   ]
  },
  {
   "cell_type": "code",
   "execution_count": 47,
   "metadata": {},
   "outputs": [
    {
     "data": {
      "text/plain": [
       "array([[ 0.        ,  0.        ,  0.        , ...,  0.00033851,\n",
       "         0.        ,  0.        ],\n",
       "       [ 0.00239093,  0.00081312,  0.        , ...,  0.        ,\n",
       "         0.        ,  0.        ],\n",
       "       [ 0.        ,  0.        ,  0.        , ...,  0.0097909 ,\n",
       "         0.        ,  0.        ],\n",
       "       ..., \n",
       "       [ 0.        ,  0.        ,  0.        , ...,  0.        ,\n",
       "         0.        ,  0.        ],\n",
       "       [ 0.00337324,  0.        ,  0.00121355, ...,  0.        ,\n",
       "         0.        ,  0.        ],\n",
       "       [ 0.        ,  0.        ,  0.        , ...,  0.        ,\n",
       "         0.        ,  0.0051079 ]], dtype=float32)"
      ]
     },
     "execution_count": 47,
     "metadata": {},
     "output_type": "execute_result"
    }
   ],
   "source": [
    "train_fold[200][2]"
   ]
  },
  {
   "cell_type": "code",
   "execution_count": 37,
   "metadata": {},
   "outputs": [
    {
     "data": {
      "text/html": [
       "<div>\n",
       "<style scoped>\n",
       "    .dataframe tbody tr th:only-of-type {\n",
       "        vertical-align: middle;\n",
       "    }\n",
       "\n",
       "    .dataframe tbody tr th {\n",
       "        vertical-align: top;\n",
       "    }\n",
       "\n",
       "    .dataframe thead th {\n",
       "        text-align: right;\n",
       "    }\n",
       "</style>\n",
       "<table border=\"1\" class=\"dataframe\">\n",
       "  <thead>\n",
       "    <tr style=\"text-align: right;\">\n",
       "      <th></th>\n",
       "      <th>200</th>\n",
       "      <th>400</th>\n",
       "      <th>600</th>\n",
       "      <th>800</th>\n",
       "      <th>1000</th>\n",
       "      <th>1200</th>\n",
       "      <th>1400</th>\n",
       "      <th>1600</th>\n",
       "      <th>1800</th>\n",
       "      <th>2000</th>\n",
       "    </tr>\n",
       "  </thead>\n",
       "  <tbody>\n",
       "    <tr>\n",
       "      <th>dr</th>\n",
       "      <td>71.004390</td>\n",
       "      <td>71.168054</td>\n",
       "      <td>72.256811</td>\n",
       "      <td>74.267883</td>\n",
       "      <td>76.755139</td>\n",
       "      <td>77.602587</td>\n",
       "      <td>78.730931</td>\n",
       "      <td>79.122479</td>\n",
       "      <td>79.205312</td>\n",
       "      <td>79.504459</td>\n",
       "    </tr>\n",
       "    <tr>\n",
       "      <th>dw</th>\n",
       "      <td>19.549013</td>\n",
       "      <td>19.556208</td>\n",
       "      <td>19.538995</td>\n",
       "      <td>19.558140</td>\n",
       "      <td>19.540490</td>\n",
       "      <td>19.538111</td>\n",
       "      <td>19.538131</td>\n",
       "      <td>19.537917</td>\n",
       "      <td>19.552066</td>\n",
       "      <td>19.537951</td>\n",
       "    </tr>\n",
       "    <tr>\n",
       "      <th>fridge</th>\n",
       "      <td>30.020225</td>\n",
       "      <td>31.739404</td>\n",
       "      <td>33.176804</td>\n",
       "      <td>34.401962</td>\n",
       "      <td>35.232226</td>\n",
       "      <td>35.295100</td>\n",
       "      <td>35.884477</td>\n",
       "      <td>36.351166</td>\n",
       "      <td>36.610283</td>\n",
       "      <td>36.548123</td>\n",
       "    </tr>\n",
       "    <tr>\n",
       "      <th>hvac</th>\n",
       "      <td>345.626050</td>\n",
       "      <td>332.520962</td>\n",
       "      <td>326.693016</td>\n",
       "      <td>329.828265</td>\n",
       "      <td>336.977560</td>\n",
       "      <td>335.423433</td>\n",
       "      <td>338.235341</td>\n",
       "      <td>343.442527</td>\n",
       "      <td>343.997589</td>\n",
       "      <td>344.967933</td>\n",
       "    </tr>\n",
       "    <tr>\n",
       "      <th>mw</th>\n",
       "      <td>6.838494</td>\n",
       "      <td>7.412712</td>\n",
       "      <td>7.580235</td>\n",
       "      <td>7.464459</td>\n",
       "      <td>7.741110</td>\n",
       "      <td>8.077630</td>\n",
       "      <td>8.831316</td>\n",
       "      <td>9.520062</td>\n",
       "      <td>9.599482</td>\n",
       "      <td>9.821674</td>\n",
       "    </tr>\n",
       "  </tbody>\n",
       "</table>\n",
       "</div>"
      ],
      "text/plain": [
       "              200         400         600         800         1000  \\\n",
       "dr       71.004390   71.168054   72.256811   74.267883   76.755139   \n",
       "dw       19.549013   19.556208   19.538995   19.558140   19.540490   \n",
       "fridge   30.020225   31.739404   33.176804   34.401962   35.232226   \n",
       "hvac    345.626050  332.520962  326.693016  329.828265  336.977560   \n",
       "mw        6.838494    7.412712    7.580235    7.464459    7.741110   \n",
       "\n",
       "              1200        1400        1600        1800        2000  \n",
       "dr       77.602587   78.730931   79.122479   79.205312   79.504459  \n",
       "dw       19.538111   19.538131   19.537917   19.552066   19.537951  \n",
       "fridge   35.295100   35.884477   36.351166   36.610283   36.548123  \n",
       "hvac    335.423433  338.235341  343.442527  343.997589  344.967933  \n",
       "mw        8.077630    8.831316    9.520062    9.599482    9.821674  "
      ]
     },
     "execution_count": 37,
     "metadata": {},
     "output_type": "execute_result"
    }
   ],
   "source": [
    "pd.DataFrame(test_error)"
   ]
  },
  {
   "cell_type": "code",
   "execution_count": 14,
   "metadata": {},
   "outputs": [
    {
     "data": {
      "text/plain": [
       "{1000: {'dr': 104.51486100150184,\n",
       "  'dw': 11.024693286003417,\n",
       "  'fridge': 43.628079512353146,\n",
       "  'hvac': 170.66594519918587,\n",
       "  'mw': 7.1834119964077372},\n",
       " 2000: {'dr': 132.7653845653841,\n",
       "  'dw': 11.024307860026147,\n",
       "  'fridge': 47.901991705041326,\n",
       "  'hvac': 181.09079424734418,\n",
       "  'mw': 7.1065447021710924},\n",
       " 3000: {'dr': 139.08151216003162,\n",
       "  'dw': 11.024774495282799,\n",
       "  'fridge': 47.871046935981276,\n",
       "  'hvac': 183.52738505555899,\n",
       "  'mw': 7.2129953022498627},\n",
       " 4000: {'dr': 143.52523411012223,\n",
       "  'dw': 11.024311092145034,\n",
       "  'fridge': 47.957222381518989,\n",
       "  'hvac': 183.53725180561787,\n",
       "  'mw': 7.3162178633638364},\n",
       " 5000: {'dr': 147.3578787644916,\n",
       "  'dw': 11.024311247478749,\n",
       "  'fridge': 46.48262682793203,\n",
       "  'hvac': 182.57096604425192,\n",
       "  'mw': 7.3999224717760086},\n",
       " 6000: {'dr': 149.68912326295776,\n",
       "  'dw': 11.024307778145825,\n",
       "  'fridge': 47.255146366351035,\n",
       "  'hvac': 181.87193982892714,\n",
       "  'mw': 7.3724442526361926},\n",
       " 7000: {'dr': 151.1437072533798,\n",
       "  'dw': 11.024307853860456,\n",
       "  'fridge': 46.717229327915732,\n",
       "  'hvac': 181.48665810607824,\n",
       "  'mw': 7.3207172355333467},\n",
       " 8000: {'dr': 152.31718285382053,\n",
       "  'dw': 11.025932603573244,\n",
       "  'fridge': 46.855993559501066,\n",
       "  'hvac': 182.9256162134968,\n",
       "  'mw': 7.2582059045950649},\n",
       " 9000: {'dr': 152.37787066138117,\n",
       "  'dw': 11.024422628325672,\n",
       "  'fridge': 46.689493621713972,\n",
       "  'hvac': 180.6533794534383,\n",
       "  'mw': 7.3147285351374096},\n",
       " 10000: {'dr': 154.46815952176937,\n",
       "  'dw': 11.024907508884889,\n",
       "  'fridge': 45.760092951826401,\n",
       "  'hvac': 180.84976314583136,\n",
       "  'mw': 7.2884722027231135},\n",
       " 11000: {'dr': 154.75650227582003,\n",
       "  'dw': 11.0246821908064,\n",
       "  'fridge': 46.960906693159302,\n",
       "  'hvac': 181.43210881061009,\n",
       "  'mw': 7.3886169309042424},\n",
       " 12000: {'dr': 154.94893909795672,\n",
       "  'dw': 11.024307778420505,\n",
       "  'fridge': 47.065166255988402,\n",
       "  'hvac': 182.12049901952381,\n",
       "  'mw': 7.3165841984723343},\n",
       " 13000: {'dr': 156.39963615045318,\n",
       "  'dw': 11.024466538241564,\n",
       "  'fridge': 46.729634126791062,\n",
       "  'hvac': 182.11279849723573,\n",
       "  'mw': 7.3000256407492765},\n",
       " 14000: {'dr': 155.6760498978359,\n",
       "  'dw': 11.025475895993253,\n",
       "  'fridge': 46.738337796908638,\n",
       "  'hvac': 182.26614527594404,\n",
       "  'mw': 7.3659191848803225},\n",
       " 15000: {'dr': 156.22652940058524,\n",
       "  'dw': 11.024801901400798,\n",
       "  'fridge': 45.832806986446379,\n",
       "  'hvac': 181.65740219521766,\n",
       "  'mw': 7.3436302799796032},\n",
       " 16000: {'dr': 157.36149376351031,\n",
       "  'dw': 11.02431131483681,\n",
       "  'fridge': 45.031742190514727,\n",
       "  'hvac': 181.10976547662767,\n",
       "  'mw': 7.347034767833752},\n",
       " 17000: {'dr': 158.37191575285851,\n",
       "  'dw': 11.024918507342079,\n",
       "  'fridge': 44.620204522097232,\n",
       "  'hvac': 180.5102650107012,\n",
       "  'mw': 7.431757078687407},\n",
       " 18000: {'dr': 157.87068188760301,\n",
       "  'dw': 11.025061503524313,\n",
       "  'fridge': 44.342206117420083,\n",
       "  'hvac': 181.6346876079449,\n",
       "  'mw': 7.461338231840756},\n",
       " 19000: {'dr': 157.75774157997719,\n",
       "  'dw': 11.024616647986397,\n",
       "  'fridge': 43.828741595919006,\n",
       "  'hvac': 181.67620563579649,\n",
       "  'mw': 7.479609761449673},\n",
       " 20000: {'dr': 159.08375126381898,\n",
       "  'dw': 11.026767597495676,\n",
       "  'fridge': 43.792015141285013,\n",
       "  'hvac': 180.38080306910783,\n",
       "  'mw': 7.4739426774765549}}"
      ]
     },
     "execution_count": 14,
     "metadata": {},
     "output_type": "execute_result"
    }
   ],
   "source": [
    "test_error"
   ]
  },
  {
   "cell_type": "code",
   "execution_count": null,
   "metadata": {
    "collapsed": true
   },
   "outputs": [],
   "source": []
  }
 ],
 "metadata": {
  "kernelspec": {
   "display_name": "Python 3",
   "language": "python",
   "name": "python3"
  },
  "language_info": {
   "codemirror_mode": {
    "name": "ipython",
    "version": 3
   },
   "file_extension": ".py",
   "mimetype": "text/x-python",
   "name": "python",
   "nbconvert_exporter": "python",
   "pygments_lexer": "ipython3",
   "version": "3.6.3"
  }
 },
 "nbformat": 4,
 "nbformat_minor": 2
}
