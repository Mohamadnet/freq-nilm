{
 "cells": [
  {
   "cell_type": "code",
   "execution_count": 1,
   "metadata": {
    "collapsed": true
   },
   "outputs": [],
   "source": [
    "import sys\n",
    "sys.path.append(\"../code/\")\n",
    "from common import APPLIANCES_ORDER\n",
    "\n",
    "\n"
   ]
  },
  {
   "cell_type": "code",
   "execution_count": 2,
   "metadata": {
    "collapsed": true
   },
   "outputs": [],
   "source": [
    "import numpy as np\n",
    "\n",
    "import pandas as pd\n",
    "import matplotlib.pyplot as plt\n",
    "%matplotlib inline"
   ]
  },
  {
   "cell_type": "code",
   "execution_count": 3,
   "metadata": {
    "collapsed": true
   },
   "outputs": [],
   "source": [
    "tensor = np.load('../1H-input.npy')"
   ]
  },
  {
   "cell_type": "code",
   "execution_count": 4,
   "metadata": {
    "collapsed": true
   },
   "outputs": [],
   "source": [
    "def create_subset_dataset(tensor):\n",
    "    t_subset = tensor[:, :, 180:194, :]\n",
    "    all_indices = np.array(list(range(320)))\n",
    "    for i in range(1, 7):\n",
    "        valid_homes = pd.DataFrame(t_subset[:, i, :].reshape(320, 14*24)).dropna().index\n",
    "        all_indices = np.intersect1d(all_indices, valid_homes)\n",
    "    t_subset = t_subset[all_indices, :, :, :].reshape(52, 7, 14*24)\n",
    "    \n",
    "    # Create artificial aggregate\n",
    "    t_subset[:, 0, :] = 0.0\n",
    "    for i in range(1, 7):\n",
    "        t_subset[:, 0, :] = t_subset[:, 0, :] + t_subset[:, i, :]\n",
    "    # t_subset is of shape (#home, appliance, days*hours)\n",
    "    return t_subset, all_indices"
   ]
  },
  {
   "cell_type": "code",
   "execution_count": 5,
   "metadata": {},
   "outputs": [
    {
     "data": {
      "text/plain": [
       "(52, 7, 336)"
      ]
     },
     "execution_count": 5,
     "metadata": {},
     "output_type": "execute_result"
    }
   ],
   "source": [
    "t_all, valid_homes = create_subset_dataset(tensor)\n",
    "t_all.shape"
   ]
  },
  {
   "cell_type": "code",
   "execution_count": 6,
   "metadata": {},
   "outputs": [
    {
     "data": {
      "text/plain": [
       "(52, 7, 336)"
      ]
     },
     "execution_count": 6,
     "metadata": {},
     "output_type": "execute_result"
    }
   ],
   "source": [
    "t_all.shape"
   ]
  },
  {
   "cell_type": "code",
   "execution_count": 7,
   "metadata": {
    "collapsed": true
   },
   "outputs": [],
   "source": [
    "def my_objective(y_pred, y_true):\n",
    "    with tf.name_scope(None):\n",
    "        return tf.losses.absolute_difference(y_pred, y_true)"
   ]
  },
  {
   "cell_type": "code",
   "execution_count": 8,
   "metadata": {},
   "outputs": [
    {
     "name": "stderr",
     "output_type": "stream",
     "text": [
      "Using TensorFlow backend.\n",
      "/Users/nipun/anaconda3/lib/python3.6/importlib/_bootstrap.py:219: RuntimeWarning: compiletime version 3.5 of module 'tensorflow.python.framework.fast_tensor_util' does not match runtime version 3.6\n",
      "  return f(*args, **kwds)\n"
     ]
    }
   ],
   "source": [
    "from random import randint\n",
    "from numpy import array\n",
    "from numpy import argmax\n",
    "from numpy import array_equal\n",
    "from keras.models import Sequential\n",
    "from keras.layers import LSTM\n",
    "from keras.layers import Dense\n",
    "from keras.layers import TimeDistributed\n",
    "from keras.layers import RepeatVector\n",
    "import keras\n",
    "from IPython.display import SVG\n",
    "from keras.utils.vis_utils import model_to_dot\n",
    "n_movies = 3\n",
    "n_users=3\n",
    "n_latent_factors=2"
   ]
  },
  {
   "cell_type": "code",
   "execution_count": 9,
   "metadata": {},
   "outputs": [
    {
     "data": {
      "text/plain": [
       "['aggregate', 'hvac', 'fridge', 'mw', 'dw', 'wm', 'oven']"
      ]
     },
     "execution_count": 9,
     "metadata": {},
     "output_type": "execute_result"
    }
   ],
   "source": [
    "APPLIANCES_ORDER"
   ]
  },
  {
   "cell_type": "code",
   "execution_count": 51,
   "metadata": {
    "collapsed": true
   },
   "outputs": [],
   "source": [
    "train_agg = (t_all[:30, 0, :].reshape(30*14, 24))/t_all[:30, 0, :].max()\n",
    "train_appliance = {}\n",
    "test_appliance = {}\n",
    "for appliance_num, appliance in enumerate(APPLIANCES_ORDER[1:]):\n",
    "    train_appliance[appliance] = (t_all[:30, appliance_num+1, :].reshape(30*14, 24))/t_all[:30, 0, :].max()\n",
    "    test_appliance[appliance] = t_all[30:, appliance_num+1, :].reshape(22*14, 24)\n",
    "\n",
    "\n",
    "\n",
    "\n",
    "\n",
    "\n",
    "test_hvac = t_all[30:, 1, :].reshape(22*14, 24)\n",
    "test_fridge = t_all[30:, 2, :].reshape(22*14, 24)\n",
    "\n",
    "test_mw = t_all[30:, 3, :].reshape(22*14, 24)\n",
    "\n",
    "\n",
    "\n",
    "test_agg = (t_all[30:, 0, :].reshape(22*14, 24))/t_all[:30, 0, :].max()"
   ]
  },
  {
   "cell_type": "code",
   "execution_count": 52,
   "metadata": {},
   "outputs": [
    {
     "data": {
      "text/plain": [
       "array([[ 0.07049746,  0.06813432,  0.07180402, ...,  0.06689776,\n",
       "         0.05803183,  0.00872594],\n",
       "       [ 0.06524456,  0.01594201,  0.00788268, ...,  0.10759436,\n",
       "         0.03686026,  0.06834097],\n",
       "       [ 0.01433881,  0.01724856,  0.07083076, ...,  0.10798766,\n",
       "         0.13157904,  0.07804683],\n",
       "       ..., \n",
       "       [ 0.17790517,  0.17655863,  0.09754188, ...,  0.16173653,\n",
       "         0.18087827,  0.4173319 ],\n",
       "       [ 0.25839847,  0.27371386,  0.22064829, ...,  0.17044914,\n",
       "         0.4498792 ,  0.24323307],\n",
       "       [ 0.22868428,  0.21941172,  0.16621615, ...,  0.18822099,\n",
       "         0.4606916 ,  0.29861513]], dtype=float32)"
      ]
     },
     "execution_count": 52,
     "metadata": {},
     "output_type": "execute_result"
    }
   ],
   "source": [
    "(model.predict(test_agg))"
   ]
  },
  {
   "cell_type": "code",
   "execution_count": 59,
   "metadata": {},
   "outputs": [
    {
     "name": "stdout",
     "output_type": "stream",
     "text": [
      "hvac\n",
      "********************\n",
      "Train on 378 samples, validate on 42 samples\n",
      "Epoch 1/240\n",
      "378/378 [==============================] - 1s 1ms/step - loss: 0.1333 - val_loss: 0.1261\n",
      "Epoch 2/240\n",
      "378/378 [==============================] - 0s 50us/step - loss: 0.1037 - val_loss: 0.0943\n",
      "Epoch 3/240\n",
      "378/378 [==============================] - 0s 55us/step - loss: 0.0790 - val_loss: 0.0713\n",
      "Epoch 4/240\n",
      "378/378 [==============================] - 0s 51us/step - loss: 0.0617 - val_loss: 0.0565\n",
      "Epoch 5/240\n",
      "378/378 [==============================] - 0s 50us/step - loss: 0.0540 - val_loss: 0.0494\n",
      "Epoch 6/240\n",
      "378/378 [==============================] - 0s 55us/step - loss: 0.0509 - val_loss: 0.0479\n",
      "Epoch 7/240\n",
      "378/378 [==============================] - 0s 56us/step - loss: 0.0479 - val_loss: 0.0452\n",
      "Epoch 8/240\n",
      "378/378 [==============================] - 0s 51us/step - loss: 0.0412 - val_loss: 0.0370\n",
      "Epoch 9/240\n",
      "378/378 [==============================] - 0s 53us/step - loss: 0.0349 - val_loss: 0.0309\n",
      "Epoch 10/240\n",
      "378/378 [==============================] - 0s 53us/step - loss: 0.0278 - val_loss: 0.0277\n",
      "Epoch 11/240\n",
      "378/378 [==============================] - 0s 55us/step - loss: 0.0263 - val_loss: 0.0277\n",
      "Epoch 12/240\n",
      "378/378 [==============================] - 0s 49us/step - loss: 0.0259 - val_loss: 0.0278\n",
      "Epoch 13/240\n",
      "378/378 [==============================] - 0s 50us/step - loss: 0.0258 - val_loss: 0.0278\n",
      "Epoch 14/240\n",
      "378/378 [==============================] - 0s 46us/step - loss: 0.0258 - val_loss: 0.0279\n",
      "Epoch 15/240\n",
      "378/378 [==============================] - 0s 48us/step - loss: 0.0257 - val_loss: 0.0278\n",
      "Epoch 16/240\n",
      "378/378 [==============================] - 0s 49us/step - loss: 0.0257 - val_loss: 0.0278\n",
      "Epoch 17/240\n",
      "378/378 [==============================] - 0s 47us/step - loss: 0.0256 - val_loss: 0.0278\n",
      "Epoch 18/240\n",
      "378/378 [==============================] - 0s 47us/step - loss: 0.0256 - val_loss: 0.0278\n",
      "Epoch 19/240\n",
      "378/378 [==============================] - 0s 49us/step - loss: 0.0256 - val_loss: 0.0278\n",
      "Epoch 20/240\n",
      "378/378 [==============================] - 0s 48us/step - loss: 0.0255 - val_loss: 0.0278\n",
      "Epoch 21/240\n",
      "378/378 [==============================] - 0s 49us/step - loss: 0.0256 - val_loss: 0.0278\n",
      "Epoch 22/240\n",
      "378/378 [==============================] - 0s 49us/step - loss: 0.0256 - val_loss: 0.0278\n",
      "Epoch 23/240\n",
      "378/378 [==============================] - 0s 51us/step - loss: 0.0256 - val_loss: 0.0278\n",
      "Epoch 24/240\n",
      "378/378 [==============================] - 0s 52us/step - loss: 0.0256 - val_loss: 0.0278\n",
      "Epoch 25/240\n",
      "378/378 [==============================] - 0s 48us/step - loss: 0.0256 - val_loss: 0.0278\n",
      "Epoch 26/240\n",
      "378/378 [==============================] - ETA: 0s - loss: 0.026 - 0s 50us/step - loss: 0.0255 - val_loss: 0.0278\n",
      "Epoch 27/240\n",
      "378/378 [==============================] - 0s 48us/step - loss: 0.0256 - val_loss: 0.0279\n",
      "Epoch 28/240\n",
      "378/378 [==============================] - 0s 53us/step - loss: 0.0255 - val_loss: 0.0279\n",
      "Epoch 29/240\n",
      "378/378 [==============================] - 0s 49us/step - loss: 0.0255 - val_loss: 0.0279\n",
      "Epoch 30/240\n",
      "378/378 [==============================] - 0s 52us/step - loss: 0.0257 - val_loss: 0.0279\n",
      "Epoch 31/240\n",
      "378/378 [==============================] - 0s 67us/step - loss: 0.0255 - val_loss: 0.0279\n",
      "Epoch 32/240\n",
      "378/378 [==============================] - 0s 55us/step - loss: 0.0254 - val_loss: 0.0278\n",
      "Epoch 33/240\n",
      "378/378 [==============================] - 0s 73us/step - loss: 0.0255 - val_loss: 0.0279\n",
      "Epoch 34/240\n",
      "378/378 [==============================] - 0s 59us/step - loss: 0.0255 - val_loss: 0.0279\n",
      "Epoch 35/240\n",
      "378/378 [==============================] - 0s 62us/step - loss: 0.0255 - val_loss: 0.0278\n",
      "Epoch 36/240\n",
      "378/378 [==============================] - 0s 61us/step - loss: 0.0256 - val_loss: 0.0279\n",
      "Epoch 37/240\n",
      "378/378 [==============================] - 0s 66us/step - loss: 0.0255 - val_loss: 0.0279\n",
      "Epoch 38/240\n",
      "378/378 [==============================] - 0s 72us/step - loss: 0.0256 - val_loss: 0.0279\n",
      "Epoch 39/240\n",
      "378/378 [==============================] - 0s 52us/step - loss: 0.0255 - val_loss: 0.0279\n",
      "Epoch 40/240\n",
      "378/378 [==============================] - 0s 71us/step - loss: 0.0255 - val_loss: 0.0279\n",
      "Epoch 41/240\n",
      "378/378 [==============================] - 0s 54us/step - loss: 0.0255 - val_loss: 0.0279\n",
      "Epoch 42/240\n",
      "378/378 [==============================] - 0s 61us/step - loss: 0.0255 - val_loss: 0.0279\n",
      "Epoch 43/240\n",
      "378/378 [==============================] - 0s 61us/step - loss: 0.0255 - val_loss: 0.0279\n",
      "Epoch 44/240\n",
      "378/378 [==============================] - 0s 58us/step - loss: 0.0255 - val_loss: 0.0279\n",
      "Epoch 45/240\n",
      "378/378 [==============================] - 0s 57us/step - loss: 0.0255 - val_loss: 0.0279\n",
      "Epoch 46/240\n",
      "378/378 [==============================] - 0s 54us/step - loss: 0.0255 - val_loss: 0.0279\n",
      "Epoch 47/240\n",
      "378/378 [==============================] - 0s 52us/step - loss: 0.0255 - val_loss: 0.0279\n",
      "Epoch 48/240\n",
      "378/378 [==============================] - 0s 56us/step - loss: 0.0255 - val_loss: 0.0279\n",
      "Epoch 49/240\n",
      "378/378 [==============================] - 0s 51us/step - loss: 0.0255 - val_loss: 0.0279\n",
      "Epoch 50/240\n",
      "378/378 [==============================] - 0s 52us/step - loss: 0.0255 - val_loss: 0.0279\n",
      "Epoch 51/240\n",
      "378/378 [==============================] - 0s 53us/step - loss: 0.0255 - val_loss: 0.0279\n",
      "Epoch 52/240\n",
      "378/378 [==============================] - 0s 51us/step - loss: 0.0255 - val_loss: 0.0279\n",
      "Epoch 53/240\n",
      "378/378 [==============================] - 0s 59us/step - loss: 0.0255 - val_loss: 0.0279\n",
      "Epoch 54/240\n",
      "378/378 [==============================] - 0s 53us/step - loss: 0.0255 - val_loss: 0.0279\n",
      "Epoch 55/240\n",
      "378/378 [==============================] - 0s 56us/step - loss: 0.0255 - val_loss: 0.0279\n",
      "Epoch 56/240\n",
      "378/378 [==============================] - 0s 58us/step - loss: 0.0255 - val_loss: 0.0279\n",
      "Epoch 57/240\n",
      "378/378 [==============================] - 0s 60us/step - loss: 0.0255 - val_loss: 0.0279\n",
      "Epoch 58/240\n",
      "378/378 [==============================] - 0s 61us/step - loss: 0.0255 - val_loss: 0.0279\n",
      "Epoch 59/240\n",
      "378/378 [==============================] - 0s 53us/step - loss: 0.0255 - val_loss: 0.0279\n",
      "Epoch 60/240\n",
      "378/378 [==============================] - 0s 57us/step - loss: 0.0255 - val_loss: 0.0279\n",
      "Epoch 61/240\n",
      "378/378 [==============================] - 0s 56us/step - loss: 0.0255 - val_loss: 0.0279\n",
      "Epoch 62/240\n",
      "378/378 [==============================] - 0s 56us/step - loss: 0.0255 - val_loss: 0.0279\n",
      "Epoch 63/240\n",
      "378/378 [==============================] - 0s 61us/step - loss: 0.0254 - val_loss: 0.0279\n",
      "Epoch 64/240\n",
      "378/378 [==============================] - 0s 54us/step - loss: 0.0255 - val_loss: 0.0279\n",
      "Epoch 65/240\n",
      "378/378 [==============================] - 0s 56us/step - loss: 0.0255 - val_loss: 0.0279\n",
      "Epoch 66/240\n",
      "378/378 [==============================] - 0s 55us/step - loss: 0.0255 - val_loss: 0.0278\n",
      "Epoch 67/240\n",
      "378/378 [==============================] - 0s 55us/step - loss: 0.0256 - val_loss: 0.0278\n",
      "Epoch 68/240\n",
      "378/378 [==============================] - 0s 54us/step - loss: 0.0255 - val_loss: 0.0278\n",
      "Epoch 69/240\n",
      "378/378 [==============================] - 0s 50us/step - loss: 0.0255 - val_loss: 0.0278\n",
      "Epoch 70/240\n",
      "378/378 [==============================] - 0s 42us/step - loss: 0.0255 - val_loss: 0.0278\n",
      "Epoch 71/240\n",
      "378/378 [==============================] - 0s 61us/step - loss: 0.0255 - val_loss: 0.0278\n",
      "Epoch 72/240\n",
      "378/378 [==============================] - 0s 51us/step - loss: 0.0256 - val_loss: 0.0278\n",
      "Epoch 73/240\n",
      "378/378 [==============================] - 0s 49us/step - loss: 0.0255 - val_loss: 0.0278\n",
      "Epoch 74/240\n",
      "378/378 [==============================] - 0s 57us/step - loss: 0.0255 - val_loss: 0.0278\n",
      "Epoch 75/240\n",
      "378/378 [==============================] - 0s 53us/step - loss: 0.0255 - val_loss: 0.0278\n",
      "Epoch 76/240\n",
      "378/378 [==============================] - 0s 51us/step - loss: 0.0255 - val_loss: 0.0278\n",
      "Epoch 77/240\n",
      "378/378 [==============================] - 0s 49us/step - loss: 0.0255 - val_loss: 0.0278\n",
      "Epoch 78/240\n",
      "378/378 [==============================] - 0s 51us/step - loss: 0.0255 - val_loss: 0.0278\n",
      "Epoch 79/240\n"
     ]
    },
    {
     "name": "stdout",
     "output_type": "stream",
     "text": [
      "378/378 [==============================] - 0s 53us/step - loss: 0.0255 - val_loss: 0.0278\n",
      "Epoch 80/240\n",
      "378/378 [==============================] - 0s 48us/step - loss: 0.0255 - val_loss: 0.0278\n",
      "Epoch 81/240\n",
      "378/378 [==============================] - 0s 51us/step - loss: 0.0255 - val_loss: 0.0279\n",
      "Epoch 82/240\n",
      "378/378 [==============================] - 0s 47us/step - loss: 0.0255 - val_loss: 0.0278\n",
      "Epoch 83/240\n",
      "378/378 [==============================] - 0s 52us/step - loss: 0.0255 - val_loss: 0.0278\n",
      "Epoch 84/240\n",
      "378/378 [==============================] - 0s 46us/step - loss: 0.0255 - val_loss: 0.0278\n",
      "Epoch 85/240\n",
      "378/378 [==============================] - 0s 49us/step - loss: 0.0255 - val_loss: 0.0278\n",
      "Epoch 86/240\n",
      "378/378 [==============================] - 0s 48us/step - loss: 0.0256 - val_loss: 0.0278\n",
      "Epoch 87/240\n",
      "378/378 [==============================] - 0s 47us/step - loss: 0.0255 - val_loss: 0.0278\n",
      "Epoch 88/240\n",
      "378/378 [==============================] - 0s 55us/step - loss: 0.0255 - val_loss: 0.0278\n",
      "Epoch 89/240\n",
      "378/378 [==============================] - ETA: 0s - loss: 0.023 - 0s 45us/step - loss: 0.0255 - val_loss: 0.0278\n",
      "Epoch 90/240\n",
      "378/378 [==============================] - 0s 44us/step - loss: 0.0254 - val_loss: 0.0278\n",
      "Epoch 91/240\n",
      "378/378 [==============================] - 0s 43us/step - loss: 0.0255 - val_loss: 0.0278\n",
      "Epoch 92/240\n",
      "378/378 [==============================] - 0s 45us/step - loss: 0.0255 - val_loss: 0.0278\n",
      "Epoch 93/240\n",
      "378/378 [==============================] - 0s 44us/step - loss: 0.0255 - val_loss: 0.0278\n",
      "Epoch 94/240\n",
      "378/378 [==============================] - 0s 48us/step - loss: 0.0255 - val_loss: 0.0278\n",
      "Epoch 95/240\n",
      "378/378 [==============================] - 0s 46us/step - loss: 0.0254 - val_loss: 0.0278\n",
      "Epoch 96/240\n",
      "378/378 [==============================] - 0s 49us/step - loss: 0.0254 - val_loss: 0.0278\n",
      "Epoch 97/240\n",
      "378/378 [==============================] - 0s 47us/step - loss: 0.0255 - val_loss: 0.0278\n",
      "Epoch 98/240\n",
      "378/378 [==============================] - 0s 51us/step - loss: 0.0254 - val_loss: 0.0278\n",
      "Epoch 99/240\n",
      "378/378 [==============================] - 0s 56us/step - loss: 0.0254 - val_loss: 0.0278\n",
      "Epoch 100/240\n",
      "378/378 [==============================] - ETA: 0s - loss: 0.027 - 0s 56us/step - loss: 0.0255 - val_loss: 0.0278\n",
      "Epoch 101/240\n",
      "378/378 [==============================] - 0s 52us/step - loss: 0.0254 - val_loss: 0.0278\n",
      "Epoch 102/240\n",
      "378/378 [==============================] - 0s 60us/step - loss: 0.0255 - val_loss: 0.0278\n",
      "Epoch 103/240\n",
      "378/378 [==============================] - 0s 54us/step - loss: 0.0254 - val_loss: 0.0278\n",
      "Epoch 104/240\n",
      "378/378 [==============================] - 0s 65us/step - loss: 0.0254 - val_loss: 0.0278\n",
      "Epoch 105/240\n",
      "378/378 [==============================] - 0s 48us/step - loss: 0.0255 - val_loss: 0.0278\n",
      "Epoch 106/240\n",
      "378/378 [==============================] - 0s 48us/step - loss: 0.0254 - val_loss: 0.0278\n",
      "Epoch 107/240\n",
      "378/378 [==============================] - 0s 51us/step - loss: 0.0255 - val_loss: 0.0279\n",
      "Epoch 108/240\n",
      "378/378 [==============================] - 0s 58us/step - loss: 0.0255 - val_loss: 0.0279\n",
      "Epoch 109/240\n",
      "378/378 [==============================] - 0s 49us/step - loss: 0.0255 - val_loss: 0.0279\n",
      "Epoch 110/240\n",
      "378/378 [==============================] - 0s 52us/step - loss: 0.0255 - val_loss: 0.0279\n",
      "Epoch 111/240\n",
      "378/378 [==============================] - 0s 63us/step - loss: 0.0255 - val_loss: 0.0279\n",
      "Epoch 112/240\n",
      "378/378 [==============================] - 0s 56us/step - loss: 0.0254 - val_loss: 0.0279\n",
      "Epoch 113/240\n",
      "378/378 [==============================] - 0s 61us/step - loss: 0.0255 - val_loss: 0.0279\n",
      "Epoch 114/240\n",
      "378/378 [==============================] - 0s 52us/step - loss: 0.0254 - val_loss: 0.0279\n",
      "Epoch 115/240\n",
      "378/378 [==============================] - 0s 53us/step - loss: 0.0254 - val_loss: 0.0279\n",
      "Epoch 116/240\n",
      "378/378 [==============================] - 0s 54us/step - loss: 0.0255 - val_loss: 0.0279\n",
      "Epoch 117/240\n",
      "378/378 [==============================] - 0s 54us/step - loss: 0.0254 - val_loss: 0.0279\n",
      "Epoch 118/240\n",
      "378/378 [==============================] - 0s 51us/step - loss: 0.0254 - val_loss: 0.0279\n",
      "Epoch 119/240\n",
      "378/378 [==============================] - 0s 56us/step - loss: 0.0255 - val_loss: 0.0279\n",
      "Epoch 120/240\n",
      "378/378 [==============================] - 0s 51us/step - loss: 0.0254 - val_loss: 0.0279\n",
      "Epoch 121/240\n",
      "378/378 [==============================] - 0s 50us/step - loss: 0.0255 - val_loss: 0.0279\n",
      "Epoch 122/240\n",
      "378/378 [==============================] - 0s 60us/step - loss: 0.0255 - val_loss: 0.0279\n",
      "Epoch 123/240\n",
      "378/378 [==============================] - 0s 54us/step - loss: 0.0254 - val_loss: 0.0279\n",
      "Epoch 124/240\n",
      "378/378 [==============================] - 0s 56us/step - loss: 0.0254 - val_loss: 0.0279\n",
      "Epoch 125/240\n",
      "378/378 [==============================] - 0s 63us/step - loss: 0.0254 - val_loss: 0.0279\n",
      "Epoch 126/240\n",
      "378/378 [==============================] - 0s 53us/step - loss: 0.0255 - val_loss: 0.0279\n",
      "Epoch 127/240\n",
      "378/378 [==============================] - 0s 55us/step - loss: 0.0254 - val_loss: 0.0279\n",
      "Epoch 128/240\n",
      "378/378 [==============================] - 0s 57us/step - loss: 0.0254 - val_loss: 0.0279\n",
      "Epoch 129/240\n",
      "378/378 [==============================] - 0s 54us/step - loss: 0.0254 - val_loss: 0.0279\n",
      "Epoch 130/240\n",
      "378/378 [==============================] - 0s 57us/step - loss: 0.0254 - val_loss: 0.0279\n",
      "Epoch 131/240\n",
      "378/378 [==============================] - 0s 53us/step - loss: 0.0253 - val_loss: 0.0279\n",
      "Epoch 132/240\n",
      "378/378 [==============================] - 0s 61us/step - loss: 0.0255 - val_loss: 0.0279\n",
      "Epoch 133/240\n",
      "378/378 [==============================] - 0s 53us/step - loss: 0.0254 - val_loss: 0.0279\n",
      "Epoch 134/240\n",
      "378/378 [==============================] - 0s 54us/step - loss: 0.0254 - val_loss: 0.0279\n",
      "Epoch 135/240\n",
      "378/378 [==============================] - 0s 55us/step - loss: 0.0254 - val_loss: 0.0279\n",
      "Epoch 136/240\n",
      "378/378 [==============================] - 0s 52us/step - loss: 0.0255 - val_loss: 0.0279\n",
      "Epoch 137/240\n",
      "378/378 [==============================] - 0s 51us/step - loss: 0.0254 - val_loss: 0.0279\n",
      "Epoch 138/240\n",
      "378/378 [==============================] - 0s 56us/step - loss: 0.0254 - val_loss: 0.0279\n",
      "Epoch 139/240\n",
      "378/378 [==============================] - 0s 53us/step - loss: 0.0253 - val_loss: 0.0279\n",
      "Epoch 140/240\n",
      "378/378 [==============================] - 0s 58us/step - loss: 0.0254 - val_loss: 0.0279\n",
      "Epoch 141/240\n",
      "378/378 [==============================] - ETA: 0s - loss: 0.027 - 0s 52us/step - loss: 0.0254 - val_loss: 0.0279\n",
      "Epoch 142/240\n",
      "378/378 [==============================] - 0s 59us/step - loss: 0.0254 - val_loss: 0.0279\n",
      "Epoch 143/240\n",
      "378/378 [==============================] - 0s 58us/step - loss: 0.0255 - val_loss: 0.0278\n",
      "Epoch 144/240\n",
      "378/378 [==============================] - 0s 56us/step - loss: 0.0255 - val_loss: 0.0279\n",
      "Epoch 145/240\n",
      "378/378 [==============================] - 0s 52us/step - loss: 0.0255 - val_loss: 0.0279\n",
      "Epoch 146/240\n",
      "378/378 [==============================] - 0s 56us/step - loss: 0.0254 - val_loss: 0.0279\n",
      "Epoch 147/240\n",
      "378/378 [==============================] - 0s 48us/step - loss: 0.0254 - val_loss: 0.0279\n",
      "Epoch 148/240\n",
      "378/378 [==============================] - 0s 51us/step - loss: 0.0253 - val_loss: 0.0279\n",
      "Epoch 149/240\n",
      "378/378 [==============================] - ETA: 0s - loss: 0.022 - 0s 52us/step - loss: 0.0254 - val_loss: 0.0279\n",
      "Epoch 150/240\n",
      "378/378 [==============================] - 0s 53us/step - loss: 0.0254 - val_loss: 0.0280\n",
      "Epoch 151/240\n",
      "378/378 [==============================] - 0s 52us/step - loss: 0.0255 - val_loss: 0.0279\n",
      "Epoch 152/240\n",
      "378/378 [==============================] - 0s 54us/step - loss: 0.0254 - val_loss: 0.0280\n",
      "Epoch 153/240\n",
      "378/378 [==============================] - 0s 50us/step - loss: 0.0253 - val_loss: 0.0280\n",
      "Epoch 154/240\n",
      "378/378 [==============================] - 0s 47us/step - loss: 0.0254 - val_loss: 0.0279\n",
      "Epoch 155/240\n",
      "378/378 [==============================] - 0s 53us/step - loss: 0.0254 - val_loss: 0.0279\n",
      "Epoch 156/240\n",
      "378/378 [==============================] - 0s 58us/step - loss: 0.0254 - val_loss: 0.0279\n",
      "Epoch 157/240\n"
     ]
    },
    {
     "name": "stdout",
     "output_type": "stream",
     "text": [
      "378/378 [==============================] - 0s 53us/step - loss: 0.0253 - val_loss: 0.0280\n",
      "Epoch 158/240\n",
      "378/378 [==============================] - 0s 52us/step - loss: 0.0252 - val_loss: 0.0280\n",
      "Epoch 159/240\n",
      "378/378 [==============================] - 0s 54us/step - loss: 0.0254 - val_loss: 0.0280\n",
      "Epoch 160/240\n",
      "378/378 [==============================] - 0s 46us/step - loss: 0.0253 - val_loss: 0.0280\n",
      "Epoch 161/240\n",
      "378/378 [==============================] - 0s 48us/step - loss: 0.0253 - val_loss: 0.0280\n",
      "Epoch 162/240\n",
      "378/378 [==============================] - 0s 47us/step - loss: 0.0253 - val_loss: 0.0280\n",
      "Epoch 163/240\n",
      "378/378 [==============================] - 0s 49us/step - loss: 0.0253 - val_loss: 0.0279\n",
      "Epoch 164/240\n",
      "378/378 [==============================] - 0s 56us/step - loss: 0.0253 - val_loss: 0.0279\n",
      "Epoch 165/240\n",
      "378/378 [==============================] - 0s 48us/step - loss: 0.0253 - val_loss: 0.0280\n",
      "Epoch 166/240\n",
      "378/378 [==============================] - 0s 49us/step - loss: 0.0253 - val_loss: 0.0279\n",
      "Epoch 167/240\n",
      "378/378 [==============================] - 0s 53us/step - loss: 0.0252 - val_loss: 0.0279\n",
      "Epoch 168/240\n",
      "378/378 [==============================] - 0s 49us/step - loss: 0.0253 - val_loss: 0.0279\n",
      "Epoch 169/240\n",
      "378/378 [==============================] - 0s 46us/step - loss: 0.0251 - val_loss: 0.0279\n",
      "Epoch 170/240\n",
      "378/378 [==============================] - 0s 46us/step - loss: 0.0252 - val_loss: 0.0278\n",
      "Epoch 171/240\n",
      "378/378 [==============================] - 0s 48us/step - loss: 0.0252 - val_loss: 0.0278\n",
      "Epoch 172/240\n",
      "378/378 [==============================] - 0s 46us/step - loss: 0.0252 - val_loss: 0.0278\n",
      "Epoch 173/240\n",
      "378/378 [==============================] - 0s 54us/step - loss: 0.0252 - val_loss: 0.0279\n",
      "Epoch 174/240\n",
      "378/378 [==============================] - 0s 47us/step - loss: 0.0252 - val_loss: 0.0281\n",
      "Epoch 175/240\n",
      "378/378 [==============================] - ETA: 0s - loss: 0.024 - 0s 45us/step - loss: 0.0251 - val_loss: 0.0280\n",
      "Epoch 176/240\n",
      "378/378 [==============================] - 0s 48us/step - loss: 0.0252 - val_loss: 0.0278\n",
      "Epoch 177/240\n",
      "378/378 [==============================] - 0s 50us/step - loss: 0.0254 - val_loss: 0.0280\n",
      "Epoch 178/240\n",
      "378/378 [==============================] - 0s 51us/step - loss: 0.0252 - val_loss: 0.0279\n",
      "Epoch 179/240\n",
      "378/378 [==============================] - 0s 47us/step - loss: 0.0253 - val_loss: 0.0279\n",
      "Epoch 180/240\n",
      "378/378 [==============================] - 0s 47us/step - loss: 0.0252 - val_loss: 0.0279\n",
      "Epoch 181/240\n",
      "378/378 [==============================] - 0s 47us/step - loss: 0.0252 - val_loss: 0.0279\n",
      "Epoch 182/240\n",
      "378/378 [==============================] - 0s 49us/step - loss: 0.0251 - val_loss: 0.0279\n",
      "Epoch 183/240\n",
      "378/378 [==============================] - 0s 49us/step - loss: 0.0252 - val_loss: 0.0279\n",
      "Epoch 184/240\n",
      "378/378 [==============================] - 0s 47us/step - loss: 0.0252 - val_loss: 0.0279\n",
      "Epoch 185/240\n",
      "378/378 [==============================] - ETA: 0s - loss: 0.026 - 0s 46us/step - loss: 0.0252 - val_loss: 0.0279\n",
      "Epoch 186/240\n",
      "378/378 [==============================] - 0s 48us/step - loss: 0.0251 - val_loss: 0.0279\n",
      "Epoch 187/240\n",
      "378/378 [==============================] - 0s 53us/step - loss: 0.0252 - val_loss: 0.0279\n",
      "Epoch 188/240\n",
      "378/378 [==============================] - ETA: 0s - loss: 0.022 - 0s 45us/step - loss: 0.0252 - val_loss: 0.0279\n",
      "Epoch 189/240\n",
      "378/378 [==============================] - 0s 45us/step - loss: 0.0251 - val_loss: 0.0278\n",
      "Epoch 190/240\n",
      "378/378 [==============================] - 0s 50us/step - loss: 0.0251 - val_loss: 0.0279\n",
      "Epoch 191/240\n",
      "378/378 [==============================] - 0s 49us/step - loss: 0.0252 - val_loss: 0.0279\n",
      "Epoch 192/240\n",
      "378/378 [==============================] - 0s 49us/step - loss: 0.0251 - val_loss: 0.0279\n",
      "Epoch 193/240\n",
      "378/378 [==============================] - 0s 55us/step - loss: 0.0252 - val_loss: 0.0278\n",
      "Epoch 194/240\n",
      "378/378 [==============================] - 0s 55us/step - loss: 0.0250 - val_loss: 0.0278\n",
      "Epoch 195/240\n",
      "378/378 [==============================] - 0s 61us/step - loss: 0.0252 - val_loss: 0.0278\n",
      "Epoch 196/240\n",
      "378/378 [==============================] - 0s 62us/step - loss: 0.0251 - val_loss: 0.0278\n",
      "Epoch 197/240\n",
      "378/378 [==============================] - 0s 56us/step - loss: 0.0251 - val_loss: 0.0279\n",
      "Epoch 198/240\n",
      "378/378 [==============================] - 0s 52us/step - loss: 0.0252 - val_loss: 0.0279\n",
      "Epoch 199/240\n",
      "378/378 [==============================] - 0s 54us/step - loss: 0.0251 - val_loss: 0.0278\n",
      "Epoch 200/240\n",
      "378/378 [==============================] - 0s 53us/step - loss: 0.0251 - val_loss: 0.0278\n",
      "Epoch 201/240\n",
      "378/378 [==============================] - 0s 52us/step - loss: 0.0252 - val_loss: 0.0278\n",
      "Epoch 202/240\n",
      "378/378 [==============================] - 0s 54us/step - loss: 0.0250 - val_loss: 0.0279\n",
      "Epoch 203/240\n",
      "378/378 [==============================] - 0s 50us/step - loss: 0.0251 - val_loss: 0.0278\n",
      "Epoch 204/240\n",
      "378/378 [==============================] - 0s 52us/step - loss: 0.0250 - val_loss: 0.0280\n",
      "Epoch 205/240\n",
      "378/378 [==============================] - 0s 54us/step - loss: 0.0251 - val_loss: 0.0279\n",
      "Epoch 206/240\n",
      "378/378 [==============================] - 0s 51us/step - loss: 0.0250 - val_loss: 0.0278\n",
      "Epoch 207/240\n",
      "378/378 [==============================] - 0s 57us/step - loss: 0.0251 - val_loss: 0.0277\n",
      "Epoch 208/240\n",
      "378/378 [==============================] - 0s 50us/step - loss: 0.0251 - val_loss: 0.0279\n",
      "Epoch 209/240\n",
      "378/378 [==============================] - ETA: 0s - loss: 0.025 - 0s 55us/step - loss: 0.0250 - val_loss: 0.0278\n",
      "Epoch 210/240\n",
      "378/378 [==============================] - 0s 50us/step - loss: 0.0251 - val_loss: 0.0277\n",
      "Epoch 211/240\n",
      "378/378 [==============================] - 0s 58us/step - loss: 0.0251 - val_loss: 0.0277\n",
      "Epoch 212/240\n",
      "378/378 [==============================] - 0s 57us/step - loss: 0.0251 - val_loss: 0.0279\n",
      "Epoch 213/240\n",
      "378/378 [==============================] - 0s 46us/step - loss: 0.0250 - val_loss: 0.0281\n",
      "Epoch 214/240\n",
      "378/378 [==============================] - 0s 54us/step - loss: 0.0250 - val_loss: 0.0277\n",
      "Epoch 215/240\n",
      "378/378 [==============================] - 0s 58us/step - loss: 0.0250 - val_loss: 0.0278\n",
      "Epoch 216/240\n",
      "378/378 [==============================] - 0s 51us/step - loss: 0.0250 - val_loss: 0.0277\n",
      "Epoch 217/240\n",
      "378/378 [==============================] - 0s 54us/step - loss: 0.0250 - val_loss: 0.0278\n",
      "Epoch 218/240\n",
      "378/378 [==============================] - 0s 58us/step - loss: 0.0250 - val_loss: 0.0277\n",
      "Epoch 219/240\n",
      "378/378 [==============================] - 0s 53us/step - loss: 0.0251 - val_loss: 0.0277\n",
      "Epoch 220/240\n",
      "378/378 [==============================] - 0s 59us/step - loss: 0.0249 - val_loss: 0.0276\n",
      "Epoch 221/240\n",
      "378/378 [==============================] - 0s 55us/step - loss: 0.0251 - val_loss: 0.0277\n",
      "Epoch 222/240\n",
      "378/378 [==============================] - 0s 54us/step - loss: 0.0250 - val_loss: 0.0278\n",
      "Epoch 223/240\n",
      "378/378 [==============================] - 0s 50us/step - loss: 0.0250 - val_loss: 0.0279\n",
      "Epoch 224/240\n",
      "378/378 [==============================] - 0s 54us/step - loss: 0.0249 - val_loss: 0.0278\n",
      "Epoch 225/240\n",
      "378/378 [==============================] - 0s 63us/step - loss: 0.0251 - val_loss: 0.0279\n",
      "Epoch 226/240\n",
      "378/378 [==============================] - 0s 63us/step - loss: 0.0250 - val_loss: 0.0280\n",
      "Epoch 227/240\n",
      "378/378 [==============================] - 0s 67us/step - loss: 0.0250 - val_loss: 0.0279\n",
      "Epoch 228/240\n",
      "378/378 [==============================] - 0s 53us/step - loss: 0.0250 - val_loss: 0.0278\n",
      "Epoch 229/240\n",
      "378/378 [==============================] - 0s 56us/step - loss: 0.0251 - val_loss: 0.0277\n",
      "Epoch 230/240\n",
      "378/378 [==============================] - 0s 59us/step - loss: 0.0249 - val_loss: 0.0279\n",
      "Epoch 231/240\n",
      "378/378 [==============================] - 0s 55us/step - loss: 0.0250 - val_loss: 0.0278\n",
      "Epoch 232/240\n",
      "378/378 [==============================] - 0s 56us/step - loss: 0.0250 - val_loss: 0.0280\n",
      "Epoch 233/240\n",
      "378/378 [==============================] - 0s 52us/step - loss: 0.0250 - val_loss: 0.0281\n",
      "Epoch 234/240\n",
      "378/378 [==============================] - 0s 52us/step - loss: 0.0249 - val_loss: 0.0279\n"
     ]
    },
    {
     "name": "stdout",
     "output_type": "stream",
     "text": [
      "Epoch 235/240\n",
      "378/378 [==============================] - 0s 56us/step - loss: 0.0249 - val_loss: 0.0277\n",
      "Epoch 236/240\n",
      "378/378 [==============================] - 0s 56us/step - loss: 0.0250 - val_loss: 0.0277\n",
      "Epoch 237/240\n",
      "378/378 [==============================] - 0s 57us/step - loss: 0.0249 - val_loss: 0.0278\n",
      "Epoch 238/240\n",
      "378/378 [==============================] - 0s 49us/step - loss: 0.0249 - val_loss: 0.0279\n",
      "Epoch 239/240\n",
      "378/378 [==============================] - 0s 55us/step - loss: 0.0250 - val_loss: 0.0278\n",
      "Epoch 240/240\n",
      "378/378 [==============================] - 0s 57us/step - loss: 0.0249 - val_loss: 0.0280\n"
     ]
    }
   ],
   "source": [
    "pred_appliance = {}\n",
    "num_iterations_dictionary = {'hvac':240,'fridge':500,'mw':250,'dw':250,'oven':250, 'wm':300}\n",
    "for appliance in APPLIANCES_ORDER[1:2]:\n",
    "    print(appliance)\n",
    "    print(\"*\"*20)\n",
    "    np.random.seed(0)\n",
    "    from keras.layers.merge import Subtract, Minimum\n",
    "    from keras import regularizers\n",
    "    agg_input = keras.layers.Input(shape=[24],name='Aggregate')\n",
    "    appliance_dense_1 = keras.layers.Dense(units=40,name='Appliance-layer-1',activation='relu')(agg_input)\n",
    "    dropout = keras.layers.Dropout(rate=0.1,name='Droput-Appliance')(appliance_dense_1)\n",
    "\n",
    "\n",
    "\n",
    "\n",
    "    out = keras.layers.Dense(units=24,name='Appliance-output',activation='relu')(dropout)\n",
    "    out = Minimum(name='Clip-to-agg')([out, agg_input])\n",
    "\n",
    "\n",
    "    model = keras.Model(agg_input, out)\n",
    "    model.compile('adam','mean_absolute_error')\n",
    "    model.fit(train_agg, train_appliance[appliance], epochs=num_iterations_dictionary[appliance], validation_split=0.1)\n",
    "    pred_appliance[appliance] = model.predict(test_agg)*t_all[:30, 0, :].max()\n",
    "\n"
   ]
  },
  {
   "cell_type": "code",
   "execution_count": 32,
   "metadata": {
    "collapsed": true
   },
   "outputs": [],
   "source": [
    "with open('per-appliance.pdf','wb') as f:\n",
    "    f.write(model_to_dot(model,  show_shapes=True, show_layer_names=True, rankdir='HB').create(prog='dot', format='pdf'))\n",
    "\n"
   ]
  },
  {
   "cell_type": "code",
   "execution_count": 60,
   "metadata": {},
   "outputs": [
    {
     "name": "stdout",
     "output_type": "stream",
     "text": [
      "__________________________________________________________________________________________________\n",
      "Layer (type)                    Output Shape         Param #     Connected to                     \n",
      "==================================================================================================\n",
      "Aggregate (InputLayer)          (None, 24)           0                                            \n",
      "__________________________________________________________________________________________________\n",
      "Appliance-layer-1 (Dense)       (None, 40)           1000        Aggregate[0][0]                  \n",
      "__________________________________________________________________________________________________\n",
      "Droput-Appliance (Dropout)      (None, 40)           0           Appliance-layer-1[0][0]          \n",
      "__________________________________________________________________________________________________\n",
      "Appliance-output (Dense)        (None, 24)           984         Droput-Appliance[0][0]           \n",
      "__________________________________________________________________________________________________\n",
      "Clip-to-agg (Minimum)           (None, 24)           0           Appliance-output[0][0]           \n",
      "                                                                 Aggregate[0][0]                  \n",
      "==================================================================================================\n",
      "Total params: 1,984\n",
      "Trainable params: 1,984\n",
      "Non-trainable params: 0\n",
      "__________________________________________________________________________________________________\n"
     ]
    }
   ],
   "source": [
    "model.summary()"
   ]
  },
  {
   "cell_type": "code",
   "execution_count": 61,
   "metadata": {},
   "outputs": [
    {
     "name": "stdout",
     "output_type": "stream",
     "text": [
      "'fridge'\n",
      "'mw'\n",
      "'dw'\n",
      "'wm'\n",
      "'oven'\n"
     ]
    }
   ],
   "source": [
    "from sklearn.metrics import mean_absolute_error\n",
    "mae = {}\n",
    "for appliance in APPLIANCES_ORDER[1:]:\n",
    "    try:\n",
    "        mae[appliance] = mean_absolute_error(test_appliance[appliance], pred_appliance[appliance])\n",
    "    except Exception as e:\n",
    "        print(e)\n",
    "    \n",
    "    "
   ]
  },
  {
   "cell_type": "code",
   "execution_count": 62,
   "metadata": {},
   "outputs": [
    {
     "data": {
      "text/plain": [
       "array([[  284.06668091,   260.91665649,   280.2166748 , ...,\n",
       "          243.7666626 ,   235.9833374 ,     0.        ],\n",
       "       [  240.8666687 ,     0.        ,     0.        , ...,\n",
       "          451.3999939 ,   115.3666687 ,   279.68331909],\n",
       "       [    8.21666622,     0.        ,   270.54998779, ...,\n",
       "          321.93331909,   523.45001221,   307.18331909],\n",
       "       ..., \n",
       "       [  824.68334961,   819.2166748 ,   300.8500061 , ...,\n",
       "          690.88336182,   783.04998779,  2006.68334961],\n",
       "       [ 1167.61669922,  1257.66662598,   925.9666748 , ...,\n",
       "          736.93334961,  2178.05004883,  1140.5       ],\n",
       "       [  968.13336182,   959.18334961,   721.79998779, ...,\n",
       "          785.43334961,  2122.94995117,  1417.83337402]])"
      ]
     },
     "execution_count": 62,
     "metadata": {},
     "output_type": "execute_result"
    }
   ],
   "source": [
    "test_appliance['hvac']"
   ]
  },
  {
   "cell_type": "code",
   "execution_count": 63,
   "metadata": {},
   "outputs": [
    {
     "data": {
      "text/plain": [
       "array([[  352.5166626 ,   340.69998169,   359.04998779, ...,\n",
       "          334.5166626 ,   290.18331909,    43.63333511],\n",
       "       [  326.25      ,    79.71666718,    39.41666412, ...,\n",
       "          538.01660156,   184.31665039,   341.7333374 ],\n",
       "       [   71.69999695,    86.25      ,   354.18331909, ...,\n",
       "          539.98327637,   657.95001221,   390.2666626 ],\n",
       "       ..., \n",
       "       [  889.59997559,   882.86669922,   487.75      , ...,\n",
       "          808.75      ,   904.4666748 ,  2086.83325195],\n",
       "       [ 1292.09997559,  1368.68322754,  1103.33337402, ...,\n",
       "          852.31671143,  2249.58325195,  1216.26660156],\n",
       "       [ 1143.51660156,  1097.15002441,   831.14996338, ...,\n",
       "          941.18334961,  2303.64990234,  1493.20007324]], dtype=float32)"
      ]
     },
     "execution_count": 63,
     "metadata": {},
     "output_type": "execute_result"
    }
   ],
   "source": [
    "pred_appliance['hvac']"
   ]
  },
  {
   "cell_type": "code",
   "execution_count": 64,
   "metadata": {},
   "outputs": [
    {
     "data": {
      "text/plain": [
       "hvac    138.096256\n",
       "dtype: float64"
      ]
     },
     "execution_count": 64,
     "metadata": {},
     "output_type": "execute_result"
    }
   ],
   "source": [
    "pd.Series(mae)"
   ]
  },
  {
   "cell_type": "code",
   "execution_count": 65,
   "metadata": {},
   "outputs": [
    {
     "data": {
      "text/plain": [
       "hvac    138.096256\n",
       "dtype: float64"
      ]
     },
     "execution_count": 65,
     "metadata": {},
     "output_type": "execute_result"
    }
   ],
   "source": [
    "pd.Series(mae)"
   ]
  },
  {
   "cell_type": "code",
   "execution_count": 66,
   "metadata": {},
   "outputs": [
    {
     "ename": "NameError",
     "evalue": "name 'pred_hvac' is not defined",
     "output_type": "error",
     "traceback": [
      "\u001b[0;31m---------------------------------------------------------------------------\u001b[0m",
      "\u001b[0;31mNameError\u001b[0m                                 Traceback (most recent call last)",
      "\u001b[0;32m<ipython-input-66-e3bb23416236>\u001b[0m in \u001b[0;36m<module>\u001b[0;34m()\u001b[0m\n\u001b[0;32m----> 1\u001b[0;31m \u001b[0mpred_hvac\u001b[0m\u001b[0;34m.\u001b[0m\u001b[0mshape\u001b[0m\u001b[0;34m\u001b[0m\u001b[0m\n\u001b[0m",
      "\u001b[0;31mNameError\u001b[0m: name 'pred_hvac' is not defined"
     ]
    }
   ],
   "source": [
    "pred_hvac.shape"
   ]
  },
  {
   "cell_type": "code",
   "execution_count": 67,
   "metadata": {},
   "outputs": [
    {
     "name": "stdout",
     "output_type": "stream",
     "text": [
      "88.7577573748\n",
      "0.00213249505944\n"
     ]
    }
   ],
   "source": [
    "pred_hvac = model.predict(test_agg)\n",
    "\n",
    "\n",
    "from sklearn.metrics import mean_absolute_error\n",
    "print(mean_absolute_error(pred_hvac, test_fridge))\n",
    "print(mean_absolute_error(pred_hvac, test_agg))\n",
    "\n",
    "\n"
   ]
  },
  {
   "cell_type": "code",
   "execution_count": 282,
   "metadata": {},
   "outputs": [
    {
     "data": {
      "text/plain": [
       "0     1.907349e-06\n",
       "1    -3.877686e+00\n",
       "2    -9.150000e+00\n",
       "3     0.000000e+00\n",
       "4     0.000000e+00\n",
       "5    -9.633333e+00\n",
       "6     0.000000e+00\n",
       "7     2.861023e-06\n",
       "8    -8.683333e+00\n",
       "9     9.536743e-07\n",
       "10    0.000000e+00\n",
       "11    9.536743e-07\n",
       "12   -9.583333e+00\n",
       "13   -9.516666e+00\n",
       "14   -4.711666e+01\n",
       "15    3.099442e-06\n",
       "16   -4.685000e+01\n",
       "17    9.536743e-07\n",
       "18   -7.310000e+01\n",
       "19   -7.350000e+01\n",
       "20   -4.180000e+01\n",
       "21    0.000000e+00\n",
       "22   -9.616667e+00\n",
       "23   -9.533334e+00\n",
       "dtype: float64"
      ]
     },
     "execution_count": 282,
     "metadata": {},
     "output_type": "execute_result"
    }
   ],
   "source": [
    "(pd.DataFrame(pred_hvac) - pd.DataFrame(test_agg)).max()"
   ]
  },
  {
   "cell_type": "code",
   "execution_count": 1,
   "metadata": {},
   "outputs": [
    {
     "ename": "NameError",
     "evalue": "name 'pd' is not defined",
     "output_type": "error",
     "traceback": [
      "\u001b[0;31m---------------------------------------------------------------------------\u001b[0m",
      "\u001b[0;31mNameError\u001b[0m                                 Traceback (most recent call last)",
      "\u001b[0;32m<ipython-input-1-f56c5e38e529>\u001b[0m in \u001b[0;36m<module>\u001b[0;34m()\u001b[0m\n\u001b[0;32m----> 1\u001b[0;31m \u001b[0mpd\u001b[0m\u001b[0;34m.\u001b[0m\u001b[0mSeries\u001b[0m\u001b[0;34m(\u001b[0m\u001b[0mtest_mw\u001b[0m\u001b[0;34m[\u001b[0m\u001b[0;36m1\u001b[0m\u001b[0;34m,\u001b[0m \u001b[0;34m:\u001b[0m\u001b[0;34m]\u001b[0m\u001b[0;34m)\u001b[0m\u001b[0;34m.\u001b[0m\u001b[0mplot\u001b[0m\u001b[0;34m(\u001b[0m\u001b[0mlabel\u001b[0m\u001b[0;34m=\u001b[0m\u001b[0;34m'GT'\u001b[0m\u001b[0;34m)\u001b[0m\u001b[0;34m\u001b[0m\u001b[0m\n\u001b[0m\u001b[1;32m      2\u001b[0m \u001b[0;31m#pd.Series(test_agg[1, :]).plot(label='GT')\u001b[0m\u001b[0;34m\u001b[0m\u001b[0;34m\u001b[0m\u001b[0m\n\u001b[1;32m      3\u001b[0m \u001b[0;34m\u001b[0m\u001b[0m\n\u001b[1;32m      4\u001b[0m \u001b[0;34m\u001b[0m\u001b[0m\n\u001b[1;32m      5\u001b[0m \u001b[0mpd\u001b[0m\u001b[0;34m.\u001b[0m\u001b[0mSeries\u001b[0m\u001b[0;34m(\u001b[0m\u001b[0mmodel\u001b[0m\u001b[0;34m.\u001b[0m\u001b[0mpredict\u001b[0m\u001b[0;34m(\u001b[0m\u001b[0mtest_agg\u001b[0m\u001b[0;34m[\u001b[0m\u001b[0;36m1\u001b[0m\u001b[0;34m:\u001b[0m\u001b[0;36m2\u001b[0m\u001b[0;34m]\u001b[0m\u001b[0;34m)\u001b[0m\u001b[0;34m[\u001b[0m\u001b[0;36m0\u001b[0m\u001b[0;34m,\u001b[0m \u001b[0;34m:\u001b[0m\u001b[0;36m24\u001b[0m\u001b[0;34m]\u001b[0m\u001b[0;34m)\u001b[0m\u001b[0;34m.\u001b[0m\u001b[0mplot\u001b[0m\u001b[0;34m(\u001b[0m\u001b[0mlabel\u001b[0m\u001b[0;34m=\u001b[0m\u001b[0;34m'Pred'\u001b[0m\u001b[0;34m)\u001b[0m\u001b[0;34m\u001b[0m\u001b[0m\n",
      "\u001b[0;31mNameError\u001b[0m: name 'pd' is not defined"
     ]
    }
   ],
   "source": [
    "pd.Series(test_mw[1, :]).plot(label='GT')\n",
    "#pd.Series(test_agg[1, :]).plot(label='GT')\n",
    "\n",
    "\n",
    "pd.Series(model.predict(test_agg[1:2])[0, :24]).plot(label='Pred')\n",
    "\n",
    "\n",
    "\n",
    "\n",
    "plt.legend()"
   ]
  },
  {
   "cell_type": "code",
   "execution_count": null,
   "metadata": {
    "collapsed": true
   },
   "outputs": [],
   "source": []
  }
 ],
 "metadata": {
  "kernelspec": {
   "display_name": "Python 3",
   "language": "python",
   "name": "python3"
  },
  "language_info": {
   "codemirror_mode": {
    "name": "ipython",
    "version": 3
   },
   "file_extension": ".py",
   "mimetype": "text/x-python",
   "name": "python",
   "nbconvert_exporter": "python",
   "pygments_lexer": "ipython3",
   "version": "3.6.3"
  }
 },
 "nbformat": 4,
 "nbformat_minor": 2
}
