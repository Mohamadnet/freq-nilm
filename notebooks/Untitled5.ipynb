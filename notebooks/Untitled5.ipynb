{
 "cells": [
  {
   "cell_type": "code",
   "execution_count": 144,
   "metadata": {
    "collapsed": true
   },
   "outputs": [],
   "source": [
    "import numpy as np\n",
    "from pathlib import Path\n"
   ]
  },
  {
   "cell_type": "code",
   "execution_count": 173,
   "metadata": {},
   "outputs": [
    {
     "name": "stdout",
     "output_type": "stream",
     "text": [
      "python baseline-stf-nested-valid.py 1 4 19 0.1 2500\n",
      "1\n"
     ]
    }
   ],
   "source": [
    "c = 0\n",
    "srv=1\n",
    "pid=0\n",
    "for dataset in [1, 2]:\n",
    "    for cur_fold in range(5):\n",
    "        for num_latent in range(1, 21):\n",
    "            for lr in [0.01, 0.1, 1, 2]:\n",
    "                lr = float(lr)\n",
    "                for iters in range(100, 2600, 400):\n",
    "                    filename = \"stf-pred-{}-{}-{}-{}-{}.npy\".format(dataset, cur_fold, num_latent, lr, iters)\n",
    "                    directory = \"../code/baseline/stf/{}/valid/\".format(dataset)\n",
    "                    full_path = directory + filename\n",
    "                    my_file = Path(full_path)\n",
    "                    if not my_file.exists():\n",
    "                        c += 1\n",
    "                        print(\"python baseline-stf-nested-valid.py {} {} {} {} {}\".format(dataset, cur_fold, num_latent, lr, iters))\n",
    "                        line = \"python baseline-stf-nested-valid.py {} {} {} {} {}\\n\".format(dataset, cur_fold, num_latent, lr, iters)\n",
    "\n",
    "#                         with open('../code/hcdm{}-{}.sh'.format(srv, pid), 'a') as the_file:\n",
    "#                             the_file.write(\"#!bin/bash \\n\")\n",
    "#                             the_file.write(line)\n",
    "                        \n",
    "#                         if c%38 == 0:\n",
    "#                             pid += 1\n",
    "#                         if pid == 13:\n",
    "#                             pid = 0\n",
    "#                             srv += 1\n",
    "print(c)"
   ]
  },
  {
   "cell_type": "code",
   "execution_count": 158,
   "metadata": {},
   "outputs": [
    {
     "data": {
      "text/plain": [
       "1762"
      ]
     },
     "execution_count": 158,
     "metadata": {},
     "output_type": "execute_result"
    }
   ],
   "source": [
    "c"
   ]
  },
  {
   "cell_type": "code",
   "execution_count": 149,
   "metadata": {
    "scrolled": true
   },
   "outputs": [
    {
     "name": "stdout",
     "output_type": "stream",
     "text": [
      "nohup sh hcdm1-0.sh &> hcdm1-0.out &\n",
      "nohup sh hcdm1-1.sh &> hcdm1-1.out &\n",
      "nohup sh hcdm1-2.sh &> hcdm1-2.out &\n",
      "nohup sh hcdm1-3.sh &> hcdm1-3.out &\n",
      "nohup sh hcdm1-4.sh &> hcdm1-4.out &\n",
      "nohup sh hcdm1-5.sh &> hcdm1-5.out &\n",
      "nohup sh hcdm1-6.sh &> hcdm1-6.out &\n",
      "nohup sh hcdm1-7.sh &> hcdm1-7.out &\n",
      "nohup sh hcdm1-8.sh &> hcdm1-8.out &\n",
      "nohup sh hcdm1-9.sh &> hcdm1-9.out &\n",
      "nohup sh hcdm1-10.sh &> hcdm1-10.out &\n",
      "nohup sh hcdm1-11.sh &> hcdm1-11.out &\n",
      "nohup sh hcdm1-12.sh &> hcdm1-12.out &\n",
      "nohup sh hcdm2-0.sh &> hcdm2-0.out &\n",
      "nohup sh hcdm2-1.sh &> hcdm2-1.out &\n",
      "nohup sh hcdm2-2.sh &> hcdm2-2.out &\n",
      "nohup sh hcdm2-3.sh &> hcdm2-3.out &\n",
      "nohup sh hcdm2-4.sh &> hcdm2-4.out &\n",
      "nohup sh hcdm2-5.sh &> hcdm2-5.out &\n",
      "nohup sh hcdm2-6.sh &> hcdm2-6.out &\n",
      "nohup sh hcdm2-7.sh &> hcdm2-7.out &\n",
      "nohup sh hcdm2-8.sh &> hcdm2-8.out &\n",
      "nohup sh hcdm2-9.sh &> hcdm2-9.out &\n",
      "nohup sh hcdm2-10.sh &> hcdm2-10.out &\n",
      "nohup sh hcdm2-11.sh &> hcdm2-11.out &\n",
      "nohup sh hcdm2-12.sh &> hcdm2-12.out &\n",
      "nohup sh hcdm3-0.sh &> hcdm3-0.out &\n",
      "nohup sh hcdm3-1.sh &> hcdm3-1.out &\n",
      "nohup sh hcdm3-2.sh &> hcdm3-2.out &\n",
      "nohup sh hcdm3-3.sh &> hcdm3-3.out &\n",
      "nohup sh hcdm3-4.sh &> hcdm3-4.out &\n",
      "nohup sh hcdm3-5.sh &> hcdm3-5.out &\n",
      "nohup sh hcdm3-6.sh &> hcdm3-6.out &\n",
      "nohup sh hcdm3-7.sh &> hcdm3-7.out &\n",
      "nohup sh hcdm3-8.sh &> hcdm3-8.out &\n",
      "nohup sh hcdm3-9.sh &> hcdm3-9.out &\n",
      "nohup sh hcdm3-10.sh &> hcdm3-10.out &\n",
      "nohup sh hcdm3-11.sh &> hcdm3-11.out &\n",
      "nohup sh hcdm3-12.sh &> hcdm3-12.out &\n",
      "nohup sh hcdm4-0.sh &> hcdm4-0.out &\n",
      "nohup sh hcdm4-1.sh &> hcdm4-1.out &\n",
      "nohup sh hcdm4-2.sh &> hcdm4-2.out &\n",
      "nohup sh hcdm4-3.sh &> hcdm4-3.out &\n",
      "nohup sh hcdm4-4.sh &> hcdm4-4.out &\n",
      "nohup sh hcdm4-5.sh &> hcdm4-5.out &\n",
      "nohup sh hcdm4-6.sh &> hcdm4-6.out &\n",
      "nohup sh hcdm4-7.sh &> hcdm4-7.out &\n",
      "nohup sh hcdm4-8.sh &> hcdm4-8.out &\n",
      "nohup sh hcdm4-9.sh &> hcdm4-9.out &\n",
      "nohup sh hcdm4-10.sh &> hcdm4-10.out &\n",
      "nohup sh hcdm4-11.sh &> hcdm4-11.out &\n",
      "nohup sh hcdm4-12.sh &> hcdm4-12.out &\n"
     ]
    }
   ],
   "source": [
    "for i in range(1, 5):\n",
    "    for j in range(13):\n",
    "        print(\"nohup sh hcdm{}-{}.sh &> hcdm{}-{}.out &\".format(i, j, i, j))"
   ]
  },
  {
   "cell_type": "code",
   "execution_count": 168,
   "metadata": {
    "collapsed": true
   },
   "outputs": [],
   "source": [
    "c = 0\n",
    "line = {}\n",
    "for dataset in [1, 2]:\n",
    "    for cur_fold in range(5):\n",
    "        for num_latent in range(1, 21):\n",
    "            for lr in [0.01, 0.1, 1, 2]:\n",
    "                lr = float(lr)\n",
    "                for iters in range(100, 2600, 400):\n",
    "                    filename = \"mtf-pred-{}-{}-{}-{}-{}.npy\".format(dataset, cur_fold, num_latent, lr, iters)\n",
    "                    directory = \"../code/baseline/mtf/{}/valid/\".format(dataset)\n",
    "                    full_path = directory + filename\n",
    "                    my_file = Path(full_path)\n",
    "                    if not my_file.exists():\n",
    "                        c += 1\n",
    "#                         print(\"python baseline-mtf-nested-valid.py {} {} {} {} {} &\".format(dataset, cur_fold, num_latent, lr, iters))\n",
    "                        line[c-1] = \"python baseline-mtf-nested-valid.py {} {} {} {} {} &\".format(dataset, cur_fold, num_latent, lr, iters)"
   ]
  },
  {
   "cell_type": "code",
   "execution_count": 169,
   "metadata": {},
   "outputs": [
    {
     "data": {
      "text/plain": [
       "1132"
      ]
     },
     "execution_count": 169,
     "metadata": {},
     "output_type": "execute_result"
    }
   ],
   "source": [
    "c"
   ]
  },
  {
   "cell_type": "code",
   "execution_count": 152,
   "metadata": {
    "collapsed": true
   },
   "outputs": [],
   "source": [
    "import time\n",
    "times = 10\n",
    "c = 0\n",
    "for dataset in [2]:\n",
    "    for cluster in [1, 2, 3]:\n",
    "        for cur_fold in range(5):\n",
    "            for num_latent in range(1, 21):\n",
    "                for lr in [0.01, 0.1, 1, 2]:\n",
    "                    lr = float(lr)\n",
    "                    for iters in range(100, 2600, 400):\n",
    "                        \n",
    "                        filename = \"stf-pred-{}-{}-{}-{}-{}-{}.npy\".format(dataset, cluster, cur_fold, num_latent, lr, iters)\n",
    "                        directory = \"../code/baseline/stf-cluster/valid/\".format(dataset)\n",
    "                        full_path = directory + filename\n",
    "                        my_file = Path(full_path)\n",
    "                        if not my_file.exists():\n",
    "                        \n",
    "                            c += 1\n",
    "                            print(\"python baseline-stf-nested-cluster-valid.py {} {} {} {} {} {} &\".format(dataset, cluster, cur_fold, num_latent, lr, iters))"
   ]
  },
  {
   "cell_type": "code",
   "execution_count": 166,
   "metadata": {
    "collapsed": true
   },
   "outputs": [],
   "source": [
    "import time\n",
    "times = 10\n",
    "c = 0\n",
    "for dataset in [2]:\n",
    "    for cluster in [1, 2, 3]:\n",
    "        for cur_fold in range(5):\n",
    "            for num_latent in range(1, 21):\n",
    "                for lr in [0.01, 0.1, 1, 2]:\n",
    "                    lr = float(lr)\n",
    "                    for iters in range(100, 2600, 400):\n",
    "                        \n",
    "                        filename = \"mtf-pred-{}-{}-{}-{}-{}-{}.npy\".format(dataset, cluster, cur_fold, num_latent, lr, iters)\n",
    "                        directory = \"../code/baseline/mtf-cluster/valid/\".format(dataset)\n",
    "                        full_path = directory + filename\n",
    "                        my_file = Path(full_path)\n",
    "                        if not my_file.exists():\n",
    "                        \n",
    "                            c += 1\n",
    "                            print(\"python baseline-mtf-nested-cluster-valid.py {} {} {} {} {} {} &\".format(dataset, cluster, cur_fold, num_latent, lr, iters))"
   ]
  },
  {
   "cell_type": "code",
   "execution_count": 167,
   "metadata": {},
   "outputs": [
    {
     "data": {
      "text/plain": [
       "0"
      ]
     },
     "execution_count": 167,
     "metadata": {},
     "output_type": "execute_result"
    }
   ],
   "source": [
    "c"
   ]
  }
 ],
 "metadata": {
  "kernelspec": {
   "display_name": "Python 3",
   "language": "python",
   "name": "python3"
  },
  "language_info": {
   "codemirror_mode": {
    "name": "ipython",
    "version": 3
   },
   "file_extension": ".py",
   "mimetype": "text/x-python",
   "name": "python",
   "nbconvert_exporter": "python",
   "pygments_lexer": "ipython3",
   "version": "3.6.3"
  }
 },
 "nbformat": 4,
 "nbformat_minor": 2
}
