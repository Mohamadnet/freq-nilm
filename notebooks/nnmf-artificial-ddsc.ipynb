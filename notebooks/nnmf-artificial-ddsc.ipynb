{
 "cells": [
  {
   "cell_type": "code",
   "execution_count": 1,
   "metadata": {},
   "outputs": [
    {
     "data": {
      "text/plain": [
       "['hvac', 'fridge', 'mw', 'dw', 'wm', 'oven']"
      ]
     },
     "execution_count": 1,
     "metadata": {},
     "output_type": "execute_result"
    }
   ],
   "source": [
    "import sys\n",
    "sys.path.append(\"../code/\")\n",
    "from common import APPLIANCES_ORDER\n",
    "APPLIANCES_ORDER[1:]"
   ]
  },
  {
   "cell_type": "code",
   "execution_count": 2,
   "metadata": {
    "collapsed": true
   },
   "outputs": [],
   "source": [
    "import numpy as np\n",
    "import pandas as pd\n",
    "import matplotlib.pyplot as plt\n",
    "%matplotlib inline"
   ]
  },
  {
   "cell_type": "code",
   "execution_count": 3,
   "metadata": {
    "collapsed": true
   },
   "outputs": [],
   "source": [
    "tensor = np.load('../1H-input.npy')"
   ]
  },
  {
   "cell_type": "code",
   "execution_count": 4,
   "metadata": {
    "collapsed": true
   },
   "outputs": [],
   "source": [
    "def create_subset_dataset(tensor):\n",
    "    t_subset = tensor[:, :, 180:194, :]\n",
    "    all_indices = np.array(list(range(320)))\n",
    "    for i in range(1, 7):\n",
    "        valid_homes = pd.DataFrame(t_subset[:, i, :].reshape(320, 14*24)).dropna().index\n",
    "        all_indices = np.intersect1d(all_indices, valid_homes)\n",
    "    t_subset = t_subset[all_indices, :, :, :].reshape(52, 7, 14*24)\n",
    "    \n",
    "    # Create artificial aggregate\n",
    "    t_subset[:, 0, :] = 0.0\n",
    "    for i in range(1, 7):\n",
    "        t_subset[:, 0, :] = t_subset[:, 0, :] + t_subset[:, i, :]\n",
    "    # t_subset is of shape (#home, appliance, days*hours)\n",
    "    return t_subset, all_indices"
   ]
  },
  {
   "cell_type": "code",
   "execution_count": 5,
   "metadata": {},
   "outputs": [
    {
     "data": {
      "text/plain": [
       "(52, 7, 336)"
      ]
     },
     "execution_count": 5,
     "metadata": {},
     "output_type": "execute_result"
    }
   ],
   "source": [
    "t_all, valid_homes = create_subset_dataset(tensor)\n",
    "t_all.shape"
   ]
  },
  {
   "cell_type": "code",
   "execution_count": 6,
   "metadata": {},
   "outputs": [
    {
     "data": {
      "text/plain": [
       "(52, 7, 336)"
      ]
     },
     "execution_count": 6,
     "metadata": {},
     "output_type": "execute_result"
    }
   ],
   "source": [
    "t_all.shape"
   ]
  },
  {
   "cell_type": "code",
   "execution_count": 7,
   "metadata": {
    "collapsed": true
   },
   "outputs": [],
   "source": [
    "def modify_axes_for_sc(t_all):\n",
    "    t_all_copy = t_all.copy()\n",
    "    t_all_copy = t_all_copy.swapaxes(0, 2)\n",
    "    return t_all_copy"
   ]
  },
  {
   "cell_type": "code",
   "execution_count": 8,
   "metadata": {},
   "outputs": [
    {
     "data": {
      "text/plain": [
       "(336, 7, 52)"
      ]
     },
     "execution_count": 8,
     "metadata": {},
     "output_type": "execute_result"
    }
   ],
   "source": [
    "t_all_copy = modify_axes_for_sc(t_all)\n",
    "t_all_copy.shape"
   ]
  },
  {
   "cell_type": "code",
   "execution_count": 9,
   "metadata": {
    "collapsed": true
   },
   "outputs": [],
   "source": [
    "def train_test_sc(t_all):\n",
    "    return t_all[:, :, :30], t_all[ :, :,30:]\n",
    "\n"
   ]
  },
  {
   "cell_type": "code",
   "execution_count": 10,
   "metadata": {
    "collapsed": true
   },
   "outputs": [],
   "source": [
    "# Creating dataset for MTF\n",
    "tensor_mtf = tensor[valid_homes, :, 180:194, :]\n",
    "tensor_mtf[30:, 1:, :, :] = np.nan"
   ]
  },
  {
   "cell_type": "code",
   "execution_count": 11,
   "metadata": {
    "collapsed": true
   },
   "outputs": [],
   "source": [
    "train_sc, test_sc = train_test_sc(t_all_copy)\n"
   ]
  },
  {
   "cell_type": "code",
   "execution_count": 12,
   "metadata": {
    "collapsed": true
   },
   "outputs": [],
   "source": [
    "class SparseCoding:\n",
    "    def train(self, Xs, num_latent=2):\n",
    "        \"\"\"\n",
    "        Xs: N appliance X T_time X M homes \n",
    "        N does not include the aggregate\n",
    "        num_latent: number of latent factors\n",
    "        \"\"\"\n",
    "        self.N, self.T, self.M = Xs.shape\n",
    "        self.num_latent = num_latent\n",
    "        from sklearn.decomposition import NMF\n",
    "        self.As = []\n",
    "        self.Bs = []\n",
    "        for i in range(self.N):\n",
    "            self.model = NMF(n_components=self.num_latent, init='random', random_state=0)\n",
    "            self.Bs.append(self.model.fit_transform(Xs[i]))\n",
    "            self.As.append(self.model.components_)\n",
    "    \n",
    "    def disaggregate_home(self, X_test_agg):\n",
    "        from scipy.optimize import nnls\n",
    "        \n",
    "        As_learnt = nnls(np.hstack(self.Bs), X_test_agg)[0]\n",
    "        As_per_appliance = As_learnt.reshape(self.N, self.num_latent)\n",
    "        out = []\n",
    "        for appliance_num in range(self.N):\n",
    "            out.append(self.Bs[appliance_num]@As_per_appliance[appliance_num])\n",
    "        return np.array(out)\n",
    "    \n",
    "    def disaggregate(self, X_test):\n",
    "        \"\"\"\n",
    "        X_test: T_time X M homes containing aggregate data for M homes\n",
    "        \n",
    "        \"\"\"\n",
    "        self.pred = np.zeros((self.N, self.T, X_test.shape[1]))\n",
    "        from scipy.optimize import nnls\n",
    "        num_homes = X_test.shape[1]\n",
    "        for home in range(num_homes):\n",
    "            As_learnt = nnls(np.hstack(self.Bs), X_test[:,home])[0]\n",
    "            As_per_appliance = As_learnt.reshape(self.N, self.num_latent)\n",
    "            for appliance_num in range(self.N):\n",
    "                self.pred[appliance_num, :, home] = self.Bs[appliance_num]@As_per_appliance[appliance_num]\n",
    "        return self.pred\n",
    "    \n",
    "    def disaggregate_discriminative(self, X_train, X_test, num_iter=2, alpha=1e-5):\n",
    "        from scipy.optimize import nnls\n",
    "        self.prediction_iterations = np.zeros((num_iter, self.N, self.T, X_test.shape[1]))\n",
    "        \n",
    "        self.A_star = np.vstack(self.As)\n",
    "        self.B_tilde = np.hstack(self.Bs)\n",
    "\n",
    "        for iter_number in range(num_iter):\n",
    "            print(iter_number)\n",
    "            self.A_hat = nnls_autograd(self.B_tilde, X_train)\n",
    "            self.B_tilde = self.B_tilde - alpha*((X_train-self.B_tilde@self.A_hat)@self.A_hat.T - ((X_train-self.B_tilde@self.A_star)@self.A_star.T))\n",
    "            self.B_tilde[self.B_tilde<0.] = 0.\n",
    "    \n",
    "            num_homes = X_test.shape[1]\n",
    "            for home in range(num_homes):\n",
    "                As_learnt = nnls(self.B_tilde, X_test[:,home])[0]\n",
    "                self.As_per_appliance = As_learnt.reshape(self.N, self.num_latent)\n",
    "                \n",
    "                for appliance_num in range(self.N):\n",
    "                    self.prediction_iterations[iter_number, appliance_num, :, home] = self.B_tilde[:,appliance_num*self.num_latent:appliance_num*self.num_latent+self.num_latent]@self.As_per_appliance[appliance_num]\n",
    "        return self.prediction_iterations\n",
    "        \n",
    "\n",
    "        "
   ]
  },
  {
   "cell_type": "code",
   "execution_count": 13,
   "metadata": {
    "collapsed": true
   },
   "outputs": [],
   "source": [
    "def nnls_autograd(A, B, num_iter=300, eps=1e-8, lr=4):\n",
    "    \"\"\"\n",
    "    Ax = B\n",
    "    \"\"\"\n",
    "    \n",
    "    import autograd.numpy as np\n",
    "    np.random.seed(0)\n",
    "    from autograd import grad\n",
    "    \n",
    "    def cost(A, B, x):\n",
    "        \n",
    "        error = A@x - B\n",
    "        return np.sqrt((error ** 2).mean())\n",
    "    \n",
    "    mg = grad(cost, argnum=2)\n",
    "    \n",
    "    M, N = B.shape\n",
    "    r = A.shape[1]\n",
    "    x = np.abs(np.random.randn(r, N))\n",
    "  \n",
    "    sum_x =  np.zeros_like(x)\n",
    "    \n",
    "    for i in range(num_iter):\n",
    "        del_x = mg(A, B, x)\n",
    "        sum_x += eps + np.square(del_x)\n",
    "        lr_x = np.divide(lr, np.sqrt(sum_x))\n",
    "        x -= lr_x * del_x\n",
    "        \n",
    "        x[x<0]=0.\n",
    "        \n",
    "        if i % 10 == 0:\n",
    "            #print(cost(A, B, x), i)\n",
    "            sys.stdout.flush()\n",
    "\n",
    "    return x    \n",
    "        \n",
    "    "
   ]
  },
  {
   "cell_type": "code",
   "execution_count": 14,
   "metadata": {},
   "outputs": [
    {
     "name": "stdout",
     "output_type": "stream",
     "text": [
      "0\n",
      "1\n",
      "2\n",
      "3\n",
      "4\n",
      "5\n",
      "6\n",
      "7\n",
      "8\n",
      "9\n",
      "10\n",
      "11\n",
      "12\n",
      "13\n",
      "14\n",
      "15\n",
      "16\n",
      "17\n",
      "18\n",
      "19\n",
      "20\n",
      "21\n",
      "22\n",
      "23\n",
      "24\n",
      "25\n",
      "26\n",
      "27\n",
      "28\n",
      "29\n",
      "30\n",
      "31\n",
      "32\n",
      "33\n",
      "34\n",
      "35\n",
      "36\n",
      "37\n",
      "38\n",
      "39\n",
      "40\n",
      "41\n",
      "42\n",
      "43\n",
      "44\n",
      "45\n",
      "46\n",
      "47\n",
      "48\n",
      "49\n",
      "50\n",
      "51\n",
      "52\n",
      "53\n",
      "54\n",
      "55\n",
      "56\n",
      "57\n",
      "58\n",
      "59\n",
      "60\n",
      "61\n",
      "62\n",
      "63\n",
      "64\n",
      "65\n",
      "66\n",
      "67\n",
      "68\n",
      "69\n",
      "70\n",
      "71\n",
      "72\n",
      "73\n",
      "74\n",
      "75\n",
      "76\n",
      "77\n",
      "78\n",
      "79\n",
      "80\n",
      "81\n",
      "82\n",
      "83\n",
      "84\n",
      "85\n",
      "86\n",
      "87\n",
      "88\n",
      "89\n",
      "90\n",
      "91\n",
      "92\n",
      "93\n",
      "94\n",
      "95\n",
      "96\n",
      "97\n",
      "98\n",
      "99\n"
     ]
    }
   ],
   "source": [
    "c = SparseCoding()\n",
    "train_data = np.array([train_sc[:, i, :] for i in range(1, 7)])\n",
    "c.train(train_data, num_latent=3)\n",
    "p = c.disaggregate_discriminative(train_sc[:, 0, :], test_sc[:, 0, :], num_iter=100)"
   ]
  },
  {
   "cell_type": "code",
   "execution_count": 15,
   "metadata": {},
   "outputs": [
    {
     "data": {
      "text/plain": [
       "(100, 6, 336, 22)"
      ]
     },
     "execution_count": 15,
     "metadata": {},
     "output_type": "execute_result"
    }
   ],
   "source": [
    "p.shape"
   ]
  },
  {
   "cell_type": "code",
   "execution_count": 16,
   "metadata": {
    "collapsed": true
   },
   "outputs": [],
   "source": [
    "gt_agg = test_sc[:, 0, :].T.copy()"
   ]
  },
  {
   "cell_type": "code",
   "execution_count": 17,
   "metadata": {
    "collapsed": true
   },
   "outputs": [],
   "source": [
    "pred_sc_0 = p[0].swapaxes(0,1).swapaxes(0, 2)"
   ]
  },
  {
   "cell_type": "code",
   "execution_count": 18,
   "metadata": {},
   "outputs": [
    {
     "name": "stdout",
     "output_type": "stream",
     "text": [
      "1\n",
      "3\n",
      "5\n",
      "7\n",
      "9\n",
      "11\n",
      "13\n",
      "15\n",
      "17\n",
      "19\n",
      "21\n",
      "23\n",
      "25\n",
      "27\n",
      "29\n"
     ]
    }
   ],
   "source": [
    "pred_sc = {}\n",
    "for num_latent in range(1, 30, 2):\n",
    "    print(num_latent)\n",
    "    c = SparseCoding()\n",
    "    train_data = np.array([train_sc[:, i, :] for i in range(1, 7)])\n",
    "    c.train(train_data, num_latent=num_latent)\n",
    "    pred_sc[num_latent] = c.disaggregate(test_sc[:, 0, :])\n",
    "    pred_sc[num_latent] = pred_sc[num_latent].swapaxes(0,1).swapaxes(0, 2)"
   ]
  },
  {
   "cell_type": "code",
   "execution_count": 19,
   "metadata": {
    "collapsed": true
   },
   "outputs": [],
   "source": [
    "from tensor_custom_core import stf_3dim, stf_4dim_time"
   ]
  },
  {
   "cell_type": "code",
   "execution_count": 20,
   "metadata": {},
   "outputs": [
    {
     "name": "stdout",
     "output_type": "stream",
     "text": [
      "1\n",
      "********************\n",
      "1226.22349533 0\n",
      "517.146378536 50\n",
      "517.145906831 100\n",
      "517.145903618 150\n",
      "517.145903602 200\n",
      "517.145903596 250\n",
      "517.145903504 300\n",
      "517.145901844 350\n",
      "2\n",
      "********************\n",
      "1224.26735313 0\n",
      "513.850893818 50\n",
      "490.735842677 100\n",
      "487.806357059 150\n",
      "487.525878567 200\n",
      "487.468998936 250\n",
      "487.438667209 300\n",
      "487.41457461 350\n",
      "3\n",
      "********************\n",
      "1221.74921834 0\n",
      "507.779510138 50\n",
      "478.90536066 100\n",
      "474.777275342 150\n",
      "474.194765278 200\n",
      "474.00887785 250\n",
      "473.937706677 300\n",
      "473.905821129 350\n",
      "4\n",
      "********************\n",
      "1218.98795038 0\n",
      "494.500748513 50\n",
      "468.711210462 100\n",
      "466.498499327 150\n",
      "465.550736387 200\n",
      "465.002340711 250\n",
      "464.646538388 300\n",
      "464.259732694 350\n",
      "5\n",
      "********************\n",
      "1219.08391259 0\n",
      "492.941283999 50\n",
      "463.102394328 100\n",
      "458.984573519 150\n",
      "456.891689169 200\n",
      "455.984805648 250\n",
      "455.444524513 300\n",
      "455.092753738 350\n",
      "6\n",
      "********************\n",
      "1216.92420884 0\n",
      "500.229194994 50\n",
      "458.657319777 100\n",
      "450.554694444 150\n",
      "448.546892902 200\n",
      "447.683190478 250\n",
      "447.25645376 300\n",
      "446.957304332 350\n",
      "7\n",
      "********************\n",
      "1211.26671574 0\n",
      "502.489634696 50\n",
      "457.887791965 100\n",
      "448.584824943 150\n",
      "444.116161297 200\n",
      "442.619115666 250\n",
      "441.831067668 300\n",
      "441.248612577 350\n",
      "8\n",
      "********************\n",
      "1212.54651855 0\n",
      "490.601931771 50\n",
      "454.204112451 100\n",
      "439.873651156 150\n",
      "436.760159299 200\n",
      "435.054455583 250\n",
      "433.881994733 300\n",
      "433.056262618 350\n",
      "9\n",
      "********************\n",
      "1206.30767723 0\n",
      "490.975115652 50\n",
      "451.666173431 100\n",
      "437.366197668 150\n",
      "433.776162884 200\n",
      "431.523050297 250\n",
      "429.946805891 300\n",
      "428.834898165 350\n",
      "10\n",
      "********************\n",
      "1209.30847443 0\n",
      "489.598942479 50\n",
      "448.732883843 100\n",
      "432.177567943 150\n",
      "428.815981149 200\n",
      "426.388684836 250\n",
      "424.321791588 300\n",
      "422.782305187 350\n",
      "11\n",
      "********************\n",
      "1205.37454474 0\n",
      "479.878872955 50\n",
      "440.526314577 100\n",
      "430.270599155 150\n",
      "421.45580355 200\n",
      "417.966547618 250\n",
      "416.223553365 300\n",
      "415.226154057 350\n"
     ]
    }
   ],
   "source": [
    "pred_mtf_all = {}\n",
    "for r in range(1, 12):\n",
    "    print(r)\n",
    "    print(\"*\"*20)\n",
    "    H, A, D, T = stf_4dim_time(tensor_mtf, r=r, num_iter=400)\n",
    "    pred_mtf_r = np.einsum(\"Hr, Ar, Dr, ATr ->HADT\", H, A, D, T)[30:, 1:, :, :]\n",
    "    pred_mtf_r = pred_mtf_r.reshape(22, 6, 14*24)\n",
    "    pred_mtf_all[r] = pred_mtf_r\n",
    "\n"
   ]
  },
  {
   "cell_type": "code",
   "execution_count": 21,
   "metadata": {
    "collapsed": true
   },
   "outputs": [],
   "source": [
    "gt = tensor[valid_homes, :, 180:194, :][30:, 1:, :, :].reshape(22, 6, 336)"
   ]
  },
  {
   "cell_type": "code",
   "execution_count": 22,
   "metadata": {
    "collapsed": true
   },
   "outputs": [],
   "source": [
    "mean_pred = np.zeros_like(pred_mtf_r)\n",
    "mean_pred[:, :, :] = train_data.mean(axis=2)"
   ]
  },
  {
   "cell_type": "code",
   "execution_count": null,
   "metadata": {
    "collapsed": true
   },
   "outputs": [],
   "source": [
    "mean_absolute_error()"
   ]
  },
  {
   "cell_type": "code",
   "execution_count": 84,
   "metadata": {},
   "outputs": [
    {
     "data": {
      "text/plain": [
       "<matplotlib.axes._subplots.AxesSubplot at 0x1a213ed2e8>"
      ]
     },
     "execution_count": 84,
     "metadata": {},
     "output_type": "execute_result"
    },
    {
     "data": {
      "image/png": "[encoded data removed]",
      "text/plain": [
       "<matplotlib.figure.Figure at 0x1a216c60b8>"
      ]
     },
     "metadata": {},
     "output_type": "display_data"
    }
   ],
   "source": [
    "pd.DataFrame(pred_mtf_all[r][:,5,:]).iloc[0].head(100).plot()\n",
    "pd.DataFrame(gt[:,5,:]).iloc[0].head(100).plot()"
   ]
  },
  {
   "cell_type": "code",
   "execution_count": 57,
   "metadata": {},
   "outputs": [
    {
     "name": "stdout",
     "output_type": "stream",
     "text": [
      "12.5210503654\n"
     ]
    },
    {
     "data": {
      "text/plain": [
       "12.521050365351025"
      ]
     },
     "execution_count": 57,
     "metadata": {},
     "output_type": "execute_result"
    }
   ],
   "source": [
    "print(mean_absolute_error(pa.flatten(), pred_mtf_all[r][:,appliance_num,:].flatten()))\n",
    "mean_absolute_error(pa, pred_mtf_all[r][:,appliance_num,:])"
   ]
  },
  {
   "cell_type": "code",
   "execution_count": 23,
   "metadata": {
    "collapsed": true
   },
   "outputs": [],
   "source": [
    "err_mtf_all = {}\n",
    "\n",
    "\n",
    "for r in range(1, 12):\n",
    "    err_mtf_all[r] = {}\n",
    "    for appliance_num, appliance in enumerate(APPLIANCES_ORDER[1:]):\n",
    "        pa = pred_mtf_all[r][:,appliance_num,:]\n",
    "        pa[pa>gt_agg] = gt_agg[pa>gt_agg]\n",
    "        #err_sc[appliance] = np.abs(pred_sc[appliance_num]-gt[appliance_num]).mean()\n",
    "        err_mtf_all[r][appliance] = np.abs(pa-gt[:,appliance_num,:]).mean()\n"
   ]
  },
  {
   "cell_type": "code",
   "execution_count": 24,
   "metadata": {},
   "outputs": [
    {
     "data": {
      "text/html": [
       "<div>\n",
       "<style>\n",
       "    .dataframe thead tr:only-child th {\n",
       "        text-align: right;\n",
       "    }\n",
       "\n",
       "    .dataframe thead th {\n",
       "        text-align: left;\n",
       "    }\n",
       "\n",
       "    .dataframe tbody tr th {\n",
       "        vertical-align: top;\n",
       "    }\n",
       "</style>\n",
       "<table border=\"1\" class=\"dataframe\">\n",
       "  <thead>\n",
       "    <tr style=\"text-align: right;\">\n",
       "      <th></th>\n",
       "      <th>1</th>\n",
       "      <th>2</th>\n",
       "      <th>3</th>\n",
       "      <th>4</th>\n",
       "      <th>5</th>\n",
       "      <th>6</th>\n",
       "      <th>7</th>\n",
       "      <th>8</th>\n",
       "      <th>9</th>\n",
       "      <th>10</th>\n",
       "      <th>11</th>\n",
       "    </tr>\n",
       "  </thead>\n",
       "  <tbody>\n",
       "    <tr>\n",
       "      <th>dw</th>\n",
       "      <td>27.443441</td>\n",
       "      <td>27.736377</td>\n",
       "      <td>27.730207</td>\n",
       "      <td>27.725774</td>\n",
       "      <td>28.376556</td>\n",
       "      <td>28.547334</td>\n",
       "      <td>28.852048</td>\n",
       "      <td>29.512012</td>\n",
       "      <td>29.044897</td>\n",
       "      <td>29.521337</td>\n",
       "      <td>30.097115</td>\n",
       "    </tr>\n",
       "    <tr>\n",
       "      <th>fridge</th>\n",
       "      <td>37.640608</td>\n",
       "      <td>37.793890</td>\n",
       "      <td>36.601640</td>\n",
       "      <td>35.565967</td>\n",
       "      <td>36.987953</td>\n",
       "      <td>37.406032</td>\n",
       "      <td>37.143883</td>\n",
       "      <td>38.356988</td>\n",
       "      <td>37.299693</td>\n",
       "      <td>37.409178</td>\n",
       "      <td>41.756040</td>\n",
       "    </tr>\n",
       "    <tr>\n",
       "      <th>hvac</th>\n",
       "      <td>273.783189</td>\n",
       "      <td>271.332183</td>\n",
       "      <td>257.351809</td>\n",
       "      <td>257.275172</td>\n",
       "      <td>273.256861</td>\n",
       "      <td>263.257419</td>\n",
       "      <td>273.742277</td>\n",
       "      <td>247.367311</td>\n",
       "      <td>234.662925</td>\n",
       "      <td>248.362427</td>\n",
       "      <td>248.441096</td>\n",
       "    </tr>\n",
       "    <tr>\n",
       "      <th>mw</th>\n",
       "      <td>8.213624</td>\n",
       "      <td>8.228357</td>\n",
       "      <td>8.424444</td>\n",
       "      <td>8.363220</td>\n",
       "      <td>8.398282</td>\n",
       "      <td>8.469381</td>\n",
       "      <td>8.382217</td>\n",
       "      <td>8.781400</td>\n",
       "      <td>8.656094</td>\n",
       "      <td>8.477042</td>\n",
       "      <td>9.263400</td>\n",
       "    </tr>\n",
       "    <tr>\n",
       "      <th>oven</th>\n",
       "      <td>25.948707</td>\n",
       "      <td>26.304164</td>\n",
       "      <td>26.524509</td>\n",
       "      <td>27.343875</td>\n",
       "      <td>27.903536</td>\n",
       "      <td>27.879323</td>\n",
       "      <td>28.462925</td>\n",
       "      <td>28.376121</td>\n",
       "      <td>29.488139</td>\n",
       "      <td>28.294670</td>\n",
       "      <td>30.335691</td>\n",
       "    </tr>\n",
       "    <tr>\n",
       "      <th>wm</th>\n",
       "      <td>8.955449</td>\n",
       "      <td>8.986848</td>\n",
       "      <td>9.083706</td>\n",
       "      <td>9.020285</td>\n",
       "      <td>9.271590</td>\n",
       "      <td>9.206991</td>\n",
       "      <td>9.308554</td>\n",
       "      <td>9.651159</td>\n",
       "      <td>9.262288</td>\n",
       "      <td>9.453578</td>\n",
       "      <td>9.692287</td>\n",
       "    </tr>\n",
       "  </tbody>\n",
       "</table>\n",
       "</div>"
      ],
      "text/plain": [
       "                1           2           3           4           5   \\\n",
       "dw       27.443441   27.736377   27.730207   27.725774   28.376556   \n",
       "fridge   37.640608   37.793890   36.601640   35.565967   36.987953   \n",
       "hvac    273.783189  271.332183  257.351809  257.275172  273.256861   \n",
       "mw        8.213624    8.228357    8.424444    8.363220    8.398282   \n",
       "oven     25.948707   26.304164   26.524509   27.343875   27.903536   \n",
       "wm        8.955449    8.986848    9.083706    9.020285    9.271590   \n",
       "\n",
       "                6           7           8           9           10          11  \n",
       "dw       28.547334   28.852048   29.512012   29.044897   29.521337   30.097115  \n",
       "fridge   37.406032   37.143883   38.356988   37.299693   37.409178   41.756040  \n",
       "hvac    263.257419  273.742277  247.367311  234.662925  248.362427  248.441096  \n",
       "mw        8.469381    8.382217    8.781400    8.656094    8.477042    9.263400  \n",
       "oven     27.879323   28.462925   28.376121   29.488139   28.294670   30.335691  \n",
       "wm        9.206991    9.308554    9.651159    9.262288    9.453578    9.692287  "
      ]
     },
     "execution_count": 24,
     "metadata": {},
     "output_type": "execute_result"
    }
   ],
   "source": [
    "pd.DataFrame(err_mtf_all)"
   ]
  },
  {
   "cell_type": "code",
   "execution_count": 25,
   "metadata": {
    "collapsed": true
   },
   "outputs": [],
   "source": [
    "err_sc = {}\n",
    "#err_mtf = {}\n",
    "\n",
    "\n",
    "for num_latent in range(1, 30, 2):\n",
    "    err_sc[num_latent] = {}\n",
    "    for appliance_num, appliance in enumerate(APPLIANCES_ORDER[1:]):\n",
    "        pa =pred_sc[num_latent][:,appliance_num,:]\n",
    "        pa[pa>gt_agg] = gt_agg[pa>gt_agg]\n",
    "        err_sc[num_latent][appliance] = np.abs(pa-gt[:,appliance_num,:]).mean()\n",
    "    "
   ]
  },
  {
   "cell_type": "code",
   "execution_count": 26,
   "metadata": {},
   "outputs": [
    {
     "data": {
      "text/plain": [
       "(336, 7, 22)"
      ]
     },
     "execution_count": 26,
     "metadata": {},
     "output_type": "execute_result"
    }
   ],
   "source": [
    "test_sc.shape"
   ]
  },
  {
   "cell_type": "code",
   "execution_count": 27,
   "metadata": {},
   "outputs": [
    {
     "data": {
      "text/html": [
       "<div>\n",
       "<style>\n",
       "    .dataframe thead tr:only-child th {\n",
       "        text-align: right;\n",
       "    }\n",
       "\n",
       "    .dataframe thead th {\n",
       "        text-align: left;\n",
       "    }\n",
       "\n",
       "    .dataframe tbody tr th {\n",
       "        vertical-align: top;\n",
       "    }\n",
       "</style>\n",
       "<table border=\"1\" class=\"dataframe\">\n",
       "  <thead>\n",
       "    <tr style=\"text-align: right;\">\n",
       "      <th></th>\n",
       "      <th>1</th>\n",
       "      <th>3</th>\n",
       "      <th>5</th>\n",
       "      <th>7</th>\n",
       "      <th>9</th>\n",
       "      <th>11</th>\n",
       "      <th>13</th>\n",
       "      <th>15</th>\n",
       "      <th>17</th>\n",
       "      <th>19</th>\n",
       "      <th>21</th>\n",
       "      <th>23</th>\n",
       "      <th>25</th>\n",
       "      <th>27</th>\n",
       "      <th>29</th>\n",
       "    </tr>\n",
       "  </thead>\n",
       "  <tbody>\n",
       "    <tr>\n",
       "      <th>dw</th>\n",
       "      <td>24.717803</td>\n",
       "      <td>26.036747</td>\n",
       "      <td>28.165350</td>\n",
       "      <td>32.528055</td>\n",
       "      <td>34.363495</td>\n",
       "      <td>37.945024</td>\n",
       "      <td>41.298079</td>\n",
       "      <td>44.585082</td>\n",
       "      <td>45.379397</td>\n",
       "      <td>48.101456</td>\n",
       "      <td>49.280195</td>\n",
       "      <td>51.732736</td>\n",
       "      <td>52.760729</td>\n",
       "      <td>53.538945</td>\n",
       "      <td>54.454146</td>\n",
       "    </tr>\n",
       "    <tr>\n",
       "      <th>fridge</th>\n",
       "      <td>134.507206</td>\n",
       "      <td>113.173505</td>\n",
       "      <td>115.912251</td>\n",
       "      <td>101.198500</td>\n",
       "      <td>95.284314</td>\n",
       "      <td>101.954579</td>\n",
       "      <td>116.646439</td>\n",
       "      <td>115.147804</td>\n",
       "      <td>106.672735</td>\n",
       "      <td>102.640350</td>\n",
       "      <td>115.268210</td>\n",
       "      <td>119.559868</td>\n",
       "      <td>119.584093</td>\n",
       "      <td>112.565325</td>\n",
       "      <td>124.381766</td>\n",
       "    </tr>\n",
       "    <tr>\n",
       "      <th>hvac</th>\n",
       "      <td>287.178827</td>\n",
       "      <td>285.434883</td>\n",
       "      <td>302.293496</td>\n",
       "      <td>299.935715</td>\n",
       "      <td>299.130298</td>\n",
       "      <td>311.769722</td>\n",
       "      <td>336.639062</td>\n",
       "      <td>338.964115</td>\n",
       "      <td>336.785739</td>\n",
       "      <td>325.266763</td>\n",
       "      <td>342.618018</td>\n",
       "      <td>344.045308</td>\n",
       "      <td>364.408941</td>\n",
       "      <td>365.465602</td>\n",
       "      <td>372.553696</td>\n",
       "    </tr>\n",
       "    <tr>\n",
       "      <th>mw</th>\n",
       "      <td>12.981102</td>\n",
       "      <td>41.008369</td>\n",
       "      <td>47.810181</td>\n",
       "      <td>51.537599</td>\n",
       "      <td>58.274170</td>\n",
       "      <td>59.522554</td>\n",
       "      <td>67.931077</td>\n",
       "      <td>67.730592</td>\n",
       "      <td>68.949553</td>\n",
       "      <td>66.567800</td>\n",
       "      <td>69.096580</td>\n",
       "      <td>66.936881</td>\n",
       "      <td>69.272804</td>\n",
       "      <td>79.696525</td>\n",
       "      <td>73.321874</td>\n",
       "    </tr>\n",
       "    <tr>\n",
       "      <th>oven</th>\n",
       "      <td>21.452601</td>\n",
       "      <td>28.196417</td>\n",
       "      <td>27.461359</td>\n",
       "      <td>30.945929</td>\n",
       "      <td>32.638375</td>\n",
       "      <td>34.440496</td>\n",
       "      <td>38.059317</td>\n",
       "      <td>39.089263</td>\n",
       "      <td>41.008979</td>\n",
       "      <td>42.436250</td>\n",
       "      <td>41.146750</td>\n",
       "      <td>46.381052</td>\n",
       "      <td>60.703992</td>\n",
       "      <td>62.900322</td>\n",
       "      <td>56.236560</td>\n",
       "    </tr>\n",
       "    <tr>\n",
       "      <th>wm</th>\n",
       "      <td>14.514978</td>\n",
       "      <td>15.343153</td>\n",
       "      <td>18.353629</td>\n",
       "      <td>21.331893</td>\n",
       "      <td>23.188458</td>\n",
       "      <td>26.081055</td>\n",
       "      <td>30.296514</td>\n",
       "      <td>32.883461</td>\n",
       "      <td>37.865549</td>\n",
       "      <td>40.255842</td>\n",
       "      <td>39.709998</td>\n",
       "      <td>42.340535</td>\n",
       "      <td>44.835104</td>\n",
       "      <td>44.936366</td>\n",
       "      <td>48.587415</td>\n",
       "    </tr>\n",
       "  </tbody>\n",
       "</table>\n",
       "</div>"
      ],
      "text/plain": [
       "                1           3           5           7           9   \\\n",
       "dw       24.717803   26.036747   28.165350   32.528055   34.363495   \n",
       "fridge  134.507206  113.173505  115.912251  101.198500   95.284314   \n",
       "hvac    287.178827  285.434883  302.293496  299.935715  299.130298   \n",
       "mw       12.981102   41.008369   47.810181   51.537599   58.274170   \n",
       "oven     21.452601   28.196417   27.461359   30.945929   32.638375   \n",
       "wm       14.514978   15.343153   18.353629   21.331893   23.188458   \n",
       "\n",
       "                11          13          15          17          19  \\\n",
       "dw       37.945024   41.298079   44.585082   45.379397   48.101456   \n",
       "fridge  101.954579  116.646439  115.147804  106.672735  102.640350   \n",
       "hvac    311.769722  336.639062  338.964115  336.785739  325.266763   \n",
       "mw       59.522554   67.931077   67.730592   68.949553   66.567800   \n",
       "oven     34.440496   38.059317   39.089263   41.008979   42.436250   \n",
       "wm       26.081055   30.296514   32.883461   37.865549   40.255842   \n",
       "\n",
       "                21          23          25          27          29  \n",
       "dw       49.280195   51.732736   52.760729   53.538945   54.454146  \n",
       "fridge  115.268210  119.559868  119.584093  112.565325  124.381766  \n",
       "hvac    342.618018  344.045308  364.408941  365.465602  372.553696  \n",
       "mw       69.096580   66.936881   69.272804   79.696525   73.321874  \n",
       "oven     41.146750   46.381052   60.703992   62.900322   56.236560  \n",
       "wm       39.709998   42.340535   44.835104   44.936366   48.587415  "
      ]
     },
     "execution_count": 27,
     "metadata": {},
     "output_type": "execute_result"
    }
   ],
   "source": [
    "pd.DataFrame(err_sc)"
   ]
  },
  {
   "cell_type": "code",
   "execution_count": 47,
   "metadata": {
    "collapsed": true
   },
   "outputs": [],
   "source": [
    "err_mean = {}\n",
    "from sklearn.metrics import mean_absolute_error\n",
    "\n",
    "\n",
    "for appliance_num, appliance in enumerate(APPLIANCES_ORDER[1:]):\n",
    "    #err_sc[appliance] = np.abs(pred_sc[appliance_num]-gt[appliance_num]).mean()\n",
    "    pa = mean_pred[:,appliance_num,:]\n",
    "    pa[pa>gt_agg] = gt_agg[pa>gt_agg]\n",
    "    err_mean[appliance] = mean_absolute_error(pa,gt[:,appliance_num,:])"
   ]
  },
  {
   "cell_type": "code",
   "execution_count": 30,
   "metadata": {
    "collapsed": true
   },
   "outputs": [],
   "source": [
    "err_sc_iteration = {}\n",
    "for iteration_number in range(100):\n",
    "    err_sc_iteration[iteration_number] = {}\n",
    "    for appliance_num, appliance in enumerate(APPLIANCES_ORDER[1:]):\n",
    "        pa = p[iteration_number].swapaxes(0,1).swapaxes(0, 2)[:,appliance_num,:]\n",
    "        pa[pa>gt_agg] = gt_agg[pa>gt_agg]\n",
    "        err_sc_iteration[iteration_number][appliance] = np.abs(pa-gt[:,appliance_num,:]).mean()\n",
    "        #err_mtf[appliance] = np.abs(pred_mtf[appliance_num]-gt[appliance_num]).mean()\n",
    "    "
   ]
  },
  {
   "cell_type": "code",
   "execution_count": 31,
   "metadata": {},
   "outputs": [
    {
     "data": {
      "text/html": [
       "<div>\n",
       "<style>\n",
       "    .dataframe thead tr:only-child th {\n",
       "        text-align: right;\n",
       "    }\n",
       "\n",
       "    .dataframe thead th {\n",
       "        text-align: left;\n",
       "    }\n",
       "\n",
       "    .dataframe tbody tr th {\n",
       "        vertical-align: top;\n",
       "    }\n",
       "</style>\n",
       "<table border=\"1\" class=\"dataframe\">\n",
       "  <thead>\n",
       "    <tr style=\"text-align: right;\">\n",
       "      <th></th>\n",
       "      <th>0</th>\n",
       "      <th>1</th>\n",
       "      <th>2</th>\n",
       "      <th>3</th>\n",
       "      <th>4</th>\n",
       "      <th>5</th>\n",
       "      <th>6</th>\n",
       "      <th>7</th>\n",
       "      <th>8</th>\n",
       "      <th>9</th>\n",
       "      <th>...</th>\n",
       "      <th>90</th>\n",
       "      <th>91</th>\n",
       "      <th>92</th>\n",
       "      <th>93</th>\n",
       "      <th>94</th>\n",
       "      <th>95</th>\n",
       "      <th>96</th>\n",
       "      <th>97</th>\n",
       "      <th>98</th>\n",
       "      <th>99</th>\n",
       "    </tr>\n",
       "  </thead>\n",
       "  <tbody>\n",
       "    <tr>\n",
       "      <th>dw</th>\n",
       "      <td>23.931508</td>\n",
       "      <td>22.590305</td>\n",
       "      <td>21.685865</td>\n",
       "      <td>21.230636</td>\n",
       "      <td>20.911229</td>\n",
       "      <td>20.715723</td>\n",
       "      <td>20.576939</td>\n",
       "      <td>20.525919</td>\n",
       "      <td>20.485877</td>\n",
       "      <td>20.456790</td>\n",
       "      <td>...</td>\n",
       "      <td>20.758611</td>\n",
       "      <td>20.770070</td>\n",
       "      <td>20.776833</td>\n",
       "      <td>20.788110</td>\n",
       "      <td>20.795000</td>\n",
       "      <td>20.806066</td>\n",
       "      <td>20.812729</td>\n",
       "      <td>20.823416</td>\n",
       "      <td>20.830467</td>\n",
       "      <td>20.841137</td>\n",
       "    </tr>\n",
       "    <tr>\n",
       "      <th>fridge</th>\n",
       "      <td>108.376497</td>\n",
       "      <td>105.833838</td>\n",
       "      <td>103.630388</td>\n",
       "      <td>102.072507</td>\n",
       "      <td>100.019528</td>\n",
       "      <td>97.840100</td>\n",
       "      <td>95.535033</td>\n",
       "      <td>93.576864</td>\n",
       "      <td>92.028752</td>\n",
       "      <td>90.849670</td>\n",
       "      <td>...</td>\n",
       "      <td>89.047083</td>\n",
       "      <td>89.562703</td>\n",
       "      <td>89.041147</td>\n",
       "      <td>89.552450</td>\n",
       "      <td>89.037093</td>\n",
       "      <td>89.545393</td>\n",
       "      <td>89.041717</td>\n",
       "      <td>89.537621</td>\n",
       "      <td>89.050904</td>\n",
       "      <td>89.528991</td>\n",
       "    </tr>\n",
       "    <tr>\n",
       "      <th>hvac</th>\n",
       "      <td>274.789266</td>\n",
       "      <td>268.739177</td>\n",
       "      <td>264.934432</td>\n",
       "      <td>262.648884</td>\n",
       "      <td>261.216226</td>\n",
       "      <td>260.356030</td>\n",
       "      <td>259.794567</td>\n",
       "      <td>259.392425</td>\n",
       "      <td>259.031769</td>\n",
       "      <td>259.036184</td>\n",
       "      <td>...</td>\n",
       "      <td>260.801576</td>\n",
       "      <td>260.813902</td>\n",
       "      <td>260.881935</td>\n",
       "      <td>260.901396</td>\n",
       "      <td>260.963610</td>\n",
       "      <td>260.991909</td>\n",
       "      <td>261.049013</td>\n",
       "      <td>261.079424</td>\n",
       "      <td>261.133307</td>\n",
       "      <td>261.165185</td>\n",
       "    </tr>\n",
       "    <tr>\n",
       "      <th>mw</th>\n",
       "      <td>36.877554</td>\n",
       "      <td>32.868437</td>\n",
       "      <td>32.439990</td>\n",
       "      <td>31.634828</td>\n",
       "      <td>31.965738</td>\n",
       "      <td>32.015765</td>\n",
       "      <td>32.546625</td>\n",
       "      <td>32.891541</td>\n",
       "      <td>33.419710</td>\n",
       "      <td>33.725823</td>\n",
       "      <td>...</td>\n",
       "      <td>40.056476</td>\n",
       "      <td>39.094123</td>\n",
       "      <td>40.097046</td>\n",
       "      <td>39.160727</td>\n",
       "      <td>40.139668</td>\n",
       "      <td>39.230837</td>\n",
       "      <td>40.184251</td>\n",
       "      <td>39.302830</td>\n",
       "      <td>40.227368</td>\n",
       "      <td>39.376042</td>\n",
       "    </tr>\n",
       "    <tr>\n",
       "      <th>oven</th>\n",
       "      <td>26.694591</td>\n",
       "      <td>25.889562</td>\n",
       "      <td>25.238343</td>\n",
       "      <td>24.754120</td>\n",
       "      <td>24.401840</td>\n",
       "      <td>24.108489</td>\n",
       "      <td>23.952609</td>\n",
       "      <td>23.861777</td>\n",
       "      <td>23.790544</td>\n",
       "      <td>23.739082</td>\n",
       "      <td>...</td>\n",
       "      <td>23.902426</td>\n",
       "      <td>23.951863</td>\n",
       "      <td>23.929024</td>\n",
       "      <td>23.977744</td>\n",
       "      <td>23.955870</td>\n",
       "      <td>24.003877</td>\n",
       "      <td>23.983251</td>\n",
       "      <td>24.030176</td>\n",
       "      <td>24.010416</td>\n",
       "      <td>24.056173</td>\n",
       "    </tr>\n",
       "    <tr>\n",
       "      <th>wm</th>\n",
       "      <td>14.145992</td>\n",
       "      <td>13.537787</td>\n",
       "      <td>13.055588</td>\n",
       "      <td>12.711629</td>\n",
       "      <td>12.452357</td>\n",
       "      <td>12.262293</td>\n",
       "      <td>12.131521</td>\n",
       "      <td>12.064819</td>\n",
       "      <td>12.044577</td>\n",
       "      <td>12.036191</td>\n",
       "      <td>...</td>\n",
       "      <td>17.755965</td>\n",
       "      <td>17.754926</td>\n",
       "      <td>17.828409</td>\n",
       "      <td>17.828810</td>\n",
       "      <td>17.902557</td>\n",
       "      <td>17.904504</td>\n",
       "      <td>17.977872</td>\n",
       "      <td>17.982325</td>\n",
       "      <td>18.054698</td>\n",
       "      <td>18.062174</td>\n",
       "    </tr>\n",
       "  </tbody>\n",
       "</table>\n",
       "<p>6 rows × 100 columns</p>\n",
       "</div>"
      ],
      "text/plain": [
       "                0           1           2           3           4   \\\n",
       "dw       23.931508   22.590305   21.685865   21.230636   20.911229   \n",
       "fridge  108.376497  105.833838  103.630388  102.072507  100.019528   \n",
       "hvac    274.789266  268.739177  264.934432  262.648884  261.216226   \n",
       "mw       36.877554   32.868437   32.439990   31.634828   31.965738   \n",
       "oven     26.694591   25.889562   25.238343   24.754120   24.401840   \n",
       "wm       14.145992   13.537787   13.055588   12.711629   12.452357   \n",
       "\n",
       "                5           6           7           8           9   \\\n",
       "dw       20.715723   20.576939   20.525919   20.485877   20.456790   \n",
       "fridge   97.840100   95.535033   93.576864   92.028752   90.849670   \n",
       "hvac    260.356030  259.794567  259.392425  259.031769  259.036184   \n",
       "mw       32.015765   32.546625   32.891541   33.419710   33.725823   \n",
       "oven     24.108489   23.952609   23.861777   23.790544   23.739082   \n",
       "wm       12.262293   12.131521   12.064819   12.044577   12.036191   \n",
       "\n",
       "           ...              90          91          92          93  \\\n",
       "dw         ...       20.758611   20.770070   20.776833   20.788110   \n",
       "fridge     ...       89.047083   89.562703   89.041147   89.552450   \n",
       "hvac       ...      260.801576  260.813902  260.881935  260.901396   \n",
       "mw         ...       40.056476   39.094123   40.097046   39.160727   \n",
       "oven       ...       23.902426   23.951863   23.929024   23.977744   \n",
       "wm         ...       17.755965   17.754926   17.828409   17.828810   \n",
       "\n",
       "                94          95          96          97          98          99  \n",
       "dw       20.795000   20.806066   20.812729   20.823416   20.830467   20.841137  \n",
       "fridge   89.037093   89.545393   89.041717   89.537621   89.050904   89.528991  \n",
       "hvac    260.963610  260.991909  261.049013  261.079424  261.133307  261.165185  \n",
       "mw       40.139668   39.230837   40.184251   39.302830   40.227368   39.376042  \n",
       "oven     23.955870   24.003877   23.983251   24.030176   24.010416   24.056173  \n",
       "wm       17.902557   17.904504   17.977872   17.982325   18.054698   18.062174  \n",
       "\n",
       "[6 rows x 100 columns]"
      ]
     },
     "execution_count": 31,
     "metadata": {},
     "output_type": "execute_result"
    }
   ],
   "source": [
    "pd.DataFrame(err_sc_iteration)"
   ]
  },
  {
   "cell_type": "code",
   "execution_count": 32,
   "metadata": {},
   "outputs": [
    {
     "data": {
      "text/plain": [
       "<matplotlib.text.Text at 0x1a1bd7fe80>"
      ]
     },
     "execution_count": 32,
     "metadata": {},
     "output_type": "execute_result"
    },
    {
     "data": {
      "image/png": "[encoded data removed]",
      "text/plain": [
       "<matplotlib.figure.Figure at 0x1a09f5dcc0>"
      ]
     },
     "metadata": {},
     "output_type": "display_data"
    }
   ],
   "source": [
    "result_df = pd.DataFrame(\n",
    "{\"Mean\":pd.Series(err_mean),\n",
    "    \"Sparse Coding\":pd.DataFrame(err_sc)[3],\n",
    " \"Discriminative Sparse Coding\":pd.Series(err_sc_iteration[99]),\n",
    "\"MTF\":pd.Series(err_mtf_all[4])})\n",
    "\n",
    "result_df[['Mean','Sparse Coding','Discriminative Sparse Coding','MTF']].plot(kind='bar',rot=0)\n",
    "plt.ylabel(\"Error (Lower is better)\")"
   ]
  },
  {
   "cell_type": "code",
   "execution_count": 33,
   "metadata": {},
   "outputs": [
    {
     "data": {
      "text/plain": [
       "{'dw': 14.499116173604689,\n",
       " 'fridge': 88.953206155688036,\n",
       " 'hvac': 937.65674098776663,\n",
       " 'mw': 6.3002141955010273,\n",
       " 'oven': 19.757201510373186,\n",
       " 'wm': 5.6175211786375145}"
      ]
     },
     "execution_count": 33,
     "metadata": {},
     "output_type": "execute_result"
    }
   ],
   "source": [
    "zero_pred = np.zeros_like(mean_pred)\n",
    "err_zero ={}\n",
    "for appliance_num, appliance in enumerate(APPLIANCES_ORDER[1:]):\n",
    "    #err_sc[appliance] = np.abs(pred_sc[appliance_num]-gt[appliance_num]).mean()\n",
    "    err_zero[appliance] = np.abs(zero_pred[:,appliance_num,:]-gt[:,appliance_num,:]).mean()\n",
    "err_zero"
   ]
  },
  {
   "cell_type": "code",
   "execution_count": 34,
   "metadata": {
    "collapsed": true
   },
   "outputs": [],
   "source": [
    "result_df[['Mean','Sparse Coding','Discriminative Sparse Coding','MTF']].round(2)\n",
    "result_df['Neural'] = pd.Series({'dw': 24.870927145657255,\n",
    " 'fridge': 40.642622669315109,\n",
    " 'hvac': 407.64503194612212,\n",
    " 'mw': 9.5177636509070478,\n",
    " 'oven': 24.630917072655215,\n",
    " 'wm': 9.4858786798710284})\n",
    "\n",
    "result_df['Neural-2'] = pd.Series({'dw': 29.358431969312235,\n",
    " 'fridge': 46.049574236634484,\n",
    " 'hvac': 283.006,\n",
    " 'mw': 13.912724977296685,\n",
    " 'oven': 31.718561047672001,\n",
    " 'wm': 14.508136269518147})\n",
    "result_df.round(2)\n",
    "\n",
    "result_df['Neural-3'] = pd.Series({'dw': 23.464008758572668,\n",
    " 'fridge': 39.864848516755472,\n",
    " 'hvac': 533.6815996012117,\n",
    " 'mw': 8.9078466720885121,\n",
    " 'oven': 26.490912022011582,\n",
    " 'wm': 8.9392344953567999})\n",
    "\n",
    "\n",
    "result_df['Neural-4'] = pd.Series(\n",
    "{'dw': 14.499260461576849,\n",
    " 'fridge': 42.399899309367001,\n",
    " 'hvac': 378.36,\n",
    " 'mw': 6.1351733489069904,\n",
    " 'oven': 19.079575800122715,\n",
    " 'wm': 5.6176763162769507})\n",
    "\n",
    "result_df['Neural-Recursive-GT-train-test-Clamping'] = pd.Series(\n",
    "{'dw': 14.499561669749662,\n",
    " 'fridge': 19.442246996062845,\n",
    " 'hvac': 283.006,\n",
    " 'mw': 4.9561252929779274,\n",
    " 'oven': 17.788349601435847,\n",
    " 'wm': 5.5211944597629605})\n",
    "\n",
    "result_df['Neural-Recursive-Pred-train-test-Clamping'] = pd.Series(\n",
    "{'dw': 14.499242038907688,\n",
    " 'fridge': 57.896555920240864,\n",
    " 'hvac': 283.00688944919409,\n",
    " 'mw': 6.1927237581402199,\n",
    " 'oven': 18.883580803837514,\n",
    " 'wm': 5.6176462023111053})\n",
    "\n",
    "result_df['Neural-Recursive-Pred-train-test-no-Clamping']=pd.Series({'dw': 14.49934903123088,\n",
    " 'fridge': 38.578239118417287,\n",
    " 'hvac': 378.0151754070539,\n",
    " 'mw': 6.204401698959936,\n",
    " 'oven': 18.528210689369651,\n",
    " 'wm': 5.6177957878908371})\n",
    "\n",
    "result_df['Neural-All-Appliances'] = pd.Series({'dw': 18.20616693073935,\n",
    " 'fridge': 39.857332643076127,\n",
    " 'hvac': 396.64220145165274,\n",
    " 'mw': 8.4038905734016147,\n",
    " 'oven': 21.31223434810008,\n",
    " 'wm': 8.9579758694718219})\n",
    "\n",
    "result_df['Neural-LSTM'] = pd.Series({'dw': 14.49,\n",
    " 'fridge': 22.0286544907,\n",
    " 'hvac': 203.94095046,\n",
    " 'mw': 4.69,\n",
    " 'oven': 17.6,\n",
    " 'wm': 5.60})\n",
    "\n",
    "result_df['ZeroEnergy'] = pd.Series(err_zero)"
   ]
  },
  {
   "cell_type": "code",
   "execution_count": 35,
   "metadata": {
    "collapsed": true
   },
   "outputs": [],
   "source": [
    "for appliance in result_df.index:\n",
    "    result_df.loc[appliance,'DNN'] = np.min(np.array([result_df.loc[appliance,'Neural'], \n",
    "                                             result_df.loc[appliance,'Neural-2'],\n",
    "                                            result_df.loc[appliance,'Neural-3'],\n",
    "                                                               result_df.loc[appliance,'Neural-4']]))"
   ]
  },
  {
   "cell_type": "code",
   "execution_count": 36,
   "metadata": {},
   "outputs": [
    {
     "data": {
      "text/html": [
       "<div>\n",
       "<style>\n",
       "    .dataframe thead tr:only-child th {\n",
       "        text-align: right;\n",
       "    }\n",
       "\n",
       "    .dataframe thead th {\n",
       "        text-align: left;\n",
       "    }\n",
       "\n",
       "    .dataframe tbody tr th {\n",
       "        vertical-align: top;\n",
       "    }\n",
       "</style>\n",
       "<table border=\"1\" class=\"dataframe\">\n",
       "  <thead>\n",
       "    <tr style=\"text-align: right;\">\n",
       "      <th></th>\n",
       "      <th>ZeroEnergy</th>\n",
       "      <th>Mean</th>\n",
       "      <th>Sparse Coding</th>\n",
       "      <th>Discriminative Sparse Coding</th>\n",
       "      <th>MTF</th>\n",
       "      <th>DNN</th>\n",
       "      <th>Neural-LSTM</th>\n",
       "    </tr>\n",
       "  </thead>\n",
       "  <tbody>\n",
       "    <tr>\n",
       "      <th>dw</th>\n",
       "      <td>14.5</td>\n",
       "      <td>26.1</td>\n",
       "      <td>26.0</td>\n",
       "      <td>20.8</td>\n",
       "      <td>27.7</td>\n",
       "      <td>14.5</td>\n",
       "      <td>14.5</td>\n",
       "    </tr>\n",
       "    <tr>\n",
       "      <th>fridge</th>\n",
       "      <td>89.0</td>\n",
       "      <td>31.2</td>\n",
       "      <td>113.2</td>\n",
       "      <td>89.5</td>\n",
       "      <td>35.6</td>\n",
       "      <td>39.9</td>\n",
       "      <td>22.0</td>\n",
       "    </tr>\n",
       "    <tr>\n",
       "      <th>hvac</th>\n",
       "      <td>937.7</td>\n",
       "      <td>338.2</td>\n",
       "      <td>285.4</td>\n",
       "      <td>261.2</td>\n",
       "      <td>257.3</td>\n",
       "      <td>283.0</td>\n",
       "      <td>203.9</td>\n",
       "    </tr>\n",
       "    <tr>\n",
       "      <th>mw</th>\n",
       "      <td>6.3</td>\n",
       "      <td>8.2</td>\n",
       "      <td>41.0</td>\n",
       "      <td>39.4</td>\n",
       "      <td>8.4</td>\n",
       "      <td>6.1</td>\n",
       "      <td>4.7</td>\n",
       "    </tr>\n",
       "    <tr>\n",
       "      <th>oven</th>\n",
       "      <td>19.8</td>\n",
       "      <td>26.4</td>\n",
       "      <td>28.2</td>\n",
       "      <td>24.1</td>\n",
       "      <td>27.3</td>\n",
       "      <td>19.1</td>\n",
       "      <td>17.6</td>\n",
       "    </tr>\n",
       "    <tr>\n",
       "      <th>wm</th>\n",
       "      <td>5.6</td>\n",
       "      <td>9.1</td>\n",
       "      <td>15.3</td>\n",
       "      <td>18.1</td>\n",
       "      <td>9.0</td>\n",
       "      <td>5.6</td>\n",
       "      <td>5.6</td>\n",
       "    </tr>\n",
       "  </tbody>\n",
       "</table>\n",
       "</div>"
      ],
      "text/plain": [
       "        ZeroEnergy   Mean  Sparse Coding  Discriminative Sparse Coding    MTF  \\\n",
       "dw            14.5   26.1           26.0                          20.8   27.7   \n",
       "fridge        89.0   31.2          113.2                          89.5   35.6   \n",
       "hvac         937.7  338.2          285.4                         261.2  257.3   \n",
       "mw             6.3    8.2           41.0                          39.4    8.4   \n",
       "oven          19.8   26.4           28.2                          24.1   27.3   \n",
       "wm             5.6    9.1           15.3                          18.1    9.0   \n",
       "\n",
       "          DNN  Neural-LSTM  \n",
       "dw       14.5         14.5  \n",
       "fridge   39.9         22.0  \n",
       "hvac    283.0        203.9  \n",
       "mw        6.1          4.7  \n",
       "oven     19.1         17.6  \n",
       "wm        5.6          5.6  "
      ]
     },
     "execution_count": 36,
     "metadata": {},
     "output_type": "execute_result"
    }
   ],
   "source": [
    "result_df[['ZeroEnergy','Mean','Sparse Coding','Discriminative Sparse Coding',\n",
    "           'MTF','DNN',\n",
    "          'Neural-LSTM']].round(1)"
   ]
  },
  {
   "cell_type": "code",
   "execution_count": 37,
   "metadata": {
    "collapsed": true
   },
   "outputs": [],
   "source": [
    "def accuracy_pie_chart(ground_truth_appliance, prediction_appliance, gt_aggregate):\n",
    "    out = 0.\n",
    "    for i in range(6):\n",
    "        out = out + min(np.sum(ground_truth_appliance[:, i, :]), np.sum(prediction_appliance[:, i, :]))\n",
    "    return out/np.sum(gt_aggregate) +1e-8   "
   ]
  },
  {
   "cell_type": "code",
   "execution_count": 38,
   "metadata": {
    "collapsed": true
   },
   "outputs": [],
   "source": [
    "def hourly_4d(gt, pred_3d):\n",
    "    \"\"\"\n",
    "    gt: (# homes, #appliances, #days * 24)\n",
    "    \"\"\"\n",
    "    days = gt.shape[2]//24\n",
    "    tensor = gt.reshape(gt.shape[0], gt.shape[1], days, 24)\n",
    "    pred = pred_3d.reshape(gt.shape[0], gt.shape[1], days, 24)\n",
    "    error = {}\n",
    "    for appliance, appliance_name in enumerate(APPLIANCES_ORDER[1:]):\n",
    "        error[appliance_name] = {}\n",
    "        for home in range(gt.shape[0]):\n",
    "            error[appliance_name][home] = 0.\n",
    "            for hour in range(24):\n",
    "                y_pred = pred[home, appliance, :, hour]\n",
    "                y_true = tensor[home, appliance, :, hour]\n",
    "                mask = ~np.isnan(y_true)\n",
    "                if np.nansum(y_true) > 1:\n",
    "                    error_hour = np.nansum((y_pred - y_true)[mask]) / np.nansum(y_true)\n",
    "\n",
    "                    # error_hour =  np.nansum((y_pred - y_true)[mask])/max(np.nansum(y_true), np.nansum(y_pred))\n",
    "                    error[appliance_name][home] += error_hour ** 2\n",
    "            error[appliance_name][home] = np.sqrt(error[appliance_name][home])\n",
    "    error = pd.DataFrame(error)\n",
    "    error = error.replace(0.0, np.nan)\n",
    "    return error"
   ]
  },
  {
   "cell_type": "code",
   "execution_count": 39,
   "metadata": {
    "collapsed": true
   },
   "outputs": [],
   "source": [
    "\n",
    "approach_pred = {'Mean':mean_pred, 'Sparse Coding':pred_sc[3], \n",
    "                 'Discriminative Sparse Coding':p[99].swapaxes(0,1).swapaxes(0,2),'MTF':pred_mtf_all[4],\n",
    "                'Zero':zero_pred}\n",
    "\n",
    "hourly_accuracies = {}\n",
    "for approach_name, approach_prediction in approach_pred.items():\n",
    "    hourly_accuracies[approach_name] = hourly_4d(gt, approach_prediction).median()"
   ]
  },
  {
   "cell_type": "code",
   "execution_count": 40,
   "metadata": {},
   "outputs": [
    {
     "data": {
      "text/html": [
       "<div>\n",
       "<style>\n",
       "    .dataframe thead tr:only-child th {\n",
       "        text-align: right;\n",
       "    }\n",
       "\n",
       "    .dataframe thead th {\n",
       "        text-align: left;\n",
       "    }\n",
       "\n",
       "    .dataframe tbody tr th {\n",
       "        vertical-align: top;\n",
       "    }\n",
       "</style>\n",
       "<table border=\"1\" class=\"dataframe\">\n",
       "  <thead>\n",
       "    <tr style=\"text-align: right;\">\n",
       "      <th></th>\n",
       "      <th>Discriminative Sparse Coding</th>\n",
       "      <th>MTF</th>\n",
       "      <th>Mean</th>\n",
       "      <th>Sparse Coding</th>\n",
       "      <th>Zero</th>\n",
       "    </tr>\n",
       "  </thead>\n",
       "  <tbody>\n",
       "    <tr>\n",
       "      <th>dw</th>\n",
       "      <td>3.464102</td>\n",
       "      <td>13.454481</td>\n",
       "      <td>16.757141</td>\n",
       "      <td>8.803866</td>\n",
       "      <td>2.828427</td>\n",
       "    </tr>\n",
       "    <tr>\n",
       "      <th>fridge</th>\n",
       "      <td>4.527930</td>\n",
       "      <td>1.296900</td>\n",
       "      <td>0.932348</td>\n",
       "      <td>4.394509</td>\n",
       "      <td>4.898979</td>\n",
       "    </tr>\n",
       "    <tr>\n",
       "      <th>hvac</th>\n",
       "      <td>1.065059</td>\n",
       "      <td>1.226052</td>\n",
       "      <td>1.474746</td>\n",
       "      <td>1.174303</td>\n",
       "      <td>4.898979</td>\n",
       "    </tr>\n",
       "    <tr>\n",
       "      <th>mw</th>\n",
       "      <td>37.744721</td>\n",
       "      <td>8.226766</td>\n",
       "      <td>9.907931</td>\n",
       "      <td>26.901242</td>\n",
       "      <td>4.898979</td>\n",
       "    </tr>\n",
       "    <tr>\n",
       "      <th>oven</th>\n",
       "      <td>4.898979</td>\n",
       "      <td>15.154542</td>\n",
       "      <td>15.454602</td>\n",
       "      <td>13.812698</td>\n",
       "      <td>4.898979</td>\n",
       "    </tr>\n",
       "    <tr>\n",
       "      <th>wm</th>\n",
       "      <td>8.425723</td>\n",
       "      <td>6.091665</td>\n",
       "      <td>8.117330</td>\n",
       "      <td>8.918533</td>\n",
       "      <td>3.872983</td>\n",
       "    </tr>\n",
       "  </tbody>\n",
       "</table>\n",
       "</div>"
      ],
      "text/plain": [
       "        Discriminative Sparse Coding        MTF       Mean  Sparse Coding  \\\n",
       "dw                          3.464102  13.454481  16.757141       8.803866   \n",
       "fridge                      4.527930   1.296900   0.932348       4.394509   \n",
       "hvac                        1.065059   1.226052   1.474746       1.174303   \n",
       "mw                         37.744721   8.226766   9.907931      26.901242   \n",
       "oven                        4.898979  15.154542  15.454602      13.812698   \n",
       "wm                          8.425723   6.091665   8.117330       8.918533   \n",
       "\n",
       "            Zero  \n",
       "dw      2.828427  \n",
       "fridge  4.898979  \n",
       "hvac    4.898979  \n",
       "mw      4.898979  \n",
       "oven    4.898979  \n",
       "wm      3.872983  "
      ]
     },
     "execution_count": 40,
     "metadata": {},
     "output_type": "execute_result"
    }
   ],
   "source": [
    "pd.DataFrame(hourly_accuracies)"
   ]
  },
  {
   "cell_type": "code",
   "execution_count": 41,
   "metadata": {
    "collapsed": true
   },
   "outputs": [],
   "source": [
    "approach_pred = {'Mean':mean_pred, 'Sparse Coding':pred_sc[3], \n",
    "                 'Discriminative Sparse Coding':p[99].swapaxes(0,1).swapaxes(0,2),'MTF':pred_mtf_all[4],\n",
    "                'Zero':zero_pred}\n",
    "\n",
    "pie_accuracies = {}\n",
    "for approach_name, approach_prediction in approach_pred.items():\n",
    "    pie_accuracies[approach_name] = accuracy_pie_chart(gt, approach_prediction, test_sc[:, 0, :])"
   ]
  },
  {
   "cell_type": "code",
   "execution_count": 42,
   "metadata": {},
   "outputs": [
    {
     "data": {
      "text/plain": [
       "<matplotlib.text.Text at 0x1a1bbb3278>"
      ]
     },
     "execution_count": 42,
     "metadata": {},
     "output_type": "execute_result"
    },
    {
     "data": {
      "image/png": "[encoded data removed]",
      "text/plain": [
       "<matplotlib.figure.Figure at 0x1a1bb90d30>"
      ]
     },
     "metadata": {},
     "output_type": "display_data"
    }
   ],
   "source": [
    "pie_accuracies = pd.Series(pie_accuracies).loc[['Zero','Mean','Sparse Coding','Discriminative Sparse Coding','MTF']]\n",
    "ax = pie_accuracies.plot(kind='bar',rot=45)\n",
    "for i, v in enumerate(pie_accuracies):\n",
    "    ax.text( i,v+0.03, str(v.round(3)), va='center')\n",
    "plt.ylabel(\"Pie-chart energy breakdown \\nproportion correctly identified\\n(Higher is better)\")"
   ]
  },
  {
   "cell_type": "code",
   "execution_count": null,
   "metadata": {},
   "outputs": [],
   "source": []
  },
  {
   "cell_type": "code",
   "execution_count": 43,
   "metadata": {},
   "outputs": [
    {
     "data": {
      "text/plain": [
       "<matplotlib.legend.Legend at 0x1a1bcc07b8>"
      ]
     },
     "execution_count": 43,
     "metadata": {},
     "output_type": "execute_result"
    },
    {
     "data": {
      "image/png": "[encoded data removed]",
      "text/plain": [
       "<matplotlib.figure.Figure at 0x1a1b68e6a0>"
      ]
     },
     "metadata": {},
     "output_type": "display_data"
    }
   ],
   "source": [
    "appliance=\"mw\"\n",
    "appliance_num = APPLIANCES_ORDER[1:].index(appliance)\n",
    "ax = pd.DataFrame(gt[0:1, appliance_num, :]).T.squeeze().plot(label='GT')\n",
    "\n",
    "\n",
    "pd.DataFrame(mean_pred[0:1, appliance_num, :]).T.squeeze().plot(ax=ax,label='Pred Mean' )\n",
    "pd.DataFrame(pred_mtf_all[4][0:1, appliance_num, :]).T.squeeze().plot(ax=ax,label='Pred MTF' )\n",
    "\n",
    "\n",
    "plt.legend()\n"
   ]
  },
  {
   "cell_type": "code",
   "execution_count": 44,
   "metadata": {},
   "outputs": [
    {
     "data": {
      "text/plain": [
       "{'dw': 27.725773683912013,\n",
       " 'fridge': 35.565966633648941,\n",
       " 'hvac': 257.27517172697679,\n",
       " 'mw': 8.3632201496899157,\n",
       " 'oven': 27.343874637270154,\n",
       " 'wm': 9.0202854906062822}"
      ]
     },
     "execution_count": 44,
     "metadata": {},
     "output_type": "execute_result"
    }
   ],
   "source": [
    "err_mtf_all[4]"
   ]
  },
  {
   "cell_type": "code",
   "execution_count": 45,
   "metadata": {},
   "outputs": [
    {
     "data": {
      "text/plain": [
       "38"
      ]
     },
     "execution_count": 45,
     "metadata": {},
     "output_type": "execute_result"
    }
   ],
   "source": [
    "np.sum(gt[0:1, appliance_num, :]>10)"
   ]
  },
  {
   "cell_type": "code",
   "execution_count": null,
   "metadata": {
    "collapsed": true
   },
   "outputs": [],
   "source": []
  }
 ],
 "metadata": {
  "kernelspec": {
   "display_name": "Python 3",
   "language": "python",
   "name": "python3"
  },
  "language_info": {
   "codemirror_mode": {
    "name": "ipython",
    "version": 3
   },
   "file_extension": ".py",
   "mimetype": "text/x-python",
   "name": "python",
   "nbconvert_exporter": "python",
   "pygments_lexer": "ipython3",
   "version": "3.6.3"
  }
 },
 "nbformat": 4,
 "nbformat_minor": 2
}
