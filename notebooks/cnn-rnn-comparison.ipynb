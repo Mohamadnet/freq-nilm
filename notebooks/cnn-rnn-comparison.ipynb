{
 "cells": [
  {
   "cell_type": "code",
   "execution_count": 1,
   "metadata": {
    "collapsed": true
   },
   "outputs": [],
   "source": [
    "import numpy as np\n",
    "import itertools\n",
    "from pathlib import Path\n",
    "%matplotlib inline\n",
    "import matplotlib.pyplot as plt\n",
    "import sys\n",
    "sys.path.append(\"../code/\")\n",
    "from dataloader import get_train_test\n",
    "import pandas as pd"
   ]
  },
  {
   "cell_type": "code",
   "execution_count": 8,
   "metadata": {
    "collapsed": true
   },
   "outputs": [],
   "source": [
    "fold_num = 0"
   ]
  },
  {
   "cell_type": "code",
   "execution_count": 5,
   "metadata": {
    "collapsed": true
   },
   "outputs": [],
   "source": [
    "# load best parameters for rnn-individual and rnn-tree\n",
    "best_rnn_individual = np.load(\"../code/baseline/result/rnn-individual-param-1.npy\").item()\n",
    "best_rnn_tree = np.load(\"../code/baseline/result/rnn-tree-param-1.npy\").item()"
   ]
  },
  {
   "cell_type": "code",
   "execution_count": 7,
   "metadata": {
    "collapsed": true
   },
   "outputs": [],
   "source": [
    "# cnn-individual&cnn-tree best parameters\n",
    "best_cnn_individual = np.load(\"../code/baseline/result/cnn-individual-param-1.npy\").item()"
   ]
  },
  {
   "cell_type": "code",
   "execution_count": 132,
   "metadata": {},
   "outputs": [],
   "source": [
    "# get prediction for rnn individual\n",
    "rnn_individual_pred = {}\n",
    "rnn_individual_error = {}\n",
    "for appliance in ['hvac', 'fridge', 'dr', 'dw', 'mw']:\n",
    "    cell_type = best_rnn_individual[appliance][fold_num]['cell_type']\n",
    "    hidden_size = best_rnn_individual[appliance][fold_num]['hidden_size']\n",
    "    num_layers = best_rnn_individual[appliance][fold_num]['num_layers']\n",
    "    lr = best_rnn_individual[appliance][fold_num]['lr']\n",
    "    iters = best_rnn_individual[appliance][fold_num]['iters']\n",
    "    bidirectional = best_rnn_individual[appliance][fold_num]['bidirectional']\n",
    "    \n",
    "    directory = \"../code/baseline/rnn-tree/1/{}/{}/{}/{}/{}/{}/3000/0.0/\".format(fold_num, cell_type,\n",
    "                                                                                                hidden_size,\n",
    "                                                                                                num_layers,\n",
    "                                                                                                bidirectional,\n",
    "                                                                                                lr)\n",
    "    filename = \"test-pred-{}-1-{}-{}-{}-{}-{}-3000-0.0-[\\'{}\\'].npy\".format(fold_num, cell_type, hidden_size, num_layers,\n",
    "                                                                             bidirectional, lr, appliance)\n",
    "    \n",
    "    full_path = directory + filename\n",
    "    rnn_individual_pred[appliance] = np.asarray(np.load(full_path).item()[iters]).reshape(-1, 1, 112, 24)\n",
    "    filename = \"test-error-{}-1-{}-{}-{}-{}-{}-3000-0.0-[\\'{}\\'].npy\".format(fold_num, cell_type, hidden_size, num_layers,\n",
    "                                                                             bidirectional, lr, appliance)\n",
    "    full_path = directory + filename\n",
    "    rnn_individual_error[appliance] = np.load(full_path).item()[iters][appliance]\n",
    "    "
   ]
  },
  {
   "cell_type": "code",
   "execution_count": 148,
   "metadata": {},
   "outputs": [
    {
     "name": "stdout",
     "output_type": "stream",
     "text": [
      "0 fridge\n",
      "1 hvac\n",
      "2 dw\n",
      "3 dr\n",
      "4 mw\n"
     ]
    }
   ],
   "source": [
    "# get prediction for rnn tree\n",
    "rnn_tree_pred = {}\n",
    "rnn_tree_error = {}\n",
    "\n",
    "cell_type = best_rnn_tree[fold_num]['cell_type']\n",
    "hidden_size = best_rnn_tree[fold_num]['hidden_size']\n",
    "num_layers = best_rnn_tree[fold_num]['num_layers']\n",
    "lr = best_rnn_tree[fold_num]['lr']\n",
    "iters = best_rnn_tree[fold_num]['iters']\n",
    "bidirectional = best_rnn_tree[fold_num]['bidirectional']\n",
    "order = best_rnn_tree[fold_num]['order']\n",
    "directory = \"../code/baseline/rnn-tree/1/{}/{}/{}/{}/{}/{}/3000/0.0/\".format(fold_num, cell_type,\n",
    "                                                                                            hidden_size,\n",
    "                                                                                            num_layers,\n",
    "                                                                                            bidirectional,\n",
    "                                                                                            float(lr))\n",
    "filename = \"test-pred-{}-1-{}-{}-{}-{}-{}-3000-0.0-[\\'{}\\'].npy\".format(fold_num, cell_type, hidden_size, num_layers,\n",
    "                                                                         bidirectional, float(lr), str(order)[2:-2])\n",
    "\n",
    "full_path = directory + filename\n",
    "rnn_pred = np.asarray(np.load(full_path).item()[iters])\n",
    "filename = \"test-error-{}-1-{}-{}-{}-{}-{}-3000-0.0-[\\'{}\\'].npy\".format(fold_num, cell_type, hidden_size, num_layers,\n",
    "                                                                         bidirectional, float(lr), str(order)[2:-2])\n",
    "full_path = directory + filename\n",
    "rnn_tree_error= np.load(full_path).item()[iters] \n",
    "\n",
    "for idx, appliance in enumerate(order):\n",
    "    print(idx, appliance)\n",
    "    rnn_tree_pred[appliance] = rnn_pred[idx].reshape(-1, 1, 112,24)"
   ]
  },
  {
   "cell_type": "code",
   "execution_count": 150,
   "metadata": {},
   "outputs": [],
   "source": [
    "# get prediction for cnn individual\n",
    "cnn_individual_pred = {}\n",
    "cnn_individual_error = {}\n",
    "for appliance in ['hvac', 'fridge', 'dr', 'dw', 'mw']:\n",
    "    iters= best_cnn_individual[appliance][fold_num]['iters']\n",
    "    lr = best_cnn_individual[appliance][fold_num]['lr']\n",
    "    \n",
    "    directory = \"../code/baseline/cnn-individual/1/{}/{}/{}/\".format(fold_num, lr, iters)\n",
    "    filename = \"test-pred-{}.npy\".format(appliance)\n",
    "    full_path = directory + filename\n",
    "    cnn_individual_pred[appliance] = np.load(full_path)\n",
    "    \n",
    "    filename = \"test-loss-{}.npy\".format(appliance)\n",
    "    full_path = directory + filename\n",
    "    cnn_individual_error[appliance] = np.load(full_path).item().cpu().data.numpy()[0]\n",
    "    "
   ]
  },
  {
   "cell_type": "code",
   "execution_count": 151,
   "metadata": {},
   "outputs": [
    {
     "name": "stdout",
     "output_type": "stream",
     "text": [
      "0 dw\n",
      "1 dr\n",
      "2 hvac\n",
      "3 fridge\n",
      "4 mw\n"
     ]
    }
   ],
   "source": [
    "# get prediction for cnn tree\n",
    "cnn_pred = np.load(\"../code/baseline/cnn-tree/1/0/0.01/20000/0.0/test-pred-['dw', 'dr', 'hvac', 'fridge', 'mw'].npy\").item()\n",
    "cnn_tree_loss = np.load(\"../code/baseline/cnn-tree/1/0/0.01/20000/0.0/test-error-['dw', 'dr', 'hvac', 'fridge', 'mw'].npy\").item()\n",
    "order = ['dw', 'dr', 'hvac', 'fridge', 'mw']\n",
    "cnn_tree_pred = {}\n",
    "for idx, appliance in enumerate(order):\n",
    "    print(idx, appliance)\n",
    "    cnn_tree_pred[appliance] = cnn_pred[20000][idx].reshape(-1, 1, 112,24)"
   ]
  },
  {
   "cell_type": "code",
   "execution_count": 152,
   "metadata": {},
   "outputs": [
    {
     "name": "stdout",
     "output_type": "stream",
     "text": [
      "{'hvac': 186.65683, 'fridge': 29.265575, 'dr': 37.524254, 'dw': 11.02479, 'mw': 7.3939905}\n",
      "{'dw': 11.517038054217622, 'dr': 38.741945219055715, 'hvac': 167.2713076146099, 'fridge': 35.701260723504845, 'mw': 7.2681973578917578}\n",
      "{'hvac': 112.15536943674897, 'fridge': 26.364538273818635, 'dr': 51.332113758065901, 'dw': 11.13229631636338, 'mw': 6.813213514919009}\n",
      "{'fridge': 32.386288271646919, 'hvac': 90.562519457287365, 'dw': 11.031979601126308, 'dr': 49.031312089803237, 'mw': 8.9075847805505788}\n"
     ]
    }
   ],
   "source": [
    "print(cnn_individual_error)\n",
    "print(cnn_tree_loss[20000])\n",
    "print(rnn_individual_error)\n",
    "print(rnn_tree_error)"
   ]
  },
  {
   "cell_type": "code",
   "execution_count": 156,
   "metadata": {
    "collapsed": true
   },
   "outputs": [],
   "source": [
    "error = {}\n",
    "error['Individual RNN'] = rnn_individual_error\n",
    "error['Tree RNN'] = rnn_tree_error\n",
    "error['Individual CNN'] = cnn_individual_error\n",
    "error['Tree CNN'] = cnn_tree_loss[20000]"
   ]
  },
  {
   "cell_type": "code",
   "execution_count": 158,
   "metadata": {},
   "outputs": [
    {
     "data": {
      "text/html": [
       "<div>\n",
       "<style scoped>\n",
       "    .dataframe tbody tr th:only-of-type {\n",
       "        vertical-align: middle;\n",
       "    }\n",
       "\n",
       "    .dataframe tbody tr th {\n",
       "        vertical-align: top;\n",
       "    }\n",
       "\n",
       "    .dataframe thead th {\n",
       "        text-align: right;\n",
       "    }\n",
       "</style>\n",
       "<table border=\"1\" class=\"dataframe\">\n",
       "  <thead>\n",
       "    <tr style=\"text-align: right;\">\n",
       "      <th></th>\n",
       "      <th>dr</th>\n",
       "      <th>dw</th>\n",
       "      <th>fridge</th>\n",
       "      <th>hvac</th>\n",
       "      <th>mw</th>\n",
       "    </tr>\n",
       "  </thead>\n",
       "  <tbody>\n",
       "    <tr>\n",
       "      <th>Individual CNN</th>\n",
       "      <td>37.524254</td>\n",
       "      <td>11.024790</td>\n",
       "      <td>29.265575</td>\n",
       "      <td>186.656830</td>\n",
       "      <td>7.393991</td>\n",
       "    </tr>\n",
       "    <tr>\n",
       "      <th>Individual RNN</th>\n",
       "      <td>51.332114</td>\n",
       "      <td>11.132296</td>\n",
       "      <td>26.364538</td>\n",
       "      <td>112.155369</td>\n",
       "      <td>6.813214</td>\n",
       "    </tr>\n",
       "    <tr>\n",
       "      <th>Tree CNN</th>\n",
       "      <td>38.741945</td>\n",
       "      <td>11.517038</td>\n",
       "      <td>35.701261</td>\n",
       "      <td>167.271308</td>\n",
       "      <td>7.268197</td>\n",
       "    </tr>\n",
       "    <tr>\n",
       "      <th>Tree RNN</th>\n",
       "      <td>49.031312</td>\n",
       "      <td>11.031980</td>\n",
       "      <td>32.386288</td>\n",
       "      <td>90.562519</td>\n",
       "      <td>8.907585</td>\n",
       "    </tr>\n",
       "  </tbody>\n",
       "</table>\n",
       "</div>"
      ],
      "text/plain": [
       "                       dr         dw     fridge        hvac        mw\n",
       "Individual CNN  37.524254  11.024790  29.265575  186.656830  7.393991\n",
       "Individual RNN  51.332114  11.132296  26.364538  112.155369  6.813214\n",
       "Tree CNN        38.741945  11.517038  35.701261  167.271308  7.268197\n",
       "Tree RNN        49.031312  11.031980  32.386288   90.562519  8.907585"
      ]
     },
     "execution_count": 158,
     "metadata": {},
     "output_type": "execute_result"
    }
   ],
   "source": [
    "pd.DataFrame(error).T"
   ]
  }
 ],
 "metadata": {
  "kernelspec": {
   "display_name": "Python 3",
   "language": "python",
   "name": "python3"
  },
  "language_info": {
   "codemirror_mode": {
    "name": "ipython",
    "version": 3
   },
   "file_extension": ".py",
   "mimetype": "text/x-python",
   "name": "python",
   "nbconvert_exporter": "python",
   "pygments_lexer": "ipython3",
   "version": "3.6.3"
  }
 },
 "nbformat": 4,
 "nbformat_minor": 2
}
