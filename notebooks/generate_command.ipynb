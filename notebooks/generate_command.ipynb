{
 "cells": [
  {
   "cell_type": "code",
   "execution_count": 30,
   "metadata": {
    "collapsed": true
   },
   "outputs": [],
   "source": [
    "import numpy as np\n",
    "import itertools"
   ]
  },
  {
   "cell_type": "code",
   "execution_count": 5,
   "metadata": {
    "collapsed": true
   },
   "outputs": [],
   "source": [
    "orders = np.load(\"../code/baseline/rnn-greedy2-orders.npy\").item()"
   ]
  },
  {
   "cell_type": "code",
   "execution_count": 10,
   "metadata": {
    "collapsed": true
   },
   "outputs": [],
   "source": [
    "best = np.load(\"../code/baseline/best_param_nested_rnn.npy\").item()"
   ]
  },
  {
   "cell_type": "code",
   "execution_count": 20,
   "metadata": {
    "collapsed": true
   },
   "outputs": [],
   "source": [
    "k = list(itertools.permutations(['hvac', 'fridge', 'dr', 'dw', 'mw']))[0]"
   ]
  },
  {
   "cell_type": "code",
   "execution_count": 21,
   "metadata": {},
   "outputs": [
    {
     "data": {
      "text/plain": [
       "'hvac fridge dr dw mw'"
      ]
     },
     "execution_count": 21,
     "metadata": {},
     "output_type": "execute_result"
    }
   ],
   "source": [
    "\" \".join(str(x) for x in k)"
   ]
  },
  {
   "cell_type": "code",
   "execution_count": 57,
   "metadata": {
    "scrolled": false
   },
   "outputs": [
    {
     "name": "stdout",
     "output_type": "stream",
     "text": [
      "6 1\n"
     ]
    }
   ],
   "source": [
    "gid = 0\n",
    "srv = 1\n",
    "c = 0\n",
    "dataset = 1\n",
    "for fold_num in range(5):\n",
    "    for num_aug in [20, 40,60, 80, 100, 150, 200]:\n",
    "        for case in range(1, 4):\n",
    "            o = \" \".join(str(x) for x in order)\n",
    "            line = (\"CUDA_VISIBLE_DEVICES={} python rnn-nested-cv-aug-loader.py {} {} {} {}\\n\".format(gid, fold_num, dataset, num_aug, case))\n",
    "            c+=1\n",
    "\n",
    "            with open('../code/0{}{}.sh'.format(srv, gid), 'a') as the_file:\n",
    "                the_file.write(\"#!bin/bash \\n\")\n",
    "                the_file.write(line)\n",
    "\n",
    "            if c%5 == 0:\n",
    "                gid += 1\n",
    "            if gid == 4:\n",
    "                gid = 0\n",
    "                srv += 1\n",
    "print(srv, gid)"
   ]
  },
  {
   "cell_type": "code",
   "execution_count": 59,
   "metadata": {},
   "outputs": [
    {
     "name": "stdout",
     "output_type": "stream",
     "text": [
      "nohup sh 010.sh &> 010.out &\n",
      "nohup sh 011.sh &> 011.out &\n",
      "nohup sh 012.sh &> 012.out &\n",
      "nohup sh 013.sh &> 013.out &\n",
      "nohup sh 020.sh &> 020.out &\n",
      "nohup sh 021.sh &> 021.out &\n",
      "nohup sh 022.sh &> 022.out &\n",
      "nohup sh 023.sh &> 023.out &\n",
      "nohup sh 030.sh &> 030.out &\n",
      "nohup sh 031.sh &> 031.out &\n",
      "nohup sh 032.sh &> 032.out &\n",
      "nohup sh 033.sh &> 033.out &\n",
      "nohup sh 040.sh &> 040.out &\n",
      "nohup sh 041.sh &> 041.out &\n",
      "nohup sh 042.sh &> 042.out &\n",
      "nohup sh 043.sh &> 043.out &\n",
      "nohup sh 050.sh &> 050.out &\n",
      "nohup sh 051.sh &> 051.out &\n",
      "nohup sh 052.sh &> 052.out &\n",
      "nohup sh 053.sh &> 053.out &\n",
      "nohup sh 060.sh &> 060.out &\n",
      "nohup sh 061.sh &> 061.out &\n",
      "nohup sh 062.sh &> 062.out &\n",
      "nohup sh 063.sh &> 063.out &\n"
     ]
    }
   ],
   "source": [
    "for i in range(1, 7):\n",
    "    for j in range(4):\n",
    "        print(\"nohup sh 0{}{}.sh &> 0{}{}.out &\".format(i, j, i, j))"
   ]
  },
  {
   "cell_type": "code",
   "execution_count": 45,
   "metadata": {
    "collapsed": true,
    "scrolled": false
   },
   "outputs": [],
   "source": [
    "gid = 0\n",
    "srv = 1\n",
    "c = 0\n",
    "for fold_num in range(5):\n",
    "    for order in list(itertools.permutations(['hvac', 'fridge', 'dr', 'dw', 'mw'])):\n",
    "        o = \" \".join(str(x) for x in order)\n",
    "        line = (\"CUDA_VISIBLE_DEVICES={} python dnn-nested-cv.py {} 2 0.01 3000 0 {}\\n\".format(gid, fold_num, o))\n",
    "        c+=1\n",
    "        \n",
    "        with open('../code/0{}{}.sh'.format(srv, gid), 'a') as the_file:\n",
    "            the_file.write(\"#!bin/bash \\n\")\n",
    "            the_file.write(line)\n",
    "        \n",
    "        if c%25 == 0:\n",
    "            gid += 1\n",
    "        if gid == 4:\n",
    "            gid = 0\n",
    "            srv += 1"
   ]
  },
  {
   "cell_type": "code",
   "execution_count": 36,
   "metadata": {
    "collapsed": true
   },
   "outputs": [],
   "source": [
    "app_list = ['hvac', 'fridge', 'dr', 'dw', 'mw']"
   ]
  },
  {
   "cell_type": "code",
   "execution_count": 41,
   "metadata": {},
   "outputs": [
    {
     "data": {
      "text/plain": [
       "'hvac fridge'"
      ]
     },
     "execution_count": 41,
     "metadata": {},
     "output_type": "execute_result"
    }
   ],
   "source": [
    "\" \".join(order)"
   ]
  },
  {
   "cell_type": "code",
   "execution_count": 43,
   "metadata": {},
   "outputs": [
    {
     "name": "stdout",
     "output_type": "stream",
     "text": [
      "dr\n",
      "CUDA_VISIBLE_DEVICES=0 python rnn-nested-cv.py 0 2 GRU 20 1 True 0.01 3000 0 hvac fridge dr\n",
      "dw\n",
      "CUDA_VISIBLE_DEVICES=0 python rnn-nested-cv.py 0 2 GRU 20 1 True 0.01 3000 0 hvac fridge dw\n",
      "mw\n",
      "CUDA_VISIBLE_DEVICES=0 python rnn-nested-cv.py 0 2 GRU 20 1 True 0.01 3000 0 hvac fridge mw\n"
     ]
    }
   ],
   "source": [
    "order = ['hvac', 'fridge']\n",
    "fold_num = 0\n",
    "for app in app_list:\n",
    "    if app in order:\n",
    "        continue\n",
    "    else:\n",
    "        print (app)\n",
    "        \n",
    "        print (\"CUDA_VISIBLE_DEVICES={} python rnn-nested-cv.py {} 2 GRU 20 1 True 0.01 3000 0 {} {}\".format(gid, fold_num, \" \".join(order), app))"
   ]
  },
  {
   "cell_type": "code",
   "execution_count": 54,
   "metadata": {},
   "outputs": [
    {
     "name": "stdout",
     "output_type": "stream",
     "text": [
      "CUDA_VISIBLE_DEVICES=0 python rnn-nested-cv.py 0 1 GRU 50 1 True 0.1 2000 0.4 fridge hvac dw mw dr\n",
      "CUDA_VISIBLE_DEVICES=1 python rnn-nested-cv.py 0 1 GRU 50 1 True 0.1 2000 0.4 dr dw mw hvac fridge\n",
      "CUDA_VISIBLE_DEVICES=2 python rnn-nested-cv.py 0 1 GRU 50 1 True 0.1 2000 0.4 mw hvac dr dw fridge\n",
      "CUDA_VISIBLE_DEVICES=3 python rnn-nested-cv.py 0 1 GRU 50 1 True 0.1 2000 0.4 dw mw dr fridge hvac\n",
      "CUDA_VISIBLE_DEVICES=0 python rnn-nested-cv.py 0 1 GRU 50 1 True 0.1 2000 0.4 fridge dw mw dr hvac\n",
      "CUDA_VISIBLE_DEVICES=1 python rnn-nested-cv.py 0 1 GRU 50 1 True 0.1 2000 0.4 hvac fridge dr dw mw\n",
      "CUDA_VISIBLE_DEVICES=2 python rnn-nested-cv.py 0 1 GRU 50 1 True 0.1 2000 0.4 hvac mw fridge dr dw\n",
      "CUDA_VISIBLE_DEVICES=3 python rnn-nested-cv.py 0 1 GRU 50 1 True 0.1 2000 0.4 dr dw hvac fridge mw\n",
      "CUDA_VISIBLE_DEVICES=0 python rnn-nested-cv.py 0 1 GRU 50 1 True 0.1 2000 0.4 mw dw dr hvac fridge\n",
      "CUDA_VISIBLE_DEVICES=1 python rnn-nested-cv.py 0 1 GRU 50 1 True 0.1 2000 0.4 mw hvac dr dw fridge\n",
      "CUDA_VISIBLE_DEVICES=2 python rnn-nested-cv.py 0 1 GRU 50 1 True 0.1 2000 0.4 dw fridge hvac mw dr\n",
      "CUDA_VISIBLE_DEVICES=3 python rnn-nested-cv.py 0 1 GRU 50 1 True 0.1 2000 0.4 mw dw hvac fridge dr\n",
      "CUDA_VISIBLE_DEVICES=0 python rnn-nested-cv.py 0 1 GRU 50 1 True 0.1 2000 0.4 fridge hvac dr dw mw\n",
      "CUDA_VISIBLE_DEVICES=1 python rnn-nested-cv.py 0 1 GRU 50 1 True 0.1 2000 0.4 dr dw fridge mw hvac\n",
      "CUDA_VISIBLE_DEVICES=2 python rnn-nested-cv.py 0 1 GRU 50 1 True 0.1 2000 0.4 hvac dw fridge mw dr\n",
      "CUDA_VISIBLE_DEVICES=3 python rnn-nested-cv.py 0 1 GRU 50 1 True 0.1 2000 0.4 hvac fridge dw mw dr\n",
      "CUDA_VISIBLE_DEVICES=0 python rnn-nested-cv.py 0 1 GRU 50 1 True 0.1 2000 0.4 fridge mw dr hvac dw\n",
      "CUDA_VISIBLE_DEVICES=1 python rnn-nested-cv.py 0 1 GRU 50 1 True 0.1 2000 0.4 mw dr fridge hvac dw\n",
      "CUDA_VISIBLE_DEVICES=2 python rnn-nested-cv.py 0 1 GRU 50 1 True 0.1 2000 0.4 hvac dr mw dw fridge\n",
      "CUDA_VISIBLE_DEVICES=3 python rnn-nested-cv.py 0 1 GRU 50 1 True 0.1 2000 0.4 dr hvac fridge mw dw\n"
     ]
    }
   ],
   "source": [
    "import random\n",
    "\n",
    "gid=0\n",
    "for i in range(20):\n",
    "    index = random.sample(list(np.arange(120)), 1)\n",
    "#     print(index)\n",
    "    order = list(itertools.permutations(['hvac', 'fridge', 'dr', 'dw', 'mw']))[index[0]]\n",
    "    o = \" \".join(str(x) for x in order)\n",
    "    print (\"CUDA_VISIBLE_DEVICES={} python rnn-nested-cv.py 0 1 GRU 50 1 True 0.1 2000 0.4 {}\".format(gid, o))\n",
    "    gid+= 1\n",
    "    if gid == 4:\n",
    "        gid = 0\n",
    "    "
   ]
  }
 ],
 "metadata": {
  "kernelspec": {
   "display_name": "Python 3",
   "language": "python",
   "name": "python3"
  },
  "language_info": {
   "codemirror_mode": {
    "name": "ipython",
    "version": 3
   },
   "file_extension": ".py",
   "mimetype": "text/x-python",
   "name": "python",
   "nbconvert_exporter": "python",
   "pygments_lexer": "ipython3",
   "version": "3.6.3"
  }
 },
 "nbformat": 4,
 "nbformat_minor": 2
}
