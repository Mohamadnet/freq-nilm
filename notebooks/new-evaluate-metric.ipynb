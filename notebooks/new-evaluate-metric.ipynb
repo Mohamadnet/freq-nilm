{
 "cells": [
  {
   "cell_type": "code",
   "execution_count": 98,
   "metadata": {
    "collapsed": true
   },
   "outputs": [],
   "source": [
    "import torch\n",
    "from torch.autograd import Variable\n",
    "import numpy as np\n",
    "import torch.nn as nn\n",
    "from torchvision import datasets,transforms\n",
    "import torch.nn.functional as F\n",
    "import sys\n",
    "sys.path.append(\"../code/\")\n",
    "from dataloader import APPLIANCE_ORDER, get_train_test\n",
    "from sklearn.metrics import mean_absolute_error\n",
    "import os\n",
    "import pandas as pd\n",
    "import sys\n",
    "import numpy as np\n",
    "import matplotlib.pyplot as plt\n",
    "sys.path.append('../code/')\n",
    "%matplotlib inline\n",
    "import itertools\n",
    "from pathlib import Path"
   ]
  },
  {
   "cell_type": "code",
   "execution_count": 2,
   "metadata": {
    "collapsed": true
   },
   "outputs": [],
   "source": [
    "def onoff_error(pred, gt, threshold):\n",
    "    abs_error = np.abs(pred-gt)\n",
    "    error = [x for x in abs_error.reshape(1, -1).tolist()[0] if x >= threshold]\n",
    "    \n",
    "    return np.mean(error)"
   ]
  },
  {
   "cell_type": "code",
   "execution_count": 3,
   "metadata": {
    "collapsed": true
   },
   "outputs": [],
   "source": [
    "# calculate gt\n",
    "test_gt = {}\n",
    "valid_gt = {}\n",
    "for fold_num in range(5):\n",
    "    test_gt[fold_num] = {}\n",
    "    valid_gt[fold_num] = {}\n",
    "    train, test = get_train_test(1, 5, fold_num)\n",
    "    valid = train[int(0.8*len(train)):].copy()\n",
    "    for idx, appliance in enumerate(APPLIANCE_ORDER[1:]):\n",
    "        test_gt[fold_num][appliance] = test[:, idx+1]\n",
    "        valid_gt[fold_num][appliance] = valid[:, idx+1]"
   ]
  },
  {
   "cell_type": "code",
   "execution_count": 157,
   "metadata": {},
   "outputs": [
    {
     "name": "stdout",
     "output_type": "stream",
     "text": [
      "dr 182.332933398\n",
      "dw 117.045972072\n",
      "mw 12.8771472261\n"
     ]
    }
   ],
   "source": [
    "threshold = {}\n",
    "for appliance in ['dr', 'dw', 'mw']:\n",
    "    sample_list = []\n",
    "    for fold_num in range(5):\n",
    "        sample_list = np.append(sample_list, [x for x in test_gt[fold_num][appliance].reshape(1, -1).tolist()[0] if x > 0])\n",
    "    mean = np.mean(sample_list)\n",
    "    print(appliance, mean)\n",
    "    threshold[appliance] = 0.1*mean"
   ]
  },
  {
   "cell_type": "code",
   "execution_count": 158,
   "metadata": {},
   "outputs": [
    {
     "data": {
      "text/plain": [
       "{'dr': 18.233293339770761, 'dw': 11.704597207156935, 'mw': 1.2877147226060413}"
      ]
     },
     "execution_count": 158,
     "metadata": {},
     "output_type": "execute_result"
    }
   ],
   "source": [
    "threshold"
   ]
  },
  {
   "cell_type": "code",
   "execution_count": 23,
   "metadata": {},
   "outputs": [
    {
     "name": "stdout",
     "output_type": "stream",
     "text": [
      "9.879183735\n"
     ]
    }
   ],
   "source": [
    "gt = test_gt[0]['mw']\n",
    "mean = np.mean([x for x in gt.reshape(1, -1).tolist()[0] if x > 0 ])\n",
    "print(mean)"
   ]
  },
  {
   "cell_type": "code",
   "execution_count": null,
   "metadata": {
    "collapsed": true
   },
   "outputs": [],
   "source": []
  },
  {
   "cell_type": "code",
   "execution_count": 146,
   "metadata": {
    "collapsed": true
   },
   "outputs": [],
   "source": [
    "threshold = {\"dr\":10, \"dw\":10, \"mw\":5}"
   ]
  },
  {
   "cell_type": "markdown",
   "metadata": {},
   "source": [
    "## Dataset 1: Artificial Aggregate Dataset"
   ]
  },
  {
   "cell_type": "markdown",
   "metadata": {},
   "source": [
    "### Individual RNN and TreeRNN\n",
    "#### Just use the best parameter found before as RNN always predict dryer as zero"
   ]
  },
  {
   "cell_type": "code",
   "execution_count": 246,
   "metadata": {
    "collapsed": true
   },
   "outputs": [],
   "source": [
    "dataset = 3\n",
    "best_rnn_individual = np.load(\"../code/baseline/result/rnn-individual-param-{}.npy\".format(dataset)).item()\n",
    "best_rnn_tree = np.load(\"../code/baseline/result/rnn-tree-param-{}.npy\".format(dataset)).item()"
   ]
  },
  {
   "cell_type": "code",
   "execution_count": 247,
   "metadata": {
    "collapsed": true
   },
   "outputs": [],
   "source": [
    "# get prediction for rnn individual\n",
    "rnn_individual_pred = {}\n",
    "rnn_individual_error = {}\n",
    "for fold_num in range(5):\n",
    "    rnn_individual_pred[fold_num] = {}\n",
    "    rnn_individual_error[fold_num] = {}\n",
    "    for appliance in ['hvac', 'fridge', 'dr', 'dw', 'mw']:\n",
    "        cell_type = best_rnn_individual[appliance][fold_num]['cell_type']\n",
    "        hidden_size = best_rnn_individual[appliance][fold_num]['hidden_size']\n",
    "        num_layers = best_rnn_individual[appliance][fold_num]['num_layers']\n",
    "        lr = best_rnn_individual[appliance][fold_num]['lr']\n",
    "        iters = best_rnn_individual[appliance][fold_num]['iters']\n",
    "        bidirectional = best_rnn_individual[appliance][fold_num]['bidirectional']\n",
    "\n",
    "        directory = \"../code/baseline/rnn-tree/{}/{}/{}/{}/{}/{}/{}/3000/0.0/\".format(dataset, fold_num, cell_type,\n",
    "                                                                                                    hidden_size,\n",
    "                                                                                                    num_layers,\n",
    "                                                                                                    bidirectional,\n",
    "                                                                                                    lr)\n",
    "        filename = \"test-pred-{}-{}-{}-{}-{}-{}-{}-3000-0.0-[\\'{}\\'].npy\".format(fold_num, dataset, cell_type, hidden_size, num_layers,\n",
    "                                                                                 bidirectional, lr, appliance)\n",
    "\n",
    "        full_path = directory + filename\n",
    "        rnn_individual_pred[fold_num][appliance] = np.asarray(np.load(full_path).item()[iters]).reshape(-1, 1, 112, 24)"
   ]
  },
  {
   "cell_type": "code",
   "execution_count": 248,
   "metadata": {
    "collapsed": true
   },
   "outputs": [],
   "source": [
    "# get prediction for rnn tree\n",
    "rnn_tree_pred = {}\n",
    "rnn_tree_error = {}\n",
    "for fold_num in range(5):\n",
    "    # get prediction for rnn tree\n",
    "    rnn_tree_pred[fold_num] = {}\n",
    "#     rnn_tree_error[fold_num] = {}\n",
    "    cell_type = best_rnn_tree[fold_num]['cell_type']\n",
    "    hidden_size = best_rnn_tree[fold_num]['hidden_size']\n",
    "    num_layers = best_rnn_tree[fold_num]['num_layers']\n",
    "    lr = best_rnn_tree[fold_num]['lr']\n",
    "    iters = best_rnn_tree[fold_num]['iters']\n",
    "    bidirectional = best_rnn_tree[fold_num]['bidirectional']\n",
    "    order = best_rnn_tree[fold_num]['order']\n",
    "    directory = \"../code/baseline/rnn-tree/{}/{}/{}/{}/{}/{}/{}/3000/0.0/\".format(dataset, fold_num, cell_type,\n",
    "                                                                                                hidden_size,\n",
    "                                                                                                num_layers,\n",
    "                                                                                                bidirectional,\n",
    "                                                                                                float(lr))\n",
    "    filename = \"test-pred-{}-{}-{}-{}-{}-{}-{}-3000-0.0-[\\'{}\\'].npy\".format(fold_num, dataset, cell_type, hidden_size, num_layers,\n",
    "                                                                             bidirectional, float(lr), str(order)[2:-2])\n",
    "\n",
    "    full_path = directory + filename\n",
    "    rnn_pred = np.asarray(np.load(full_path).item()[iters])\n",
    "    \n",
    "\n",
    "    for idx, appliance in enumerate(order):\n",
    "        rnn_tree_pred[fold_num][appliance] = rnn_pred[idx].reshape(-1, 1, 112,24)"
   ]
  },
  {
   "cell_type": "code",
   "execution_count": 249,
   "metadata": {},
   "outputs": [
    {
     "data": {
      "text/html": [
       "<div>\n",
       "<style scoped>\n",
       "    .dataframe tbody tr th:only-of-type {\n",
       "        vertical-align: middle;\n",
       "    }\n",
       "\n",
       "    .dataframe tbody tr th {\n",
       "        vertical-align: top;\n",
       "    }\n",
       "\n",
       "    .dataframe thead th {\n",
       "        text-align: right;\n",
       "    }\n",
       "</style>\n",
       "<table border=\"1\" class=\"dataframe\">\n",
       "  <thead>\n",
       "    <tr style=\"text-align: right;\">\n",
       "      <th></th>\n",
       "      <th>dr</th>\n",
       "      <th>dw</th>\n",
       "      <th>fridge</th>\n",
       "      <th>hvac</th>\n",
       "      <th>mw</th>\n",
       "    </tr>\n",
       "  </thead>\n",
       "  <tbody>\n",
       "    <tr>\n",
       "      <th>0</th>\n",
       "      <td>1121.276868</td>\n",
       "      <td>317.134004</td>\n",
       "      <td>27.821228</td>\n",
       "      <td>263.290928</td>\n",
       "      <td>12.078453</td>\n",
       "    </tr>\n",
       "    <tr>\n",
       "      <th>1</th>\n",
       "      <td>1087.982078</td>\n",
       "      <td>323.810637</td>\n",
       "      <td>33.836725</td>\n",
       "      <td>338.311500</td>\n",
       "      <td>12.952859</td>\n",
       "    </tr>\n",
       "    <tr>\n",
       "      <th>2</th>\n",
       "      <td>1100.260138</td>\n",
       "      <td>302.197651</td>\n",
       "      <td>25.911348</td>\n",
       "      <td>304.010418</td>\n",
       "      <td>9.469221</td>\n",
       "    </tr>\n",
       "    <tr>\n",
       "      <th>3</th>\n",
       "      <td>595.084019</td>\n",
       "      <td>340.598606</td>\n",
       "      <td>30.200904</td>\n",
       "      <td>388.606593</td>\n",
       "      <td>7.225047</td>\n",
       "    </tr>\n",
       "    <tr>\n",
       "      <th>4</th>\n",
       "      <td>1119.461064</td>\n",
       "      <td>281.878602</td>\n",
       "      <td>30.280487</td>\n",
       "      <td>286.989624</td>\n",
       "      <td>17.829388</td>\n",
       "    </tr>\n",
       "  </tbody>\n",
       "</table>\n",
       "</div>"
      ],
      "text/plain": [
       "            dr          dw     fridge        hvac         mw\n",
       "0  1121.276868  317.134004  27.821228  263.290928  12.078453\n",
       "1  1087.982078  323.810637  33.836725  338.311500  12.952859\n",
       "2  1100.260138  302.197651  25.911348  304.010418   9.469221\n",
       "3   595.084019  340.598606  30.200904  388.606593   7.225047\n",
       "4  1119.461064  281.878602  30.280487  286.989624  17.829388"
      ]
     },
     "execution_count": 249,
     "metadata": {},
     "output_type": "execute_result"
    }
   ],
   "source": [
    "pd.DataFrame(calculate_error(rnn_tree_pred, test_gt, threshold)[0])"
   ]
  },
  {
   "cell_type": "markdown",
   "metadata": {},
   "source": [
    "## Individual CNN and TreeCNN"
   ]
  },
  {
   "cell_type": "code",
   "execution_count": 203,
   "metadata": {},
   "outputs": [
    {
     "name": "stdout",
     "output_type": "stream",
     "text": [
      "0\n"
     ]
    }
   ],
   "source": [
    "valid_pred = {}\n",
    "gid = 0\n",
    "c = 0\n",
    "for fold_num in range(5):\n",
    "    valid_pred[fold_num] = {}\n",
    "    for appliance in ['hvac', 'fridge', 'dr', 'dw', 'mw']:\n",
    "        valid_pred[fold_num][appliance] = {}\n",
    "        for lr in [0.001, 0.01, 0.1]:\n",
    "            valid_pred[fold_num][appliance][lr] = {}\n",
    "            for iters in [200000]:\n",
    "            \n",
    "                directory = \"../code/baseline/cnn-tree/{}/{}/{}/{}/0.0/\".format(dataset, fold_num, lr, iters)\n",
    "                filename = \"valid-pred-[\\'{}\\'].npy\".format(appliance)\n",
    "                \n",
    "                full_path = directory + filename\n",
    "                my_file = Path(full_path)\n",
    "                if not my_file.exists():\n",
    "                    print(\"CUDA_VISIBLE_DEVICES={} python cnn-tree.py {} {} {} 0 {} {} &\".format(gid, dataset, lr, iters, fold_num, appliance))\n",
    "                    gid += 1\n",
    "                    if gid == 4:\n",
    "                        gid = 0\n",
    "                    c += 1\n",
    "                else:\n",
    "#                     continue\n",
    "                    for it in range(1000, 200000+1, 1000):\n",
    "                        valid_pred[fold_num][appliance][lr][it] = np.load(full_path).item()[it][0]\n",
    "print(c)"
   ]
  },
  {
   "cell_type": "code",
   "execution_count": 176,
   "metadata": {},
   "outputs": [
    {
     "data": {
      "text/plain": [
       "(1232, 24)"
      ]
     },
     "execution_count": 176,
     "metadata": {},
     "output_type": "execute_result"
    }
   ],
   "source": [
    "valid_pred[fold_num][appliance][lr][it].reshape(-1, 24).shape"
   ]
  },
  {
   "cell_type": "code",
   "execution_count": 205,
   "metadata": {},
   "outputs": [
    {
     "data": {
      "text/plain": [
       "3"
      ]
     },
     "execution_count": 205,
     "metadata": {},
     "output_type": "execute_result"
    }
   ],
   "source": [
    "dataset"
   ]
  },
  {
   "cell_type": "code",
   "execution_count": 204,
   "metadata": {
    "collapsed": true
   },
   "outputs": [],
   "source": [
    "best_param = {}\n",
    "for fold_num in range(5):\n",
    "    best_param[fold_num] = {}\n",
    "    for appliance in ['hvac', 'fridge']:\n",
    "        best_param[fold_num][appliance] = {}\n",
    "        min_error = np.inf\n",
    "        for lr in [0.001, 0.01, 0.1]:\n",
    "            for it in range(1000, 200000+1, 1000):\n",
    "                error = mean_absolute_error(valid_pred[fold_num][appliance][lr][it].reshape(-1, 24), valid_gt[fold_num][appliance].reshape(-1, 24))\n",
    "                if error < min_error:\n",
    "                    best_param[fold_num][appliance]['lr'] = lr\n",
    "                    best_param[fold_num][appliance]['iters'] = it\n",
    "                    min_error = error"
   ]
  },
  {
   "cell_type": "code",
   "execution_count": 206,
   "metadata": {
    "collapsed": true
   },
   "outputs": [],
   "source": [
    "for fold_num in range(5):\n",
    "    for appliance in ['dr', 'dw', 'mw']:\n",
    "        best_param[fold_num][appliance] = {}\n",
    "        min_error = np.inf\n",
    "        for lr in [0.001, 0.01, 0.1]:\n",
    "            for it in range(1000, 200000+1, 1000):\n",
    "                error = onoff_error(valid_pred[fold_num][appliance][lr][it].reshape(-1, 24), valid_gt[fold_num][appliance].reshape(-1, 24), threshold[appliance])\n",
    "                if error < min_error:\n",
    "                    best_param[fold_num][appliance]['lr'] = lr\n",
    "                    best_param[fold_num][appliance]['iters'] = it\n",
    "                    min_error = error"
   ]
  },
  {
   "cell_type": "code",
   "execution_count": 207,
   "metadata": {
    "collapsed": true
   },
   "outputs": [],
   "source": [
    "np.save(\"../code/baseline/result/cnn-individual-new-param-{}.npy\".format(dataset), best_param)"
   ]
  },
  {
   "cell_type": "code",
   "execution_count": 208,
   "metadata": {},
   "outputs": [
    {
     "name": "stdout",
     "output_type": "stream",
     "text": [
      "0\n"
     ]
    }
   ],
   "source": [
    "gid = 0\n",
    "srv = 1\n",
    "c = 0\n",
    "cmd = {}\n",
    "valid_pred = {}\n",
    "num_iterations = 20000\n",
    "lr = 0.01\n",
    "p = 0\n",
    "for fold_num in range(5):\n",
    "    valid_pred[fold_num] = {}\n",
    "    for lr in [0.01]:\n",
    "        valid_pred[fold_num][lr] = {}\n",
    "        for order in list(itertools.permutations(['hvac', 'fridge', 'dr', 'dw', 'mw'])):\n",
    "            valid_pred[fold_num][lr][order] = {}\n",
    "\n",
    "\n",
    "            o = \"\\', \\'\".join(str(x) for x in order)\n",
    "            directory = \"../code/baseline/cnn-tree/{}/{}/{}/20000/0.0/\".format(dataset, fold_num, lr)\n",
    "            filename = \"valid-pred-[\\'{}\\'].npy\".format(o)\n",
    "\n",
    "            full_path = directory + filename\n",
    "            my_file = Path(full_path)\n",
    "            if not my_file.exists():\n",
    "                o = \" \".join(str(x) for x in order)\n",
    "                line = (\"CUDA_VISIBLE_DEVICES={} python cnn-tree.py 1 {} {} 0 {} {} &\".format(gid, lr, num_iterations, fold_num, o))\n",
    "                print(line)\n",
    "\n",
    "                c += 1\n",
    "                if c%1 == 0:\n",
    "                    gid+=1\n",
    "                if gid == 4:\n",
    "                    gid = 0\n",
    "                    srv += 1\n",
    "            else:\n",
    "                for it in range(1000, 20001, 1000):\n",
    "                    valid_pred[fold_num][lr][order][it] = {}\n",
    "                    for idx, appliance in enumerate(order):\n",
    "                        valid_pred[fold_num][lr][order][it][appliance] = np.load(full_path).item()[it][idx]\n",
    "\n",
    "print(c)                               "
   ]
  },
  {
   "cell_type": "code",
   "execution_count": 210,
   "metadata": {
    "collapsed": true
   },
   "outputs": [],
   "source": [
    "best_param = {}\n",
    "for fold_num in range(5):\n",
    "    best_param[fold_num] = {}\n",
    "    min_error = np.inf\n",
    "    for lr in [0.01]:\n",
    "        for order in list(itertools.permutations(['hvac', 'fridge', 'dr', 'dw', 'mw'])):\n",
    "            for it in range(1000, 20001, 1000):\n",
    "                error = 0\n",
    "                for idx, appliance in enumerate(order):\n",
    "                    if appliance in ['hvac', 'fridge']:\n",
    "                        error += mean_absolute_error(valid_pred[fold_num][lr][order][it][appliance].reshape(-1, 24),\n",
    "                                                    valid_gt[fold_num][appliance].reshape(-1, 24))\n",
    "                    else:\n",
    "                        error += onoff_error(valid_pred[fold_num][lr][order][it][appliance].reshape(-1, 24),\n",
    "                                                    valid_gt[fold_num][appliance].reshape(-1, 24), threshold[appliance])\n",
    "                if error < min_error:\n",
    "                    min_error = error\n",
    "                    best_param[fold_num]['lr'] = lr\n",
    "                    best_param[fold_num]['order'] = order\n",
    "                    best_param[fold_num]['iters'] = it\n",
    "                \n",
    "                    "
   ]
  },
  {
   "cell_type": "code",
   "execution_count": 211,
   "metadata": {
    "collapsed": true
   },
   "outputs": [],
   "source": [
    "np.save(\"../code/baseline/result/cnn-tree-new-param-{}.npy\".format(dataset), best_param)"
   ]
  },
  {
   "cell_type": "code",
   "execution_count": 250,
   "metadata": {},
   "outputs": [],
   "source": [
    "# load the best for cnn model\n",
    "dataset = 3\n",
    "best_cnn_individual = np.load(\"../code/baseline/result/cnn-individual-new-param-{}.npy\".format(dataset)).item()\n",
    "best_cnn_tree = np.load(\"../code/baseline/result/cnn-tree-new-param-{}.npy\".format(dataset)).item()"
   ]
  },
  {
   "cell_type": "code",
   "execution_count": 251,
   "metadata": {
    "collapsed": true
   },
   "outputs": [],
   "source": [
    "# get prediction for rnn individual\n",
    "cnn_individual_pred = {}\n",
    "for fold_num in range(5):\n",
    "    cnn_individual_pred[fold_num] = {}\n",
    "    for appliance in ['hvac', 'fridge', 'dr', 'dw', 'mw']:\n",
    "        \n",
    "        lr = best_cnn_individual[fold_num][appliance]['lr']\n",
    "        iters = best_cnn_individual[fold_num][appliance]['iters']\n",
    "\n",
    "        directory = \"../code/baseline/cnn-tree/{}/{}/{}/200000/0.0/\".format(dataset, fold_num,lr)\n",
    "        filename = \"test-pred-[\\'{}\\'].npy\".format(appliance)\n",
    "\n",
    "        full_path = directory + filename\n",
    "        cnn_individual_pred[fold_num][appliance] = np.asarray(np.load(full_path).item()[iters]).reshape(-1, 1, 112, 24)"
   ]
  },
  {
   "cell_type": "code",
   "execution_count": 252,
   "metadata": {
    "collapsed": true
   },
   "outputs": [],
   "source": [
    "# get prediction for rnn individual\n",
    "cnn_tree_pred = {}\n",
    "for fold_num in range(5):\n",
    "    cnn_tree_pred[fold_num] = {}\n",
    "        \n",
    "    lr = best_cnn_tree[fold_num]['lr']\n",
    "    iters = best_cnn_tree[fold_num]['iters']\n",
    "    order = best_cnn_tree[fold_num]['order']\n",
    "\n",
    "    o = \"\\', \\'\".join(str(x) for x in order)\n",
    "    directory = \"../code/baseline/cnn-tree/{}/{}/{}/20000/0.0/\".format(dataset, fold_num,lr)\n",
    "    filename = \"test-pred-[\\'{}\\'].npy\".format(o)\n",
    "\n",
    "    full_path = directory + filename\n",
    "    cnn_pred = np.asarray(np.load(full_path).item()[iters])\n",
    "    \n",
    "    for idx, appliance in enumerate(order):\n",
    "        cnn_tree_pred[fold_num][appliance] = cnn_pred[idx].reshape(-1, 1, 112,24)\n",
    "    "
   ]
  },
  {
   "cell_type": "code",
   "execution_count": 253,
   "metadata": {},
   "outputs": [],
   "source": [
    "def calculate_error(pred, gt, threshold):\n",
    "    error = {}\n",
    "    overall = {}\n",
    "    num_homes = {}\n",
    "    \n",
    "    # calculte number of homes in each fold\n",
    "    for fold_num in range(5):\n",
    "        num_homes[fold_num] = gt[fold_num]['hvac'].reshape(-1, 1, 112,24).shape[0]\n",
    "    homes = pd.Series(num_homes).sum()\n",
    "    \n",
    "    # for Constantly On appliances: hvac and fridge\n",
    "    for appliance in ['hvac', 'fridge']:\n",
    "        overall[appliance] = 0\n",
    "        error[appliance] = {}\n",
    "        for fold_num in range(5):\n",
    "            error[appliance][fold_num] = mean_absolute_error(pred[fold_num][appliance].reshape(-1, 24), \n",
    "                                                             gt[fold_num][appliance].reshape(-1, 24))\n",
    "            overall[appliance] += error[appliance][fold_num]*num_homes[fold_num]\n",
    "        overall[appliance] /= homes\n",
    "        \n",
    "    # for ON/OFF appliances: dryer, dishwasher and microwave\n",
    "    for appliance in ['dr', 'dw', 'mw']:\n",
    "        error[appliance] = {}\n",
    "        overall[appliance] = 0                                                                \n",
    "        for fold_num in range(5):\n",
    "            error[appliance][fold_num] = onoff_error(pred[fold_num][appliance].reshape(-1, 24), \n",
    "                                                     gt[fold_num][appliance].reshape(-1, 24), threshold[appliance])\n",
    "            overall[appliance] += error[appliance][fold_num]*num_homes[fold_num]\n",
    "        overall[appliance] /= homes\n",
    "    \n",
    "    \n",
    "    return error, overall"
   ]
  },
  {
   "cell_type": "code",
   "execution_count": 254,
   "metadata": {
    "collapsed": true
   },
   "outputs": [],
   "source": [
    "new_error = {}\n",
    "new_error['Individual RNN'] = calculate_error(rnn_individual_pred, test_gt, threshold)[1]\n",
    "new_error['Tree RNN'] = calculate_error(rnn_tree_pred, test_gt, threshold)[1]\n",
    "new_error['Individual CNN'] = calculate_error(cnn_individual_pred, test_gt, threshold)[1]\n",
    "new_error['Tree CNN'] = calculate_error(cnn_tree_pred, test_gt, threshold)[1]"
   ]
  },
  {
   "cell_type": "code",
   "execution_count": 264,
   "metadata": {},
   "outputs": [
    {
     "data": {
      "text/html": [
       "<div>\n",
       "<style scoped>\n",
       "    .dataframe tbody tr th:only-of-type {\n",
       "        vertical-align: middle;\n",
       "    }\n",
       "\n",
       "    .dataframe tbody tr th {\n",
       "        vertical-align: top;\n",
       "    }\n",
       "\n",
       "    .dataframe thead th {\n",
       "        text-align: right;\n",
       "    }\n",
       "</style>\n",
       "<table border=\"1\" class=\"dataframe\">\n",
       "  <thead>\n",
       "    <tr style=\"text-align: right;\">\n",
       "      <th></th>\n",
       "      <th>dr</th>\n",
       "      <th>dw</th>\n",
       "      <th>fridge</th>\n",
       "      <th>hvac</th>\n",
       "      <th>mw</th>\n",
       "    </tr>\n",
       "  </thead>\n",
       "  <tbody>\n",
       "    <tr>\n",
       "      <th>0</th>\n",
       "      <td>687.883952</td>\n",
       "      <td>314.129496</td>\n",
       "      <td>29.223454</td>\n",
       "      <td>301.734703</td>\n",
       "      <td>10.577555</td>\n",
       "    </tr>\n",
       "    <tr>\n",
       "      <th>1</th>\n",
       "      <td>789.291287</td>\n",
       "      <td>309.061034</td>\n",
       "      <td>34.489788</td>\n",
       "      <td>306.514438</td>\n",
       "      <td>13.688283</td>\n",
       "    </tr>\n",
       "    <tr>\n",
       "      <th>2</th>\n",
       "      <td>277.451695</td>\n",
       "      <td>297.465913</td>\n",
       "      <td>27.597581</td>\n",
       "      <td>299.928123</td>\n",
       "      <td>8.880822</td>\n",
       "    </tr>\n",
       "    <tr>\n",
       "      <th>3</th>\n",
       "      <td>526.526864</td>\n",
       "      <td>341.071813</td>\n",
       "      <td>32.830688</td>\n",
       "      <td>350.031428</td>\n",
       "      <td>7.231986</td>\n",
       "    </tr>\n",
       "    <tr>\n",
       "      <th>4</th>\n",
       "      <td>737.334451</td>\n",
       "      <td>281.647245</td>\n",
       "      <td>30.844946</td>\n",
       "      <td>304.567637</td>\n",
       "      <td>17.272667</td>\n",
       "    </tr>\n",
       "  </tbody>\n",
       "</table>\n",
       "</div>"
      ],
      "text/plain": [
       "           dr          dw     fridge        hvac         mw\n",
       "0  687.883952  314.129496  29.223454  301.734703  10.577555\n",
       "1  789.291287  309.061034  34.489788  306.514438  13.688283\n",
       "2  277.451695  297.465913  27.597581  299.928123   8.880822\n",
       "3  526.526864  341.071813  32.830688  350.031428   7.231986\n",
       "4  737.334451  281.647245  30.844946  304.567637  17.272667"
      ]
     },
     "execution_count": 264,
     "metadata": {},
     "output_type": "execute_result"
    }
   ],
   "source": [
    "pd.DataFrame(calculate_error(cnn_individual_pred, test_gt, threshold)[0])"
   ]
  },
  {
   "cell_type": "code",
   "execution_count": 265,
   "metadata": {},
   "outputs": [
    {
     "data": {
      "text/html": [
       "<div>\n",
       "<style scoped>\n",
       "    .dataframe tbody tr th:only-of-type {\n",
       "        vertical-align: middle;\n",
       "    }\n",
       "\n",
       "    .dataframe tbody tr th {\n",
       "        vertical-align: top;\n",
       "    }\n",
       "\n",
       "    .dataframe thead th {\n",
       "        text-align: right;\n",
       "    }\n",
       "</style>\n",
       "<table border=\"1\" class=\"dataframe\">\n",
       "  <thead>\n",
       "    <tr style=\"text-align: right;\">\n",
       "      <th></th>\n",
       "      <th>dr</th>\n",
       "      <th>dw</th>\n",
       "      <th>fridge</th>\n",
       "      <th>hvac</th>\n",
       "      <th>mw</th>\n",
       "    </tr>\n",
       "  </thead>\n",
       "  <tbody>\n",
       "    <tr>\n",
       "      <th>0</th>\n",
       "      <td>663.728323</td>\n",
       "      <td>230.762473</td>\n",
       "      <td>31.965210</td>\n",
       "      <td>293.099916</td>\n",
       "      <td>10.489638</td>\n",
       "    </tr>\n",
       "    <tr>\n",
       "      <th>1</th>\n",
       "      <td>766.104963</td>\n",
       "      <td>323.575743</td>\n",
       "      <td>38.008720</td>\n",
       "      <td>292.467895</td>\n",
       "      <td>14.129815</td>\n",
       "    </tr>\n",
       "    <tr>\n",
       "      <th>2</th>\n",
       "      <td>692.651233</td>\n",
       "      <td>302.196751</td>\n",
       "      <td>32.598922</td>\n",
       "      <td>302.566313</td>\n",
       "      <td>9.035520</td>\n",
       "    </tr>\n",
       "    <tr>\n",
       "      <th>3</th>\n",
       "      <td>472.208845</td>\n",
       "      <td>340.741854</td>\n",
       "      <td>33.941170</td>\n",
       "      <td>360.256777</td>\n",
       "      <td>8.047670</td>\n",
       "    </tr>\n",
       "    <tr>\n",
       "      <th>4</th>\n",
       "      <td>598.903175</td>\n",
       "      <td>281.877967</td>\n",
       "      <td>33.033803</td>\n",
       "      <td>318.398603</td>\n",
       "      <td>17.128898</td>\n",
       "    </tr>\n",
       "  </tbody>\n",
       "</table>\n",
       "</div>"
      ],
      "text/plain": [
       "           dr          dw     fridge        hvac         mw\n",
       "0  663.728323  230.762473  31.965210  293.099916  10.489638\n",
       "1  766.104963  323.575743  38.008720  292.467895  14.129815\n",
       "2  692.651233  302.196751  32.598922  302.566313   9.035520\n",
       "3  472.208845  340.741854  33.941170  360.256777   8.047670\n",
       "4  598.903175  281.877967  33.033803  318.398603  17.128898"
      ]
     },
     "execution_count": 265,
     "metadata": {},
     "output_type": "execute_result"
    }
   ],
   "source": [
    "pd.DataFrame(calculate_error(cnn_tree_pred, test_gt, threshold)[0])"
   ]
  },
  {
   "cell_type": "code",
   "execution_count": 255,
   "metadata": {},
   "outputs": [
    {
     "data": {
      "text/html": [
       "<div>\n",
       "<style scoped>\n",
       "    .dataframe tbody tr th:only-of-type {\n",
       "        vertical-align: middle;\n",
       "    }\n",
       "\n",
       "    .dataframe tbody tr th {\n",
       "        vertical-align: top;\n",
       "    }\n",
       "\n",
       "    .dataframe thead th {\n",
       "        text-align: right;\n",
       "    }\n",
       "</style>\n",
       "<table border=\"1\" class=\"dataframe\">\n",
       "  <thead>\n",
       "    <tr style=\"text-align: right;\">\n",
       "      <th></th>\n",
       "      <th>Individual CNN</th>\n",
       "      <th>Individual RNN</th>\n",
       "      <th>Tree CNN</th>\n",
       "      <th>Tree RNN</th>\n",
       "    </tr>\n",
       "  </thead>\n",
       "  <tbody>\n",
       "    <tr>\n",
       "      <th>dr</th>\n",
       "      <td>602.867267</td>\n",
       "      <td>1010.684882</td>\n",
       "      <td>641.753523</td>\n",
       "      <td>1009.152254</td>\n",
       "    </tr>\n",
       "    <tr>\n",
       "      <th>dw</th>\n",
       "      <td>308.596146</td>\n",
       "      <td>313.261966</td>\n",
       "      <td>295.375694</td>\n",
       "      <td>313.179350</td>\n",
       "    </tr>\n",
       "    <tr>\n",
       "      <th>fridge</th>\n",
       "      <td>30.972570</td>\n",
       "      <td>28.942269</td>\n",
       "      <td>33.921979</td>\n",
       "      <td>29.591593</td>\n",
       "    </tr>\n",
       "    <tr>\n",
       "      <th>hvac</th>\n",
       "      <td>312.121611</td>\n",
       "      <td>324.961347</td>\n",
       "      <td>312.594083</td>\n",
       "      <td>315.607804</td>\n",
       "    </tr>\n",
       "    <tr>\n",
       "      <th>mw</th>\n",
       "      <td>11.509025</td>\n",
       "      <td>12.842696</td>\n",
       "      <td>11.742132</td>\n",
       "      <td>11.892869</td>\n",
       "    </tr>\n",
       "  </tbody>\n",
       "</table>\n",
       "</div>"
      ],
      "text/plain": [
       "        Individual CNN  Individual RNN    Tree CNN     Tree RNN\n",
       "dr          602.867267     1010.684882  641.753523  1009.152254\n",
       "dw          308.596146      313.261966  295.375694   313.179350\n",
       "fridge       30.972570       28.942269   33.921979    29.591593\n",
       "hvac        312.121611      324.961347  312.594083   315.607804\n",
       "mw           11.509025       12.842696   11.742132    11.892869"
      ]
     },
     "execution_count": 255,
     "metadata": {},
     "output_type": "execute_result"
    }
   ],
   "source": [
    "pd.DataFrame(new_error)"
   ]
  },
  {
   "cell_type": "code",
   "execution_count": 187,
   "metadata": {},
   "outputs": [
    {
     "data": {
      "text/plain": [
       "dr        1010.684882\n",
       "dw         313.261966\n",
       "fridge      28.942269\n",
       "hvac       324.961347\n",
       "mw          12.842696\n",
       "dtype: float64"
      ]
     },
     "execution_count": 187,
     "metadata": {},
     "output_type": "execute_result"
    }
   ],
   "source": [
    "pd.Series(calculate_error(rnn_individual_pred, test_gt, threshold)[1])"
   ]
  },
  {
   "cell_type": "code",
   "execution_count": 188,
   "metadata": {},
   "outputs": [
    {
     "data": {
      "text/html": [
       "<div>\n",
       "<style scoped>\n",
       "    .dataframe tbody tr th:only-of-type {\n",
       "        vertical-align: middle;\n",
       "    }\n",
       "\n",
       "    .dataframe tbody tr th {\n",
       "        vertical-align: top;\n",
       "    }\n",
       "\n",
       "    .dataframe thead th {\n",
       "        text-align: right;\n",
       "    }\n",
       "</style>\n",
       "<table border=\"1\" class=\"dataframe\">\n",
       "  <thead>\n",
       "    <tr style=\"text-align: right;\">\n",
       "      <th></th>\n",
       "      <th>dr</th>\n",
       "      <th>dw</th>\n",
       "      <th>fridge</th>\n",
       "      <th>hvac</th>\n",
       "      <th>mw</th>\n",
       "    </tr>\n",
       "  </thead>\n",
       "  <tbody>\n",
       "    <tr>\n",
       "      <th>0</th>\n",
       "      <td>1121.276868</td>\n",
       "      <td>317.134004</td>\n",
       "      <td>27.821228</td>\n",
       "      <td>263.290928</td>\n",
       "      <td>12.078453</td>\n",
       "    </tr>\n",
       "    <tr>\n",
       "      <th>1</th>\n",
       "      <td>1087.982078</td>\n",
       "      <td>323.810637</td>\n",
       "      <td>33.836725</td>\n",
       "      <td>338.311500</td>\n",
       "      <td>12.952859</td>\n",
       "    </tr>\n",
       "    <tr>\n",
       "      <th>2</th>\n",
       "      <td>1100.260138</td>\n",
       "      <td>302.197651</td>\n",
       "      <td>25.911348</td>\n",
       "      <td>304.010418</td>\n",
       "      <td>9.469221</td>\n",
       "    </tr>\n",
       "    <tr>\n",
       "      <th>3</th>\n",
       "      <td>595.084019</td>\n",
       "      <td>340.598606</td>\n",
       "      <td>30.200904</td>\n",
       "      <td>388.606593</td>\n",
       "      <td>7.225047</td>\n",
       "    </tr>\n",
       "    <tr>\n",
       "      <th>4</th>\n",
       "      <td>1119.461064</td>\n",
       "      <td>281.878602</td>\n",
       "      <td>30.280487</td>\n",
       "      <td>286.989624</td>\n",
       "      <td>17.829388</td>\n",
       "    </tr>\n",
       "  </tbody>\n",
       "</table>\n",
       "</div>"
      ],
      "text/plain": [
       "            dr          dw     fridge        hvac         mw\n",
       "0  1121.276868  317.134004  27.821228  263.290928  12.078453\n",
       "1  1087.982078  323.810637  33.836725  338.311500  12.952859\n",
       "2  1100.260138  302.197651  25.911348  304.010418   9.469221\n",
       "3   595.084019  340.598606  30.200904  388.606593   7.225047\n",
       "4  1119.461064  281.878602  30.280487  286.989624  17.829388"
      ]
     },
     "execution_count": 188,
     "metadata": {},
     "output_type": "execute_result"
    }
   ],
   "source": [
    "pd.DataFrame(calculate_error(rnn_tree_pred, test_gt, threshold)[0])"
   ]
  },
  {
   "cell_type": "code",
   "execution_count": 171,
   "metadata": {},
   "outputs": [
    {
     "data": {
      "text/html": [
       "<div>\n",
       "<style scoped>\n",
       "    .dataframe tbody tr th:only-of-type {\n",
       "        vertical-align: middle;\n",
       "    }\n",
       "\n",
       "    .dataframe tbody tr th {\n",
       "        vertical-align: top;\n",
       "    }\n",
       "\n",
       "    .dataframe thead th {\n",
       "        text-align: right;\n",
       "    }\n",
       "</style>\n",
       "<table border=\"1\" class=\"dataframe\">\n",
       "  <thead>\n",
       "    <tr style=\"text-align: right;\">\n",
       "      <th></th>\n",
       "      <th>dr</th>\n",
       "      <th>dw</th>\n",
       "      <th>fridge</th>\n",
       "      <th>hvac</th>\n",
       "      <th>mw</th>\n",
       "    </tr>\n",
       "  </thead>\n",
       "  <tbody>\n",
       "    <tr>\n",
       "      <th>0</th>\n",
       "      <td>348.964577</td>\n",
       "      <td>317.134726</td>\n",
       "      <td>28.517904</td>\n",
       "      <td>175.616321</td>\n",
       "      <td>10.178631</td>\n",
       "    </tr>\n",
       "    <tr>\n",
       "      <th>1</th>\n",
       "      <td>492.447682</td>\n",
       "      <td>323.575744</td>\n",
       "      <td>34.600568</td>\n",
       "      <td>135.859949</td>\n",
       "      <td>13.226437</td>\n",
       "    </tr>\n",
       "    <tr>\n",
       "      <th>2</th>\n",
       "      <td>501.878728</td>\n",
       "      <td>302.197651</td>\n",
       "      <td>27.424491</td>\n",
       "      <td>160.653717</td>\n",
       "      <td>8.485112</td>\n",
       "    </tr>\n",
       "    <tr>\n",
       "      <th>3</th>\n",
       "      <td>346.853676</td>\n",
       "      <td>340.746708</td>\n",
       "      <td>32.630367</td>\n",
       "      <td>163.393771</td>\n",
       "      <td>7.281154</td>\n",
       "    </tr>\n",
       "    <tr>\n",
       "      <th>4</th>\n",
       "      <td>526.701238</td>\n",
       "      <td>281.879209</td>\n",
       "      <td>30.406227</td>\n",
       "      <td>151.497976</td>\n",
       "      <td>17.187027</td>\n",
       "    </tr>\n",
       "  </tbody>\n",
       "</table>\n",
       "</div>"
      ],
      "text/plain": [
       "           dr          dw     fridge        hvac         mw\n",
       "0  348.964577  317.134726  28.517904  175.616321  10.178631\n",
       "1  492.447682  323.575744  34.600568  135.859949  13.226437\n",
       "2  501.878728  302.197651  27.424491  160.653717   8.485112\n",
       "3  346.853676  340.746708  32.630367  163.393771   7.281154\n",
       "4  526.701238  281.879209  30.406227  151.497976  17.187027"
      ]
     },
     "execution_count": 171,
     "metadata": {},
     "output_type": "execute_result"
    }
   ],
   "source": [
    "pd.DataFrame(calculate_error(cnn_individual_pred, test_gt, threshold)[0])"
   ]
  },
  {
   "cell_type": "code",
   "execution_count": 172,
   "metadata": {},
   "outputs": [
    {
     "data": {
      "text/html": [
       "<div>\n",
       "<style scoped>\n",
       "    .dataframe tbody tr th:only-of-type {\n",
       "        vertical-align: middle;\n",
       "    }\n",
       "\n",
       "    .dataframe tbody tr th {\n",
       "        vertical-align: top;\n",
       "    }\n",
       "\n",
       "    .dataframe thead th {\n",
       "        text-align: right;\n",
       "    }\n",
       "</style>\n",
       "<table border=\"1\" class=\"dataframe\">\n",
       "  <thead>\n",
       "    <tr style=\"text-align: right;\">\n",
       "      <th></th>\n",
       "      <th>dr</th>\n",
       "      <th>dw</th>\n",
       "      <th>fridge</th>\n",
       "      <th>hvac</th>\n",
       "      <th>mw</th>\n",
       "    </tr>\n",
       "  </thead>\n",
       "  <tbody>\n",
       "    <tr>\n",
       "      <th>0</th>\n",
       "      <td>231.665672</td>\n",
       "      <td>291.974351</td>\n",
       "      <td>30.586166</td>\n",
       "      <td>178.711373</td>\n",
       "      <td>10.915339</td>\n",
       "    </tr>\n",
       "    <tr>\n",
       "      <th>1</th>\n",
       "      <td>388.010323</td>\n",
       "      <td>319.754239</td>\n",
       "      <td>36.228537</td>\n",
       "      <td>133.157169</td>\n",
       "      <td>13.557611</td>\n",
       "    </tr>\n",
       "    <tr>\n",
       "      <th>2</th>\n",
       "      <td>384.176601</td>\n",
       "      <td>280.057231</td>\n",
       "      <td>35.868924</td>\n",
       "      <td>156.716972</td>\n",
       "      <td>8.913247</td>\n",
       "    </tr>\n",
       "    <tr>\n",
       "      <th>3</th>\n",
       "      <td>306.293603</td>\n",
       "      <td>323.724770</td>\n",
       "      <td>32.165805</td>\n",
       "      <td>166.607196</td>\n",
       "      <td>7.572600</td>\n",
       "    </tr>\n",
       "    <tr>\n",
       "      <th>4</th>\n",
       "      <td>429.115883</td>\n",
       "      <td>254.082933</td>\n",
       "      <td>32.605548</td>\n",
       "      <td>156.459055</td>\n",
       "      <td>16.713183</td>\n",
       "    </tr>\n",
       "  </tbody>\n",
       "</table>\n",
       "</div>"
      ],
      "text/plain": [
       "           dr          dw     fridge        hvac         mw\n",
       "0  231.665672  291.974351  30.586166  178.711373  10.915339\n",
       "1  388.010323  319.754239  36.228537  133.157169  13.557611\n",
       "2  384.176601  280.057231  35.868924  156.716972   8.913247\n",
       "3  306.293603  323.724770  32.165805  166.607196   7.572600\n",
       "4  429.115883  254.082933  32.605548  156.459055  16.713183"
      ]
     },
     "execution_count": 172,
     "metadata": {},
     "output_type": "execute_result"
    }
   ],
   "source": [
    "pd.DataFrame(calculate_error(cnn_tree_pred, test_gt, threshold)[0])"
   ]
  }
 ],
 "metadata": {
  "kernelspec": {
   "display_name": "Python 3",
   "language": "python",
   "name": "python3"
  },
  "language_info": {
   "codemirror_mode": {
    "name": "ipython",
    "version": 3
   },
   "file_extension": ".py",
   "mimetype": "text/x-python",
   "name": "python",
   "nbconvert_exporter": "python",
   "pygments_lexer": "ipython3",
   "version": "3.6.3"
  }
 },
 "nbformat": 4,
 "nbformat_minor": 2
}
