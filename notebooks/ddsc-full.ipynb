{
 "cells": [
  {
   "cell_type": "code",
   "execution_count": 4,
   "metadata": {},
   "outputs": [
    {
     "ename": "NameError",
     "evalue": "name 'sys' is not defined",
     "output_type": "error",
     "traceback": [
      "\u001b[0;31m---------------------------------------------------------------------------\u001b[0m",
      "\u001b[0;31mNameError\u001b[0m                                 Traceback (most recent call last)",
      "\u001b[0;32m<ipython-input-4-946d4a74fc97>\u001b[0m in \u001b[0;36m<module>\u001b[0;34m()\u001b[0m\n\u001b[0;32m----> 1\u001b[0;31m \u001b[0msys\u001b[0m\u001b[0;34m.\u001b[0m\u001b[0mpath\u001b[0m\u001b[0;34m\u001b[0m\u001b[0m\n\u001b[0m",
      "\u001b[0;31mNameError\u001b[0m: name 'sys' is not defined"
     ]
    }
   ],
   "source": [
    "sys.path"
   ]
  },
  {
   "cell_type": "code",
   "execution_count": 62,
   "metadata": {},
   "outputs": [
    {
     "ename": "TypeError",
     "evalue": "'generator' object has no attribute '__getitem__'",
     "output_type": "error",
     "traceback": [
      "\u001b[0;31m---------------------------------------------------------------------------\u001b[0m",
      "\u001b[0;31mTypeError\u001b[0m                                 Traceback (most recent call last)",
      "\u001b[0;32m<ipython-input-62-5d926c033fad>\u001b[0m in \u001b[0;36m<module>\u001b[0;34m()\u001b[0m\n\u001b[1;32m     22\u001b[0m \u001b[0mpred\u001b[0m\u001b[0;34m[\u001b[0m\u001b[0;34m:\u001b[0m\u001b[0;34m]\u001b[0m \u001b[0;34m=\u001b[0m \u001b[0mnp\u001b[0m\u001b[0;34m.\u001b[0m\u001b[0mnan\u001b[0m\u001b[0;34m\u001b[0m\u001b[0m\n\u001b[1;32m     23\u001b[0m \u001b[0;34m\u001b[0m\u001b[0m\n\u001b[0;32m---> 24\u001b[0;31m \u001b[0;32mfor\u001b[0m \u001b[0mtrain\u001b[0m\u001b[0;34m,\u001b[0m \u001b[0mtest\u001b[0m \u001b[0;32min\u001b[0m \u001b[0mkf\u001b[0m\u001b[0;34m.\u001b[0m\u001b[0msplit\u001b[0m\u001b[0;34m(\u001b[0m\u001b[0mt\u001b[0m\u001b[0;34m)\u001b[0m\u001b[0;34m[\u001b[0m\u001b[0;34m:\u001b[0m\u001b[0;36m1\u001b[0m\u001b[0;34m]\u001b[0m\u001b[0;34m:\u001b[0m\u001b[0;34m\u001b[0m\u001b[0m\n\u001b[0m\u001b[1;32m     25\u001b[0m     \u001b[0;32mprint\u001b[0m \u001b[0;34m\"*\"\u001b[0m\u001b[0;34m*\u001b[0m\u001b[0;36m20\u001b[0m\u001b[0;34m,\u001b[0m \u001b[0mtrain\u001b[0m\u001b[0;34m,\u001b[0m \u001b[0mtest\u001b[0m\u001b[0;34m\u001b[0m\u001b[0m\n\u001b[1;32m     26\u001b[0m     \u001b[0msys\u001b[0m\u001b[0;34m.\u001b[0m\u001b[0mstdout\u001b[0m\u001b[0;34m.\u001b[0m\u001b[0mflush\u001b[0m\u001b[0;34m(\u001b[0m\u001b[0;34m)\u001b[0m\u001b[0;34m\u001b[0m\u001b[0m\n",
      "\u001b[0;31mTypeError\u001b[0m: 'generator' object has no attribute '__getitem__'"
     ]
    }
   ],
   "source": [
    "import pickle\n",
    "\n",
    "import sys\n",
    "import pandas as pd\n",
    "import sys\n",
    "sys.path.append(\"../code/\")\n",
    "sys.path.append(\"../code/ddsc_files/\")\n",
    "from tensor_custom_core import *\n",
    "\n",
    "from ddsc import train_ddsc,run_ddsc\n",
    "\n",
    "\n",
    "freq, r ='1H',1\n",
    "r = int(r)\n",
    "\n",
    "tensor = pickle.load(open('{}-input.pkl'.format(freq),'r'))\n",
    "\n",
    "t = tensor[:, :, :, :][:10]\n",
    "from sklearn.model_selection import KFold\n",
    "kf = KFold(n_splits=5)\n",
    "pred = np.zeros_like(t)\n",
    "pred[:] = np.nan\n",
    "\n",
    "for train, test in kf.split(t)[:1]:\n",
    "    print \"*\"*20, train, test\n",
    "    sys.stdout.flush()\n",
    "    t_copy = t.copy()\n",
    "\n",
    "    d = []\n",
    "    for i in range(1, 7):\n",
    "        temp = pd.DataFrame(tensor[train, i, :, :].reshape(len(train), 365 * 24).T).fillna(method='pad').astype('float32')\n",
    "        temp = temp.T.fillna(method='pad').T\n",
    "        d.append(temp.values)\n",
    "    big_a_star, big_b_tilde, all_b = train_ddsc(d, r)\n",
    "\n",
    "    for test_home in test:\n",
    "        agg = pd.DataFrame(tensor[test_home, 0, :, :].reshape(1, 365 * 24).T).fillna(method='pad').astype('float32').values\n",
    "        print len(pd.DataFrame(agg).dropna()), test_home\n",
    "        if len(pd.DataFrame(agg).dropna()):\n",
    "            pr = run_ddsc(agg, big_b_tilde, big_a_star, all_b)\n",
    "            for j in range(1, 7):\n",
    "                t_copy[test_home, j, :, :] = pd.DataFrame(pr[j-1])[1].reshape(365, 24)\n",
    "        else:\n",
    "            print(\"Here i am..\")\n",
    "            t_copy[test_home, 1:, :, :] = np.nan\n",
    "        pred[test_home] = t_copy[test_home]\n",
    "\n",
    "#pickle.dump(pred, open(\"../{}-{}-pred-hourly.pkl\".format(freq, r),'w'))\n",
    "\n"
   ]
  },
  {
   "cell_type": "code",
   "execution_count": 61,
   "metadata": {},
   "outputs": [
    {
     "data": {
      "text/plain": [
       "<matplotlib.axes._subplots.AxesSubplot at 0x11f129fd0>"
      ]
     },
     "execution_count": 61,
     "metadata": {},
     "output_type": "execute_result"
    },
    {
     "data": {
      "image/png": "[encoded data removed]",
      "text/plain": [
       "<matplotlib.figure.Figure at 0x11f21db10>"
      ]
     },
     "metadata": {},
     "output_type": "display_data"
    }
   ],
   "source": [
    "pd.DataFrame(pred[3, 6, :, :]).T[1].plot()\n",
    "\n"
   ]
  },
  {
   "cell_type": "code",
   "execution_count": 36,
   "metadata": {},
   "outputs": [
    {
     "data": {
      "text/plain": [
       "array([[ nan,  nan,  nan, ...,  nan,  nan,  nan],\n",
       "       [ nan,  nan,  nan, ...,  nan,  nan,  nan],\n",
       "       [ nan,  nan,  nan, ...,  nan,  nan,  nan],\n",
       "       ..., \n",
       "       [ nan,  nan,  nan, ...,  nan,  nan,  nan],\n",
       "       [ nan,  nan,  nan, ...,  nan,  nan,  nan],\n",
       "       [ nan,  nan,  nan, ...,  nan,  nan,  nan]])"
      ]
     },
     "execution_count": 36,
     "metadata": {},
     "output_type": "execute_result"
    }
   ],
   "source": [
    "pred[1, 1]"
   ]
  },
  {
   "cell_type": "code",
   "execution_count": 13,
   "metadata": {},
   "outputs": [],
   "source": [
    "%matplotlib inline"
   ]
  },
  {
   "cell_type": "code",
   "execution_count": 15,
   "metadata": {},
   "outputs": [
    {
     "data": {
      "text/html": [
       "<div>\n",
       "<style>\n",
       "    .dataframe thead tr:only-child th {\n",
       "        text-align: right;\n",
       "    }\n",
       "\n",
       "    .dataframe thead th {\n",
       "        text-align: left;\n",
       "    }\n",
       "\n",
       "    .dataframe tbody tr th {\n",
       "        vertical-align: top;\n",
       "    }\n",
       "</style>\n",
       "<table border=\"1\" class=\"dataframe\">\n",
       "  <thead>\n",
       "    <tr style=\"text-align: right;\">\n",
       "      <th></th>\n",
       "      <th>0</th>\n",
       "      <th>1</th>\n",
       "      <th>2</th>\n",
       "      <th>3</th>\n",
       "      <th>4</th>\n",
       "    </tr>\n",
       "  </thead>\n",
       "  <tbody>\n",
       "    <tr>\n",
       "      <th>0</th>\n",
       "      <td>48580.379542</td>\n",
       "      <td>83797.148360</td>\n",
       "      <td>83797.148360</td>\n",
       "      <td>79667.299062</td>\n",
       "      <td>86054.143965</td>\n",
       "    </tr>\n",
       "    <tr>\n",
       "      <th>1</th>\n",
       "      <td>4367.616462</td>\n",
       "      <td>6361.183251</td>\n",
       "      <td>6361.183251</td>\n",
       "      <td>5445.317276</td>\n",
       "      <td>5445.317276</td>\n",
       "    </tr>\n",
       "    <tr>\n",
       "      <th>2</th>\n",
       "      <td>5747.636983</td>\n",
       "      <td>1766.509625</td>\n",
       "      <td>1766.509625</td>\n",
       "      <td>172.691373</td>\n",
       "      <td>172.691373</td>\n",
       "    </tr>\n",
       "    <tr>\n",
       "      <th>3</th>\n",
       "      <td>1749.587418</td>\n",
       "      <td>10015.308882</td>\n",
       "      <td>10015.308882</td>\n",
       "      <td>162.864867</td>\n",
       "      <td>162.864867</td>\n",
       "    </tr>\n",
       "    <tr>\n",
       "      <th>4</th>\n",
       "      <td>152.690099</td>\n",
       "      <td>3277.137316</td>\n",
       "      <td>3277.137316</td>\n",
       "      <td>578.669137</td>\n",
       "      <td>578.669137</td>\n",
       "    </tr>\n",
       "    <tr>\n",
       "      <th>5</th>\n",
       "      <td>NaN</td>\n",
       "      <td>338.921779</td>\n",
       "      <td>570.512658</td>\n",
       "      <td>373.375297</td>\n",
       "      <td>256.002020</td>\n",
       "    </tr>\n",
       "  </tbody>\n",
       "</table>\n",
       "</div>"
      ],
      "text/plain": [
       "              0             1             2             3             4\n",
       "0  48580.379542  83797.148360  83797.148360  79667.299062  86054.143965\n",
       "1   4367.616462   6361.183251   6361.183251   5445.317276   5445.317276\n",
       "2   5747.636983   1766.509625   1766.509625    172.691373    172.691373\n",
       "3   1749.587418  10015.308882  10015.308882    162.864867    162.864867\n",
       "4    152.690099   3277.137316   3277.137316    578.669137    578.669137\n",
       "5           NaN    338.921779    570.512658    373.375297    256.002020"
      ]
     },
     "execution_count": 15,
     "metadata": {},
     "output_type": "execute_result"
    }
   ],
   "source": [
    "pd.DataFrame(big_a_star)"
   ]
  },
  {
   "cell_type": "code",
   "execution_count": null,
   "metadata": {
    "collapsed": true
   },
   "outputs": [],
   "source": []
  }
 ],
 "metadata": {
  "kernelspec": {
   "display_name": "Python 2",
   "language": "python",
   "name": "python2"
  },
  "language_info": {
   "codemirror_mode": {
    "name": "ipython",
    "version": 2
   },
   "file_extension": ".py",
   "mimetype": "text/x-python",
   "name": "python",
   "nbconvert_exporter": "python",
   "pygments_lexer": "ipython2",
   "version": "2.7.13"
  }
 },
 "nbformat": 4,
 "nbformat_minor": 2
}
