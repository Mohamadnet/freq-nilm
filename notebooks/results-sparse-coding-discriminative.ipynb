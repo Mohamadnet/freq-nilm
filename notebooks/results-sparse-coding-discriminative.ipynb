{
 "cells": [
  {
   "cell_type": "code",
   "execution_count": 1,
   "metadata": {},
   "outputs": [],
   "source": [
    "import sys\n",
    "import numpy as np\n",
    "import pandas as pd\n",
    "sys.path.append(\"../code/\")"
   ]
  },
  {
   "cell_type": "code",
   "execution_count": 2,
   "metadata": {},
   "outputs": [],
   "source": [
    "from dataloader import APPLIANCE_ORDER, get_train_test\n",
    "from ddsc import SparseCoding, reshape_for_sc"
   ]
  },
  {
   "cell_type": "code",
   "execution_count": 3,
   "metadata": {},
   "outputs": [],
   "source": [
    "num_folds = 5"
   ]
  },
  {
   "cell_type": "code",
   "execution_count": 14,
   "metadata": {},
   "outputs": [],
   "source": [
    "def discriminative(num_latent, num_iterations):\n",
    "    print(num_iterations)\n",
    "    out = []\n",
    "    for cur_fold in range(5):\n",
    "        train, test = get_train_test(num_folds=num_folds, fold_num=cur_fold)\n",
    "        train_sc, test_sc = reshape_for_sc(train), reshape_for_sc(test)\n",
    "        train_data = np.array([train_sc[:, :, i ] for i in range(1, train.shape[1])]).swapaxes(1, 2)\n",
    "        c = SparseCoding()\n",
    "        c.train(train_data, num_latent=num_latent)\n",
    "        pred = c.disaggregate_discriminative(train_sc[:, :, 0].swapaxes(0, 1), \n",
    "                                             test_sc[:, :, 0].swapaxes(0, 1),\n",
    "                                             num_iter=num_iterations)\n",
    "        pred = pred[-1, :, :, :]\n",
    "        pred = pred.swapaxes(0, 2).swapaxes(1, 2)\n",
    "        print(pred.shape)\n",
    "        pred = pred.reshape(pred.shape[0], pred.shape[1], -1, 24)\n",
    "        out.append(pred)\n",
    "    return np.concatenate(out)\n"
   ]
  },
  {
   "cell_type": "code",
   "execution_count": 15,
   "metadata": {},
   "outputs": [
    {
     "name": "stdout",
     "output_type": "stream",
     "text": [
      "1 1\n",
      "1\n",
      "(14, 5, 2688)\n",
      "(14, 5, 2688)\n",
      "(14, 5, 2688)\n",
      "(13, 5, 2688)\n",
      "(13, 5, 2688)\n",
      "1 3\n",
      "3\n",
      "(14, 5, 2688)\n",
      "(14, 5, 2688)\n",
      "(14, 5, 2688)\n",
      "(13, 5, 2688)\n",
      "(13, 5, 2688)\n",
      "2 1\n",
      "1\n",
      "(14, 5, 2688)\n",
      "(14, 5, 2688)\n",
      "(14, 5, 2688)\n",
      "(13, 5, 2688)\n",
      "(13, 5, 2688)\n",
      "2 3\n",
      "3\n",
      "(14, 5, 2688)\n",
      "(14, 5, 2688)\n",
      "(14, 5, 2688)\n",
      "(13, 5, 2688)\n",
      "(13, 5, 2688)\n"
     ]
    }
   ],
   "source": [
    "tensor = np.load('../2015-5appliances.numpy.npy')\n",
    "from sklearn.metrics import mean_absolute_error\n",
    "\n",
    "err_disc ={}\n",
    "gt = tensor[:, 1:, :, :]\n",
    "# should be varied from [1, 30]\n",
    "for num_latent in range(1, 3):\n",
    "    err_disc[num_latent] = {}\n",
    "    # Should be upto 100 or so iterations.\n",
    "    for num_iterations in [1, 3]:\n",
    "        print(num_latent, num_iterations)\n",
    "        pred = discriminative(num_latent, num_iterations)\n",
    "        # Clamping prediction to aggregate\n",
    "        pred = np.minimum(pred, tensor[:, 0:1, :,:])\n",
    "        err_disc[num_latent][num_iterations] = {APPLIANCE_ORDER[i+1]:mean_absolute_error(pred[:, i,:,:].flatten(), \n",
    "                                                                       gt[:, i, :, :].flatten()) for i in range(pred.shape[1])}"
   ]
  },
  {
   "cell_type": "code",
   "execution_count": 22,
   "metadata": {},
   "outputs": [
    {
     "data": {
      "text/html": [
       "<div>\n",
       "<style>\n",
       "    .dataframe thead tr:only-child th {\n",
       "        text-align: right;\n",
       "    }\n",
       "\n",
       "    .dataframe thead th {\n",
       "        text-align: left;\n",
       "    }\n",
       "\n",
       "    .dataframe tbody tr th {\n",
       "        vertical-align: top;\n",
       "    }\n",
       "</style>\n",
       "<table border=\"1\" class=\"dataframe\">\n",
       "  <thead>\n",
       "    <tr style=\"text-align: right;\">\n",
       "      <th></th>\n",
       "      <th>1</th>\n",
       "      <th>2</th>\n",
       "    </tr>\n",
       "  </thead>\n",
       "  <tbody>\n",
       "    <tr>\n",
       "      <th>1</th>\n",
       "      <td>93.704611</td>\n",
       "      <td>99.320706</td>\n",
       "    </tr>\n",
       "    <tr>\n",
       "      <th>3</th>\n",
       "      <td>85.809372</td>\n",
       "      <td>93.945096</td>\n",
       "    </tr>\n",
       "  </tbody>\n",
       "</table>\n",
       "</div>"
      ],
      "text/plain": [
       "           1          2\n",
       "1  93.704611  99.320706\n",
       "3  85.809372  93.945096"
      ]
     },
     "execution_count": 22,
     "metadata": {},
     "output_type": "execute_result"
    }
   ],
   "source": [
    "pd.Panel(err_disc).mean()"
   ]
  },
  {
   "cell_type": "code",
   "execution_count": null,
   "metadata": {},
   "outputs": [],
   "source": [
    "# Min occurs at #latent =1, # iterations = 3"
   ]
  },
  {
   "cell_type": "code",
   "execution_count": 23,
   "metadata": {},
   "outputs": [],
   "source": [
    "res_sparse_disc = err_disc[1][3]"
   ]
  },
  {
   "cell_type": "code",
   "execution_count": 24,
   "metadata": {},
   "outputs": [
    {
     "data": {
      "text/plain": [
       "dr         84.864066\n",
       "dw         19.397304\n",
       "fridge     82.321917\n",
       "hvac      233.007728\n",
       "mw          9.455845\n",
       "Name: 3, dtype: float64"
      ]
     },
     "execution_count": 24,
     "metadata": {},
     "output_type": "execute_result"
    }
   ],
   "source": [
    "res_sparse_disc"
   ]
  },
  {
   "cell_type": "code",
   "execution_count": null,
   "metadata": {},
   "outputs": [],
   "source": []
  }
 ],
 "metadata": {
  "kernelspec": {
   "display_name": "Python 3",
   "language": "python",
   "name": "python3"
  },
  "language_info": {
   "codemirror_mode": {
    "name": "ipython",
    "version": 3
   },
   "file_extension": ".py",
   "mimetype": "text/x-python",
   "name": "python",
   "nbconvert_exporter": "python",
   "pygments_lexer": "ipython3",
   "version": "3.6.3"
  }
 },
 "nbformat": 4,
 "nbformat_minor": 2
}
