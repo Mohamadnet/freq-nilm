{
 "cells": [
  {
   "cell_type": "code",
   "execution_count": 2,
   "metadata": {
    "collapsed": true
   },
   "outputs": [],
   "source": [
    "import sys\n",
    "sys.path.append(\"../code/\")\n",
    "import numpy as np\n",
    "import pandas as pd\n",
    "from dataloader import APPLIANCE_ORDER, get_train_test\n",
    "from ddsc import SparseCoding, reshape_for_sc\n",
    "from sklearn.model_selection import train_test_split\n",
    "from sklearn.metrics import mean_absolute_error"
   ]
  },
  {
   "cell_type": "markdown",
   "metadata": {},
   "source": [
    "## sc without discreminative"
   ]
  },
  {
   "cell_type": "code",
   "execution_count": 4,
   "metadata": {},
   "outputs": [],
   "source": [
    "error = {}\n",
    "for dataset in [1 ,2]:\n",
    "    error[dataset] = {}\n",
    "    for cur_fold in range(5):\n",
    "        error[dataset][cur_fold] = {}\n",
    "        for num_latent in range(1, 21):\n",
    "            error[dataset][cur_fold][num_latent] = np.load(\"../code/baseline/sc-non-nested/sc-non-error-{}-{}-{}.npy\".format(dataset, cur_fold, num_latent)).item()"
   ]
  },
  {
   "cell_type": "code",
   "execution_count": 13,
   "metadata": {},
   "outputs": [],
   "source": [
    "best_param = {}\n",
    "for dataset in [1, 2]:\n",
    "    best_param[dataset] = {}\n",
    "    for cur_fold  in range(5):\n",
    "        best_param[dataset][cur_fold] = {}\n",
    "        \n",
    "        best_latent = pd.DataFrame(error[dataset][cur_fold]).mean().idxmin()\n",
    "        best_param[dataset][cur_fold]['num_latent'] = best_latent"
   ]
  },
  {
   "cell_type": "code",
   "execution_count": 16,
   "metadata": {
    "collapsed": true
   },
   "outputs": [],
   "source": [
    "np.save(\"../code/baseline/best_param_nested_sc_non.npy\", best_param)"
   ]
  },
  {
   "cell_type": "markdown",
   "metadata": {},
   "source": [
    "## sc With Discreminative"
   ]
  },
  {
   "cell_type": "code",
   "execution_count": 24,
   "metadata": {},
   "outputs": [],
   "source": [
    "error = {}\n",
    "for dataset in [1 ,2]:\n",
    "    error[dataset] = {}\n",
    "    for cur_fold in range(5):\n",
    "        error[dataset][cur_fold] = {}\n",
    "        for num_latent in range(1, 21):\n",
    "            error[dataset][cur_fold][num_latent] = {}\n",
    "            for iters in range(10, 110, 10):\n",
    "                error[dataset][cur_fold][num_latent][iters] = np.load(\"../code/baseline/sc-with-nested/sc-with-error-{}-{}-{}-{}.npy\".format(dataset, cur_fold, num_latent, iters)).item()"
   ]
  },
  {
   "cell_type": "code",
   "execution_count": 25,
   "metadata": {},
   "outputs": [
    {
     "data": {
      "text/plain": [
       "160.95381271488128"
      ]
     },
     "execution_count": 25,
     "metadata": {},
     "output_type": "execute_result"
    }
   ],
   "source": [
    "pd.Series(error[dataset][cur_fold][num_latent][iters]).mean()"
   ]
  },
  {
   "cell_type": "code",
   "execution_count": 26,
   "metadata": {},
   "outputs": [],
   "source": [
    "best_param = {}\n",
    "for dataset in [1, 2]:\n",
    "    best_param[dataset] = {}\n",
    "    for cur_fold  in range(5):\n",
    "        best_param[dataset][cur_fold] = {}\n",
    "        min_error = np.inf\n",
    "        for num_latent in range(1, 21):\n",
    "            for iters in range(10, 110, 10):\n",
    "                cur_error = pd.Series(error[dataset][cur_fold][num_latent][iters]).mean()\n",
    "                if cur_error < min_error:\n",
    "                    min_error = cur_error\n",
    "                    best_param[dataset][cur_fold]['num_latent'] = num_latent\n",
    "                    best_param[dataset][cur_fold]['iters'] = iters"
   ]
  },
  {
   "cell_type": "code",
   "execution_count": 28,
   "metadata": {
    "collapsed": true
   },
   "outputs": [],
   "source": [
    "np.save(\"../code/baseline/best_param_nested_sc_with.npy\", best_param)"
   ]
  },
  {
   "cell_type": "markdown",
   "metadata": {},
   "source": [
    "# prediction"
   ]
  },
  {
   "cell_type": "code",
   "execution_count": 29,
   "metadata": {
    "collapsed": true
   },
   "outputs": [],
   "source": [
    "def discriminative(dataset, cur_fold, num_latent, num_iterations):\n",
    "#     out = []\n",
    "    num_folds = 5\n",
    "    \n",
    "    train, test = get_train_test(dataset, num_folds=num_folds, fold_num=cur_fold)\n",
    "    train_sc, test_sc = reshape_for_sc(train), reshape_for_sc(test)\n",
    "    train_data = np.array([train_sc[:, :, i ] for i in range(1, train.shape[1])]).swapaxes(1, 2)\n",
    "    c = SparseCoding()\n",
    "    c.train(train_data, num_latent=num_latent)\n",
    "    pred = c.disaggregate_discriminative(train_sc[:, :, 0].swapaxes(0, 1), \n",
    "                                         test_sc[:, :, 0].swapaxes(0, 1),\n",
    "                                         num_iter=num_iterations)\n",
    "    pred = pred[-1, :, :, :]\n",
    "    pred = pred.swapaxes(0, 2).swapaxes(1, 2)\n",
    "    print(pred.shape)\n",
    "    pred = pred.reshape(pred.shape[0], pred.shape[1], -1, 24)\n",
    "#     out.append(pred)\n",
    "    \n",
    "#     return np.concatenate(out)\n",
    "    return pred"
   ]
  },
  {
   "cell_type": "code",
   "execution_count": 30,
   "metadata": {},
   "outputs": [
    {
     "name": "stdout",
     "output_type": "stream",
     "text": [
      "(14, 5, 2688)\n",
      "(14, 5, 2688)\n",
      "(14, 5, 2688)\n",
      "(13, 5, 2688)\n",
      "(13, 5, 2688)\n",
      "(14, 5, 2688)\n",
      "(14, 5, 2688)\n",
      "(14, 5, 2688)\n",
      "(13, 5, 2688)\n",
      "(13, 5, 2688)\n"
     ]
    }
   ],
   "source": [
    "\n",
    "best_param = np.load(\"../code/baseline/best_param_nested_sc_with.npy\").item()\n",
    "for dataset in [1, 2]:\n",
    "    out = []\n",
    "    for cur_fold in range(5):\n",
    "        pred = discriminative(dataset, cur_fold, best_param[dataset][cur_fold]['num_latent'], best_param[dataset][cur_fold]['iters'])\n",
    "        out.append(pred)\n",
    "        \n",
    "    cont_out = np.concatenate(out)\n",
    "    np.save(\"../code/baseline/sc-with-nested-pred-{}.npy\".format(dataset), cont_out)\n",
    "    \n",
    "    if dataset == 1:\n",
    "        tensor = np.load(\"../2015-5appliances.numpy.npy\")\n",
    "    if dataset == 2:\n",
    "        tensor = np.load(\"../2015-5appliances-true-agg.npy\")\n",
    "    \n",
    "    gt = tensor[:, 1:, :, :]\n",
    "    cont_out = np.minimum(cont_out, tensor[:, 0:1, :, :])\n",
    "    err_disc = {APPLIANCE_ORDER[i+1]:mean_absolute_error(cont_out[:, i,:,:].flatten(), \n",
    "                                                                       gt[:, i, :, :].flatten()) for i in range(cont_out.shape[1])}\n",
    "    \n",
    "    np.save(\"../code/baseline/sc-with-nested-error-{}.npy\".format(dataset), err_disc)"
   ]
  },
  {
   "cell_type": "code",
   "execution_count": 33,
   "metadata": {},
   "outputs": [
    {
     "data": {
      "text/plain": [
       "array({'hvac': 635.64061321300312, 'fridge': 213.77657813058056, 'dr': 114.64303711171128, 'dw': 19.476897946856177, 'mw': 20.453114873057086}, dtype=object)"
      ]
     },
     "execution_count": 33,
     "metadata": {},
     "output_type": "execute_result"
    }
   ],
   "source": [
    "err_1 = np.load(\"../code/baseline/sc-with-nested-error-2.npy\")\n",
    "err_1"
   ]
  },
  {
   "cell_type": "code",
   "execution_count": 39,
   "metadata": {
    "collapsed": true
   },
   "outputs": [],
   "source": [
    "def non_discriminative(dataset, cur_fold, num_latent):\n",
    "    num_folds=5\n",
    "    train, test = get_train_test(dataset, num_folds=num_folds, fold_num=cur_fold)\n",
    "    train_sc, test_sc = reshape_for_sc(train), reshape_for_sc(test)\n",
    "    train_data = np.array([train_sc[:, :, i ] for i in range(1, train.shape[1])]).swapaxes(1, 2)\n",
    "    c = SparseCoding()\n",
    "    c.train(train_data, num_latent=num_latent)\n",
    "    pred = c.disaggregate(test_sc[:, :, 0].swapaxes(0, 1)).swapaxes(0, 2).swapaxes(1, 2)\n",
    "    pred = pred.reshape(pred.shape[0], pred.shape[1], -1, 24)\n",
    "#     out.append(pred)\n",
    "    \n",
    "    return pred"
   ]
  },
  {
   "cell_type": "code",
   "execution_count": 40,
   "metadata": {},
   "outputs": [],
   "source": [
    "\n",
    "best_param = np.load(\"../code/baseline/best_param_nested_sc_non.npy\").item()\n",
    "for dataset in [1, 2]:\n",
    "    out = []\n",
    "    for cur_fold in range(5):\n",
    "        pred = non_discriminative(dataset, cur_fold, best_param[dataset][cur_fold]['num_latent'])\n",
    "        out.append(pred)\n",
    "        \n",
    "    cont_out = np.concatenate(out)\n",
    "    np.save(\"../code/baseline/sc-non-nested-pred-{}.npy\".format(dataset), cont_out)\n",
    "    \n",
    "    if dataset == 1:\n",
    "        tensor = np.load(\"../2015-5appliances.numpy.npy\")\n",
    "    if dataset == 2:\n",
    "        tensor = np.load(\"../2015-5appliances-true-agg.npy\")\n",
    "    \n",
    "    gt = tensor[:, 1:, :, :]\n",
    "    cont_out = np.minimum(cont_out, tensor[:, 0:1, :, :])\n",
    "    err_disc = {APPLIANCE_ORDER[i+1]:mean_absolute_error(cont_out[:, i,:,:].flatten(), \n",
    "                                                                       gt[:, i, :, :].flatten()) for i in range(cont_out.shape[1])}\n",
    "    \n",
    "    np.save(\"../code/baseline/sc-non-nested-error-{}.npy\".format(dataset), err_disc)"
   ]
  },
  {
   "cell_type": "code",
   "execution_count": 42,
   "metadata": {},
   "outputs": [
    {
     "data": {
      "text/plain": [
       "array({'hvac': 260.31440724551442, 'fridge': 106.38220734255049, 'dr': 88.89888812445281, 'dw': 35.113502253401194, 'mw': 46.458593872658582}, dtype=object)"
      ]
     },
     "execution_count": 42,
     "metadata": {},
     "output_type": "execute_result"
    }
   ],
   "source": [
    "err_1 = np.load(\"../code/baseline/sc-non-nested-error-1.npy\")\n",
    "err_1"
   ]
  }
 ],
 "metadata": {
  "kernelspec": {
   "display_name": "Python 3",
   "language": "python",
   "name": "python3"
  },
  "language_info": {
   "codemirror_mode": {
    "name": "ipython",
    "version": 3
   },
   "file_extension": ".py",
   "mimetype": "text/x-python",
   "name": "python",
   "nbconvert_exporter": "python",
   "pygments_lexer": "ipython3",
   "version": "3.6.3"
  }
 },
 "nbformat": 4,
 "nbformat_minor": 2
}
