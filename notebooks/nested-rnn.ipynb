{
 "cells": [
  {
   "cell_type": "code",
   "execution_count": 3,
   "metadata": {
    "collapsed": true
   },
   "outputs": [],
   "source": [
    "import numpy as np\n",
    "import pandas as pd"
   ]
  },
  {
   "cell_type": "code",
   "execution_count": 7,
   "metadata": {},
   "outputs": [
    {
     "name": "stdout",
     "output_type": "stream",
     "text": [
      "0\n"
     ]
    }
   ],
   "source": [
    "p = 0.0\n",
    "error = {}\n",
    "count = 0\n",
    "for dataset in [1, 2]:\n",
    "    error[dataset] = {}\n",
    "    for fold_num in range(5):\n",
    "        error[dataset][fold_num] = {}\n",
    "        for appliance in ['hvac', 'fridge','dr', 'dw', 'mw']:\n",
    "            error[dataset][fold_num][appliance] = {}\n",
    "            for cell_type in ['GRU', 'RNN', 'LSTM']:\n",
    "                error[dataset][fold_num][appliance][cell_type] = {}\n",
    "                for hidden_size  in [20, 50, 100]:\n",
    "                    error[dataset][fold_num][appliance][cell_type][hidden_size] = {}\n",
    "                    for num_layers in range(1,5):\n",
    "                        error[dataset][fold_num][appliance][cell_type][hidden_size][num_layers] = {}\n",
    "                        for bidirectional in [True, False]:\n",
    "                            error[dataset][fold_num][appliance][cell_type][hidden_size][num_layers][bidirectional] = {}\n",
    "                            for lr in [0.01, 0.1, 1.0]:\n",
    "                                error[dataset][fold_num][appliance][cell_type][hidden_size][num_layers][bidirectional][lr] = {}\n",
    "                                for iters in [1000, 2000, 3000]:\n",
    "                                    try:\n",
    "                                        error[dataset][fold_num][appliance][cell_type][hidden_size][num_layers][bidirectional][lr][iters] = \\\n",
    "                                        np.load('../code/baseline/rnn-nested-cv/valid-error-{}-{}-{}-{}-{}-{}-{}-{}-{}-[\\'{}\\'].npy'.format(fold_num, \\\n",
    "                                                                                                                           dataset, \n",
    "                                                                                                                           cell_type, \n",
    "                                                                                                                           hidden_size, \n",
    "                                                                                                                           num_layers, \n",
    "                                                                                                                           bidirectional, \n",
    "                                                                                                                           lr, \n",
    "                                                                                                                           iters, \n",
    "                                                                                                                           p, appliance)).item()\n",
    "\n",
    "                                    except:\n",
    "                                        count += 1\n",
    "                                        print (fold_num, cell_type, hidden_size, num_layers, bidirectional, lr, iters, 0, appliance)\n",
    "print (count)"
   ]
  },
  {
   "cell_type": "code",
   "execution_count": 12,
   "metadata": {},
   "outputs": [
    {
     "name": "stdout",
     "output_type": "stream",
     "text": [
      "0\n"
     ]
    }
   ],
   "source": [
    "p = 0.0\n",
    "best_params = {}\n",
    "count = 0\n",
    "for dataset in [1, 2]:\n",
    "    best_params[dataset] = {}\n",
    "    for fold_num in range(5):\n",
    "        best_params[dataset][fold_num] = {}\n",
    "        for appliance in ['hvac', 'fridge','dr', 'dw', 'mw']:\n",
    "            best_params[dataset][fold_num][appliance] = {}\n",
    "            min_error = np.inf\n",
    "            for cell_type in ['GRU', 'RNN', 'LSTM']:\n",
    "                for hidden_size  in [20, 50, 100]:\n",
    "                    for num_layers in range(1,5):\n",
    "                        for bidirectional in [True, False]:\n",
    "                            for lr in [0.01, 0.1, 1.0]:\n",
    "                                for iters in [1000, 2000, 3000]:\n",
    "                                    if error[dataset][fold_num][appliance][cell_type][hidden_size][num_layers][bidirectional][lr][iters][appliance] < min_error:\n",
    "                                        min_error = error[dataset][fold_num][appliance][cell_type][hidden_size][num_layers][bidirectional][lr][iters][appliance]\n",
    "                                        best_params[dataset][fold_num][appliance]['cell_type'] = cell_type\n",
    "                                        best_params[dataset][fold_num][appliance]['hidden_size'] = hidden_size\n",
    "                                        best_params[dataset][fold_num][appliance]['num_layers'] = num_layers\n",
    "                                        best_params[dataset][fold_num][appliance]['bidirectional'] = bidirectional\n",
    "                                        best_params[dataset][fold_num][appliance]['lr'] = lr\n",
    "                                        best_params[dataset][fold_num][appliance]['iters'] = iters\n",
    "print (count)"
   ]
  },
  {
   "cell_type": "code",
   "execution_count": 19,
   "metadata": {},
   "outputs": [
    {
     "data": {
      "text/plain": [
       "{'bidirectional': True,\n",
       " 'cell_type': 'RNN',\n",
       " 'hidden_size': 100,\n",
       " 'iters': 1000,\n",
       " 'lr': 0.01,\n",
       " 'num_layers': 2}"
      ]
     },
     "execution_count": 19,
     "metadata": {},
     "output_type": "execute_result"
    }
   ],
   "source": [
    "best_params[dataset][1][appliance]"
   ]
  },
  {
   "cell_type": "code",
   "execution_count": 16,
   "metadata": {},
   "outputs": [],
   "source": [
    "best_params = np.load(\"../code/baseline/best_param_nested_rnn.npy\").item()"
   ]
  },
  {
   "cell_type": "code",
   "execution_count": 8,
   "metadata": {
    "collapsed": true
   },
   "outputs": [],
   "source": [
    "err_contri = {'hvac':0.5028749252, 'fridge':0.1129756393, 'dr':0.2837048817, 'dw':0.0653719782,'mw':0.03507257561}"
   ]
  },
  {
   "cell_type": "code",
   "execution_count": 23,
   "metadata": {},
   "outputs": [
    {
     "name": "stdout",
     "output_type": "stream",
     "text": [
      "fold 0\n",
      "hvac 98.5602081648 195.993483122\n",
      "fridge 23.0447516233 203.979829334\n",
      "dr 73.5619796993 259.290496725\n",
      "dw 13.616785021 208.296970596\n",
      "mw 10.0716479815 287.165906877\n",
      "fold 1\n",
      "hvac 99.916129004 198.68982126\n",
      "fridge 23.704817473 209.822379584\n",
      "dr 67.4833896823 237.864746203\n",
      "dw 13.4501938939 205.748613768\n",
      "mw 7.58962531165 216.39771758\n",
      "fold 2\n",
      "hvac 105.419328651 209.633297205\n",
      "fridge 24.2153095556 214.340982761\n",
      "dr 69.5197817248 245.042599578\n",
      "dw 14.4292951778 220.725998739\n",
      "mw 7.65113499476 218.151500473\n",
      "fold 3\n",
      "hvac 107.817836565 214.402888596\n",
      "fridge 24.1582291356 213.835737379\n",
      "dr 71.848154455 253.249623427\n",
      "dw 12.3282676135 188.586424229\n",
      "mw 7.30655389153 208.326698694\n",
      "fold 4\n",
      "hvac 111.874448312 222.469728963\n",
      "fridge 23.113641215 204.589603194\n",
      "dr 73.6277456535 259.522307873\n",
      "dw 14.8799727236 227.620046591\n",
      "mw 5.33779441023 152.192826372\n"
     ]
    }
   ],
   "source": [
    "for dataset in [1]:\n",
    "    for fold_num in range(5):\n",
    "        print (\"fold\", fold_num)\n",
    "        for appliance in ['hvac', 'fridge', 'dr', 'dw', 'mw']:\n",
    "            \n",
    "            cell_type = best_params[dataset][fold_num][appliance]['cell_type']\n",
    "            hidden_size = best_params[dataset][fold_num][appliance]['hidden_size'] \n",
    "            num_layers = best_params[dataset][fold_num][appliance]['num_layers']\n",
    "            bidirectional = best_params[dataset][fold_num][appliance]['bidirectional'] \n",
    "            lr = best_params[dataset][fold_num][appliance]['lr']\n",
    "            iters = best_params[dataset][fold_num][appliance]['iters']\n",
    "            \n",
    "            e = error[dataset][fold_num][appliance][cell_type][hidden_size][num_layers][bidirectional][lr][iters][appliance]\n",
    "            \n",
    "            print (appliance, e, e/err_contri[appliance])"
   ]
  },
  {
   "cell_type": "code",
   "execution_count": 24,
   "metadata": {
    "collapsed": true
   },
   "outputs": [],
   "source": [
    "import itertools"
   ]
  },
  {
   "cell_type": "code",
   "execution_count": 26,
   "metadata": {
    "scrolled": false
   },
   "outputs": [
    {
     "data": {
      "text/plain": [
       "[('hvac', 'fridge', 'dr', 'dw', 'mw'),\n",
       " ('hvac', 'fridge', 'dr', 'mw', 'dw'),\n",
       " ('hvac', 'fridge', 'dw', 'dr', 'mw'),\n",
       " ('hvac', 'fridge', 'dw', 'mw', 'dr'),\n",
       " ('hvac', 'fridge', 'mw', 'dr', 'dw'),\n",
       " ('hvac', 'fridge', 'mw', 'dw', 'dr'),\n",
       " ('hvac', 'dr', 'fridge', 'dw', 'mw'),\n",
       " ('hvac', 'dr', 'fridge', 'mw', 'dw'),\n",
       " ('hvac', 'dr', 'dw', 'fridge', 'mw'),\n",
       " ('hvac', 'dr', 'dw', 'mw', 'fridge'),\n",
       " ('hvac', 'dr', 'mw', 'fridge', 'dw'),\n",
       " ('hvac', 'dr', 'mw', 'dw', 'fridge'),\n",
       " ('hvac', 'dw', 'fridge', 'dr', 'mw'),\n",
       " ('hvac', 'dw', 'fridge', 'mw', 'dr'),\n",
       " ('hvac', 'dw', 'dr', 'fridge', 'mw'),\n",
       " ('hvac', 'dw', 'dr', 'mw', 'fridge'),\n",
       " ('hvac', 'dw', 'mw', 'fridge', 'dr'),\n",
       " ('hvac', 'dw', 'mw', 'dr', 'fridge'),\n",
       " ('hvac', 'mw', 'fridge', 'dr', 'dw'),\n",
       " ('hvac', 'mw', 'fridge', 'dw', 'dr'),\n",
       " ('hvac', 'mw', 'dr', 'fridge', 'dw'),\n",
       " ('hvac', 'mw', 'dr', 'dw', 'fridge'),\n",
       " ('hvac', 'mw', 'dw', 'fridge', 'dr'),\n",
       " ('hvac', 'mw', 'dw', 'dr', 'fridge'),\n",
       " ('fridge', 'hvac', 'dr', 'dw', 'mw'),\n",
       " ('fridge', 'hvac', 'dr', 'mw', 'dw'),\n",
       " ('fridge', 'hvac', 'dw', 'dr', 'mw'),\n",
       " ('fridge', 'hvac', 'dw', 'mw', 'dr'),\n",
       " ('fridge', 'hvac', 'mw', 'dr', 'dw'),\n",
       " ('fridge', 'hvac', 'mw', 'dw', 'dr'),\n",
       " ('fridge', 'dr', 'hvac', 'dw', 'mw'),\n",
       " ('fridge', 'dr', 'hvac', 'mw', 'dw'),\n",
       " ('fridge', 'dr', 'dw', 'hvac', 'mw'),\n",
       " ('fridge', 'dr', 'dw', 'mw', 'hvac'),\n",
       " ('fridge', 'dr', 'mw', 'hvac', 'dw'),\n",
       " ('fridge', 'dr', 'mw', 'dw', 'hvac'),\n",
       " ('fridge', 'dw', 'hvac', 'dr', 'mw'),\n",
       " ('fridge', 'dw', 'hvac', 'mw', 'dr'),\n",
       " ('fridge', 'dw', 'dr', 'hvac', 'mw'),\n",
       " ('fridge', 'dw', 'dr', 'mw', 'hvac'),\n",
       " ('fridge', 'dw', 'mw', 'hvac', 'dr'),\n",
       " ('fridge', 'dw', 'mw', 'dr', 'hvac'),\n",
       " ('fridge', 'mw', 'hvac', 'dr', 'dw'),\n",
       " ('fridge', 'mw', 'hvac', 'dw', 'dr'),\n",
       " ('fridge', 'mw', 'dr', 'hvac', 'dw'),\n",
       " ('fridge', 'mw', 'dr', 'dw', 'hvac'),\n",
       " ('fridge', 'mw', 'dw', 'hvac', 'dr'),\n",
       " ('fridge', 'mw', 'dw', 'dr', 'hvac'),\n",
       " ('dr', 'hvac', 'fridge', 'dw', 'mw'),\n",
       " ('dr', 'hvac', 'fridge', 'mw', 'dw'),\n",
       " ('dr', 'hvac', 'dw', 'fridge', 'mw'),\n",
       " ('dr', 'hvac', 'dw', 'mw', 'fridge'),\n",
       " ('dr', 'hvac', 'mw', 'fridge', 'dw'),\n",
       " ('dr', 'hvac', 'mw', 'dw', 'fridge'),\n",
       " ('dr', 'fridge', 'hvac', 'dw', 'mw'),\n",
       " ('dr', 'fridge', 'hvac', 'mw', 'dw'),\n",
       " ('dr', 'fridge', 'dw', 'hvac', 'mw'),\n",
       " ('dr', 'fridge', 'dw', 'mw', 'hvac'),\n",
       " ('dr', 'fridge', 'mw', 'hvac', 'dw'),\n",
       " ('dr', 'fridge', 'mw', 'dw', 'hvac'),\n",
       " ('dr', 'dw', 'hvac', 'fridge', 'mw'),\n",
       " ('dr', 'dw', 'hvac', 'mw', 'fridge'),\n",
       " ('dr', 'dw', 'fridge', 'hvac', 'mw'),\n",
       " ('dr', 'dw', 'fridge', 'mw', 'hvac'),\n",
       " ('dr', 'dw', 'mw', 'hvac', 'fridge'),\n",
       " ('dr', 'dw', 'mw', 'fridge', 'hvac'),\n",
       " ('dr', 'mw', 'hvac', 'fridge', 'dw'),\n",
       " ('dr', 'mw', 'hvac', 'dw', 'fridge'),\n",
       " ('dr', 'mw', 'fridge', 'hvac', 'dw'),\n",
       " ('dr', 'mw', 'fridge', 'dw', 'hvac'),\n",
       " ('dr', 'mw', 'dw', 'hvac', 'fridge'),\n",
       " ('dr', 'mw', 'dw', 'fridge', 'hvac'),\n",
       " ('dw', 'hvac', 'fridge', 'dr', 'mw'),\n",
       " ('dw', 'hvac', 'fridge', 'mw', 'dr'),\n",
       " ('dw', 'hvac', 'dr', 'fridge', 'mw'),\n",
       " ('dw', 'hvac', 'dr', 'mw', 'fridge'),\n",
       " ('dw', 'hvac', 'mw', 'fridge', 'dr'),\n",
       " ('dw', 'hvac', 'mw', 'dr', 'fridge'),\n",
       " ('dw', 'fridge', 'hvac', 'dr', 'mw'),\n",
       " ('dw', 'fridge', 'hvac', 'mw', 'dr'),\n",
       " ('dw', 'fridge', 'dr', 'hvac', 'mw'),\n",
       " ('dw', 'fridge', 'dr', 'mw', 'hvac'),\n",
       " ('dw', 'fridge', 'mw', 'hvac', 'dr'),\n",
       " ('dw', 'fridge', 'mw', 'dr', 'hvac'),\n",
       " ('dw', 'dr', 'hvac', 'fridge', 'mw'),\n",
       " ('dw', 'dr', 'hvac', 'mw', 'fridge'),\n",
       " ('dw', 'dr', 'fridge', 'hvac', 'mw'),\n",
       " ('dw', 'dr', 'fridge', 'mw', 'hvac'),\n",
       " ('dw', 'dr', 'mw', 'hvac', 'fridge'),\n",
       " ('dw', 'dr', 'mw', 'fridge', 'hvac'),\n",
       " ('dw', 'mw', 'hvac', 'fridge', 'dr'),\n",
       " ('dw', 'mw', 'hvac', 'dr', 'fridge'),\n",
       " ('dw', 'mw', 'fridge', 'hvac', 'dr'),\n",
       " ('dw', 'mw', 'fridge', 'dr', 'hvac'),\n",
       " ('dw', 'mw', 'dr', 'hvac', 'fridge'),\n",
       " ('dw', 'mw', 'dr', 'fridge', 'hvac'),\n",
       " ('mw', 'hvac', 'fridge', 'dr', 'dw'),\n",
       " ('mw', 'hvac', 'fridge', 'dw', 'dr'),\n",
       " ('mw', 'hvac', 'dr', 'fridge', 'dw'),\n",
       " ('mw', 'hvac', 'dr', 'dw', 'fridge'),\n",
       " ('mw', 'hvac', 'dw', 'fridge', 'dr'),\n",
       " ('mw', 'hvac', 'dw', 'dr', 'fridge'),\n",
       " ('mw', 'fridge', 'hvac', 'dr', 'dw'),\n",
       " ('mw', 'fridge', 'hvac', 'dw', 'dr'),\n",
       " ('mw', 'fridge', 'dr', 'hvac', 'dw'),\n",
       " ('mw', 'fridge', 'dr', 'dw', 'hvac'),\n",
       " ('mw', 'fridge', 'dw', 'hvac', 'dr'),\n",
       " ('mw', 'fridge', 'dw', 'dr', 'hvac'),\n",
       " ('mw', 'dr', 'hvac', 'fridge', 'dw'),\n",
       " ('mw', 'dr', 'hvac', 'dw', 'fridge'),\n",
       " ('mw', 'dr', 'fridge', 'hvac', 'dw'),\n",
       " ('mw', 'dr', 'fridge', 'dw', 'hvac'),\n",
       " ('mw', 'dr', 'dw', 'hvac', 'fridge'),\n",
       " ('mw', 'dr', 'dw', 'fridge', 'hvac'),\n",
       " ('mw', 'dw', 'hvac', 'fridge', 'dr'),\n",
       " ('mw', 'dw', 'hvac', 'dr', 'fridge'),\n",
       " ('mw', 'dw', 'fridge', 'hvac', 'dr'),\n",
       " ('mw', 'dw', 'fridge', 'dr', 'hvac'),\n",
       " ('mw', 'dw', 'dr', 'hvac', 'fridge'),\n",
       " ('mw', 'dw', 'dr', 'fridge', 'hvac')]"
      ]
     },
     "execution_count": 26,
     "metadata": {},
     "output_type": "execute_result"
    }
   ],
   "source": [
    "list(itertools.permutations(['hvac', 'fridge', 'dr', 'dw', 'mw']))"
   ]
  }
 ],
 "metadata": {
  "kernelspec": {
   "display_name": "Python 3",
   "language": "python",
   "name": "python3"
  },
  "language_info": {
   "codemirror_mode": {
    "name": "ipython",
    "version": 3
   },
   "file_extension": ".py",
   "mimetype": "text/x-python",
   "name": "python",
   "nbconvert_exporter": "python",
   "pygments_lexer": "ipython3",
   "version": "3.6.3"
  }
 },
 "nbformat": 4,
 "nbformat_minor": 2
}
