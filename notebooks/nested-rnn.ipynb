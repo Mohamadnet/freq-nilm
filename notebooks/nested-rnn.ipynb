{
 "cells": [
  {
   "cell_type": "code",
   "execution_count": 1,
   "metadata": {
    "collapsed": true
   },
   "outputs": [],
   "source": [
    "import numpy as np\n",
    "import pandas as pd"
   ]
  },
  {
   "cell_type": "code",
   "execution_count": 28,
   "metadata": {},
   "outputs": [
    {
     "ename": "FileNotFoundError",
     "evalue": "[Errno 2] No such file or directory: \"../../baseline/rnn-nested-cv/valid-error-3-1-RNN-20-1-True-0.1-1000-0.0-['hvac'].npy\"",
     "output_type": "error",
     "traceback": [
      "\u001b[0;31m---------------------------------------------------------------------------\u001b[0m",
      "\u001b[0;31mFileNotFoundError\u001b[0m                         Traceback (most recent call last)",
      "\u001b[0;32m<ipython-input-28-92783f250851>\u001b[0m in \u001b[0;36m<module>\u001b[0;34m()\u001b[0m\n\u001b[1;32m     25\u001b[0m                                                                                                                        \u001b[0mlr\u001b[0m\u001b[0;34m,\u001b[0m\u001b[0;34m\u001b[0m\u001b[0m\n\u001b[1;32m     26\u001b[0m                                                                                                                        \u001b[0miters\u001b[0m\u001b[0;34m,\u001b[0m\u001b[0;34m\u001b[0m\u001b[0m\n\u001b[0;32m---> 27\u001b[0;31m                                                                                                                        p, appliance))\n\u001b[0m",
      "\u001b[0;32m/Library/Frameworks/Python.framework/Versions/3.5/lib/python3.5/site-packages/numpy/lib/npyio.py\u001b[0m in \u001b[0;36mload\u001b[0;34m(file, mmap_mode, allow_pickle, fix_imports, encoding)\u001b[0m\n\u001b[1;32m    368\u001b[0m     \u001b[0mown_fid\u001b[0m \u001b[0;34m=\u001b[0m \u001b[0;32mFalse\u001b[0m\u001b[0;34m\u001b[0m\u001b[0m\n\u001b[1;32m    369\u001b[0m     \u001b[0;32mif\u001b[0m \u001b[0misinstance\u001b[0m\u001b[0;34m(\u001b[0m\u001b[0mfile\u001b[0m\u001b[0;34m,\u001b[0m \u001b[0mbasestring\u001b[0m\u001b[0;34m)\u001b[0m\u001b[0;34m:\u001b[0m\u001b[0;34m\u001b[0m\u001b[0m\n\u001b[0;32m--> 370\u001b[0;31m         \u001b[0mfid\u001b[0m \u001b[0;34m=\u001b[0m \u001b[0mopen\u001b[0m\u001b[0;34m(\u001b[0m\u001b[0mfile\u001b[0m\u001b[0;34m,\u001b[0m \u001b[0;34m\"rb\"\u001b[0m\u001b[0;34m)\u001b[0m\u001b[0;34m\u001b[0m\u001b[0m\n\u001b[0m\u001b[1;32m    371\u001b[0m         \u001b[0mown_fid\u001b[0m \u001b[0;34m=\u001b[0m \u001b[0;32mTrue\u001b[0m\u001b[0;34m\u001b[0m\u001b[0m\n\u001b[1;32m    372\u001b[0m     \u001b[0;32melif\u001b[0m \u001b[0mis_pathlib_path\u001b[0m\u001b[0;34m(\u001b[0m\u001b[0mfile\u001b[0m\u001b[0;34m)\u001b[0m\u001b[0;34m:\u001b[0m\u001b[0;34m\u001b[0m\u001b[0m\n",
      "\u001b[0;31mFileNotFoundError\u001b[0m: [Errno 2] No such file or directory: \"../../baseline/rnn-nested-cv/valid-error-3-1-RNN-20-1-True-0.1-1000-0.0-['hvac'].npy\""
     ]
    }
   ],
   "source": [
    "p = 0.0\n",
    "error = {}\n",
    "for dataset in [1, 2]:\n",
    "    error[dataset] = {}\n",
    "    for fold_num in range(5):\n",
    "        error[dataset][fold_num] = {}\n",
    "        for appliance in ['hvac', 'fridge', 'dr', 'dw']:\n",
    "            error[dataset][fold_num][appliance] = {}\n",
    "            for cell_type in ['GRU', 'RNN', 'LSTM']:\n",
    "                error[dataset][fold_num][appliance][cell_type] = {}\n",
    "                for hidden_size  in [20, 50, 100]:\n",
    "                    error[dataset][fold_num][appliance][cell_type][hidden_size] = {}\n",
    "                    for num_layers in range(1,5):\n",
    "                        error[dataset][fold_num][appliance][cell_type][hidden_size][num_layers] = {}\n",
    "                        for bidirectional in [True, False]:\n",
    "                            error[dataset][fold_num][appliance][cell_type][hidden_size][num_layers][bidirectional] = {}\n",
    "                            for lr in [0.01, 0.1, 1.0]:\n",
    "                                error[dataset][fold_num][appliance][cell_type][hidden_size][num_layers][bidirectional][lr] = {}\n",
    "                                for iters in [1000, 2000, 3000]:\n",
    "                                    error[dataset][fold_num][appliance][cell_type][hidden_size][num_layers][bidirectional][lr][iter] = \\\n",
    "                                    np.load('../../baseline/rnn-nested-cv/valid-error-{}-{}-{}-{}-{}-{}-{}-{}-{}-[\\'{}\\'].npy'.format(fold_num, \\\n",
    "                                                                                                                       dataset, \n",
    "                                                                                                                       cell_type, \n",
    "                                                                                                                       hidden_size, \n",
    "                                                                                                                       num_layers, \n",
    "                                                                                                                       bidirectional, \n",
    "                                                                                                                       lr, \n",
    "                                                                                                                       iters, \n",
    "                                                                                                                       p, appliance))"
   ]
  }
 ],
 "metadata": {
  "kernelspec": {
   "display_name": "Python 3",
   "language": "python",
   "name": "python3"
  },
  "language_info": {
   "codemirror_mode": {
    "name": "ipython",
    "version": 3
   },
   "file_extension": ".py",
   "mimetype": "text/x-python",
   "name": "python",
   "nbconvert_exporter": "python",
   "pygments_lexer": "ipython3",
   "version": "3.5.2"
  }
 },
 "nbformat": 4,
 "nbformat_minor": 2
}
