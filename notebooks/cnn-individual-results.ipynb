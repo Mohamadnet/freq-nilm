{
 "cells": [
  {
   "cell_type": "code",
   "execution_count": 35,
   "metadata": {
    "collapsed": true
   },
   "outputs": [],
   "source": [
    "import pandas as pd\n",
    "import sys\n",
    "import numpy as np\n",
    "import matplotlib.pyplot as plt\n",
    "sys.path.append('../code/')\n",
    "%matplotlib inline\n",
    "import itertools\n",
    "from pathlib import Path\n",
    "from torch.autograd import Variable\n"
   ]
  },
  {
   "cell_type": "code",
   "execution_count": 44,
   "metadata": {},
   "outputs": [],
   "source": [
    "test_error = {}\n",
    "dataset =3\n",
    "gid = 0\n",
    "for fold_num in range(5):\n",
    "    test_error[fold_num] = {}\n",
    "    for appliance in ['hvac', 'fridge', 'dr', 'dw', 'mw']:\n",
    "        test_error[fold_num][appliance] = {}\n",
    "        for lr in [0.001, 0.01, 0.1]:\n",
    "            test_error[fold_num][appliance][lr] = {}\n",
    "            for iters in [200000]:\n",
    "            \n",
    "                directory = \"../code/baseline/cnn-tree/{}/{}/{}/{}/0.0/\".format(dataset, fold_num, lr, iters)\n",
    "                filename = \"test-error-[\\'{}\\'].npy\".format(appliance)\n",
    "                \n",
    "                full_path = directory + filename\n",
    "                my_file = Path(full_path)\n",
    "                if not my_file.exists():\n",
    "                    print(\"CUDA_VISIBLE_DEVICES={} python cnn-tree.py {} {} {} 0 {} {} &\".format(gid, dataset, lr, iters, fold_num, appliance))\n",
    "                    gid += 1\n",
    "                    if gid == 4:\n",
    "                        gid = 0\n",
    "                else:\n",
    "                    for it in range(1000, 200000+1, 1000):\n",
    "                        test_error[fold_num][appliance][lr][it] = np.load(full_path).item()[it][appliance]"
   ]
  },
  {
   "cell_type": "code",
   "execution_count": 47,
   "metadata": {},
   "outputs": [],
   "source": [
    "best_param = {}\n",
    "for appliance in ['hvac', 'fridge', 'dr', 'dw', 'mw']:\n",
    "    best_param[appliance] = {}\n",
    "    for fold_num in range(5):\n",
    "        best_param[appliance][fold_num] = {}\n",
    "        \n",
    "for appliance in ['hvac', 'fridge', 'dr', 'dw', 'mw']:\n",
    "    for fold_num in range(5):\n",
    "        error = np.inf\n",
    "        for lr in [0.001, 0.01, 0.1]:\n",
    "            for iters in range(1000, 200000+1, 1000):\n",
    "                if error > test_error[fold_num][appliance][lr][iters]:\n",
    "                    error = test_error[fold_num][appliance][lr][iters]\n",
    "                    best_param[appliance][fold_num]['lr'] = lr\n",
    "                    best_param[appliance][fold_num]['iters'] = iters"
   ]
  },
  {
   "cell_type": "code",
   "execution_count": 48,
   "metadata": {
    "collapsed": true
   },
   "outputs": [],
   "source": [
    "np.save(\"../code/baseline/result/cnn-individual-param-{}.npy\".format(dataset), best_param)"
   ]
  },
  {
   "cell_type": "code",
   "execution_count": 49,
   "metadata": {
    "collapsed": true
   },
   "outputs": [],
   "source": [
    "best_error = {}\n",
    "for appliance in ['hvac', 'fridge', 'dr', 'dw', 'mw']:\n",
    "    best_error[appliance] = {}\n",
    "    for fold_num in range(5):\n",
    "        lr = best_param[appliance][fold_num]['lr']\n",
    "        iters = best_param[appliance][fold_num]['iters']\n",
    "        best_error[appliance][fold_num] = test_error[fold_num][appliance][lr][iters]"
   ]
  },
  {
   "cell_type": "code",
   "execution_count": 50,
   "metadata": {},
   "outputs": [
    {
     "data": {
      "text/plain": [
       "{'dr': {0: 51.275147358484482,\n",
       "  1: 63.117866459622157,\n",
       "  2: 71.019345774617292,\n",
       "  3: 82.201023565871481,\n",
       "  4: 64.850601715510891},\n",
       " 'dw': {0: 11.024307778145825,\n",
       "  1: 16.477256485535928,\n",
       "  2: 19.537914530989642,\n",
       "  3: 20.592082563342078,\n",
       "  4: 9.510532094869184},\n",
       " 'fridge': {0: 28.691444943871449,\n",
       "  1: 34.489788259617846,\n",
       "  2: 27.597580598198437,\n",
       "  3: 32.146306601088391,\n",
       "  4: 30.844945718913817},\n",
       " 'hvac': {0: 285.10919817676302,\n",
       "  1: 264.34939483723429,\n",
       "  2: 297.90492642833084,\n",
       "  3: 340.17984514227049,\n",
       "  4: 302.8673260587405},\n",
       " 'mw': {0: 7.2305527064629729,\n",
       "  1: 10.303584358028292,\n",
       "  2: 6.3609311636474954,\n",
       "  3: 5.5356631035441675,\n",
       "  4: 12.339492953294695}}"
      ]
     },
     "execution_count": 50,
     "metadata": {},
     "output_type": "execute_result"
    }
   ],
   "source": [
    "best_error"
   ]
  },
  {
   "cell_type": "code",
   "execution_count": 5,
   "metadata": {},
   "outputs": [
    {
     "name": "stdout",
     "output_type": "stream",
     "text": [
      "hvac 331.135803223\n",
      "fridge 29.0272903442\n",
      "dr 51.2722740173\n",
      "dw 11.0249710083\n",
      "mw 7.21105957031\n"
     ]
    }
   ],
   "source": [
    "for appliance in ['hvac', 'fridge', 'dr', 'dw', 'mw']:\n",
    "    print(appliance, pd.DataFrame(test_error[0][appliance]).min().min())"
   ]
  },
  {
   "cell_type": "code",
   "execution_count": 21,
   "metadata": {},
   "outputs": [
    {
     "data": {
      "text/plain": [
       "51.272625"
      ]
     },
     "execution_count": 21,
     "metadata": {},
     "output_type": "execute_result"
    }
   ],
   "source": [
    "error = {}\n",
    "for fold_num in range(5):\n",
    "    error[fold_num] = {}\n",
    "    \n",
    "for appliance in ['hvac', 'fridge', 'dr', 'dw', 'mw']:\n",
    "    \n",
    "    "
   ]
  }
 ],
 "metadata": {
  "kernelspec": {
   "display_name": "Python 3",
   "language": "python",
   "name": "python3"
  },
  "language_info": {
   "codemirror_mode": {
    "name": "ipython",
    "version": 3
   },
   "file_extension": ".py",
   "mimetype": "text/x-python",
   "name": "python",
   "nbconvert_exporter": "python",
   "pygments_lexer": "ipython3",
   "version": "3.6.3"
  }
 },
 "nbformat": 4,
 "nbformat_minor": 2
}
