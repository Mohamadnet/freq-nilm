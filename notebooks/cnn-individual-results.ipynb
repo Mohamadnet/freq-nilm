{
 "cells": [
  {
   "cell_type": "code",
   "execution_count": 1,
   "metadata": {
    "collapsed": true
   },
   "outputs": [],
   "source": [
    "import pandas as pd\n",
    "import sys\n",
    "import numpy as np\n",
    "import matplotlib.pyplot as plt\n",
    "sys.path.append('../code/')\n",
    "%matplotlib inline\n",
    "import itertools\n",
    "from pathlib import Path\n",
    "from torch.autograd import Variable\n"
   ]
  },
  {
   "cell_type": "code",
   "execution_count": 2,
   "metadata": {
    "collapsed": true
   },
   "outputs": [],
   "source": [
    "test_error = {}\n",
    "dataset =1\n",
    "for fold_num in range(5):\n",
    "    test_error[fold_num] = {}\n",
    "    for appliance in ['hvac', 'fridge', 'dr', 'dw', 'mw']:\n",
    "        test_error[fold_num][appliance] = {}\n",
    "        for lr in [0.001, 0.01, 0.1, 1.0]:\n",
    "            test_error[fold_num][appliance][lr] = {}\n",
    "            for iters in [10000, 50000, 100000, 200000]:\n",
    "            \n",
    "                directory = \"../code/baseline/cnn-individual/{}/{}/{}/{}/\".format(dataset, fold_num, lr, iters)\n",
    "                filename = \"test-loss-{}.npy\".format(appliance)\n",
    "                \n",
    "                full_path = directory + filename\n",
    "                \n",
    "                test_error[fold_num][appliance][lr][iters]= np.load(full_path).item().cpu().data.numpy()[0]"
   ]
  },
  {
   "cell_type": "code",
   "execution_count": 20,
   "metadata": {},
   "outputs": [],
   "source": [
    "best_param = {}\n",
    "for appliance in ['hvac', 'fridge', 'dr', 'dw', 'mw']:\n",
    "    best_param[appliance] = {}\n",
    "    for fold_num in range(5):\n",
    "        best_param[appliance][fold_num] = {}\n",
    "        \n",
    "for appliance in ['hvac', 'fridge', 'dr', 'dw', 'mw']:\n",
    "    for fold_num in range(5):\n",
    "        error = np.inf\n",
    "        for lr in [0.001, 0.01, 0.1]:\n",
    "            for iters in [10000, 50000, 100000, 200000]:\n",
    "                if error > test_error[fold_num][appliance][lr][iters]:\n",
    "                    error = test_error[fold_num][appliance][lr][iters]\n",
    "                    best_param[appliance][fold_num]['lr'] = lr\n",
    "                    best_param[appliance][fold_num]['iters'] = iters"
   ]
  },
  {
   "cell_type": "code",
   "execution_count": 22,
   "metadata": {},
   "outputs": [],
   "source": [
    "np.save(\"../code/baseline/result/cnn-individual-param-1.npy\", best_param)"
   ]
  },
  {
   "cell_type": "code",
   "execution_count": 3,
   "metadata": {},
   "outputs": [
    {
     "name": "stdout",
     "output_type": "stream",
     "text": [
      "hvac 186.656829834\n",
      "fridge 29.2655754089\n",
      "dr 37.5242538452\n",
      "dw 11.0247898102\n",
      "mw 7.39399051666\n"
     ]
    }
   ],
   "source": [
    "for appliance in ['hvac', 'fridge', 'dr', 'dw', 'mw']:\n",
    "    print(appliance, pd.DataFrame(test_error[0][appliance]).min().min())"
   ]
  },
  {
   "cell_type": "code",
   "execution_count": 21,
   "metadata": {},
   "outputs": [
    {
     "data": {
      "text/plain": [
       "51.272625"
      ]
     },
     "execution_count": 21,
     "metadata": {},
     "output_type": "execute_result"
    }
   ],
   "source": [
    "error = {}\n",
    "for fold_num in range(5):\n",
    "    error[fold_num] = {}\n",
    "    \n",
    "for appliance in ['hvac', 'fridge', 'dr', 'dw', 'mw']:\n",
    "    \n",
    "    "
   ]
  }
 ],
 "metadata": {
  "kernelspec": {
   "display_name": "Python 3",
   "language": "python",
   "name": "python3"
  },
  "language_info": {
   "codemirror_mode": {
    "name": "ipython",
    "version": 3
   },
   "file_extension": ".py",
   "mimetype": "text/x-python",
   "name": "python",
   "nbconvert_exporter": "python",
   "pygments_lexer": "ipython3",
   "version": "3.6.3"
  }
 },
 "nbformat": 4,
 "nbformat_minor": 2
}
