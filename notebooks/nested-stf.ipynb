{
 "cells": [
  {
   "cell_type": "code",
   "execution_count": 2,
   "metadata": {
    "collapsed": true
   },
   "outputs": [],
   "source": [
    "import numpy as np\n",
    "import pandas as pd"
   ]
  },
  {
   "cell_type": "markdown",
   "metadata": {},
   "source": [
    "### dataset, cur_fold, r, lr, num_iter= sys.argv[1:]\n"
   ]
  },
  {
   "cell_type": "code",
   "execution_count": 3,
   "metadata": {},
   "outputs": [],
   "source": [
    "err = {}\n",
    "for dataset in [1, 2]:\n",
    "    err[dataset] = {}\n",
    "    for cur_fold in range(5):\n",
    "        err[dataset][cur_fold] = {}\n",
    "        for r in range(1 ,21):\n",
    "            err[dataset][cur_fold][r] = {}\n",
    "            for lr in [0.01, 0.1, 1.0, 2.0]:\n",
    "                err[dataset][cur_fold][r][lr] = {}\n",
    "                for num_iter in range(100, 2600, 400):\n",
    "                    err[dataset][cur_fold][r][lr][num_iter] = \\\n",
    "                    np.load(\"../../baseline/stf-nested/stf-error-{}-{}-{}-{}-{}.npy\".format(dataset, cur_fold, r, lr, num_iter)).item()"
   ]
  },
  {
   "cell_type": "code",
   "execution_count": 4,
   "metadata": {},
   "outputs": [],
   "source": [
    "iter = pd.DataFrame(err[1][0][3][0.01]).mean().idxmin()"
   ]
  },
  {
   "cell_type": "code",
   "execution_count": 5,
   "metadata": {},
   "outputs": [
    {
     "data": {
      "text/plain": [
       "177.28915755534743"
      ]
     },
     "execution_count": 5,
     "metadata": {},
     "output_type": "execute_result"
    }
   ],
   "source": [
    "pd.DataFrame(err[1][0][3][0.01]).mean()[2500]"
   ]
  },
  {
   "cell_type": "code",
   "execution_count": 6,
   "metadata": {
    "collapsed": true
   },
   "outputs": [],
   "source": [
    "best_r = {}\n",
    "best_lr = {}\n",
    "best_iter = {}\n",
    "for dataset in [1, 2]:\n",
    "    best_r[dataset] = {}\n",
    "    best_lr[dataset] = {}\n",
    "    best_iter[dataset] = {}\n",
    "    for cur_fold in range(5):\n",
    "        min_error = np.inf\n",
    "        for r in range(1, 21):\n",
    "            for lr in [0.01, 0.1, 1.0, 2.0]:\n",
    "                iter = pd.DataFrame(err[dataset][cur_fold][r][lr]).mean().idxmin()\n",
    "                error = pd.DataFrame(err[dataset][cur_fold][r][lr]).mean()[iter]\n",
    "                if error < min_error:\n",
    "                    min_error = error\n",
    "                    best_r[dataset][cur_fold] = r\n",
    "                    best_lr[dataset][cur_fold] = lr\n",
    "                    best_iter[dataset][cur_fold] = iter"
   ]
  },
  {
   "cell_type": "code",
   "execution_count": 7,
   "metadata": {},
   "outputs": [
    {
     "data": {
      "text/html": [
       "<div>\n",
       "<style>\n",
       "    .dataframe thead tr:only-child th {\n",
       "        text-align: right;\n",
       "    }\n",
       "\n",
       "    .dataframe thead th {\n",
       "        text-align: left;\n",
       "    }\n",
       "\n",
       "    .dataframe tbody tr th {\n",
       "        vertical-align: top;\n",
       "    }\n",
       "</style>\n",
       "<table border=\"1\" class=\"dataframe\">\n",
       "  <thead>\n",
       "    <tr style=\"text-align: right;\">\n",
       "      <th></th>\n",
       "      <th>1</th>\n",
       "      <th>2</th>\n",
       "    </tr>\n",
       "  </thead>\n",
       "  <tbody>\n",
       "    <tr>\n",
       "      <th>0</th>\n",
       "      <td>20</td>\n",
       "      <td>16</td>\n",
       "    </tr>\n",
       "    <tr>\n",
       "      <th>1</th>\n",
       "      <td>18</td>\n",
       "      <td>13</td>\n",
       "    </tr>\n",
       "    <tr>\n",
       "      <th>2</th>\n",
       "      <td>17</td>\n",
       "      <td>13</td>\n",
       "    </tr>\n",
       "    <tr>\n",
       "      <th>3</th>\n",
       "      <td>10</td>\n",
       "      <td>3</td>\n",
       "    </tr>\n",
       "    <tr>\n",
       "      <th>4</th>\n",
       "      <td>20</td>\n",
       "      <td>15</td>\n",
       "    </tr>\n",
       "  </tbody>\n",
       "</table>\n",
       "</div>"
      ],
      "text/plain": [
       "    1   2\n",
       "0  20  16\n",
       "1  18  13\n",
       "2  17  13\n",
       "3  10   3\n",
       "4  20  15"
      ]
     },
     "execution_count": 7,
     "metadata": {},
     "output_type": "execute_result"
    }
   ],
   "source": [
    "pd.DataFrame(best_r)"
   ]
  },
  {
   "cell_type": "code",
   "execution_count": 8,
   "metadata": {},
   "outputs": [
    {
     "data": {
      "text/html": [
       "<div>\n",
       "<style>\n",
       "    .dataframe thead tr:only-child th {\n",
       "        text-align: right;\n",
       "    }\n",
       "\n",
       "    .dataframe thead th {\n",
       "        text-align: left;\n",
       "    }\n",
       "\n",
       "    .dataframe tbody tr th {\n",
       "        vertical-align: top;\n",
       "    }\n",
       "</style>\n",
       "<table border=\"1\" class=\"dataframe\">\n",
       "  <thead>\n",
       "    <tr style=\"text-align: right;\">\n",
       "      <th></th>\n",
       "      <th>1</th>\n",
       "      <th>2</th>\n",
       "    </tr>\n",
       "  </thead>\n",
       "  <tbody>\n",
       "    <tr>\n",
       "      <th>0</th>\n",
       "      <td>2.0</td>\n",
       "      <td>1.0</td>\n",
       "    </tr>\n",
       "    <tr>\n",
       "      <th>1</th>\n",
       "      <td>1.0</td>\n",
       "      <td>2.0</td>\n",
       "    </tr>\n",
       "    <tr>\n",
       "      <th>2</th>\n",
       "      <td>2.0</td>\n",
       "      <td>0.1</td>\n",
       "    </tr>\n",
       "    <tr>\n",
       "      <th>3</th>\n",
       "      <td>2.0</td>\n",
       "      <td>2.0</td>\n",
       "    </tr>\n",
       "    <tr>\n",
       "      <th>4</th>\n",
       "      <td>1.0</td>\n",
       "      <td>1.0</td>\n",
       "    </tr>\n",
       "  </tbody>\n",
       "</table>\n",
       "</div>"
      ],
      "text/plain": [
       "     1    2\n",
       "0  2.0  1.0\n",
       "1  1.0  2.0\n",
       "2  2.0  0.1\n",
       "3  2.0  2.0\n",
       "4  1.0  1.0"
      ]
     },
     "execution_count": 8,
     "metadata": {},
     "output_type": "execute_result"
    }
   ],
   "source": [
    "pd.DataFrame(best_lr)"
   ]
  },
  {
   "cell_type": "code",
   "execution_count": 9,
   "metadata": {},
   "outputs": [
    {
     "data": {
      "text/html": [
       "<div>\n",
       "<style>\n",
       "    .dataframe thead tr:only-child th {\n",
       "        text-align: right;\n",
       "    }\n",
       "\n",
       "    .dataframe thead th {\n",
       "        text-align: left;\n",
       "    }\n",
       "\n",
       "    .dataframe tbody tr th {\n",
       "        vertical-align: top;\n",
       "    }\n",
       "</style>\n",
       "<table border=\"1\" class=\"dataframe\">\n",
       "  <thead>\n",
       "    <tr style=\"text-align: right;\">\n",
       "      <th></th>\n",
       "      <th>1</th>\n",
       "      <th>2</th>\n",
       "    </tr>\n",
       "  </thead>\n",
       "  <tbody>\n",
       "    <tr>\n",
       "      <th>0</th>\n",
       "      <td>100</td>\n",
       "      <td>1700</td>\n",
       "    </tr>\n",
       "    <tr>\n",
       "      <th>1</th>\n",
       "      <td>1700</td>\n",
       "      <td>500</td>\n",
       "    </tr>\n",
       "    <tr>\n",
       "      <th>2</th>\n",
       "      <td>100</td>\n",
       "      <td>2500</td>\n",
       "    </tr>\n",
       "    <tr>\n",
       "      <th>3</th>\n",
       "      <td>2100</td>\n",
       "      <td>100</td>\n",
       "    </tr>\n",
       "    <tr>\n",
       "      <th>4</th>\n",
       "      <td>2500</td>\n",
       "      <td>2100</td>\n",
       "    </tr>\n",
       "  </tbody>\n",
       "</table>\n",
       "</div>"
      ],
      "text/plain": [
       "      1     2\n",
       "0   100  1700\n",
       "1  1700   500\n",
       "2   100  2500\n",
       "3  2100   100\n",
       "4  2500  2100"
      ]
     },
     "execution_count": 9,
     "metadata": {},
     "output_type": "execute_result"
    }
   ],
   "source": [
    "pd.DataFrame(best_iter)"
   ]
  },
  {
   "cell_type": "code",
   "execution_count": 17,
   "metadata": {
    "collapsed": true
   },
   "outputs": [],
   "source": [
    "import sys\n",
    "sys.path.append(\"../code/\")\n",
    "from dataloader import APPLIANCE_ORDER, get_train_test\n",
    "from tensor_custom_core import stf_4dim, stf_4dim_time\n"
   ]
  },
  {
   "cell_type": "code",
   "execution_count": 18,
   "metadata": {
    "collapsed": true
   },
   "outputs": [],
   "source": [
    "def stf(dataset, cur_fold, r=2, lr=1, num_iter=100):\n",
    "    num_folds=5\n",
    "    train, test = get_train_test(dataset, num_folds=num_folds, fold_num=cur_fold)\n",
    "    test_copy = test.copy()\n",
    "    test_copy[:, 1:, :, :] = np.NaN\n",
    "    train_test = np.concatenate([train, test_copy])\n",
    "    H, A, D, T = stf_4dim(tensor=train_test, r=r, lr=lr, num_iter=num_iter)\n",
    "    pred = np.einsum(\"Hr, Ar, Dr, Tr ->HADT\", H, A, D, T)[len(train):, 1:, :, :]\n",
    "    \n",
    "    return pred"
   ]
  },
  {
   "cell_type": "markdown",
   "metadata": {},
   "source": [
    "### dataset1"
   ]
  },
  {
   "cell_type": "code",
   "execution_count": null,
   "metadata": {},
   "outputs": [
    {
     "name": "stdout",
     "output_type": "stream",
     "text": [
      "798.933843056 0\n",
      "378.803348099 50\n",
      "774.407629853 0\n",
      "365.00344319 50\n",
      "348.621090837 100\n",
      "342.167086754 150\n",
      "338.306065278 200\n",
      "336.303861986 250\n",
      "335.103598744 300\n",
      "334.344257071 350\n",
      "333.821063507 400\n",
      "333.41211898 450\n",
      "333.067870084 500\n",
      "332.768277648 550\n",
      "332.50458815 600\n",
      "332.263785697 650\n",
      "332.035411527 700\n",
      "331.81530579 750\n",
      "331.606187673 800\n",
      "331.413104578 850\n",
      "334.61270702 900\n",
      "331.063309943 950\n",
      "330.897317442 1000\n",
      "330.721851726 1050\n",
      "330.531779888 1100\n",
      "330.33091099 1150\n",
      "330.126299526 1200\n",
      "329.928018319 1250\n",
      "329.750957264 1300\n",
      "329.597514526 1350\n",
      "329.465269089 1400\n",
      "329.350633183 1450\n",
      "329.251723463 1500\n",
      "329.163389804 1550\n",
      "329.084942314 1600\n",
      "329.014487962 1650\n",
      "758.386331002 0\n",
      "370.68698227 50\n",
      "711.568421186 0\n",
      "367.737972621 50\n",
      "348.901025068 100\n",
      "344.276390236 150\n",
      "342.733977494 200\n",
      "341.997188568 250\n",
      "341.494687181 300\n",
      "341.038885002 350\n",
      "340.578743822 400\n",
      "340.144819979 450\n",
      "339.782136944 500\n",
      "339.511915195 550\n",
      "339.310314185 600\n",
      "339.146562617 650\n",
      "339.01095118 700\n",
      "338.914544877 750\n",
      "338.840747355 800\n",
      "343.917095059 850\n",
      "338.672009627 900\n",
      "338.604461889 950\n",
      "338.555581595 1000\n",
      "338.512565778 1050\n",
      "338.478194577 1100\n",
      "338.448270252 1150\n",
      "338.421806314 1200\n",
      "338.397912087 1250\n",
      "338.374842534 1300\n",
      "338.351118408 1350\n",
      "338.326186099 1400\n",
      "338.299175936 1450\n",
      "338.269399184 1500\n",
      "338.236597233 1550\n",
      "338.201184188 1600\n",
      "338.163622588 1650\n",
      "338.124453229 1700\n",
      "338.085324518 1750\n",
      "338.047523077 1800\n",
      "338.011799064 1850\n",
      "337.978412795 1900\n",
      "337.947954206 1950\n",
      "337.919153296 2000\n",
      "337.891563168 2050\n",
      "775.157569446 0\n",
      "361.82516549 50\n",
      "345.857295088 100\n",
      "338.552329022 150\n",
      "334.72952726 200\n",
      "332.48011659 250\n",
      "331.807084783 300\n",
      "330.515422262 350\n",
      "329.996569334 400\n",
      "329.582332848 450\n",
      "329.219305291 500\n",
      "328.874089872 550\n"
     ]
    }
   ],
   "source": [
    "dataset = 1\n",
    "out = []\n",
    "num_fold=5\n",
    "for cur_fold in range(5):\n",
    "    b_r= best_r[dataset][cur_fold]\n",
    "    b_lr = best_lr[dataset][cur_fold]\n",
    "    b_iter = best_iter[dataset][cur_fold]\n",
    "    \n",
    "    pred = stf(dataset, cur_fold, b_r, b_lr, b_iter)\n",
    "    \n",
    "    out.append(pred)"
   ]
  }
 ],
 "metadata": {
  "kernelspec": {
   "display_name": "Python 3",
   "language": "python",
   "name": "python3"
  },
  "language_info": {
   "codemirror_mode": {
    "name": "ipython",
    "version": 3
   },
   "file_extension": ".py",
   "mimetype": "text/x-python",
   "name": "python",
   "nbconvert_exporter": "python",
   "pygments_lexer": "ipython3",
   "version": "3.5.2"
  }
 },
 "nbformat": 4,
 "nbformat_minor": 2
}
