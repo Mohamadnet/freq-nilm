{
 "cells": [
  {
   "cell_type": "code",
   "execution_count": 1,
   "metadata": {
    "collapsed": true
   },
   "outputs": [],
   "source": [
    "import torch"
   ]
  },
  {
   "cell_type": "code",
   "execution_count": 7,
   "metadata": {},
   "outputs": [
    {
     "name": "stdout",
     "output_type": "stream",
     "text": [
      "\n",
      "(0 ,.,.) = \n",
      "  0.0000e+00  8.5899e+09\n",
      " -6.0751e-25 -4.6577e-10\n",
      "  1.1210e-44  0.0000e+00\n",
      "\n",
      "(1 ,.,.) = \n",
      "  0.0000e+00  0.0000e+00\n",
      "  0.0000e+00  0.0000e+00\n",
      "  0.0000e+00  0.0000e+00\n",
      "\n",
      "(2 ,.,.) = \n",
      "  0.0000e+00  0.0000e+00\n",
      "  0.0000e+00  0.0000e+00\n",
      "  0.0000e+00  0.0000e+00\n",
      "\n",
      "(3 ,.,.) = \n",
      "  0.0000e+00  0.0000e+00\n",
      "  0.0000e+00  0.0000e+00\n",
      "  0.0000e+00  0.0000e+00\n",
      "\n",
      "(4 ,.,.) = \n",
      "  0.0000e+00  0.0000e+00\n",
      "  0.0000e+00  0.0000e+00\n",
      "  0.0000e+00  0.0000e+00\n",
      "[torch.FloatTensor of size 5x3x2]\n",
      "\n"
     ]
    }
   ],
   "source": [
    "x = torch.Tensor(5, 3, 2)\n",
    "print(x)"
   ]
  },
  {
   "cell_type": "code",
   "execution_count": 9,
   "metadata": {},
   "outputs": [
    {
     "data": {
      "text/plain": [
       "\n",
       "(0 ,0 ,.,.) = \n",
       "  0.7435  0.8972\n",
       "  0.8756  0.8904\n",
       "  0.1399  0.3389\n",
       "  0.2994  0.9163\n",
       "\n",
       "(0 ,1 ,.,.) = \n",
       "  0.1062  0.2625\n",
       "  0.1283  0.6685\n",
       "  0.7329  0.2117\n",
       "  0.4854  0.8813\n",
       "\n",
       "(0 ,2 ,.,.) = \n",
       "  0.2402  0.6039\n",
       "  0.5244  0.3384\n",
       "  0.5431  0.4617\n",
       "  0.3630  0.9707\n",
       "\n",
       "(1 ,0 ,.,.) = \n",
       "  0.8135  0.9636\n",
       "  0.3495  0.4689\n",
       "  0.3308  0.2962\n",
       "  0.8333  0.9700\n",
       "\n",
       "(1 ,1 ,.,.) = \n",
       "  0.4496  0.8742\n",
       "  0.4995  0.6083\n",
       "  0.7927  0.4383\n",
       "  0.6349  0.9333\n",
       "\n",
       "(1 ,2 ,.,.) = \n",
       "  0.1105  0.0406\n",
       "  0.5269  0.9961\n",
       "  0.5496  0.3308\n",
       "  0.0563  0.7039\n",
       "[torch.FloatTensor of size 2x3x4x2]"
      ]
     },
     "execution_count": 9,
     "metadata": {},
     "output_type": "execute_result"
    }
   ],
   "source": [
    "torch.rand(2, 3, 4, 2)"
   ]
  },
  {
   "cell_type": "code",
   "execution_count": 6,
   "metadata": {},
   "outputs": [
    {
     "data": {
      "text/plain": [
       "torch.Size([5, 3])"
      ]
     },
     "execution_count": 6,
     "metadata": {},
     "output_type": "execute_result"
    }
   ],
   "source": [
    "x.shape"
   ]
  },
  {
   "cell_type": "code",
   "execution_count": 11,
   "metadata": {},
   "outputs": [
    {
     "data": {
      "text/plain": [
       "\n",
       "(0 ,.,.) = \n",
       "  0.0000e+00  7.3787e+19\n",
       "  0.0000e+00  2.1695e-19\n",
       "  0.0000e+00  0.0000e+00\n",
       "\n",
       "(1 ,.,.) = \n",
       "  0.0000e+00  0.0000e+00\n",
       "  0.0000e+00  0.0000e+00\n",
       "  0.0000e+00  0.0000e+00\n",
       "\n",
       "(2 ,.,.) = \n",
       "  0.0000e+00  0.0000e+00\n",
       "  0.0000e+00  0.0000e+00\n",
       "  0.0000e+00  0.0000e+00\n",
       "\n",
       "(3 ,.,.) = \n",
       "  0.0000e+00  0.0000e+00\n",
       "  0.0000e+00  0.0000e+00\n",
       "  0.0000e+00  0.0000e+00\n",
       "\n",
       "(4 ,.,.) = \n",
       "  0.0000e+00  0.0000e+00\n",
       "  0.0000e+00  0.0000e+00\n",
       "  0.0000e+00  0.0000e+00\n",
       "[torch.FloatTensor of size 5x3x2]"
      ]
     },
     "execution_count": 11,
     "metadata": {},
     "output_type": "execute_result"
    }
   ],
   "source": [
    "x*x"
   ]
  },
  {
   "cell_type": "code",
   "execution_count": null,
   "metadata": {
    "collapsed": true
   },
   "outputs": [],
   "source": []
  }
 ],
 "metadata": {
  "kernelspec": {
   "display_name": "Python 3",
   "language": "python",
   "name": "python3"
  },
  "language_info": {
   "codemirror_mode": {
    "name": "ipython",
    "version": 3
   },
   "file_extension": ".py",
   "mimetype": "text/x-python",
   "name": "python",
   "nbconvert_exporter": "python",
   "pygments_lexer": "ipython3",
   "version": "3.6.3"
  }
 },
 "nbformat": 4,
 "nbformat_minor": 2
}
