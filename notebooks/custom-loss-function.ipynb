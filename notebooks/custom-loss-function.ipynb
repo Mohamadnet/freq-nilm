{
 "cells": [
  {
   "cell_type": "code",
   "execution_count": 1,
   "metadata": {
    "collapsed": true
   },
   "outputs": [],
   "source": [
    "import sys\n",
    "sys.path.append(\"../code/\")\n",
    "from common import APPLIANCES_ORDER\n",
    "import warnings \n",
    "warnings.filterwarnings('ignore')"
   ]
  },
  {
   "cell_type": "code",
   "execution_count": 2,
   "metadata": {
    "collapsed": true
   },
   "outputs": [],
   "source": [
    "import numpy as np\n"
   ]
  },
  {
   "cell_type": "code",
   "execution_count": 14,
   "metadata": {
    "collapsed": true
   },
   "outputs": [],
   "source": [
    "train_X = np.random.randn(100, 5)\n",
    "train_Y = np.random.randn(100, 5)*0.01 + train_X\n"
   ]
  },
  {
   "cell_type": "code",
   "execution_count": 51,
   "metadata": {},
   "outputs": [],
   "source": [
    "weights = K.abs(K.constant(np.random.randn(*train_X.shape)))\n",
    "\n",
    "def custom_loss_1(y_true, y_pred):\n",
    "    return K.mean(K.abs(y_true-y_pred)*weights)\n",
    "\n",
    "def custom_loss_2(y_true, y_pred):\n",
    "    return K.mean(K.abs(y_true-y_pred)*K.ones_like(y_true))\n",
    "\n",
    "\n",
    "from functools import partial\n",
    "\n",
    "def custom_loss_3(y_true, y_pred, weights):\n",
    "    return K.mean(K.abs(y_true-y_pred)*K.constant(weights, dtype=y_true.dtype))\n",
    "\n",
    "cl3 = partial(custom_loss_3, weights=weights)"
   ]
  },
  {
   "cell_type": "code",
   "execution_count": 65,
   "metadata": {
    "collapsed": true
   },
   "outputs": [],
   "source": [
    "w = np.random.randn(5)\n",
    "def custom_loss_4(y_true, y_pred):\n",
    "    return K.mean(K.abs(y_true-y_pred)*w)"
   ]
  },
  {
   "cell_type": "code",
   "execution_count": 67,
   "metadata": {},
   "outputs": [
    {
     "name": "stdout",
     "output_type": "stream",
     "text": [
      "Epoch 1/1\n",
      "100/100 [==============================] - 0s 4ms/step - loss: 1.1273\n"
     ]
    },
    {
     "data": {
      "text/plain": [
       "<keras.callbacks.History at 0x1a2efd9dd8>"
      ]
     },
     "execution_count": 67,
     "metadata": {},
     "output_type": "execute_result"
    }
   ],
   "source": [
    "from keras.layers import Dense, Input\n",
    "from keras import Model\n",
    "import keras.backend as K\n",
    "\n",
    "input_layer = Input(shape=(5,))\n",
    "out = Dense(5)(input_layer)\n",
    "model = Model(input_layer, out)\n",
    "model.compile('adam','mean_absolute_error')\n",
    "model.fit(train_X, train_Y, epochs=1)"
   ]
  },
  {
   "cell_type": "code",
   "execution_count": 41,
   "metadata": {},
   "outputs": [
    {
     "name": "stdout",
     "output_type": "stream",
     "text": [
      "Epoch 1/10\n"
     ]
    },
    {
     "ename": "InvalidArgumentError",
     "evalue": "Incompatible shapes: [32,5] vs. [100,5]\n\t [[Node: training_14/Adam/gradients/loss_15/dense_10_loss/mul_grad/BroadcastGradientArgs = BroadcastGradientArgs[T=DT_INT32, _class=[\"loc:@loss_15/dense_10_loss/mul\"], _device=\"/job:localhost/replica:0/task:0/device:CPU:0\"](training_14/Adam/gradients/loss_15/dense_10_loss/mul_grad/Shape, training_14/Adam/gradients/loss_15/dense_10_loss/mul_grad/Shape_1)]]\n\nCaused by op 'training_14/Adam/gradients/loss_15/dense_10_loss/mul_grad/BroadcastGradientArgs', defined at:\n  File \"/Users/nipun/anaconda3/lib/python3.6/runpy.py\", line 193, in _run_module_as_main\n    \"__main__\", mod_spec)\n  File \"/Users/nipun/anaconda3/lib/python3.6/runpy.py\", line 85, in _run_code\n    exec(code, run_globals)\n  File \"/Users/nipun/anaconda3/lib/python3.6/site-packages/ipykernel_launcher.py\", line 16, in <module>\n    app.launch_new_instance()\n  File \"/Users/nipun/anaconda3/lib/python3.6/site-packages/traitlets/config/application.py\", line 658, in launch_instance\n    app.start()\n  File \"/Users/nipun/anaconda3/lib/python3.6/site-packages/ipykernel/kernelapp.py\", line 477, in start\n    ioloop.IOLoop.instance().start()\n  File \"/Users/nipun/anaconda3/lib/python3.6/site-packages/zmq/eventloop/ioloop.py\", line 177, in start\n    super(ZMQIOLoop, self).start()\n  File \"/Users/nipun/anaconda3/lib/python3.6/site-packages/tornado/ioloop.py\", line 888, in start\n    handler_func(fd_obj, events)\n  File \"/Users/nipun/anaconda3/lib/python3.6/site-packages/tornado/stack_context.py\", line 277, in null_wrapper\n    return fn(*args, **kwargs)\n  File \"/Users/nipun/anaconda3/lib/python3.6/site-packages/zmq/eventloop/zmqstream.py\", line 440, in _handle_events\n    self._handle_recv()\n  File \"/Users/nipun/anaconda3/lib/python3.6/site-packages/zmq/eventloop/zmqstream.py\", line 472, in _handle_recv\n    self._run_callback(callback, msg)\n  File \"/Users/nipun/anaconda3/lib/python3.6/site-packages/zmq/eventloop/zmqstream.py\", line 414, in _run_callback\n    callback(*args, **kwargs)\n  File \"/Users/nipun/anaconda3/lib/python3.6/site-packages/tornado/stack_context.py\", line 277, in null_wrapper\n    return fn(*args, **kwargs)\n  File \"/Users/nipun/anaconda3/lib/python3.6/site-packages/ipykernel/kernelbase.py\", line 283, in dispatcher\n    return self.dispatch_shell(stream, msg)\n  File \"/Users/nipun/anaconda3/lib/python3.6/site-packages/ipykernel/kernelbase.py\", line 235, in dispatch_shell\n    handler(stream, idents, msg)\n  File \"/Users/nipun/anaconda3/lib/python3.6/site-packages/ipykernel/kernelbase.py\", line 399, in execute_request\n    user_expressions, allow_stdin)\n  File \"/Users/nipun/anaconda3/lib/python3.6/site-packages/ipykernel/ipkernel.py\", line 196, in do_execute\n    res = shell.run_cell(code, store_history=store_history, silent=silent)\n  File \"/Users/nipun/anaconda3/lib/python3.6/site-packages/ipykernel/zmqshell.py\", line 533, in run_cell\n    return super(ZMQInteractiveShell, self).run_cell(*args, **kwargs)\n  File \"/Users/nipun/anaconda3/lib/python3.6/site-packages/IPython/core/interactiveshell.py\", line 2698, in run_cell\n    interactivity=interactivity, compiler=compiler, result=result)\n  File \"/Users/nipun/anaconda3/lib/python3.6/site-packages/IPython/core/interactiveshell.py\", line 2808, in run_ast_nodes\n    if self.run_code(code, result):\n  File \"/Users/nipun/anaconda3/lib/python3.6/site-packages/IPython/core/interactiveshell.py\", line 2862, in run_code\n    exec(code_obj, self.user_global_ns, self.user_ns)\n  File \"<ipython-input-41-b7c0f951c65b>\", line 2, in <module>\n    model.fit(train_X, train_Y, epochs=10)\n  File \"/Users/nipun/anaconda3/lib/python3.6/site-packages/keras/engine/training.py\", line 1634, in fit\n    self._make_train_function()\n  File \"/Users/nipun/anaconda3/lib/python3.6/site-packages/keras/engine/training.py\", line 990, in _make_train_function\n    loss=self.total_loss)\n  File \"/Users/nipun/anaconda3/lib/python3.6/site-packages/keras/legacy/interfaces.py\", line 87, in wrapper\n    return func(*args, **kwargs)\n  File \"/Users/nipun/anaconda3/lib/python3.6/site-packages/keras/optimizers.py\", line 415, in get_updates\n    grads = self.get_gradients(loss, params)\n  File \"/Users/nipun/anaconda3/lib/python3.6/site-packages/keras/optimizers.py\", line 73, in get_gradients\n    grads = K.gradients(loss, params)\n  File \"/Users/nipun/anaconda3/lib/python3.6/site-packages/keras/backend/tensorflow_backend.py\", line 2394, in gradients\n    return tf.gradients(loss, variables, colocate_gradients_with_ops=True)\n  File \"/Users/nipun/anaconda3/lib/python3.6/site-packages/tensorflow/python/ops/gradients_impl.py\", line 581, in gradients\n    grad_scope, op, func_call, lambda: grad_fn(op, *out_grads))\n  File \"/Users/nipun/anaconda3/lib/python3.6/site-packages/tensorflow/python/ops/gradients_impl.py\", line 353, in _MaybeCompile\n    return grad_fn()  # Exit early\n  File \"/Users/nipun/anaconda3/lib/python3.6/site-packages/tensorflow/python/ops/gradients_impl.py\", line 581, in <lambda>\n    grad_scope, op, func_call, lambda: grad_fn(op, *out_grads))\n  File \"/Users/nipun/anaconda3/lib/python3.6/site-packages/tensorflow/python/ops/math_grad.py\", line 742, in _MulGrad\n    rx, ry = gen_array_ops._broadcast_gradient_args(sx, sy)\n  File \"/Users/nipun/anaconda3/lib/python3.6/site-packages/tensorflow/python/ops/gen_array_ops.py\", line 532, in _broadcast_gradient_args\n    \"BroadcastGradientArgs\", s0=s0, s1=s1, name=name)\n  File \"/Users/nipun/anaconda3/lib/python3.6/site-packages/tensorflow/python/framework/op_def_library.py\", line 787, in _apply_op_helper\n    op_def=op_def)\n  File \"/Users/nipun/anaconda3/lib/python3.6/site-packages/tensorflow/python/framework/ops.py\", line 2956, in create_op\n    op_def=op_def)\n  File \"/Users/nipun/anaconda3/lib/python3.6/site-packages/tensorflow/python/framework/ops.py\", line 1470, in __init__\n    self._traceback = self._graph._extract_stack()  # pylint: disable=protected-access\n\n...which was originally created as op 'loss_15/dense_10_loss/mul', defined at:\n  File \"/Users/nipun/anaconda3/lib/python3.6/runpy.py\", line 193, in _run_module_as_main\n    \"__main__\", mod_spec)\n[elided 16 identical lines from previous traceback]\n  File \"/Users/nipun/anaconda3/lib/python3.6/site-packages/IPython/core/interactiveshell.py\", line 2698, in run_cell\n    interactivity=interactivity, compiler=compiler, result=result)\n  File \"/Users/nipun/anaconda3/lib/python3.6/site-packages/IPython/core/interactiveshell.py\", line 2802, in run_ast_nodes\n    if self.run_code(code, result):\n  File \"/Users/nipun/anaconda3/lib/python3.6/site-packages/IPython/core/interactiveshell.py\", line 2862, in run_code\n    exec(code_obj, self.user_global_ns, self.user_ns)\n  File \"<ipython-input-41-b7c0f951c65b>\", line 1, in <module>\n    model.compile('adam',custom_loss_1)\n  File \"/Users/nipun/anaconda3/lib/python3.6/site-packages/keras/engine/training.py\", line 860, in compile\n    sample_weight, mask)\n  File \"/Users/nipun/anaconda3/lib/python3.6/site-packages/keras/engine/training.py\", line 459, in weighted\n    score_array = fn(y_true, y_pred)\n  File \"<ipython-input-39-f5d2d14645f9>\", line 4, in custom_loss_1\n    return K.mean(K.abs(y_true-y_pred)*weights)\n  File \"/Users/nipun/anaconda3/lib/python3.6/site-packages/tensorflow/python/ops/math_ops.py\", line 894, in binary_op_wrapper\n    return func(x, y, name=name)\n  File \"/Users/nipun/anaconda3/lib/python3.6/site-packages/tensorflow/python/ops/math_ops.py\", line 1117, in _mul_dispatch\n    return gen_math_ops._mul(x, y, name=name)\n  File \"/Users/nipun/anaconda3/lib/python3.6/site-packages/tensorflow/python/ops/gen_math_ops.py\", line 2726, in _mul\n    \"Mul\", x=x, y=y, name=name)\n  File \"/Users/nipun/anaconda3/lib/python3.6/site-packages/tensorflow/python/framework/op_def_library.py\", line 787, in _apply_op_helper\n    op_def=op_def)\n  File \"/Users/nipun/anaconda3/lib/python3.6/site-packages/tensorflow/python/framework/ops.py\", line 2956, in create_op\n    op_def=op_def)\n  File \"/Users/nipun/anaconda3/lib/python3.6/site-packages/tensorflow/python/framework/ops.py\", line 1470, in __init__\n    self._traceback = self._graph._extract_stack()  # pylint: disable=protected-access\n\nInvalidArgumentError (see above for traceback): Incompatible shapes: [32,5] vs. [100,5]\n\t [[Node: training_14/Adam/gradients/loss_15/dense_10_loss/mul_grad/BroadcastGradientArgs = BroadcastGradientArgs[T=DT_INT32, _class=[\"loc:@loss_15/dense_10_loss/mul\"], _device=\"/job:localhost/replica:0/task:0/device:CPU:0\"](training_14/Adam/gradients/loss_15/dense_10_loss/mul_grad/Shape, training_14/Adam/gradients/loss_15/dense_10_loss/mul_grad/Shape_1)]]\n",
     "output_type": "error",
     "traceback": [
      "\u001b[0;31m---------------------------------------------------------------------------\u001b[0m",
      "\u001b[0;31mInvalidArgumentError\u001b[0m                      Traceback (most recent call last)",
      "\u001b[0;32m~/anaconda3/lib/python3.6/site-packages/tensorflow/python/client/session.py\u001b[0m in \u001b[0;36m_do_call\u001b[0;34m(self, fn, *args)\u001b[0m\n\u001b[1;32m   1322\u001b[0m     \u001b[0;32mtry\u001b[0m\u001b[0;34m:\u001b[0m\u001b[0;34m\u001b[0m\u001b[0m\n\u001b[0;32m-> 1323\u001b[0;31m       \u001b[0;32mreturn\u001b[0m \u001b[0mfn\u001b[0m\u001b[0;34m(\u001b[0m\u001b[0;34m*\u001b[0m\u001b[0margs\u001b[0m\u001b[0;34m)\u001b[0m\u001b[0;34m\u001b[0m\u001b[0m\n\u001b[0m\u001b[1;32m   1324\u001b[0m     \u001b[0;32mexcept\u001b[0m \u001b[0merrors\u001b[0m\u001b[0;34m.\u001b[0m\u001b[0mOpError\u001b[0m \u001b[0;32mas\u001b[0m \u001b[0me\u001b[0m\u001b[0;34m:\u001b[0m\u001b[0;34m\u001b[0m\u001b[0m\n",
      "\u001b[0;32m~/anaconda3/lib/python3.6/site-packages/tensorflow/python/client/session.py\u001b[0m in \u001b[0;36m_run_fn\u001b[0;34m(session, feed_dict, fetch_list, target_list, options, run_metadata)\u001b[0m\n\u001b[1;32m   1301\u001b[0m                                    \u001b[0mfeed_dict\u001b[0m\u001b[0;34m,\u001b[0m \u001b[0mfetch_list\u001b[0m\u001b[0;34m,\u001b[0m \u001b[0mtarget_list\u001b[0m\u001b[0;34m,\u001b[0m\u001b[0;34m\u001b[0m\u001b[0m\n\u001b[0;32m-> 1302\u001b[0;31m                                    status, run_metadata)\n\u001b[0m\u001b[1;32m   1303\u001b[0m \u001b[0;34m\u001b[0m\u001b[0m\n",
      "\u001b[0;32m~/anaconda3/lib/python3.6/site-packages/tensorflow/python/framework/errors_impl.py\u001b[0m in \u001b[0;36m__exit__\u001b[0;34m(self, type_arg, value_arg, traceback_arg)\u001b[0m\n\u001b[1;32m    472\u001b[0m             \u001b[0mcompat\u001b[0m\u001b[0;34m.\u001b[0m\u001b[0mas_text\u001b[0m\u001b[0;34m(\u001b[0m\u001b[0mc_api\u001b[0m\u001b[0;34m.\u001b[0m\u001b[0mTF_Message\u001b[0m\u001b[0;34m(\u001b[0m\u001b[0mself\u001b[0m\u001b[0;34m.\u001b[0m\u001b[0mstatus\u001b[0m\u001b[0;34m.\u001b[0m\u001b[0mstatus\u001b[0m\u001b[0;34m)\u001b[0m\u001b[0;34m)\u001b[0m\u001b[0;34m,\u001b[0m\u001b[0;34m\u001b[0m\u001b[0m\n\u001b[0;32m--> 473\u001b[0;31m             c_api.TF_GetCode(self.status.status))\n\u001b[0m\u001b[1;32m    474\u001b[0m     \u001b[0;31m# Delete the underlying status object from memory otherwise it stays alive\u001b[0m\u001b[0;34m\u001b[0m\u001b[0;34m\u001b[0m\u001b[0m\n",
      "\u001b[0;31mInvalidArgumentError\u001b[0m: Incompatible shapes: [32,5] vs. [100,5]\n\t [[Node: training_14/Adam/gradients/loss_15/dense_10_loss/mul_grad/BroadcastGradientArgs = BroadcastGradientArgs[T=DT_INT32, _class=[\"loc:@loss_15/dense_10_loss/mul\"], _device=\"/job:localhost/replica:0/task:0/device:CPU:0\"](training_14/Adam/gradients/loss_15/dense_10_loss/mul_grad/Shape, training_14/Adam/gradients/loss_15/dense_10_loss/mul_grad/Shape_1)]]",
      "\nDuring handling of the above exception, another exception occurred:\n",
      "\u001b[0;31mInvalidArgumentError\u001b[0m                      Traceback (most recent call last)",
      "\u001b[0;32m<ipython-input-41-b7c0f951c65b>\u001b[0m in \u001b[0;36m<module>\u001b[0;34m()\u001b[0m\n\u001b[1;32m      1\u001b[0m \u001b[0mmodel\u001b[0m\u001b[0;34m.\u001b[0m\u001b[0mcompile\u001b[0m\u001b[0;34m(\u001b[0m\u001b[0;34m'adam'\u001b[0m\u001b[0;34m,\u001b[0m\u001b[0mcustom_loss_1\u001b[0m\u001b[0;34m)\u001b[0m\u001b[0;34m\u001b[0m\u001b[0m\n\u001b[0;32m----> 2\u001b[0;31m \u001b[0mmodel\u001b[0m\u001b[0;34m.\u001b[0m\u001b[0mfit\u001b[0m\u001b[0;34m(\u001b[0m\u001b[0mtrain_X\u001b[0m\u001b[0;34m,\u001b[0m \u001b[0mtrain_Y\u001b[0m\u001b[0;34m,\u001b[0m \u001b[0mepochs\u001b[0m\u001b[0;34m=\u001b[0m\u001b[0;36m10\u001b[0m\u001b[0;34m)\u001b[0m\u001b[0;34m\u001b[0m\u001b[0m\n\u001b[0m",
      "\u001b[0;32m~/anaconda3/lib/python3.6/site-packages/keras/engine/training.py\u001b[0m in \u001b[0;36mfit\u001b[0;34m(self, x, y, batch_size, epochs, verbose, callbacks, validation_split, validation_data, shuffle, class_weight, sample_weight, initial_epoch, steps_per_epoch, validation_steps, **kwargs)\u001b[0m\n\u001b[1;32m   1655\u001b[0m                               \u001b[0minitial_epoch\u001b[0m\u001b[0;34m=\u001b[0m\u001b[0minitial_epoch\u001b[0m\u001b[0;34m,\u001b[0m\u001b[0;34m\u001b[0m\u001b[0m\n\u001b[1;32m   1656\u001b[0m                               \u001b[0msteps_per_epoch\u001b[0m\u001b[0;34m=\u001b[0m\u001b[0msteps_per_epoch\u001b[0m\u001b[0;34m,\u001b[0m\u001b[0;34m\u001b[0m\u001b[0m\n\u001b[0;32m-> 1657\u001b[0;31m                               validation_steps=validation_steps)\n\u001b[0m\u001b[1;32m   1658\u001b[0m \u001b[0;34m\u001b[0m\u001b[0m\n\u001b[1;32m   1659\u001b[0m     def evaluate(self, x=None, y=None,\n",
      "\u001b[0;32m~/anaconda3/lib/python3.6/site-packages/keras/engine/training.py\u001b[0m in \u001b[0;36m_fit_loop\u001b[0;34m(self, f, ins, out_labels, batch_size, epochs, verbose, callbacks, val_f, val_ins, shuffle, callback_metrics, initial_epoch, steps_per_epoch, validation_steps)\u001b[0m\n\u001b[1;32m   1211\u001b[0m                     \u001b[0mbatch_logs\u001b[0m\u001b[0;34m[\u001b[0m\u001b[0;34m'size'\u001b[0m\u001b[0;34m]\u001b[0m \u001b[0;34m=\u001b[0m \u001b[0mlen\u001b[0m\u001b[0;34m(\u001b[0m\u001b[0mbatch_ids\u001b[0m\u001b[0;34m)\u001b[0m\u001b[0;34m\u001b[0m\u001b[0m\n\u001b[1;32m   1212\u001b[0m                     \u001b[0mcallbacks\u001b[0m\u001b[0;34m.\u001b[0m\u001b[0mon_batch_begin\u001b[0m\u001b[0;34m(\u001b[0m\u001b[0mbatch_index\u001b[0m\u001b[0;34m,\u001b[0m \u001b[0mbatch_logs\u001b[0m\u001b[0;34m)\u001b[0m\u001b[0;34m\u001b[0m\u001b[0m\n\u001b[0;32m-> 1213\u001b[0;31m                     \u001b[0mouts\u001b[0m \u001b[0;34m=\u001b[0m \u001b[0mf\u001b[0m\u001b[0;34m(\u001b[0m\u001b[0mins_batch\u001b[0m\u001b[0;34m)\u001b[0m\u001b[0;34m\u001b[0m\u001b[0m\n\u001b[0m\u001b[1;32m   1214\u001b[0m                     \u001b[0;32mif\u001b[0m \u001b[0;32mnot\u001b[0m \u001b[0misinstance\u001b[0m\u001b[0;34m(\u001b[0m\u001b[0mouts\u001b[0m\u001b[0;34m,\u001b[0m \u001b[0mlist\u001b[0m\u001b[0;34m)\u001b[0m\u001b[0;34m:\u001b[0m\u001b[0;34m\u001b[0m\u001b[0m\n\u001b[1;32m   1215\u001b[0m                         \u001b[0mouts\u001b[0m \u001b[0;34m=\u001b[0m \u001b[0;34m[\u001b[0m\u001b[0mouts\u001b[0m\u001b[0;34m]\u001b[0m\u001b[0;34m\u001b[0m\u001b[0m\n",
      "\u001b[0;32m~/anaconda3/lib/python3.6/site-packages/keras/backend/tensorflow_backend.py\u001b[0m in \u001b[0;36m__call__\u001b[0;34m(self, inputs)\u001b[0m\n\u001b[1;32m   2355\u001b[0m         \u001b[0msession\u001b[0m \u001b[0;34m=\u001b[0m \u001b[0mget_session\u001b[0m\u001b[0;34m(\u001b[0m\u001b[0;34m)\u001b[0m\u001b[0;34m\u001b[0m\u001b[0m\n\u001b[1;32m   2356\u001b[0m         updated = session.run(fetches=fetches, feed_dict=feed_dict,\n\u001b[0;32m-> 2357\u001b[0;31m                               **self.session_kwargs)\n\u001b[0m\u001b[1;32m   2358\u001b[0m         \u001b[0;32mreturn\u001b[0m \u001b[0mupdated\u001b[0m\u001b[0;34m[\u001b[0m\u001b[0;34m:\u001b[0m\u001b[0mlen\u001b[0m\u001b[0;34m(\u001b[0m\u001b[0mself\u001b[0m\u001b[0;34m.\u001b[0m\u001b[0moutputs\u001b[0m\u001b[0;34m)\u001b[0m\u001b[0;34m]\u001b[0m\u001b[0;34m\u001b[0m\u001b[0m\n\u001b[1;32m   2359\u001b[0m \u001b[0;34m\u001b[0m\u001b[0m\n",
      "\u001b[0;32m~/anaconda3/lib/python3.6/site-packages/tensorflow/python/client/session.py\u001b[0m in \u001b[0;36mrun\u001b[0;34m(self, fetches, feed_dict, options, run_metadata)\u001b[0m\n\u001b[1;32m    887\u001b[0m     \u001b[0;32mtry\u001b[0m\u001b[0;34m:\u001b[0m\u001b[0;34m\u001b[0m\u001b[0m\n\u001b[1;32m    888\u001b[0m       result = self._run(None, fetches, feed_dict, options_ptr,\n\u001b[0;32m--> 889\u001b[0;31m                          run_metadata_ptr)\n\u001b[0m\u001b[1;32m    890\u001b[0m       \u001b[0;32mif\u001b[0m \u001b[0mrun_metadata\u001b[0m\u001b[0;34m:\u001b[0m\u001b[0;34m\u001b[0m\u001b[0m\n\u001b[1;32m    891\u001b[0m         \u001b[0mproto_data\u001b[0m \u001b[0;34m=\u001b[0m \u001b[0mtf_session\u001b[0m\u001b[0;34m.\u001b[0m\u001b[0mTF_GetBuffer\u001b[0m\u001b[0;34m(\u001b[0m\u001b[0mrun_metadata_ptr\u001b[0m\u001b[0;34m)\u001b[0m\u001b[0;34m\u001b[0m\u001b[0m\n",
      "\u001b[0;32m~/anaconda3/lib/python3.6/site-packages/tensorflow/python/client/session.py\u001b[0m in \u001b[0;36m_run\u001b[0;34m(self, handle, fetches, feed_dict, options, run_metadata)\u001b[0m\n\u001b[1;32m   1118\u001b[0m     \u001b[0;32mif\u001b[0m \u001b[0mfinal_fetches\u001b[0m \u001b[0;32mor\u001b[0m \u001b[0mfinal_targets\u001b[0m \u001b[0;32mor\u001b[0m \u001b[0;34m(\u001b[0m\u001b[0mhandle\u001b[0m \u001b[0;32mand\u001b[0m \u001b[0mfeed_dict_tensor\u001b[0m\u001b[0;34m)\u001b[0m\u001b[0;34m:\u001b[0m\u001b[0;34m\u001b[0m\u001b[0m\n\u001b[1;32m   1119\u001b[0m       results = self._do_run(handle, final_targets, final_fetches,\n\u001b[0;32m-> 1120\u001b[0;31m                              feed_dict_tensor, options, run_metadata)\n\u001b[0m\u001b[1;32m   1121\u001b[0m     \u001b[0;32melse\u001b[0m\u001b[0;34m:\u001b[0m\u001b[0;34m\u001b[0m\u001b[0m\n\u001b[1;32m   1122\u001b[0m       \u001b[0mresults\u001b[0m \u001b[0;34m=\u001b[0m \u001b[0;34m[\u001b[0m\u001b[0;34m]\u001b[0m\u001b[0;34m\u001b[0m\u001b[0m\n",
      "\u001b[0;32m~/anaconda3/lib/python3.6/site-packages/tensorflow/python/client/session.py\u001b[0m in \u001b[0;36m_do_run\u001b[0;34m(self, handle, target_list, fetch_list, feed_dict, options, run_metadata)\u001b[0m\n\u001b[1;32m   1315\u001b[0m     \u001b[0;32mif\u001b[0m \u001b[0mhandle\u001b[0m \u001b[0;32mis\u001b[0m \u001b[0;32mNone\u001b[0m\u001b[0;34m:\u001b[0m\u001b[0;34m\u001b[0m\u001b[0m\n\u001b[1;32m   1316\u001b[0m       return self._do_call(_run_fn, self._session, feeds, fetches, targets,\n\u001b[0;32m-> 1317\u001b[0;31m                            options, run_metadata)\n\u001b[0m\u001b[1;32m   1318\u001b[0m     \u001b[0;32melse\u001b[0m\u001b[0;34m:\u001b[0m\u001b[0;34m\u001b[0m\u001b[0m\n\u001b[1;32m   1319\u001b[0m       \u001b[0;32mreturn\u001b[0m \u001b[0mself\u001b[0m\u001b[0;34m.\u001b[0m\u001b[0m_do_call\u001b[0m\u001b[0;34m(\u001b[0m\u001b[0m_prun_fn\u001b[0m\u001b[0;34m,\u001b[0m \u001b[0mself\u001b[0m\u001b[0;34m.\u001b[0m\u001b[0m_session\u001b[0m\u001b[0;34m,\u001b[0m \u001b[0mhandle\u001b[0m\u001b[0;34m,\u001b[0m \u001b[0mfeeds\u001b[0m\u001b[0;34m,\u001b[0m \u001b[0mfetches\u001b[0m\u001b[0;34m)\u001b[0m\u001b[0;34m\u001b[0m\u001b[0m\n",
      "\u001b[0;32m~/anaconda3/lib/python3.6/site-packages/tensorflow/python/client/session.py\u001b[0m in \u001b[0;36m_do_call\u001b[0;34m(self, fn, *args)\u001b[0m\n\u001b[1;32m   1334\u001b[0m         \u001b[0;32mexcept\u001b[0m \u001b[0mKeyError\u001b[0m\u001b[0;34m:\u001b[0m\u001b[0;34m\u001b[0m\u001b[0m\n\u001b[1;32m   1335\u001b[0m           \u001b[0;32mpass\u001b[0m\u001b[0;34m\u001b[0m\u001b[0m\n\u001b[0;32m-> 1336\u001b[0;31m       \u001b[0;32mraise\u001b[0m \u001b[0mtype\u001b[0m\u001b[0;34m(\u001b[0m\u001b[0me\u001b[0m\u001b[0;34m)\u001b[0m\u001b[0;34m(\u001b[0m\u001b[0mnode_def\u001b[0m\u001b[0;34m,\u001b[0m \u001b[0mop\u001b[0m\u001b[0;34m,\u001b[0m \u001b[0mmessage\u001b[0m\u001b[0;34m)\u001b[0m\u001b[0;34m\u001b[0m\u001b[0m\n\u001b[0m\u001b[1;32m   1337\u001b[0m \u001b[0;34m\u001b[0m\u001b[0m\n\u001b[1;32m   1338\u001b[0m   \u001b[0;32mdef\u001b[0m \u001b[0m_extend_graph\u001b[0m\u001b[0;34m(\u001b[0m\u001b[0mself\u001b[0m\u001b[0;34m)\u001b[0m\u001b[0;34m:\u001b[0m\u001b[0;34m\u001b[0m\u001b[0m\n",
      "\u001b[0;31mInvalidArgumentError\u001b[0m: Incompatible shapes: [32,5] vs. [100,5]\n\t [[Node: training_14/Adam/gradients/loss_15/dense_10_loss/mul_grad/BroadcastGradientArgs = BroadcastGradientArgs[T=DT_INT32, _class=[\"loc:@loss_15/dense_10_loss/mul\"], _device=\"/job:localhost/replica:0/task:0/device:CPU:0\"](training_14/Adam/gradients/loss_15/dense_10_loss/mul_grad/Shape, training_14/Adam/gradients/loss_15/dense_10_loss/mul_grad/Shape_1)]]\n\nCaused by op 'training_14/Adam/gradients/loss_15/dense_10_loss/mul_grad/BroadcastGradientArgs', defined at:\n  File \"/Users/nipun/anaconda3/lib/python3.6/runpy.py\", line 193, in _run_module_as_main\n    \"__main__\", mod_spec)\n  File \"/Users/nipun/anaconda3/lib/python3.6/runpy.py\", line 85, in _run_code\n    exec(code, run_globals)\n  File \"/Users/nipun/anaconda3/lib/python3.6/site-packages/ipykernel_launcher.py\", line 16, in <module>\n    app.launch_new_instance()\n  File \"/Users/nipun/anaconda3/lib/python3.6/site-packages/traitlets/config/application.py\", line 658, in launch_instance\n    app.start()\n  File \"/Users/nipun/anaconda3/lib/python3.6/site-packages/ipykernel/kernelapp.py\", line 477, in start\n    ioloop.IOLoop.instance().start()\n  File \"/Users/nipun/anaconda3/lib/python3.6/site-packages/zmq/eventloop/ioloop.py\", line 177, in start\n    super(ZMQIOLoop, self).start()\n  File \"/Users/nipun/anaconda3/lib/python3.6/site-packages/tornado/ioloop.py\", line 888, in start\n    handler_func(fd_obj, events)\n  File \"/Users/nipun/anaconda3/lib/python3.6/site-packages/tornado/stack_context.py\", line 277, in null_wrapper\n    return fn(*args, **kwargs)\n  File \"/Users/nipun/anaconda3/lib/python3.6/site-packages/zmq/eventloop/zmqstream.py\", line 440, in _handle_events\n    self._handle_recv()\n  File \"/Users/nipun/anaconda3/lib/python3.6/site-packages/zmq/eventloop/zmqstream.py\", line 472, in _handle_recv\n    self._run_callback(callback, msg)\n  File \"/Users/nipun/anaconda3/lib/python3.6/site-packages/zmq/eventloop/zmqstream.py\", line 414, in _run_callback\n    callback(*args, **kwargs)\n  File \"/Users/nipun/anaconda3/lib/python3.6/site-packages/tornado/stack_context.py\", line 277, in null_wrapper\n    return fn(*args, **kwargs)\n  File \"/Users/nipun/anaconda3/lib/python3.6/site-packages/ipykernel/kernelbase.py\", line 283, in dispatcher\n    return self.dispatch_shell(stream, msg)\n  File \"/Users/nipun/anaconda3/lib/python3.6/site-packages/ipykernel/kernelbase.py\", line 235, in dispatch_shell\n    handler(stream, idents, msg)\n  File \"/Users/nipun/anaconda3/lib/python3.6/site-packages/ipykernel/kernelbase.py\", line 399, in execute_request\n    user_expressions, allow_stdin)\n  File \"/Users/nipun/anaconda3/lib/python3.6/site-packages/ipykernel/ipkernel.py\", line 196, in do_execute\n    res = shell.run_cell(code, store_history=store_history, silent=silent)\n  File \"/Users/nipun/anaconda3/lib/python3.6/site-packages/ipykernel/zmqshell.py\", line 533, in run_cell\n    return super(ZMQInteractiveShell, self).run_cell(*args, **kwargs)\n  File \"/Users/nipun/anaconda3/lib/python3.6/site-packages/IPython/core/interactiveshell.py\", line 2698, in run_cell\n    interactivity=interactivity, compiler=compiler, result=result)\n  File \"/Users/nipun/anaconda3/lib/python3.6/site-packages/IPython/core/interactiveshell.py\", line 2808, in run_ast_nodes\n    if self.run_code(code, result):\n  File \"/Users/nipun/anaconda3/lib/python3.6/site-packages/IPython/core/interactiveshell.py\", line 2862, in run_code\n    exec(code_obj, self.user_global_ns, self.user_ns)\n  File \"<ipython-input-41-b7c0f951c65b>\", line 2, in <module>\n    model.fit(train_X, train_Y, epochs=10)\n  File \"/Users/nipun/anaconda3/lib/python3.6/site-packages/keras/engine/training.py\", line 1634, in fit\n    self._make_train_function()\n  File \"/Users/nipun/anaconda3/lib/python3.6/site-packages/keras/engine/training.py\", line 990, in _make_train_function\n    loss=self.total_loss)\n  File \"/Users/nipun/anaconda3/lib/python3.6/site-packages/keras/legacy/interfaces.py\", line 87, in wrapper\n    return func(*args, **kwargs)\n  File \"/Users/nipun/anaconda3/lib/python3.6/site-packages/keras/optimizers.py\", line 415, in get_updates\n    grads = self.get_gradients(loss, params)\n  File \"/Users/nipun/anaconda3/lib/python3.6/site-packages/keras/optimizers.py\", line 73, in get_gradients\n    grads = K.gradients(loss, params)\n  File \"/Users/nipun/anaconda3/lib/python3.6/site-packages/keras/backend/tensorflow_backend.py\", line 2394, in gradients\n    return tf.gradients(loss, variables, colocate_gradients_with_ops=True)\n  File \"/Users/nipun/anaconda3/lib/python3.6/site-packages/tensorflow/python/ops/gradients_impl.py\", line 581, in gradients\n    grad_scope, op, func_call, lambda: grad_fn(op, *out_grads))\n  File \"/Users/nipun/anaconda3/lib/python3.6/site-packages/tensorflow/python/ops/gradients_impl.py\", line 353, in _MaybeCompile\n    return grad_fn()  # Exit early\n  File \"/Users/nipun/anaconda3/lib/python3.6/site-packages/tensorflow/python/ops/gradients_impl.py\", line 581, in <lambda>\n    grad_scope, op, func_call, lambda: grad_fn(op, *out_grads))\n  File \"/Users/nipun/anaconda3/lib/python3.6/site-packages/tensorflow/python/ops/math_grad.py\", line 742, in _MulGrad\n    rx, ry = gen_array_ops._broadcast_gradient_args(sx, sy)\n  File \"/Users/nipun/anaconda3/lib/python3.6/site-packages/tensorflow/python/ops/gen_array_ops.py\", line 532, in _broadcast_gradient_args\n    \"BroadcastGradientArgs\", s0=s0, s1=s1, name=name)\n  File \"/Users/nipun/anaconda3/lib/python3.6/site-packages/tensorflow/python/framework/op_def_library.py\", line 787, in _apply_op_helper\n    op_def=op_def)\n  File \"/Users/nipun/anaconda3/lib/python3.6/site-packages/tensorflow/python/framework/ops.py\", line 2956, in create_op\n    op_def=op_def)\n  File \"/Users/nipun/anaconda3/lib/python3.6/site-packages/tensorflow/python/framework/ops.py\", line 1470, in __init__\n    self._traceback = self._graph._extract_stack()  # pylint: disable=protected-access\n\n...which was originally created as op 'loss_15/dense_10_loss/mul', defined at:\n  File \"/Users/nipun/anaconda3/lib/python3.6/runpy.py\", line 193, in _run_module_as_main\n    \"__main__\", mod_spec)\n[elided 16 identical lines from previous traceback]\n  File \"/Users/nipun/anaconda3/lib/python3.6/site-packages/IPython/core/interactiveshell.py\", line 2698, in run_cell\n    interactivity=interactivity, compiler=compiler, result=result)\n  File \"/Users/nipun/anaconda3/lib/python3.6/site-packages/IPython/core/interactiveshell.py\", line 2802, in run_ast_nodes\n    if self.run_code(code, result):\n  File \"/Users/nipun/anaconda3/lib/python3.6/site-packages/IPython/core/interactiveshell.py\", line 2862, in run_code\n    exec(code_obj, self.user_global_ns, self.user_ns)\n  File \"<ipython-input-41-b7c0f951c65b>\", line 1, in <module>\n    model.compile('adam',custom_loss_1)\n  File \"/Users/nipun/anaconda3/lib/python3.6/site-packages/keras/engine/training.py\", line 860, in compile\n    sample_weight, mask)\n  File \"/Users/nipun/anaconda3/lib/python3.6/site-packages/keras/engine/training.py\", line 459, in weighted\n    score_array = fn(y_true, y_pred)\n  File \"<ipython-input-39-f5d2d14645f9>\", line 4, in custom_loss_1\n    return K.mean(K.abs(y_true-y_pred)*weights)\n  File \"/Users/nipun/anaconda3/lib/python3.6/site-packages/tensorflow/python/ops/math_ops.py\", line 894, in binary_op_wrapper\n    return func(x, y, name=name)\n  File \"/Users/nipun/anaconda3/lib/python3.6/site-packages/tensorflow/python/ops/math_ops.py\", line 1117, in _mul_dispatch\n    return gen_math_ops._mul(x, y, name=name)\n  File \"/Users/nipun/anaconda3/lib/python3.6/site-packages/tensorflow/python/ops/gen_math_ops.py\", line 2726, in _mul\n    \"Mul\", x=x, y=y, name=name)\n  File \"/Users/nipun/anaconda3/lib/python3.6/site-packages/tensorflow/python/framework/op_def_library.py\", line 787, in _apply_op_helper\n    op_def=op_def)\n  File \"/Users/nipun/anaconda3/lib/python3.6/site-packages/tensorflow/python/framework/ops.py\", line 2956, in create_op\n    op_def=op_def)\n  File \"/Users/nipun/anaconda3/lib/python3.6/site-packages/tensorflow/python/framework/ops.py\", line 1470, in __init__\n    self._traceback = self._graph._extract_stack()  # pylint: disable=protected-access\n\nInvalidArgumentError (see above for traceback): Incompatible shapes: [32,5] vs. [100,5]\n\t [[Node: training_14/Adam/gradients/loss_15/dense_10_loss/mul_grad/BroadcastGradientArgs = BroadcastGradientArgs[T=DT_INT32, _class=[\"loc:@loss_15/dense_10_loss/mul\"], _device=\"/job:localhost/replica:0/task:0/device:CPU:0\"](training_14/Adam/gradients/loss_15/dense_10_loss/mul_grad/Shape, training_14/Adam/gradients/loss_15/dense_10_loss/mul_grad/Shape_1)]]\n"
     ]
    }
   ],
   "source": [
    "model.compile('adam',custom_loss_1)\n",
    "model.fit(train_X, train_Y, epochs=10)"
   ]
  },
  {
   "cell_type": "code",
   "execution_count": 53,
   "metadata": {},
   "outputs": [
    {
     "data": {
      "text/plain": [
       "<tf.Tensor 'Mean_1:0' shape=() dtype=int64>"
      ]
     },
     "execution_count": 53,
     "metadata": {},
     "output_type": "execute_result"
    }
   ],
   "source": [
    "import keras\n",
    "keras.losses.get('mse')(np.array([1,2]), np.array([1,3]))"
   ]
  },
  {
   "cell_type": "code",
   "execution_count": 68,
   "metadata": {},
   "outputs": [
    {
     "name": "stdout",
     "output_type": "stream",
     "text": [
      "Epoch 1/10\n",
      "100/100 [==============================] - 0s 3ms/step - loss: 0.1632\n",
      "Epoch 2/10\n",
      "100/100 [==============================] - 0s 73us/step - loss: 0.1573\n",
      "Epoch 3/10\n",
      "100/100 [==============================] - 0s 71us/step - loss: 0.1519\n",
      "Epoch 4/10\n",
      "100/100 [==============================] - 0s 90us/step - loss: 0.1464\n",
      "Epoch 5/10\n",
      "100/100 [==============================] - 0s 78us/step - loss: 0.1409\n",
      "Epoch 6/10\n",
      "100/100 [==============================] - 0s 68us/step - loss: 0.1354\n",
      "Epoch 7/10\n",
      "100/100 [==============================] - 0s 96us/step - loss: 0.1301\n",
      "Epoch 8/10\n",
      "100/100 [==============================] - 0s 75us/step - loss: 0.1245\n",
      "Epoch 9/10\n",
      "100/100 [==============================] - 0s 75us/step - loss: 0.1192\n",
      "Epoch 10/10\n",
      "100/100 [==============================] - 0s 71us/step - loss: 0.1138\n"
     ]
    },
    {
     "data": {
      "text/plain": [
       "<keras.callbacks.History at 0x1a2efb5908>"
      ]
     },
     "execution_count": 68,
     "metadata": {},
     "output_type": "execute_result"
    }
   ],
   "source": [
    "model.compile('adam',custom_loss_4)\n",
    "model.fit(train_X, train_Y, epochs=10)"
   ]
  },
  {
   "cell_type": "code",
   "execution_count": 54,
   "metadata": {},
   "outputs": [
    {
     "name": "stdout",
     "output_type": "stream",
     "text": [
      "Epoch 1/10\n",
      "100/100 [==============================] - 0s 3ms/step - loss: 1.0259\n",
      "Epoch 2/10\n",
      "100/100 [==============================] - 0s 59us/step - loss: 1.0204\n",
      "Epoch 3/10\n",
      "100/100 [==============================] - 0s 60us/step - loss: 1.0152\n",
      "Epoch 4/10\n",
      "100/100 [==============================] - 0s 51us/step - loss: 1.0101\n",
      "Epoch 5/10\n",
      "100/100 [==============================] - 0s 71us/step - loss: 1.0052\n",
      "Epoch 6/10\n",
      "100/100 [==============================] - 0s 60us/step - loss: 1.0001\n",
      "Epoch 7/10\n",
      "100/100 [==============================] - 0s 74us/step - loss: 0.9952\n",
      "Epoch 8/10\n",
      "100/100 [==============================] - 0s 85us/step - loss: 0.9903\n",
      "Epoch 9/10\n",
      "100/100 [==============================] - 0s 73us/step - loss: 0.9853\n",
      "Epoch 10/10\n",
      "100/100 [==============================] - 0s 85us/step - loss: 0.9802\n"
     ]
    },
    {
     "data": {
      "text/plain": [
       "<keras.callbacks.History at 0x1a2e1aae80>"
      ]
     },
     "execution_count": 54,
     "metadata": {},
     "output_type": "execute_result"
    }
   ],
   "source": [
    "model.compile('adam',custom_loss_2)\n",
    "model.fit(train_X, train_Y, epochs=10)"
   ]
  },
  {
   "cell_type": "code",
   "execution_count": 82,
   "metadata": {},
   "outputs": [
    {
     "name": "stdout",
     "output_type": "stream",
     "text": [
      "Epoch 1/10\n",
      "100/100 [==============================] - 0s 3ms/step - loss: 0.5674\n",
      "Epoch 2/10\n",
      "100/100 [==============================] - 0s 80us/step - loss: 0.5642\n",
      "Epoch 3/10\n",
      "100/100 [==============================] - 0s 67us/step - loss: 0.5609\n",
      "Epoch 4/10\n",
      "100/100 [==============================] - 0s 187us/step - loss: 0.5578\n",
      "Epoch 5/10\n",
      "100/100 [==============================] - 0s 147us/step - loss: 0.5545\n",
      "Epoch 6/10\n",
      "100/100 [==============================] - 0s 184us/step - loss: 0.5512\n",
      "Epoch 7/10\n",
      "100/100 [==============================] - 0s 119us/step - loss: 0.5481\n",
      "Epoch 8/10\n",
      "100/100 [==============================] - 0s 184us/step - loss: 0.5449\n",
      "Epoch 9/10\n",
      "100/100 [==============================] - 0s 146us/step - loss: 0.5417\n",
      "Epoch 10/10\n",
      "100/100 [==============================] - 0s 149us/step - loss: 0.5385\n"
     ]
    },
    {
     "data": {
      "text/plain": [
       "<keras.callbacks.History at 0x1a30254860>"
      ]
     },
     "execution_count": 82,
     "metadata": {},
     "output_type": "execute_result"
    }
   ],
   "source": [
    "import numpy as np\n",
    "from keras.layers import Dense, Input\n",
    "from keras import Model\n",
    "import keras.backend as K\n",
    "from functools import partial\n",
    "\n",
    "\n",
    "def custom_loss_4(y_true, y_pred, weights):\n",
    "    return K.mean(K.abs(y_true - y_pred) * weights)\n",
    "\n",
    "\n",
    "train_X = np.random.randn(100, 5)\n",
    "train_Y = np.random.randn(100, 5) * 0.01 + train_X\n",
    "weights = np.abs(np.random.randn(*train_X.shape))\n",
    "\n",
    "input_layer = Input(shape=(5,))\n",
    "weights_tensor = Input(shape=(5,))\n",
    "out = Dense(5)(input_layer)\n",
    "cl4 = partial(custom_loss_4, weights=weights_tensor)\n",
    "#model = Model([input_layer, weights_tensor], out)\n",
    "#model.compile('adam', cl4)\n",
    "model.fit(x=[train_X, weights], y=train_Y, epochs=10)"
   ]
  },
  {
   "cell_type": "code",
   "execution_count": 64,
   "metadata": {},
   "outputs": [
    {
     "name": "stdout",
     "output_type": "stream",
     "text": [
      "Epoch 1/100\n",
      "100/100 [==============================] - 0s 16us/step - loss: 0.6936\n",
      "Epoch 2/100\n",
      "100/100 [==============================] - 0s 22us/step - loss: 0.6668\n",
      "Epoch 3/100\n",
      "100/100 [==============================] - 0s 17us/step - loss: 0.6856\n",
      "Epoch 4/100\n",
      "100/100 [==============================] - 0s 15us/step - loss: 0.6723\n",
      "Epoch 5/100\n",
      "100/100 [==============================] - 0s 14us/step - loss: 0.6870\n",
      "Epoch 6/100\n",
      "100/100 [==============================] - 0s 18us/step - loss: 0.6717\n",
      "Epoch 7/100\n",
      "100/100 [==============================] - 0s 17us/step - loss: 0.6647\n",
      "Epoch 8/100\n",
      "100/100 [==============================] - 0s 16us/step - loss: 0.6879\n",
      "Epoch 9/100\n",
      "100/100 [==============================] - 0s 21us/step - loss: 0.6400\n",
      "Epoch 10/100\n",
      "100/100 [==============================] - 0s 18us/step - loss: 0.6661\n",
      "Epoch 11/100\n",
      "100/100 [==============================] - 0s 13us/step - loss: 0.6803\n",
      "Epoch 12/100\n",
      "100/100 [==============================] - 0s 13us/step - loss: 0.6706\n",
      "Epoch 13/100\n",
      "100/100 [==============================] - 0s 18us/step - loss: 0.6710\n",
      "Epoch 14/100\n",
      "100/100 [==============================] - 0s 13us/step - loss: 0.6549\n",
      "Epoch 15/100\n",
      "100/100 [==============================] - 0s 18us/step - loss: 0.6807\n",
      "Epoch 16/100\n",
      "100/100 [==============================] - 0s 21us/step - loss: 0.6588\n",
      "Epoch 17/100\n",
      "100/100 [==============================] - 0s 15us/step - loss: 0.6624\n",
      "Epoch 18/100\n",
      "100/100 [==============================] - 0s 23us/step - loss: 0.6674\n",
      "Epoch 19/100\n",
      "100/100 [==============================] - 0s 21us/step - loss: 0.6598\n",
      "Epoch 20/100\n",
      "100/100 [==============================] - 0s 13us/step - loss: 0.6504\n",
      "Epoch 21/100\n",
      "100/100 [==============================] - 0s 21us/step - loss: 0.6591\n",
      "Epoch 22/100\n",
      "100/100 [==============================] - 0s 46us/step - loss: 0.6781\n",
      "Epoch 23/100\n",
      "100/100 [==============================] - 0s 17us/step - loss: 0.6479\n",
      "Epoch 24/100\n",
      "100/100 [==============================] - 0s 21us/step - loss: 0.6594\n",
      "Epoch 25/100\n",
      "100/100 [==============================] - 0s 36us/step - loss: 0.6408\n",
      "Epoch 26/100\n",
      "100/100 [==============================] - 0s 30us/step - loss: 0.6632\n",
      "Epoch 27/100\n",
      "100/100 [==============================] - 0s 19us/step - loss: 0.6664\n",
      "Epoch 28/100\n",
      "100/100 [==============================] - 0s 14us/step - loss: 0.6387\n",
      "Epoch 29/100\n",
      "100/100 [==============================] - 0s 19us/step - loss: 0.6521\n",
      "Epoch 30/100\n",
      "100/100 [==============================] - 0s 18us/step - loss: 0.6516\n",
      "Epoch 31/100\n",
      "100/100 [==============================] - 0s 23us/step - loss: 0.6423\n",
      "Epoch 32/100\n",
      "100/100 [==============================] - 0s 13us/step - loss: 0.6351\n",
      "Epoch 33/100\n",
      "100/100 [==============================] - 0s 17us/step - loss: 0.6444\n",
      "Epoch 34/100\n",
      "100/100 [==============================] - 0s 15us/step - loss: 0.6454\n",
      "Epoch 35/100\n",
      "100/100 [==============================] - 0s 20us/step - loss: 0.6416\n",
      "Epoch 36/100\n",
      "100/100 [==============================] - 0s 16us/step - loss: 0.6501\n",
      "Epoch 37/100\n",
      "100/100 [==============================] - 0s 17us/step - loss: 0.6410\n",
      "Epoch 38/100\n",
      "100/100 [==============================] - 0s 16us/step - loss: 0.6347\n",
      "Epoch 39/100\n",
      "100/100 [==============================] - 0s 13us/step - loss: 0.6316\n",
      "Epoch 40/100\n",
      "100/100 [==============================] - 0s 16us/step - loss: 0.6323\n",
      "Epoch 41/100\n",
      "100/100 [==============================] - 0s 15us/step - loss: 0.6128\n",
      "Epoch 42/100\n",
      "100/100 [==============================] - 0s 20us/step - loss: 0.6365\n",
      "Epoch 43/100\n",
      "100/100 [==============================] - 0s 20us/step - loss: 0.6400\n",
      "Epoch 44/100\n",
      "100/100 [==============================] - 0s 10us/step - loss: 0.6635\n",
      "Epoch 45/100\n",
      "100/100 [==============================] - 0s 15us/step - loss: 0.6156\n",
      "Epoch 46/100\n",
      "100/100 [==============================] - 0s 18us/step - loss: 0.6421\n",
      "Epoch 47/100\n",
      "100/100 [==============================] - 0s 18us/step - loss: 0.6387\n",
      "Epoch 48/100\n",
      "100/100 [==============================] - 0s 17us/step - loss: 0.6148\n",
      "Epoch 49/100\n",
      "100/100 [==============================] - 0s 21us/step - loss: 0.6454\n",
      "Epoch 50/100\n",
      "100/100 [==============================] - 0s 14us/step - loss: 0.6331\n",
      "Epoch 51/100\n",
      "100/100 [==============================] - 0s 20us/step - loss: 0.6239\n",
      "Epoch 52/100\n",
      "100/100 [==============================] - 0s 18us/step - loss: 0.6192\n",
      "Epoch 53/100\n",
      "100/100 [==============================] - 0s 16us/step - loss: 0.6300\n",
      "Epoch 54/100\n",
      "100/100 [==============================] - 0s 16us/step - loss: 0.6457\n",
      "Epoch 55/100\n",
      "100/100 [==============================] - 0s 19us/step - loss: 0.6197\n",
      "Epoch 56/100\n",
      "100/100 [==============================] - 0s 21us/step - loss: 0.6207\n",
      "Epoch 57/100\n",
      "100/100 [==============================] - 0s 15us/step - loss: 0.6007\n",
      "Epoch 58/100\n",
      "100/100 [==============================] - 0s 16us/step - loss: 0.6283\n",
      "Epoch 59/100\n",
      "100/100 [==============================] - 0s 20us/step - loss: 0.6402\n",
      "Epoch 60/100\n",
      "100/100 [==============================] - 0s 24us/step - loss: 0.6116\n",
      "Epoch 61/100\n",
      "100/100 [==============================] - 0s 13us/step - loss: 0.6171\n",
      "Epoch 62/100\n",
      "100/100 [==============================] - 0s 26us/step - loss: 0.6031\n",
      "Epoch 63/100\n",
      "100/100 [==============================] - 0s 17us/step - loss: 0.6165\n",
      "Epoch 64/100\n",
      "100/100 [==============================] - 0s 22us/step - loss: 0.6073\n",
      "Epoch 65/100\n",
      "100/100 [==============================] - 0s 17us/step - loss: 0.6081\n",
      "Epoch 66/100\n",
      "100/100 [==============================] - 0s 28us/step - loss: 0.6324\n",
      "Epoch 67/100\n",
      "100/100 [==============================] - 0s 27us/step - loss: 0.6078\n",
      "Epoch 68/100\n",
      "100/100 [==============================] - 0s 18us/step - loss: 0.5916\n",
      "Epoch 69/100\n",
      "100/100 [==============================] - 0s 13us/step - loss: 0.6236\n",
      "Epoch 70/100\n",
      "100/100 [==============================] - 0s 22us/step - loss: 0.6128\n",
      "Epoch 71/100\n",
      "100/100 [==============================] - 0s 19us/step - loss: 0.5987\n",
      "Epoch 72/100\n",
      "100/100 [==============================] - 0s 22us/step - loss: 0.6279\n",
      "Epoch 73/100\n",
      "100/100 [==============================] - 0s 13us/step - loss: 0.5867\n",
      "Epoch 74/100\n",
      "100/100 [==============================] - 0s 12us/step - loss: 0.6174\n",
      "Epoch 75/100\n",
      "100/100 [==============================] - 0s 27us/step - loss: 0.5986\n",
      "Epoch 76/100\n",
      "100/100 [==============================] - 0s 16us/step - loss: 0.5966\n",
      "Epoch 77/100\n",
      "100/100 [==============================] - 0s 19us/step - loss: 0.6076\n",
      "Epoch 78/100\n",
      "100/100 [==============================] - 0s 20us/step - loss: 0.6146\n",
      "Epoch 79/100\n",
      "100/100 [==============================] - 0s 20us/step - loss: 0.6268\n",
      "Epoch 80/100\n",
      "100/100 [==============================] - 0s 16us/step - loss: 0.5718\n",
      "Epoch 81/100\n",
      "100/100 [==============================] - 0s 20us/step - loss: 0.6154\n",
      "Epoch 82/100\n",
      "100/100 [==============================] - 0s 22us/step - loss: 0.5935\n",
      "Epoch 83/100\n",
      "100/100 [==============================] - 0s 21us/step - loss: 0.5865\n",
      "Epoch 84/100\n",
      "100/100 [==============================] - 0s 17us/step - loss: 0.5802\n",
      "Epoch 85/100\n",
      "100/100 [==============================] - 0s 14us/step - loss: 0.6317\n",
      "Epoch 86/100\n",
      "100/100 [==============================] - 0s 13us/step - loss: 0.5749\n",
      "Epoch 87/100\n",
      "100/100 [==============================] - 0s 15us/step - loss: 0.6011\n",
      "Epoch 88/100\n",
      "100/100 [==============================] - 0s 14us/step - loss: 0.5958\n",
      "Epoch 89/100\n",
      "100/100 [==============================] - 0s 14us/step - loss: 0.5813\n",
      "Epoch 90/100\n",
      "100/100 [==============================] - 0s 14us/step - loss: 0.5953\n",
      "Epoch 91/100\n",
      "100/100 [==============================] - 0s 14us/step - loss: 0.5874\n",
      "Epoch 92/100\n",
      "100/100 [==============================] - 0s 13us/step - loss: 0.5914\n",
      "Epoch 93/100\n",
      "100/100 [==============================] - 0s 16us/step - loss: 0.6099\n",
      "Epoch 94/100\n",
      "100/100 [==============================] - 0s 21us/step - loss: 0.5642\n",
      "Epoch 95/100\n",
      "100/100 [==============================] - 0s 22us/step - loss: 0.6046\n",
      "Epoch 96/100\n",
      "100/100 [==============================] - 0s 14us/step - loss: 0.6014\n",
      "Epoch 97/100\n",
      "100/100 [==============================] - 0s 13us/step - loss: 0.5866\n",
      "Epoch 98/100\n",
      "100/100 [==============================] - 0s 30us/step - loss: 0.5908\n"
     ]
    },
    {
     "name": "stdout",
     "output_type": "stream",
     "text": [
      "Epoch 99/100\n",
      "100/100 [==============================] - 0s 16us/step - loss: 0.5795\n",
      "Epoch 100/100\n",
      "100/100 [==============================] - 0s 13us/step - loss: 0.6180\n"
     ]
    },
    {
     "data": {
      "text/plain": [
       "<keras.callbacks.History at 0x1a2ec66be0>"
      ]
     },
     "execution_count": 64,
     "metadata": {},
     "output_type": "execute_result"
    }
   ],
   "source": [
    "#model.compile('adam',custom_loss_1)\n",
    "model.fit(train_X, train_Y, epochs=100, batch_size=len(train_Y))"
   ]
  },
  {
   "cell_type": "code",
   "execution_count": 4,
   "metadata": {
    "collapsed": true
   },
   "outputs": [],
   "source": [
    "def create_subset_dataset(tensor, start=160, num_days=112):\n",
    "    t_subset = tensor[:, :, start:start+num_days, :]\n",
    "    all_indices = np.array(list(range(320)))\n",
    "    for i in range(1, 7):\n",
    "        valid_homes = pd.DataFrame(t_subset[:, i, :].reshape(320, num_days*24)).dropna().index\n",
    "        all_indices = np.intersect1d(all_indices, valid_homes)\n",
    "    print(len(all_indices))\n",
    "    t_subset = t_subset[all_indices, :, :, :].reshape(len(all_indices), 7, num_days*24)\n",
    "    \n",
    "    # Create artificial aggregate\n",
    "    t_subset[:, 0, :] = 0.0\n",
    "    for i in range(1, 7):\n",
    "        t_subset[:, 0, :] = t_subset[:, 0, :] + t_subset[:, i, :]\n",
    "    # t_subset is of shape (#home, appliance, days*hours)\n",
    "    return t_subset, all_indices"
   ]
  },
  {
   "cell_type": "code",
   "execution_count": 5,
   "metadata": {},
   "outputs": [
    {
     "name": "stdout",
     "output_type": "stream",
     "text": [
      "52\n"
     ]
    },
    {
     "data": {
      "text/plain": [
       "(52, 7, 2688)"
      ]
     },
     "execution_count": 5,
     "metadata": {},
     "output_type": "execute_result"
    }
   ],
   "source": [
    "t_all, valid_homes = create_subset_dataset(tensor)\n",
    "t_all.shape"
   ]
  },
  {
   "cell_type": "code",
   "execution_count": 6,
   "metadata": {
    "collapsed": true
   },
   "outputs": [],
   "source": [
    "def my_objective(y_pred, y_true):\n",
    "    with tf.name_scope(None):\n",
    "        return tf.losses.absolute_difference(y_pred, y_true)"
   ]
  },
  {
   "cell_type": "code",
   "execution_count": 7,
   "metadata": {},
   "outputs": [
    {
     "name": "stderr",
     "output_type": "stream",
     "text": [
      "Using TensorFlow backend.\n"
     ]
    }
   ],
   "source": [
    "from random import randint\n",
    "from numpy import array\n",
    "from numpy import argmax\n",
    "from numpy import array_equal\n",
    "from keras.models import Sequential\n",
    "from keras.layers import LSTM\n",
    "from keras.layers import Dense\n",
    "from keras.layers import TimeDistributed\n",
    "from keras.layers import RepeatVector\n",
    "import keras\n",
    "from IPython.display import SVG\n",
    "from keras.utils.vis_utils import model_to_dot\n",
    "n_movies = 3\n",
    "n_users=3\n",
    "n_latent_factors=2"
   ]
  },
  {
   "cell_type": "code",
   "execution_count": 8,
   "metadata": {
    "collapsed": true
   },
   "outputs": [],
   "source": [
    "from itertools import combinations"
   ]
  },
  {
   "cell_type": "code",
   "execution_count": 9,
   "metadata": {},
   "outputs": [
    {
     "data": {
      "text/plain": [
       "435"
      ]
     },
     "execution_count": 9,
     "metadata": {},
     "output_type": "execute_result"
    }
   ],
   "source": [
    "len(list(combinations(range(30), 2)))"
   ]
  },
  {
   "cell_type": "code",
   "execution_count": 10,
   "metadata": {},
   "outputs": [
    {
     "name": "stdout",
     "output_type": "stream",
     "text": [
      "0 1\n",
      "0 2\n",
      "0 3\n",
      "0 4\n",
      "0 5\n",
      "0 6\n",
      "0 7\n",
      "0 8\n",
      "0 9\n",
      "0 10\n",
      "0 11\n",
      "0 12\n",
      "0 13\n",
      "0 14\n",
      "0 15\n",
      "0 16\n",
      "0 17\n",
      "0 18\n",
      "0 19\n",
      "0 20\n",
      "0 21\n",
      "0 22\n",
      "0 23\n",
      "0 24\n",
      "0 25\n",
      "0 26\n",
      "0 27\n",
      "0 28\n",
      "0 29\n",
      "1 2\n",
      "1 3\n",
      "1 4\n",
      "1 5\n",
      "1 6\n",
      "1 7\n",
      "1 8\n",
      "1 9\n",
      "1 10\n",
      "1 11\n",
      "1 12\n",
      "1 13\n",
      "1 14\n",
      "1 15\n",
      "1 16\n",
      "1 17\n",
      "1 18\n",
      "1 19\n",
      "1 20\n",
      "1 21\n",
      "1 22\n",
      "1 23\n",
      "1 24\n",
      "1 25\n",
      "1 26\n",
      "1 27\n",
      "1 28\n",
      "1 29\n",
      "2 3\n",
      "2 4\n",
      "2 5\n",
      "2 6\n",
      "2 7\n",
      "2 8\n",
      "2 9\n",
      "2 10\n",
      "2 11\n",
      "2 12\n",
      "2 13\n",
      "2 14\n",
      "2 15\n",
      "2 16\n",
      "2 17\n",
      "2 18\n",
      "2 19\n",
      "2 20\n",
      "2 21\n",
      "2 22\n",
      "2 23\n",
      "2 24\n",
      "2 25\n",
      "2 26\n",
      "2 27\n",
      "2 28\n",
      "2 29\n",
      "3 4\n",
      "3 5\n",
      "3 6\n",
      "3 7\n",
      "3 8\n",
      "3 9\n",
      "3 10\n",
      "3 11\n",
      "3 12\n",
      "3 13\n",
      "3 14\n",
      "3 15\n",
      "3 16\n",
      "3 17\n",
      "3 18\n",
      "3 19\n",
      "3 20\n",
      "3 21\n",
      "3 22\n",
      "3 23\n",
      "3 24\n",
      "3 25\n",
      "3 26\n",
      "3 27\n",
      "3 28\n",
      "3 29\n",
      "4 5\n",
      "4 6\n",
      "4 7\n",
      "4 8\n",
      "4 9\n",
      "4 10\n",
      "4 11\n",
      "4 12\n",
      "4 13\n",
      "4 14\n",
      "4 15\n",
      "4 16\n",
      "4 17\n",
      "4 18\n",
      "4 19\n",
      "4 20\n",
      "4 21\n",
      "4 22\n",
      "4 23\n",
      "4 24\n",
      "4 25\n",
      "4 26\n",
      "4 27\n",
      "4 28\n",
      "4 29\n",
      "5 6\n",
      "5 7\n",
      "5 8\n",
      "5 9\n",
      "5 10\n",
      "5 11\n",
      "5 12\n",
      "5 13\n",
      "5 14\n",
      "5 15\n",
      "5 16\n",
      "5 17\n",
      "5 18\n",
      "5 19\n",
      "5 20\n",
      "5 21\n",
      "5 22\n",
      "5 23\n",
      "5 24\n",
      "5 25\n",
      "5 26\n",
      "5 27\n",
      "5 28\n",
      "5 29\n",
      "6 7\n",
      "6 8\n",
      "6 9\n",
      "6 10\n",
      "6 11\n",
      "6 12\n",
      "6 13\n",
      "6 14\n",
      "6 15\n",
      "6 16\n",
      "6 17\n",
      "6 18\n",
      "6 19\n",
      "6 20\n",
      "6 21\n",
      "6 22\n",
      "6 23\n",
      "6 24\n",
      "6 25\n",
      "6 26\n",
      "6 27\n",
      "6 28\n",
      "6 29\n",
      "7 8\n",
      "7 9\n",
      "7 10\n",
      "7 11\n",
      "7 12\n",
      "7 13\n",
      "7 14\n",
      "7 15\n",
      "7 16\n",
      "7 17\n",
      "7 18\n",
      "7 19\n",
      "7 20\n",
      "7 21\n",
      "7 22\n",
      "7 23\n",
      "7 24\n",
      "7 25\n"
     ]
    }
   ],
   "source": [
    "t_all_new = np.zeros((200, 7, 2688))\n",
    "for i, (home_1, home_2) in enumerate(list(combinations(range(30), 2))[:200]):\n",
    "    print(home_1, home_2)\n",
    "    t_all_new[i,:, :] = (t_all[home_1,:,:] + t_all[home_2,:,:])/2\n"
   ]
  },
  {
   "cell_type": "code",
   "execution_count": 11,
   "metadata": {
    "collapsed": true
   },
   "outputs": [],
   "source": [
    "home_1, home_2\n",
    "num_days=112"
   ]
  },
  {
   "cell_type": "code",
   "execution_count": 12,
   "metadata": {},
   "outputs": [
    {
     "data": {
      "text/plain": [
       "(25760, 24)"
      ]
     },
     "execution_count": 12,
     "metadata": {},
     "output_type": "execute_result"
    }
   ],
   "source": [
    "np.concatenate([t_all_new[:,0,:].reshape(-1, 24), t_all[:30, 0, :].reshape(30*num_days, 24)]).shape"
   ]
  },
  {
   "cell_type": "code",
   "execution_count": 13,
   "metadata": {},
   "outputs": [
    {
     "ename": "NameError",
     "evalue": "name 'train_agg' is not defined",
     "output_type": "error",
     "traceback": [
      "\u001b[0;31m---------------------------------------------------------------------------\u001b[0m",
      "\u001b[0;31mNameError\u001b[0m                                 Traceback (most recent call last)",
      "\u001b[0;32m<ipython-input-13-d8162c4cc26d>\u001b[0m in \u001b[0;36m<module>\u001b[0;34m()\u001b[0m\n\u001b[0;32m----> 1\u001b[0;31m \u001b[0mtrain_agg\u001b[0m\u001b[0;34m.\u001b[0m\u001b[0mshape\u001b[0m\u001b[0;34m,\u001b[0m \u001b[0mt_all_new\u001b[0m\u001b[0;34m[\u001b[0m\u001b[0;34m:\u001b[0m\u001b[0;34m,\u001b[0m\u001b[0;36m0\u001b[0m\u001b[0;34m,\u001b[0m\u001b[0;34m:\u001b[0m\u001b[0;34m]\u001b[0m\u001b[0;34m.\u001b[0m\u001b[0mshape\u001b[0m\u001b[0;34m\u001b[0m\u001b[0m\n\u001b[0m",
      "\u001b[0;31mNameError\u001b[0m: name 'train_agg' is not defined"
     ]
    }
   ],
   "source": [
    "train_agg.shape, t_all_new[:,0,:].shape"
   ]
  },
  {
   "cell_type": "code",
   "execution_count": 14,
   "metadata": {
    "collapsed": true
   },
   "outputs": [],
   "source": [
    "num_days = 112"
   ]
  },
  {
   "cell_type": "code",
   "execution_count": 15,
   "metadata": {
    "collapsed": true
   },
   "outputs": [],
   "source": [
    "train_agg = np.concatenate([t_all_new[:,0,:].reshape(-1, 24), t_all[:30, 0, :].reshape(30*num_days, 24)])\n",
    "\n",
    "train_hvac = np.concatenate([t_all_new[:,1,:].reshape(-1, 24), t_all[:30, 1, :].reshape(30*num_days, 24)])\n",
    "train_fridge = np.concatenate([t_all_new[:,2,:].reshape(-1, 24), t_all[:30, 2, :].reshape(30*num_days, 24)])\n",
    "train_mw = np.concatenate([t_all_new[:,3,:].reshape(-1, 24), t_all[:30, 3, :].reshape(30*num_days, 24)])\n",
    "train_dw = np.concatenate([t_all_new[:,4,:].reshape(-1, 24), t_all[:30, 4, :].reshape(30*num_days, 24)])\n",
    "train_wm = np.concatenate([t_all_new[:,5,:].reshape(-1, 24), t_all[:30, 5, :].reshape(30*num_days, 24)])\n",
    "train_oven = np.concatenate([t_all_new[:,6,:].reshape(-1, 24), t_all[:30, 6, :].reshape(30*num_days, 24)])\n",
    "\n",
    "\n",
    "\n",
    "\n",
    "\n",
    "\n",
    "\n",
    "\n",
    "train_agg_new = train_hvac + train_fridge\n",
    "\n",
    "\n",
    "\n",
    "\n",
    "\n",
    "test_hvac = t_all[30:52, 1, :].reshape(22*num_days, 24)\n",
    "test_fridge = t_all[30:52, 2, :].reshape(22*num_days, 24)\n",
    "test_mw = t_all[30:52, 3, :].reshape(22*num_days, 24)\n",
    "test_dw = t_all[30:52, 4, :].reshape(22*num_days, 24)\n",
    "test_wm = t_all[30:52, 5, :].reshape(22*num_days, 24)\n",
    "test_oven = t_all[30:52, 6, :].reshape(22*num_days, 24)\n",
    "test_appliance = t_all[30:52, 1:, :].reshape(22*num_days, 6*24)\n",
    "\n",
    "\n",
    "\n",
    "\n",
    "\n",
    "\n",
    "\n",
    "\n",
    "\n",
    "test_agg = t_all[30:, 0, :].reshape(22*num_days, 24)\n",
    "test_agg_new = test_hvac + test_fridge\n",
    "\n"
   ]
  },
  {
   "cell_type": "code",
   "execution_count": 16,
   "metadata": {},
   "outputs": [
    {
     "data": {
      "text/plain": [
       "['aggregate', 'hvac', 'fridge', 'mw', 'dw', 'wm', 'oven']"
      ]
     },
     "execution_count": 16,
     "metadata": {},
     "output_type": "execute_result"
    }
   ],
   "source": [
    "APPLIANCES_ORDER"
   ]
  },
  {
   "cell_type": "code",
   "execution_count": 17,
   "metadata": {
    "collapsed": true
   },
   "outputs": [],
   "source": [
    "train_hvac_fridge = np.hstack([train_hvac, train_fridge])\n",
    "train_all_appliances = np.hstack([train_hvac, train_fridge, train_mw, train_dw, train_wm, train_oven])\n",
    "test_all_appliances = np.hstack([test_hvac, test_fridge, test_mw, test_dw, test_wm, test_oven])"
   ]
  },
  {
   "cell_type": "code",
   "execution_count": 18,
   "metadata": {},
   "outputs": [
    {
     "data": {
      "text/plain": [
       "((25760, 24), (2464, 144))"
      ]
     },
     "execution_count": 18,
     "metadata": {},
     "output_type": "execute_result"
    }
   ],
   "source": [
    "train_hvac.shape, test_all_appliances.shape"
   ]
  },
  {
   "cell_type": "code",
   "execution_count": 19,
   "metadata": {},
   "outputs": [
    {
     "data": {
      "text/plain": [
       "hvac      972.691387\n",
       "fridge     88.831789\n",
       "oven       16.751671\n",
       "dw         14.304646\n",
       "mw          6.215498\n",
       "wm          4.932920\n",
       "dtype: float64"
      ]
     },
     "execution_count": 19,
     "metadata": {},
     "output_type": "execute_result"
    }
   ],
   "source": [
    "ENERGY_MEAN = {APPLIANCES_ORDER[i]:np.mean(t_all[:, i, :]) for i in list(range(1, 7))}\n",
    "ENERGY_MEAN = pd.Series(ENERGY_MEAN)\n",
    "ENERGY_MEAN.sort_values(inplace=True, ascending=False)\n",
    "ENERGY_MEAN"
   ]
  },
  {
   "cell_type": "code",
   "execution_count": 20,
   "metadata": {
    "collapsed": true
   },
   "outputs": [],
   "source": [
    "num_iterations_dictionary = {'hvac':1200,'fridge':400,'mw':150,'dw':150,'oven':150, 'wm':150}\n",
    "\n"
   ]
  },
  {
   "cell_type": "code",
   "execution_count": 21,
   "metadata": {
    "collapsed": true
   },
   "outputs": [],
   "source": [
    "np.random.seed(0)\n",
    "from keras.layers.merge import Subtract, Minimum, Multiply, Maximum\n",
    "import keras.backend as K\n",
    "from keras.layers import Reshape\n",
    "\n",
    "layers = {}\n",
    "appliance=\"hvac\"\n"
   ]
  },
  {
   "cell_type": "code",
   "execution_count": null,
   "metadata": {
    "collapsed": true
   },
   "outputs": [],
   "source": []
  },
  {
   "cell_type": "code",
   "execution_count": 22,
   "metadata": {},
   "outputs": [
    {
     "name": "stdout",
     "output_type": "stream",
     "text": [
      "hvac Aggregate\n",
      "fridge Subtracting-hvac\n",
      "oven Subtracting-fridge\n",
      "dw Subtracting-oven\n",
      "mw Subtracting-dw\n",
      "wm Subtracting-mw\n"
     ]
    }
   ],
   "source": [
    "np.random.seed(0)\n",
    "layers['Aggregate'] = keras.layers.Input(shape=[24],name='Aggregate')\n",
    "for appliance_num, appliance in enumerate(ENERGY_MEAN.index[:]):\n",
    "    if appliance_num==0:\n",
    "        prev = 'Aggregate'\n",
    "        layers['{}-dense'.format(appliance)] = keras.layers.Dense(units=50,name='{}-layer-1'.format(appliance), activation='relu')(layers['Aggregate'])\n",
    "    else:\n",
    "        prev = 'Subtracting-{}'.format(ENERGY_MEAN.index[appliance_num-1])\n",
    "        layers['{}-dense'.format(appliance)] = keras.layers.Dense(units=50,name='{}-layer-1'.format(appliance), activation='relu')(layers[prev])\n",
    "    print(appliance, prev)\n",
    "    layers['{}-dropout'.format(appliance)] = keras.layers.Dropout(rate=0.05,name='Droput-{}'.format(appliance))(layers['{}-dense'.format(appliance)])\n",
    "    layers['{}-output'.format(appliance)]= keras.layers.Dense(units=24,name='{}-output'.format(appliance), activation='relu')(layers['{}-dropout'.format(appliance)])\n",
    "    layers['{}-clipped-output'.format(appliance)] = Minimum(name='Clipped-{}'.format(appliance))([layers['{}-output'.format(appliance)], layers['Aggregate']])\n",
    "    \n",
    "    # Subtracting out appliance from prev\n",
    "    layers['Subtracting-{}'.format(appliance)] = Subtract(name='Subtracting-{}'.format(appliance))([layers[prev], layers['{}-clipped-output'.format(appliance)]])\n",
    "    \n",
    "\n",
    "\n",
    "\n",
    "\n",
    "concat = keras.layers.merge([layers['{}-clipped-output'.format(appliance)] for appliance in APPLIANCES_ORDER[1:]], mode='concat',name='Concat-LAYER')\n",
    "#c = Reshape(target_shape=(-1,1))(concat)\n",
    "model = keras.Model(layers['Aggregate'], concat )\n",
    "\n",
    "with open('tree.pdf','wb') as f:\n",
    "    f.write(model_to_dot(model,  show_shapes=True, show_layer_names=True, rankdir='HB').create(prog='dot', format='pdf'))\n",
    "\n",
    "\n",
    "\n",
    "#SVG(model_to_dot(model,  show_shapes=False, show_layer_names=True, rankdir='HB').create(prog='dot', format='svg'))"
   ]
  },
  {
   "cell_type": "code",
   "execution_count": 23,
   "metadata": {},
   "outputs": [
    {
     "name": "stdout",
     "output_type": "stream",
     "text": [
      "__________________________________________________________________________________________________\n",
      "Layer (type)                    Output Shape         Param #     Connected to                     \n",
      "==================================================================================================\n",
      "Aggregate (InputLayer)          (None, 24)           0                                            \n",
      "__________________________________________________________________________________________________\n",
      "hvac-layer-1 (Dense)            (None, 50)           1250        Aggregate[0][0]                  \n",
      "__________________________________________________________________________________________________\n",
      "Droput-hvac (Dropout)           (None, 50)           0           hvac-layer-1[0][0]               \n",
      "__________________________________________________________________________________________________\n",
      "hvac-output (Dense)             (None, 24)           1224        Droput-hvac[0][0]                \n",
      "__________________________________________________________________________________________________\n",
      "Clipped-hvac (Minimum)          (None, 24)           0           hvac-output[0][0]                \n",
      "                                                                 Aggregate[0][0]                  \n",
      "__________________________________________________________________________________________________\n",
      "Subtracting-hvac (Subtract)     (None, 24)           0           Aggregate[0][0]                  \n",
      "                                                                 Clipped-hvac[0][0]               \n",
      "__________________________________________________________________________________________________\n",
      "fridge-layer-1 (Dense)          (None, 50)           1250        Subtracting-hvac[0][0]           \n",
      "__________________________________________________________________________________________________\n",
      "Droput-fridge (Dropout)         (None, 50)           0           fridge-layer-1[0][0]             \n",
      "__________________________________________________________________________________________________\n",
      "fridge-output (Dense)           (None, 24)           1224        Droput-fridge[0][0]              \n",
      "__________________________________________________________________________________________________\n",
      "Clipped-fridge (Minimum)        (None, 24)           0           fridge-output[0][0]              \n",
      "                                                                 Aggregate[0][0]                  \n",
      "__________________________________________________________________________________________________\n",
      "Subtracting-fridge (Subtract)   (None, 24)           0           Subtracting-hvac[0][0]           \n",
      "                                                                 Clipped-fridge[0][0]             \n",
      "__________________________________________________________________________________________________\n",
      "oven-layer-1 (Dense)            (None, 50)           1250        Subtracting-fridge[0][0]         \n",
      "__________________________________________________________________________________________________\n",
      "Droput-oven (Dropout)           (None, 50)           0           oven-layer-1[0][0]               \n",
      "__________________________________________________________________________________________________\n",
      "oven-output (Dense)             (None, 24)           1224        Droput-oven[0][0]                \n",
      "__________________________________________________________________________________________________\n",
      "Clipped-oven (Minimum)          (None, 24)           0           oven-output[0][0]                \n",
      "                                                                 Aggregate[0][0]                  \n",
      "__________________________________________________________________________________________________\n",
      "Subtracting-oven (Subtract)     (None, 24)           0           Subtracting-fridge[0][0]         \n",
      "                                                                 Clipped-oven[0][0]               \n",
      "__________________________________________________________________________________________________\n",
      "dw-layer-1 (Dense)              (None, 50)           1250        Subtracting-oven[0][0]           \n",
      "__________________________________________________________________________________________________\n",
      "Droput-dw (Dropout)             (None, 50)           0           dw-layer-1[0][0]                 \n",
      "__________________________________________________________________________________________________\n",
      "dw-output (Dense)               (None, 24)           1224        Droput-dw[0][0]                  \n",
      "__________________________________________________________________________________________________\n",
      "Clipped-dw (Minimum)            (None, 24)           0           dw-output[0][0]                  \n",
      "                                                                 Aggregate[0][0]                  \n",
      "__________________________________________________________________________________________________\n",
      "Subtracting-dw (Subtract)       (None, 24)           0           Subtracting-oven[0][0]           \n",
      "                                                                 Clipped-dw[0][0]                 \n",
      "__________________________________________________________________________________________________\n",
      "mw-layer-1 (Dense)              (None, 50)           1250        Subtracting-dw[0][0]             \n",
      "__________________________________________________________________________________________________\n",
      "Droput-mw (Dropout)             (None, 50)           0           mw-layer-1[0][0]                 \n",
      "__________________________________________________________________________________________________\n",
      "mw-output (Dense)               (None, 24)           1224        Droput-mw[0][0]                  \n",
      "__________________________________________________________________________________________________\n",
      "Clipped-mw (Minimum)            (None, 24)           0           mw-output[0][0]                  \n",
      "                                                                 Aggregate[0][0]                  \n",
      "__________________________________________________________________________________________________\n",
      "Subtracting-mw (Subtract)       (None, 24)           0           Subtracting-dw[0][0]             \n",
      "                                                                 Clipped-mw[0][0]                 \n",
      "__________________________________________________________________________________________________\n",
      "wm-layer-1 (Dense)              (None, 50)           1250        Subtracting-mw[0][0]             \n",
      "__________________________________________________________________________________________________\n",
      "Droput-wm (Dropout)             (None, 50)           0           wm-layer-1[0][0]                 \n",
      "__________________________________________________________________________________________________\n",
      "wm-output (Dense)               (None, 24)           1224        Droput-wm[0][0]                  \n",
      "__________________________________________________________________________________________________\n",
      "Clipped-wm (Minimum)            (None, 24)           0           wm-output[0][0]                  \n",
      "                                                                 Aggregate[0][0]                  \n",
      "__________________________________________________________________________________________________\n",
      "Concat-LAYER (Merge)            (None, 144)          0           Clipped-hvac[0][0]               \n",
      "                                                                 Clipped-fridge[0][0]             \n",
      "                                                                 Clipped-mw[0][0]                 \n",
      "                                                                 Clipped-dw[0][0]                 \n",
      "                                                                 Clipped-wm[0][0]                 \n",
      "                                                                 Clipped-oven[0][0]               \n",
      "==================================================================================================\n",
      "Total params: 14,844\n",
      "Trainable params: 14,844\n",
      "Non-trainable params: 0\n",
      "__________________________________________________________________________________________________\n"
     ]
    }
   ],
   "source": [
    "model.summary()"
   ]
  },
  {
   "cell_type": "code",
   "execution_count": null,
   "metadata": {
    "collapsed": true
   },
   "outputs": [],
   "source": []
  },
  {
   "cell_type": "code",
   "execution_count": 24,
   "metadata": {
    "collapsed": true
   },
   "outputs": [],
   "source": [
    "weights = np.ones_like(train_all_appliances)\n",
    "weights[train_all_appliances>20]=1.\n",
    "weights[train_all_appliances<20]=0.9"
   ]
  },
  {
   "cell_type": "code",
   "execution_count": 25,
   "metadata": {},
   "outputs": [
    {
     "data": {
      "text/plain": [
       "True"
      ]
     },
     "execution_count": 25,
     "metadata": {},
     "output_type": "execute_result"
    }
   ],
   "source": [
    "np.allclose(np.ones_like(weights)*weights, weights)"
   ]
  },
  {
   "cell_type": "code",
   "execution_count": 26,
   "metadata": {},
   "outputs": [
    {
     "ename": "ValueError",
     "evalue": "invalid number of arguments",
     "output_type": "error",
     "traceback": [
      "\u001b[0;31m---------------------------------------------------------------------------\u001b[0m",
      "\u001b[0;31mValueError\u001b[0m                                Traceback (most recent call last)",
      "\u001b[0;32m<ipython-input-26-2c92d7914577>\u001b[0m in \u001b[0;36m<module>\u001b[0;34m()\u001b[0m\n\u001b[0;32m----> 1\u001b[0;31m \u001b[0mK\u001b[0m\u001b[0;34m.\u001b[0m\u001b[0mnp\u001b[0m\u001b[0;34m.\u001b[0m\u001b[0mmultiply\u001b[0m\u001b[0;34m(\u001b[0m\u001b[0;34m)\u001b[0m\u001b[0;34m\u001b[0m\u001b[0m\n\u001b[0m",
      "\u001b[0;31mValueError\u001b[0m: invalid number of arguments"
     ]
    }
   ],
   "source": [
    "K.np.multiply()"
   ]
  },
  {
   "cell_type": "code",
   "execution_count": 79,
   "metadata": {},
   "outputs": [
    {
     "data": {
      "text/plain": [
       "(25760, 144)"
      ]
     },
     "execution_count": 79,
     "metadata": {},
     "output_type": "execute_result"
    }
   ],
   "source": [
    "RAM = np.ones_like(train_all_appliances)\n",
    "RAM.shape"
   ]
  },
  {
   "cell_type": "code",
   "execution_count": 74,
   "metadata": {},
   "outputs": [
    {
     "data": {
      "text/plain": [
       "<tf.Tensor 'mul_14:0' shape=(25760, 144) dtype=float32>"
      ]
     },
     "execution_count": 74,
     "metadata": {},
     "output_type": "execute_result"
    }
   ],
   "source": [
    "K.variable(weights)*K.variable(np.ones_like(weights))"
   ]
  },
  {
   "cell_type": "code",
   "execution_count": 80,
   "metadata": {
    "collapsed": true
   },
   "outputs": [],
   "source": [
    "def weighted_mae(y_true, y_pred, weights):\n",
    "    return K.mean(K.abs(y_true-y_pred)*weights)\n",
    "\n",
    "def weighted(y_true, y_pred):\n",
    "    #we = K.variable(weights, dtype='float64')\n",
    "    we = RAM\n",
    "    #we[y_true<10] = 0.8\n",
    "    a = K.abs(y_true-y_pred)\n",
    "    b = a*we\n",
    "    return K.mean(b)\n",
    "\n",
    "from functools import partial\n",
    "w = partial(weighted_mae, weights=weights)\n",
    "\n",
    "def weighted_mse(yTrue,yPred):\n",
    "\n",
    "    ones = K.ones_like(yTrue[0,:]) #a simple vector with ones shaped as (60,)\n",
    "    idx = K.cumsum(ones) #similar to a 'range(1,61)'\n",
    "\n",
    "\n",
    "    return K.mean((1/idx)*K.square(yTrue-yPred))"
   ]
  },
  {
   "cell_type": "code",
   "execution_count": 81,
   "metadata": {},
   "outputs": [
    {
     "data": {
      "text/plain": [
       "(25760, 144)"
      ]
     },
     "execution_count": 81,
     "metadata": {},
     "output_type": "execute_result"
    }
   ],
   "source": [
    "weights.shape"
   ]
  },
  {
   "cell_type": "code",
   "execution_count": 82,
   "metadata": {},
   "outputs": [
    {
     "data": {
      "text/plain": [
       "<tf.Tensor 'Mean_11:0' shape=() dtype=float64>"
      ]
     },
     "execution_count": 82,
     "metadata": {},
     "output_type": "execute_result"
    }
   ],
   "source": [
    "weighted(np.ones_like(weights),np.ones_like(weights))"
   ]
  },
  {
   "cell_type": "code",
   "execution_count": 83,
   "metadata": {},
   "outputs": [
    {
     "ename": "InvalidArgumentError",
     "evalue": "Incompatible shapes: [32,144] vs. [25760,144]\n\t [[Node: loss_12/Concat-LAYER_loss/mul = Mul[T=DT_FLOAT, _device=\"/job:localhost/replica:0/task:0/device:CPU:0\"](loss_12/Concat-LAYER_loss/Abs, loss_12/Concat-LAYER_loss/mul/y)]]\n\nCaused by op 'loss_12/Concat-LAYER_loss/mul', defined at:\n  File \"/Users/nipun/anaconda3/lib/python3.6/runpy.py\", line 193, in _run_module_as_main\n    \"__main__\", mod_spec)\n  File \"/Users/nipun/anaconda3/lib/python3.6/runpy.py\", line 85, in _run_code\n    exec(code, run_globals)\n  File \"/Users/nipun/anaconda3/lib/python3.6/site-packages/ipykernel_launcher.py\", line 16, in <module>\n    app.launch_new_instance()\n  File \"/Users/nipun/anaconda3/lib/python3.6/site-packages/traitlets/config/application.py\", line 658, in launch_instance\n    app.start()\n  File \"/Users/nipun/anaconda3/lib/python3.6/site-packages/ipykernel/kernelapp.py\", line 477, in start\n    ioloop.IOLoop.instance().start()\n  File \"/Users/nipun/anaconda3/lib/python3.6/site-packages/zmq/eventloop/ioloop.py\", line 177, in start\n    super(ZMQIOLoop, self).start()\n  File \"/Users/nipun/anaconda3/lib/python3.6/site-packages/tornado/ioloop.py\", line 888, in start\n    handler_func(fd_obj, events)\n  File \"/Users/nipun/anaconda3/lib/python3.6/site-packages/tornado/stack_context.py\", line 277, in null_wrapper\n    return fn(*args, **kwargs)\n  File \"/Users/nipun/anaconda3/lib/python3.6/site-packages/zmq/eventloop/zmqstream.py\", line 440, in _handle_events\n    self._handle_recv()\n  File \"/Users/nipun/anaconda3/lib/python3.6/site-packages/zmq/eventloop/zmqstream.py\", line 472, in _handle_recv\n    self._run_callback(callback, msg)\n  File \"/Users/nipun/anaconda3/lib/python3.6/site-packages/zmq/eventloop/zmqstream.py\", line 414, in _run_callback\n    callback(*args, **kwargs)\n  File \"/Users/nipun/anaconda3/lib/python3.6/site-packages/tornado/stack_context.py\", line 277, in null_wrapper\n    return fn(*args, **kwargs)\n  File \"/Users/nipun/anaconda3/lib/python3.6/site-packages/ipykernel/kernelbase.py\", line 283, in dispatcher\n    return self.dispatch_shell(stream, msg)\n  File \"/Users/nipun/anaconda3/lib/python3.6/site-packages/ipykernel/kernelbase.py\", line 235, in dispatch_shell\n    handler(stream, idents, msg)\n  File \"/Users/nipun/anaconda3/lib/python3.6/site-packages/ipykernel/kernelbase.py\", line 399, in execute_request\n    user_expressions, allow_stdin)\n  File \"/Users/nipun/anaconda3/lib/python3.6/site-packages/ipykernel/ipkernel.py\", line 196, in do_execute\n    res = shell.run_cell(code, store_history=store_history, silent=silent)\n  File \"/Users/nipun/anaconda3/lib/python3.6/site-packages/ipykernel/zmqshell.py\", line 533, in run_cell\n    return super(ZMQInteractiveShell, self).run_cell(*args, **kwargs)\n  File \"/Users/nipun/anaconda3/lib/python3.6/site-packages/IPython/core/interactiveshell.py\", line 2698, in run_cell\n    interactivity=interactivity, compiler=compiler, result=result)\n  File \"/Users/nipun/anaconda3/lib/python3.6/site-packages/IPython/core/interactiveshell.py\", line 2802, in run_ast_nodes\n    if self.run_code(code, result):\n  File \"/Users/nipun/anaconda3/lib/python3.6/site-packages/IPython/core/interactiveshell.py\", line 2862, in run_code\n    exec(code_obj, self.user_global_ns, self.user_ns)\n  File \"<ipython-input-83-82259766bbc6>\", line 5, in <module>\n    model.compile('adam',weighted)\n  File \"/Users/nipun/anaconda3/lib/python3.6/site-packages/keras/engine/training.py\", line 860, in compile\n    sample_weight, mask)\n  File \"/Users/nipun/anaconda3/lib/python3.6/site-packages/keras/engine/training.py\", line 459, in weighted\n    score_array = fn(y_true, y_pred)\n  File \"<ipython-input-80-2bc6e191bccd>\", line 9, in weighted\n    b = a*we\n  File \"/Users/nipun/anaconda3/lib/python3.6/site-packages/tensorflow/python/ops/math_ops.py\", line 894, in binary_op_wrapper\n    return func(x, y, name=name)\n  File \"/Users/nipun/anaconda3/lib/python3.6/site-packages/tensorflow/python/ops/math_ops.py\", line 1117, in _mul_dispatch\n    return gen_math_ops._mul(x, y, name=name)\n  File \"/Users/nipun/anaconda3/lib/python3.6/site-packages/tensorflow/python/ops/gen_math_ops.py\", line 2726, in _mul\n    \"Mul\", x=x, y=y, name=name)\n  File \"/Users/nipun/anaconda3/lib/python3.6/site-packages/tensorflow/python/framework/op_def_library.py\", line 787, in _apply_op_helper\n    op_def=op_def)\n  File \"/Users/nipun/anaconda3/lib/python3.6/site-packages/tensorflow/python/framework/ops.py\", line 2956, in create_op\n    op_def=op_def)\n  File \"/Users/nipun/anaconda3/lib/python3.6/site-packages/tensorflow/python/framework/ops.py\", line 1470, in __init__\n    self._traceback = self._graph._extract_stack()  # pylint: disable=protected-access\n\nInvalidArgumentError (see above for traceback): Incompatible shapes: [32,144] vs. [25760,144]\n\t [[Node: loss_12/Concat-LAYER_loss/mul = Mul[T=DT_FLOAT, _device=\"/job:localhost/replica:0/task:0/device:CPU:0\"](loss_12/Concat-LAYER_loss/Abs, loss_12/Concat-LAYER_loss/mul/y)]]\n",
     "output_type": "error",
     "traceback": [
      "\u001b[0;31m---------------------------------------------------------------------------\u001b[0m",
      "\u001b[0;31mInvalidArgumentError\u001b[0m                      Traceback (most recent call last)",
      "\u001b[0;32m~/anaconda3/lib/python3.6/site-packages/tensorflow/python/client/session.py\u001b[0m in \u001b[0;36m_do_call\u001b[0;34m(self, fn, *args)\u001b[0m\n\u001b[1;32m   1322\u001b[0m     \u001b[0;32mtry\u001b[0m\u001b[0;34m:\u001b[0m\u001b[0;34m\u001b[0m\u001b[0m\n\u001b[0;32m-> 1323\u001b[0;31m       \u001b[0;32mreturn\u001b[0m \u001b[0mfn\u001b[0m\u001b[0;34m(\u001b[0m\u001b[0;34m*\u001b[0m\u001b[0margs\u001b[0m\u001b[0;34m)\u001b[0m\u001b[0;34m\u001b[0m\u001b[0m\n\u001b[0m\u001b[1;32m   1324\u001b[0m     \u001b[0;32mexcept\u001b[0m \u001b[0merrors\u001b[0m\u001b[0;34m.\u001b[0m\u001b[0mOpError\u001b[0m \u001b[0;32mas\u001b[0m \u001b[0me\u001b[0m\u001b[0;34m:\u001b[0m\u001b[0;34m\u001b[0m\u001b[0m\n",
      "\u001b[0;32m~/anaconda3/lib/python3.6/site-packages/tensorflow/python/client/session.py\u001b[0m in \u001b[0;36m_run_fn\u001b[0;34m(session, feed_dict, fetch_list, target_list, options, run_metadata)\u001b[0m\n\u001b[1;32m   1301\u001b[0m                                    \u001b[0mfeed_dict\u001b[0m\u001b[0;34m,\u001b[0m \u001b[0mfetch_list\u001b[0m\u001b[0;34m,\u001b[0m \u001b[0mtarget_list\u001b[0m\u001b[0;34m,\u001b[0m\u001b[0;34m\u001b[0m\u001b[0m\n\u001b[0;32m-> 1302\u001b[0;31m                                    status, run_metadata)\n\u001b[0m\u001b[1;32m   1303\u001b[0m \u001b[0;34m\u001b[0m\u001b[0m\n",
      "\u001b[0;32m~/anaconda3/lib/python3.6/site-packages/tensorflow/python/framework/errors_impl.py\u001b[0m in \u001b[0;36m__exit__\u001b[0;34m(self, type_arg, value_arg, traceback_arg)\u001b[0m\n\u001b[1;32m    472\u001b[0m             \u001b[0mcompat\u001b[0m\u001b[0;34m.\u001b[0m\u001b[0mas_text\u001b[0m\u001b[0;34m(\u001b[0m\u001b[0mc_api\u001b[0m\u001b[0;34m.\u001b[0m\u001b[0mTF_Message\u001b[0m\u001b[0;34m(\u001b[0m\u001b[0mself\u001b[0m\u001b[0;34m.\u001b[0m\u001b[0mstatus\u001b[0m\u001b[0;34m.\u001b[0m\u001b[0mstatus\u001b[0m\u001b[0;34m)\u001b[0m\u001b[0;34m)\u001b[0m\u001b[0;34m,\u001b[0m\u001b[0;34m\u001b[0m\u001b[0m\n\u001b[0;32m--> 473\u001b[0;31m             c_api.TF_GetCode(self.status.status))\n\u001b[0m\u001b[1;32m    474\u001b[0m     \u001b[0;31m# Delete the underlying status object from memory otherwise it stays alive\u001b[0m\u001b[0;34m\u001b[0m\u001b[0;34m\u001b[0m\u001b[0m\n",
      "\u001b[0;31mInvalidArgumentError\u001b[0m: Incompatible shapes: [32,144] vs. [25760,144]\n\t [[Node: loss_12/Concat-LAYER_loss/mul = Mul[T=DT_FLOAT, _device=\"/job:localhost/replica:0/task:0/device:CPU:0\"](loss_12/Concat-LAYER_loss/Abs, loss_12/Concat-LAYER_loss/mul/y)]]",
      "\nDuring handling of the above exception, another exception occurred:\n",
      "\u001b[0;31mInvalidArgumentError\u001b[0m                      Traceback (most recent call last)",
      "\u001b[0;32m<ipython-input-83-82259766bbc6>\u001b[0m in \u001b[0;36m<module>\u001b[0;34m()\u001b[0m\n\u001b[1;32m      6\u001b[0m \u001b[0;34m\u001b[0m\u001b[0m\n\u001b[1;32m      7\u001b[0m \u001b[0;32mfor\u001b[0m \u001b[0me\u001b[0m \u001b[0;32min\u001b[0m \u001b[0mrange\u001b[0m\u001b[0;34m(\u001b[0m\u001b[0;36m300\u001b[0m\u001b[0;34m)\u001b[0m\u001b[0;34m:\u001b[0m\u001b[0;34m\u001b[0m\u001b[0m\n\u001b[0;32m----> 8\u001b[0;31m     \u001b[0mmodel\u001b[0m\u001b[0;34m.\u001b[0m\u001b[0mfit\u001b[0m\u001b[0;34m(\u001b[0m\u001b[0mtrain_agg\u001b[0m\u001b[0;34m,\u001b[0m \u001b[0mtrain_all_appliances\u001b[0m\u001b[0;34m,\u001b[0m \u001b[0mepochs\u001b[0m\u001b[0;34m=\u001b[0m\u001b[0;36m1\u001b[0m\u001b[0;34m,\u001b[0m \u001b[0mvalidation_split\u001b[0m\u001b[0;34m=\u001b[0m\u001b[0;36m0.1\u001b[0m\u001b[0;34m,\u001b[0m \u001b[0mverbose\u001b[0m\u001b[0;34m=\u001b[0m\u001b[0;36m0\u001b[0m\u001b[0;34m)\u001b[0m\u001b[0;34m\u001b[0m\u001b[0m\n\u001b[0m\u001b[1;32m      9\u001b[0m     \u001b[0mpred_all\u001b[0m \u001b[0;34m=\u001b[0m \u001b[0mmodel\u001b[0m\u001b[0;34m.\u001b[0m\u001b[0mpredict\u001b[0m\u001b[0;34m(\u001b[0m\u001b[0mtest_agg\u001b[0m\u001b[0;34m)\u001b[0m\u001b[0;34m\u001b[0m\u001b[0m\n\u001b[1;32m     10\u001b[0m     \u001b[0mpred_hvac\u001b[0m \u001b[0;34m=\u001b[0m\u001b[0mpred_all\u001b[0m\u001b[0;34m[\u001b[0m\u001b[0;34m:\u001b[0m\u001b[0;34m,\u001b[0m \u001b[0;34m:\u001b[0m\u001b[0;36m24\u001b[0m\u001b[0;34m]\u001b[0m\u001b[0;34m\u001b[0m\u001b[0m\n",
      "\u001b[0;32m~/anaconda3/lib/python3.6/site-packages/keras/engine/training.py\u001b[0m in \u001b[0;36mfit\u001b[0;34m(self, x, y, batch_size, epochs, verbose, callbacks, validation_split, validation_data, shuffle, class_weight, sample_weight, initial_epoch, steps_per_epoch, validation_steps, **kwargs)\u001b[0m\n\u001b[1;32m   1655\u001b[0m                               \u001b[0minitial_epoch\u001b[0m\u001b[0;34m=\u001b[0m\u001b[0minitial_epoch\u001b[0m\u001b[0;34m,\u001b[0m\u001b[0;34m\u001b[0m\u001b[0m\n\u001b[1;32m   1656\u001b[0m                               \u001b[0msteps_per_epoch\u001b[0m\u001b[0;34m=\u001b[0m\u001b[0msteps_per_epoch\u001b[0m\u001b[0;34m,\u001b[0m\u001b[0;34m\u001b[0m\u001b[0m\n\u001b[0;32m-> 1657\u001b[0;31m                               validation_steps=validation_steps)\n\u001b[0m\u001b[1;32m   1658\u001b[0m \u001b[0;34m\u001b[0m\u001b[0m\n\u001b[1;32m   1659\u001b[0m     def evaluate(self, x=None, y=None,\n",
      "\u001b[0;32m~/anaconda3/lib/python3.6/site-packages/keras/engine/training.py\u001b[0m in \u001b[0;36m_fit_loop\u001b[0;34m(self, f, ins, out_labels, batch_size, epochs, verbose, callbacks, val_f, val_ins, shuffle, callback_metrics, initial_epoch, steps_per_epoch, validation_steps)\u001b[0m\n\u001b[1;32m   1211\u001b[0m                     \u001b[0mbatch_logs\u001b[0m\u001b[0;34m[\u001b[0m\u001b[0;34m'size'\u001b[0m\u001b[0;34m]\u001b[0m \u001b[0;34m=\u001b[0m \u001b[0mlen\u001b[0m\u001b[0;34m(\u001b[0m\u001b[0mbatch_ids\u001b[0m\u001b[0;34m)\u001b[0m\u001b[0;34m\u001b[0m\u001b[0m\n\u001b[1;32m   1212\u001b[0m                     \u001b[0mcallbacks\u001b[0m\u001b[0;34m.\u001b[0m\u001b[0mon_batch_begin\u001b[0m\u001b[0;34m(\u001b[0m\u001b[0mbatch_index\u001b[0m\u001b[0;34m,\u001b[0m \u001b[0mbatch_logs\u001b[0m\u001b[0;34m)\u001b[0m\u001b[0;34m\u001b[0m\u001b[0m\n\u001b[0;32m-> 1213\u001b[0;31m                     \u001b[0mouts\u001b[0m \u001b[0;34m=\u001b[0m \u001b[0mf\u001b[0m\u001b[0;34m(\u001b[0m\u001b[0mins_batch\u001b[0m\u001b[0;34m)\u001b[0m\u001b[0;34m\u001b[0m\u001b[0m\n\u001b[0m\u001b[1;32m   1214\u001b[0m                     \u001b[0;32mif\u001b[0m \u001b[0;32mnot\u001b[0m \u001b[0misinstance\u001b[0m\u001b[0;34m(\u001b[0m\u001b[0mouts\u001b[0m\u001b[0;34m,\u001b[0m \u001b[0mlist\u001b[0m\u001b[0;34m)\u001b[0m\u001b[0;34m:\u001b[0m\u001b[0;34m\u001b[0m\u001b[0m\n\u001b[1;32m   1215\u001b[0m                         \u001b[0mouts\u001b[0m \u001b[0;34m=\u001b[0m \u001b[0;34m[\u001b[0m\u001b[0mouts\u001b[0m\u001b[0;34m]\u001b[0m\u001b[0;34m\u001b[0m\u001b[0m\n",
      "\u001b[0;32m~/anaconda3/lib/python3.6/site-packages/keras/backend/tensorflow_backend.py\u001b[0m in \u001b[0;36m__call__\u001b[0;34m(self, inputs)\u001b[0m\n\u001b[1;32m   2355\u001b[0m         \u001b[0msession\u001b[0m \u001b[0;34m=\u001b[0m \u001b[0mget_session\u001b[0m\u001b[0;34m(\u001b[0m\u001b[0;34m)\u001b[0m\u001b[0;34m\u001b[0m\u001b[0m\n\u001b[1;32m   2356\u001b[0m         updated = session.run(fetches=fetches, feed_dict=feed_dict,\n\u001b[0;32m-> 2357\u001b[0;31m                               **self.session_kwargs)\n\u001b[0m\u001b[1;32m   2358\u001b[0m         \u001b[0;32mreturn\u001b[0m \u001b[0mupdated\u001b[0m\u001b[0;34m[\u001b[0m\u001b[0;34m:\u001b[0m\u001b[0mlen\u001b[0m\u001b[0;34m(\u001b[0m\u001b[0mself\u001b[0m\u001b[0;34m.\u001b[0m\u001b[0moutputs\u001b[0m\u001b[0;34m)\u001b[0m\u001b[0;34m]\u001b[0m\u001b[0;34m\u001b[0m\u001b[0m\n\u001b[1;32m   2359\u001b[0m \u001b[0;34m\u001b[0m\u001b[0m\n",
      "\u001b[0;32m~/anaconda3/lib/python3.6/site-packages/tensorflow/python/client/session.py\u001b[0m in \u001b[0;36mrun\u001b[0;34m(self, fetches, feed_dict, options, run_metadata)\u001b[0m\n\u001b[1;32m    887\u001b[0m     \u001b[0;32mtry\u001b[0m\u001b[0;34m:\u001b[0m\u001b[0;34m\u001b[0m\u001b[0m\n\u001b[1;32m    888\u001b[0m       result = self._run(None, fetches, feed_dict, options_ptr,\n\u001b[0;32m--> 889\u001b[0;31m                          run_metadata_ptr)\n\u001b[0m\u001b[1;32m    890\u001b[0m       \u001b[0;32mif\u001b[0m \u001b[0mrun_metadata\u001b[0m\u001b[0;34m:\u001b[0m\u001b[0;34m\u001b[0m\u001b[0m\n\u001b[1;32m    891\u001b[0m         \u001b[0mproto_data\u001b[0m \u001b[0;34m=\u001b[0m \u001b[0mtf_session\u001b[0m\u001b[0;34m.\u001b[0m\u001b[0mTF_GetBuffer\u001b[0m\u001b[0;34m(\u001b[0m\u001b[0mrun_metadata_ptr\u001b[0m\u001b[0;34m)\u001b[0m\u001b[0;34m\u001b[0m\u001b[0m\n",
      "\u001b[0;32m~/anaconda3/lib/python3.6/site-packages/tensorflow/python/client/session.py\u001b[0m in \u001b[0;36m_run\u001b[0;34m(self, handle, fetches, feed_dict, options, run_metadata)\u001b[0m\n\u001b[1;32m   1118\u001b[0m     \u001b[0;32mif\u001b[0m \u001b[0mfinal_fetches\u001b[0m \u001b[0;32mor\u001b[0m \u001b[0mfinal_targets\u001b[0m \u001b[0;32mor\u001b[0m \u001b[0;34m(\u001b[0m\u001b[0mhandle\u001b[0m \u001b[0;32mand\u001b[0m \u001b[0mfeed_dict_tensor\u001b[0m\u001b[0;34m)\u001b[0m\u001b[0;34m:\u001b[0m\u001b[0;34m\u001b[0m\u001b[0m\n\u001b[1;32m   1119\u001b[0m       results = self._do_run(handle, final_targets, final_fetches,\n\u001b[0;32m-> 1120\u001b[0;31m                              feed_dict_tensor, options, run_metadata)\n\u001b[0m\u001b[1;32m   1121\u001b[0m     \u001b[0;32melse\u001b[0m\u001b[0;34m:\u001b[0m\u001b[0;34m\u001b[0m\u001b[0m\n\u001b[1;32m   1122\u001b[0m       \u001b[0mresults\u001b[0m \u001b[0;34m=\u001b[0m \u001b[0;34m[\u001b[0m\u001b[0;34m]\u001b[0m\u001b[0;34m\u001b[0m\u001b[0m\n",
      "\u001b[0;32m~/anaconda3/lib/python3.6/site-packages/tensorflow/python/client/session.py\u001b[0m in \u001b[0;36m_do_run\u001b[0;34m(self, handle, target_list, fetch_list, feed_dict, options, run_metadata)\u001b[0m\n\u001b[1;32m   1315\u001b[0m     \u001b[0;32mif\u001b[0m \u001b[0mhandle\u001b[0m \u001b[0;32mis\u001b[0m \u001b[0;32mNone\u001b[0m\u001b[0;34m:\u001b[0m\u001b[0;34m\u001b[0m\u001b[0m\n\u001b[1;32m   1316\u001b[0m       return self._do_call(_run_fn, self._session, feeds, fetches, targets,\n\u001b[0;32m-> 1317\u001b[0;31m                            options, run_metadata)\n\u001b[0m\u001b[1;32m   1318\u001b[0m     \u001b[0;32melse\u001b[0m\u001b[0;34m:\u001b[0m\u001b[0;34m\u001b[0m\u001b[0m\n\u001b[1;32m   1319\u001b[0m       \u001b[0;32mreturn\u001b[0m \u001b[0mself\u001b[0m\u001b[0;34m.\u001b[0m\u001b[0m_do_call\u001b[0m\u001b[0;34m(\u001b[0m\u001b[0m_prun_fn\u001b[0m\u001b[0;34m,\u001b[0m \u001b[0mself\u001b[0m\u001b[0;34m.\u001b[0m\u001b[0m_session\u001b[0m\u001b[0;34m,\u001b[0m \u001b[0mhandle\u001b[0m\u001b[0;34m,\u001b[0m \u001b[0mfeeds\u001b[0m\u001b[0;34m,\u001b[0m \u001b[0mfetches\u001b[0m\u001b[0;34m)\u001b[0m\u001b[0;34m\u001b[0m\u001b[0m\n",
      "\u001b[0;32m~/anaconda3/lib/python3.6/site-packages/tensorflow/python/client/session.py\u001b[0m in \u001b[0;36m_do_call\u001b[0;34m(self, fn, *args)\u001b[0m\n\u001b[1;32m   1334\u001b[0m         \u001b[0;32mexcept\u001b[0m \u001b[0mKeyError\u001b[0m\u001b[0;34m:\u001b[0m\u001b[0;34m\u001b[0m\u001b[0m\n\u001b[1;32m   1335\u001b[0m           \u001b[0;32mpass\u001b[0m\u001b[0;34m\u001b[0m\u001b[0m\n\u001b[0;32m-> 1336\u001b[0;31m       \u001b[0;32mraise\u001b[0m \u001b[0mtype\u001b[0m\u001b[0;34m(\u001b[0m\u001b[0me\u001b[0m\u001b[0;34m)\u001b[0m\u001b[0;34m(\u001b[0m\u001b[0mnode_def\u001b[0m\u001b[0;34m,\u001b[0m \u001b[0mop\u001b[0m\u001b[0;34m,\u001b[0m \u001b[0mmessage\u001b[0m\u001b[0;34m)\u001b[0m\u001b[0;34m\u001b[0m\u001b[0m\n\u001b[0m\u001b[1;32m   1337\u001b[0m \u001b[0;34m\u001b[0m\u001b[0m\n\u001b[1;32m   1338\u001b[0m   \u001b[0;32mdef\u001b[0m \u001b[0m_extend_graph\u001b[0m\u001b[0;34m(\u001b[0m\u001b[0mself\u001b[0m\u001b[0;34m)\u001b[0m\u001b[0;34m:\u001b[0m\u001b[0;34m\u001b[0m\u001b[0m\n",
      "\u001b[0;31mInvalidArgumentError\u001b[0m: Incompatible shapes: [32,144] vs. [25760,144]\n\t [[Node: loss_12/Concat-LAYER_loss/mul = Mul[T=DT_FLOAT, _device=\"/job:localhost/replica:0/task:0/device:CPU:0\"](loss_12/Concat-LAYER_loss/Abs, loss_12/Concat-LAYER_loss/mul/y)]]\n\nCaused by op 'loss_12/Concat-LAYER_loss/mul', defined at:\n  File \"/Users/nipun/anaconda3/lib/python3.6/runpy.py\", line 193, in _run_module_as_main\n    \"__main__\", mod_spec)\n  File \"/Users/nipun/anaconda3/lib/python3.6/runpy.py\", line 85, in _run_code\n    exec(code, run_globals)\n  File \"/Users/nipun/anaconda3/lib/python3.6/site-packages/ipykernel_launcher.py\", line 16, in <module>\n    app.launch_new_instance()\n  File \"/Users/nipun/anaconda3/lib/python3.6/site-packages/traitlets/config/application.py\", line 658, in launch_instance\n    app.start()\n  File \"/Users/nipun/anaconda3/lib/python3.6/site-packages/ipykernel/kernelapp.py\", line 477, in start\n    ioloop.IOLoop.instance().start()\n  File \"/Users/nipun/anaconda3/lib/python3.6/site-packages/zmq/eventloop/ioloop.py\", line 177, in start\n    super(ZMQIOLoop, self).start()\n  File \"/Users/nipun/anaconda3/lib/python3.6/site-packages/tornado/ioloop.py\", line 888, in start\n    handler_func(fd_obj, events)\n  File \"/Users/nipun/anaconda3/lib/python3.6/site-packages/tornado/stack_context.py\", line 277, in null_wrapper\n    return fn(*args, **kwargs)\n  File \"/Users/nipun/anaconda3/lib/python3.6/site-packages/zmq/eventloop/zmqstream.py\", line 440, in _handle_events\n    self._handle_recv()\n  File \"/Users/nipun/anaconda3/lib/python3.6/site-packages/zmq/eventloop/zmqstream.py\", line 472, in _handle_recv\n    self._run_callback(callback, msg)\n  File \"/Users/nipun/anaconda3/lib/python3.6/site-packages/zmq/eventloop/zmqstream.py\", line 414, in _run_callback\n    callback(*args, **kwargs)\n  File \"/Users/nipun/anaconda3/lib/python3.6/site-packages/tornado/stack_context.py\", line 277, in null_wrapper\n    return fn(*args, **kwargs)\n  File \"/Users/nipun/anaconda3/lib/python3.6/site-packages/ipykernel/kernelbase.py\", line 283, in dispatcher\n    return self.dispatch_shell(stream, msg)\n  File \"/Users/nipun/anaconda3/lib/python3.6/site-packages/ipykernel/kernelbase.py\", line 235, in dispatch_shell\n    handler(stream, idents, msg)\n  File \"/Users/nipun/anaconda3/lib/python3.6/site-packages/ipykernel/kernelbase.py\", line 399, in execute_request\n    user_expressions, allow_stdin)\n  File \"/Users/nipun/anaconda3/lib/python3.6/site-packages/ipykernel/ipkernel.py\", line 196, in do_execute\n    res = shell.run_cell(code, store_history=store_history, silent=silent)\n  File \"/Users/nipun/anaconda3/lib/python3.6/site-packages/ipykernel/zmqshell.py\", line 533, in run_cell\n    return super(ZMQInteractiveShell, self).run_cell(*args, **kwargs)\n  File \"/Users/nipun/anaconda3/lib/python3.6/site-packages/IPython/core/interactiveshell.py\", line 2698, in run_cell\n    interactivity=interactivity, compiler=compiler, result=result)\n  File \"/Users/nipun/anaconda3/lib/python3.6/site-packages/IPython/core/interactiveshell.py\", line 2802, in run_ast_nodes\n    if self.run_code(code, result):\n  File \"/Users/nipun/anaconda3/lib/python3.6/site-packages/IPython/core/interactiveshell.py\", line 2862, in run_code\n    exec(code_obj, self.user_global_ns, self.user_ns)\n  File \"<ipython-input-83-82259766bbc6>\", line 5, in <module>\n    model.compile('adam',weighted)\n  File \"/Users/nipun/anaconda3/lib/python3.6/site-packages/keras/engine/training.py\", line 860, in compile\n    sample_weight, mask)\n  File \"/Users/nipun/anaconda3/lib/python3.6/site-packages/keras/engine/training.py\", line 459, in weighted\n    score_array = fn(y_true, y_pred)\n  File \"<ipython-input-80-2bc6e191bccd>\", line 9, in weighted\n    b = a*we\n  File \"/Users/nipun/anaconda3/lib/python3.6/site-packages/tensorflow/python/ops/math_ops.py\", line 894, in binary_op_wrapper\n    return func(x, y, name=name)\n  File \"/Users/nipun/anaconda3/lib/python3.6/site-packages/tensorflow/python/ops/math_ops.py\", line 1117, in _mul_dispatch\n    return gen_math_ops._mul(x, y, name=name)\n  File \"/Users/nipun/anaconda3/lib/python3.6/site-packages/tensorflow/python/ops/gen_math_ops.py\", line 2726, in _mul\n    \"Mul\", x=x, y=y, name=name)\n  File \"/Users/nipun/anaconda3/lib/python3.6/site-packages/tensorflow/python/framework/op_def_library.py\", line 787, in _apply_op_helper\n    op_def=op_def)\n  File \"/Users/nipun/anaconda3/lib/python3.6/site-packages/tensorflow/python/framework/ops.py\", line 2956, in create_op\n    op_def=op_def)\n  File \"/Users/nipun/anaconda3/lib/python3.6/site-packages/tensorflow/python/framework/ops.py\", line 1470, in __init__\n    self._traceback = self._graph._extract_stack()  # pylint: disable=protected-access\n\nInvalidArgumentError (see above for traceback): Incompatible shapes: [32,144] vs. [25760,144]\n\t [[Node: loss_12/Concat-LAYER_loss/mul = Mul[T=DT_FLOAT, _device=\"/job:localhost/replica:0/task:0/device:CPU:0\"](loss_12/Concat-LAYER_loss/Abs, loss_12/Concat-LAYER_loss/mul/y)]]\n"
     ]
    }
   ],
   "source": [
    "np.random.seed(0)\n",
    "loss = {}\n",
    "loss_appliance = {}\n",
    "model = keras.Model(layers['Aggregate'], concat )\n",
    "model.compile('adam',weighted)\n",
    "\n",
    "for e in range(300):\n",
    "    model.fit(train_agg, train_all_appliances, epochs=1, validation_split=0.1, verbose=0)\n",
    "    pred_all = model.predict(test_agg)\n",
    "    pred_hvac =pred_all[:, :24]\n",
    "    pred_fridge = pred_all[:, 24:48]\n",
    "    pred_mw = pred_all[:, 48:72]\n",
    "    pred_dw = pred_all[:, 72:96]\n",
    "    pred_wm = pred_all[:, 96:120]\n",
    "    pred_oven = pred_all[:, 120:]\n",
    "\n",
    "\n",
    "\n",
    "\n",
    "\n",
    "\n",
    "\n",
    "\n",
    "    from sklearn.metrics import mean_absolute_error\n",
    "\n",
    "    mae = {}\n",
    "    for appliance in APPLIANCES_ORDER[1:]:\n",
    "        mae[appliance] = mean_absolute_error(eval(\"test_\"+appliance), eval(\"pred_\"+appliance))\n",
    "    loss_appliance[e] = mae\n",
    "    \n",
    "    print(e, pd.Series(mae).mean())"
   ]
  },
  {
   "cell_type": "code",
   "execution_count": null,
   "metadata": {
    "collapsed": true
   },
   "outputs": [],
   "source": []
  },
  {
   "cell_type": "code",
   "execution_count": null,
   "metadata": {
    "collapsed": true
   },
   "outputs": [],
   "source": []
  },
  {
   "cell_type": "code",
   "execution_count": 102,
   "metadata": {},
   "outputs": [
    {
     "data": {
      "text/plain": [
       "<matplotlib.axes._subplots.AxesSubplot at 0x1a4b83d588>"
      ]
     },
     "execution_count": 102,
     "metadata": {},
     "output_type": "execute_result"
    },
    {
     "data": {
      "image/png": "[encoded data removed]",
      "text/plain": [
       "<matplotlib.figure.Figure at 0x1a4afc3e10>"
      ]
     },
     "metadata": {},
     "output_type": "display_data"
    }
   ],
   "source": [
    "pd.DataFrame(loss_appliance).T['hvac'].plot()"
   ]
  },
  {
   "cell_type": "code",
   "execution_count": 103,
   "metadata": {},
   "outputs": [
    {
     "data": {
      "text/html": [
       "<div>\n",
       "<style>\n",
       "    .dataframe thead tr:only-child th {\n",
       "        text-align: right;\n",
       "    }\n",
       "\n",
       "    .dataframe thead th {\n",
       "        text-align: left;\n",
       "    }\n",
       "\n",
       "    .dataframe tbody tr th {\n",
       "        vertical-align: top;\n",
       "    }\n",
       "</style>\n",
       "<table border=\"1\" class=\"dataframe\">\n",
       "  <thead>\n",
       "    <tr style=\"text-align: right;\">\n",
       "      <th></th>\n",
       "      <th>dw</th>\n",
       "      <th>fridge</th>\n",
       "      <th>hvac</th>\n",
       "      <th>mw</th>\n",
       "      <th>oven</th>\n",
       "      <th>wm</th>\n",
       "    </tr>\n",
       "  </thead>\n",
       "  <tbody>\n",
       "    <tr>\n",
       "      <th>0</th>\n",
       "      <td>14.352724</td>\n",
       "      <td>45.489174</td>\n",
       "      <td>230.820219</td>\n",
       "      <td>6.221469</td>\n",
       "      <td>18.589056</td>\n",
       "      <td>5.620691</td>\n",
       "    </tr>\n",
       "    <tr>\n",
       "      <th>1</th>\n",
       "      <td>14.265518</td>\n",
       "      <td>47.206593</td>\n",
       "      <td>232.580727</td>\n",
       "      <td>6.181179</td>\n",
       "      <td>18.508802</td>\n",
       "      <td>5.555157</td>\n",
       "    </tr>\n",
       "    <tr>\n",
       "      <th>2</th>\n",
       "      <td>14.291476</td>\n",
       "      <td>51.271829</td>\n",
       "      <td>194.803381</td>\n",
       "      <td>6.126442</td>\n",
       "      <td>18.560780</td>\n",
       "      <td>5.575552</td>\n",
       "    </tr>\n",
       "    <tr>\n",
       "      <th>3</th>\n",
       "      <td>14.208875</td>\n",
       "      <td>54.838532</td>\n",
       "      <td>140.155737</td>\n",
       "      <td>6.058088</td>\n",
       "      <td>18.511094</td>\n",
       "      <td>5.516503</td>\n",
       "    </tr>\n",
       "    <tr>\n",
       "      <th>4</th>\n",
       "      <td>14.209742</td>\n",
       "      <td>50.783679</td>\n",
       "      <td>136.677215</td>\n",
       "      <td>6.057947</td>\n",
       "      <td>18.562274</td>\n",
       "      <td>5.500769</td>\n",
       "    </tr>\n",
       "    <tr>\n",
       "      <th>5</th>\n",
       "      <td>14.207129</td>\n",
       "      <td>48.584482</td>\n",
       "      <td>129.412287</td>\n",
       "      <td>6.054778</td>\n",
       "      <td>18.608385</td>\n",
       "      <td>5.494325</td>\n",
       "    </tr>\n",
       "    <tr>\n",
       "      <th>6</th>\n",
       "      <td>14.206100</td>\n",
       "      <td>48.654365</td>\n",
       "      <td>126.442350</td>\n",
       "      <td>6.057012</td>\n",
       "      <td>18.547387</td>\n",
       "      <td>5.496674</td>\n",
       "    </tr>\n",
       "    <tr>\n",
       "      <th>7</th>\n",
       "      <td>14.208246</td>\n",
       "      <td>47.807951</td>\n",
       "      <td>124.261686</td>\n",
       "      <td>6.066523</td>\n",
       "      <td>18.676885</td>\n",
       "      <td>5.498822</td>\n",
       "    </tr>\n",
       "    <tr>\n",
       "      <th>8</th>\n",
       "      <td>14.204310</td>\n",
       "      <td>50.252423</td>\n",
       "      <td>123.655306</td>\n",
       "      <td>6.055140</td>\n",
       "      <td>18.526761</td>\n",
       "      <td>5.493359</td>\n",
       "    </tr>\n",
       "    <tr>\n",
       "      <th>9</th>\n",
       "      <td>14.201816</td>\n",
       "      <td>50.809790</td>\n",
       "      <td>122.068990</td>\n",
       "      <td>6.054816</td>\n",
       "      <td>18.750522</td>\n",
       "      <td>5.492640</td>\n",
       "    </tr>\n",
       "    <tr>\n",
       "      <th>10</th>\n",
       "      <td>14.201958</td>\n",
       "      <td>50.167185</td>\n",
       "      <td>121.654733</td>\n",
       "      <td>6.055430</td>\n",
       "      <td>18.625033</td>\n",
       "      <td>5.494120</td>\n",
       "    </tr>\n",
       "    <tr>\n",
       "      <th>11</th>\n",
       "      <td>14.202057</td>\n",
       "      <td>49.956099</td>\n",
       "      <td>123.730784</td>\n",
       "      <td>6.054657</td>\n",
       "      <td>18.507190</td>\n",
       "      <td>5.491851</td>\n",
       "    </tr>\n",
       "    <tr>\n",
       "      <th>12</th>\n",
       "      <td>14.201703</td>\n",
       "      <td>46.960589</td>\n",
       "      <td>118.899517</td>\n",
       "      <td>6.054568</td>\n",
       "      <td>18.539884</td>\n",
       "      <td>5.494958</td>\n",
       "    </tr>\n",
       "    <tr>\n",
       "      <th>13</th>\n",
       "      <td>14.201703</td>\n",
       "      <td>44.471183</td>\n",
       "      <td>119.414474</td>\n",
       "      <td>6.054527</td>\n",
       "      <td>18.556006</td>\n",
       "      <td>5.493205</td>\n",
       "    </tr>\n",
       "    <tr>\n",
       "      <th>14</th>\n",
       "      <td>14.201703</td>\n",
       "      <td>45.017403</td>\n",
       "      <td>117.976598</td>\n",
       "      <td>6.054502</td>\n",
       "      <td>18.490431</td>\n",
       "      <td>5.493008</td>\n",
       "    </tr>\n",
       "    <tr>\n",
       "      <th>15</th>\n",
       "      <td>14.201703</td>\n",
       "      <td>40.111265</td>\n",
       "      <td>116.255918</td>\n",
       "      <td>6.054502</td>\n",
       "      <td>18.773571</td>\n",
       "      <td>5.493139</td>\n",
       "    </tr>\n",
       "    <tr>\n",
       "      <th>16</th>\n",
       "      <td>14.201703</td>\n",
       "      <td>37.646849</td>\n",
       "      <td>117.062347</td>\n",
       "      <td>6.054502</td>\n",
       "      <td>18.521320</td>\n",
       "      <td>5.492065</td>\n",
       "    </tr>\n",
       "    <tr>\n",
       "      <th>17</th>\n",
       "      <td>14.201703</td>\n",
       "      <td>37.332997</td>\n",
       "      <td>115.799861</td>\n",
       "      <td>6.054541</td>\n",
       "      <td>18.552878</td>\n",
       "      <td>5.491947</td>\n",
       "    </tr>\n",
       "    <tr>\n",
       "      <th>18</th>\n",
       "      <td>14.201703</td>\n",
       "      <td>34.852962</td>\n",
       "      <td>115.107086</td>\n",
       "      <td>6.054502</td>\n",
       "      <td>18.719215</td>\n",
       "      <td>5.492608</td>\n",
       "    </tr>\n",
       "    <tr>\n",
       "      <th>19</th>\n",
       "      <td>14.201703</td>\n",
       "      <td>37.113648</td>\n",
       "      <td>114.848872</td>\n",
       "      <td>6.054502</td>\n",
       "      <td>18.622942</td>\n",
       "      <td>5.492342</td>\n",
       "    </tr>\n",
       "    <tr>\n",
       "      <th>20</th>\n",
       "      <td>14.201744</td>\n",
       "      <td>33.363433</td>\n",
       "      <td>113.548997</td>\n",
       "      <td>6.054502</td>\n",
       "      <td>18.747905</td>\n",
       "      <td>5.492735</td>\n",
       "    </tr>\n",
       "    <tr>\n",
       "      <th>21</th>\n",
       "      <td>14.201703</td>\n",
       "      <td>33.322157</td>\n",
       "      <td>113.396955</td>\n",
       "      <td>6.054502</td>\n",
       "      <td>18.631082</td>\n",
       "      <td>5.492065</td>\n",
       "    </tr>\n",
       "    <tr>\n",
       "      <th>22</th>\n",
       "      <td>14.201703</td>\n",
       "      <td>34.067318</td>\n",
       "      <td>118.241527</td>\n",
       "      <td>6.054502</td>\n",
       "      <td>18.686808</td>\n",
       "      <td>5.492218</td>\n",
       "    </tr>\n",
       "    <tr>\n",
       "      <th>23</th>\n",
       "      <td>14.201703</td>\n",
       "      <td>35.709935</td>\n",
       "      <td>114.877330</td>\n",
       "      <td>6.054502</td>\n",
       "      <td>18.885303</td>\n",
       "      <td>5.492065</td>\n",
       "    </tr>\n",
       "    <tr>\n",
       "      <th>24</th>\n",
       "      <td>14.201703</td>\n",
       "      <td>34.143467</td>\n",
       "      <td>115.557051</td>\n",
       "      <td>6.054502</td>\n",
       "      <td>18.669113</td>\n",
       "      <td>5.492065</td>\n",
       "    </tr>\n",
       "    <tr>\n",
       "      <th>25</th>\n",
       "      <td>14.201703</td>\n",
       "      <td>34.484964</td>\n",
       "      <td>114.599081</td>\n",
       "      <td>6.054502</td>\n",
       "      <td>18.933958</td>\n",
       "      <td>5.492065</td>\n",
       "    </tr>\n",
       "    <tr>\n",
       "      <th>26</th>\n",
       "      <td>14.201703</td>\n",
       "      <td>31.597237</td>\n",
       "      <td>112.774518</td>\n",
       "      <td>6.054552</td>\n",
       "      <td>18.935127</td>\n",
       "      <td>5.492065</td>\n",
       "    </tr>\n",
       "    <tr>\n",
       "      <th>27</th>\n",
       "      <td>14.201703</td>\n",
       "      <td>32.934600</td>\n",
       "      <td>112.070874</td>\n",
       "      <td>6.054837</td>\n",
       "      <td>18.803618</td>\n",
       "      <td>5.492065</td>\n",
       "    </tr>\n",
       "    <tr>\n",
       "      <th>28</th>\n",
       "      <td>14.201703</td>\n",
       "      <td>33.744557</td>\n",
       "      <td>111.059363</td>\n",
       "      <td>6.054877</td>\n",
       "      <td>18.833985</td>\n",
       "      <td>5.492065</td>\n",
       "    </tr>\n",
       "    <tr>\n",
       "      <th>29</th>\n",
       "      <td>14.201703</td>\n",
       "      <td>33.083731</td>\n",
       "      <td>111.244641</td>\n",
       "      <td>6.054502</td>\n",
       "      <td>18.870984</td>\n",
       "      <td>5.492065</td>\n",
       "    </tr>\n",
       "    <tr>\n",
       "      <th>...</th>\n",
       "      <td>...</td>\n",
       "      <td>...</td>\n",
       "      <td>...</td>\n",
       "      <td>...</td>\n",
       "      <td>...</td>\n",
       "      <td>...</td>\n",
       "    </tr>\n",
       "    <tr>\n",
       "      <th>50</th>\n",
       "      <td>14.201703</td>\n",
       "      <td>32.756800</td>\n",
       "      <td>105.006890</td>\n",
       "      <td>6.054502</td>\n",
       "      <td>18.742766</td>\n",
       "      <td>5.492065</td>\n",
       "    </tr>\n",
       "    <tr>\n",
       "      <th>51</th>\n",
       "      <td>14.201703</td>\n",
       "      <td>33.157205</td>\n",
       "      <td>105.107255</td>\n",
       "      <td>6.054502</td>\n",
       "      <td>18.858102</td>\n",
       "      <td>5.492065</td>\n",
       "    </tr>\n",
       "    <tr>\n",
       "      <th>52</th>\n",
       "      <td>14.201703</td>\n",
       "      <td>32.812046</td>\n",
       "      <td>105.940358</td>\n",
       "      <td>6.054502</td>\n",
       "      <td>18.994352</td>\n",
       "      <td>5.492065</td>\n",
       "    </tr>\n",
       "    <tr>\n",
       "      <th>53</th>\n",
       "      <td>14.201703</td>\n",
       "      <td>33.205844</td>\n",
       "      <td>105.156705</td>\n",
       "      <td>6.054502</td>\n",
       "      <td>18.900801</td>\n",
       "      <td>5.492065</td>\n",
       "    </tr>\n",
       "    <tr>\n",
       "      <th>54</th>\n",
       "      <td>14.201703</td>\n",
       "      <td>34.873989</td>\n",
       "      <td>104.553840</td>\n",
       "      <td>6.054502</td>\n",
       "      <td>18.751883</td>\n",
       "      <td>5.492065</td>\n",
       "    </tr>\n",
       "    <tr>\n",
       "      <th>55</th>\n",
       "      <td>14.201703</td>\n",
       "      <td>33.491616</td>\n",
       "      <td>104.706346</td>\n",
       "      <td>6.054502</td>\n",
       "      <td>18.887338</td>\n",
       "      <td>5.492065</td>\n",
       "    </tr>\n",
       "    <tr>\n",
       "      <th>56</th>\n",
       "      <td>14.201703</td>\n",
       "      <td>34.193698</td>\n",
       "      <td>104.394191</td>\n",
       "      <td>6.054502</td>\n",
       "      <td>19.088962</td>\n",
       "      <td>5.492065</td>\n",
       "    </tr>\n",
       "    <tr>\n",
       "      <th>57</th>\n",
       "      <td>14.201703</td>\n",
       "      <td>33.912892</td>\n",
       "      <td>104.963838</td>\n",
       "      <td>6.054502</td>\n",
       "      <td>18.850249</td>\n",
       "      <td>5.492065</td>\n",
       "    </tr>\n",
       "    <tr>\n",
       "      <th>58</th>\n",
       "      <td>14.201703</td>\n",
       "      <td>34.035504</td>\n",
       "      <td>104.788948</td>\n",
       "      <td>6.054502</td>\n",
       "      <td>18.945622</td>\n",
       "      <td>5.492065</td>\n",
       "    </tr>\n",
       "    <tr>\n",
       "      <th>59</th>\n",
       "      <td>14.201703</td>\n",
       "      <td>33.403396</td>\n",
       "      <td>104.326347</td>\n",
       "      <td>6.054502</td>\n",
       "      <td>18.816600</td>\n",
       "      <td>5.492065</td>\n",
       "    </tr>\n",
       "    <tr>\n",
       "      <th>60</th>\n",
       "      <td>14.201703</td>\n",
       "      <td>33.221445</td>\n",
       "      <td>104.791455</td>\n",
       "      <td>6.054502</td>\n",
       "      <td>18.894266</td>\n",
       "      <td>5.492065</td>\n",
       "    </tr>\n",
       "    <tr>\n",
       "      <th>61</th>\n",
       "      <td>14.201703</td>\n",
       "      <td>34.538020</td>\n",
       "      <td>106.903720</td>\n",
       "      <td>6.054502</td>\n",
       "      <td>19.121226</td>\n",
       "      <td>5.492065</td>\n",
       "    </tr>\n",
       "    <tr>\n",
       "      <th>62</th>\n",
       "      <td>14.201703</td>\n",
       "      <td>33.745152</td>\n",
       "      <td>104.936646</td>\n",
       "      <td>6.054502</td>\n",
       "      <td>18.888325</td>\n",
       "      <td>5.492065</td>\n",
       "    </tr>\n",
       "    <tr>\n",
       "      <th>63</th>\n",
       "      <td>14.201703</td>\n",
       "      <td>33.625326</td>\n",
       "      <td>103.728522</td>\n",
       "      <td>6.054502</td>\n",
       "      <td>18.951849</td>\n",
       "      <td>5.492065</td>\n",
       "    </tr>\n",
       "    <tr>\n",
       "      <th>64</th>\n",
       "      <td>14.201703</td>\n",
       "      <td>32.865918</td>\n",
       "      <td>102.979045</td>\n",
       "      <td>6.054502</td>\n",
       "      <td>18.863657</td>\n",
       "      <td>5.492065</td>\n",
       "    </tr>\n",
       "    <tr>\n",
       "      <th>65</th>\n",
       "      <td>14.201703</td>\n",
       "      <td>33.459357</td>\n",
       "      <td>104.171447</td>\n",
       "      <td>6.054502</td>\n",
       "      <td>18.896853</td>\n",
       "      <td>5.492065</td>\n",
       "    </tr>\n",
       "    <tr>\n",
       "      <th>66</th>\n",
       "      <td>14.201703</td>\n",
       "      <td>33.680213</td>\n",
       "      <td>103.192644</td>\n",
       "      <td>6.054502</td>\n",
       "      <td>18.857557</td>\n",
       "      <td>5.492065</td>\n",
       "    </tr>\n",
       "    <tr>\n",
       "      <th>67</th>\n",
       "      <td>14.201703</td>\n",
       "      <td>33.745026</td>\n",
       "      <td>105.670769</td>\n",
       "      <td>6.054502</td>\n",
       "      <td>18.874910</td>\n",
       "      <td>5.492065</td>\n",
       "    </tr>\n",
       "    <tr>\n",
       "      <th>68</th>\n",
       "      <td>14.201703</td>\n",
       "      <td>34.205477</td>\n",
       "      <td>104.139616</td>\n",
       "      <td>6.054502</td>\n",
       "      <td>19.179068</td>\n",
       "      <td>5.492065</td>\n",
       "    </tr>\n",
       "    <tr>\n",
       "      <th>69</th>\n",
       "      <td>14.201703</td>\n",
       "      <td>33.943236</td>\n",
       "      <td>103.417749</td>\n",
       "      <td>6.054502</td>\n",
       "      <td>18.736295</td>\n",
       "      <td>5.492065</td>\n",
       "    </tr>\n",
       "    <tr>\n",
       "      <th>70</th>\n",
       "      <td>14.201703</td>\n",
       "      <td>33.698827</td>\n",
       "      <td>104.210602</td>\n",
       "      <td>6.054502</td>\n",
       "      <td>18.862059</td>\n",
       "      <td>5.492065</td>\n",
       "    </tr>\n",
       "    <tr>\n",
       "      <th>71</th>\n",
       "      <td>14.201703</td>\n",
       "      <td>34.396045</td>\n",
       "      <td>105.117182</td>\n",
       "      <td>6.054502</td>\n",
       "      <td>18.720226</td>\n",
       "      <td>5.492065</td>\n",
       "    </tr>\n",
       "    <tr>\n",
       "      <th>72</th>\n",
       "      <td>14.201703</td>\n",
       "      <td>33.988431</td>\n",
       "      <td>103.555883</td>\n",
       "      <td>6.054502</td>\n",
       "      <td>18.862183</td>\n",
       "      <td>5.492065</td>\n",
       "    </tr>\n",
       "    <tr>\n",
       "      <th>73</th>\n",
       "      <td>14.201703</td>\n",
       "      <td>33.133587</td>\n",
       "      <td>102.990277</td>\n",
       "      <td>6.054502</td>\n",
       "      <td>18.820833</td>\n",
       "      <td>5.492065</td>\n",
       "    </tr>\n",
       "    <tr>\n",
       "      <th>74</th>\n",
       "      <td>14.201703</td>\n",
       "      <td>33.625004</td>\n",
       "      <td>102.622861</td>\n",
       "      <td>6.054502</td>\n",
       "      <td>18.957101</td>\n",
       "      <td>5.492065</td>\n",
       "    </tr>\n",
       "    <tr>\n",
       "      <th>75</th>\n",
       "      <td>14.201703</td>\n",
       "      <td>34.212494</td>\n",
       "      <td>104.905883</td>\n",
       "      <td>6.054502</td>\n",
       "      <td>18.976096</td>\n",
       "      <td>5.492065</td>\n",
       "    </tr>\n",
       "    <tr>\n",
       "      <th>76</th>\n",
       "      <td>14.201703</td>\n",
       "      <td>33.087348</td>\n",
       "      <td>104.840557</td>\n",
       "      <td>6.054502</td>\n",
       "      <td>19.135425</td>\n",
       "      <td>5.492065</td>\n",
       "    </tr>\n",
       "    <tr>\n",
       "      <th>77</th>\n",
       "      <td>14.201703</td>\n",
       "      <td>34.151224</td>\n",
       "      <td>103.035558</td>\n",
       "      <td>6.054502</td>\n",
       "      <td>18.907742</td>\n",
       "      <td>5.492065</td>\n",
       "    </tr>\n",
       "    <tr>\n",
       "      <th>78</th>\n",
       "      <td>14.201703</td>\n",
       "      <td>33.613573</td>\n",
       "      <td>104.097210</td>\n",
       "      <td>6.054502</td>\n",
       "      <td>18.877934</td>\n",
       "      <td>5.492065</td>\n",
       "    </tr>\n",
       "    <tr>\n",
       "      <th>79</th>\n",
       "      <td>14.201703</td>\n",
       "      <td>34.026098</td>\n",
       "      <td>106.690796</td>\n",
       "      <td>6.054502</td>\n",
       "      <td>18.905214</td>\n",
       "      <td>5.492065</td>\n",
       "    </tr>\n",
       "  </tbody>\n",
       "</table>\n",
       "<p>80 rows × 6 columns</p>\n",
       "</div>"
      ],
      "text/plain": [
       "           dw     fridge        hvac        mw       oven        wm\n",
       "0   14.352724  45.489174  230.820219  6.221469  18.589056  5.620691\n",
       "1   14.265518  47.206593  232.580727  6.181179  18.508802  5.555157\n",
       "2   14.291476  51.271829  194.803381  6.126442  18.560780  5.575552\n",
       "3   14.208875  54.838532  140.155737  6.058088  18.511094  5.516503\n",
       "4   14.209742  50.783679  136.677215  6.057947  18.562274  5.500769\n",
       "5   14.207129  48.584482  129.412287  6.054778  18.608385  5.494325\n",
       "6   14.206100  48.654365  126.442350  6.057012  18.547387  5.496674\n",
       "7   14.208246  47.807951  124.261686  6.066523  18.676885  5.498822\n",
       "8   14.204310  50.252423  123.655306  6.055140  18.526761  5.493359\n",
       "9   14.201816  50.809790  122.068990  6.054816  18.750522  5.492640\n",
       "10  14.201958  50.167185  121.654733  6.055430  18.625033  5.494120\n",
       "11  14.202057  49.956099  123.730784  6.054657  18.507190  5.491851\n",
       "12  14.201703  46.960589  118.899517  6.054568  18.539884  5.494958\n",
       "13  14.201703  44.471183  119.414474  6.054527  18.556006  5.493205\n",
       "14  14.201703  45.017403  117.976598  6.054502  18.490431  5.493008\n",
       "15  14.201703  40.111265  116.255918  6.054502  18.773571  5.493139\n",
       "16  14.201703  37.646849  117.062347  6.054502  18.521320  5.492065\n",
       "17  14.201703  37.332997  115.799861  6.054541  18.552878  5.491947\n",
       "18  14.201703  34.852962  115.107086  6.054502  18.719215  5.492608\n",
       "19  14.201703  37.113648  114.848872  6.054502  18.622942  5.492342\n",
       "20  14.201744  33.363433  113.548997  6.054502  18.747905  5.492735\n",
       "21  14.201703  33.322157  113.396955  6.054502  18.631082  5.492065\n",
       "22  14.201703  34.067318  118.241527  6.054502  18.686808  5.492218\n",
       "23  14.201703  35.709935  114.877330  6.054502  18.885303  5.492065\n",
       "24  14.201703  34.143467  115.557051  6.054502  18.669113  5.492065\n",
       "25  14.201703  34.484964  114.599081  6.054502  18.933958  5.492065\n",
       "26  14.201703  31.597237  112.774518  6.054552  18.935127  5.492065\n",
       "27  14.201703  32.934600  112.070874  6.054837  18.803618  5.492065\n",
       "28  14.201703  33.744557  111.059363  6.054877  18.833985  5.492065\n",
       "29  14.201703  33.083731  111.244641  6.054502  18.870984  5.492065\n",
       "..        ...        ...         ...       ...        ...       ...\n",
       "50  14.201703  32.756800  105.006890  6.054502  18.742766  5.492065\n",
       "51  14.201703  33.157205  105.107255  6.054502  18.858102  5.492065\n",
       "52  14.201703  32.812046  105.940358  6.054502  18.994352  5.492065\n",
       "53  14.201703  33.205844  105.156705  6.054502  18.900801  5.492065\n",
       "54  14.201703  34.873989  104.553840  6.054502  18.751883  5.492065\n",
       "55  14.201703  33.491616  104.706346  6.054502  18.887338  5.492065\n",
       "56  14.201703  34.193698  104.394191  6.054502  19.088962  5.492065\n",
       "57  14.201703  33.912892  104.963838  6.054502  18.850249  5.492065\n",
       "58  14.201703  34.035504  104.788948  6.054502  18.945622  5.492065\n",
       "59  14.201703  33.403396  104.326347  6.054502  18.816600  5.492065\n",
       "60  14.201703  33.221445  104.791455  6.054502  18.894266  5.492065\n",
       "61  14.201703  34.538020  106.903720  6.054502  19.121226  5.492065\n",
       "62  14.201703  33.745152  104.936646  6.054502  18.888325  5.492065\n",
       "63  14.201703  33.625326  103.728522  6.054502  18.951849  5.492065\n",
       "64  14.201703  32.865918  102.979045  6.054502  18.863657  5.492065\n",
       "65  14.201703  33.459357  104.171447  6.054502  18.896853  5.492065\n",
       "66  14.201703  33.680213  103.192644  6.054502  18.857557  5.492065\n",
       "67  14.201703  33.745026  105.670769  6.054502  18.874910  5.492065\n",
       "68  14.201703  34.205477  104.139616  6.054502  19.179068  5.492065\n",
       "69  14.201703  33.943236  103.417749  6.054502  18.736295  5.492065\n",
       "70  14.201703  33.698827  104.210602  6.054502  18.862059  5.492065\n",
       "71  14.201703  34.396045  105.117182  6.054502  18.720226  5.492065\n",
       "72  14.201703  33.988431  103.555883  6.054502  18.862183  5.492065\n",
       "73  14.201703  33.133587  102.990277  6.054502  18.820833  5.492065\n",
       "74  14.201703  33.625004  102.622861  6.054502  18.957101  5.492065\n",
       "75  14.201703  34.212494  104.905883  6.054502  18.976096  5.492065\n",
       "76  14.201703  33.087348  104.840557  6.054502  19.135425  5.492065\n",
       "77  14.201703  34.151224  103.035558  6.054502  18.907742  5.492065\n",
       "78  14.201703  33.613573  104.097210  6.054502  18.877934  5.492065\n",
       "79  14.201703  34.026098  106.690796  6.054502  18.905214  5.492065\n",
       "\n",
       "[80 rows x 6 columns]"
      ]
     },
     "execution_count": 103,
     "metadata": {},
     "output_type": "execute_result"
    }
   ],
   "source": [
    "pd.DataFrame(loss_appliance).T"
   ]
  },
  {
   "cell_type": "code",
   "execution_count": 249,
   "metadata": {},
   "outputs": [
    {
     "data": {
      "text/plain": [
       "dw         14.601142\n",
       "fridge     32.703391\n",
       "hvac      102.298246\n",
       "mw          6.054502\n",
       "oven       19.366732\n",
       "wm          5.492065\n",
       "dtype: float64"
      ]
     },
     "execution_count": 249,
     "metadata": {},
     "output_type": "execute_result"
    }
   ],
   "source": [
    "pd.DataFrame(loss_appliance).T.tail(1).mean()"
   ]
  },
  {
   "cell_type": "code",
   "execution_count": 250,
   "metadata": {},
   "outputs": [
    {
     "data": {
      "text/plain": [
       "['aggregate', 'hvac', 'fridge', 'mw', 'dw', 'wm', 'oven']"
      ]
     },
     "execution_count": 250,
     "metadata": {},
     "output_type": "execute_result"
    }
   ],
   "source": [
    "model.predict(test_agg)[:, :24].shape\n",
    "test_hvac.shape\n",
    "APPLIANCES_ORDER"
   ]
  },
  {
   "cell_type": "code",
   "execution_count": 141,
   "metadata": {},
   "outputs": [
    {
     "name": "stdout",
     "output_type": "stream",
     "text": [
      "28.907294945304226\n"
     ]
    },
    {
     "data": {
      "text/plain": [
       "{'dw': 14.461963989695176,\n",
       " 'fridge': 33.156134961647297,\n",
       " 'hvac': 95.829992939920274,\n",
       " 'mw': 6.0685100195135915,\n",
       " 'oven': 18.435102860923067,\n",
       " 'wm': 5.4920649001259818}"
      ]
     },
     "execution_count": 141,
     "metadata": {},
     "output_type": "execute_result"
    }
   ],
   "source": [
    "pred_hvac = model.predict(test_agg)[:, :24]\n",
    "pred_fridge = model.predict(test_agg)[:, 24:48]\n",
    "pred_mw = model.predict(test_agg)[:, 48:72]\n",
    "pred_dw = model.predict(test_agg)[:, 72:96]\n",
    "pred_wm = model.predict(test_agg)[:, 96:120]\n",
    "pred_oven = model.predict(test_agg)[:, 120:]\n",
    "\n",
    "\n",
    "\n",
    "\n",
    "\n",
    "\n",
    "\n",
    "\n",
    "from sklearn.metrics import mean_absolute_error\n",
    "\n",
    "mae = {}\n",
    "for appliance in APPLIANCES_ORDER[1:]:\n",
    "    mae[appliance] = mean_absolute_error(eval(\"test_\"+appliance), eval(\"pred_\"+appliance))\n",
    "print(pd.Series(mae).mean())\n",
    "mae"
   ]
  },
  {
   "cell_type": "code",
   "execution_count": 120,
   "metadata": {},
   "outputs": [
    {
     "name": "stdout",
     "output_type": "stream",
     "text": [
      "100.952879241\n",
      "33.7715268302\n",
      "6.10075356096\n",
      "14.5966103203\n",
      "5.49206490013\n",
      "18.5720302564\n"
     ]
    }
   ],
   "source": [
    "\n",
    "print(mean_absolute_error(pred_hvac, test_hvac))\n",
    "print(mean_absolute_error(pred_fridge, test_fridge))\n",
    "print(mean_absolute_error(pred_mw, test_mw))\n",
    "print(mean_absolute_error(pred_dw, test_dw))\n",
    "print(mean_absolute_error(pred_wm, test_wm))\n",
    "print(mean_absolute_error(pred_oven, test_oven))\n",
    "\n",
    "\n",
    "\n",
    "\n",
    "\n",
    "\n",
    "\n",
    "\n",
    "#print(mean_absolute_error(test_agg, pred_hvac))\n",
    "\n"
   ]
  },
  {
   "cell_type": "code",
   "execution_count": 121,
   "metadata": {},
   "outputs": [
    {
     "data": {
      "text/plain": [
       "34.295"
      ]
     },
     "execution_count": 121,
     "metadata": {},
     "output_type": "execute_result"
    }
   ],
   "source": [
    "(128.56+32.71+6.05+14.2+5.5+18.75)/6"
   ]
  },
  {
   "cell_type": "code",
   "execution_count": 122,
   "metadata": {},
   "outputs": [
    {
     "data": {
      "text/plain": [
       "189.65565490722656"
      ]
     },
     "execution_count": 122,
     "metadata": {},
     "output_type": "execute_result"
    }
   ],
   "source": [
    "pd.DataFrame(model.predict(test_agg)[:, :]).mean().mean()"
   ]
  },
  {
   "cell_type": "code",
   "execution_count": 123,
   "metadata": {},
   "outputs": [
    {
     "data": {
      "text/plain": [
       "count    2464.000000\n",
       "mean     2088.788108\n",
       "std       750.622251\n",
       "min         0.000000\n",
       "25%      1712.175005\n",
       "50%      2041.358347\n",
       "75%      2457.379175\n",
       "max      4060.083328\n",
       "dtype: float64"
      ]
     },
     "execution_count": 123,
     "metadata": {},
     "output_type": "execute_result"
    }
   ],
   "source": [
    "pd.DataFrame(test_fridge).sum(axis=1).describe()"
   ]
  },
  {
   "cell_type": "code",
   "execution_count": 124,
   "metadata": {},
   "outputs": [
    {
     "data": {
      "text/plain": [
       "0      45.516666\n",
       "1      64.349998\n",
       "2      68.233330\n",
       "3      67.383331\n",
       "4      66.900002\n",
       "5      89.116669\n",
       "6      74.183334\n",
       "7     119.566666\n",
       "8      79.349998\n",
       "9      78.300003\n",
       "10     51.716667\n",
       "11     31.016666\n",
       "12    137.566666\n",
       "13     84.550003\n",
       "14    113.333336\n",
       "15     76.766670\n",
       "16     32.966667\n",
       "17    138.899994\n",
       "18     53.283333\n",
       "19     62.366665\n",
       "20     92.683334\n",
       "21     36.716667\n",
       "22     68.150002\n",
       "23     82.449997\n",
       "Name: 84, dtype: float64"
      ]
     },
     "execution_count": 124,
     "metadata": {},
     "output_type": "execute_result"
    }
   ],
   "source": [
    "pd.DataFrame(test_fridge).iloc[84]"
   ]
  },
  {
   "cell_type": "code",
   "execution_count": 126,
   "metadata": {},
   "outputs": [
    {
     "data": {
      "text/plain": [
       "<matplotlib.legend.Legend at 0x1a44177ac8>"
      ]
     },
     "execution_count": 126,
     "metadata": {},
     "output_type": "execute_result"
    },
    {
     "data": {
      "image/png": "[encoded data removed]",
      "text/plain": [
       "<matplotlib.figure.Figure at 0x1a44177898>"
      ]
     },
     "metadata": {},
     "output_type": "display_data"
    }
   ],
   "source": [
    "#pd.Series(train_appliance[0]).plot()\n",
    "pd.Series(train_all_appliances[0]).plot(label='GT')\n",
    "pd.Series(model.predict(test_agg)[0, :]).plot(label='Pred')\n",
    "plt.legend()"
   ]
  },
  {
   "cell_type": "code",
   "execution_count": 127,
   "metadata": {},
   "outputs": [
    {
     "data": {
      "text/plain": [
       "<matplotlib.text.Text at 0x1a4aa746d8>"
      ]
     },
     "execution_count": 127,
     "metadata": {},
     "output_type": "execute_result"
    },
    {
     "data": {
      "image/png": "[encoded data removed]",
      "text/plain": [
       "<matplotlib.figure.Figure at 0x1a440d3da0>"
      ]
     },
     "metadata": {},
     "output_type": "display_data"
    },
    {
     "data": {
      "image/png": "[encoded data removed]",
      "text/plain": [
       "<matplotlib.figure.Figure at 0x1a440d3e48>"
      ]
     },
     "metadata": {},
     "output_type": "display_data"
    }
   ],
   "source": [
    "pd.DataFrame(pred_dw).T.plot(legend=False, color='k',alpha=0.2)\n",
    "plt.title(\"Predicted DW [Tree DNN]\")\n",
    "plt.xlabel(\"Hour of the day\")\n",
    "pd.DataFrame(test_dw).T.plot(legend=False, color='k',alpha=0.2)\n",
    "plt.title(\"GT DW \")\n",
    "plt.xlabel(\"Hour of the day\")"
   ]
  },
  {
   "cell_type": "code",
   "execution_count": 128,
   "metadata": {},
   "outputs": [
    {
     "data": {
      "text/plain": [
       "<matplotlib.text.Text at 0x1a50417668>"
      ]
     },
     "execution_count": 128,
     "metadata": {},
     "output_type": "execute_result"
    },
    {
     "data": {
      "image/png": "[encoded data removed]",
      "text/plain": [
       "<matplotlib.figure.Figure at 0x1a46596358>"
      ]
     },
     "metadata": {},
     "output_type": "display_data"
    },
    {
     "data": {
      "image/png": "[encoded data removed]",
      "text/plain": [
       "<matplotlib.figure.Figure at 0x1a42df98d0>"
      ]
     },
     "metadata": {},
     "output_type": "display_data"
    }
   ],
   "source": [
    "pd.DataFrame(pred_oven).T.plot(legend=False, color='k',alpha=0.2)\n",
    "plt.title(\"Predicted Oven [Tree DNN]\")\n",
    "plt.xlabel(\"Hour of the day\")\n",
    "pd.DataFrame(test_oven).T.plot(legend=False, color='k',alpha=0.2)\n",
    "plt.title(\"GT Oven \")\n",
    "plt.xlabel(\"Hour of the day\")"
   ]
  },
  {
   "cell_type": "code",
   "execution_count": 218,
   "metadata": {},
   "outputs": [
    {
     "data": {
      "text/html": [
       "<div>\n",
       "<style>\n",
       "    .dataframe thead tr:only-child th {\n",
       "        text-align: right;\n",
       "    }\n",
       "\n",
       "    .dataframe thead th {\n",
       "        text-align: left;\n",
       "    }\n",
       "\n",
       "    .dataframe tbody tr th {\n",
       "        vertical-align: top;\n",
       "    }\n",
       "</style>\n",
       "<table border=\"1\" class=\"dataframe\">\n",
       "  <thead>\n",
       "    <tr style=\"text-align: right;\">\n",
       "      <th></th>\n",
       "      <th>0</th>\n",
       "      <th>1</th>\n",
       "      <th>2</th>\n",
       "      <th>3</th>\n",
       "      <th>4</th>\n",
       "      <th>5</th>\n",
       "      <th>6</th>\n",
       "      <th>7</th>\n",
       "      <th>8</th>\n",
       "      <th>9</th>\n",
       "      <th>...</th>\n",
       "      <th>14</th>\n",
       "      <th>15</th>\n",
       "      <th>16</th>\n",
       "      <th>17</th>\n",
       "      <th>18</th>\n",
       "      <th>19</th>\n",
       "      <th>20</th>\n",
       "      <th>21</th>\n",
       "      <th>22</th>\n",
       "      <th>23</th>\n",
       "    </tr>\n",
       "  </thead>\n",
       "  <tbody>\n",
       "    <tr>\n",
       "      <th>count</th>\n",
       "      <td>308.000000</td>\n",
       "      <td>308.000000</td>\n",
       "      <td>308.000000</td>\n",
       "      <td>3.080000e+02</td>\n",
       "      <td>308.000000</td>\n",
       "      <td>308.000000</td>\n",
       "      <td>308.000000</td>\n",
       "      <td>308.000000</td>\n",
       "      <td>308.000000</td>\n",
       "      <td>308.000000</td>\n",
       "      <td>...</td>\n",
       "      <td>308.000000</td>\n",
       "      <td>308.000000</td>\n",
       "      <td>308.000000</td>\n",
       "      <td>308.000000</td>\n",
       "      <td>308.000000</td>\n",
       "      <td>308.000000</td>\n",
       "      <td>308.000000</td>\n",
       "      <td>308.000000</td>\n",
       "      <td>308.000000</td>\n",
       "      <td>308.000000</td>\n",
       "    </tr>\n",
       "    <tr>\n",
       "      <th>mean</th>\n",
       "      <td>-8.719855</td>\n",
       "      <td>-45.614794</td>\n",
       "      <td>-7.135415</td>\n",
       "      <td>-7.971667e+00</td>\n",
       "      <td>-7.172175</td>\n",
       "      <td>-18.480223</td>\n",
       "      <td>-147.513609</td>\n",
       "      <td>-152.453793</td>\n",
       "      <td>-27.035719</td>\n",
       "      <td>-64.666421</td>\n",
       "      <td>...</td>\n",
       "      <td>-8.413468</td>\n",
       "      <td>-19.909490</td>\n",
       "      <td>-42.936754</td>\n",
       "      <td>-47.697094</td>\n",
       "      <td>-47.043026</td>\n",
       "      <td>-21.094335</td>\n",
       "      <td>-6.990199</td>\n",
       "      <td>-31.927933</td>\n",
       "      <td>-46.293898</td>\n",
       "      <td>-85.879873</td>\n",
       "    </tr>\n",
       "    <tr>\n",
       "      <th>std</th>\n",
       "      <td>45.109670</td>\n",
       "      <td>60.061834</td>\n",
       "      <td>30.859192</td>\n",
       "      <td>3.269325e+01</td>\n",
       "      <td>28.594266</td>\n",
       "      <td>119.532227</td>\n",
       "      <td>82.758541</td>\n",
       "      <td>69.688543</td>\n",
       "      <td>61.122479</td>\n",
       "      <td>86.484157</td>\n",
       "      <td>...</td>\n",
       "      <td>51.907125</td>\n",
       "      <td>126.876979</td>\n",
       "      <td>163.263836</td>\n",
       "      <td>149.381453</td>\n",
       "      <td>146.882644</td>\n",
       "      <td>69.227755</td>\n",
       "      <td>50.543880</td>\n",
       "      <td>104.734850</td>\n",
       "      <td>109.939533</td>\n",
       "      <td>103.596838</td>\n",
       "    </tr>\n",
       "    <tr>\n",
       "      <th>min</th>\n",
       "      <td>-543.816655</td>\n",
       "      <td>-437.150538</td>\n",
       "      <td>-342.366671</td>\n",
       "      <td>-3.337500e+02</td>\n",
       "      <td>-287.800001</td>\n",
       "      <td>-1889.948818</td>\n",
       "      <td>-1069.916657</td>\n",
       "      <td>-357.506195</td>\n",
       "      <td>-377.699986</td>\n",
       "      <td>-662.013244</td>\n",
       "      <td>...</td>\n",
       "      <td>-736.833309</td>\n",
       "      <td>-1841.840468</td>\n",
       "      <td>-1209.334181</td>\n",
       "      <td>-1165.487390</td>\n",
       "      <td>-1245.134079</td>\n",
       "      <td>-462.636366</td>\n",
       "      <td>-772.333338</td>\n",
       "      <td>-892.741325</td>\n",
       "      <td>-723.091827</td>\n",
       "      <td>-593.544623</td>\n",
       "    </tr>\n",
       "    <tr>\n",
       "      <th>25%</th>\n",
       "      <td>-0.000021</td>\n",
       "      <td>-84.867813</td>\n",
       "      <td>-0.000011</td>\n",
       "      <td>-1.442432e-05</td>\n",
       "      <td>-0.000011</td>\n",
       "      <td>-0.000016</td>\n",
       "      <td>-169.689933</td>\n",
       "      <td>-194.442911</td>\n",
       "      <td>-0.000053</td>\n",
       "      <td>-95.100000</td>\n",
       "      <td>...</td>\n",
       "      <td>-0.000032</td>\n",
       "      <td>-0.000040</td>\n",
       "      <td>-0.000061</td>\n",
       "      <td>-0.000068</td>\n",
       "      <td>-0.000078</td>\n",
       "      <td>-0.000050</td>\n",
       "      <td>-0.000031</td>\n",
       "      <td>-0.000045</td>\n",
       "      <td>-0.000074</td>\n",
       "      <td>-128.070320</td>\n",
       "    </tr>\n",
       "    <tr>\n",
       "      <th>50%</th>\n",
       "      <td>-0.000001</td>\n",
       "      <td>-18.655516</td>\n",
       "      <td>0.000000</td>\n",
       "      <td>-4.768372e-07</td>\n",
       "      <td>0.000000</td>\n",
       "      <td>0.000000</td>\n",
       "      <td>-132.160551</td>\n",
       "      <td>-156.783971</td>\n",
       "      <td>-0.000007</td>\n",
       "      <td>-46.194264</td>\n",
       "      <td>...</td>\n",
       "      <td>0.000000</td>\n",
       "      <td>-0.000001</td>\n",
       "      <td>-0.000007</td>\n",
       "      <td>-0.000015</td>\n",
       "      <td>-0.000014</td>\n",
       "      <td>-0.000011</td>\n",
       "      <td>-0.000004</td>\n",
       "      <td>-0.000004</td>\n",
       "      <td>-0.000008</td>\n",
       "      <td>-58.803405</td>\n",
       "    </tr>\n",
       "    <tr>\n",
       "      <th>75%</th>\n",
       "      <td>0.000008</td>\n",
       "      <td>-0.000004</td>\n",
       "      <td>0.000009</td>\n",
       "      <td>7.629395e-06</td>\n",
       "      <td>0.000007</td>\n",
       "      <td>0.000006</td>\n",
       "      <td>-106.392542</td>\n",
       "      <td>-106.963121</td>\n",
       "      <td>0.000006</td>\n",
       "      <td>-0.000019</td>\n",
       "      <td>...</td>\n",
       "      <td>0.000033</td>\n",
       "      <td>0.000026</td>\n",
       "      <td>0.000023</td>\n",
       "      <td>0.000015</td>\n",
       "      <td>0.000015</td>\n",
       "      <td>0.000015</td>\n",
       "      <td>0.000020</td>\n",
       "      <td>0.000014</td>\n",
       "      <td>0.000007</td>\n",
       "      <td>-0.000012</td>\n",
       "    </tr>\n",
       "    <tr>\n",
       "      <th>max</th>\n",
       "      <td>0.000061</td>\n",
       "      <td>0.000050</td>\n",
       "      <td>0.000058</td>\n",
       "      <td>5.793571e-05</td>\n",
       "      <td>0.000079</td>\n",
       "      <td>0.000116</td>\n",
       "      <td>0.000009</td>\n",
       "      <td>0.000004</td>\n",
       "      <td>0.000082</td>\n",
       "      <td>0.000054</td>\n",
       "      <td>...</td>\n",
       "      <td>0.000242</td>\n",
       "      <td>0.000233</td>\n",
       "      <td>0.000221</td>\n",
       "      <td>0.000226</td>\n",
       "      <td>0.000158</td>\n",
       "      <td>0.000194</td>\n",
       "      <td>0.000221</td>\n",
       "      <td>0.000099</td>\n",
       "      <td>0.000094</td>\n",
       "      <td>0.000059</td>\n",
       "    </tr>\n",
       "  </tbody>\n",
       "</table>\n",
       "<p>8 rows × 24 columns</p>\n",
       "</div>"
      ],
      "text/plain": [
       "               0           1           2             3           4   \\\n",
       "count  308.000000  308.000000  308.000000  3.080000e+02  308.000000   \n",
       "mean    -8.719855  -45.614794   -7.135415 -7.971667e+00   -7.172175   \n",
       "std     45.109670   60.061834   30.859192  3.269325e+01   28.594266   \n",
       "min   -543.816655 -437.150538 -342.366671 -3.337500e+02 -287.800001   \n",
       "25%     -0.000021  -84.867813   -0.000011 -1.442432e-05   -0.000011   \n",
       "50%     -0.000001  -18.655516    0.000000 -4.768372e-07    0.000000   \n",
       "75%      0.000008   -0.000004    0.000009  7.629395e-06    0.000007   \n",
       "max      0.000061    0.000050    0.000058  5.793571e-05    0.000079   \n",
       "\n",
       "                5            6           7           8           9   \\\n",
       "count   308.000000   308.000000  308.000000  308.000000  308.000000   \n",
       "mean    -18.480223  -147.513609 -152.453793  -27.035719  -64.666421   \n",
       "std     119.532227    82.758541   69.688543   61.122479   86.484157   \n",
       "min   -1889.948818 -1069.916657 -357.506195 -377.699986 -662.013244   \n",
       "25%      -0.000016  -169.689933 -194.442911   -0.000053  -95.100000   \n",
       "50%       0.000000  -132.160551 -156.783971   -0.000007  -46.194264   \n",
       "75%       0.000006  -106.392542 -106.963121    0.000006   -0.000019   \n",
       "max       0.000116     0.000009    0.000004    0.000082    0.000054   \n",
       "\n",
       "          ...              14           15           16           17  \\\n",
       "count     ...      308.000000   308.000000   308.000000   308.000000   \n",
       "mean      ...       -8.413468   -19.909490   -42.936754   -47.697094   \n",
       "std       ...       51.907125   126.876979   163.263836   149.381453   \n",
       "min       ...     -736.833309 -1841.840468 -1209.334181 -1165.487390   \n",
       "25%       ...       -0.000032    -0.000040    -0.000061    -0.000068   \n",
       "50%       ...        0.000000    -0.000001    -0.000007    -0.000015   \n",
       "75%       ...        0.000033     0.000026     0.000023     0.000015   \n",
       "max       ...        0.000242     0.000233     0.000221     0.000226   \n",
       "\n",
       "                18          19          20          21          22          23  \n",
       "count   308.000000  308.000000  308.000000  308.000000  308.000000  308.000000  \n",
       "mean    -47.043026  -21.094335   -6.990199  -31.927933  -46.293898  -85.879873  \n",
       "std     146.882644   69.227755   50.543880  104.734850  109.939533  103.596838  \n",
       "min   -1245.134079 -462.636366 -772.333338 -892.741325 -723.091827 -593.544623  \n",
       "25%      -0.000078   -0.000050   -0.000031   -0.000045   -0.000074 -128.070320  \n",
       "50%      -0.000014   -0.000011   -0.000004   -0.000004   -0.000008  -58.803405  \n",
       "75%       0.000015    0.000015    0.000020    0.000014    0.000007   -0.000012  \n",
       "max       0.000158    0.000194    0.000221    0.000099    0.000094    0.000059  \n",
       "\n",
       "[8 rows x 24 columns]"
      ]
     },
     "execution_count": 218,
     "metadata": {},
     "output_type": "execute_result"
    }
   ],
   "source": [
    "pd.DataFrame(pred_hvac-test_agg).describe()"
   ]
  },
  {
   "cell_type": "code",
   "execution_count": 40,
   "metadata": {},
   "outputs": [
    {
     "data": {
      "text/plain": [
       "['aggregate', 'hvac', 'fridge', 'mw', 'dw', 'wm', 'oven']"
      ]
     },
     "execution_count": 40,
     "metadata": {},
     "output_type": "execute_result"
    }
   ],
   "source": [
    "APPLIANCES_ORDER"
   ]
  },
  {
   "cell_type": "code",
   "execution_count": 62,
   "metadata": {},
   "outputs": [
    {
     "data": {
      "text/plain": [
       "0      152.100006\n",
       "1       64.983330\n",
       "2       56.566666\n",
       "3       80.933334\n",
       "4      178.083328\n",
       "5      182.300003\n",
       "6      396.783325\n",
       "7      380.316681\n",
       "8      389.233337\n",
       "9      579.233337\n",
       "10     855.416687\n",
       "11     584.866638\n",
       "12    1000.166687\n",
       "13     688.416687\n",
       "14     376.350006\n",
       "15    1015.416687\n",
       "16    1046.633301\n",
       "17     936.400024\n",
       "18     749.533325\n",
       "19     941.666687\n",
       "20    1025.233276\n",
       "21     991.816650\n",
       "22    1007.716675\n",
       "23     436.816681\n",
       "dtype: float64"
      ]
     },
     "execution_count": 62,
     "metadata": {},
     "output_type": "execute_result"
    }
   ],
   "source": [
    "pd.DataFrame(pred_wm)\n",
    "pd.DataFrame(test_wm).max()"
   ]
  },
  {
   "cell_type": "code",
   "execution_count": 148,
   "metadata": {},
   "outputs": [
    {
     "data": {
      "text/plain": [
       "<matplotlib.legend.Legend at 0x1a53a28438>"
      ]
     },
     "execution_count": 148,
     "metadata": {},
     "output_type": "execute_result"
    },
    {
     "data": {
      "image/png": "[encoded data removed]",
      "text/plain": [
       "<matplotlib.figure.Figure at 0x1a53a28240>"
      ]
     },
     "metadata": {},
     "output_type": "display_data"
    }
   ],
   "source": [
    "#pd.Series(test_agg[1, :]).plot(label='GT Agg')\n",
    "pd.Series(test_fridge[17, :]).plot(label='GT HVAC')\n",
    "pd.Series(pred_fridge[17, :]).plot(label='Pred HVAC')\n",
    "\n",
    "\n",
    "#pd.Series(test_wm[1, :]).plot(label='GT HVAC')\n",
    "\n",
    "\n",
    "#pd.Series(test_fridge[1, :]).plot(label='GT Fridge')\n",
    "\n",
    "\n",
    "#pd.Series(test_mw[1, :]).plot(label='GT MW')\n",
    "#pd.Series(test_oven[1, :]).plot(label='GT Oven')\n",
    "\n",
    "\n",
    "\n",
    "\n",
    "\n",
    "\n",
    "\n",
    "#pd.Series(model.predict(test_agg[1:2])[0, :24]).plot(label='Pred HVAC')\n",
    "#pd.Series(model.predict(test_agg[1:2])[0, 24:48]).plot(label='Pred HVAC')\n",
    "\n",
    "\n",
    "#pd.Series(model.predict(test_agg[1:2])[0, 24:]).plot(label='Pred Fridge')\n",
    "\n",
    "\n",
    "\n",
    "\n",
    "plt.legend()"
   ]
  },
  {
   "cell_type": "code",
   "execution_count": 37,
   "metadata": {},
   "outputs": [
    {
     "name": "stdout",
     "output_type": "stream",
     "text": [
      "83.1671 87.0328378424\n"
     ]
    },
    {
     "data": {
      "text/plain": [
       "(1134.5818, 1018.3708339143896, 1149.5817138954521)"
      ]
     },
     "execution_count": 37,
     "metadata": {},
     "output_type": "execute_result"
    }
   ],
   "source": [
    "print(np.mean(pred_fridge), np.mean(test_fridge))\n",
    "np.mean(pred_hvac), np.mean(test_hvac), np.mean(test_agg)"
   ]
  },
  {
   "cell_type": "code",
   "execution_count": 38,
   "metadata": {},
   "outputs": [
    {
     "data": {
      "text/plain": [
       "1191"
      ]
     },
     "execution_count": 38,
     "metadata": {},
     "output_type": "execute_result"
    }
   ],
   "source": [
    "(pd.DataFrame(test_fridge)-pd.DataFrame(pred_fridge)).abs().sum(axis=1).argmax()"
   ]
  },
  {
   "cell_type": "code",
   "execution_count": 39,
   "metadata": {},
   "outputs": [
    {
     "data": {
      "text/plain": [
       "<matplotlib.legend.Legend at 0x1a2efa5a20>"
      ]
     },
     "execution_count": 39,
     "metadata": {},
     "output_type": "execute_result"
    },
    {
     "data": {
      "image/png": "[encoded data removed]",
      "text/plain": [
       "<matplotlib.figure.Figure at 0x1a2efaa048>"
      ]
     },
     "metadata": {},
     "output_type": "display_data"
    }
   ],
   "source": [
    "pd.Series(test_fridge[1, :]).plot(label='GT')\n",
    "pd.Series(model.predict(test_agg_new[1:2])[0, 24:]).plot(label='Pred')\n",
    "\n",
    "\n",
    "plt.legend()"
   ]
  },
  {
   "cell_type": "code",
   "execution_count": null,
   "metadata": {
    "collapsed": true
   },
   "outputs": [],
   "source": []
  }
 ],
 "metadata": {
  "kernelspec": {
   "display_name": "Python 3",
   "language": "python",
   "name": "python3"
  },
  "language_info": {
   "codemirror_mode": {
    "name": "ipython",
    "version": 3
   },
   "file_extension": ".py",
   "mimetype": "text/x-python",
   "name": "python",
   "nbconvert_exporter": "python",
   "pygments_lexer": "ipython3",
   "version": "3.6.3"
  }
 },
 "nbformat": 4,
 "nbformat_minor": 2
}
