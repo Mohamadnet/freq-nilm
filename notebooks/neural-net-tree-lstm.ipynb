{
 "cells": [
  {
   "cell_type": "code",
   "execution_count": 2,
   "metadata": {
    "collapsed": true
   },
   "outputs": [],
   "source": [
    "import sys\n",
    "sys.path.append(\"../code/\")\n",
    "from common import APPLIANCES_ORDER\n",
    "import warnings \n",
    "warnings.filterwarnings('ignore')"
   ]
  },
  {
   "cell_type": "code",
   "execution_count": 3,
   "metadata": {
    "collapsed": true
   },
   "outputs": [],
   "source": [
    "import numpy as np\n",
    "import pandas as pd\n",
    "import matplotlib.pyplot as plt\n",
    "%matplotlib inline"
   ]
  },
  {
   "cell_type": "code",
   "execution_count": 4,
   "metadata": {
    "collapsed": true
   },
   "outputs": [],
   "source": [
    "tensor = np.load('../1H-input.npy')"
   ]
  },
  {
   "cell_type": "code",
   "execution_count": 5,
   "metadata": {
    "collapsed": true
   },
   "outputs": [],
   "source": [
    "def create_subset_dataset(tensor):\n",
    "    t_subset = tensor[:, :, 180:194, :]\n",
    "    all_indices = np.array(list(range(320)))\n",
    "    for i in range(1, 7):\n",
    "        valid_homes = pd.DataFrame(t_subset[:, i, :].reshape(320, 14*24)).dropna().index\n",
    "        all_indices = np.intersect1d(all_indices, valid_homes)\n",
    "    t_subset = t_subset[all_indices, :, :, :].reshape(52, 7, 14*24)\n",
    "    \n",
    "    # Create artificial aggregate\n",
    "    t_subset[:, 0, :] = 0.0\n",
    "    for i in range(1, 7):\n",
    "        t_subset[:, 0, :] = t_subset[:, 0, :] + t_subset[:, i, :]\n",
    "    # t_subset is of shape (#home, appliance, days*hours)\n",
    "    return t_subset, all_indices"
   ]
  },
  {
   "cell_type": "code",
   "execution_count": 6,
   "metadata": {},
   "outputs": [
    {
     "data": {
      "text/plain": [
       "(52, 7, 336)"
      ]
     },
     "execution_count": 6,
     "metadata": {},
     "output_type": "execute_result"
    }
   ],
   "source": [
    "t_all, valid_homes = create_subset_dataset(tensor)\n",
    "t_all.shape"
   ]
  },
  {
   "cell_type": "code",
   "execution_count": 7,
   "metadata": {},
   "outputs": [
    {
     "data": {
      "text/plain": [
       "(52, 7, 336)"
      ]
     },
     "execution_count": 7,
     "metadata": {},
     "output_type": "execute_result"
    }
   ],
   "source": [
    "t_all.shape"
   ]
  },
  {
   "cell_type": "code",
   "execution_count": 8,
   "metadata": {
    "collapsed": true
   },
   "outputs": [],
   "source": [
    "def my_objective(y_pred, y_true):\n",
    "    with tf.name_scope(None):\n",
    "        return tf.losses.absolute_difference(y_pred, y_true)"
   ]
  },
  {
   "cell_type": "code",
   "execution_count": 21,
   "metadata": {},
   "outputs": [],
   "source": [
    "from random import randint\n",
    "from numpy import array\n",
    "from numpy import argmax\n",
    "from numpy import array_equal\n",
    "from keras.models import Sequential\n",
    "from keras.layers import LSTM\n",
    "from keras.layers import Dense, Flatten\n",
    "from keras.layers import TimeDistributed\n",
    "from keras.layers import RepeatVector\n",
    "import keras\n",
    "from IPython.display import SVG\n",
    "from keras.utils.vis_utils import model_to_dot\n",
    "n_movies = 3\n",
    "n_users=3\n",
    "n_latent_factors=2"
   ]
  },
  {
   "cell_type": "code",
   "execution_count": 22,
   "metadata": {},
   "outputs": [
    {
     "data": {
      "text/plain": [
       "['aggregate', 'hvac', 'fridge', 'mw', 'dw', 'wm', 'oven']"
      ]
     },
     "execution_count": 22,
     "metadata": {},
     "output_type": "execute_result"
    }
   ],
   "source": [
    "APPLIANCES_ORDER"
   ]
  },
  {
   "cell_type": "code",
   "execution_count": 23,
   "metadata": {
    "collapsed": true
   },
   "outputs": [],
   "source": [
    "train_agg = t_all[:30, 0, :].reshape(30*14, 24)\n",
    "train_appliance = t_all[:30, 1:, :].reshape(30*14, 6*24)\n",
    "\n",
    "train_hvac = t_all[:30, 1, :].reshape(30*14, 24)\n",
    "train_fridge = t_all[:30, 2, :].reshape(30*14, 24)\n",
    "train_mw = t_all[:30, 3, :].reshape(30*14, 24)\n",
    "train_dw = t_all[:30, 4, :].reshape(30*14, 24)\n",
    "train_wm = t_all[:30, 5, :].reshape(30*14, 24)\n",
    "train_oven = t_all[:30, 6, :].reshape(30*14, 24)\n",
    "\n",
    "\n",
    "\n",
    "\n",
    "\n",
    "\n",
    "\n",
    "\n",
    "train_agg_new = train_hvac + train_fridge\n",
    "\n",
    "\n",
    "\n",
    "\n",
    "\n",
    "test_hvac = t_all[30:, 1, :].reshape(22*14, 24)\n",
    "test_fridge = t_all[30:, 2, :].reshape(22*14, 24)\n",
    "test_mw = t_all[30:, 3, :].reshape(22*14, 24)\n",
    "test_dw = t_all[30:, 4, :].reshape(22*14, 24)\n",
    "test_wm = t_all[30:, 5, :].reshape(22*14, 24)\n",
    "test_oven = t_all[30:, 6, :].reshape(22*14, 24)\n",
    "test_appliance = t_all[30:, 1:, :].reshape(22*14, 6*24)\n",
    "\n",
    "\n",
    "\n",
    "\n",
    "\n",
    "\n",
    "\n",
    "\n",
    "\n",
    "test_agg = t_all[30:, 0, :].reshape(22*14, 24)\n",
    "test_agg_new = test_hvac + test_fridge\n",
    "\n"
   ]
  },
  {
   "cell_type": "code",
   "execution_count": 24,
   "metadata": {},
   "outputs": [
    {
     "data": {
      "text/plain": [
       "['aggregate', 'hvac', 'fridge', 'mw', 'dw', 'wm', 'oven']"
      ]
     },
     "execution_count": 24,
     "metadata": {},
     "output_type": "execute_result"
    }
   ],
   "source": [
    "APPLIANCES_ORDER"
   ]
  },
  {
   "cell_type": "code",
   "execution_count": 25,
   "metadata": {
    "collapsed": true
   },
   "outputs": [],
   "source": [
    "train_hvac_fridge = np.hstack([train_hvac, train_fridge])\n",
    "train_all_appliances = np.hstack([train_hvac, train_fridge, train_mw, train_dw, train_wm, train_oven])\n",
    "test_all_appliances = np.hstack([test_hvac, test_fridge, test_mw, test_dw, test_wm, test_oven])"
   ]
  },
  {
   "cell_type": "code",
   "execution_count": 26,
   "metadata": {},
   "outputs": [
    {
     "data": {
      "text/plain": [
       "((420, 144), (308, 144))"
      ]
     },
     "execution_count": 26,
     "metadata": {},
     "output_type": "execute_result"
    }
   ],
   "source": [
    "train_all_appliances.shape, test_all_appliances.shape"
   ]
  },
  {
   "cell_type": "code",
   "execution_count": 27,
   "metadata": {},
   "outputs": [
    {
     "data": {
      "text/plain": [
       "False"
      ]
     },
     "execution_count": 27,
     "metadata": {},
     "output_type": "execute_result"
    }
   ],
   "source": [
    "np.allclose(train_all_appliances, train_appliance)"
   ]
  },
  {
   "cell_type": "code",
   "execution_count": 28,
   "metadata": {},
   "outputs": [
    {
     "data": {
      "text/plain": [
       "hvac      894.701044\n",
       "fridge     89.265252\n",
       "oven       16.646041\n",
       "dw         13.984549\n",
       "mw          6.417846\n",
       "wm          5.083840\n",
       "dtype: float64"
      ]
     },
     "execution_count": 28,
     "metadata": {},
     "output_type": "execute_result"
    }
   ],
   "source": [
    "ENERGY_MEAN = {APPLIANCES_ORDER[i]:np.mean(t_all[:, i, :]) for i in list(range(1, 7))}\n",
    "ENERGY_MEAN = pd.Series(ENERGY_MEAN)\n",
    "ENERGY_MEAN.sort_values(inplace=True, ascending=False)\n",
    "ENERGY_MEAN"
   ]
  },
  {
   "cell_type": "code",
   "execution_count": 29,
   "metadata": {
    "collapsed": true
   },
   "outputs": [],
   "source": [
    "num_iterations_dictionary = {'hvac':1200,'fridge':400,'mw':150,'dw':150,'oven':150, 'wm':150}\n",
    "\n"
   ]
  },
  {
   "cell_type": "code",
   "execution_count": 30,
   "metadata": {
    "collapsed": true
   },
   "outputs": [],
   "source": [
    "np.random.seed(0)\n",
    "from keras.layers.merge import Subtract, Minimum, Multiply, Maximum\n",
    "import keras.backend as K\n",
    "\n",
    "layers = {}\n",
    "appliance=\"hvac\"\n"
   ]
  },
  {
   "cell_type": "code",
   "execution_count": 31,
   "metadata": {},
   "outputs": [
    {
     "ename": "NameError",
     "evalue": "name 'input_tensor' is not defined",
     "output_type": "error",
     "traceback": [
      "\u001b[0;31m---------------------------------------------------------------------------\u001b[0m",
      "\u001b[0;31mNameError\u001b[0m                                 Traceback (most recent call last)",
      "\u001b[0;32m<ipython-input-31-8926030f763f>\u001b[0m in \u001b[0;36m<module>\u001b[0;34m()\u001b[0m\n\u001b[0;32m----> 1\u001b[0;31m \u001b[0mlstm1\u001b[0m \u001b[0;34m=\u001b[0m \u001b[0mLSTM\u001b[0m\u001b[0;34m(\u001b[0m\u001b[0;36m100\u001b[0m\u001b[0;34m,\u001b[0m\u001b[0mname\u001b[0m\u001b[0;34m=\u001b[0m\u001b[0;34m\"LSTM\"\u001b[0m\u001b[0;34m)\u001b[0m\u001b[0;34m(\u001b[0m\u001b[0minput_tensor\u001b[0m\u001b[0;34m)\u001b[0m\u001b[0;34m\u001b[0m\u001b[0m\n\u001b[0m\u001b[1;32m      2\u001b[0m \u001b[0mrep\u001b[0m \u001b[0;34m=\u001b[0m \u001b[0mRepeatVector\u001b[0m\u001b[0;34m(\u001b[0m\u001b[0mn_timesteps_in\u001b[0m\u001b[0;34m)\u001b[0m\u001b[0;34m(\u001b[0m\u001b[0mlstm1\u001b[0m\u001b[0;34m)\u001b[0m\u001b[0;34m\u001b[0m\u001b[0m\n\u001b[1;32m      3\u001b[0m \u001b[0mlstm2\u001b[0m \u001b[0;34m=\u001b[0m \u001b[0mLSTM\u001b[0m\u001b[0;34m(\u001b[0m\u001b[0;36m100\u001b[0m\u001b[0;34m,\u001b[0m \u001b[0mreturn_sequences\u001b[0m\u001b[0;34m=\u001b[0m\u001b[0;32mTrue\u001b[0m\u001b[0;34m)\u001b[0m\u001b[0;34m(\u001b[0m\u001b[0mrep\u001b[0m\u001b[0;34m)\u001b[0m\u001b[0;34m\u001b[0m\u001b[0m\n\u001b[1;32m      4\u001b[0m \u001b[0mtdd\u001b[0m \u001b[0;34m=\u001b[0m \u001b[0mTimeDistributed\u001b[0m\u001b[0;34m(\u001b[0m\u001b[0mDense\u001b[0m\u001b[0;34m(\u001b[0m\u001b[0mn_features\u001b[0m\u001b[0;34m,\u001b[0m \u001b[0mactivation\u001b[0m\u001b[0;34m=\u001b[0m\u001b[0;34m'relu'\u001b[0m\u001b[0;34m)\u001b[0m\u001b[0;34m)\u001b[0m\u001b[0;34m(\u001b[0m\u001b[0mlstm2\u001b[0m\u001b[0;34m)\u001b[0m\u001b[0;34m\u001b[0m\u001b[0m\n\u001b[1;32m      5\u001b[0m \u001b[0mflatten\u001b[0m \u001b[0;34m=\u001b[0m \u001b[0mFlatten\u001b[0m\u001b[0;34m(\u001b[0m\u001b[0;34m)\u001b[0m\u001b[0;34m(\u001b[0m\u001b[0mtdd\u001b[0m\u001b[0;34m)\u001b[0m\u001b[0;34m\u001b[0m\u001b[0m\n",
      "\u001b[0;31mNameError\u001b[0m: name 'input_tensor' is not defined"
     ]
    }
   ],
   "source": [
    "lstm1 = LSTM(100,name=\"LSTM\")(input_tensor)\n",
    "rep = RepeatVector(n_timesteps_in)(lstm1)\n",
    "lstm2 = LSTM(100, return_sequences=True)(rep)\n",
    "tdd = TimeDistributed(Dense(n_features, activation='relu'))(lstm2)\n",
    "flatten = Flatten()(tdd)\n",
    "clip = Minimum()([flatten, Flatten()(input_tensor)])"
   ]
  },
  {
   "cell_type": "code",
   "execution_count": 71,
   "metadata": {},
   "outputs": [
    {
     "name": "stdout",
     "output_type": "stream",
     "text": [
      "hvac\n",
      "hvac Aggregate\n",
      "Tensor(\"subtract_42/sub:0\", shape=(?, ?), dtype=float32)\n",
      "fridge\n",
      "fridge Subtracting-hvac\n",
      "Tensor(\"subtract_43/sub:0\", shape=(?, ?), dtype=float32)\n",
      "oven\n",
      "oven Subtracting-fridge\n",
      "Tensor(\"subtract_44/sub:0\", shape=(?, ?), dtype=float32)\n",
      "dw\n",
      "dw Subtracting-oven\n",
      "Tensor(\"subtract_45/sub:0\", shape=(?, ?), dtype=float32)\n",
      "mw\n",
      "mw Subtracting-dw\n",
      "Tensor(\"subtract_46/sub:0\", shape=(?, ?), dtype=float32)\n",
      "wm\n",
      "wm Subtracting-mw\n",
      "Tensor(\"subtract_47/sub:0\", shape=(?, ?), dtype=float32)\n"
     ]
    },
    {
     "data": {
      "image/svg+xml": [
       "<svg height=\"3038pt\" viewBox=\"0.00 0.00 759.08 3038.00\" width=\"759pt\" xmlns=\"http://www.w3.org/2000/svg\" xmlns:xlink=\"http://www.w3.org/1999/xlink\">\n",
       "<g class=\"graph\" id=\"graph0\" transform=\"scale(1 1) rotate(0) translate(4 3034)\">\n",
       "<title>G</title>\n",
       "<polygon fill=\"white\" points=\"-4,4 -4,-3034 755.076,-3034 755.076,4 -4,4\" stroke=\"none\"/>\n",
       "<!-- 113324347064 -->\n",
       "<g class=\"node\" id=\"node1\"><title>113324347064</title>\n",
       "<polygon fill=\"none\" points=\"183.345,-2993.5 183.345,-3029.5 327.231,-3029.5 327.231,-2993.5 183.345,-2993.5\" stroke=\"black\"/>\n",
       "<text font-family=\"Times,serif\" font-size=\"14.00\" text-anchor=\"middle\" x=\"255.288\" y=\"-3007.3\">Aggregate: InputLayer</text>\n",
       "</g>\n",
       "<!-- 113693436560 -->\n",
       "<g class=\"node\" id=\"node2\"><title>113693436560</title>\n",
       "<polygon fill=\"none\" points=\"122.879,-2920.5 122.879,-2956.5 263.697,-2956.5 263.697,-2920.5 122.879,-2920.5\" stroke=\"black\"/>\n",
       "<text font-family=\"Times,serif\" font-size=\"14.00\" text-anchor=\"middle\" x=\"193.288\" y=\"-2934.3\">LSTM-1-hvac: LSTM</text>\n",
       "</g>\n",
       "<!-- 113324347064&#45;&gt;113693436560 -->\n",
       "<g class=\"edge\" id=\"edge1\"><title>113324347064-&gt;113693436560</title>\n",
       "<path d=\"M240.28,-2993.31C232.664,-2984.59 223.275,-2973.84 214.897,-2964.25\" fill=\"none\" stroke=\"black\"/>\n",
       "<polygon fill=\"black\" points=\"217.372,-2961.76 208.158,-2956.53 212.1,-2966.36 217.372,-2961.76\" stroke=\"black\"/>\n",
       "</g>\n",
       "<!-- 113640990032 -->\n",
       "<g class=\"node\" id=\"node7\"><title>113640990032</title>\n",
       "<polygon fill=\"none\" points=\"293.155,-2847.5 293.155,-2883.5 411.421,-2883.5 411.421,-2847.5 293.155,-2847.5\" stroke=\"black\"/>\n",
       "<text font-family=\"Times,serif\" font-size=\"14.00\" text-anchor=\"middle\" x=\"352.288\" y=\"-2861.3\">flatten_82: Flatten</text>\n",
       "</g>\n",
       "<!-- 113324347064&#45;&gt;113640990032 -->\n",
       "<g class=\"edge\" id=\"edge6\"><title>113324347064-&gt;113640990032</title>\n",
       "<path d=\"M266.796,-2993.42C283.715,-2968.3 315.418,-2921.23 335.102,-2892.01\" fill=\"none\" stroke=\"black\"/>\n",
       "<polygon fill=\"black\" points=\"338.111,-2893.81 340.795,-2883.56 332.305,-2889.9 338.111,-2893.81\" stroke=\"black\"/>\n",
       "</g>\n",
       "<!-- 113636465352 -->\n",
       "<g class=\"node\" id=\"node3\"><title>113636465352</title>\n",
       "<polygon fill=\"none\" points=\"106.407,-2847.5 106.407,-2883.5 254.169,-2883.5 254.169,-2847.5 106.407,-2847.5\" stroke=\"black\"/>\n",
       "<text font-family=\"Times,serif\" font-size=\"14.00\" text-anchor=\"middle\" x=\"180.288\" y=\"-2861.3\">hvac-rep: RepeatVector</text>\n",
       "</g>\n",
       "<!-- 113693436560&#45;&gt;113636465352 -->\n",
       "<g class=\"edge\" id=\"edge2\"><title>113693436560-&gt;113636465352</title>\n",
       "<path d=\"M190.141,-2920.31C188.672,-2912.29 186.888,-2902.55 185.244,-2893.57\" fill=\"none\" stroke=\"black\"/>\n",
       "<polygon fill=\"black\" points=\"188.65,-2892.73 183.406,-2883.53 181.764,-2894 188.65,-2892.73\" stroke=\"black\"/>\n",
       "</g>\n",
       "<!-- 113641840936 -->\n",
       "<g class=\"node\" id=\"node4\"><title>113641840936</title>\n",
       "<polygon fill=\"none\" points=\"108.821,-2774.5 108.821,-2810.5 231.755,-2810.5 231.755,-2774.5 108.821,-2774.5\" stroke=\"black\"/>\n",
       "<text font-family=\"Times,serif\" font-size=\"14.00\" text-anchor=\"middle\" x=\"170.288\" y=\"-2788.3\">hvac-lstm2: LSTM</text>\n",
       "</g>\n",
       "<!-- 113636465352&#45;&gt;113641840936 -->\n",
       "<g class=\"edge\" id=\"edge3\"><title>113636465352-&gt;113641840936</title>\n",
       "<path d=\"M177.867,-2847.31C176.737,-2839.29 175.365,-2829.55 174.101,-2820.57\" fill=\"none\" stroke=\"black\"/>\n",
       "<polygon fill=\"black\" points=\"177.547,-2819.94 172.687,-2810.53 170.615,-2820.92 177.547,-2819.94\" stroke=\"black\"/>\n",
       "</g>\n",
       "<!-- 113636716160 -->\n",
       "<g class=\"node\" id=\"node5\"><title>113636716160</title>\n",
       "<polygon fill=\"none\" points=\"0,-2701.5 0,-2737.5 330.576,-2737.5 330.576,-2701.5 0,-2701.5\" stroke=\"black\"/>\n",
       "<text font-family=\"Times,serif\" font-size=\"14.00\" text-anchor=\"middle\" x=\"165.288\" y=\"-2715.3\">time_distributed_48(hvac-tdd): TimeDistributed(Dense)</text>\n",
       "</g>\n",
       "<!-- 113641840936&#45;&gt;113636716160 -->\n",
       "<g class=\"edge\" id=\"edge4\"><title>113641840936-&gt;113636716160</title>\n",
       "<path d=\"M169.078,-2774.31C168.513,-2766.29 167.827,-2756.55 167.194,-2747.57\" fill=\"none\" stroke=\"black\"/>\n",
       "<polygon fill=\"black\" points=\"170.681,-2747.26 166.487,-2737.53 163.699,-2747.75 170.681,-2747.26\" stroke=\"black\"/>\n",
       "</g>\n",
       "<!-- 113640915520 -->\n",
       "<g class=\"node\" id=\"node6\"><title>113640915520</title>\n",
       "<polygon fill=\"none\" points=\"101.11,-2628.5 101.11,-2664.5 229.466,-2664.5 229.466,-2628.5 101.11,-2628.5\" stroke=\"black\"/>\n",
       "<text font-family=\"Times,serif\" font-size=\"14.00\" text-anchor=\"middle\" x=\"165.288\" y=\"-2642.3\">hvac-flatten: Flatten</text>\n",
       "</g>\n",
       "<!-- 113636716160&#45;&gt;113640915520 -->\n",
       "<g class=\"edge\" id=\"edge5\"><title>113636716160-&gt;113640915520</title>\n",
       "<path d=\"M165.288,-2701.31C165.288,-2693.29 165.288,-2683.55 165.288,-2674.57\" fill=\"none\" stroke=\"black\"/>\n",
       "<polygon fill=\"black\" points=\"168.788,-2674.53 165.288,-2664.53 161.788,-2674.53 168.788,-2674.53\" stroke=\"black\"/>\n",
       "</g>\n",
       "<!-- 113638846080 -->\n",
       "<g class=\"node\" id=\"node8\"><title>113638846080</title>\n",
       "<polygon fill=\"none\" points=\"290.607,-2555.5 290.607,-2591.5 425.969,-2591.5 425.969,-2555.5 290.607,-2555.5\" stroke=\"black\"/>\n",
       "<text font-family=\"Times,serif\" font-size=\"14.00\" text-anchor=\"middle\" x=\"358.288\" y=\"-2569.3\">subtract_42: Subtract</text>\n",
       "</g>\n",
       "<!-- 113640915520&#45;&gt;113638846080 -->\n",
       "<g class=\"edge\" id=\"edge8\"><title>113640915520-&gt;113638846080</title>\n",
       "<path d=\"M211.516,-2628.49C238.769,-2618.47 273.442,-2605.71 302.245,-2595.12\" fill=\"none\" stroke=\"black\"/>\n",
       "<polygon fill=\"black\" points=\"303.591,-2598.35 311.768,-2591.61 301.175,-2591.78 303.591,-2598.35\" stroke=\"black\"/>\n",
       "</g>\n",
       "<!-- 113315212984 -->\n",
       "<g class=\"node\" id=\"node47\"><title>113315212984</title>\n",
       "<polygon fill=\"none\" points=\"401.62,-0.5 401.62,-36.5 500.957,-36.5 500.957,-0.5 401.62,-0.5\" stroke=\"black\"/>\n",
       "<text font-family=\"Times,serif\" font-size=\"14.00\" text-anchor=\"middle\" x=\"451.288\" y=\"-14.3\">Concat: Merge</text>\n",
       "</g>\n",
       "<!-- 113640915520&#45;&gt;113315212984 -->\n",
       "<g class=\"edge\" id=\"edge51\"><title>113640915520-&gt;113315212984</title>\n",
       "<path d=\"M260.288,-528.5C277.588,-466.883 260.288,-448.5 260.288,-384.5 260.288,-384.5 260.288,-384.5 260.288,-163.5 260.288,-96.5671 335.998,-56.8354 392.085,-36.5849\" fill=\"none\" stroke=\"black\"/>\n",
       "<polygon fill=\"black\" points=\"393.315,-39.8629 401.604,-33.2644 391.009,-33.2535 393.315,-39.8629\" stroke=\"black\"/>\n",
       "<path d=\"M146.41,-2628.44C120.823,-2603.35 78.2881,-2553.78 78.2881,-2501.5 78.2881,-2501.5 78.2881,-2501.5 78.2881,-1696.5 78.2881,-1655.4 74.9067,-1640.47 97.2881,-1606 119.389,-1571.96 159.933,-1591.46 171.288,-1552.5\" fill=\"none\" stroke=\"black\"/>\n",
       "<path d=\"M171.288,-1550.5C187.486,-1488.58 171.288,-1470.5 171.288,-1406.5 171.288,-1406.5 171.288,-1406.5 171.288,-674.5 171.288,-633.401 168.367,-618.765 190.288,-584 211.173,-550.878 248.167,-567.734 260.288,-530.5\" fill=\"none\" stroke=\"black\"/>\n",
       "</g>\n",
       "<!-- 113640990032&#45;&gt;113638846080 -->\n",
       "<g class=\"edge\" id=\"edge7\"><title>113640990032-&gt;113638846080</title>\n",
       "<path d=\"M352.645,-2847.23C353.65,-2798.67 356.505,-2660.67 357.725,-2601.73\" fill=\"none\" stroke=\"black\"/>\n",
       "<polygon fill=\"black\" points=\"361.225,-2601.75 357.933,-2591.68 354.226,-2601.61 361.225,-2601.75\" stroke=\"black\"/>\n",
       "</g>\n",
       "<!-- 113641224736 -->\n",
       "<g class=\"node\" id=\"node9\"><title>113641224736</title>\n",
       "<polygon fill=\"none\" points=\"318.003,-2482.5 318.003,-2518.5 452.573,-2518.5 452.573,-2482.5 318.003,-2482.5\" stroke=\"black\"/>\n",
       "<text font-family=\"Times,serif\" font-size=\"14.00\" text-anchor=\"middle\" x=\"385.288\" y=\"-2496.3\">reshape_38: Reshape</text>\n",
       "</g>\n",
       "<!-- 113638846080&#45;&gt;113641224736 -->\n",
       "<g class=\"edge\" id=\"edge9\"><title>113638846080-&gt;113641224736</title>\n",
       "<path d=\"M364.824,-2555.31C367.942,-2547.12 371.741,-2537.12 375.216,-2527.98\" fill=\"none\" stroke=\"black\"/>\n",
       "<polygon fill=\"black\" points=\"378.529,-2529.12 378.812,-2518.53 371.986,-2526.63 378.529,-2529.12\" stroke=\"black\"/>\n",
       "</g>\n",
       "<!-- 113641224232 -->\n",
       "<g class=\"node\" id=\"node10\"><title>113641224232</title>\n",
       "<polygon fill=\"none\" points=\"439.379,-2409.5 439.379,-2445.5 587.197,-2445.5 587.197,-2409.5 439.379,-2409.5\" stroke=\"black\"/>\n",
       "<text font-family=\"Times,serif\" font-size=\"14.00\" text-anchor=\"middle\" x=\"513.288\" y=\"-2423.3\">LSTM-1-fridge: LSTM</text>\n",
       "</g>\n",
       "<!-- 113641224736&#45;&gt;113641224232 -->\n",
       "<g class=\"edge\" id=\"edge10\"><title>113641224736-&gt;113641224232</title>\n",
       "<path d=\"M415.947,-2482.49C433.235,-2472.9 455.027,-2460.82 473.606,-2450.51\" fill=\"none\" stroke=\"black\"/>\n",
       "<polygon fill=\"black\" points=\"475.388,-2453.52 482.435,-2445.61 471.993,-2447.4 475.388,-2453.52\" stroke=\"black\"/>\n",
       "</g>\n",
       "<!-- 113650960032 -->\n",
       "<g class=\"node\" id=\"node15\"><title>113650960032</title>\n",
       "<polygon fill=\"none\" points=\"326.155,-2336.5 326.155,-2372.5 444.421,-2372.5 444.421,-2336.5 326.155,-2336.5\" stroke=\"black\"/>\n",
       "<text font-family=\"Times,serif\" font-size=\"14.00\" text-anchor=\"middle\" x=\"385.288\" y=\"-2350.3\">flatten_83: Flatten</text>\n",
       "</g>\n",
       "<!-- 113641224736&#45;&gt;113650960032 -->\n",
       "<g class=\"edge\" id=\"edge15\"><title>113641224736-&gt;113650960032</title>\n",
       "<path d=\"M385.288,-2482.42C385.288,-2457.84 385.288,-2412.25 385.288,-2382.93\" fill=\"none\" stroke=\"black\"/>\n",
       "<polygon fill=\"black\" points=\"388.788,-2382.56 385.288,-2372.56 381.788,-2382.56 388.788,-2382.56\" stroke=\"black\"/>\n",
       "</g>\n",
       "<!-- 113642384744 -->\n",
       "<g class=\"node\" id=\"node11\"><title>113642384744</title>\n",
       "<polygon fill=\"none\" points=\"483.907,-2336.5 483.907,-2372.5 638.669,-2372.5 638.669,-2336.5 483.907,-2336.5\" stroke=\"black\"/>\n",
       "<text font-family=\"Times,serif\" font-size=\"14.00\" text-anchor=\"middle\" x=\"561.288\" y=\"-2350.3\">fridge-rep: RepeatVector</text>\n",
       "</g>\n",
       "<!-- 113641224232&#45;&gt;113642384744 -->\n",
       "<g class=\"edge\" id=\"edge11\"><title>113641224232-&gt;113642384744</title>\n",
       "<path d=\"M524.908,-2409.31C530.686,-2400.77 537.782,-2390.27 544.168,-2380.82\" fill=\"none\" stroke=\"black\"/>\n",
       "<polygon fill=\"black\" points=\"547.074,-2382.77 549.776,-2372.53 541.275,-2378.85 547.074,-2382.77\" stroke=\"black\"/>\n",
       "</g>\n",
       "<!-- 113646501168 -->\n",
       "<g class=\"node\" id=\"node12\"><title>113646501168</title>\n",
       "<polygon fill=\"none\" points=\"506.321,-2263.5 506.321,-2299.5 636.255,-2299.5 636.255,-2263.5 506.321,-2263.5\" stroke=\"black\"/>\n",
       "<text font-family=\"Times,serif\" font-size=\"14.00\" text-anchor=\"middle\" x=\"571.288\" y=\"-2277.3\">fridge-lstm2: LSTM</text>\n",
       "</g>\n",
       "<!-- 113642384744&#45;&gt;113646501168 -->\n",
       "<g class=\"edge\" id=\"edge12\"><title>113642384744-&gt;113646501168</title>\n",
       "<path d=\"M563.709,-2336.31C564.839,-2328.29 566.211,-2318.55 567.476,-2309.57\" fill=\"none\" stroke=\"black\"/>\n",
       "<polygon fill=\"black\" points=\"570.961,-2309.92 568.89,-2299.53 564.029,-2308.94 570.961,-2309.92\" stroke=\"black\"/>\n",
       "</g>\n",
       "<!-- 113648881056 -->\n",
       "<g class=\"node\" id=\"node13\"><title>113648881056</title>\n",
       "<polygon fill=\"none\" points=\"413.5,-2190.5 413.5,-2226.5 751.076,-2226.5 751.076,-2190.5 413.5,-2190.5\" stroke=\"black\"/>\n",
       "<text font-family=\"Times,serif\" font-size=\"14.00\" text-anchor=\"middle\" x=\"582.288\" y=\"-2204.3\">time_distributed_49(fridge-tdd): TimeDistributed(Dense)</text>\n",
       "</g>\n",
       "<!-- 113646501168&#45;&gt;113648881056 -->\n",
       "<g class=\"edge\" id=\"edge13\"><title>113646501168-&gt;113648881056</title>\n",
       "<path d=\"M573.951,-2263.31C575.194,-2255.29 576.703,-2245.55 578.094,-2236.57\" fill=\"none\" stroke=\"black\"/>\n",
       "<polygon fill=\"black\" points=\"581.577,-2236.95 579.65,-2226.53 574.66,-2235.88 581.577,-2236.95\" stroke=\"black\"/>\n",
       "</g>\n",
       "<!-- 113647276104 -->\n",
       "<g class=\"node\" id=\"node14\"><title>113647276104</title>\n",
       "<polygon fill=\"none\" points=\"514.61,-2117.5 514.61,-2153.5 649.966,-2153.5 649.966,-2117.5 514.61,-2117.5\" stroke=\"black\"/>\n",
       "<text font-family=\"Times,serif\" font-size=\"14.00\" text-anchor=\"middle\" x=\"582.288\" y=\"-2131.3\">fridge-flatten: Flatten</text>\n",
       "</g>\n",
       "<!-- 113648881056&#45;&gt;113647276104 -->\n",
       "<g class=\"edge\" id=\"edge14\"><title>113648881056-&gt;113647276104</title>\n",
       "<path d=\"M582.288,-2190.31C582.288,-2182.29 582.288,-2172.55 582.288,-2163.57\" fill=\"none\" stroke=\"black\"/>\n",
       "<polygon fill=\"black\" points=\"585.788,-2163.53 582.288,-2153.53 578.788,-2163.53 585.788,-2163.53\" stroke=\"black\"/>\n",
       "</g>\n",
       "<!-- 113650511040 -->\n",
       "<g class=\"node\" id=\"node16\"><title>113650511040</title>\n",
       "<polygon fill=\"none\" points=\"324.607,-2044.5 324.607,-2080.5 459.969,-2080.5 459.969,-2044.5 324.607,-2044.5\" stroke=\"black\"/>\n",
       "<text font-family=\"Times,serif\" font-size=\"14.00\" text-anchor=\"middle\" x=\"392.288\" y=\"-2058.3\">subtract_43: Subtract</text>\n",
       "</g>\n",
       "<!-- 113647276104&#45;&gt;113650511040 -->\n",
       "<g class=\"edge\" id=\"edge17\"><title>113647276104-&gt;113650511040</title>\n",
       "<path d=\"M536.778,-2117.49C509.95,-2107.47 475.815,-2094.71 447.46,-2084.12\" fill=\"none\" stroke=\"black\"/>\n",
       "<polygon fill=\"black\" points=\"448.678,-2080.84 438.085,-2080.61 446.227,-2087.39 448.678,-2080.84\" stroke=\"black\"/>\n",
       "</g>\n",
       "<!-- 113647276104&#45;&gt;113315212984 -->\n",
       "<g class=\"edge\" id=\"edge52\"><title>113647276104-&gt;113315212984</title>\n",
       "<path d=\"M594.72,-2117.29C612.294,-2091.21 642.288,-2039.52 642.288,-1990.5 642.288,-1990.5 642.288,-1990.5 642.288,-1185.5 642.288,-1121.5 610.606,-1097.11 642.288,-1041.5\" fill=\"none\" stroke=\"black\"/>\n",
       "</g>\n",
       "<!-- 113650960032&#45;&gt;113650511040 -->\n",
       "<g class=\"edge\" id=\"edge16\"><title>113650960032-&gt;113650511040</title>\n",
       "<path d=\"M385.705,-2336.23C386.877,-2287.67 390.208,-2149.67 391.631,-2090.73\" fill=\"none\" stroke=\"black\"/>\n",
       "<polygon fill=\"black\" points=\"395.131,-2090.76 391.873,-2080.68 388.133,-2090.59 395.131,-2090.76\" stroke=\"black\"/>\n",
       "</g>\n",
       "<!-- 113651259040 -->\n",
       "<g class=\"node\" id=\"node17\"><title>113651259040</title>\n",
       "<polygon fill=\"none\" points=\"325.003,-1971.5 325.003,-2007.5 459.573,-2007.5 459.573,-1971.5 325.003,-1971.5\" stroke=\"black\"/>\n",
       "<text font-family=\"Times,serif\" font-size=\"14.00\" text-anchor=\"middle\" x=\"392.288\" y=\"-1985.3\">reshape_39: Reshape</text>\n",
       "</g>\n",
       "<!-- 113650511040&#45;&gt;113651259040 -->\n",
       "<g class=\"edge\" id=\"edge18\"><title>113650511040-&gt;113651259040</title>\n",
       "<path d=\"M392.288,-2044.31C392.288,-2036.29 392.288,-2026.55 392.288,-2017.57\" fill=\"none\" stroke=\"black\"/>\n",
       "<polygon fill=\"black\" points=\"395.788,-2017.53 392.288,-2007.53 388.788,-2017.53 395.788,-2017.53\" stroke=\"black\"/>\n",
       "</g>\n",
       "<!-- 113651191424 -->\n",
       "<g class=\"node\" id=\"node18\"><title>113651191424</title>\n",
       "<polygon fill=\"none\" points=\"235.486,-1898.5 235.486,-1934.5 377.09,-1934.5 377.09,-1898.5 235.486,-1898.5\" stroke=\"black\"/>\n",
       "<text font-family=\"Times,serif\" font-size=\"14.00\" text-anchor=\"middle\" x=\"306.288\" y=\"-1912.3\">LSTM-1-oven: LSTM</text>\n",
       "</g>\n",
       "<!-- 113651259040&#45;&gt;113651191424 -->\n",
       "<g class=\"edge\" id=\"edge19\"><title>113651259040-&gt;113651191424</title>\n",
       "<path d=\"M371.47,-1971.31C360.484,-1962.24 346.838,-1950.98 334.874,-1941.1\" fill=\"none\" stroke=\"black\"/>\n",
       "<polygon fill=\"black\" points=\"336.854,-1938.2 326.915,-1934.53 332.398,-1943.59 336.854,-1938.2\" stroke=\"black\"/>\n",
       "</g>\n",
       "<!-- 113659839712 -->\n",
       "<g class=\"node\" id=\"node22\"><title>113659839712</title>\n",
       "<polygon fill=\"none\" points=\"400.155,-1825.5 400.155,-1861.5 518.421,-1861.5 518.421,-1825.5 400.155,-1825.5\" stroke=\"black\"/>\n",
       "<text font-family=\"Times,serif\" font-size=\"14.00\" text-anchor=\"middle\" x=\"459.288\" y=\"-1839.3\">flatten_84: Flatten</text>\n",
       "</g>\n",
       "<!-- 113651259040&#45;&gt;113659839712 -->\n",
       "<g class=\"edge\" id=\"edge23\"><title>113651259040-&gt;113659839712</title>\n",
       "<path d=\"M400.237,-1971.42C411.822,-1946.52 433.445,-1900.04 447.064,-1870.77\" fill=\"none\" stroke=\"black\"/>\n",
       "<polygon fill=\"black\" points=\"450.304,-1872.11 451.35,-1861.56 443.958,-1869.15 450.304,-1872.11\" stroke=\"black\"/>\n",
       "</g>\n",
       "<!-- 113655587728 -->\n",
       "<g class=\"node\" id=\"node19\"><title>113655587728</title>\n",
       "<polygon fill=\"none\" points=\"213.014,-1825.5 213.014,-1861.5 361.562,-1861.5 361.562,-1825.5 213.014,-1825.5\" stroke=\"black\"/>\n",
       "<text font-family=\"Times,serif\" font-size=\"14.00\" text-anchor=\"middle\" x=\"287.288\" y=\"-1839.3\">oven-rep: RepeatVector</text>\n",
       "</g>\n",
       "<!-- 113651191424&#45;&gt;113655587728 -->\n",
       "<g class=\"edge\" id=\"edge20\"><title>113651191424-&gt;113655587728</title>\n",
       "<path d=\"M301.689,-1898.31C299.518,-1890.2 296.878,-1880.34 294.454,-1871.28\" fill=\"none\" stroke=\"black\"/>\n",
       "<polygon fill=\"black\" points=\"297.811,-1870.28 291.845,-1861.53 291.049,-1872.09 297.811,-1870.28\" stroke=\"black\"/>\n",
       "</g>\n",
       "<!-- 113653189096 -->\n",
       "<g class=\"node\" id=\"node20\"><title>113653189096</title>\n",
       "<polygon fill=\"none\" points=\"217.428,-1752.5 217.428,-1788.5 341.148,-1788.5 341.148,-1752.5 217.428,-1752.5\" stroke=\"black\"/>\n",
       "<text font-family=\"Times,serif\" font-size=\"14.00\" text-anchor=\"middle\" x=\"279.288\" y=\"-1766.3\">oven-lstm2: LSTM</text>\n",
       "</g>\n",
       "<!-- 113655587728&#45;&gt;113653189096 -->\n",
       "<g class=\"edge\" id=\"edge21\"><title>113655587728-&gt;113653189096</title>\n",
       "<path d=\"M285.352,-1825.31C284.447,-1817.29 283.35,-1807.55 282.338,-1798.57\" fill=\"none\" stroke=\"black\"/>\n",
       "<polygon fill=\"black\" points=\"285.805,-1798.07 281.207,-1788.53 278.849,-1798.86 285.805,-1798.07\" stroke=\"black\"/>\n",
       "</g>\n",
       "<!-- 113657294744 -->\n",
       "<g class=\"node\" id=\"node21\"><title>113657294744</title>\n",
       "<polygon fill=\"none\" points=\"106.607,-1679.5 106.607,-1715.5 437.969,-1715.5 437.969,-1679.5 106.607,-1679.5\" stroke=\"black\"/>\n",
       "<text font-family=\"Times,serif\" font-size=\"14.00\" text-anchor=\"middle\" x=\"272.288\" y=\"-1693.3\">time_distributed_50(oven-tdd): TimeDistributed(Dense)</text>\n",
       "</g>\n",
       "<!-- 113653189096&#45;&gt;113657294744 -->\n",
       "<g class=\"edge\" id=\"edge22\"><title>113653189096-&gt;113657294744</title>\n",
       "<path d=\"M277.594,-1752.31C276.803,-1744.29 275.842,-1734.55 274.957,-1725.57\" fill=\"none\" stroke=\"black\"/>\n",
       "<polygon fill=\"black\" points=\"278.431,-1725.14 273.967,-1715.53 271.465,-1725.82 278.431,-1725.14\" stroke=\"black\"/>\n",
       "</g>\n",
       "<!-- 113659677720 -->\n",
       "<g class=\"node\" id=\"node23\"><title>113659677720</title>\n",
       "<polygon fill=\"none\" points=\"106.717,-1606.5 106.717,-1642.5 235.859,-1642.5 235.859,-1606.5 106.717,-1606.5\" stroke=\"black\"/>\n",
       "<text font-family=\"Times,serif\" font-size=\"14.00\" text-anchor=\"middle\" x=\"171.288\" y=\"-1620.3\">oven-flatten: Flatten</text>\n",
       "</g>\n",
       "<!-- 113657294744&#45;&gt;113659677720 -->\n",
       "<g class=\"edge\" id=\"edge24\"><title>113657294744-&gt;113659677720</title>\n",
       "<path d=\"M248.096,-1679.49C234.951,-1670.25 218.506,-1658.69 204.208,-1648.64\" fill=\"none\" stroke=\"black\"/>\n",
       "<polygon fill=\"black\" points=\"205.826,-1645.5 195.633,-1642.61 201.801,-1651.23 205.826,-1645.5\" stroke=\"black\"/>\n",
       "</g>\n",
       "<!-- 113657224552 -->\n",
       "<g class=\"node\" id=\"node24\"><title>113657224552</title>\n",
       "<polygon fill=\"none\" points=\"283.607,-1533.5 283.607,-1569.5 418.969,-1569.5 418.969,-1533.5 283.607,-1533.5\" stroke=\"black\"/>\n",
       "<text font-family=\"Times,serif\" font-size=\"14.00\" text-anchor=\"middle\" x=\"351.288\" y=\"-1547.3\">subtract_44: Subtract</text>\n",
       "</g>\n",
       "<!-- 113659839712&#45;&gt;113657224552 -->\n",
       "<g class=\"edge\" id=\"edge25\"><title>113659839712-&gt;113657224552</title>\n",
       "<path d=\"M461.159,-1825.1C463.78,-1794.46 466.299,-1729.32 447.288,-1679 432.078,-1638.74 399.721,-1600.54 376.785,-1576.86\" fill=\"none\" stroke=\"black\"/>\n",
       "<polygon fill=\"black\" points=\"379.223,-1574.35 369.703,-1569.7 374.245,-1579.27 379.223,-1574.35\" stroke=\"black\"/>\n",
       "</g>\n",
       "<!-- 113659677720&#45;&gt;113657224552 -->\n",
       "<g class=\"edge\" id=\"edge26\"><title>113659677720-&gt;113657224552</title>\n",
       "<path d=\"M214.403,-1606.49C239.598,-1596.56 271.595,-1583.93 298.318,-1573.39\" fill=\"none\" stroke=\"black\"/>\n",
       "<polygon fill=\"black\" points=\"299.883,-1576.54 307.902,-1569.61 297.315,-1570.03 299.883,-1576.54\" stroke=\"black\"/>\n",
       "</g>\n",
       "<!-- 113659677720&#45;&gt;113315212984 -->\n",
       "<g class=\"edge\" id=\"edge56\"><title>113659677720-&gt;113315212984</title>\n",
       "<path d=\"M168.66,-1606.48C167.016,-1591.86 166.08,-1570.37 171.288,-1552.5\" fill=\"none\" stroke=\"black\"/>\n",
       "</g>\n",
       "<!-- 113659764352 -->\n",
       "<g class=\"node\" id=\"node25\"><title>113659764352</title>\n",
       "<polygon fill=\"none\" points=\"284.003,-1460.5 284.003,-1496.5 418.573,-1496.5 418.573,-1460.5 284.003,-1460.5\" stroke=\"black\"/>\n",
       "<text font-family=\"Times,serif\" font-size=\"14.00\" text-anchor=\"middle\" x=\"351.288\" y=\"-1474.3\">reshape_40: Reshape</text>\n",
       "</g>\n",
       "<!-- 113657224552&#45;&gt;113659764352 -->\n",
       "<g class=\"edge\" id=\"edge27\"><title>113657224552-&gt;113659764352</title>\n",
       "<path d=\"M351.288,-1533.31C351.288,-1525.29 351.288,-1515.55 351.288,-1506.57\" fill=\"none\" stroke=\"black\"/>\n",
       "<polygon fill=\"black\" points=\"354.788,-1506.53 351.288,-1496.53 347.788,-1506.53 354.788,-1506.53\" stroke=\"black\"/>\n",
       "</g>\n",
       "<!-- 113660327080 -->\n",
       "<g class=\"node\" id=\"node26\"><title>113660327080</title>\n",
       "<polygon fill=\"none\" points=\"345.538,-1387.5 345.538,-1423.5 477.038,-1423.5 477.038,-1387.5 345.538,-1387.5\" stroke=\"black\"/>\n",
       "<text font-family=\"Times,serif\" font-size=\"14.00\" text-anchor=\"middle\" x=\"411.288\" y=\"-1401.3\">LSTM-1-dw: LSTM</text>\n",
       "</g>\n",
       "<!-- 113659764352&#45;&gt;113660327080 -->\n",
       "<g class=\"edge\" id=\"edge28\"><title>113659764352-&gt;113660327080</title>\n",
       "<path d=\"M365.812,-1460.31C373.182,-1451.59 382.268,-1440.84 390.376,-1431.25\" fill=\"none\" stroke=\"black\"/>\n",
       "<polygon fill=\"black\" points=\"393.116,-1433.43 396.898,-1423.53 387.77,-1428.91 393.116,-1433.43\" stroke=\"black\"/>\n",
       "</g>\n",
       "<!-- 113669052344 -->\n",
       "<g class=\"node\" id=\"node30\"><title>113669052344</title>\n",
       "<polygon fill=\"none\" points=\"211.155,-1314.5 211.155,-1350.5 329.421,-1350.5 329.421,-1314.5 211.155,-1314.5\" stroke=\"black\"/>\n",
       "<text font-family=\"Times,serif\" font-size=\"14.00\" text-anchor=\"middle\" x=\"270.288\" y=\"-1328.3\">flatten_85: Flatten</text>\n",
       "</g>\n",
       "<!-- 113659764352&#45;&gt;113669052344 -->\n",
       "<g class=\"edge\" id=\"edge32\"><title>113659764352-&gt;113669052344</title>\n",
       "<path d=\"M341.678,-1460.42C327.611,-1435.41 301.304,-1388.64 284.853,-1359.39\" fill=\"none\" stroke=\"black\"/>\n",
       "<polygon fill=\"black\" points=\"287.839,-1357.56 279.885,-1350.56 281.738,-1360.99 287.839,-1357.56\" stroke=\"black\"/>\n",
       "</g>\n",
       "<!-- 113662761616 -->\n",
       "<g class=\"node\" id=\"node27\"><title>113662761616</title>\n",
       "<polygon fill=\"none\" points=\"368.065,-1314.5 368.065,-1350.5 506.511,-1350.5 506.511,-1314.5 368.065,-1314.5\" stroke=\"black\"/>\n",
       "<text font-family=\"Times,serif\" font-size=\"14.00\" text-anchor=\"middle\" x=\"437.288\" y=\"-1328.3\">dw-rep: RepeatVector</text>\n",
       "</g>\n",
       "<!-- 113660327080&#45;&gt;113662761616 -->\n",
       "<g class=\"edge\" id=\"edge29\"><title>113660327080-&gt;113662761616</title>\n",
       "<path d=\"M417.582,-1387.31C420.584,-1379.12 424.243,-1369.12 427.589,-1359.98\" fill=\"none\" stroke=\"black\"/>\n",
       "<polygon fill=\"black\" points=\"430.9,-1361.12 431.052,-1350.53 424.327,-1358.72 430.9,-1361.12\" stroke=\"black\"/>\n",
       "</g>\n",
       "<!-- 113661075808 -->\n",
       "<g class=\"node\" id=\"node28\"><title>113661075808</title>\n",
       "<polygon fill=\"none\" points=\"385.479,-1241.5 385.479,-1277.5 499.097,-1277.5 499.097,-1241.5 385.479,-1241.5\" stroke=\"black\"/>\n",
       "<text font-family=\"Times,serif\" font-size=\"14.00\" text-anchor=\"middle\" x=\"442.288\" y=\"-1255.3\">dw-lstm2: LSTM</text>\n",
       "</g>\n",
       "<!-- 113662761616&#45;&gt;113661075808 -->\n",
       "<g class=\"edge\" id=\"edge30\"><title>113662761616-&gt;113661075808</title>\n",
       "<path d=\"M438.498,-1314.31C439.063,-1306.29 439.75,-1296.55 440.382,-1287.57\" fill=\"none\" stroke=\"black\"/>\n",
       "<polygon fill=\"black\" points=\"443.878,-1287.75 441.089,-1277.53 436.895,-1287.26 443.878,-1287.75\" stroke=\"black\"/>\n",
       "</g>\n",
       "<!-- 113664708000 -->\n",
       "<g class=\"node\" id=\"node29\"><title>113664708000</title>\n",
       "<polygon fill=\"none\" points=\"292.659,-1168.5 292.659,-1204.5 613.917,-1204.5 613.917,-1168.5 292.659,-1168.5\" stroke=\"black\"/>\n",
       "<text font-family=\"Times,serif\" font-size=\"14.00\" text-anchor=\"middle\" x=\"453.288\" y=\"-1182.3\">time_distributed_51(dw-tdd): TimeDistributed(Dense)</text>\n",
       "</g>\n",
       "<!-- 113661075808&#45;&gt;113664708000 -->\n",
       "<g class=\"edge\" id=\"edge31\"><title>113661075808-&gt;113664708000</title>\n",
       "<path d=\"M444.951,-1241.31C446.194,-1233.29 447.703,-1223.55 449.094,-1214.57\" fill=\"none\" stroke=\"black\"/>\n",
       "<polygon fill=\"black\" points=\"452.577,-1214.95 450.65,-1204.53 445.66,-1213.88 452.577,-1214.95\" stroke=\"black\"/>\n",
       "</g>\n",
       "<!-- 113667332696 -->\n",
       "<g class=\"node\" id=\"node31\"><title>113667332696</title>\n",
       "<polygon fill=\"none\" points=\"393.769,-1095.5 393.769,-1131.5 512.807,-1131.5 512.807,-1095.5 393.769,-1095.5\" stroke=\"black\"/>\n",
       "<text font-family=\"Times,serif\" font-size=\"14.00\" text-anchor=\"middle\" x=\"453.288\" y=\"-1109.3\">dw-flatten: Flatten</text>\n",
       "</g>\n",
       "<!-- 113664708000&#45;&gt;113667332696 -->\n",
       "<g class=\"edge\" id=\"edge33\"><title>113664708000-&gt;113667332696</title>\n",
       "<path d=\"M453.288,-1168.31C453.288,-1160.29 453.288,-1150.55 453.288,-1141.57\" fill=\"none\" stroke=\"black\"/>\n",
       "<polygon fill=\"black\" points=\"456.788,-1141.53 453.288,-1131.53 449.788,-1141.53 456.788,-1141.53\" stroke=\"black\"/>\n",
       "</g>\n",
       "<!-- 113667186080 -->\n",
       "<g class=\"node\" id=\"node32\"><title>113667186080</title>\n",
       "<polygon fill=\"none\" points=\"340.607,-1022.5 340.607,-1058.5 475.969,-1058.5 475.969,-1022.5 340.607,-1022.5\" stroke=\"black\"/>\n",
       "<text font-family=\"Times,serif\" font-size=\"14.00\" text-anchor=\"middle\" x=\"408.288\" y=\"-1036.3\">subtract_45: Subtract</text>\n",
       "</g>\n",
       "<!-- 113669052344&#45;&gt;113667186080 -->\n",
       "<g class=\"edge\" id=\"edge34\"><title>113669052344-&gt;113667186080</title>\n",
       "<path d=\"M267.944,-1314.31C264.513,-1283.43 260.764,-1217.19 283.288,-1168 303.262,-1124.38 345.043,-1087.1 374.798,-1064.55\" fill=\"none\" stroke=\"black\"/>\n",
       "<polygon fill=\"black\" points=\"376.896,-1067.35 382.844,-1058.58 372.727,-1061.72 376.896,-1067.35\" stroke=\"black\"/>\n",
       "</g>\n",
       "<!-- 113667332696&#45;&gt;113667186080 -->\n",
       "<g class=\"edge\" id=\"edge35\"><title>113667332696-&gt;113667186080</title>\n",
       "<path d=\"M442.395,-1095.31C437.033,-1086.85 430.461,-1076.48 424.521,-1067.11\" fill=\"none\" stroke=\"black\"/>\n",
       "<polygon fill=\"black\" points=\"427.391,-1065.1 419.081,-1058.53 421.478,-1068.85 427.391,-1065.1\" stroke=\"black\"/>\n",
       "</g>\n",
       "<!-- 113667332696&#45;&gt;113315212984 -->\n",
       "<g class=\"edge\" id=\"edge54\"><title>113667332696-&gt;113315212984</title>\n",
       "<path d=\"M513.142,-1110.17C559.42,-1104.63 619.342,-1088.22 642.288,-1041.5\" fill=\"none\" stroke=\"black\"/>\n",
       "<path d=\"M642.288,-1039.5C670.502,-982.054 642.288,-959.5 642.288,-895.5 642.288,-895.5 642.288,-895.5 642.288,-163.5 642.288,-96.5671 566.578,-56.8354 510.491,-36.5849\" fill=\"none\" stroke=\"black\"/>\n",
       "<polygon fill=\"black\" points=\"511.567,-33.2535 500.972,-33.2644 509.262,-39.8629 511.567,-33.2535\" stroke=\"black\"/>\n",
       "</g>\n",
       "<!-- 113668918520 -->\n",
       "<g class=\"node\" id=\"node33\"><title>113668918520</title>\n",
       "<polygon fill=\"none\" points=\"341.003,-949.5 341.003,-985.5 475.573,-985.5 475.573,-949.5 341.003,-949.5\" stroke=\"black\"/>\n",
       "<text font-family=\"Times,serif\" font-size=\"14.00\" text-anchor=\"middle\" x=\"408.288\" y=\"-963.3\">reshape_41: Reshape</text>\n",
       "</g>\n",
       "<!-- 113667186080&#45;&gt;113668918520 -->\n",
       "<g class=\"edge\" id=\"edge36\"><title>113667186080-&gt;113668918520</title>\n",
       "<path d=\"M408.288,-1022.31C408.288,-1014.29 408.288,-1004.55 408.288,-995.569\" fill=\"none\" stroke=\"black\"/>\n",
       "<polygon fill=\"black\" points=\"411.788,-995.529 408.288,-985.529 404.788,-995.529 411.788,-995.529\" stroke=\"black\"/>\n",
       "</g>\n",
       "<!-- 113669432208 -->\n",
       "<g class=\"node\" id=\"node34\"><title>113669432208</title>\n",
       "<polygon fill=\"none\" points=\"334.593,-876.5 334.593,-912.5 469.983,-912.5 469.983,-876.5 334.593,-876.5\" stroke=\"black\"/>\n",
       "<text font-family=\"Times,serif\" font-size=\"14.00\" text-anchor=\"middle\" x=\"402.288\" y=\"-890.3\">LSTM-1-mw: LSTM</text>\n",
       "</g>\n",
       "<!-- 113668918520&#45;&gt;113669432208 -->\n",
       "<g class=\"edge\" id=\"edge37\"><title>113668918520-&gt;113669432208</title>\n",
       "<path d=\"M406.836,-949.313C406.158,-941.289 405.334,-931.547 404.576,-922.569\" fill=\"none\" stroke=\"black\"/>\n",
       "<polygon fill=\"black\" points=\"408.057,-922.199 403.727,-912.529 401.082,-922.788 408.057,-922.199\" stroke=\"black\"/>\n",
       "</g>\n",
       "<!-- 113677778504 -->\n",
       "<g class=\"node\" id=\"node39\"><title>113677778504</title>\n",
       "<polygon fill=\"none\" points=\"490.155,-803.5 490.155,-839.5 608.421,-839.5 608.421,-803.5 490.155,-803.5\" stroke=\"black\"/>\n",
       "<text font-family=\"Times,serif\" font-size=\"14.00\" text-anchor=\"middle\" x=\"549.288\" y=\"-817.3\">flatten_86: Flatten</text>\n",
       "</g>\n",
       "<!-- 113668918520&#45;&gt;113677778504 -->\n",
       "<g class=\"edge\" id=\"edge42\"><title>113668918520-&gt;113677778504</title>\n",
       "<path d=\"M434.252,-949.459C448.311,-939.629 465.56,-926.556 479.288,-913 499.542,-892.999 519.056,-867.032 532.311,-848.045\" fill=\"none\" stroke=\"black\"/>\n",
       "<polygon fill=\"black\" points=\"535.335,-849.825 538.116,-839.601 529.566,-845.859 535.335,-849.825\" stroke=\"black\"/>\n",
       "</g>\n",
       "<!-- 113671388576 -->\n",
       "<g class=\"node\" id=\"node35\"><title>113671388576</title>\n",
       "<polygon fill=\"none\" points=\"308.121,-803.5 308.121,-839.5 450.456,-839.5 450.456,-803.5 308.121,-803.5\" stroke=\"black\"/>\n",
       "<text font-family=\"Times,serif\" font-size=\"14.00\" text-anchor=\"middle\" x=\"379.288\" y=\"-817.3\">mw-rep: RepeatVector</text>\n",
       "</g>\n",
       "<!-- 113669432208&#45;&gt;113671388576 -->\n",
       "<g class=\"edge\" id=\"edge38\"><title>113669432208-&gt;113671388576</title>\n",
       "<path d=\"M396.72,-876.313C394.093,-868.202 390.897,-858.336 387.962,-849.277\" fill=\"none\" stroke=\"black\"/>\n",
       "<polygon fill=\"black\" points=\"391.216,-847.963 384.804,-839.529 384.557,-850.121 391.216,-847.963\" stroke=\"black\"/>\n",
       "</g>\n",
       "<!-- 113670935496 -->\n",
       "<g class=\"node\" id=\"node36\"><title>113670935496</title>\n",
       "<polygon fill=\"none\" points=\"309.535,-730.5 309.535,-766.5 427.042,-766.5 427.042,-730.5 309.535,-730.5\" stroke=\"black\"/>\n",
       "<text font-family=\"Times,serif\" font-size=\"14.00\" text-anchor=\"middle\" x=\"368.288\" y=\"-744.3\">mw-lstm2: LSTM</text>\n",
       "</g>\n",
       "<!-- 113671388576&#45;&gt;113670935496 -->\n",
       "<g class=\"edge\" id=\"edge39\"><title>113671388576-&gt;113670935496</title>\n",
       "<path d=\"M376.625,-803.313C375.382,-795.289 373.873,-785.547 372.482,-776.569\" fill=\"none\" stroke=\"black\"/>\n",
       "<polygon fill=\"black\" points=\"375.916,-775.875 370.926,-766.529 368.999,-776.947 375.916,-775.875\" stroke=\"black\"/>\n",
       "</g>\n",
       "<!-- 113674935768 -->\n",
       "<g class=\"node\" id=\"node37\"><title>113674935768</title>\n",
       "<polygon fill=\"none\" points=\"199.714,-657.5 199.714,-693.5 524.862,-693.5 524.862,-657.5 199.714,-657.5\" stroke=\"black\"/>\n",
       "<text font-family=\"Times,serif\" font-size=\"14.00\" text-anchor=\"middle\" x=\"362.288\" y=\"-671.3\">time_distributed_52(mw-tdd): TimeDistributed(Dense)</text>\n",
       "</g>\n",
       "<!-- 113670935496&#45;&gt;113674935768 -->\n",
       "<g class=\"edge\" id=\"edge40\"><title>113670935496-&gt;113674935768</title>\n",
       "<path d=\"M366.836,-730.313C366.158,-722.289 365.334,-712.547 364.576,-703.569\" fill=\"none\" stroke=\"black\"/>\n",
       "<polygon fill=\"black\" points=\"368.057,-703.199 363.727,-693.529 361.082,-703.788 368.057,-703.199\" stroke=\"black\"/>\n",
       "</g>\n",
       "<!-- 113676208392 -->\n",
       "<g class=\"node\" id=\"node38\"><title>113676208392</title>\n",
       "<polygon fill=\"none\" points=\"198.824,-584.5 198.824,-620.5 321.752,-620.5 321.752,-584.5 198.824,-584.5\" stroke=\"black\"/>\n",
       "<text font-family=\"Times,serif\" font-size=\"14.00\" text-anchor=\"middle\" x=\"260.288\" y=\"-598.3\">mw-flatten: Flatten</text>\n",
       "</g>\n",
       "<!-- 113674935768&#45;&gt;113676208392 -->\n",
       "<g class=\"edge\" id=\"edge41\"><title>113674935768-&gt;113676208392</title>\n",
       "<path d=\"M337.857,-657.494C324.456,-648.166 307.659,-636.474 293.126,-626.358\" fill=\"none\" stroke=\"black\"/>\n",
       "<polygon fill=\"black\" points=\"295.081,-623.454 284.874,-620.614 291.082,-629.199 295.081,-623.454\" stroke=\"black\"/>\n",
       "</g>\n",
       "<!-- 113678016240 -->\n",
       "<g class=\"node\" id=\"node40\"><title>113678016240</title>\n",
       "<polygon fill=\"none\" points=\"383.607,-511.5 383.607,-547.5 518.969,-547.5 518.969,-511.5 383.607,-511.5\" stroke=\"black\"/>\n",
       "<text font-family=\"Times,serif\" font-size=\"14.00\" text-anchor=\"middle\" x=\"451.288\" y=\"-525.3\">subtract_46: Subtract</text>\n",
       "</g>\n",
       "<!-- 113676208392&#45;&gt;113678016240 -->\n",
       "<g class=\"edge\" id=\"edge44\"><title>113676208392-&gt;113678016240</title>\n",
       "<path d=\"M306.037,-584.494C333.007,-574.468 367.322,-561.713 395.825,-551.117\" fill=\"none\" stroke=\"black\"/>\n",
       "<polygon fill=\"black\" points=\"397.096,-554.379 405.25,-547.614 394.657,-547.817 397.096,-554.379\" stroke=\"black\"/>\n",
       "</g>\n",
       "<!-- 113676208392&#45;&gt;113315212984 -->\n",
       "<g class=\"edge\" id=\"edge53\"><title>113676208392-&gt;113315212984</title>\n",
       "<path d=\"M257.717,-584.218C256.149,-569.618 255.29,-548.301 260.288,-530.5\" fill=\"none\" stroke=\"black\"/>\n",
       "</g>\n",
       "<!-- 113677778504&#45;&gt;113678016240 -->\n",
       "<g class=\"edge\" id=\"edge43\"><title>113677778504-&gt;113678016240</title>\n",
       "<path d=\"M550.394,-803.216C551.764,-772.739 552.055,-707.86 534.288,-657 520.805,-618.403 493.035,-579.977 473.335,-555.783\" fill=\"none\" stroke=\"black\"/>\n",
       "<polygon fill=\"black\" points=\"475.822,-553.298 466.741,-547.841 470.437,-557.77 475.822,-553.298\" stroke=\"black\"/>\n",
       "</g>\n",
       "<!-- 113678236920 -->\n",
       "<g class=\"node\" id=\"node41\"><title>113678236920</title>\n",
       "<polygon fill=\"none\" points=\"384.003,-438.5 384.003,-474.5 518.573,-474.5 518.573,-438.5 384.003,-438.5\" stroke=\"black\"/>\n",
       "<text font-family=\"Times,serif\" font-size=\"14.00\" text-anchor=\"middle\" x=\"451.288\" y=\"-452.3\">reshape_42: Reshape</text>\n",
       "</g>\n",
       "<!-- 113678016240&#45;&gt;113678236920 -->\n",
       "<g class=\"edge\" id=\"edge45\"><title>113678016240-&gt;113678236920</title>\n",
       "<path d=\"M451.288,-511.313C451.288,-503.289 451.288,-493.547 451.288,-484.569\" fill=\"none\" stroke=\"black\"/>\n",
       "<polygon fill=\"black\" points=\"454.788,-484.529 451.288,-474.529 447.788,-484.529 454.788,-484.529\" stroke=\"black\"/>\n",
       "</g>\n",
       "<!-- 113678236192 -->\n",
       "<g class=\"node\" id=\"node42\"><title>113678236192</title>\n",
       "<polygon fill=\"none\" points=\"383.593,-365.5 383.593,-401.5 518.983,-401.5 518.983,-365.5 383.593,-365.5\" stroke=\"black\"/>\n",
       "<text font-family=\"Times,serif\" font-size=\"14.00\" text-anchor=\"middle\" x=\"451.288\" y=\"-379.3\">LSTM-1-wm: LSTM</text>\n",
       "</g>\n",
       "<!-- 113678236920&#45;&gt;113678236192 -->\n",
       "<g class=\"edge\" id=\"edge46\"><title>113678236920-&gt;113678236192</title>\n",
       "<path d=\"M451.288,-438.313C451.288,-430.289 451.288,-420.547 451.288,-411.569\" fill=\"none\" stroke=\"black\"/>\n",
       "<polygon fill=\"black\" points=\"454.788,-411.529 451.288,-401.529 447.788,-411.529 454.788,-411.529\" stroke=\"black\"/>\n",
       "</g>\n",
       "<!-- 113680271288 -->\n",
       "<g class=\"node\" id=\"node43\"><title>113680271288</title>\n",
       "<polygon fill=\"none\" points=\"380.121,-292.5 380.121,-328.5 522.456,-328.5 522.456,-292.5 380.121,-292.5\" stroke=\"black\"/>\n",
       "<text font-family=\"Times,serif\" font-size=\"14.00\" text-anchor=\"middle\" x=\"451.288\" y=\"-306.3\">wm-rep: RepeatVector</text>\n",
       "</g>\n",
       "<!-- 113678236192&#45;&gt;113680271288 -->\n",
       "<g class=\"edge\" id=\"edge47\"><title>113678236192-&gt;113680271288</title>\n",
       "<path d=\"M451.288,-365.313C451.288,-357.289 451.288,-347.547 451.288,-338.569\" fill=\"none\" stroke=\"black\"/>\n",
       "<polygon fill=\"black\" points=\"454.788,-338.529 451.288,-328.529 447.788,-338.529 454.788,-338.529\" stroke=\"black\"/>\n",
       "</g>\n",
       "<!-- 113679329264 -->\n",
       "<g class=\"node\" id=\"node44\"><title>113679329264</title>\n",
       "<polygon fill=\"none\" points=\"392.535,-219.5 392.535,-255.5 510.042,-255.5 510.042,-219.5 392.535,-219.5\" stroke=\"black\"/>\n",
       "<text font-family=\"Times,serif\" font-size=\"14.00\" text-anchor=\"middle\" x=\"451.288\" y=\"-233.3\">wm-lstm2: LSTM</text>\n",
       "</g>\n",
       "<!-- 113680271288&#45;&gt;113679329264 -->\n",
       "<g class=\"edge\" id=\"edge48\"><title>113680271288-&gt;113679329264</title>\n",
       "<path d=\"M451.288,-292.313C451.288,-284.289 451.288,-274.547 451.288,-265.569\" fill=\"none\" stroke=\"black\"/>\n",
       "<polygon fill=\"black\" points=\"454.788,-265.529 451.288,-255.529 447.788,-265.529 454.788,-265.529\" stroke=\"black\"/>\n",
       "</g>\n",
       "<!-- 113684372784 -->\n",
       "<g class=\"node\" id=\"node45\"><title>113684372784</title>\n",
       "<polygon fill=\"none\" points=\"288.714,-146.5 288.714,-182.5 613.862,-182.5 613.862,-146.5 288.714,-146.5\" stroke=\"black\"/>\n",
       "<text font-family=\"Times,serif\" font-size=\"14.00\" text-anchor=\"middle\" x=\"451.288\" y=\"-160.3\">time_distributed_53(wm-tdd): TimeDistributed(Dense)</text>\n",
       "</g>\n",
       "<!-- 113679329264&#45;&gt;113684372784 -->\n",
       "<g class=\"edge\" id=\"edge49\"><title>113679329264-&gt;113684372784</title>\n",
       "<path d=\"M451.288,-219.313C451.288,-211.289 451.288,-201.547 451.288,-192.569\" fill=\"none\" stroke=\"black\"/>\n",
       "<polygon fill=\"black\" points=\"454.788,-192.529 451.288,-182.529 447.788,-192.529 454.788,-192.529\" stroke=\"black\"/>\n",
       "</g>\n",
       "<!-- 113685108552 -->\n",
       "<g class=\"node\" id=\"node46\"><title>113685108552</title>\n",
       "<polygon fill=\"none\" points=\"389.824,-73.5 389.824,-109.5 512.752,-109.5 512.752,-73.5 389.824,-73.5\" stroke=\"black\"/>\n",
       "<text font-family=\"Times,serif\" font-size=\"14.00\" text-anchor=\"middle\" x=\"451.288\" y=\"-87.3\">wm-flatten: Flatten</text>\n",
       "</g>\n",
       "<!-- 113684372784&#45;&gt;113685108552 -->\n",
       "<g class=\"edge\" id=\"edge50\"><title>113684372784-&gt;113685108552</title>\n",
       "<path d=\"M451.288,-146.313C451.288,-138.289 451.288,-128.547 451.288,-119.569\" fill=\"none\" stroke=\"black\"/>\n",
       "<polygon fill=\"black\" points=\"454.788,-119.529 451.288,-109.529 447.788,-119.529 454.788,-119.529\" stroke=\"black\"/>\n",
       "</g>\n",
       "<!-- 113685108552&#45;&gt;113315212984 -->\n",
       "<g class=\"edge\" id=\"edge55\"><title>113685108552-&gt;113315212984</title>\n",
       "<path d=\"M451.288,-73.3129C451.288,-65.2895 451.288,-55.5475 451.288,-46.5691\" fill=\"none\" stroke=\"black\"/>\n",
       "<polygon fill=\"black\" points=\"454.788,-46.5288 451.288,-36.5288 447.788,-46.5289 454.788,-46.5288\" stroke=\"black\"/>\n",
       "</g>\n",
       "</g>\n",
       "</svg>"
      ],
      "text/plain": [
       "<IPython.core.display.SVG object>"
      ]
     },
     "execution_count": 71,
     "metadata": {},
     "output_type": "execute_result"
    }
   ],
   "source": [
    "layers = {}\n",
    "np.random.seed(0)\n",
    "n_timesteps_in=24\n",
    "n_features = 1\n",
    "layers['Aggregate'] = keras.layers.Input(shape=[n_timesteps_in, n_features],name='Aggregate')\n",
    "for appliance_num, appliance in enumerate(ENERGY_MEAN.index[:]):\n",
    "    print(appliance)\n",
    "    if appliance_num==0:\n",
    "        prev = 'Aggregate'\n",
    "    else:\n",
    "        prev = 'Subtracting-{}'.format(ENERGY_MEAN.index[appliance_num-1])\n",
    "    layers['{}-lstm1'.format(appliance)] = LSTM(6,name=\"LSTM-1-{}\".format(appliance))(layers[prev])\n",
    "    print(appliance, prev)\n",
    "    layers['{}-rep'.format(appliance)] = RepeatVector(n_timesteps_in,name='{}-rep'.format(appliance))(layers['{}-lstm1'.format(appliance)])\n",
    "    layers['{}-lstm2'.format(appliance)]= LSTM(6, return_sequences=True,name='{}-lstm2'.format(appliance))(layers['{}-rep'.format(appliance)])\n",
    "    layers['{}-tdd'.format(appliance)]= TimeDistributed(Dense(n_features, activation='relu',name='{}-tdd'.format(appliance)))(layers['{}-lstm2'.format(appliance)])\n",
    "    layers['{}-flatten'.format(appliance)] = Flatten(name='{}-flatten'.format(appliance))(layers['{}-tdd'.format(appliance)])\n",
    "\n",
    "\n",
    "\n",
    "    #layers['{}-clipped-output'.format(appliance)] = Minimum(name='Clipped-{}'.format(appliance))([layers['{}-output'.format(appliance)], layers['Aggregate']])\n",
    "    \n",
    "    # Subtracting out appliance from prev\n",
    "    from keras.layers.merge import subtract\n",
    "    from keras.layers import Reshape\n",
    "    layers['Subtracting-{}'.format(appliance)] = Subtract()([Flatten()(layers[prev]), layers['{}-flatten'.format(appliance)]])\n",
    "    print(layers['Subtracting-{}'.format(appliance)])\n",
    "    layers['Subtracting-{}'.format(appliance)] = Reshape((n_timesteps_in, n_features))(layers['Subtracting-{}'.format(appliance)])\n",
    "\n",
    "    #layers['Subtracting-{}'.format(appliance)] = subtract(name='Subtracting-{}'.format(appliance))([layers[prev], layers['{}-flatten'.format(appliance)]])\n",
    "    \n",
    "\n",
    "\n",
    "\n",
    "\n",
    "concat = keras.layers.merge([layers['{}-flatten'.format(appliance)] for appliance in APPLIANCES_ORDER[1:]], mode='concat',name='Concat')\n",
    "model = keras.Model(layers['Aggregate'], concat )\n",
    "\n",
    "#with open('tree.pdf','wb') as f:\n",
    "#    f.write(model_to_dot(model,  show_shapes=True, show_layer_names=True, rankdir='HB').create(prog='dot', format='pdf'))\n",
    "\n",
    "\n",
    "\n",
    "SVG(model_to_dot(model,  show_shapes=False, show_layer_names=True, rankdir='HB').create(prog='dot', format='svg'))"
   ]
  },
  {
   "cell_type": "code",
   "execution_count": 72,
   "metadata": {},
   "outputs": [
    {
     "name": "stdout",
     "output_type": "stream",
     "text": [
      "__________________________________________________________________________________________________\n",
      "Layer (type)                    Output Shape         Param #     Connected to                     \n",
      "==================================================================================================\n",
      "Aggregate (InputLayer)          (None, 24, 1)        0                                            \n",
      "__________________________________________________________________________________________________\n",
      "LSTM-1-hvac (LSTM)              (None, 6)            192         Aggregate[0][0]                  \n",
      "__________________________________________________________________________________________________\n",
      "hvac-rep (RepeatVector)         (None, 24, 6)        0           LSTM-1-hvac[0][0]                \n",
      "__________________________________________________________________________________________________\n",
      "hvac-lstm2 (LSTM)               (None, 24, 6)        312         hvac-rep[0][0]                   \n",
      "__________________________________________________________________________________________________\n",
      "time_distributed_48 (TimeDistri (None, 24, 1)        7           hvac-lstm2[0][0]                 \n",
      "__________________________________________________________________________________________________\n",
      "hvac-flatten (Flatten)          (None, 24)           0           time_distributed_48[0][0]        \n",
      "__________________________________________________________________________________________________\n",
      "flatten_82 (Flatten)            (None, 24)           0           Aggregate[0][0]                  \n",
      "__________________________________________________________________________________________________\n",
      "subtract_42 (Subtract)          (None, 24)           0           flatten_82[0][0]                 \n",
      "                                                                 hvac-flatten[0][0]               \n",
      "__________________________________________________________________________________________________\n",
      "reshape_38 (Reshape)            (None, 24, 1)        0           subtract_42[0][0]                \n",
      "__________________________________________________________________________________________________\n",
      "LSTM-1-fridge (LSTM)            (None, 6)            192         reshape_38[0][0]                 \n",
      "__________________________________________________________________________________________________\n",
      "fridge-rep (RepeatVector)       (None, 24, 6)        0           LSTM-1-fridge[0][0]              \n",
      "__________________________________________________________________________________________________\n",
      "fridge-lstm2 (LSTM)             (None, 24, 6)        312         fridge-rep[0][0]                 \n",
      "__________________________________________________________________________________________________\n",
      "time_distributed_49 (TimeDistri (None, 24, 1)        7           fridge-lstm2[0][0]               \n",
      "__________________________________________________________________________________________________\n",
      "fridge-flatten (Flatten)        (None, 24)           0           time_distributed_49[0][0]        \n",
      "__________________________________________________________________________________________________\n",
      "flatten_83 (Flatten)            (None, 24)           0           reshape_38[0][0]                 \n",
      "__________________________________________________________________________________________________\n",
      "subtract_43 (Subtract)          (None, 24)           0           flatten_83[0][0]                 \n",
      "                                                                 fridge-flatten[0][0]             \n",
      "__________________________________________________________________________________________________\n",
      "reshape_39 (Reshape)            (None, 24, 1)        0           subtract_43[0][0]                \n",
      "__________________________________________________________________________________________________\n",
      "LSTM-1-oven (LSTM)              (None, 6)            192         reshape_39[0][0]                 \n",
      "__________________________________________________________________________________________________\n",
      "oven-rep (RepeatVector)         (None, 24, 6)        0           LSTM-1-oven[0][0]                \n",
      "__________________________________________________________________________________________________\n",
      "oven-lstm2 (LSTM)               (None, 24, 6)        312         oven-rep[0][0]                   \n",
      "__________________________________________________________________________________________________\n",
      "time_distributed_50 (TimeDistri (None, 24, 1)        7           oven-lstm2[0][0]                 \n",
      "__________________________________________________________________________________________________\n",
      "flatten_84 (Flatten)            (None, 24)           0           reshape_39[0][0]                 \n",
      "__________________________________________________________________________________________________\n",
      "oven-flatten (Flatten)          (None, 24)           0           time_distributed_50[0][0]        \n",
      "__________________________________________________________________________________________________\n",
      "subtract_44 (Subtract)          (None, 24)           0           flatten_84[0][0]                 \n",
      "                                                                 oven-flatten[0][0]               \n",
      "__________________________________________________________________________________________________\n",
      "reshape_40 (Reshape)            (None, 24, 1)        0           subtract_44[0][0]                \n",
      "__________________________________________________________________________________________________\n",
      "LSTM-1-dw (LSTM)                (None, 6)            192         reshape_40[0][0]                 \n",
      "__________________________________________________________________________________________________\n",
      "dw-rep (RepeatVector)           (None, 24, 6)        0           LSTM-1-dw[0][0]                  \n",
      "__________________________________________________________________________________________________\n",
      "dw-lstm2 (LSTM)                 (None, 24, 6)        312         dw-rep[0][0]                     \n",
      "__________________________________________________________________________________________________\n",
      "time_distributed_51 (TimeDistri (None, 24, 1)        7           dw-lstm2[0][0]                   \n",
      "__________________________________________________________________________________________________\n",
      "flatten_85 (Flatten)            (None, 24)           0           reshape_40[0][0]                 \n",
      "__________________________________________________________________________________________________\n",
      "dw-flatten (Flatten)            (None, 24)           0           time_distributed_51[0][0]        \n",
      "__________________________________________________________________________________________________\n",
      "subtract_45 (Subtract)          (None, 24)           0           flatten_85[0][0]                 \n",
      "                                                                 dw-flatten[0][0]                 \n",
      "__________________________________________________________________________________________________\n",
      "reshape_41 (Reshape)            (None, 24, 1)        0           subtract_45[0][0]                \n",
      "__________________________________________________________________________________________________\n",
      "LSTM-1-mw (LSTM)                (None, 6)            192         reshape_41[0][0]                 \n",
      "__________________________________________________________________________________________________\n",
      "mw-rep (RepeatVector)           (None, 24, 6)        0           LSTM-1-mw[0][0]                  \n",
      "__________________________________________________________________________________________________\n",
      "mw-lstm2 (LSTM)                 (None, 24, 6)        312         mw-rep[0][0]                     \n",
      "__________________________________________________________________________________________________\n",
      "time_distributed_52 (TimeDistri (None, 24, 1)        7           mw-lstm2[0][0]                   \n",
      "__________________________________________________________________________________________________\n",
      "mw-flatten (Flatten)            (None, 24)           0           time_distributed_52[0][0]        \n",
      "__________________________________________________________________________________________________\n",
      "flatten_86 (Flatten)            (None, 24)           0           reshape_41[0][0]                 \n",
      "__________________________________________________________________________________________________\n",
      "subtract_46 (Subtract)          (None, 24)           0           flatten_86[0][0]                 \n",
      "                                                                 mw-flatten[0][0]                 \n",
      "__________________________________________________________________________________________________\n",
      "reshape_42 (Reshape)            (None, 24, 1)        0           subtract_46[0][0]                \n",
      "__________________________________________________________________________________________________\n",
      "LSTM-1-wm (LSTM)                (None, 6)            192         reshape_42[0][0]                 \n",
      "__________________________________________________________________________________________________\n",
      "wm-rep (RepeatVector)           (None, 24, 6)        0           LSTM-1-wm[0][0]                  \n",
      "__________________________________________________________________________________________________\n",
      "wm-lstm2 (LSTM)                 (None, 24, 6)        312         wm-rep[0][0]                     \n",
      "__________________________________________________________________________________________________\n",
      "time_distributed_53 (TimeDistri (None, 24, 1)        7           wm-lstm2[0][0]                   \n",
      "__________________________________________________________________________________________________\n",
      "wm-flatten (Flatten)            (None, 24)           0           time_distributed_53[0][0]        \n",
      "__________________________________________________________________________________________________\n",
      "Concat (Merge)                  (None, 144)          0           hvac-flatten[0][0]               \n",
      "                                                                 fridge-flatten[0][0]             \n",
      "                                                                 mw-flatten[0][0]                 \n",
      "                                                                 dw-flatten[0][0]                 \n",
      "                                                                 wm-flatten[0][0]                 \n",
      "                                                                 oven-flatten[0][0]               \n",
      "==================================================================================================\n",
      "Total params: 3,066\n",
      "Trainable params: 3,066\n",
      "Non-trainable params: 0\n",
      "__________________________________________________________________________________________________\n"
     ]
    }
   ],
   "source": [
    "model.summary()"
   ]
  },
  {
   "cell_type": "code",
   "execution_count": 78,
   "metadata": {},
   "outputs": [
    {
     "name": "stdout",
     "output_type": "stream",
     "text": [
      "Train on 378 samples, validate on 42 samples\n",
      "Epoch 1/300\n",
      " - 2s - loss: 163.3298 - val_loss: 167.6821\n",
      "Epoch 2/300\n",
      " - 2s - loss: 163.3206 - val_loss: 167.6763\n",
      "Epoch 3/300\n",
      " - 2s - loss: 163.3113 - val_loss: 167.6712\n",
      "Epoch 4/300\n",
      " - 2s - loss: 163.3019 - val_loss: 167.6650\n",
      "Epoch 5/300\n",
      " - 2s - loss: 163.2928 - val_loss: 167.6592\n",
      "Epoch 6/300\n",
      " - 2s - loss: 163.2834 - val_loss: 167.6542\n",
      "Epoch 7/300\n",
      " - 2s - loss: 163.2742 - val_loss: 167.6497\n",
      "Epoch 8/300\n",
      " - 2s - loss: 163.2639 - val_loss: 167.6483\n",
      "Epoch 9/300\n",
      " - 2s - loss: 163.2527 - val_loss: 167.6464\n",
      "Epoch 10/300\n",
      " - 2s - loss: 163.2425 - val_loss: 167.6415\n",
      "Epoch 11/300\n",
      " - 2s - loss: 163.2323 - val_loss: 167.6369\n",
      "Epoch 12/300\n",
      " - 2s - loss: 163.2174 - val_loss: 167.6326\n",
      "Epoch 13/300\n",
      " - 2s - loss: 163.1955 - val_loss: 167.6283\n",
      "Epoch 14/300\n",
      " - 2s - loss: 163.1936 - val_loss: 167.6307\n",
      "Epoch 15/300\n",
      " - 2s - loss: 163.1901 - val_loss: 167.6325\n",
      "Epoch 16/300\n",
      " - 2s - loss: 163.1760 - val_loss: 167.6160\n",
      "Epoch 17/300\n",
      " - 2s - loss: 163.1633 - val_loss: 167.6057\n",
      "Epoch 18/300\n",
      " - 2s - loss: 163.1506 - val_loss: 167.5992\n",
      "Epoch 19/300\n",
      " - 2s - loss: 163.1413 - val_loss: 167.5937\n",
      "Epoch 20/300\n",
      " - 2s - loss: 163.1335 - val_loss: 167.5877\n",
      "Epoch 21/300\n",
      " - 2s - loss: 163.1247 - val_loss: 167.5814\n",
      "Epoch 22/300\n",
      " - 2s - loss: 163.1155 - val_loss: 167.5768\n",
      "Epoch 23/300\n",
      " - 2s - loss: 163.1047 - val_loss: 167.5714\n",
      "Epoch 24/300\n",
      " - 2s - loss: 163.0959 - val_loss: 167.5663\n",
      "Epoch 25/300\n",
      " - 2s - loss: 163.0874 - val_loss: 167.5615\n",
      "Epoch 26/300\n",
      " - 2s - loss: 163.0791 - val_loss: 167.5543\n",
      "Epoch 27/300\n",
      " - 2s - loss: 163.0701 - val_loss: 167.5486\n",
      "Epoch 28/300\n",
      " - 2s - loss: 163.0613 - val_loss: 167.5442\n",
      "Epoch 29/300\n",
      " - 2s - loss: 163.0506 - val_loss: 167.5380\n",
      "Epoch 30/300\n",
      " - 2s - loss: 163.0416 - val_loss: 167.5329\n",
      "Epoch 31/300\n",
      " - 2s - loss: 163.0325 - val_loss: 167.5260\n",
      "Epoch 32/300\n",
      " - 2s - loss: 163.0285 - val_loss: 167.5203\n",
      "Epoch 33/300\n",
      " - 2s - loss: 163.0169 - val_loss: 167.5160\n",
      "Epoch 34/300\n",
      " - 2s - loss: 163.0069 - val_loss: 167.5098\n",
      "Epoch 35/300\n",
      " - 2s - loss: 162.9974 - val_loss: 167.5049\n",
      "Epoch 36/300\n",
      " - 2s - loss: 162.9871 - val_loss: 167.4987\n",
      "Epoch 37/300\n",
      " - 2s - loss: 162.9792 - val_loss: 167.4933\n",
      "Epoch 38/300\n",
      " - 2s - loss: 162.9711 - val_loss: 167.4871\n",
      "Epoch 39/300\n",
      " - 2s - loss: 162.9623 - val_loss: 167.4816\n",
      "Epoch 40/300\n",
      " - 2s - loss: 162.9503 - val_loss: 167.4768\n",
      "Epoch 41/300\n",
      " - 2s - loss: 162.9428 - val_loss: 167.4710\n",
      "Epoch 42/300\n",
      " - 2s - loss: 162.9336 - val_loss: 167.4649\n",
      "Epoch 43/300\n",
      " - 2s - loss: 162.9246 - val_loss: 167.4597\n",
      "Epoch 44/300\n",
      " - 2s - loss: 162.9165 - val_loss: 167.4533\n",
      "Epoch 45/300\n",
      " - 2s - loss: 162.9076 - val_loss: 167.4478\n",
      "Epoch 46/300\n",
      " - 2s - loss: 162.8987 - val_loss: 167.4426\n",
      "Epoch 47/300\n",
      " - 2s - loss: 162.9035 - val_loss: 167.4366\n",
      "Epoch 48/300\n",
      " - 2s - loss: 162.8843 - val_loss: 167.4319\n",
      "Epoch 49/300\n",
      " - 2s - loss: 162.8705 - val_loss: 167.4266\n",
      "Epoch 50/300\n",
      " - 2s - loss: 162.8678 - val_loss: 167.4201\n",
      "Epoch 51/300\n",
      " - 2s - loss: 162.8610 - val_loss: 167.4152\n",
      "Epoch 52/300\n",
      " - 2s - loss: 162.8457 - val_loss: 167.4101\n",
      "Epoch 53/300\n",
      " - 2s - loss: 162.8341 - val_loss: 167.4045\n",
      "Epoch 54/300\n",
      " - 2s - loss: 162.8261 - val_loss: 167.3983\n",
      "Epoch 55/300\n",
      " - 2s - loss: 162.8178 - val_loss: 167.3928\n",
      "Epoch 56/300\n",
      " - 2s - loss: 162.8092 - val_loss: 167.3878\n",
      "Epoch 57/300\n",
      " - 2s - loss: 162.8001 - val_loss: 167.3826\n",
      "Epoch 58/300\n",
      " - 2s - loss: 162.7917 - val_loss: 167.3771\n",
      "Epoch 59/300\n",
      " - 2s - loss: 162.7811 - val_loss: 167.3716\n",
      "Epoch 60/300\n",
      " - 2s - loss: 162.7786 - val_loss: 167.3745\n",
      "Epoch 61/300\n",
      " - 2s - loss: 162.7707 - val_loss: 167.3708\n",
      "Epoch 62/300\n",
      " - 2s - loss: 162.7612 - val_loss: 167.3655\n",
      "Epoch 63/300\n",
      " - 2s - loss: 162.7520 - val_loss: 167.3524\n",
      "Epoch 64/300\n",
      " - 2s - loss: 162.7400 - val_loss: 167.3453\n",
      "Epoch 65/300\n",
      " - 2s - loss: 162.7281 - val_loss: 167.3401\n",
      "Epoch 66/300\n",
      " - 2s - loss: 162.7206 - val_loss: 167.3354\n",
      "Epoch 67/300\n",
      " - 2s - loss: 162.7098 - val_loss: 167.3290\n",
      "Epoch 68/300\n",
      " - 2s - loss: 162.7009 - val_loss: 167.3241\n",
      "Epoch 69/300\n",
      " - 2s - loss: 162.6925 - val_loss: 167.3188\n",
      "Epoch 70/300\n",
      " - 2s - loss: 162.6831 - val_loss: 167.3133\n",
      "Epoch 71/300\n",
      " - 2s - loss: 162.6751 - val_loss: 167.3080\n",
      "Epoch 72/300\n",
      " - 2s - loss: 162.6685 - val_loss: 167.3029\n",
      "Epoch 73/300\n",
      " - 2s - loss: 162.6562 - val_loss: 167.2981\n",
      "Epoch 74/300\n",
      " - 2s - loss: 162.6482 - val_loss: 167.2930\n",
      "Epoch 75/300\n",
      " - 2s - loss: 162.6407 - val_loss: 167.2873\n",
      "Epoch 76/300\n",
      " - 2s - loss: 162.6311 - val_loss: 167.2839\n",
      "Epoch 77/300\n",
      " - 2s - loss: 162.6207 - val_loss: 167.2794\n",
      "Epoch 78/300\n",
      " - 2s - loss: 162.6093 - val_loss: 167.2735\n",
      "Epoch 79/300\n",
      " - 2s - loss: 162.5805 - val_loss: 167.2904\n",
      "Epoch 80/300\n",
      " - 2s - loss: 162.5740 - val_loss: 167.2632\n",
      "Epoch 81/300\n",
      " - 2s - loss: 162.5616 - val_loss: 167.2581\n",
      "Epoch 82/300\n",
      " - 2s - loss: 162.5533 - val_loss: 167.2765\n",
      "Epoch 83/300\n",
      " - 2s - loss: 162.5416 - val_loss: 167.2660\n",
      "Epoch 84/300\n",
      " - 2s - loss: 162.5325 - val_loss: 167.2423\n",
      "Epoch 85/300\n",
      " - 2s - loss: 162.5382 - val_loss: 167.2334\n",
      "Epoch 86/300\n",
      " - 2s - loss: 162.5441 - val_loss: 167.2279\n",
      "Epoch 87/300\n"
     ]
    },
    {
     "ename": "KeyboardInterrupt",
     "evalue": "",
     "output_type": "error",
     "traceback": [
      "\u001b[0;31m---------------------------------------------------------------------------\u001b[0m",
      "\u001b[0;31mKeyboardInterrupt\u001b[0m                         Traceback (most recent call last)",
      "\u001b[0;32m<ipython-input-78-b0c288abd71b>\u001b[0m in \u001b[0;36m<module>\u001b[0;34m()\u001b[0m\n\u001b[1;32m      1\u001b[0m \u001b[0mnp\u001b[0m\u001b[0;34m.\u001b[0m\u001b[0mrandom\u001b[0m\u001b[0;34m.\u001b[0m\u001b[0mseed\u001b[0m\u001b[0;34m(\u001b[0m\u001b[0;36m0\u001b[0m\u001b[0;34m)\u001b[0m\u001b[0;34m\u001b[0m\u001b[0m\n\u001b[1;32m      2\u001b[0m \u001b[0;31m#model.compile('adam','mean_absolute_error')\u001b[0m\u001b[0;34m\u001b[0m\u001b[0;34m\u001b[0m\u001b[0m\n\u001b[0;32m----> 3\u001b[0;31m \u001b[0mmodel\u001b[0m\u001b[0;34m.\u001b[0m\u001b[0mfit\u001b[0m\u001b[0;34m(\u001b[0m\u001b[0mtrain_agg\u001b[0m\u001b[0;34m.\u001b[0m\u001b[0mreshape\u001b[0m\u001b[0;34m(\u001b[0m\u001b[0;36m420\u001b[0m\u001b[0;34m,\u001b[0m \u001b[0;36m24\u001b[0m\u001b[0;34m,\u001b[0m \u001b[0;36m1\u001b[0m\u001b[0;34m)\u001b[0m\u001b[0;34m,\u001b[0m \u001b[0mtrain_all_appliances\u001b[0m\u001b[0;34m,\u001b[0m \u001b[0mepochs\u001b[0m\u001b[0;34m=\u001b[0m\u001b[0;36m300\u001b[0m\u001b[0;34m,\u001b[0m \u001b[0mvalidation_split\u001b[0m\u001b[0;34m=\u001b[0m\u001b[0;36m0.1\u001b[0m\u001b[0;34m,\u001b[0m \u001b[0mverbose\u001b[0m\u001b[0;34m=\u001b[0m\u001b[0;36m2\u001b[0m\u001b[0;34m)\u001b[0m\u001b[0;34m\u001b[0m\u001b[0m\n\u001b[0m",
      "\u001b[0;32m~/anaconda3/lib/python3.6/site-packages/keras/engine/training.py\u001b[0m in \u001b[0;36mfit\u001b[0;34m(self, x, y, batch_size, epochs, verbose, callbacks, validation_split, validation_data, shuffle, class_weight, sample_weight, initial_epoch, steps_per_epoch, validation_steps, **kwargs)\u001b[0m\n\u001b[1;32m   1655\u001b[0m                               \u001b[0minitial_epoch\u001b[0m\u001b[0;34m=\u001b[0m\u001b[0minitial_epoch\u001b[0m\u001b[0;34m,\u001b[0m\u001b[0;34m\u001b[0m\u001b[0m\n\u001b[1;32m   1656\u001b[0m                               \u001b[0msteps_per_epoch\u001b[0m\u001b[0;34m=\u001b[0m\u001b[0msteps_per_epoch\u001b[0m\u001b[0;34m,\u001b[0m\u001b[0;34m\u001b[0m\u001b[0m\n\u001b[0;32m-> 1657\u001b[0;31m                               validation_steps=validation_steps)\n\u001b[0m\u001b[1;32m   1658\u001b[0m \u001b[0;34m\u001b[0m\u001b[0m\n\u001b[1;32m   1659\u001b[0m     def evaluate(self, x=None, y=None,\n",
      "\u001b[0;32m~/anaconda3/lib/python3.6/site-packages/keras/engine/training.py\u001b[0m in \u001b[0;36m_fit_loop\u001b[0;34m(self, f, ins, out_labels, batch_size, epochs, verbose, callbacks, val_f, val_ins, shuffle, callback_metrics, initial_epoch, steps_per_epoch, validation_steps)\u001b[0m\n\u001b[1;32m   1211\u001b[0m                     \u001b[0mbatch_logs\u001b[0m\u001b[0;34m[\u001b[0m\u001b[0;34m'size'\u001b[0m\u001b[0;34m]\u001b[0m \u001b[0;34m=\u001b[0m \u001b[0mlen\u001b[0m\u001b[0;34m(\u001b[0m\u001b[0mbatch_ids\u001b[0m\u001b[0;34m)\u001b[0m\u001b[0;34m\u001b[0m\u001b[0m\n\u001b[1;32m   1212\u001b[0m                     \u001b[0mcallbacks\u001b[0m\u001b[0;34m.\u001b[0m\u001b[0mon_batch_begin\u001b[0m\u001b[0;34m(\u001b[0m\u001b[0mbatch_index\u001b[0m\u001b[0;34m,\u001b[0m \u001b[0mbatch_logs\u001b[0m\u001b[0;34m)\u001b[0m\u001b[0;34m\u001b[0m\u001b[0m\n\u001b[0;32m-> 1213\u001b[0;31m                     \u001b[0mouts\u001b[0m \u001b[0;34m=\u001b[0m \u001b[0mf\u001b[0m\u001b[0;34m(\u001b[0m\u001b[0mins_batch\u001b[0m\u001b[0;34m)\u001b[0m\u001b[0;34m\u001b[0m\u001b[0m\n\u001b[0m\u001b[1;32m   1214\u001b[0m                     \u001b[0;32mif\u001b[0m \u001b[0;32mnot\u001b[0m \u001b[0misinstance\u001b[0m\u001b[0;34m(\u001b[0m\u001b[0mouts\u001b[0m\u001b[0;34m,\u001b[0m \u001b[0mlist\u001b[0m\u001b[0;34m)\u001b[0m\u001b[0;34m:\u001b[0m\u001b[0;34m\u001b[0m\u001b[0m\n\u001b[1;32m   1215\u001b[0m                         \u001b[0mouts\u001b[0m \u001b[0;34m=\u001b[0m \u001b[0;34m[\u001b[0m\u001b[0mouts\u001b[0m\u001b[0;34m]\u001b[0m\u001b[0;34m\u001b[0m\u001b[0m\n",
      "\u001b[0;32m~/anaconda3/lib/python3.6/site-packages/keras/backend/tensorflow_backend.py\u001b[0m in \u001b[0;36m__call__\u001b[0;34m(self, inputs)\u001b[0m\n\u001b[1;32m   2355\u001b[0m         \u001b[0msession\u001b[0m \u001b[0;34m=\u001b[0m \u001b[0mget_session\u001b[0m\u001b[0;34m(\u001b[0m\u001b[0;34m)\u001b[0m\u001b[0;34m\u001b[0m\u001b[0m\n\u001b[1;32m   2356\u001b[0m         updated = session.run(fetches=fetches, feed_dict=feed_dict,\n\u001b[0;32m-> 2357\u001b[0;31m                               **self.session_kwargs)\n\u001b[0m\u001b[1;32m   2358\u001b[0m         \u001b[0;32mreturn\u001b[0m \u001b[0mupdated\u001b[0m\u001b[0;34m[\u001b[0m\u001b[0;34m:\u001b[0m\u001b[0mlen\u001b[0m\u001b[0;34m(\u001b[0m\u001b[0mself\u001b[0m\u001b[0;34m.\u001b[0m\u001b[0moutputs\u001b[0m\u001b[0;34m)\u001b[0m\u001b[0;34m]\u001b[0m\u001b[0;34m\u001b[0m\u001b[0m\n\u001b[1;32m   2359\u001b[0m \u001b[0;34m\u001b[0m\u001b[0m\n",
      "\u001b[0;32m~/anaconda3/lib/python3.6/site-packages/tensorflow/python/client/session.py\u001b[0m in \u001b[0;36mrun\u001b[0;34m(self, fetches, feed_dict, options, run_metadata)\u001b[0m\n\u001b[1;32m    887\u001b[0m     \u001b[0;32mtry\u001b[0m\u001b[0;34m:\u001b[0m\u001b[0;34m\u001b[0m\u001b[0m\n\u001b[1;32m    888\u001b[0m       result = self._run(None, fetches, feed_dict, options_ptr,\n\u001b[0;32m--> 889\u001b[0;31m                          run_metadata_ptr)\n\u001b[0m\u001b[1;32m    890\u001b[0m       \u001b[0;32mif\u001b[0m \u001b[0mrun_metadata\u001b[0m\u001b[0;34m:\u001b[0m\u001b[0;34m\u001b[0m\u001b[0m\n\u001b[1;32m    891\u001b[0m         \u001b[0mproto_data\u001b[0m \u001b[0;34m=\u001b[0m \u001b[0mtf_session\u001b[0m\u001b[0;34m.\u001b[0m\u001b[0mTF_GetBuffer\u001b[0m\u001b[0;34m(\u001b[0m\u001b[0mrun_metadata_ptr\u001b[0m\u001b[0;34m)\u001b[0m\u001b[0;34m\u001b[0m\u001b[0m\n",
      "\u001b[0;32m~/anaconda3/lib/python3.6/site-packages/tensorflow/python/client/session.py\u001b[0m in \u001b[0;36m_run\u001b[0;34m(self, handle, fetches, feed_dict, options, run_metadata)\u001b[0m\n\u001b[1;32m   1118\u001b[0m     \u001b[0;32mif\u001b[0m \u001b[0mfinal_fetches\u001b[0m \u001b[0;32mor\u001b[0m \u001b[0mfinal_targets\u001b[0m \u001b[0;32mor\u001b[0m \u001b[0;34m(\u001b[0m\u001b[0mhandle\u001b[0m \u001b[0;32mand\u001b[0m \u001b[0mfeed_dict_tensor\u001b[0m\u001b[0;34m)\u001b[0m\u001b[0;34m:\u001b[0m\u001b[0;34m\u001b[0m\u001b[0m\n\u001b[1;32m   1119\u001b[0m       results = self._do_run(handle, final_targets, final_fetches,\n\u001b[0;32m-> 1120\u001b[0;31m                              feed_dict_tensor, options, run_metadata)\n\u001b[0m\u001b[1;32m   1121\u001b[0m     \u001b[0;32melse\u001b[0m\u001b[0;34m:\u001b[0m\u001b[0;34m\u001b[0m\u001b[0m\n\u001b[1;32m   1122\u001b[0m       \u001b[0mresults\u001b[0m \u001b[0;34m=\u001b[0m \u001b[0;34m[\u001b[0m\u001b[0;34m]\u001b[0m\u001b[0;34m\u001b[0m\u001b[0m\n",
      "\u001b[0;32m~/anaconda3/lib/python3.6/site-packages/tensorflow/python/client/session.py\u001b[0m in \u001b[0;36m_do_run\u001b[0;34m(self, handle, target_list, fetch_list, feed_dict, options, run_metadata)\u001b[0m\n\u001b[1;32m   1315\u001b[0m     \u001b[0;32mif\u001b[0m \u001b[0mhandle\u001b[0m \u001b[0;32mis\u001b[0m \u001b[0;32mNone\u001b[0m\u001b[0;34m:\u001b[0m\u001b[0;34m\u001b[0m\u001b[0m\n\u001b[1;32m   1316\u001b[0m       return self._do_call(_run_fn, self._session, feeds, fetches, targets,\n\u001b[0;32m-> 1317\u001b[0;31m                            options, run_metadata)\n\u001b[0m\u001b[1;32m   1318\u001b[0m     \u001b[0;32melse\u001b[0m\u001b[0;34m:\u001b[0m\u001b[0;34m\u001b[0m\u001b[0m\n\u001b[1;32m   1319\u001b[0m       \u001b[0;32mreturn\u001b[0m \u001b[0mself\u001b[0m\u001b[0;34m.\u001b[0m\u001b[0m_do_call\u001b[0m\u001b[0;34m(\u001b[0m\u001b[0m_prun_fn\u001b[0m\u001b[0;34m,\u001b[0m \u001b[0mself\u001b[0m\u001b[0;34m.\u001b[0m\u001b[0m_session\u001b[0m\u001b[0;34m,\u001b[0m \u001b[0mhandle\u001b[0m\u001b[0;34m,\u001b[0m \u001b[0mfeeds\u001b[0m\u001b[0;34m,\u001b[0m \u001b[0mfetches\u001b[0m\u001b[0;34m)\u001b[0m\u001b[0;34m\u001b[0m\u001b[0m\n",
      "\u001b[0;32m~/anaconda3/lib/python3.6/site-packages/tensorflow/python/client/session.py\u001b[0m in \u001b[0;36m_do_call\u001b[0;34m(self, fn, *args)\u001b[0m\n\u001b[1;32m   1321\u001b[0m   \u001b[0;32mdef\u001b[0m \u001b[0m_do_call\u001b[0m\u001b[0;34m(\u001b[0m\u001b[0mself\u001b[0m\u001b[0;34m,\u001b[0m \u001b[0mfn\u001b[0m\u001b[0;34m,\u001b[0m \u001b[0;34m*\u001b[0m\u001b[0margs\u001b[0m\u001b[0;34m)\u001b[0m\u001b[0;34m:\u001b[0m\u001b[0;34m\u001b[0m\u001b[0m\n\u001b[1;32m   1322\u001b[0m     \u001b[0;32mtry\u001b[0m\u001b[0;34m:\u001b[0m\u001b[0;34m\u001b[0m\u001b[0m\n\u001b[0;32m-> 1323\u001b[0;31m       \u001b[0;32mreturn\u001b[0m \u001b[0mfn\u001b[0m\u001b[0;34m(\u001b[0m\u001b[0;34m*\u001b[0m\u001b[0margs\u001b[0m\u001b[0;34m)\u001b[0m\u001b[0;34m\u001b[0m\u001b[0m\n\u001b[0m\u001b[1;32m   1324\u001b[0m     \u001b[0;32mexcept\u001b[0m \u001b[0merrors\u001b[0m\u001b[0;34m.\u001b[0m\u001b[0mOpError\u001b[0m \u001b[0;32mas\u001b[0m \u001b[0me\u001b[0m\u001b[0;34m:\u001b[0m\u001b[0;34m\u001b[0m\u001b[0m\n\u001b[1;32m   1325\u001b[0m       \u001b[0mmessage\u001b[0m \u001b[0;34m=\u001b[0m \u001b[0mcompat\u001b[0m\u001b[0;34m.\u001b[0m\u001b[0mas_text\u001b[0m\u001b[0;34m(\u001b[0m\u001b[0me\u001b[0m\u001b[0;34m.\u001b[0m\u001b[0mmessage\u001b[0m\u001b[0;34m)\u001b[0m\u001b[0;34m\u001b[0m\u001b[0m\n",
      "\u001b[0;32m~/anaconda3/lib/python3.6/site-packages/tensorflow/python/client/session.py\u001b[0m in \u001b[0;36m_run_fn\u001b[0;34m(session, feed_dict, fetch_list, target_list, options, run_metadata)\u001b[0m\n\u001b[1;32m   1300\u001b[0m           return tf_session.TF_Run(session, options,\n\u001b[1;32m   1301\u001b[0m                                    \u001b[0mfeed_dict\u001b[0m\u001b[0;34m,\u001b[0m \u001b[0mfetch_list\u001b[0m\u001b[0;34m,\u001b[0m \u001b[0mtarget_list\u001b[0m\u001b[0;34m,\u001b[0m\u001b[0;34m\u001b[0m\u001b[0m\n\u001b[0;32m-> 1302\u001b[0;31m                                    status, run_metadata)\n\u001b[0m\u001b[1;32m   1303\u001b[0m \u001b[0;34m\u001b[0m\u001b[0m\n\u001b[1;32m   1304\u001b[0m     \u001b[0;32mdef\u001b[0m \u001b[0m_prun_fn\u001b[0m\u001b[0;34m(\u001b[0m\u001b[0msession\u001b[0m\u001b[0;34m,\u001b[0m \u001b[0mhandle\u001b[0m\u001b[0;34m,\u001b[0m \u001b[0mfeed_dict\u001b[0m\u001b[0;34m,\u001b[0m \u001b[0mfetch_list\u001b[0m\u001b[0;34m)\u001b[0m\u001b[0;34m:\u001b[0m\u001b[0;34m\u001b[0m\u001b[0m\n",
      "\u001b[0;31mKeyboardInterrupt\u001b[0m: "
     ]
    }
   ],
   "source": [
    "np.random.seed(0)\n",
    "#model.compile('adam','mean_absolute_error')\n",
    "model.fit(train_agg.reshape(420, 24, 1), train_all_appliances, epochs=300, validation_split=0.1, verbose=2)"
   ]
  },
  {
   "cell_type": "code",
   "execution_count": 79,
   "metadata": {},
   "outputs": [
    {
     "data": {
      "text/plain": [
       "0.6893106745816882"
      ]
     },
     "execution_count": 79,
     "metadata": {},
     "output_type": "execute_result"
    }
   ],
   "source": [
    "pd.DataFrame((train_hvac/train_agg)).mean().mean()"
   ]
  },
  {
   "cell_type": "code",
   "execution_count": 80,
   "metadata": {},
   "outputs": [
    {
     "ename": "ValueError",
     "evalue": "Error when checking : expected Aggregate to have 3 dimensions, but got array with shape (308, 24)",
     "output_type": "error",
     "traceback": [
      "\u001b[0;31m---------------------------------------------------------------------------\u001b[0m",
      "\u001b[0;31mValueError\u001b[0m                                Traceback (most recent call last)",
      "\u001b[0;32m<ipython-input-80-c5ee0e57d218>\u001b[0m in \u001b[0;36m<module>\u001b[0;34m()\u001b[0m\n\u001b[0;32m----> 1\u001b[0;31m \u001b[0mmodel\u001b[0m\u001b[0;34m.\u001b[0m\u001b[0mpredict\u001b[0m\u001b[0;34m(\u001b[0m\u001b[0mtest_agg\u001b[0m\u001b[0;34m)\u001b[0m\u001b[0;34m[\u001b[0m\u001b[0;34m:\u001b[0m\u001b[0;34m,\u001b[0m \u001b[0;34m:\u001b[0m\u001b[0;36m24\u001b[0m\u001b[0;34m]\u001b[0m\u001b[0;34m.\u001b[0m\u001b[0mshape\u001b[0m\u001b[0;34m\u001b[0m\u001b[0m\n\u001b[0m\u001b[1;32m      2\u001b[0m \u001b[0mtest_hvac\u001b[0m\u001b[0;34m.\u001b[0m\u001b[0mshape\u001b[0m\u001b[0;34m\u001b[0m\u001b[0m\n\u001b[1;32m      3\u001b[0m \u001b[0mAPPLIANCES_ORDER\u001b[0m\u001b[0;34m\u001b[0m\u001b[0m\n",
      "\u001b[0;32m~/anaconda3/lib/python3.6/site-packages/keras/engine/training.py\u001b[0m in \u001b[0;36mpredict\u001b[0;34m(self, x, batch_size, verbose, steps)\u001b[0m\n\u001b[1;32m   1770\u001b[0m         x = _standardize_input_data(x, self._feed_input_names,\n\u001b[1;32m   1771\u001b[0m                                     \u001b[0mself\u001b[0m\u001b[0;34m.\u001b[0m\u001b[0m_feed_input_shapes\u001b[0m\u001b[0;34m,\u001b[0m\u001b[0;34m\u001b[0m\u001b[0m\n\u001b[0;32m-> 1772\u001b[0;31m                                     check_batch_axis=False)\n\u001b[0m\u001b[1;32m   1773\u001b[0m         \u001b[0;32mif\u001b[0m \u001b[0mself\u001b[0m\u001b[0;34m.\u001b[0m\u001b[0mstateful\u001b[0m\u001b[0;34m:\u001b[0m\u001b[0;34m\u001b[0m\u001b[0m\n\u001b[1;32m   1774\u001b[0m             \u001b[0;32mif\u001b[0m \u001b[0mx\u001b[0m\u001b[0;34m[\u001b[0m\u001b[0;36m0\u001b[0m\u001b[0;34m]\u001b[0m\u001b[0;34m.\u001b[0m\u001b[0mshape\u001b[0m\u001b[0;34m[\u001b[0m\u001b[0;36m0\u001b[0m\u001b[0;34m]\u001b[0m \u001b[0;34m>\u001b[0m \u001b[0mbatch_size\u001b[0m \u001b[0;32mand\u001b[0m \u001b[0mx\u001b[0m\u001b[0;34m[\u001b[0m\u001b[0;36m0\u001b[0m\u001b[0;34m]\u001b[0m\u001b[0;34m.\u001b[0m\u001b[0mshape\u001b[0m\u001b[0;34m[\u001b[0m\u001b[0;36m0\u001b[0m\u001b[0;34m]\u001b[0m \u001b[0;34m%\u001b[0m \u001b[0mbatch_size\u001b[0m \u001b[0;34m!=\u001b[0m \u001b[0;36m0\u001b[0m\u001b[0;34m:\u001b[0m\u001b[0;34m\u001b[0m\u001b[0m\n",
      "\u001b[0;32m~/anaconda3/lib/python3.6/site-packages/keras/engine/training.py\u001b[0m in \u001b[0;36m_standardize_input_data\u001b[0;34m(data, names, shapes, check_batch_axis, exception_prefix)\u001b[0m\n\u001b[1;32m    139\u001b[0m                                  \u001b[0;34m' to have '\u001b[0m \u001b[0;34m+\u001b[0m \u001b[0mstr\u001b[0m\u001b[0;34m(\u001b[0m\u001b[0mlen\u001b[0m\u001b[0;34m(\u001b[0m\u001b[0mshapes\u001b[0m\u001b[0;34m[\u001b[0m\u001b[0mi\u001b[0m\u001b[0;34m]\u001b[0m\u001b[0;34m)\u001b[0m\u001b[0;34m)\u001b[0m \u001b[0;34m+\u001b[0m\u001b[0;34m\u001b[0m\u001b[0m\n\u001b[1;32m    140\u001b[0m                                  \u001b[0;34m' dimensions, but got array with shape '\u001b[0m \u001b[0;34m+\u001b[0m\u001b[0;34m\u001b[0m\u001b[0m\n\u001b[0;32m--> 141\u001b[0;31m                                  str(array.shape))\n\u001b[0m\u001b[1;32m    142\u001b[0m             \u001b[0;32mfor\u001b[0m \u001b[0mj\u001b[0m\u001b[0;34m,\u001b[0m \u001b[0;34m(\u001b[0m\u001b[0mdim\u001b[0m\u001b[0;34m,\u001b[0m \u001b[0mref_dim\u001b[0m\u001b[0;34m)\u001b[0m \u001b[0;32min\u001b[0m \u001b[0menumerate\u001b[0m\u001b[0;34m(\u001b[0m\u001b[0mzip\u001b[0m\u001b[0;34m(\u001b[0m\u001b[0marray\u001b[0m\u001b[0;34m.\u001b[0m\u001b[0mshape\u001b[0m\u001b[0;34m,\u001b[0m \u001b[0mshapes\u001b[0m\u001b[0;34m[\u001b[0m\u001b[0mi\u001b[0m\u001b[0;34m]\u001b[0m\u001b[0;34m)\u001b[0m\u001b[0;34m)\u001b[0m\u001b[0;34m:\u001b[0m\u001b[0;34m\u001b[0m\u001b[0m\n\u001b[1;32m    143\u001b[0m                 \u001b[0;32mif\u001b[0m \u001b[0;32mnot\u001b[0m \u001b[0mj\u001b[0m \u001b[0;32mand\u001b[0m \u001b[0;32mnot\u001b[0m \u001b[0mcheck_batch_axis\u001b[0m\u001b[0;34m:\u001b[0m\u001b[0;34m\u001b[0m\u001b[0m\n",
      "\u001b[0;31mValueError\u001b[0m: Error when checking : expected Aggregate to have 3 dimensions, but got array with shape (308, 24)"
     ]
    }
   ],
   "source": [
    "model.predict(test_agg)[:, :24].shape\n",
    "test_hvac.shape\n",
    "APPLIANCES_ORDER"
   ]
  },
  {
   "cell_type": "code",
   "execution_count": 81,
   "metadata": {},
   "outputs": [
    {
     "ename": "ValueError",
     "evalue": "Error when checking : expected Aggregate to have 3 dimensions, but got array with shape (308, 24)",
     "output_type": "error",
     "traceback": [
      "\u001b[0;31m---------------------------------------------------------------------------\u001b[0m",
      "\u001b[0;31mValueError\u001b[0m                                Traceback (most recent call last)",
      "\u001b[0;32m<ipython-input-81-73a73d2d1cb4>\u001b[0m in \u001b[0;36m<module>\u001b[0;34m()\u001b[0m\n\u001b[1;32m      1\u001b[0m \u001b[0mpred_hvac\u001b[0m \u001b[0;34m=\u001b[0m \u001b[0mmodel\u001b[0m\u001b[0;34m.\u001b[0m\u001b[0mpredict\u001b[0m\u001b[0;34m(\u001b[0m\u001b[0mtest_agg\u001b[0m\u001b[0;34m.\u001b[0m\u001b[0mreshape\u001b[0m\u001b[0;34m(\u001b[0m\u001b[0;34m-\u001b[0m\u001b[0;36m1\u001b[0m\u001b[0;34m,\u001b[0m\u001b[0;36m24\u001b[0m\u001b[0;34m,\u001b[0m\u001b[0;36m1\u001b[0m\u001b[0;34m)\u001b[0m\u001b[0;34m)\u001b[0m\u001b[0;34m[\u001b[0m\u001b[0;34m:\u001b[0m\u001b[0;34m,\u001b[0m \u001b[0;34m:\u001b[0m\u001b[0;36m24\u001b[0m\u001b[0;34m]\u001b[0m\u001b[0;34m\u001b[0m\u001b[0m\n\u001b[0;32m----> 2\u001b[0;31m \u001b[0mpred_fridge\u001b[0m \u001b[0;34m=\u001b[0m \u001b[0mmodel\u001b[0m\u001b[0;34m.\u001b[0m\u001b[0mpredict\u001b[0m\u001b[0;34m(\u001b[0m\u001b[0mtest_agg\u001b[0m\u001b[0;34m)\u001b[0m\u001b[0;34m[\u001b[0m\u001b[0;34m:\u001b[0m\u001b[0;34m,\u001b[0m \u001b[0;36m24\u001b[0m\u001b[0;34m:\u001b[0m\u001b[0;36m48\u001b[0m\u001b[0;34m]\u001b[0m\u001b[0;34m\u001b[0m\u001b[0m\n\u001b[0m\u001b[1;32m      3\u001b[0m \u001b[0mpred_mw\u001b[0m \u001b[0;34m=\u001b[0m \u001b[0mmodel\u001b[0m\u001b[0;34m.\u001b[0m\u001b[0mpredict\u001b[0m\u001b[0;34m(\u001b[0m\u001b[0mtest_agg\u001b[0m\u001b[0;34m)\u001b[0m\u001b[0;34m[\u001b[0m\u001b[0;34m:\u001b[0m\u001b[0;34m,\u001b[0m \u001b[0;36m48\u001b[0m\u001b[0;34m:\u001b[0m\u001b[0;36m72\u001b[0m\u001b[0;34m]\u001b[0m\u001b[0;34m\u001b[0m\u001b[0m\n\u001b[1;32m      4\u001b[0m \u001b[0mpred_dw\u001b[0m \u001b[0;34m=\u001b[0m \u001b[0mmodel\u001b[0m\u001b[0;34m.\u001b[0m\u001b[0mpredict\u001b[0m\u001b[0;34m(\u001b[0m\u001b[0mtest_agg\u001b[0m\u001b[0;34m)\u001b[0m\u001b[0;34m[\u001b[0m\u001b[0;34m:\u001b[0m\u001b[0;34m,\u001b[0m \u001b[0;36m72\u001b[0m\u001b[0;34m:\u001b[0m\u001b[0;36m96\u001b[0m\u001b[0;34m]\u001b[0m\u001b[0;34m\u001b[0m\u001b[0m\n\u001b[1;32m      5\u001b[0m \u001b[0mpred_wm\u001b[0m \u001b[0;34m=\u001b[0m \u001b[0mmodel\u001b[0m\u001b[0;34m.\u001b[0m\u001b[0mpredict\u001b[0m\u001b[0;34m(\u001b[0m\u001b[0mtest_agg\u001b[0m\u001b[0;34m)\u001b[0m\u001b[0;34m[\u001b[0m\u001b[0;34m:\u001b[0m\u001b[0;34m,\u001b[0m \u001b[0;36m96\u001b[0m\u001b[0;34m:\u001b[0m\u001b[0;36m120\u001b[0m\u001b[0;34m]\u001b[0m\u001b[0;34m\u001b[0m\u001b[0m\n",
      "\u001b[0;32m~/anaconda3/lib/python3.6/site-packages/keras/engine/training.py\u001b[0m in \u001b[0;36mpredict\u001b[0;34m(self, x, batch_size, verbose, steps)\u001b[0m\n\u001b[1;32m   1770\u001b[0m         x = _standardize_input_data(x, self._feed_input_names,\n\u001b[1;32m   1771\u001b[0m                                     \u001b[0mself\u001b[0m\u001b[0;34m.\u001b[0m\u001b[0m_feed_input_shapes\u001b[0m\u001b[0;34m,\u001b[0m\u001b[0;34m\u001b[0m\u001b[0m\n\u001b[0;32m-> 1772\u001b[0;31m                                     check_batch_axis=False)\n\u001b[0m\u001b[1;32m   1773\u001b[0m         \u001b[0;32mif\u001b[0m \u001b[0mself\u001b[0m\u001b[0;34m.\u001b[0m\u001b[0mstateful\u001b[0m\u001b[0;34m:\u001b[0m\u001b[0;34m\u001b[0m\u001b[0m\n\u001b[1;32m   1774\u001b[0m             \u001b[0;32mif\u001b[0m \u001b[0mx\u001b[0m\u001b[0;34m[\u001b[0m\u001b[0;36m0\u001b[0m\u001b[0;34m]\u001b[0m\u001b[0;34m.\u001b[0m\u001b[0mshape\u001b[0m\u001b[0;34m[\u001b[0m\u001b[0;36m0\u001b[0m\u001b[0;34m]\u001b[0m \u001b[0;34m>\u001b[0m \u001b[0mbatch_size\u001b[0m \u001b[0;32mand\u001b[0m \u001b[0mx\u001b[0m\u001b[0;34m[\u001b[0m\u001b[0;36m0\u001b[0m\u001b[0;34m]\u001b[0m\u001b[0;34m.\u001b[0m\u001b[0mshape\u001b[0m\u001b[0;34m[\u001b[0m\u001b[0;36m0\u001b[0m\u001b[0;34m]\u001b[0m \u001b[0;34m%\u001b[0m \u001b[0mbatch_size\u001b[0m \u001b[0;34m!=\u001b[0m \u001b[0;36m0\u001b[0m\u001b[0;34m:\u001b[0m\u001b[0;34m\u001b[0m\u001b[0m\n",
      "\u001b[0;32m~/anaconda3/lib/python3.6/site-packages/keras/engine/training.py\u001b[0m in \u001b[0;36m_standardize_input_data\u001b[0;34m(data, names, shapes, check_batch_axis, exception_prefix)\u001b[0m\n\u001b[1;32m    139\u001b[0m                                  \u001b[0;34m' to have '\u001b[0m \u001b[0;34m+\u001b[0m \u001b[0mstr\u001b[0m\u001b[0;34m(\u001b[0m\u001b[0mlen\u001b[0m\u001b[0;34m(\u001b[0m\u001b[0mshapes\u001b[0m\u001b[0;34m[\u001b[0m\u001b[0mi\u001b[0m\u001b[0;34m]\u001b[0m\u001b[0;34m)\u001b[0m\u001b[0;34m)\u001b[0m \u001b[0;34m+\u001b[0m\u001b[0;34m\u001b[0m\u001b[0m\n\u001b[1;32m    140\u001b[0m                                  \u001b[0;34m' dimensions, but got array with shape '\u001b[0m \u001b[0;34m+\u001b[0m\u001b[0;34m\u001b[0m\u001b[0m\n\u001b[0;32m--> 141\u001b[0;31m                                  str(array.shape))\n\u001b[0m\u001b[1;32m    142\u001b[0m             \u001b[0;32mfor\u001b[0m \u001b[0mj\u001b[0m\u001b[0;34m,\u001b[0m \u001b[0;34m(\u001b[0m\u001b[0mdim\u001b[0m\u001b[0;34m,\u001b[0m \u001b[0mref_dim\u001b[0m\u001b[0;34m)\u001b[0m \u001b[0;32min\u001b[0m \u001b[0menumerate\u001b[0m\u001b[0;34m(\u001b[0m\u001b[0mzip\u001b[0m\u001b[0;34m(\u001b[0m\u001b[0marray\u001b[0m\u001b[0;34m.\u001b[0m\u001b[0mshape\u001b[0m\u001b[0;34m,\u001b[0m \u001b[0mshapes\u001b[0m\u001b[0;34m[\u001b[0m\u001b[0mi\u001b[0m\u001b[0;34m]\u001b[0m\u001b[0;34m)\u001b[0m\u001b[0;34m)\u001b[0m\u001b[0;34m:\u001b[0m\u001b[0;34m\u001b[0m\u001b[0m\n\u001b[1;32m    143\u001b[0m                 \u001b[0;32mif\u001b[0m \u001b[0;32mnot\u001b[0m \u001b[0mj\u001b[0m \u001b[0;32mand\u001b[0m \u001b[0;32mnot\u001b[0m \u001b[0mcheck_batch_axis\u001b[0m\u001b[0;34m:\u001b[0m\u001b[0;34m\u001b[0m\u001b[0m\n",
      "\u001b[0;31mValueError\u001b[0m: Error when checking : expected Aggregate to have 3 dimensions, but got array with shape (308, 24)"
     ]
    }
   ],
   "source": [
    "pred_hvac = model.predict(test_agg.reshape(-1,24,1))[:, :24]\n",
    "pred_fridge = model.predict(test_agg)[:, 24:48]\n",
    "pred_mw = model.predict(test_agg)[:, 48:72]\n",
    "pred_dw = model.predict(test_agg)[:, 72:96]\n",
    "pred_wm = model.predict(test_agg)[:, 96:120]\n",
    "pred_oven = model.predict(test_agg)[:, 120:]\n",
    "\n",
    "\n",
    "\n",
    "\n",
    "\n",
    "\n",
    "\n",
    "\n",
    "from sklearn.metrics import mean_absolute_error\n",
    "print(mean_absolute_error(pred_hvac, test_hvac))\n",
    "print(mean_absolute_error(pred_fridge, test_fridge))\n",
    "print(mean_absolute_error(pred_mw, test_mw))\n",
    "print(mean_absolute_error(pred_dw, test_dw))\n",
    "print(mean_absolute_error(pred_wm, test_wm))\n",
    "print(mean_absolute_error(pred_oven, test_oven))\n",
    "\n",
    "\n",
    "\n",
    "\n",
    "\n",
    "\n",
    "\n",
    "\n",
    "#print(mean_absolute_error(test_agg, pred_hvac))\n",
    "\n"
   ]
  },
  {
   "cell_type": "code",
   "execution_count": 82,
   "metadata": {},
   "outputs": [
    {
     "data": {
      "text/plain": [
       "array([[ 14.88896561,  19.8985939 ,  20.62336349, ...,  20.74130249,\n",
       "         20.74130249,  20.74130249],\n",
       "       [ 16.0984478 ,  20.02718925,  20.64234161, ...,  20.74130249,\n",
       "         20.74130249,  20.74130249],\n",
       "       [ 16.0984478 ,  20.02718925,  20.64234161, ...,  20.74130249,\n",
       "         20.74130249,  20.74130249],\n",
       "       ..., \n",
       "       [ 16.0984478 ,  20.02718925,  20.64234161, ...,  20.74130249,\n",
       "         20.74130249,  20.74130249],\n",
       "       [ 16.0984478 ,  20.02718925,  20.64234161, ...,  20.74130249,\n",
       "         20.74130249,  20.74130249],\n",
       "       [ 16.0984478 ,  20.02718925,  20.64234161, ...,  20.74130249,\n",
       "         20.74130249,  20.74130249]], dtype=float32)"
      ]
     },
     "execution_count": 82,
     "metadata": {},
     "output_type": "execute_result"
    }
   ],
   "source": [
    "pred_hvac"
   ]
  },
  {
   "cell_type": "code",
   "execution_count": 83,
   "metadata": {},
   "outputs": [
    {
     "ename": "ValueError",
     "evalue": "Error when checking : expected Aggregate to have 3 dimensions, but got array with shape (308, 24)",
     "output_type": "error",
     "traceback": [
      "\u001b[0;31m---------------------------------------------------------------------------\u001b[0m",
      "\u001b[0;31mValueError\u001b[0m                                Traceback (most recent call last)",
      "\u001b[0;32m<ipython-input-83-61d4366df562>\u001b[0m in \u001b[0;36m<module>\u001b[0;34m()\u001b[0m\n\u001b[0;32m----> 1\u001b[0;31m \u001b[0mpd\u001b[0m\u001b[0;34m.\u001b[0m\u001b[0mDataFrame\u001b[0m\u001b[0;34m(\u001b[0m\u001b[0mmodel\u001b[0m\u001b[0;34m.\u001b[0m\u001b[0mpredict\u001b[0m\u001b[0;34m(\u001b[0m\u001b[0mtest_agg\u001b[0m\u001b[0;34m)\u001b[0m\u001b[0;34m[\u001b[0m\u001b[0;34m:\u001b[0m\u001b[0;34m,\u001b[0m \u001b[0;34m:\u001b[0m\u001b[0;34m]\u001b[0m\u001b[0;34m)\u001b[0m\u001b[0;34m.\u001b[0m\u001b[0mmean\u001b[0m\u001b[0;34m(\u001b[0m\u001b[0;34m)\u001b[0m\u001b[0;34m.\u001b[0m\u001b[0mmean\u001b[0m\u001b[0;34m(\u001b[0m\u001b[0;34m)\u001b[0m\u001b[0;34m\u001b[0m\u001b[0m\n\u001b[0m",
      "\u001b[0;32m~/anaconda3/lib/python3.6/site-packages/keras/engine/training.py\u001b[0m in \u001b[0;36mpredict\u001b[0;34m(self, x, batch_size, verbose, steps)\u001b[0m\n\u001b[1;32m   1770\u001b[0m         x = _standardize_input_data(x, self._feed_input_names,\n\u001b[1;32m   1771\u001b[0m                                     \u001b[0mself\u001b[0m\u001b[0;34m.\u001b[0m\u001b[0m_feed_input_shapes\u001b[0m\u001b[0;34m,\u001b[0m\u001b[0;34m\u001b[0m\u001b[0m\n\u001b[0;32m-> 1772\u001b[0;31m                                     check_batch_axis=False)\n\u001b[0m\u001b[1;32m   1773\u001b[0m         \u001b[0;32mif\u001b[0m \u001b[0mself\u001b[0m\u001b[0;34m.\u001b[0m\u001b[0mstateful\u001b[0m\u001b[0;34m:\u001b[0m\u001b[0;34m\u001b[0m\u001b[0m\n\u001b[1;32m   1774\u001b[0m             \u001b[0;32mif\u001b[0m \u001b[0mx\u001b[0m\u001b[0;34m[\u001b[0m\u001b[0;36m0\u001b[0m\u001b[0;34m]\u001b[0m\u001b[0;34m.\u001b[0m\u001b[0mshape\u001b[0m\u001b[0;34m[\u001b[0m\u001b[0;36m0\u001b[0m\u001b[0;34m]\u001b[0m \u001b[0;34m>\u001b[0m \u001b[0mbatch_size\u001b[0m \u001b[0;32mand\u001b[0m \u001b[0mx\u001b[0m\u001b[0;34m[\u001b[0m\u001b[0;36m0\u001b[0m\u001b[0;34m]\u001b[0m\u001b[0;34m.\u001b[0m\u001b[0mshape\u001b[0m\u001b[0;34m[\u001b[0m\u001b[0;36m0\u001b[0m\u001b[0;34m]\u001b[0m \u001b[0;34m%\u001b[0m \u001b[0mbatch_size\u001b[0m \u001b[0;34m!=\u001b[0m \u001b[0;36m0\u001b[0m\u001b[0;34m:\u001b[0m\u001b[0;34m\u001b[0m\u001b[0m\n",
      "\u001b[0;32m~/anaconda3/lib/python3.6/site-packages/keras/engine/training.py\u001b[0m in \u001b[0;36m_standardize_input_data\u001b[0;34m(data, names, shapes, check_batch_axis, exception_prefix)\u001b[0m\n\u001b[1;32m    139\u001b[0m                                  \u001b[0;34m' to have '\u001b[0m \u001b[0;34m+\u001b[0m \u001b[0mstr\u001b[0m\u001b[0;34m(\u001b[0m\u001b[0mlen\u001b[0m\u001b[0;34m(\u001b[0m\u001b[0mshapes\u001b[0m\u001b[0;34m[\u001b[0m\u001b[0mi\u001b[0m\u001b[0;34m]\u001b[0m\u001b[0;34m)\u001b[0m\u001b[0;34m)\u001b[0m \u001b[0;34m+\u001b[0m\u001b[0;34m\u001b[0m\u001b[0m\n\u001b[1;32m    140\u001b[0m                                  \u001b[0;34m' dimensions, but got array with shape '\u001b[0m \u001b[0;34m+\u001b[0m\u001b[0;34m\u001b[0m\u001b[0m\n\u001b[0;32m--> 141\u001b[0;31m                                  str(array.shape))\n\u001b[0m\u001b[1;32m    142\u001b[0m             \u001b[0;32mfor\u001b[0m \u001b[0mj\u001b[0m\u001b[0;34m,\u001b[0m \u001b[0;34m(\u001b[0m\u001b[0mdim\u001b[0m\u001b[0;34m,\u001b[0m \u001b[0mref_dim\u001b[0m\u001b[0;34m)\u001b[0m \u001b[0;32min\u001b[0m \u001b[0menumerate\u001b[0m\u001b[0;34m(\u001b[0m\u001b[0mzip\u001b[0m\u001b[0;34m(\u001b[0m\u001b[0marray\u001b[0m\u001b[0;34m.\u001b[0m\u001b[0mshape\u001b[0m\u001b[0;34m,\u001b[0m \u001b[0mshapes\u001b[0m\u001b[0;34m[\u001b[0m\u001b[0mi\u001b[0m\u001b[0;34m]\u001b[0m\u001b[0;34m)\u001b[0m\u001b[0;34m)\u001b[0m\u001b[0;34m:\u001b[0m\u001b[0;34m\u001b[0m\u001b[0m\n\u001b[1;32m    143\u001b[0m                 \u001b[0;32mif\u001b[0m \u001b[0;32mnot\u001b[0m \u001b[0mj\u001b[0m \u001b[0;32mand\u001b[0m \u001b[0;32mnot\u001b[0m \u001b[0mcheck_batch_axis\u001b[0m\u001b[0;34m:\u001b[0m\u001b[0;34m\u001b[0m\u001b[0m\n",
      "\u001b[0;31mValueError\u001b[0m: Error when checking : expected Aggregate to have 3 dimensions, but got array with shape (308, 24)"
     ]
    }
   ],
   "source": [
    "pd.DataFrame(model.predict(test_agg)[:, :]).mean().mean()"
   ]
  },
  {
   "cell_type": "code",
   "execution_count": 84,
   "metadata": {},
   "outputs": [
    {
     "data": {
      "text/plain": [
       "(308, 24)"
      ]
     },
     "execution_count": 84,
     "metadata": {},
     "output_type": "execute_result"
    }
   ],
   "source": [
    "test_agg.shape"
   ]
  },
  {
   "cell_type": "code",
   "execution_count": 85,
   "metadata": {},
   "outputs": [
    {
     "ename": "ValueError",
     "evalue": "Error when checking : expected Aggregate to have 3 dimensions, but got array with shape (308, 24)",
     "output_type": "error",
     "traceback": [
      "\u001b[0;31m---------------------------------------------------------------------------\u001b[0m",
      "\u001b[0;31mValueError\u001b[0m                                Traceback (most recent call last)",
      "\u001b[0;32m<ipython-input-85-4ed7bcaaf62d>\u001b[0m in \u001b[0;36m<module>\u001b[0;34m()\u001b[0m\n\u001b[1;32m      1\u001b[0m \u001b[0;31m#pd.Series(train_appliance[0]).plot()\u001b[0m\u001b[0;34m\u001b[0m\u001b[0;34m\u001b[0m\u001b[0m\n\u001b[1;32m      2\u001b[0m \u001b[0mpd\u001b[0m\u001b[0;34m.\u001b[0m\u001b[0mSeries\u001b[0m\u001b[0;34m(\u001b[0m\u001b[0mtrain_all_appliances\u001b[0m\u001b[0;34m[\u001b[0m\u001b[0;36m0\u001b[0m\u001b[0;34m]\u001b[0m\u001b[0;34m)\u001b[0m\u001b[0;34m.\u001b[0m\u001b[0mplot\u001b[0m\u001b[0;34m(\u001b[0m\u001b[0mlabel\u001b[0m\u001b[0;34m=\u001b[0m\u001b[0;34m'GT'\u001b[0m\u001b[0;34m)\u001b[0m\u001b[0;34m\u001b[0m\u001b[0m\n\u001b[0;32m----> 3\u001b[0;31m \u001b[0mpd\u001b[0m\u001b[0;34m.\u001b[0m\u001b[0mSeries\u001b[0m\u001b[0;34m(\u001b[0m\u001b[0mmodel\u001b[0m\u001b[0;34m.\u001b[0m\u001b[0mpredict\u001b[0m\u001b[0;34m(\u001b[0m\u001b[0mtest_agg\u001b[0m\u001b[0;34m)\u001b[0m\u001b[0;34m[\u001b[0m\u001b[0;36m0\u001b[0m\u001b[0;34m,\u001b[0m \u001b[0;34m:\u001b[0m\u001b[0;34m]\u001b[0m\u001b[0;34m)\u001b[0m\u001b[0;34m.\u001b[0m\u001b[0mplot\u001b[0m\u001b[0;34m(\u001b[0m\u001b[0mlabel\u001b[0m\u001b[0;34m=\u001b[0m\u001b[0;34m'Pred'\u001b[0m\u001b[0;34m)\u001b[0m\u001b[0;34m\u001b[0m\u001b[0m\n\u001b[0m\u001b[1;32m      4\u001b[0m \u001b[0mplt\u001b[0m\u001b[0;34m.\u001b[0m\u001b[0mlegend\u001b[0m\u001b[0;34m(\u001b[0m\u001b[0;34m)\u001b[0m\u001b[0;34m\u001b[0m\u001b[0m\n",
      "\u001b[0;32m~/anaconda3/lib/python3.6/site-packages/keras/engine/training.py\u001b[0m in \u001b[0;36mpredict\u001b[0;34m(self, x, batch_size, verbose, steps)\u001b[0m\n\u001b[1;32m   1770\u001b[0m         x = _standardize_input_data(x, self._feed_input_names,\n\u001b[1;32m   1771\u001b[0m                                     \u001b[0mself\u001b[0m\u001b[0;34m.\u001b[0m\u001b[0m_feed_input_shapes\u001b[0m\u001b[0;34m,\u001b[0m\u001b[0;34m\u001b[0m\u001b[0m\n\u001b[0;32m-> 1772\u001b[0;31m                                     check_batch_axis=False)\n\u001b[0m\u001b[1;32m   1773\u001b[0m         \u001b[0;32mif\u001b[0m \u001b[0mself\u001b[0m\u001b[0;34m.\u001b[0m\u001b[0mstateful\u001b[0m\u001b[0;34m:\u001b[0m\u001b[0;34m\u001b[0m\u001b[0m\n\u001b[1;32m   1774\u001b[0m             \u001b[0;32mif\u001b[0m \u001b[0mx\u001b[0m\u001b[0;34m[\u001b[0m\u001b[0;36m0\u001b[0m\u001b[0;34m]\u001b[0m\u001b[0;34m.\u001b[0m\u001b[0mshape\u001b[0m\u001b[0;34m[\u001b[0m\u001b[0;36m0\u001b[0m\u001b[0;34m]\u001b[0m \u001b[0;34m>\u001b[0m \u001b[0mbatch_size\u001b[0m \u001b[0;32mand\u001b[0m \u001b[0mx\u001b[0m\u001b[0;34m[\u001b[0m\u001b[0;36m0\u001b[0m\u001b[0;34m]\u001b[0m\u001b[0;34m.\u001b[0m\u001b[0mshape\u001b[0m\u001b[0;34m[\u001b[0m\u001b[0;36m0\u001b[0m\u001b[0;34m]\u001b[0m \u001b[0;34m%\u001b[0m \u001b[0mbatch_size\u001b[0m \u001b[0;34m!=\u001b[0m \u001b[0;36m0\u001b[0m\u001b[0;34m:\u001b[0m\u001b[0;34m\u001b[0m\u001b[0m\n",
      "\u001b[0;32m~/anaconda3/lib/python3.6/site-packages/keras/engine/training.py\u001b[0m in \u001b[0;36m_standardize_input_data\u001b[0;34m(data, names, shapes, check_batch_axis, exception_prefix)\u001b[0m\n\u001b[1;32m    139\u001b[0m                                  \u001b[0;34m' to have '\u001b[0m \u001b[0;34m+\u001b[0m \u001b[0mstr\u001b[0m\u001b[0;34m(\u001b[0m\u001b[0mlen\u001b[0m\u001b[0;34m(\u001b[0m\u001b[0mshapes\u001b[0m\u001b[0;34m[\u001b[0m\u001b[0mi\u001b[0m\u001b[0;34m]\u001b[0m\u001b[0;34m)\u001b[0m\u001b[0;34m)\u001b[0m \u001b[0;34m+\u001b[0m\u001b[0;34m\u001b[0m\u001b[0m\n\u001b[1;32m    140\u001b[0m                                  \u001b[0;34m' dimensions, but got array with shape '\u001b[0m \u001b[0;34m+\u001b[0m\u001b[0;34m\u001b[0m\u001b[0m\n\u001b[0;32m--> 141\u001b[0;31m                                  str(array.shape))\n\u001b[0m\u001b[1;32m    142\u001b[0m             \u001b[0;32mfor\u001b[0m \u001b[0mj\u001b[0m\u001b[0;34m,\u001b[0m \u001b[0;34m(\u001b[0m\u001b[0mdim\u001b[0m\u001b[0;34m,\u001b[0m \u001b[0mref_dim\u001b[0m\u001b[0;34m)\u001b[0m \u001b[0;32min\u001b[0m \u001b[0menumerate\u001b[0m\u001b[0;34m(\u001b[0m\u001b[0mzip\u001b[0m\u001b[0;34m(\u001b[0m\u001b[0marray\u001b[0m\u001b[0;34m.\u001b[0m\u001b[0mshape\u001b[0m\u001b[0;34m,\u001b[0m \u001b[0mshapes\u001b[0m\u001b[0;34m[\u001b[0m\u001b[0mi\u001b[0m\u001b[0;34m]\u001b[0m\u001b[0;34m)\u001b[0m\u001b[0;34m)\u001b[0m\u001b[0;34m:\u001b[0m\u001b[0;34m\u001b[0m\u001b[0m\n\u001b[1;32m    143\u001b[0m                 \u001b[0;32mif\u001b[0m \u001b[0;32mnot\u001b[0m \u001b[0mj\u001b[0m \u001b[0;32mand\u001b[0m \u001b[0;32mnot\u001b[0m \u001b[0mcheck_batch_axis\u001b[0m\u001b[0;34m:\u001b[0m\u001b[0;34m\u001b[0m\u001b[0m\n",
      "\u001b[0;31mValueError\u001b[0m: Error when checking : expected Aggregate to have 3 dimensions, but got array with shape (308, 24)"
     ]
    },
    {
     "data": {
      "image/png": "[encoded data removed]",
      "text/plain": [
       "<matplotlib.figure.Figure at 0x1a8621f828>"
      ]
     },
     "metadata": {},
     "output_type": "display_data"
    }
   ],
   "source": [
    "#pd.Series(train_appliance[0]).plot()\n",
    "pd.Series(train_all_appliances[0]).plot(label='GT')\n",
    "pd.Series(model.predict(test_agg)[0, :]).plot(label='Pred')\n",
    "plt.legend()"
   ]
  },
  {
   "cell_type": "code",
   "execution_count": 86,
   "metadata": {},
   "outputs": [
    {
     "ename": "ValueError",
     "evalue": "Error when checking : expected Aggregate to have 3 dimensions, but got array with shape (1, 24)",
     "output_type": "error",
     "traceback": [
      "\u001b[0;31m---------------------------------------------------------------------------\u001b[0m",
      "\u001b[0;31mValueError\u001b[0m                                Traceback (most recent call last)",
      "\u001b[0;32m<ipython-input-86-66da3858d93d>\u001b[0m in \u001b[0;36m<module>\u001b[0;34m()\u001b[0m\n\u001b[1;32m     17\u001b[0m \u001b[0;34m\u001b[0m\u001b[0m\n\u001b[1;32m     18\u001b[0m \u001b[0;31m#pd.Series(model.predict(test_agg[1:2])[0, :24]).plot(label='Pred HVAC')\u001b[0m\u001b[0;34m\u001b[0m\u001b[0;34m\u001b[0m\u001b[0m\n\u001b[0;32m---> 19\u001b[0;31m \u001b[0mpd\u001b[0m\u001b[0;34m.\u001b[0m\u001b[0mSeries\u001b[0m\u001b[0;34m(\u001b[0m\u001b[0mmodel\u001b[0m\u001b[0;34m.\u001b[0m\u001b[0mpredict\u001b[0m\u001b[0;34m(\u001b[0m\u001b[0mtest_agg\u001b[0m\u001b[0;34m[\u001b[0m\u001b[0;36m1\u001b[0m\u001b[0;34m:\u001b[0m\u001b[0;36m2\u001b[0m\u001b[0;34m]\u001b[0m\u001b[0;34m)\u001b[0m\u001b[0;34m[\u001b[0m\u001b[0;36m0\u001b[0m\u001b[0;34m,\u001b[0m \u001b[0;36m24\u001b[0m\u001b[0;34m:\u001b[0m\u001b[0;36m48\u001b[0m\u001b[0;34m]\u001b[0m\u001b[0;34m)\u001b[0m\u001b[0;34m.\u001b[0m\u001b[0mplot\u001b[0m\u001b[0;34m(\u001b[0m\u001b[0mlabel\u001b[0m\u001b[0;34m=\u001b[0m\u001b[0;34m'Pred HVAC'\u001b[0m\u001b[0;34m)\u001b[0m\u001b[0;34m\u001b[0m\u001b[0m\n\u001b[0m\u001b[1;32m     20\u001b[0m \u001b[0;34m\u001b[0m\u001b[0m\n\u001b[1;32m     21\u001b[0m \u001b[0;34m\u001b[0m\u001b[0m\n",
      "\u001b[0;32m~/anaconda3/lib/python3.6/site-packages/keras/engine/training.py\u001b[0m in \u001b[0;36mpredict\u001b[0;34m(self, x, batch_size, verbose, steps)\u001b[0m\n\u001b[1;32m   1770\u001b[0m         x = _standardize_input_data(x, self._feed_input_names,\n\u001b[1;32m   1771\u001b[0m                                     \u001b[0mself\u001b[0m\u001b[0;34m.\u001b[0m\u001b[0m_feed_input_shapes\u001b[0m\u001b[0;34m,\u001b[0m\u001b[0;34m\u001b[0m\u001b[0m\n\u001b[0;32m-> 1772\u001b[0;31m                                     check_batch_axis=False)\n\u001b[0m\u001b[1;32m   1773\u001b[0m         \u001b[0;32mif\u001b[0m \u001b[0mself\u001b[0m\u001b[0;34m.\u001b[0m\u001b[0mstateful\u001b[0m\u001b[0;34m:\u001b[0m\u001b[0;34m\u001b[0m\u001b[0m\n\u001b[1;32m   1774\u001b[0m             \u001b[0;32mif\u001b[0m \u001b[0mx\u001b[0m\u001b[0;34m[\u001b[0m\u001b[0;36m0\u001b[0m\u001b[0;34m]\u001b[0m\u001b[0;34m.\u001b[0m\u001b[0mshape\u001b[0m\u001b[0;34m[\u001b[0m\u001b[0;36m0\u001b[0m\u001b[0;34m]\u001b[0m \u001b[0;34m>\u001b[0m \u001b[0mbatch_size\u001b[0m \u001b[0;32mand\u001b[0m \u001b[0mx\u001b[0m\u001b[0;34m[\u001b[0m\u001b[0;36m0\u001b[0m\u001b[0;34m]\u001b[0m\u001b[0;34m.\u001b[0m\u001b[0mshape\u001b[0m\u001b[0;34m[\u001b[0m\u001b[0;36m0\u001b[0m\u001b[0;34m]\u001b[0m \u001b[0;34m%\u001b[0m \u001b[0mbatch_size\u001b[0m \u001b[0;34m!=\u001b[0m \u001b[0;36m0\u001b[0m\u001b[0;34m:\u001b[0m\u001b[0;34m\u001b[0m\u001b[0m\n",
      "\u001b[0;32m~/anaconda3/lib/python3.6/site-packages/keras/engine/training.py\u001b[0m in \u001b[0;36m_standardize_input_data\u001b[0;34m(data, names, shapes, check_batch_axis, exception_prefix)\u001b[0m\n\u001b[1;32m    139\u001b[0m                                  \u001b[0;34m' to have '\u001b[0m \u001b[0;34m+\u001b[0m \u001b[0mstr\u001b[0m\u001b[0;34m(\u001b[0m\u001b[0mlen\u001b[0m\u001b[0;34m(\u001b[0m\u001b[0mshapes\u001b[0m\u001b[0;34m[\u001b[0m\u001b[0mi\u001b[0m\u001b[0;34m]\u001b[0m\u001b[0;34m)\u001b[0m\u001b[0;34m)\u001b[0m \u001b[0;34m+\u001b[0m\u001b[0;34m\u001b[0m\u001b[0m\n\u001b[1;32m    140\u001b[0m                                  \u001b[0;34m' dimensions, but got array with shape '\u001b[0m \u001b[0;34m+\u001b[0m\u001b[0;34m\u001b[0m\u001b[0m\n\u001b[0;32m--> 141\u001b[0;31m                                  str(array.shape))\n\u001b[0m\u001b[1;32m    142\u001b[0m             \u001b[0;32mfor\u001b[0m \u001b[0mj\u001b[0m\u001b[0;34m,\u001b[0m \u001b[0;34m(\u001b[0m\u001b[0mdim\u001b[0m\u001b[0;34m,\u001b[0m \u001b[0mref_dim\u001b[0m\u001b[0;34m)\u001b[0m \u001b[0;32min\u001b[0m \u001b[0menumerate\u001b[0m\u001b[0;34m(\u001b[0m\u001b[0mzip\u001b[0m\u001b[0;34m(\u001b[0m\u001b[0marray\u001b[0m\u001b[0;34m.\u001b[0m\u001b[0mshape\u001b[0m\u001b[0;34m,\u001b[0m \u001b[0mshapes\u001b[0m\u001b[0;34m[\u001b[0m\u001b[0mi\u001b[0m\u001b[0;34m]\u001b[0m\u001b[0;34m)\u001b[0m\u001b[0;34m)\u001b[0m\u001b[0;34m:\u001b[0m\u001b[0;34m\u001b[0m\u001b[0m\n\u001b[1;32m    143\u001b[0m                 \u001b[0;32mif\u001b[0m \u001b[0;32mnot\u001b[0m \u001b[0mj\u001b[0m \u001b[0;32mand\u001b[0m \u001b[0;32mnot\u001b[0m \u001b[0mcheck_batch_axis\u001b[0m\u001b[0;34m:\u001b[0m\u001b[0;34m\u001b[0m\u001b[0m\n",
      "\u001b[0;31mValueError\u001b[0m: Error when checking : expected Aggregate to have 3 dimensions, but got array with shape (1, 24)"
     ]
    },
    {
     "data": {
      "image/png": "[encoded data removed]",
      "text/plain": [
       "<matplotlib.figure.Figure at 0x1a8568d2e8>"
      ]
     },
     "metadata": {},
     "output_type": "display_data"
    }
   ],
   "source": [
    "#pd.Series(test_agg[1, :]).plot(label='GT Agg')\n",
    "#pd.Series(test_hvac[1, :]).plot(label='GT HVAC')\n",
    "pd.Series(test_fridge[1, :]).plot(label='GT HVAC')\n",
    "\n",
    "\n",
    "#pd.Series(test_fridge[1, :]).plot(label='GT Fridge')\n",
    "\n",
    "\n",
    "#pd.Series(test_mw[1, :]).plot(label='GT MW')\n",
    "#pd.Series(test_oven[1, :]).plot(label='GT Oven')\n",
    "\n",
    "\n",
    "\n",
    "\n",
    "\n",
    "\n",
    "\n",
    "#pd.Series(model.predict(test_agg[1:2])[0, :24]).plot(label='Pred HVAC')\n",
    "pd.Series(model.predict(test_agg[1:2])[0, 24:48]).plot(label='Pred HVAC')\n",
    "\n",
    "\n",
    "#pd.Series(model.predict(test_agg[1:2])[0, 24:]).plot(label='Pred Fridge')\n",
    "\n",
    "\n",
    "\n",
    "\n",
    "plt.legend()"
   ]
  },
  {
   "cell_type": "code",
   "execution_count": 87,
   "metadata": {},
   "outputs": [
    {
     "ename": "NameError",
     "evalue": "name 'pred_fridge' is not defined",
     "output_type": "error",
     "traceback": [
      "\u001b[0;31m---------------------------------------------------------------------------\u001b[0m",
      "\u001b[0;31mNameError\u001b[0m                                 Traceback (most recent call last)",
      "\u001b[0;32m<ipython-input-87-1a028df1c3e4>\u001b[0m in \u001b[0;36m<module>\u001b[0;34m()\u001b[0m\n\u001b[0;32m----> 1\u001b[0;31m \u001b[0mprint\u001b[0m\u001b[0;34m(\u001b[0m\u001b[0mnp\u001b[0m\u001b[0;34m.\u001b[0m\u001b[0mmean\u001b[0m\u001b[0;34m(\u001b[0m\u001b[0mpred_fridge\u001b[0m\u001b[0;34m)\u001b[0m\u001b[0;34m,\u001b[0m \u001b[0mnp\u001b[0m\u001b[0;34m.\u001b[0m\u001b[0mmean\u001b[0m\u001b[0;34m(\u001b[0m\u001b[0mtest_fridge\u001b[0m\u001b[0;34m)\u001b[0m\u001b[0;34m)\u001b[0m\u001b[0;34m\u001b[0m\u001b[0m\n\u001b[0m\u001b[1;32m      2\u001b[0m \u001b[0mnp\u001b[0m\u001b[0;34m.\u001b[0m\u001b[0mmean\u001b[0m\u001b[0;34m(\u001b[0m\u001b[0mpred_hvac\u001b[0m\u001b[0;34m)\u001b[0m\u001b[0;34m,\u001b[0m \u001b[0mnp\u001b[0m\u001b[0;34m.\u001b[0m\u001b[0mmean\u001b[0m\u001b[0;34m(\u001b[0m\u001b[0mtest_hvac\u001b[0m\u001b[0;34m)\u001b[0m\u001b[0;34m,\u001b[0m \u001b[0mnp\u001b[0m\u001b[0;34m.\u001b[0m\u001b[0mmean\u001b[0m\u001b[0;34m(\u001b[0m\u001b[0mtest_agg\u001b[0m\u001b[0;34m)\u001b[0m\u001b[0;34m\u001b[0m\u001b[0m\n",
      "\u001b[0;31mNameError\u001b[0m: name 'pred_fridge' is not defined"
     ]
    }
   ],
   "source": [
    "print(np.mean(pred_fridge), np.mean(test_fridge))\n",
    "np.mean(pred_hvac), np.mean(test_hvac), np.mean(test_agg)"
   ]
  },
  {
   "cell_type": "code",
   "execution_count": 88,
   "metadata": {},
   "outputs": [
    {
     "ename": "NameError",
     "evalue": "name 'pred_fridge' is not defined",
     "output_type": "error",
     "traceback": [
      "\u001b[0;31m---------------------------------------------------------------------------\u001b[0m",
      "\u001b[0;31mNameError\u001b[0m                                 Traceback (most recent call last)",
      "\u001b[0;32m<ipython-input-88-de6606ecf9ec>\u001b[0m in \u001b[0;36m<module>\u001b[0;34m()\u001b[0m\n\u001b[0;32m----> 1\u001b[0;31m \u001b[0;34m(\u001b[0m\u001b[0mpd\u001b[0m\u001b[0;34m.\u001b[0m\u001b[0mDataFrame\u001b[0m\u001b[0;34m(\u001b[0m\u001b[0mtest_fridge\u001b[0m\u001b[0;34m)\u001b[0m\u001b[0;34m-\u001b[0m\u001b[0mpd\u001b[0m\u001b[0;34m.\u001b[0m\u001b[0mDataFrame\u001b[0m\u001b[0;34m(\u001b[0m\u001b[0mpred_fridge\u001b[0m\u001b[0;34m)\u001b[0m\u001b[0;34m)\u001b[0m\u001b[0;34m.\u001b[0m\u001b[0mabs\u001b[0m\u001b[0;34m(\u001b[0m\u001b[0;34m)\u001b[0m\u001b[0;34m.\u001b[0m\u001b[0msum\u001b[0m\u001b[0;34m(\u001b[0m\u001b[0maxis\u001b[0m\u001b[0;34m=\u001b[0m\u001b[0;36m1\u001b[0m\u001b[0;34m)\u001b[0m\u001b[0;34m.\u001b[0m\u001b[0margmax\u001b[0m\u001b[0;34m(\u001b[0m\u001b[0;34m)\u001b[0m\u001b[0;34m\u001b[0m\u001b[0m\n\u001b[0m",
      "\u001b[0;31mNameError\u001b[0m: name 'pred_fridge' is not defined"
     ]
    }
   ],
   "source": [
    "(pd.DataFrame(test_fridge)-pd.DataFrame(pred_fridge)).abs().sum(axis=1).argmax()"
   ]
  },
  {
   "cell_type": "code",
   "execution_count": 89,
   "metadata": {},
   "outputs": [
    {
     "ename": "ValueError",
     "evalue": "Error when checking : expected Aggregate to have 3 dimensions, but got array with shape (1, 24)",
     "output_type": "error",
     "traceback": [
      "\u001b[0;31m---------------------------------------------------------------------------\u001b[0m",
      "\u001b[0;31mValueError\u001b[0m                                Traceback (most recent call last)",
      "\u001b[0;32m<ipython-input-89-b810ec6da08f>\u001b[0m in \u001b[0;36m<module>\u001b[0;34m()\u001b[0m\n\u001b[1;32m      1\u001b[0m \u001b[0mpd\u001b[0m\u001b[0;34m.\u001b[0m\u001b[0mSeries\u001b[0m\u001b[0;34m(\u001b[0m\u001b[0mtest_fridge\u001b[0m\u001b[0;34m[\u001b[0m\u001b[0;36m1\u001b[0m\u001b[0;34m,\u001b[0m \u001b[0;34m:\u001b[0m\u001b[0;34m]\u001b[0m\u001b[0;34m)\u001b[0m\u001b[0;34m.\u001b[0m\u001b[0mplot\u001b[0m\u001b[0;34m(\u001b[0m\u001b[0mlabel\u001b[0m\u001b[0;34m=\u001b[0m\u001b[0;34m'GT'\u001b[0m\u001b[0;34m)\u001b[0m\u001b[0;34m\u001b[0m\u001b[0m\n\u001b[0;32m----> 2\u001b[0;31m \u001b[0mpd\u001b[0m\u001b[0;34m.\u001b[0m\u001b[0mSeries\u001b[0m\u001b[0;34m(\u001b[0m\u001b[0mmodel\u001b[0m\u001b[0;34m.\u001b[0m\u001b[0mpredict\u001b[0m\u001b[0;34m(\u001b[0m\u001b[0mtest_agg_new\u001b[0m\u001b[0;34m[\u001b[0m\u001b[0;36m1\u001b[0m\u001b[0;34m:\u001b[0m\u001b[0;36m2\u001b[0m\u001b[0;34m]\u001b[0m\u001b[0;34m)\u001b[0m\u001b[0;34m[\u001b[0m\u001b[0;36m0\u001b[0m\u001b[0;34m,\u001b[0m \u001b[0;36m24\u001b[0m\u001b[0;34m:\u001b[0m\u001b[0;34m]\u001b[0m\u001b[0;34m)\u001b[0m\u001b[0;34m.\u001b[0m\u001b[0mplot\u001b[0m\u001b[0;34m(\u001b[0m\u001b[0mlabel\u001b[0m\u001b[0;34m=\u001b[0m\u001b[0;34m'Pred'\u001b[0m\u001b[0;34m)\u001b[0m\u001b[0;34m\u001b[0m\u001b[0m\n\u001b[0m\u001b[1;32m      3\u001b[0m \u001b[0;34m\u001b[0m\u001b[0m\n\u001b[1;32m      4\u001b[0m \u001b[0;34m\u001b[0m\u001b[0m\n\u001b[1;32m      5\u001b[0m \u001b[0mplt\u001b[0m\u001b[0;34m.\u001b[0m\u001b[0mlegend\u001b[0m\u001b[0;34m(\u001b[0m\u001b[0;34m)\u001b[0m\u001b[0;34m\u001b[0m\u001b[0m\n",
      "\u001b[0;32m~/anaconda3/lib/python3.6/site-packages/keras/engine/training.py\u001b[0m in \u001b[0;36mpredict\u001b[0;34m(self, x, batch_size, verbose, steps)\u001b[0m\n\u001b[1;32m   1770\u001b[0m         x = _standardize_input_data(x, self._feed_input_names,\n\u001b[1;32m   1771\u001b[0m                                     \u001b[0mself\u001b[0m\u001b[0;34m.\u001b[0m\u001b[0m_feed_input_shapes\u001b[0m\u001b[0;34m,\u001b[0m\u001b[0;34m\u001b[0m\u001b[0m\n\u001b[0;32m-> 1772\u001b[0;31m                                     check_batch_axis=False)\n\u001b[0m\u001b[1;32m   1773\u001b[0m         \u001b[0;32mif\u001b[0m \u001b[0mself\u001b[0m\u001b[0;34m.\u001b[0m\u001b[0mstateful\u001b[0m\u001b[0;34m:\u001b[0m\u001b[0;34m\u001b[0m\u001b[0m\n\u001b[1;32m   1774\u001b[0m             \u001b[0;32mif\u001b[0m \u001b[0mx\u001b[0m\u001b[0;34m[\u001b[0m\u001b[0;36m0\u001b[0m\u001b[0;34m]\u001b[0m\u001b[0;34m.\u001b[0m\u001b[0mshape\u001b[0m\u001b[0;34m[\u001b[0m\u001b[0;36m0\u001b[0m\u001b[0;34m]\u001b[0m \u001b[0;34m>\u001b[0m \u001b[0mbatch_size\u001b[0m \u001b[0;32mand\u001b[0m \u001b[0mx\u001b[0m\u001b[0;34m[\u001b[0m\u001b[0;36m0\u001b[0m\u001b[0;34m]\u001b[0m\u001b[0;34m.\u001b[0m\u001b[0mshape\u001b[0m\u001b[0;34m[\u001b[0m\u001b[0;36m0\u001b[0m\u001b[0;34m]\u001b[0m \u001b[0;34m%\u001b[0m \u001b[0mbatch_size\u001b[0m \u001b[0;34m!=\u001b[0m \u001b[0;36m0\u001b[0m\u001b[0;34m:\u001b[0m\u001b[0;34m\u001b[0m\u001b[0m\n",
      "\u001b[0;32m~/anaconda3/lib/python3.6/site-packages/keras/engine/training.py\u001b[0m in \u001b[0;36m_standardize_input_data\u001b[0;34m(data, names, shapes, check_batch_axis, exception_prefix)\u001b[0m\n\u001b[1;32m    139\u001b[0m                                  \u001b[0;34m' to have '\u001b[0m \u001b[0;34m+\u001b[0m \u001b[0mstr\u001b[0m\u001b[0;34m(\u001b[0m\u001b[0mlen\u001b[0m\u001b[0;34m(\u001b[0m\u001b[0mshapes\u001b[0m\u001b[0;34m[\u001b[0m\u001b[0mi\u001b[0m\u001b[0;34m]\u001b[0m\u001b[0;34m)\u001b[0m\u001b[0;34m)\u001b[0m \u001b[0;34m+\u001b[0m\u001b[0;34m\u001b[0m\u001b[0m\n\u001b[1;32m    140\u001b[0m                                  \u001b[0;34m' dimensions, but got array with shape '\u001b[0m \u001b[0;34m+\u001b[0m\u001b[0;34m\u001b[0m\u001b[0m\n\u001b[0;32m--> 141\u001b[0;31m                                  str(array.shape))\n\u001b[0m\u001b[1;32m    142\u001b[0m             \u001b[0;32mfor\u001b[0m \u001b[0mj\u001b[0m\u001b[0;34m,\u001b[0m \u001b[0;34m(\u001b[0m\u001b[0mdim\u001b[0m\u001b[0;34m,\u001b[0m \u001b[0mref_dim\u001b[0m\u001b[0;34m)\u001b[0m \u001b[0;32min\u001b[0m \u001b[0menumerate\u001b[0m\u001b[0;34m(\u001b[0m\u001b[0mzip\u001b[0m\u001b[0;34m(\u001b[0m\u001b[0marray\u001b[0m\u001b[0;34m.\u001b[0m\u001b[0mshape\u001b[0m\u001b[0;34m,\u001b[0m \u001b[0mshapes\u001b[0m\u001b[0;34m[\u001b[0m\u001b[0mi\u001b[0m\u001b[0;34m]\u001b[0m\u001b[0;34m)\u001b[0m\u001b[0;34m)\u001b[0m\u001b[0;34m:\u001b[0m\u001b[0;34m\u001b[0m\u001b[0m\n\u001b[1;32m    143\u001b[0m                 \u001b[0;32mif\u001b[0m \u001b[0;32mnot\u001b[0m \u001b[0mj\u001b[0m \u001b[0;32mand\u001b[0m \u001b[0;32mnot\u001b[0m \u001b[0mcheck_batch_axis\u001b[0m\u001b[0;34m:\u001b[0m\u001b[0;34m\u001b[0m\u001b[0m\n",
      "\u001b[0;31mValueError\u001b[0m: Error when checking : expected Aggregate to have 3 dimensions, but got array with shape (1, 24)"
     ]
    },
    {
     "data": {
      "image/png": "[encoded data removed]",
      "text/plain": [
       "<matplotlib.figure.Figure at 0x1a81d16b38>"
      ]
     },
     "metadata": {},
     "output_type": "display_data"
    }
   ],
   "source": [
    "pd.Series(test_fridge[1, :]).plot(label='GT')\n",
    "pd.Series(model.predict(test_agg_new[1:2])[0, 24:]).plot(label='Pred')\n",
    "\n",
    "\n",
    "plt.legend()"
   ]
  },
  {
   "cell_type": "code",
   "execution_count": null,
   "metadata": {
    "collapsed": true
   },
   "outputs": [],
   "source": []
  },
  {
   "cell_type": "code",
   "execution_count": null,
   "metadata": {
    "collapsed": true
   },
   "outputs": [],
   "source": []
  }
 ],
 "metadata": {
  "kernelspec": {
   "display_name": "Python 3",
   "language": "python",
   "name": "python3"
  },
  "language_info": {
   "codemirror_mode": {
    "name": "ipython",
    "version": 3
   },
   "file_extension": ".py",
   "mimetype": "text/x-python",
   "name": "python",
   "nbconvert_exporter": "python",
   "pygments_lexer": "ipython3",
   "version": "3.6.3"
  }
 },
 "nbformat": 4,
 "nbformat_minor": 2
}
