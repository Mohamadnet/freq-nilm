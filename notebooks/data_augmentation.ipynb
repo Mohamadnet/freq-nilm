{
 "cells": [
  {
   "cell_type": "code",
   "execution_count": 22,
   "metadata": {
    "collapsed": true
   },
   "outputs": [],
   "source": [
    "import sys\n",
    "sys.path.append(\"../code/\")\n",
    "\n",
    "import numpy as np\n",
    "import pandas as pd\n",
    "from dataloader import APPLIANCE_ORDER, get_train_test\n",
    "from tensor_custom_core import stf_4dim, stf_4dim_time\n",
    "import random\n",
    "np.random.seed(0)"
   ]
  },
  {
   "cell_type": "code",
   "execution_count": 78,
   "metadata": {
    "collapsed": true
   },
   "outputs": [],
   "source": [
    "np.random.seed(0)\n",
    "\n",
    "tensor = np.load('../2015-5appliances.numpy.npy')\n",
    "num_homes = tensor.shape[0]\n",
    "APPLIANCE_ORDER = ['aggregate', 'hvac', 'fridge', 'dr', 'dw', 'mw']\n",
    "\n",
    "\n",
    "def get_train_test(num_folds=5, fold_num=0):\n",
    "    \"\"\"\n",
    "\n",
    "    :param num_folds: number of folds\n",
    "    :param fold_num: which fold to return\n",
    "    :return:\n",
    "    \"\"\"\n",
    "    k = KFold(n_splits=num_folds)\n",
    "    train, test = list(k.split(range(0, num_homes)))[fold_num]\n",
    "    return tensor[train, :, :, :], tensor[test, :, :, :]\n"
   ]
  },
  {
   "cell_type": "code",
   "execution_count": 79,
   "metadata": {
    "scrolled": true
   },
   "outputs": [
    {
     "name": "stdout",
     "output_type": "stream",
     "text": [
      "[24, 29]\n",
      "[38, 39]\n",
      "[43, 1]\n",
      "[0, 23]\n",
      "[62, 46]\n",
      "[29, 53]\n",
      "[37, 59]\n",
      "[32, 36]\n",
      "[31, 1]\n",
      "[39, 25]\n",
      "[28, 53]\n",
      "[66, 0]\n",
      "[21, 66]\n",
      "[52, 7]\n",
      "[62, 38]\n",
      "[64, 0]\n",
      "[32, 48]\n",
      "[24, 3]\n",
      "[12, 15]\n",
      "[55, 63]\n",
      "[36, 55]\n",
      "[32, 1]\n",
      "[26, 67]\n",
      "[21, 61]\n",
      "[28, 15]\n",
      "[29, 64]\n",
      "[9, 52]\n",
      "[9, 11]\n",
      "[56, 13]\n",
      "[4, 56]\n",
      "[48, 43]\n",
      "[46, 7]\n",
      "[20, 27]\n",
      "[12, 61]\n",
      "[13, 66]\n",
      "[48, 16]\n",
      "[53, 12]\n",
      "[47, 66]\n",
      "[37, 53]\n",
      "[59, 12]\n",
      "[51, 52]\n",
      "[55, 37]\n",
      "[4, 10]\n",
      "[4, 8]\n",
      "[51, 34]\n",
      "[24, 27]\n",
      "[65, 6]\n",
      "[37, 41]\n",
      "[49, 65]\n",
      "[0, 34]\n",
      "[0, 13]\n",
      "[62, 36]\n",
      "[59, 28]\n",
      "[61, 32]\n",
      "[39, 61]\n",
      "[60, 20]\n",
      "[34, 40]\n",
      "[7, 17]\n",
      "[22, 53]\n",
      "[22, 33]\n",
      "[18, 27]\n",
      "[50, 59]\n",
      "[55, 38]\n",
      "[42, 66]\n",
      "[38, 60]\n",
      "[52, 4]\n",
      "[39, 31]\n",
      "[15, 10]\n",
      "[45, 19]\n",
      "[33, 40]\n",
      "[52, 60]\n",
      "[54, 14]\n",
      "[40, 28]\n",
      "[66, 7]\n",
      "[5, 14]\n",
      "[14, 39]\n",
      "[64, 48]\n",
      "[43, 34]\n",
      "[60, 44]\n",
      "[20, 63]\n",
      "[7, 35]\n",
      "[36, 63]\n",
      "[55, 39]\n",
      "[5, 54]\n",
      "[36, 6]\n",
      "[43, 18]\n",
      "[30, 20]\n",
      "[35, 11]\n",
      "[15, 30]\n",
      "[0, 58]\n",
      "[40, 54]\n",
      "[2, 19]\n",
      "[4, 44]\n",
      "[37, 21]\n",
      "[13, 7]\n",
      "[4, 48]\n",
      "[2, 58]\n",
      "[25, 59]\n",
      "[59, 24]\n",
      "[6, 28]\n"
     ]
    }
   ],
   "source": [
    "new = []\n",
    "for i in range(100):\n",
    "    index = random.sample(np.arange(68), 2)\n",
    "    print index\n",
    "    new_sample = 0.5*tensor[index[0], :, :, :] + 0.5*tensor[index[1], :, :, :]\n",
    "    new.append(new_sample)\n",
    "new = np.array(new)"
   ]
  },
  {
   "cell_type": "code",
   "execution_count": 80,
   "metadata": {
    "collapsed": true
   },
   "outputs": [],
   "source": [
    "aug_dataset = np.vstack([tensor, new])"
   ]
  },
  {
   "cell_type": "code",
   "execution_count": 82,
   "metadata": {
    "collapsed": true
   },
   "outputs": [],
   "source": [
    "np.save(\"./aug_data_168.npy\", aug_dataset)"
   ]
  },
  {
   "cell_type": "code",
   "execution_count": 83,
   "metadata": {},
   "outputs": [],
   "source": [
    "tensor = np.load('./aug_data_168.npy')"
   ]
  },
  {
   "cell_type": "code",
   "execution_count": 84,
   "metadata": {},
   "outputs": [
    {
     "data": {
      "text/plain": [
       "(168, 6, 112, 24)"
      ]
     },
     "execution_count": 84,
     "metadata": {},
     "output_type": "execute_result"
    }
   ],
   "source": [
    "tensor.shape"
   ]
  }
 ],
 "metadata": {
  "kernelspec": {
   "display_name": "Python 3",
   "language": "python",
   "name": "python3"
  },
  "language_info": {
   "codemirror_mode": {
    "name": "ipython",
    "version": 2
   },
   "file_extension": ".py",
   "mimetype": "text/x-python",
   "name": "python",
   "nbconvert_exporter": "python",
   "pygments_lexer": "ipython2",
   "version": "2.7.13"
  }
 },
 "nbformat": 4,
 "nbformat_minor": 2
}
