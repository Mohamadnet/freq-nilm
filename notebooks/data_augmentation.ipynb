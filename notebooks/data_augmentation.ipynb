{
 "cells": [
  {
   "cell_type": "code",
   "execution_count": 13,
   "metadata": {
    "collapsed": true
   },
   "outputs": [],
   "source": [
    "import sys\n",
    "sys.path.append(\"../code/\")\n",
    "\n",
    "import numpy as np\n",
    "import pandas as pd\n",
    "from dataloader import APPLIANCE_ORDER, get_train_test\n",
    "from tensor_custom_core import stf_4dim, stf_4dim_time\n",
    "import random\n",
    "np.random.seed(0)"
   ]
  },
  {
   "cell_type": "code",
   "execution_count": 14,
   "metadata": {
    "collapsed": true
   },
   "outputs": [],
   "source": [
    "np.random.seed(0)\n",
    "\n",
    "tensor = np.load('../2015-5appliances.numpy.npy')\n",
    "num_homes = tensor.shape[0]\n",
    "APPLIANCE_ORDER = ['aggregate', 'hvac', 'fridge', 'dr', 'dw', 'mw']"
   ]
  },
  {
   "cell_type": "code",
   "execution_count": 18,
   "metadata": {
    "collapsed": true,
    "scrolled": true
   },
   "outputs": [],
   "source": [
    "# case1: weighted sum of random two homes\n",
    "new = []\n",
    "for i in range(500):\n",
    "    index = random.sample(list(np.arange(68)), 2)\n",
    "#     print index\n",
    "    new_sample = 0.5*tensor[index[0], :, :, :] + 0.5*tensor[index[1], :, :, :]\n",
    "    new.append(new_sample)\n",
    "new = np.array(new)\n",
    "# aug_dataset = np.vstack([tensor, new])\n",
    "np.save(\"../aug_data_weight_random.npy\", new)"
   ]
  },
  {
   "cell_type": "code",
   "execution_count": 22,
   "metadata": {
    "collapsed": true
   },
   "outputs": [],
   "source": [
    "# case 2: randomly select appliance reading from one home, and construct its aggregate\n",
    "\n",
    "new = np.zeros((500, 6, 112, 24))\n",
    "for i in range(500):\n",
    "    home_agg = np.zeros((112,24))\n",
    "    \n",
    "    for appliance in range(1,6):\n",
    "        t_home_chosen = np.random.choice(list(range(68)))\n",
    "        new[i, appliance, :, :] = tensor.copy()[t_home_chosen, appliance, : :]\n",
    "        home_agg += tensor.copy()[t_home_chosen, appliance, :, :]\n",
    "    new[i, 0, :, :] = home_agg\n",
    "np.save(\"../aug_data_appliance.npy\", new)"
   ]
  },
  {
   "cell_type": "code",
   "execution_count": 21,
   "metadata": {},
   "outputs": [
    {
     "data": {
      "text/plain": [
       "(500, 6, 112, 24)"
      ]
     },
     "execution_count": 21,
     "metadata": {},
     "output_type": "execute_result"
    }
   ],
   "source": [
    "new.shape"
   ]
  },
  {
   "cell_type": "code",
   "execution_count": 8,
   "metadata": {},
   "outputs": [
    {
     "data": {
      "text/plain": [
       "(68, 6, 112, 24)"
      ]
     },
     "execution_count": 8,
     "metadata": {},
     "output_type": "execute_result"
    }
   ],
   "source": [
    "tensor.shape"
   ]
  }
 ],
 "metadata": {
  "kernelspec": {
   "display_name": "Python 3",
   "language": "python",
   "name": "python3"
  },
  "language_info": {
   "codemirror_mode": {
    "name": "ipython",
    "version": 3
   },
   "file_extension": ".py",
   "mimetype": "text/x-python",
   "name": "python",
   "nbconvert_exporter": "python",
   "pygments_lexer": "ipython3",
   "version": "3.5.2"
  }
 },
 "nbformat": 4,
 "nbformat_minor": 2
}
