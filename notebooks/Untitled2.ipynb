{
 "cells": [
  {
   "cell_type": "code",
   "execution_count": 1,
   "metadata": {
    "collapsed": true
   },
   "outputs": [],
   "source": [
    "import pandas as pd\n",
    "import sys\n",
    "import numpy as np\n",
    "import matplotlib.pyplot as plt\n",
    "sys.path.append('../code/')\n",
    "%matplotlib inline\n",
    "import itertools\n",
    "from pathlib import Path"
   ]
  },
  {
   "cell_type": "code",
   "execution_count": 16,
   "metadata": {},
   "outputs": [],
   "source": [
    "test_error = {}\n",
    "dataset = 3\n",
    "for fold_num in range(5):\n",
    "    test_error[fold_num] = {}\n",
    "    for hidden_size in [20, 50]:\n",
    "        test_error[fold_num][hidden_size] = {}\n",
    "        for num_layer in [1, 2]:\n",
    "            test_error[fold_num][hidden_size][num_layer] = {}\n",
    "            try:\n",
    "                filename = \"test-error-['mw', 'dw', 'dr', 'fridge', 'hvac'].npy\"\n",
    "                directory = \"../code/baseline/cnn-rnn-tree/{}/{}/GRU/{}/{}/True/0.01/5000/0.0/\".format(dataset, fold_num, hidden_size, num_layer)\n",
    "                for it in range(1000, 5001, 1000):\n",
    "                    test_error[fold_num][hidden_size][num_layer][it] = np.load(directory+filename).item()[it]\n",
    "            except:\n",
    "                continue"
   ]
  },
  {
   "cell_type": "code",
   "execution_count": 24,
   "metadata": {},
   "outputs": [
    {
     "data": {
      "text/plain": [
       "144.31991059061886"
      ]
     },
     "execution_count": 24,
     "metadata": {},
     "output_type": "execute_result"
    }
   ],
   "source": [
    "pd.Series(test_error[fold_num][20][1][1000]).mean()"
   ]
  },
  {
   "cell_type": "code",
   "execution_count": 35,
   "metadata": {},
   "outputs": [],
   "source": [
    "best_param = {}\n",
    "best_error = {}\n",
    "for fold_num in range(5):\n",
    "    best_error[fold_num] = np.inf\n",
    "    best_param[fold_num] = {}\n",
    "    for hidden_size in [20, 50]:\n",
    "        for num_layer in [1, 2]:\n",
    "            for it in range(1000, 5001, 1000):\n",
    "                try:\n",
    "                    cur_error = pd.Series(test_error[fold_num][hidden_size][num_layer][it]).mean()\n",
    "                    if cur_error < best_error[fold_num]:\n",
    "                        best_error[fold_num] = cur_error\n",
    "                        best_param[fold_num]['hidden_size'] = hidden_size\n",
    "                        best_param[fold_num]['num_layer'] = num_layer\n",
    "                        best_param[fold_num]['it'] = it\n",
    "                except:\n",
    "                    continue"
   ]
  },
  {
   "cell_type": "code",
   "execution_count": 36,
   "metadata": {},
   "outputs": [],
   "source": [
    "error = {}\n",
    "for fold_num in range(5):\n",
    "    hidden_size = best_param[fold_num]['hidden_size']\n",
    "    num_layer = best_param[fold_num]['num_layer']\n",
    "    it = best_param[fold_num]['it']\n",
    "    error[fold_num] = test_error[fold_num][hidden_size][num_layer][it]"
   ]
  },
  {
   "cell_type": "code",
   "execution_count": 44,
   "metadata": {},
   "outputs": [
    {
     "data": {
      "text/plain": [
       "dr         68.592331\n",
       "dw         15.440241\n",
       "fridge     34.610939\n",
       "hvac      364.844374\n",
       "mw          8.728729\n",
       "dtype: float64"
      ]
     },
     "execution_count": 44,
     "metadata": {},
     "output_type": "execute_result"
    }
   ],
   "source": [
    "(pd.DataFrame(error)[0]*14 + pd.DataFrame(error)[1]*14 + pd.DataFrame(error)[2]*14 + pd.DataFrame(error)[3]*13 + pd.DataFrame(error)[4]*13)/68"
   ]
  }
 ],
 "metadata": {
  "kernelspec": {
   "display_name": "Python 3",
   "language": "python",
   "name": "python3"
  },
  "language_info": {
   "codemirror_mode": {
    "name": "ipython",
    "version": 3
   },
   "file_extension": ".py",
   "mimetype": "text/x-python",
   "name": "python",
   "nbconvert_exporter": "python",
   "pygments_lexer": "ipython3",
   "version": "3.6.3"
  }
 },
 "nbformat": 4,
 "nbformat_minor": 2
}
