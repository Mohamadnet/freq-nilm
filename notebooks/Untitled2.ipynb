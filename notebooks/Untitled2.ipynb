{
 "cells": [
  {
   "cell_type": "code",
   "execution_count": 3,
   "metadata": {
    "collapsed": true
   },
   "outputs": [],
   "source": [
    "import numpy as np\n",
    "import pandas as pd"
   ]
  },
  {
   "cell_type": "code",
   "execution_count": 38,
   "metadata": {},
   "outputs": [],
   "source": [
    "num_homes = 0\n",
    "o = {}\n",
    "for case in range(1, 4):\n",
    "    o[case] = {}\n",
    "    for fold in range(5):\n",
    "        o[case][fold] = pd.Series(np.load(\"../code/baseline/aug_data/test-error-{}-1-{}-{}.npy\".format(fold, num_homes, case)).item()[2000]).mean()\n"
   ]
  },
  {
   "cell_type": "code",
   "execution_count": 32,
   "metadata": {},
   "outputs": [
    {
     "data": {
      "text/plain": [
       "35.52833591098833"
      ]
     },
     "execution_count": 32,
     "metadata": {},
     "output_type": "execute_result"
    }
   ],
   "source": [
    "pd.Series(np.load(\"../code/baseline/aug_data/test-error-0-1-0-0.npy\").item()[2000]).mean()"
   ]
  },
  {
   "cell_type": "code",
   "execution_count": 36,
   "metadata": {},
   "outputs": [
    {
     "data": {
      "text/plain": [
       "48.101537370031856"
      ]
     },
     "execution_count": 36,
     "metadata": {},
     "output_type": "execute_result"
    }
   ],
   "source": [
    "pd.Series(np.load(\"../code/baseline/aug_data/test-error-0-1-20-1.npy\").item()[2000]).mean()"
   ]
  },
  {
   "cell_type": "code",
   "execution_count": 34,
   "metadata": {},
   "outputs": [
    {
     "data": {
      "text/plain": [
       "46.854803251997694"
      ]
     },
     "execution_count": 34,
     "metadata": {},
     "output_type": "execute_result"
    }
   ],
   "source": [
    "pd.Series(np.load(\"../code/baseline/aug_data/test-error-0-1-0-2.npy\").item()[2000]).mean()"
   ]
  },
  {
   "cell_type": "code",
   "execution_count": 26,
   "metadata": {},
   "outputs": [
    {
     "data": {
      "text/html": [
       "<div>\n",
       "<style scoped>\n",
       "    .dataframe tbody tr th:only-of-type {\n",
       "        vertical-align: middle;\n",
       "    }\n",
       "\n",
       "    .dataframe tbody tr th {\n",
       "        vertical-align: top;\n",
       "    }\n",
       "\n",
       "    .dataframe thead th {\n",
       "        text-align: right;\n",
       "    }\n",
       "</style>\n",
       "<table border=\"1\" class=\"dataframe\">\n",
       "  <thead>\n",
       "    <tr style=\"text-align: right;\">\n",
       "      <th></th>\n",
       "      <th>1</th>\n",
       "      <th>2</th>\n",
       "      <th>3</th>\n",
       "    </tr>\n",
       "  </thead>\n",
       "  <tbody>\n",
       "    <tr>\n",
       "      <th>0</th>\n",
       "      <td>46.854803</td>\n",
       "      <td>46.854803</td>\n",
       "      <td>46.854803</td>\n",
       "    </tr>\n",
       "    <tr>\n",
       "      <th>1</th>\n",
       "      <td>73.374941</td>\n",
       "      <td>73.374941</td>\n",
       "      <td>73.374941</td>\n",
       "    </tr>\n",
       "    <tr>\n",
       "      <th>2</th>\n",
       "      <td>64.818934</td>\n",
       "      <td>64.818934</td>\n",
       "      <td>64.818934</td>\n",
       "    </tr>\n",
       "    <tr>\n",
       "      <th>3</th>\n",
       "      <td>74.164969</td>\n",
       "      <td>74.164969</td>\n",
       "      <td>74.164969</td>\n",
       "    </tr>\n",
       "    <tr>\n",
       "      <th>4</th>\n",
       "      <td>58.972942</td>\n",
       "      <td>58.972942</td>\n",
       "      <td>58.972942</td>\n",
       "    </tr>\n",
       "  </tbody>\n",
       "</table>\n",
       "</div>"
      ],
      "text/plain": [
       "           1          2          3\n",
       "0  46.854803  46.854803  46.854803\n",
       "1  73.374941  73.374941  73.374941\n",
       "2  64.818934  64.818934  64.818934\n",
       "3  74.164969  74.164969  74.164969\n",
       "4  58.972942  58.972942  58.972942"
      ]
     },
     "execution_count": 26,
     "metadata": {},
     "output_type": "execute_result"
    }
   ],
   "source": [
    "pd.DataFrame(o)"
   ]
  },
  {
   "cell_type": "code",
   "execution_count": 27,
   "metadata": {
    "collapsed": true
   },
   "outputs": [],
   "source": [
    "q = np.load(\"../code/baseline/aug_data/test-error-{}-1-{}-{}.npy\".format(fold, num_homes, case)).item()"
   ]
  },
  {
   "cell_type": "code",
   "execution_count": 122,
   "metadata": {},
   "outputs": [
    {
     "ename": "FileNotFoundError",
     "evalue": "[Errno 2] No such file or directory: \"../code/baseline/rnn-tree-order/valid-losses-0-1-GRU-50-1-True-0.1-2000-0.0-['mw', 'fridge', 'hvac', 'dw', 'dr'].npy\"",
     "output_type": "error",
     "traceback": [
      "\u001b[0;31m---------------------------------------------------------------------------\u001b[0m",
      "\u001b[0;31mFileNotFoundError\u001b[0m                         Traceback (most recent call last)",
      "\u001b[0;32m<ipython-input-122-d37a5170b401>\u001b[0m in \u001b[0;36m<module>\u001b[0;34m()\u001b[0m\n\u001b[1;32m      7\u001b[0m \u001b[0;34m\u001b[0m\u001b[0m\n\u001b[1;32m      8\u001b[0m \u001b[0;32mfor\u001b[0m \u001b[0mp\u001b[0m \u001b[0;32min\u001b[0m \u001b[0;34m[\u001b[0m\u001b[0;36m0.0\u001b[0m\u001b[0;34m,\u001b[0m \u001b[0;36m0.2\u001b[0m\u001b[0;34m,\u001b[0m \u001b[0;36m0.4\u001b[0m\u001b[0;34m,\u001b[0m \u001b[0;36m0.6\u001b[0m\u001b[0;34m,\u001b[0m \u001b[0;36m0.8\u001b[0m\u001b[0;34m,\u001b[0m \u001b[0;36m1.0\u001b[0m\u001b[0;34m]\u001b[0m\u001b[0;34m:\u001b[0m\u001b[0;34m\u001b[0m\u001b[0m\n\u001b[0;32m----> 9\u001b[0;31m     \u001b[0mo\u001b[0m\u001b[0;34m[\u001b[0m\u001b[0mp\u001b[0m\u001b[0;34m]\u001b[0m \u001b[0;34m=\u001b[0m \u001b[0mnp\u001b[0m\u001b[0;34m.\u001b[0m\u001b[0mload\u001b[0m\u001b[0;34m(\u001b[0m\u001b[0;34m\"../code/baseline/rnn-tree-order/valid-losses-0-1-GRU-50-1-True-0.1-2000-{}-[\\'{}\\', \\'{}\\', \\'{}\\', \\'{}\\', \\'{}\\'].npy\"\u001b[0m\u001b[0;34m.\u001b[0m\u001b[0mformat\u001b[0m\u001b[0;34m(\u001b[0m\u001b[0mp\u001b[0m\u001b[0;34m,\u001b[0m \u001b[0mapp1\u001b[0m\u001b[0;34m,\u001b[0m\u001b[0mapp2\u001b[0m\u001b[0;34m,\u001b[0m \u001b[0mapp3\u001b[0m\u001b[0;34m,\u001b[0m\u001b[0mapp4\u001b[0m\u001b[0;34m,\u001b[0m\u001b[0mapp5\u001b[0m\u001b[0;34m)\u001b[0m\u001b[0;34m)\u001b[0m\u001b[0;34m\u001b[0m\u001b[0m\n\u001b[0m\u001b[1;32m     10\u001b[0m \u001b[0mo\u001b[0m\u001b[0;34m[\u001b[0m\u001b[0;34m'reduced'\u001b[0m\u001b[0;34m]\u001b[0m \u001b[0;34m=\u001b[0m \u001b[0mnp\u001b[0m\u001b[0;34m.\u001b[0m\u001b[0mload\u001b[0m\u001b[0;34m(\u001b[0m\u001b[0;34m\"../code/baseline/rnn-tree-order/valid-losses-0-1-GRU-50-1-True-0.1-2000-1.0-[\\'{}\\', \\'{}\\', \\'{}\\', \\'{}\\', \\'{}\\']-reduced.npy\"\u001b[0m\u001b[0;34m.\u001b[0m\u001b[0mformat\u001b[0m\u001b[0;34m(\u001b[0m\u001b[0mapp1\u001b[0m\u001b[0;34m,\u001b[0m\u001b[0mapp2\u001b[0m\u001b[0;34m,\u001b[0m \u001b[0mapp3\u001b[0m\u001b[0;34m,\u001b[0m\u001b[0mapp4\u001b[0m\u001b[0;34m,\u001b[0m\u001b[0mapp5\u001b[0m\u001b[0;34m)\u001b[0m\u001b[0;34m)\u001b[0m\u001b[0;34m\u001b[0m\u001b[0m\n",
      "\u001b[0;32m~/anaconda3/lib/python3.6/site-packages/numpy/lib/npyio.py\u001b[0m in \u001b[0;36mload\u001b[0;34m(file, mmap_mode, allow_pickle, fix_imports, encoding)\u001b[0m\n\u001b[1;32m    368\u001b[0m     \u001b[0mown_fid\u001b[0m \u001b[0;34m=\u001b[0m \u001b[0;32mFalse\u001b[0m\u001b[0;34m\u001b[0m\u001b[0m\n\u001b[1;32m    369\u001b[0m     \u001b[0;32mif\u001b[0m \u001b[0misinstance\u001b[0m\u001b[0;34m(\u001b[0m\u001b[0mfile\u001b[0m\u001b[0;34m,\u001b[0m \u001b[0mbasestring\u001b[0m\u001b[0;34m)\u001b[0m\u001b[0;34m:\u001b[0m\u001b[0;34m\u001b[0m\u001b[0m\n\u001b[0;32m--> 370\u001b[0;31m         \u001b[0mfid\u001b[0m \u001b[0;34m=\u001b[0m \u001b[0mopen\u001b[0m\u001b[0;34m(\u001b[0m\u001b[0mfile\u001b[0m\u001b[0;34m,\u001b[0m \u001b[0;34m\"rb\"\u001b[0m\u001b[0;34m)\u001b[0m\u001b[0;34m\u001b[0m\u001b[0m\n\u001b[0m\u001b[1;32m    371\u001b[0m         \u001b[0mown_fid\u001b[0m \u001b[0;34m=\u001b[0m \u001b[0;32mTrue\u001b[0m\u001b[0;34m\u001b[0m\u001b[0m\n\u001b[1;32m    372\u001b[0m     \u001b[0;32melif\u001b[0m \u001b[0mis_pathlib_path\u001b[0m\u001b[0;34m(\u001b[0m\u001b[0mfile\u001b[0m\u001b[0;34m)\u001b[0m\u001b[0;34m:\u001b[0m\u001b[0;34m\u001b[0m\u001b[0m\n",
      "\u001b[0;31mFileNotFoundError\u001b[0m: [Errno 2] No such file or directory: \"../code/baseline/rnn-tree-order/valid-losses-0-1-GRU-50-1-True-0.1-2000-0.0-['mw', 'fridge', 'hvac', 'dw', 'dr'].npy\""
     ]
    }
   ],
   "source": [
    "fold_num = 4\n",
    "dataset = 1\n",
    "\n",
    "o = {}\n",
    "order ='mw fridge hvac dw dr'\n",
    "app1, app2, app3,app4,app5 = order.split()\n",
    "\n",
    "for p in [0.0, 0.2, 0.4, 0.6, 0.8, 1.0]:\n",
    "    o[p] = np.load(\"../code/baseline/rnn-tree-order/valid-losses-0-1-GRU-50-1-True-0.1-2000-{}-[\\'{}\\', \\'{}\\', \\'{}\\', \\'{}\\', \\'{}\\'].npy\".format(p, app1,app2, app3,app4,app5))\n",
    "o['reduced'] = np.load(\"../code/baseline/rnn-tree-order/valid-losses-0-1-GRU-50-1-True-0.1-2000-1.0-[\\'{}\\', \\'{}\\', \\'{}\\', \\'{}\\', \\'{}\\']-reduced.npy\".format(app1,app2, app3,app4,app5))"
   ]
  },
  {
   "cell_type": "code",
   "execution_count": 60,
   "metadata": {
    "collapsed": true
   },
   "outputs": [],
   "source": [
    "%matplotlib inline"
   ]
  },
  {
   "cell_type": "code",
   "execution_count": 121,
   "metadata": {},
   "outputs": [
    {
     "data": {
      "text/plain": [
       "<matplotlib.axes._subplots.AxesSubplot at 0x7fa74c4ded68>"
      ]
     },
     "execution_count": 121,
     "metadata": {},
     "output_type": "execute_result"
    },
    {
     "data": {
      "image/png": "[encoded data removed]",
      "text/plain": [
       "<matplotlib.figure.Figure at 0x7fa74ca2f668>"
      ]
     },
     "metadata": {},
     "output_type": "display_data"
    }
   ],
   "source": [
    "pd.Series(o[0.0].item()).plot(logx=True)\n",
    "pd.Series(o[0.2].item()).plot(logx=True)\n",
    "# pd.Series(o[0.4].item()).plot()\n",
    "# pd.Series(o[0.6].item()).plot()\n",
    "# pd.Series(o[0.8].item()).plot()\n",
    "# pd.Series(o[1.0].item()).plot()\n",
    "# pd.Series(o['reduced'].item()).plot()"
   ]
  },
  {
   "cell_type": "code",
   "execution_count": 90,
   "metadata": {},
   "outputs": [
    {
     "data": {
      "text/plain": [
       "(37.368244171142578,)"
      ]
     },
     "execution_count": 90,
     "metadata": {},
     "output_type": "execute_result"
    }
   ],
   "source": [
    "pd.Series(o[p].item()).min(), "
   ]
  },
  {
   "cell_type": "code",
   "execution_count": 106,
   "metadata": {},
   "outputs": [],
   "source": [
    "fold_num = 1\n",
    "order ='fridge mw hvac dw dr'\n",
    "app1, app2, app3,app4,app5 = order.split()\n",
    "test_error = np.load(\"../code/baseline/test-error-{}-1-GRU-50-1-True-0.1-2000-{}-[\\'{}\\', \\'{}\\', \\'{}\\', \\'{}\\', \\'{}\\'].npy\".format(fold_num, 0.0, app1,app2, app3,app4,app5))"
   ]
  },
  {
   "cell_type": "code",
   "execution_count": 107,
   "metadata": {},
   "outputs": [
    {
     "data": {
      "text/plain": [
       "45.9204522079804"
      ]
     },
     "execution_count": 107,
     "metadata": {},
     "output_type": "execute_result"
    }
   ],
   "source": [
    "pd.Series(test_error.item()[2000]).mean()"
   ]
  },
  {
   "cell_type": "code",
   "execution_count": 46,
   "metadata": {},
   "outputs": [
    {
     "name": "stdout",
     "output_type": "stream",
     "text": [
      "../code/baseline/learning_p/valid-losses-0-1-GRU-50-1-True-0.1-2000-0.2-[_fridge_, _hvac_, _dr_, _dw_, _mw_].npy\n"
     ]
    }
   ],
   "source": [
    "print(\"../code/baseline/learning_p/valid-losses-0-1-GRU-50-1-True-0.1-2000-{}-{}.npy\".format(p, order))"
   ]
  },
  {
   "cell_type": "code",
   "execution_count": 148,
   "metadata": {},
   "outputs": [],
   "source": [
    "import itertools\n",
    "o = {}\n",
    "for order in list(itertools.permutations(['hvac', 'fridge', 'dr', 'dw', 'mw'])):\n",
    "    try:\n",
    "        app1, app2, app3,app4,app5 = order\n",
    "        o[order] = np.load(\"../code/baseline/rnn-tree-order-2/valid-error-0-1-GRU-50-1-True-0.1-2000-0.4-[\\'{}\\', \\'{}\\', \\'{}\\', \\'{}\\', \\'{}\\'].npy\".format(app1,app2, app3,app4,app5)).item()[2000]\n",
    "    except:\n",
    "        continue"
   ]
  },
  {
   "cell_type": "code",
   "execution_count": 150,
   "metadata": {},
   "outputs": [
    {
     "name": "stderr",
     "output_type": "stream",
     "text": [
      "/zf14/yj9xs/anaconda3/lib/python3.6/site-packages/ipykernel_launcher.py:1: FutureWarning: 'argmin' is deprecated. Use 'idxmin' instead. The behavior of 'argmin' will be corrected to return the positional minimum in the future. Use 'series.values.argmin' to get the position of the minimum now.\n",
      "  \"\"\"Entry point for launching an IPython kernel.\n"
     ]
    },
    {
     "data": {
      "text/plain": [
       "('dw', 'fridge', 'hvac', 'mw', 'dr')"
      ]
     },
     "execution_count": 150,
     "metadata": {},
     "output_type": "execute_result"
    }
   ],
   "source": [
    "pd.DataFrame(o).mean().argmin()"
   ]
  },
  {
   "cell_type": "code",
   "execution_count": 151,
   "metadata": {},
   "outputs": [
    {
     "data": {
      "text/plain": [
       "40.617905640722462"
      ]
     },
     "execution_count": 151,
     "metadata": {},
     "output_type": "execute_result"
    }
   ],
   "source": [
    "pd.DataFrame(o).mean()[_150]"
   ]
  },
  {
   "cell_type": "code",
   "execution_count": null,
   "metadata": {
    "collapsed": true
   },
   "outputs": [],
   "source": []
  }
 ],
 "metadata": {
  "kernelspec": {
   "display_name": "Python 3",
   "language": "python",
   "name": "python3"
  },
  "language_info": {
   "codemirror_mode": {
    "name": "ipython",
    "version": 3
   },
   "file_extension": ".py",
   "mimetype": "text/x-python",
   "name": "python",
   "nbconvert_exporter": "python",
   "pygments_lexer": "ipython3",
   "version": "3.6.3"
  }
 },
 "nbformat": 4,
 "nbformat_minor": 2
}
