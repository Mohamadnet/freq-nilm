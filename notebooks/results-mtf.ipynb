{
 "cells": [
  {
   "cell_type": "code",
   "execution_count": 1,
   "metadata": {
    "collapsed": true
   },
   "outputs": [],
   "source": [
    "import sys\n",
    "import numpy as np\n",
    "import pandas as pd\n",
    "sys.path.append(\"../code/\")"
   ]
  },
  {
   "cell_type": "code",
   "execution_count": 2,
   "metadata": {
    "collapsed": true
   },
   "outputs": [],
   "source": [
    "from dataloader import APPLIANCE_ORDER, get_train_test\n",
    "from tensor_custom_core import stf_4dim, stf_4dim_time"
   ]
  },
  {
   "cell_type": "code",
   "execution_count": 3,
   "metadata": {
    "collapsed": true
   },
   "outputs": [],
   "source": [
    "num_folds = 5"
   ]
  },
  {
   "cell_type": "code",
   "execution_count": 7,
   "metadata": {
    "collapsed": true
   },
   "outputs": [],
   "source": [
    "def mtf(r=2, lr=1, num_iter=100):\n",
    "    out = []\n",
    "    for cur_fold in range(5):\n",
    "        train, test = get_train_test(num_folds=num_folds, fold_num=cur_fold)\n",
    "        test_copy = test.copy()\n",
    "        test_copy[:, 1:, :, :] = np.NaN\n",
    "        train_test = np.concatenate([train, test_copy])\n",
    "        H, A, D, T = stf_4dim_time(tensor=train_test,r=r,lr=lr, num_iter=num_iter )\n",
    "        pred = np.einsum(\"Hr, Ar, Dr, ATr ->HADT\", H, A, D, T)[len(train):, 1:, :, :]\n",
    "        out.append(pred)\n",
    "    return np.concatenate(out)\n"
   ]
  },
  {
   "cell_type": "code",
   "execution_count": 10,
   "metadata": {},
   "outputs": [
    {
     "name": "stdout",
     "output_type": "stream",
     "text": [
      "2\n",
      "819.868372278 0\n",
      "400.017517262 50\n",
      "804.697601901 0\n",
      "393.038431061 50\n",
      "807.604072723 0\n",
      "394.100609765 50\n",
      "803.448287196 0\n",
      "379.869636351 50\n",
      "811.818772316 0\n",
      "389.034434338 50\n",
      "3\n",
      "818.837338412 0\n",
      "391.602777381 50\n",
      "803.681772691 0\n",
      "376.110033224 50\n",
      "806.580928961 0\n",
      "382.180544083 50\n",
      "802.343602488 0\n",
      "379.195253645 50\n",
      "810.782270578 0\n",
      "386.2174 50\n"
     ]
    }
   ],
   "source": [
    "tensor = np.load('../2015-5appliances.numpy.npy')\n",
    "from sklearn.metrics import mean_absolute_error\n",
    "\n",
    "err_mtf ={}\n",
    "gt = tensor[:, 1:, :, :]\n",
    "for num_latent in range(2, 4):\n",
    "    print(num_latent)\n",
    "    pred = mtf(num_latent)\n",
    "    # Clamping prediction to aggregate\n",
    "    pred = np.minimum(pred, tensor[:, 0:1, :,:])\n",
    "    err_mtf[num_latent] = {APPLIANCE_ORDER[i+1]:mean_absolute_error(pred[:, i,:,:].flatten(), \n",
    "                                                                       gt[:, i, :, :].flatten()) for i in range(pred.shape[1])}"
   ]
  },
  {
   "cell_type": "code",
   "execution_count": 12,
   "metadata": {},
   "outputs": [
    {
     "data": {
      "text/html": [
       "<div>\n",
       "<style>\n",
       "    .dataframe thead tr:only-child th {\n",
       "        text-align: right;\n",
       "    }\n",
       "\n",
       "    .dataframe thead th {\n",
       "        text-align: left;\n",
       "    }\n",
       "\n",
       "    .dataframe tbody tr th {\n",
       "        vertical-align: top;\n",
       "    }\n",
       "</style>\n",
       "<table border=\"1\" class=\"dataframe\">\n",
       "  <thead>\n",
       "    <tr style=\"text-align: right;\">\n",
       "      <th></th>\n",
       "      <th>1</th>\n",
       "      <th>2</th>\n",
       "      <th>3</th>\n",
       "    </tr>\n",
       "  </thead>\n",
       "  <tbody>\n",
       "    <tr>\n",
       "      <th>dr</th>\n",
       "      <td>115.048914</td>\n",
       "      <td>115.261059</td>\n",
       "      <td>115.588028</td>\n",
       "    </tr>\n",
       "    <tr>\n",
       "      <th>dw</th>\n",
       "      <td>27.510341</td>\n",
       "      <td>27.287977</td>\n",
       "      <td>28.473132</td>\n",
       "    </tr>\n",
       "    <tr>\n",
       "      <th>fridge</th>\n",
       "      <td>35.857393</td>\n",
       "      <td>35.967953</td>\n",
       "      <td>36.028281</td>\n",
       "    </tr>\n",
       "    <tr>\n",
       "      <th>hvac</th>\n",
       "      <td>254.960051</td>\n",
       "      <td>232.798962</td>\n",
       "      <td>221.404030</td>\n",
       "    </tr>\n",
       "    <tr>\n",
       "      <th>mw</th>\n",
       "      <td>10.888660</td>\n",
       "      <td>11.028119</td>\n",
       "      <td>11.014711</td>\n",
       "    </tr>\n",
       "  </tbody>\n",
       "</table>\n",
       "</div>"
      ],
      "text/plain": [
       "                 1           2           3\n",
       "dr      115.048914  115.261059  115.588028\n",
       "dw       27.510341   27.287977   28.473132\n",
       "fridge   35.857393   35.967953   36.028281\n",
       "hvac    254.960051  232.798962  221.404030\n",
       "mw       10.888660   11.028119   11.014711"
      ]
     },
     "execution_count": 12,
     "metadata": {},
     "output_type": "execute_result"
    }
   ],
   "source": [
    "pd.DataFrame(err_stf)"
   ]
  }
 ],
 "metadata": {
  "kernelspec": {
   "display_name": "Python 3",
   "language": "python",
   "name": "python3"
  },
  "language_info": {
   "codemirror_mode": {
    "name": "ipython",
    "version": 2
   },
   "file_extension": ".py",
   "mimetype": "text/x-python",
   "name": "python",
   "nbconvert_exporter": "python",
   "pygments_lexer": "ipython2",
   "version": "2.7.13"
  }
 },
 "nbformat": 4,
 "nbformat_minor": 2
}
