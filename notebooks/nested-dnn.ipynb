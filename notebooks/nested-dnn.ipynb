{
 "cells": [
  {
   "cell_type": "code",
   "execution_count": 2,
   "metadata": {
    "collapsed": true
   },
   "outputs": [],
   "source": [
    "import numpy as np\n",
    "import pandas as pd"
   ]
  },
  {
   "cell_type": "code",
   "execution_count": 4,
   "metadata": {},
   "outputs": [],
   "source": [
    "err = {}\n",
    "for dataset in [1, 2]:\n",
    "    err[dataset] = {}\n",
    "    for cur_fold in range(5):\n",
    "        err[dataset][cur_fold] = {}\n",
    "        for appliance in ['hvac', 'fridge', 'dr', 'dw','mw']:\n",
    "            err[dataset][cur_fold][appliance] = {}\n",
    "            for lr in [0.01, 0.1, 1.0]:\n",
    "                err[dataset][cur_fold][appliance][lr] = {}\n",
    "                for num_iter in [1000, 2000, 3000]:\n",
    "                    err[dataset][cur_fold][appliance][lr][num_iter] = \\\n",
    "                    np.load(\"../code/baseline/dnn-nested-cv/valid-error-{}-{}-{}-{}-0.0-['{}'].npy\".format(cur_fold, dataset, lr, num_iter, appliance)).item()"
   ]
  },
  {
   "cell_type": "code",
   "execution_count": 8,
   "metadata": {},
   "outputs": [
    {
     "data": {
      "text/plain": [
       "331.09786416683215"
      ]
     },
     "execution_count": 8,
     "metadata": {},
     "output_type": "execute_result"
    }
   ],
   "source": [
    "appliance = 'hvac'\n",
    "err[1][0]['hvac'][0.01][1000][appliance]"
   ]
  },
  {
   "cell_type": "code",
   "execution_count": 9,
   "metadata": {},
   "outputs": [],
   "source": [
    "k = np.load(\"../code/baseline/dnn-nested-individual/dnn-nested-error-1-hvac.npy\")"
   ]
  },
  {
   "cell_type": "code",
   "execution_count": 10,
   "metadata": {},
   "outputs": [
    {
     "data": {
      "text/plain": [
       "array({'hvac': 186.18536582366323}, dtype=object)"
      ]
     },
     "execution_count": 10,
     "metadata": {},
     "output_type": "execute_result"
    }
   ],
   "source": [
    "k"
   ]
  },
  {
   "cell_type": "code",
   "execution_count": 11,
   "metadata": {
    "collapsed": true
   },
   "outputs": [],
   "source": [
    "b_lr = {}\n",
    "b_iter = {}\n",
    "for dataset in [1, 2]:\n",
    "    b_lr[dataset] = {}\n",
    "    b_iter[dataset] = {}\n",
    "    for cur_fold in range(5):\n",
    "        b_lr[dataset][cur_fold] = {}\n",
    "        b_iter[dataset][cur_fold] = {}\n",
    "        for appliance in ['hvac', 'fridge', 'dr', 'dw','mw']:\n",
    "            \n",
    "            min_error = np.inf\n",
    "            for lr in [0.01, 0.1, 1.0]:\n",
    "                for num_iter in [1000, 2000, 3000]:\n",
    "                    error = err[dataset][cur_fold][appliance][lr][num_iter][appliance]\n",
    "                    if error < min_error:\n",
    "                        min_error = error\n",
    "                        b_lr[dataset][cur_fold][appliance] = lr\n",
    "                        b_iter[dataset][cur_fold][appliance] = num_iter\n",
    "                        "
   ]
  },
  {
   "cell_type": "code",
   "execution_count": 12,
   "metadata": {},
   "outputs": [
    {
     "data": {
      "text/plain": [
       "{1: {0: {'dr': 3000, 'dw': 1000, 'fridge': 2000, 'hvac': 3000, 'mw': 1000},\n",
       "  1: {'dr': 2000, 'dw': 1000, 'fridge': 2000, 'hvac': 1000, 'mw': 1000},\n",
       "  2: {'dr': 3000, 'dw': 1000, 'fridge': 1000, 'hvac': 2000, 'mw': 1000},\n",
       "  3: {'dr': 1000, 'dw': 1000, 'fridge': 2000, 'hvac': 1000, 'mw': 1000},\n",
       "  4: {'dr': 1000, 'dw': 1000, 'fridge': 1000, 'hvac': 3000, 'mw': 1000}},\n",
       " 2: {0: {'dr': 1000, 'dw': 1000, 'fridge': 1000, 'hvac': 3000, 'mw': 1000},\n",
       "  1: {'dr': 1000, 'dw': 1000, 'fridge': 1000, 'hvac': 3000, 'mw': 1000},\n",
       "  2: {'dr': 1000, 'dw': 1000, 'fridge': 1000, 'hvac': 3000, 'mw': 1000},\n",
       "  3: {'dr': 1000, 'dw': 1000, 'fridge': 1000, 'hvac': 3000, 'mw': 1000},\n",
       "  4: {'dr': 1000, 'dw': 1000, 'fridge': 2000, 'hvac': 2000, 'mw': 1000}}}"
      ]
     },
     "execution_count": 12,
     "metadata": {},
     "output_type": "execute_result"
    }
   ],
   "source": [
    "b_iter"
   ]
  },
  {
   "cell_type": "code",
   "execution_count": 20,
   "metadata": {
    "collapsed": true
   },
   "outputs": [],
   "source": [
    "np.save(\"../code/nested_dnn_best_lr.npy\", b_lr)\n",
    "np.save(\"../code/nested_dnn_best_iter.npy\", b_iter)"
   ]
  },
  {
   "cell_type": "code",
   "execution_count": 17,
   "metadata": {
    "collapsed": true
   },
   "outputs": [],
   "source": [
    "appliance_contri = {'hvac':0.83003428, 'fridge':0.0827564, 'dr':0.06381463, 'dw':0.01472098, 'mw':0.00867371}"
   ]
  },
  {
   "cell_type": "code",
   "execution_count": 19,
   "metadata": {},
   "outputs": [
    {
     "name": "stdout",
     "output_type": "stream",
     "text": [
      "fold 0\n",
      "hvac 148.760056584 179.221581768\n",
      "fridge 28.7656601307 347.594387029\n",
      "dr 64.3644699975 1008.61620599\n",
      "dw 13.616785021 924.991747897\n",
      "mw 10.5592430936 1217.38484381\n",
      "fold 1\n",
      "hvac 150.728299969 181.592861404\n",
      "fridge 27.607985978 333.60544898\n",
      "dr 56.0272976433 877.969481972\n",
      "dw 13.4501938939 913.675169312\n",
      "mw 8.88811270849 1024.71868537\n",
      "fold 2\n",
      "hvac 153.343375408 184.743424582\n",
      "fridge 28.925610711 349.527175071\n",
      "dr 57.3401190322 898.541902259\n",
      "dw 14.4292951778 980.185774165\n",
      "mw 8.96977137201 1034.13318776\n",
      "fold 3\n",
      "hvac 169.957006246 204.75902061\n",
      "fridge 25.6322270856 309.731055068\n",
      "dr 58.2339770531 912.549004094\n",
      "dw 12.3282676135 837.462425295\n",
      "mw 8.62777410554 994.704008497\n",
      "fold 4\n",
      "hvac 214.626309993 258.575236186\n",
      "fridge 25.9806227546 313.940949033\n",
      "dr 62.3808040031 977.531390578\n",
      "dw 14.8799727236 1010.80041707\n",
      "mw 6.57013058291 757.476395097\n"
     ]
    }
   ],
   "source": [
    "for dataset in [1]:\n",
    "    for cur_fold in range(5):\n",
    "        print (\"fold\", cur_fold)\n",
    "        for appliance in ['hvac', 'fridge', 'dr', 'dw', 'mw']:\n",
    "            lr = b_lr[dataset][cur_fold][appliance]\n",
    "            iters = b_iter[dataset][cur_fold][appliance]\n",
    "            e = err[dataset][cur_fold][appliance][lr][iters][appliance]\n",
    "            print (appliance, e, e/appliance_contri[appliance])"
   ]
  }
 ],
 "metadata": {
  "kernelspec": {
   "display_name": "Python 3",
   "language": "python",
   "name": "python3"
  },
  "language_info": {
   "codemirror_mode": {
    "name": "ipython",
    "version": 3
   },
   "file_extension": ".py",
   "mimetype": "text/x-python",
   "name": "python",
   "nbconvert_exporter": "python",
   "pygments_lexer": "ipython3",
   "version": "3.6.3"
  }
 },
 "nbformat": 4,
 "nbformat_minor": 2
}
