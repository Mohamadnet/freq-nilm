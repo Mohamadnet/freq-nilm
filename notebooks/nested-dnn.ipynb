{
 "cells": [
  {
   "cell_type": "code",
   "execution_count": 5,
   "metadata": {
    "collapsed": true
   },
   "outputs": [],
   "source": [
    "import numpy as np\n",
    "import pandas as pd"
   ]
  },
  {
   "cell_type": "code",
   "execution_count": 3,
   "metadata": {},
   "outputs": [],
   "source": [
    "err = {}\n",
    "for dataset in [1, 2]:\n",
    "    err[dataset] = {}\n",
    "    for cur_fold in range(5):\n",
    "        err[dataset][cur_fold] = {}\n",
    "        for appliance in ['hvac', 'fridge', 'dr', 'dw','mw']:\n",
    "            err[dataset][cur_fold][appliance] = {}\n",
    "            for lr in [0.01, 0.1, 1.0]:\n",
    "                err[dataset][cur_fold][appliance][lr] = {}\n",
    "                for num_iter in [1000, 2000, 3000]:\n",
    "                    err[dataset][cur_fold][appliance][lr][num_iter] = \\\n",
    "                    np.load(\"../../baseline/dnn-nested-cv/valid-error-{}-{}-{}-{}-0.0-['{}'].npy\".format(cur_fold, dataset, lr, num_iter, appliance)).item()"
   ]
  },
  {
   "cell_type": "code",
   "execution_count": 10,
   "metadata": {},
   "outputs": [
    {
     "data": {
      "text/plain": [
       "331.09786416683215"
      ]
     },
     "execution_count": 10,
     "metadata": {},
     "output_type": "execute_result"
    }
   ],
   "source": [
    "appliance = 'hvac'\n",
    "err[1][0]['hvac'][0.01][1000][appliance]"
   ]
  },
  {
   "cell_type": "code",
   "execution_count": 16,
   "metadata": {},
   "outputs": [],
   "source": [
    "b_lr = {}\n",
    "b_iter = {}\n",
    "for dataset in [1, 2]:\n",
    "    b_lr[dataset] = {}\n",
    "    b_iter[dataset] = {}\n",
    "    for cur_fold in range(5):\n",
    "        b_lr[dataset][cur_fold] = {}\n",
    "        b_iter[dataset][cur_fold] = {}\n",
    "        for appliance in ['hvac', 'fridge', 'dr', 'dw','mw']:\n",
    "            \n",
    "            min_error = np.inf\n",
    "            for lr in [0.01, 0.1, 1.0]:\n",
    "                for num_iter in [1000, 2000, 3000]:\n",
    "                    error = err[dataset][cur_fold][appliance][lr][num_iter][appliance]\n",
    "                    if error < min_error:\n",
    "                        min_error = error\n",
    "                        b_lr[dataset][cur_fold][appliance] = lr\n",
    "                        b_iter[dataset][cur_fold][appliance] = num_iter\n",
    "                        "
   ]
  },
  {
   "cell_type": "code",
   "execution_count": 18,
   "metadata": {},
   "outputs": [
    {
     "data": {
      "text/plain": [
       "{1: {0: {'dr': 3000, 'dw': 1000, 'fridge': 2000, 'hvac': 3000, 'mw': 1000},\n",
       "  1: {'dr': 2000, 'dw': 1000, 'fridge': 2000, 'hvac': 1000, 'mw': 1000},\n",
       "  2: {'dr': 3000, 'dw': 1000, 'fridge': 1000, 'hvac': 2000, 'mw': 1000},\n",
       "  3: {'dr': 1000, 'dw': 1000, 'fridge': 2000, 'hvac': 1000, 'mw': 1000},\n",
       "  4: {'dr': 1000, 'dw': 1000, 'fridge': 1000, 'hvac': 3000, 'mw': 1000}},\n",
       " 2: {0: {'dr': 1000, 'dw': 1000, 'fridge': 1000, 'hvac': 3000, 'mw': 1000},\n",
       "  1: {'dr': 1000, 'dw': 1000, 'fridge': 1000, 'hvac': 3000, 'mw': 1000},\n",
       "  2: {'dr': 1000, 'dw': 1000, 'fridge': 1000, 'hvac': 3000, 'mw': 1000},\n",
       "  3: {'dr': 1000, 'dw': 1000, 'fridge': 1000, 'hvac': 3000, 'mw': 1000},\n",
       "  4: {'dr': 1000, 'dw': 1000, 'fridge': 2000, 'hvac': 2000, 'mw': 1000}}}"
      ]
     },
     "execution_count": 18,
     "metadata": {},
     "output_type": "execute_result"
    }
   ],
   "source": [
    "b_iter"
   ]
  },
  {
   "cell_type": "code",
   "execution_count": 20,
   "metadata": {},
   "outputs": [],
   "source": [
    "np.save(\"../code/nested_dnn_best_lr.npy\", b_lr)\n",
    "np.save(\"../code/nested_dnn_best_iter.npy\", b_iter)"
   ]
  }
 ],
 "metadata": {
  "kernelspec": {
   "display_name": "Python 3",
   "language": "python",
   "name": "python3"
  },
  "language_info": {
   "codemirror_mode": {
    "name": "ipython",
    "version": 3
   },
   "file_extension": ".py",
   "mimetype": "text/x-python",
   "name": "python",
   "nbconvert_exporter": "python",
   "pygments_lexer": "ipython3",
   "version": "3.5.2"
  }
 },
 "nbformat": 4,
 "nbformat_minor": 2
}
