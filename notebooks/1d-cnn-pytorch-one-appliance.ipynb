{
 "cells": [
  {
   "cell_type": "code",
   "execution_count": 52,
   "metadata": {},
   "outputs": [],
   "source": [
    "import sys\n",
    "sys.path.append(\"../code/\")\n",
    "from sklearn.metrics import mean_absolute_error\n",
    "from dataloader import APPLIANCE_ORDER, get_train_test\n",
    "import numpy as np\n",
    "import pandas as pd\n",
    "import torch\n",
    "import torch.nn as nn\n",
    "from torch.autograd import Variable\n",
    "\n",
    "cuda_av = False\n",
    "if torch.cuda.is_available():\n",
    "    cuda_av = True\n",
    "\n",
    "torch.manual_seed(0)\n",
    "np.random.seed(0)\n",
    "\n",
    "\n",
    "weight_appliance = {'mw':1, 'dw':1, 'dr':1,'fridge':1, 'hvac':1}\n",
    "\n",
    "# num_hidden, num_iterations, num_layers, p, num_directions = sys.argv[1:6]"
   ]
  },
  {
   "cell_type": "code",
   "execution_count": 53,
   "metadata": {},
   "outputs": [],
   "source": [
    "appliance=\"hvac\"\n",
    "cell_type = \"GRU\"\n",
    "num_hidden = 120\n",
    "num_iterations = 100\n",
    "num_layers = 1\n",
    "num_directions = 1\n",
    "\n",
    "input_dim = 1\n",
    "hidden_size = num_hidden\n",
    "num_layers = num_layers\n",
    "if num_directions == 1:\n",
    "    bidirectional = False\n",
    "else:\n",
    "    bidirectional = True\n",
    "lr = 0.1\n",
    "p = 0.5\n",
    "num_folds = 5\n",
    "fold_num = 0\n",
    "\n",
    "torch.manual_seed(0)\n",
    "\n",
    "train, test = get_train_test(2, num_folds=num_folds, fold_num=fold_num)\n",
    "train_aggregate = train[:, 0, None, :, :] - train[:, 1, None, :, :]\n",
    "test_aggregate = test[:, 0, None, :, :]- test[:, 1, None, :, :]"
   ]
  },
  {
   "cell_type": "code",
   "execution_count": 75,
   "metadata": {},
   "outputs": [
    {
     "data": {
      "text/plain": [
       "torch.Size([54, 1, 112, 24])"
      ]
     },
     "execution_count": 75,
     "metadata": {},
     "output_type": "execute_result"
    }
   ],
   "source": [
    "t = Variable(torch.Tensor(train[:, 0, None, :, :]), requires_grad=True)\n",
    "t.size()"
   ]
  },
  {
   "cell_type": "code",
   "execution_count": 76,
   "metadata": {},
   "outputs": [
    {
     "data": {
      "text/plain": [
       "Variable containing:\n",
       "( 0  ,.,.) = \n",
       "   1366.9166   1367.6000    899.0000  ...    5006.9668   4656.8667   1456.9333\n",
       "\n",
       "( 1  ,.,.) = \n",
       "    946.7667    891.6500    890.1833  ...    4071.2166   3348.8833    915.8834\n",
       "\n",
       "( 2  ,.,.) = \n",
       "   1059.1000    788.1000    610.6000  ...    2488.2334   1840.3000   1359.0167\n",
       " ... \n",
       "\n",
       "(6045,.,.) = \n",
       "    579.5333    661.4833    606.6166  ...     948.5667    897.8333    987.7833\n",
       "\n",
       "(6046,.,.) = \n",
       "   1062.3667    597.3666    719.2833  ...    1208.1000   1270.4333    810.2000\n",
       "\n",
       "(6047,.,.) = \n",
       "    511.6000    480.5333    478.1833  ...    2177.7334   1905.5834   1545.0834\n",
       "[torch.FloatTensor of size 6048x1x24]"
      ]
     },
     "execution_count": 76,
     "metadata": {},
     "output_type": "execute_result"
    }
   ],
   "source": [
    "t = t.view(-1, 1, 24)\n",
    "t"
   ]
  },
  {
   "cell_type": "code",
   "execution_count": 77,
   "metadata": {},
   "outputs": [
    {
     "data": {
      "text/plain": [
       "torch.Size([6048, 50, 1])"
      ]
     },
     "execution_count": 77,
     "metadata": {},
     "output_type": "execute_result"
    }
   ],
   "source": [
    "q1 = nn.Conv1d(1, 30, 10, 1)\n",
    "q2 = nn.Conv1d(30, 30, 8, 1)\n",
    "q3 = nn.Conv1d(30, 40, 6, 1)\n",
    "q4 = nn.Conv1d(40, 50, 3, 1)\n",
    "\n",
    "\n",
    "\n",
    "\n",
    "\n",
    "q4(q3(q2(q1(t)))).size()"
   ]
  },
  {
   "cell_type": "code",
   "execution_count": 78,
   "metadata": {},
   "outputs": [],
   "source": [
    "train_appliance = train[:, APPLIANCE_ORDER.index(appliance),None, :, :]\n",
    "test_appliance = test[:, APPLIANCE_ORDER.index(appliance),None, :, :]"
   ]
  },
  {
   "cell_type": "code",
   "execution_count": 112,
   "metadata": {},
   "outputs": [],
   "source": [
    "class CustomCNN(nn.Module):\n",
    "    def __init__(self):\n",
    "        super(CustomCNN, self).__init__()\n",
    "        torch.manual_seed(0)\n",
    "\n",
    "      \n",
    "        self.q1 = nn.Conv1d(1, 30, 10, 1)\n",
    "        self.act1 = nn.ReLU()\n",
    "        #self.bn1 = nn.BatchNorm1d(30)\n",
    "        self.q2 = nn.Conv1d(30, 30, 8, 1)\n",
    "        self.q3 = nn.Conv1d(30, 40, 6, 1)\n",
    "        self.q4 = nn.Conv1d(40, 50, 3, 1)\n",
    "        self.l = nn.Linear(50, 24)\n",
    "        self.act2 = nn.ReLU()\n",
    "    \n",
    "        \n",
    "        \n",
    "    def forward(self, x):\n",
    "        \n",
    "        pred = self.q1(x)\n",
    "        pred = self.act1(pred)\n",
    "        pred = self.q2(pred)\n",
    "        pred = self.q3(pred)\n",
    "        pred = self.q4(pred).view(-1, 50)\n",
    "        pred = self.l(pred)\n",
    "        pred = self.act2(pred)\n",
    "        \n",
    "        return pred"
   ]
  },
  {
   "cell_type": "code",
   "execution_count": 113,
   "metadata": {},
   "outputs": [
    {
     "data": {
      "text/plain": [
       "Variable containing:\n",
       " 866.7244\n",
       "[torch.FloatTensor of size 1]"
      ]
     },
     "execution_count": 113,
     "metadata": {},
     "output_type": "execute_result"
    }
   ],
   "source": [
    "c = CustomCNN()\n",
    "c(t)\n",
    "loss_func(c(t), out)"
   ]
  },
  {
   "cell_type": "code",
   "execution_count": 114,
   "metadata": {},
   "outputs": [],
   "source": [
    "loss_func = nn.L1Loss()\n",
    "c = CustomCNN()\n",
    "lr = 0.001\n",
    "if cuda_av:\n",
    "    c = c.cuda()\n",
    "    loss_func = loss_func.cuda()\n",
    "optimizer = torch.optim.Adam(c.parameters(), lr=lr)"
   ]
  },
  {
   "cell_type": "code",
   "execution_count": 115,
   "metadata": {},
   "outputs": [
    {
     "name": "stdout",
     "output_type": "stream",
     "text": [
      "0 866.7244262695312\n",
      "1 804.1245727539062\n",
      "2 743.2656860351562\n",
      "3 696.125\n",
      "4 664.680908203125\n",
      "5 634.1055297851562\n",
      "6 598.0985717773438\n",
      "7 569.9586791992188\n",
      "8 564.5447387695312\n",
      "9 567.1678466796875\n",
      "10 568.4572143554688\n",
      "11 566.102783203125\n",
      "12 562.0824584960938\n",
      "13 559.0032958984375\n",
      "14 556.5321044921875\n",
      "15 553.56982421875\n",
      "16 550.5823364257812\n",
      "17 548.3372192382812\n",
      "18 546.3447875976562\n",
      "19 543.9716796875\n",
      "20 541.8792724609375\n",
      "21 540.7139892578125\n",
      "22 539.7012329101562\n",
      "23 537.9024658203125\n",
      "24 535.7562866210938\n",
      "25 533.8154907226562\n",
      "26 531.8809814453125\n",
      "27 529.7385864257812\n",
      "28 527.898193359375\n",
      "29 526.3650512695312\n",
      "30 524.6600952148438\n",
      "31 522.905029296875\n",
      "32 521.371337890625\n",
      "33 519.7022094726562\n",
      "34 517.7832641601562\n",
      "35 516.0220336914062\n",
      "36 514.3650512695312\n",
      "37 512.632080078125\n",
      "38 510.96484375\n",
      "39 509.14990234375\n",
      "40 506.99603271484375\n",
      "41 504.7365417480469\n",
      "42 502.1293029785156\n",
      "43 498.724853515625\n",
      "44 494.1765441894531\n",
      "45 488.4815368652344\n",
      "46 483.189697265625\n",
      "47 479.39666748046875\n",
      "48 476.5201721191406\n",
      "49 474.4314270019531\n",
      "50 473.1832580566406\n",
      "51 472.2630615234375\n",
      "52 470.7234802246094\n",
      "53 468.58758544921875\n",
      "54 465.9485168457031\n",
      "55 463.3923645019531\n",
      "56 460.95947265625\n",
      "57 458.4570007324219\n",
      "58 455.95562744140625\n",
      "59 453.1734924316406\n",
      "60 449.8634948730469\n",
      "61 445.5824279785156\n",
      "62 439.1485595703125\n",
      "63 431.30718994140625\n",
      "64 424.1152038574219\n",
      "65 418.1830749511719\n",
      "66 414.37115478515625\n",
      "67 412.80712890625\n",
      "68 412.3018798828125\n",
      "69 411.6510925292969\n",
      "70 410.46197509765625\n",
      "71 409.2584533691406\n",
      "72 407.3377990722656\n",
      "73 404.9991760253906\n",
      "74 402.80780029296875\n",
      "75 400.6657409667969\n",
      "76 398.9248046875\n",
      "77 397.46099853515625\n",
      "78 396.03350830078125\n",
      "79 394.9346618652344\n",
      "80 394.0483093261719\n",
      "81 393.1058044433594\n",
      "82 392.149658203125\n",
      "83 391.09161376953125\n",
      "84 389.92828369140625\n",
      "85 388.8727722167969\n",
      "86 387.8497619628906\n",
      "87 386.8384094238281\n",
      "88 385.87969970703125\n",
      "89 384.9541320800781\n",
      "90 384.0703125\n",
      "91 383.29632568359375\n",
      "92 382.5206298828125\n",
      "93 381.787841796875\n",
      "94 381.0569152832031\n",
      "95 380.34197998046875\n",
      "96 379.668212890625\n",
      "97 378.9703674316406\n",
      "98 378.2706604003906\n",
      "99 377.5909423828125\n"
     ]
    }
   ],
   "source": [
    "inp = t\n",
    "for it in range(num_iterations):\n",
    "    out = Variable(torch.Tensor(train_appliance)).view(-1, 1, 24)\n",
    "    if cuda_av:\n",
    "        inp = inp.cuda()\n",
    "        out = out.cuda()\n",
    "\n",
    "    \n",
    "    pred = c(inp)\n",
    "\n",
    "    optimizer.zero_grad()\n",
    "    \n",
    "\n",
    "    \n",
    "    loss = loss_func(pred, out)\n",
    "    if it % 1 == 0:\n",
    "        print(it, loss.data[0])\n",
    "\n",
    "    loss.backward()\n",
    "    optimizer.step()"
   ]
  },
  {
   "cell_type": "code",
   "execution_count": 116,
   "metadata": {},
   "outputs": [
    {
     "data": {
      "text/plain": [
       "(54, 1, 112, 24)"
      ]
     },
     "execution_count": 116,
     "metadata": {},
     "output_type": "execute_result"
    }
   ],
   "source": [
    "train_appliance.shape"
   ]
  },
  {
   "cell_type": "code",
   "execution_count": 117,
   "metadata": {},
   "outputs": [
    {
     "data": {
      "text/plain": [
       "Variable containing:\n",
       "  730.4091\n",
       "  533.6808\n",
       "  526.0863\n",
       "  583.0676\n",
       "  350.6947\n",
       "  164.0210\n",
       "   37.6288\n",
       "   44.1697\n",
       "   61.3470\n",
       "   47.8102\n",
       "   92.6445\n",
       "    0.0000\n",
       "    0.0000\n",
       "    0.0000\n",
       "    0.0000\n",
       "   72.3168\n",
       "  511.2070\n",
       " 1801.6776\n",
       " 1439.4352\n",
       " 1410.1440\n",
       " 1658.2799\n",
       " 1545.6464\n",
       " 1187.9563\n",
       "  813.7744\n",
       "[torch.FloatTensor of size 24]"
      ]
     },
     "execution_count": 117,
     "metadata": {},
     "output_type": "execute_result"
    }
   ],
   "source": [
    "pred[0]"
   ]
  },
  {
   "cell_type": "code",
   "execution_count": 118,
   "metadata": {},
   "outputs": [
    {
     "ename": "IndexError",
     "evalue": "too many indices for array",
     "output_type": "error",
     "traceback": [
      "\u001b[0;31m---------------------------------------------------------------------------\u001b[0m",
      "\u001b[0;31mIndexError\u001b[0m                                Traceback (most recent call last)",
      "\u001b[0;32m<ipython-input-118-3f05f4a61d4e>\u001b[0m in \u001b[0;36m<module>\u001b[0;34m()\u001b[0m\n\u001b[0;32m----> 1\u001b[0;31m \u001b[0mpd\u001b[0m\u001b[0;34m.\u001b[0m\u001b[0mSeries\u001b[0m\u001b[0;34m(\u001b[0m\u001b[0mpred\u001b[0m\u001b[0;34m[\u001b[0m\u001b[0;36m0\u001b[0m\u001b[0;34m]\u001b[0m\u001b[0;34m.\u001b[0m\u001b[0mdata\u001b[0m\u001b[0;34m.\u001b[0m\u001b[0mnumpy\u001b[0m\u001b[0;34m(\u001b[0m\u001b[0;34m)\u001b[0m\u001b[0;34m[\u001b[0m\u001b[0;36m0\u001b[0m\u001b[0;34m,\u001b[0m \u001b[0;34m:\u001b[0m\u001b[0;34m]\u001b[0m\u001b[0;34m)\u001b[0m\u001b[0;34m.\u001b[0m\u001b[0mplot\u001b[0m\u001b[0;34m(\u001b[0m\u001b[0;34m)\u001b[0m\u001b[0;34m\u001b[0m\u001b[0m\n\u001b[0m\u001b[1;32m      2\u001b[0m \u001b[0mpd\u001b[0m\u001b[0;34m.\u001b[0m\u001b[0mSeries\u001b[0m\u001b[0;34m(\u001b[0m\u001b[0mtest_appliance\u001b[0m\u001b[0;34m[\u001b[0m\u001b[0;36m0\u001b[0m\u001b[0;34m,\u001b[0m  \u001b[0;34m:\u001b[0m\u001b[0;34m]\u001b[0m\u001b[0;34m)\u001b[0m\u001b[0;34m.\u001b[0m\u001b[0mplot\u001b[0m\u001b[0;34m(\u001b[0m\u001b[0;34m)\u001b[0m\u001b[0;34m\u001b[0m\u001b[0m\n",
      "\u001b[0;31mIndexError\u001b[0m: too many indices for array"
     ]
    }
   ],
   "source": [
    "pd.Series(pred[0].data.numpy()[0, :]).plot()\n",
    "pd.Series(test_appliance[0,  :]).plot()"
   ]
  },
  {
   "cell_type": "code",
   "execution_count": 123,
   "metadata": {},
   "outputs": [],
   "source": [
    "test_inp = Variable(torch.Tensor(test_aggregate).view(-1,1,24), requires_grad=False)\n",
    "test_out = Variable(torch.Tensor(test_appliance).view(-1,1,24), requires_grad=False)\n",
    "\n",
    "\n",
    "if cuda_av:\n",
    "    test_inp = test_inp.cuda()\n",
    "    test_out = test_out.cuda()\n",
    "    \n",
    "    "
   ]
  },
  {
   "cell_type": "code",
   "execution_count": 124,
   "metadata": {},
   "outputs": [
    {
     "ename": "IndexError",
     "evalue": "too many indices for array",
     "output_type": "error",
     "traceback": [
      "\u001b[0;31m---------------------------------------------------------------------------\u001b[0m",
      "\u001b[0;31mIndexError\u001b[0m                                Traceback (most recent call last)",
      "\u001b[0;32m<ipython-input-124-0bad20989064>\u001b[0m in \u001b[0;36m<module>\u001b[0;34m()\u001b[0m\n\u001b[0;32m----> 1\u001b[0;31m \u001b[0mpd\u001b[0m\u001b[0;34m.\u001b[0m\u001b[0mSeries\u001b[0m\u001b[0;34m(\u001b[0m\u001b[0mc\u001b[0m\u001b[0;34m(\u001b[0m\u001b[0mtest_inp\u001b[0m\u001b[0;34m)\u001b[0m\u001b[0;34m[\u001b[0m\u001b[0;36m0\u001b[0m\u001b[0;34m]\u001b[0m\u001b[0;34m.\u001b[0m\u001b[0mdata\u001b[0m\u001b[0;34m.\u001b[0m\u001b[0mnumpy\u001b[0m\u001b[0;34m(\u001b[0m\u001b[0;34m)\u001b[0m\u001b[0;34m[\u001b[0m\u001b[0;36m0\u001b[0m\u001b[0;34m,\u001b[0m \u001b[0;36m0\u001b[0m\u001b[0;34m,\u001b[0m \u001b[0;34m:\u001b[0m\u001b[0;34m]\u001b[0m\u001b[0;34m)\u001b[0m\u001b[0;34m.\u001b[0m\u001b[0mplot\u001b[0m\u001b[0;34m(\u001b[0m\u001b[0;34m)\u001b[0m\u001b[0;34m\u001b[0m\u001b[0m\n\u001b[0m\u001b[1;32m      2\u001b[0m \u001b[0mpd\u001b[0m\u001b[0;34m.\u001b[0m\u001b[0mSeries\u001b[0m\u001b[0;34m(\u001b[0m\u001b[0mtest_out\u001b[0m\u001b[0;34m.\u001b[0m\u001b[0mdata\u001b[0m\u001b[0;34m.\u001b[0m\u001b[0mnumpy\u001b[0m\u001b[0;34m(\u001b[0m\u001b[0;34m)\u001b[0m\u001b[0;34m[\u001b[0m\u001b[0;36m0\u001b[0m\u001b[0;34m,\u001b[0m \u001b[0;36m0\u001b[0m\u001b[0;34m,\u001b[0m \u001b[0;36m0\u001b[0m\u001b[0;34m,\u001b[0m \u001b[0;34m:\u001b[0m\u001b[0;34m]\u001b[0m\u001b[0;34m)\u001b[0m\u001b[0;34m.\u001b[0m\u001b[0mplot\u001b[0m\u001b[0;34m(\u001b[0m\u001b[0;34m)\u001b[0m\u001b[0;34m\u001b[0m\u001b[0m\n",
      "\u001b[0;31mIndexError\u001b[0m: too many indices for array"
     ]
    }
   ],
   "source": [
    "pd.Series(c(test_inp)[0].data.numpy()[0, 0, :]).plot()\n",
    "pd.Series(test_out.data.numpy()[0, 0, 0, :]).plot()"
   ]
  },
  {
   "cell_type": "code",
   "execution_count": 125,
   "metadata": {},
   "outputs": [],
   "source": [
    "p = c(test_inp)\n",
    "p[p<0.] = 0."
   ]
  },
  {
   "cell_type": "code",
   "execution_count": 126,
   "metadata": {},
   "outputs": [
    {
     "data": {
      "text/plain": [
       "Variable containing:\n",
       " 529.2985\n",
       "[torch.FloatTensor of size 1]"
      ]
     },
     "execution_count": 126,
     "metadata": {},
     "output_type": "execute_result"
    }
   ],
   "source": [
    "loss_func(p, test_out)"
   ]
  },
  {
   "cell_type": "code",
   "execution_count": 127,
   "metadata": {},
   "outputs": [
    {
     "ename": "ValueError",
     "evalue": "cannot reshape array of size 300 into shape (50,2)",
     "output_type": "error",
     "traceback": [
      "\u001b[0;31m---------------------------------------------------------------------------\u001b[0m",
      "\u001b[0;31mValueError\u001b[0m                                Traceback (most recent call last)",
      "\u001b[0;32m<ipython-input-127-9f417168ea2d>\u001b[0m in \u001b[0;36m<module>\u001b[0;34m()\u001b[0m\n\u001b[0;32m----> 1\u001b[0;31m \u001b[0msns\u001b[0m\u001b[0;34m.\u001b[0m\u001b[0mheatmap\u001b[0m\u001b[0;34m(\u001b[0m\u001b[0mpd\u001b[0m\u001b[0;34m.\u001b[0m\u001b[0mDataFrame\u001b[0m\u001b[0;34m(\u001b[0m\u001b[0mlist\u001b[0m\u001b[0;34m(\u001b[0m\u001b[0mc\u001b[0m\u001b[0;34m.\u001b[0m\u001b[0mparameters\u001b[0m\u001b[0;34m(\u001b[0m\u001b[0;34m)\u001b[0m\u001b[0;34m)\u001b[0m\u001b[0;34m[\u001b[0m\u001b[0;36m0\u001b[0m\u001b[0;34m]\u001b[0m\u001b[0;34m.\u001b[0m\u001b[0mdata\u001b[0m\u001b[0;34m.\u001b[0m\u001b[0mnumpy\u001b[0m\u001b[0;34m(\u001b[0m\u001b[0;34m)\u001b[0m\u001b[0;34m.\u001b[0m\u001b[0mreshape\u001b[0m\u001b[0;34m(\u001b[0m\u001b[0;36m50\u001b[0m\u001b[0;34m,\u001b[0m \u001b[0;36m2\u001b[0m\u001b[0;34m)\u001b[0m\u001b[0;34m)\u001b[0m\u001b[0;34m)\u001b[0m\u001b[0;34m\u001b[0m\u001b[0m\n\u001b[0m",
      "\u001b[0;31mValueError\u001b[0m: cannot reshape array of size 300 into shape (50,2)"
     ]
    }
   ],
   "source": [
    "sns.heatmap(pd.DataFrame(list(c.parameters())[0].data.numpy().reshape(50, 2)))"
   ]
  },
  {
   "cell_type": "code",
   "execution_count": null,
   "metadata": {},
   "outputs": [],
   "source": [
    "params = [test_inp, -2]\n",
    "for i in range(len(ORDER)):\n",
    "    params.append(None)\n",
    "pr = a(*params)\n",
    "pr = torch.clamp(pr, min=0.)\n",
    "test_pred = torch.split(pr, test_aggregate.shape[0])\n",
    "prediction_fold = [None for x in range(len(ORDER))]\n",
    "\n",
    "if cuda_av:\n",
    "    for appliance_num, appliance in enumerate(ORDER):\n",
    "        prediction_fold[appliance_num] = test_pred[appliance_num].cpu().data.numpy().reshape(-1, 24)\n",
    "else:\n",
    "    for appliance_num, appliance in enumerate(ORDER):\n",
    "        prediction_fold[appliance_num] = test_pred[appliance_num].data.numpy().reshape(-1, 24)\n",
    "gt_fold = [None for x in range(len(ORDER))]\n",
    "for appliance_num, appliance in enumerate(ORDER):\n",
    "    gt_fold[appliance_num] = test[:, APPLIANCE_ORDER.index(appliance), :, :].reshape(test_aggregate.shape[0], -1,\n",
    "                                                                                         1).reshape(-1, 24)\n",
    "\n",
    "\n",
    "print([x.mean() for x in pred_split])\n",
    "error = pd.Series({appliance:mean_absolute_error(gt_fold[appliance_num], prediction_fold[appliance_num]) for appliance_num, appliance in enumerate(ORDER)})"
   ]
  }
 ],
 "metadata": {
  "kernelspec": {
   "display_name": "Python 3",
   "language": "python",
   "name": "python3"
  },
  "language_info": {
   "codemirror_mode": {
    "name": "ipython",
    "version": 3
   },
   "file_extension": ".py",
   "mimetype": "text/x-python",
   "name": "python",
   "nbconvert_exporter": "python",
   "pygments_lexer": "ipython3",
   "version": "3.6.3"
  }
 },
 "nbformat": 4,
 "nbformat_minor": 2
}
