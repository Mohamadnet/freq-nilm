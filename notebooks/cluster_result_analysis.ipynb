{
 "cells": [
  {
   "cell_type": "code",
   "execution_count": 65,
   "metadata": {
    "collapsed": true
   },
   "outputs": [],
   "source": [
    "import numpy as np\n",
    "import pandas as pd\n",
    "%matplotlib inline"
   ]
  },
  {
   "cell_type": "markdown",
   "metadata": {},
   "source": [
    "# sc without disc"
   ]
  },
  {
   "cell_type": "code",
   "execution_count": 66,
   "metadata": {
    "collapsed": true
   },
   "outputs": [],
   "source": [
    "sc_non_best_param = np.load(\"../code/baseline/result/sc-non-disc-cluster-param.npy\").item()"
   ]
  },
  {
   "cell_type": "code",
   "execution_count": 67,
   "metadata": {},
   "outputs": [
    {
     "data": {
      "text/plain": [
       "{1: {0: 1, 1: 6, 2: 46, 3: 1, 4: 1},\n",
       " 2: {0: 44, 1: 30, 2: 44, 3: 50, 4: 8},\n",
       " 3: {0: 25, 1: 17, 2: 16, 3: 3, 4: 45}}"
      ]
     },
     "execution_count": 67,
     "metadata": {},
     "output_type": "execute_result"
    }
   ],
   "source": [
    "sc_non_best_param"
   ]
  },
  {
   "cell_type": "code",
   "execution_count": 68,
   "metadata": {
    "collapsed": true
   },
   "outputs": [],
   "source": [
    "sc_non_pred = {}\n",
    "sc_non_gt = {}\n",
    "sc_non_error = {}\n",
    "for cluster in [1, 2, 3]:\n",
    "    sc_non_pred[cluster] = {}\n",
    "    sc_non_gt[cluster] = {}\n",
    "    sc_non_error[cluster] = {}\n",
    "    for cur_fold in range(5):\n",
    "        num_latent = sc_non_best_param[cluster][cur_fold]\n",
    "        sc_non_pred[cluster][cur_fold] = np.load(\"../code/baseline/sc-non-nested-cluster/sc-non-test-pred-2-{}-{}-{}.npy\".format(cluster, cur_fold, num_latent))\n",
    "        sc_non_gt[cluster][cur_fold] = np.load(\"../code/baseline/sc-non-nested-cluster/sc-non-test-gt-2-{}-{}-{}.npy\".format(cluster, cur_fold, num_latent))\n",
    "        sc_non_error[cluster][cur_fold] = np.load(\"../code/baseline/sc-non-nested-cluster/sc-non-test-error-2-{}-{}-{}.npy\".format(cluster, cur_fold, num_latent)).item()"
   ]
  },
  {
   "cell_type": "code",
   "execution_count": 69,
   "metadata": {
    "collapsed": true
   },
   "outputs": [],
   "source": [
    "np.save(\"../code/baseline/result/sc-non-disc-cluster-pred.npy\", sc_non_pred)\n",
    "np.save(\"../code/baseline/result/sc-non-disc-cluster-gt.npy\", sc_non_gt)\n",
    "np.save(\"../code/baseline/result/sc-non-disc-cluster-error.npy\", sc_non_error)"
   ]
  },
  {
   "cell_type": "code",
   "execution_count": 108,
   "metadata": {
    "collapsed": true
   },
   "outputs": [],
   "source": [
    "sc_non_cluster_mean = {}\n",
    "for i in [1, 2, 3]:\n",
    "    sc_non_cluster_mean[i] = pd.DataFrame(sc_non_error[i]).mean(axis=1)"
   ]
  },
  {
   "cell_type": "code",
   "execution_count": 109,
   "metadata": {},
   "outputs": [
    {
     "data": {
      "text/plain": [
       "{1: dr         86.943173\n",
       " dw         36.531583\n",
       " fridge    476.695075\n",
       " hvac       88.114592\n",
       " mw         72.330203\n",
       " dtype: float64, 2: dr         90.867957\n",
       " dw         48.012681\n",
       " fridge    269.302979\n",
       " hvac      124.232917\n",
       " mw         88.789936\n",
       " dtype: float64, 3: dr        131.023796\n",
       " dw         83.543403\n",
       " fridge    678.037714\n",
       " hvac       56.324669\n",
       " mw        139.315489\n",
       " dtype: float64}"
      ]
     },
     "execution_count": 109,
     "metadata": {},
     "output_type": "execute_result"
    }
   ],
   "source": [
    "sc_non_cluster_mean"
   ]
  },
  {
   "cell_type": "code",
   "execution_count": 71,
   "metadata": {},
   "outputs": [
    {
     "data": {
      "text/plain": [
       "dr        102.944976\n",
       "dw         56.029223\n",
       "fridge    474.678589\n",
       "hvac       89.557393\n",
       "mw        100.145209\n",
       "dtype: float64"
      ]
     },
     "execution_count": 71,
     "metadata": {},
     "output_type": "execute_result"
    }
   ],
   "source": [
    "pd.DataFrame(sc_non_cluster_mean).mean(axis=1)"
   ]
  },
  {
   "cell_type": "code",
   "execution_count": 72,
   "metadata": {},
   "outputs": [
    {
     "data": {
      "text/plain": [
       "Text(0.5,1,'SC without Discriminative')"
      ]
     },
     "execution_count": 72,
     "metadata": {},
     "output_type": "execute_result"
    },
    {
     "data": {
      "image/png": "[encoded data removed]",
      "text/plain": [
       "<matplotlib.figure.Figure at 0x7f85e40decc0>"
      ]
     },
     "metadata": {},
     "output_type": "display_data"
    }
   ],
   "source": [
    "cluster = 2\n",
    "fold = 0\n",
    "appliance_index = 0\n",
    "day = 50\n",
    "\n",
    "ax = pd.DataFrame(sc_non_pred[cluster][fold][0][appliance_index][day]).plot()\n",
    "pd.DataFrame(sc_non_gt[cluster][fold][0][appliance_index][day]).plot(ax=ax)\n",
    "ax.legend([\"prediction\", \"gt\"])\n",
    "ax.set_title(\"SC without Discriminative\")"
   ]
  },
  {
   "cell_type": "markdown",
   "metadata": {},
   "source": [
    "# disc with discriminative"
   ]
  },
  {
   "cell_type": "code",
   "execution_count": 73,
   "metadata": {
    "collapsed": true
   },
   "outputs": [],
   "source": [
    "sc_with_best_param = np.load(\"../code/baseline/result/sc-with-disc-cluster-param.npy\").item()"
   ]
  },
  {
   "cell_type": "code",
   "execution_count": 74,
   "metadata": {},
   "outputs": [
    {
     "data": {
      "text/plain": [
       "32"
      ]
     },
     "execution_count": 74,
     "metadata": {},
     "output_type": "execute_result"
    }
   ],
   "source": [
    "sc_with_best_param[3][0]['num_latent']"
   ]
  },
  {
   "cell_type": "code",
   "execution_count": 78,
   "metadata": {},
   "outputs": [
    {
     "data": {
      "text/plain": [
       "{'iters': 80, 'num_latent': 32}"
      ]
     },
     "execution_count": 78,
     "metadata": {},
     "output_type": "execute_result"
    }
   ],
   "source": [
    "sc_with_best_param[3][0]"
   ]
  },
  {
   "cell_type": "code",
   "execution_count": 76,
   "metadata": {},
   "outputs": [
    {
     "name": "stdout",
     "output_type": "stream",
     "text": [
      "1 0\n",
      "1 1\n",
      "1 2\n",
      "1 3\n",
      "1 4\n",
      "2 0\n",
      "2 1\n",
      "2 2\n",
      "2 3\n",
      "2 4\n",
      "3 0\n",
      "3 1\n",
      "3 2\n",
      "3 3\n",
      "3 4\n"
     ]
    }
   ],
   "source": [
    "sc_with_pred = {}\n",
    "sc_with_gt = {}\n",
    "sc_with_error = {}\n",
    "for cluster in [1, 2, 3]:\n",
    "    sc_with_pred[cluster] = {}\n",
    "    sc_with_gt[cluster] = {}\n",
    "    sc_with_error[cluster] = {}\n",
    "    for cur_fold in range(5):\n",
    "        print(cluster, cur_fold)\n",
    "        num_latent = sc_with_best_param[cluster][cur_fold]['num_latent']\n",
    "        iters = sc_with_best_param[cluster][cur_fold]['iters']\n",
    "        sc_with_pred[cluster][cur_fold] = np.load(\"../code/baseline/sc-with-nested-cluster/sc-with-test-pred-2-{}-{}-{}-{}.npy\".format(cluster, cur_fold, num_latent, iters))\n",
    "        sc_with_gt[cluster][cur_fold] = np.load(\"../code/baseline/sc-with-nested-cluster/sc-with-test-gt-2-{}-{}-{}-{}.npy\".format(cluster, cur_fold, num_latent, iters))\n",
    "        sc_with_error[cluster][cur_fold] = np.load(\"../code/baseline/sc-with-nested-cluster/sc-with-test-error-2-{}-{}-{}-{}.npy\".format(cluster, cur_fold, num_latent, iters)).item()"
   ]
  },
  {
   "cell_type": "code",
   "execution_count": 110,
   "metadata": {},
   "outputs": [
    {
     "data": {
      "text/plain": [
       "{'dr': 52.169726518938354,\n",
       " 'dw': 1382.670559989291,\n",
       " 'fridge': 96.342792020803671,\n",
       " 'hvac': 1410.3697544907857,\n",
       " 'mw': 8.1859778021316743}"
      ]
     },
     "execution_count": 110,
     "metadata": {},
     "output_type": "execute_result"
    }
   ],
   "source": [
    "sc_with_error[3][0]"
   ]
  },
  {
   "cell_type": "code",
   "execution_count": 80,
   "metadata": {},
   "outputs": [
    {
     "data": {
      "text/plain": [
       "{'iters': 80, 'num_latent': 32}"
      ]
     },
     "execution_count": 80,
     "metadata": {},
     "output_type": "execute_result"
    }
   ],
   "source": [
    "sc_with_best_param[3][0]"
   ]
  },
  {
   "cell_type": "code",
   "execution_count": 81,
   "metadata": {
    "collapsed": true
   },
   "outputs": [],
   "source": [
    "np.save(\"../code/baseline/result/sc-with-disc-cluster-pred.npy\", sc_with_pred)\n",
    "np.save(\"../code/baseline/result/sc-with-disc-cluster-gt.npy\", sc_with_gt)\n",
    "np.save(\"../code/baseline/result/sc-with-disc-cluster-error.npy\", sc_with_error)"
   ]
  },
  {
   "cell_type": "code",
   "execution_count": 82,
   "metadata": {},
   "outputs": [
    {
     "name": "stdout",
     "output_type": "stream",
     "text": [
      "dr         77.069739\n",
      "dw         19.062775\n",
      "fridge    113.104051\n",
      "hvac       44.238231\n",
      "mw         10.568863\n",
      "dtype: float64\n",
      "dr        75.164376\n",
      "dw        20.177581\n",
      "fridge    81.506885\n",
      "hvac      67.749981\n",
      "mw         8.308950\n",
      "dtype: float64\n",
      "dr         96.556678\n",
      "dw        298.408382\n",
      "fridge     91.221208\n",
      "hvac      294.291921\n",
      "mw         22.184366\n",
      "dtype: float64\n"
     ]
    }
   ],
   "source": [
    "sc_with_cluster_mean = {}\n",
    "for i in [1, 2, 3]:\n",
    "    print(pd.DataFrame(sc_with_error[i]).mean(axis=1))\n",
    "    sc_with_cluster_mean[i] = pd.DataFrame(sc_with_error[i]).mean(axis=1)"
   ]
  },
  {
   "cell_type": "code",
   "execution_count": 111,
   "metadata": {},
   "outputs": [
    {
     "data": {
      "text/plain": [
       "dr         82.930264\n",
       "dw        112.549579\n",
       "fridge     95.277382\n",
       "hvac      135.426711\n",
       "mw         13.687393\n",
       "dtype: float64"
      ]
     },
     "execution_count": 111,
     "metadata": {},
     "output_type": "execute_result"
    }
   ],
   "source": [
    "pd.DataFrame(sc_with_cluster_mean).mean(axis=1)"
   ]
  },
  {
   "cell_type": "markdown",
   "metadata": {},
   "source": [
    "# stf"
   ]
  },
  {
   "cell_type": "code",
   "execution_count": 113,
   "metadata": {
    "collapsed": true
   },
   "outputs": [],
   "source": [
    "stf_best_param = np.load(\"../code/baseline/result/stf-cluster-param.npy\").item()"
   ]
  },
  {
   "cell_type": "code",
   "execution_count": 114,
   "metadata": {
    "collapsed": true
   },
   "outputs": [],
   "source": [
    "stf_pred = {}\n",
    "stf_gt = {}\n",
    "stf_error = {}\n",
    "for cluster in [1, 2, 3]:\n",
    "    stf_pred[cluster] = {}\n",
    "    stf_gt[cluster] = {}\n",
    "    stf_error[cluster] = {}\n",
    "    for cur_fold in range(5):\n",
    "        num_latent = stf_best_param[cluster][cur_fold]['num_latent']\n",
    "        iters = stf_best_param[cluster][cur_fold]['iters']\n",
    "        lr = stf_best_param[cluster][cur_fold]['lr']\n",
    "        \n",
    "        stf_pred[cluster][cur_fold] = np.load(\"../code/baseline/stf-cluster/test/stf-test-pred-2-{}-{}-{}-{}-{}.npy\".format(cluster, cur_fold, num_latent, lr, iters))\n",
    "        stf_gt[cluster][cur_fold] = np.load(\"../code/baseline/stf-cluster/test/stf-test-gt-2-{}-{}-{}-{}-{}.npy\".format(cluster, cur_fold, num_latent, lr, iters))\n",
    "        stf_error[cluster][cur_fold] = np.load(\"../code/baseline/stf-cluster/test/stf-test-error-2-{}-{}-{}-{}-{}.npy\".format(cluster, cur_fold, num_latent, lr, iters)).item()"
   ]
  },
  {
   "cell_type": "code",
   "execution_count": 115,
   "metadata": {
    "collapsed": true
   },
   "outputs": [],
   "source": [
    "np.save(\"../code/baseline/result/stf-cluster-pred.npy\", stf_pred)\n",
    "np.save(\"../code/baseline/result/stf-cluster-gt.npy\", stf_gt)\n",
    "np.save(\"../code/baseline/result/stf-cluster-error.npy\", stf_error)"
   ]
  },
  {
   "cell_type": "code",
   "execution_count": 116,
   "metadata": {},
   "outputs": [
    {
     "name": "stdout",
     "output_type": "stream",
     "text": [
      "dr        132.124674\n",
      "dw         35.347212\n",
      "fridge     54.430248\n",
      "hvac      617.556758\n",
      "mw         16.836993\n",
      "dtype: float64\n",
      "dr        113.199733\n",
      "dw         24.888842\n",
      "fridge     44.393105\n",
      "hvac      359.346847\n",
      "mw         12.266412\n",
      "dtype: float64\n",
      "dr        235.194639\n",
      "dw         77.982997\n",
      "fridge     59.890149\n",
      "hvac      760.789225\n",
      "mw         18.852925\n",
      "dtype: float64\n"
     ]
    }
   ],
   "source": [
    "stf_cluster_mean = {}\n",
    "for i in [1, 2, 3]:\n",
    "    print(pd.DataFrame(stf_error[i]).mean(axis=1))\n",
    "    stf_cluster_mean[i] = pd.DataFrame(stf_error[i]).mean(axis=1)"
   ]
  },
  {
   "cell_type": "code",
   "execution_count": 117,
   "metadata": {},
   "outputs": [
    {
     "data": {
      "text/plain": [
       "dr        160.173015\n",
       "dw         46.073017\n",
       "fridge     52.904501\n",
       "hvac      579.230943\n",
       "mw         15.985443\n",
       "dtype: float64"
      ]
     },
     "execution_count": 117,
     "metadata": {},
     "output_type": "execute_result"
    }
   ],
   "source": [
    "pd.DataFrame(stf_cluster_mean).mean(axis=1)"
   ]
  },
  {
   "cell_type": "markdown",
   "metadata": {},
   "source": [
    "# mtf"
   ]
  },
  {
   "cell_type": "code",
   "execution_count": 118,
   "metadata": {
    "collapsed": true
   },
   "outputs": [],
   "source": [
    "mtf_best_param = np.load(\"../code/baseline/result/mtf-cluster-param.npy\").item()"
   ]
  },
  {
   "cell_type": "code",
   "execution_count": 128,
   "metadata": {
    "collapsed": true
   },
   "outputs": [],
   "source": [
    "mtf_pred = {}\n",
    "mtf_gt = {}\n",
    "mtf_error = {}\n",
    "for cluster in [1, 2, 3]:\n",
    "    mtf_pred[cluster] = {}\n",
    "    mtf_gt[cluster] = {}\n",
    "    mtf_error[cluster] = {}\n",
    "    for cur_fold in range(5):\n",
    "        num_latent = mtf_best_param[cluster][cur_fold]['num_latent']\n",
    "        iters = mtf_best_param[cluster][cur_fold]['iters']\n",
    "        lr = mtf_best_param[cluster][cur_fold]['lr']\n",
    "        \n",
    "        mtf_pred[cluster][cur_fold] = np.load(\"../code/baseline/mtf-cluster/test/mtf-test-pred-2-{}-{}-{}-{}-{}.npy\".format(cluster, cur_fold, num_latent, lr, iters))\n",
    "        mtf_gt[cluster][cur_fold] = np.load(\"../code/baseline/mtf-cluster/test/mtf-test-gt-2-{}-{}-{}-{}-{}.npy\".format(cluster, cur_fold, num_latent, lr, iters))\n",
    "        mtf_error[cluster][cur_fold] = np.load(\"../code/baseline/mtf-cluster/test/mtf-test-error-2-{}-{}-{}-{}-{}.npy\".format(cluster, cur_fold, num_latent, lr, iters)).item()"
   ]
  },
  {
   "cell_type": "code",
   "execution_count": 30,
   "metadata": {
    "collapsed": true
   },
   "outputs": [],
   "source": [
    "np.save(\"../code/baseline/result/mtf-cluster-pred.npy\", mtf_pred)\n",
    "np.save(\"../code/baseline/result/mtf-cluster-gt.npy\", mtf_gt)\n",
    "np.save(\"../code/baseline/result/mtf-cluster-error.npy\", mtf_error)"
   ]
  },
  {
   "cell_type": "code",
   "execution_count": 134,
   "metadata": {
    "collapsed": true
   },
   "outputs": [],
   "source": [
    "sc_err_df = pd.DataFrame(sc_non_cluster_mean)\n",
    "dsc_err_df = pd.DataFrame(sc_with_cluster_mean)\n",
    "stf_err_df = pd.DataFrame(stf_cluster_mean)\n",
    "mtf_err_df = pd.DataFrame(mtf_cluster_mean)"
   ]
  },
  {
   "cell_type": "code",
   "execution_count": 157,
   "metadata": {
    "collapsed": true
   },
   "outputs": [],
   "source": [
    "sc_mean_err_df = pd.DataFrame(sc_err_df.mean(), columns=['SC'])\n",
    "dsc_mean_err_df = pd.DataFrame(dsc_err_df.mean(), columns=['DSC'])\n",
    "stf_mean_err_df = pd.DataFrame(stf_err_df.mean(), columns=['STF'])\n",
    "mtf_mean_err_df = pd.DataFrame(mtf_err_df.mean(), columns=['MTF'])"
   ]
  },
  {
   "cell_type": "code",
   "execution_count": 158,
   "metadata": {},
   "outputs": [
    {
     "data": {
      "text/html": [
       "<div>\n",
       "<style scoped>\n",
       "    .dataframe tbody tr th:only-of-type {\n",
       "        vertical-align: middle;\n",
       "    }\n",
       "\n",
       "    .dataframe tbody tr th {\n",
       "        vertical-align: top;\n",
       "    }\n",
       "\n",
       "    .dataframe thead th {\n",
       "        text-align: right;\n",
       "    }\n",
       "</style>\n",
       "<table border=\"1\" class=\"dataframe\">\n",
       "  <thead>\n",
       "    <tr style=\"text-align: right;\">\n",
       "      <th></th>\n",
       "      <th>SC</th>\n",
       "    </tr>\n",
       "  </thead>\n",
       "  <tbody>\n",
       "    <tr>\n",
       "      <th>1</th>\n",
       "      <td>152.122925</td>\n",
       "    </tr>\n",
       "    <tr>\n",
       "      <th>2</th>\n",
       "      <td>124.241294</td>\n",
       "    </tr>\n",
       "    <tr>\n",
       "      <th>3</th>\n",
       "      <td>217.649014</td>\n",
       "    </tr>\n",
       "  </tbody>\n",
       "</table>\n",
       "</div>"
      ],
      "text/plain": [
       "           SC\n",
       "1  152.122925\n",
       "2  124.241294\n",
       "3  217.649014"
      ]
     },
     "execution_count": 158,
     "metadata": {},
     "output_type": "execute_result"
    }
   ],
   "source": [
    "sc_mean_err_df"
   ]
  },
  {
   "cell_type": "code",
   "execution_count": 159,
   "metadata": {
    "collapsed": true
   },
   "outputs": [],
   "source": [
    "mean_error = pd.concat([sc_mean_err_df, dsc_mean_err_df, stf_mean_err_df, mtf_mean_err_df], axis=1)"
   ]
  },
  {
   "cell_type": "code",
   "execution_count": 167,
   "metadata": {},
   "outputs": [
    {
     "data": {
      "text/plain": [
       "<matplotlib.legend.Legend at 0x7f85e31596a0>"
      ]
     },
     "execution_count": 167,
     "metadata": {},
     "output_type": "execute_result"
    },
    {
     "data": {
      "image/png": "[encoded data removed]",
      "text/plain": [
       "<matplotlib.figure.Figure at 0x7f85e33c7f98>"
      ]
     },
     "metadata": {},
     "output_type": "display_data"
    }
   ],
   "source": [
    "ax = pd.DataFrame(mean_error).T.plot(kind='bar')\n",
    "ax.set_ylabel(\"Error\")\n",
    "ax.legend(['cluster1', 'cluster2', 'cluster3'])"
   ]
  },
  {
   "cell_type": "code",
   "execution_count": 192,
   "metadata": {},
   "outputs": [
    {
     "data": {
      "text/plain": [
       "<matplotlib.legend.Legend at 0x7f85e27b4080>"
      ]
     },
     "execution_count": 192,
     "metadata": {},
     "output_type": "execute_result"
    },
    {
     "data": {
      "image/png": "[encoded data removed]",
      "text/plain": [
       "<matplotlib.figure.Figure at 0x7f85e2990b70>"
      ]
     },
     "metadata": {},
     "output_type": "display_data"
    }
   ],
   "source": [
    "\n",
    "fig, axes = plt.subplots(ncols=5, figsize=(15, 3))\n",
    "ax = axes.flatten()\n",
    "count = 0\n",
    "for appliance in ['hvac', 'fridge', 'dr', 'dw', 'mw']:\n",
    "    sc_app = pd.DataFrame(pd.DataFrame(sc_non_cluster_mean).loc[appliance]).rename(columns = {appliance:'SC'})\n",
    "    dsc_app = pd.DataFrame(pd.DataFrame(sc_with_cluster_mean).loc[appliance]).rename(columns = {appliance:'DSC'})\n",
    "    stf_app = pd.DataFrame(pd.DataFrame(stf_cluster_mean).loc[appliance]).rename(columns = {appliance:'STF'})\n",
    "    mtf_app = pd.DataFrame(pd.DataFrame(mtf_cluster_mean).loc[appliance]).rename(columns = {appliance:'MTF'})\n",
    "    mean_error = pd.concat([sc_app, dsc_app, stf_app, mtf_app], axis=1)\n",
    "\n",
    "    pd.DataFrame(mean_error).T.plot(kind='bar', ax=ax[count], legend=False)\n",
    "    ax[count].set_ylim(0, 800)\n",
    "    ax[count].set_title(appliance)\n",
    "    count += 1\n",
    "ax[0].set_ylabel(\"Error\")\n",
    "ax[count-1].legend(['cluster1', 'cluster2', 'cluster3'], bbox_to_anchor=(1.05, 1), loc=2, borderaxespad=0.)\n"
   ]
  },
  {
   "cell_type": "code",
   "execution_count": 31,
   "metadata": {},
   "outputs": [
    {
     "data": {
      "text/plain": [
       "<matplotlib.legend.Legend at 0x7f85e64de4e0>"
      ]
     },
     "execution_count": 31,
     "metadata": {},
     "output_type": "execute_result"
    },
    {
     "data": {
      "image/png": "[encoded data removed]",
      "text/plain": [
       "<matplotlib.figure.Figure at 0x7f85e64dea58>"
      ]
     },
     "metadata": {},
     "output_type": "display_data"
    }
   ],
   "source": [
    "cluster = 2\n",
    "fold = 0\n",
    "home = 0\n",
    "appliance_index = 0\n",
    "day = 0\n",
    "\n",
    "ax = pd.DataFrame(sc_with_pred[cluster][fold][home][appliance_index][day]).plot()\n",
    "pd.DataFrame(sc_with_gt[cluster][fold][home][appliance_index][day]).plot(ax=ax)\n",
    "pd.DataFrame(sc_non_pred[cluster][fold][home][appliance_index][day]).plot(ax=ax)\n",
    "ax.legend([\"DSC\", \"gt\", \"SC\"])\n",
    "# ax.set_title(\"SC with Discriminative\")"
   ]
  },
  {
   "cell_type": "code",
   "execution_count": 32,
   "metadata": {
    "collapsed": true
   },
   "outputs": [],
   "source": [
    "import matplotlib.pyplot as plt"
   ]
  },
  {
   "cell_type": "code",
   "execution_count": 34,
   "metadata": {
    "scrolled": false
   },
   "outputs": [
    {
     "data": {
      "image/png": "[encoded data removed]",
      "text/plain": [
       "<matplotlib.figure.Figure at 0x7f85e43b1390>"
      ]
     },
     "metadata": {},
     "output_type": "display_data"
    }
   ],
   "source": [
    "cluster = 3\n",
    "fold = 2\n",
    "home =1\n",
    "appliance_index = 0\n",
    "day = 0\n",
    "appliance = ['hvac', 'fridge', 'dr', 'dw', 'mw']\n",
    "\n",
    "fig, axes = plt.subplots(ncols=5, figsize=(15, 3))\n",
    "ax = axes.flatten()\n",
    "count = 0\n",
    "for j in range(5):\n",
    "    pd.DataFrame(sc_with_pred[cluster][fold][home][j][day]).plot(ax=ax[count])\n",
    "    pd.DataFrame(sc_with_gt[cluster][fold][home][j][day]).plot(ax=ax[count])\n",
    "    pd.DataFrame(sc_non_pred[cluster][fold][home][j][day]).plot(ax=ax[count])\n",
    "    ax[count].legend([\"DSC\", \"gt\", \"SC\"])\n",
    "    ax[count].set_title(appliance[j])\n",
    "    count += 1"
   ]
  }
 ],
 "metadata": {
  "kernelspec": {
   "display_name": "Python 3",
   "language": "python",
   "name": "python3"
  },
  "language_info": {
   "codemirror_mode": {
    "name": "ipython",
    "version": 2
   },
   "file_extension": ".py",
   "mimetype": "text/x-python",
   "name": "python",
   "nbconvert_exporter": "python",
   "pygments_lexer": "ipython2",
   "version": "2.7.13"
  }
 },
 "nbformat": 4,
 "nbformat_minor": 2
}
