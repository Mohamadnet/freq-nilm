{
 "cells": [
  {
   "cell_type": "code",
   "execution_count": 3,
   "metadata": {
    "collapsed": true
   },
   "outputs": [],
   "source": [
    "import sys\n",
    "import numpy as np\n",
    "import pandas as pd\n",
    "sys.path.append(\"../code/\")"
   ]
  },
  {
   "cell_type": "code",
   "execution_count": 4,
   "metadata": {
    "collapsed": true
   },
   "outputs": [],
   "source": [
    "from dataloader import APPLIANCE_ORDER, get_train_test\n",
    "from ddsc import SparseCoding, reshape_for_sc"
   ]
  },
  {
   "cell_type": "code",
   "execution_count": 5,
   "metadata": {
    "collapsed": true
   },
   "outputs": [],
   "source": [
    "# tensor = np.load('../2015-5appliances-true-agg.npy')\n",
    "ag_tensor = np.load('../2015-5appliances.numpy.npy')\n",
    "true_tensor = np.load(\"../2015-5appliances-true-agg.npy\")\n",
    "from sklearn.metrics import mean_absolute_error\n",
    "\n"
   ]
  },
  {
   "cell_type": "code",
   "execution_count": 10,
   "metadata": {},
   "outputs": [],
   "source": [
    "ag_agg = ag_tensor[:, 0, :, :]\n",
    "true_agg = true_tensor[:, 0, :, :]\n",
    "residual_agg = true_agg - ag_agg"
   ]
  },
  {
   "cell_type": "code",
   "execution_count": 12,
   "metadata": {},
   "outputs": [],
   "source": [
    "residual_agg = residual_agg.reshape(68, -1)"
   ]
  },
  {
   "cell_type": "code",
   "execution_count": 14,
   "metadata": {},
   "outputs": [
    {
     "data": {
      "text/plain": [
       "(68, 2688)"
      ]
     },
     "execution_count": 14,
     "metadata": {},
     "output_type": "execute_result"
    }
   ],
   "source": [
    "residual_agg.shape"
   ]
  },
  {
   "cell_type": "code",
   "execution_count": 15,
   "metadata": {
    "collapsed": true
   },
   "outputs": [],
   "source": [
    "from sklearn.cluster import KMeans"
   ]
  },
  {
   "cell_type": "code",
   "execution_count": 53,
   "metadata": {},
   "outputs": [
    {
     "data": {
      "text/plain": [
       "array([1, 1, 2, 1, 0, 1, 1, 1, 1, 1, 1, 1, 0, 1, 1, 1, 1, 1, 0, 0, 1, 1, 2,\n",
       "       0, 1, 1, 0, 1, 0, 2, 1, 1, 1, 1, 0, 1, 1, 0, 1, 2, 1, 1, 1, 1, 0, 2,\n",
       "       2, 0, 1, 1, 1, 2, 1, 1, 1, 1, 1, 1, 1, 1, 2, 1, 1, 1, 1, 1, 0, 1], dtype=int32)"
      ]
     },
     "execution_count": 53,
     "metadata": {},
     "output_type": "execute_result"
    }
   ],
   "source": [
    "kmeans = KMeans(n_clusters=3, random_state=0).fit(residual_agg)\n",
    "kmeans.labels_"
   ]
  },
  {
   "cell_type": "code",
   "execution_count": 54,
   "metadata": {},
   "outputs": [],
   "source": [
    "cluster = {}\n",
    "for i in range(3):\n",
    "    cluster[i] = [x for x in range(68) if kmeans.labels_[x] == i]"
   ]
  },
  {
   "cell_type": "code",
   "execution_count": 63,
   "metadata": {
    "collapsed": true
   },
   "outputs": [],
   "source": [
    "np.save(\"../2015-5appliances-true-agg-c0.npy\", true_agg[cluster[0]])\n",
    "np.save(\"../2015-5appliances-true-agg-c1.npy\", true_agg[cluster[1]])\n",
    "np.save(\"../2015-5appliances-true-agg-c2.npy\", true_agg[cluster[2]])"
   ]
  },
  {
   "cell_type": "code",
   "execution_count": 56,
   "metadata": {
    "collapsed": true
   },
   "outputs": [],
   "source": [
    "def mean_predictions(tensor):\n",
    "    out = []\n",
    "    for cur_fold in range(5):\n",
    "        train, test = get_train_test_tensor(tensor, num_folds=num_folds, fold_num=cur_fold)\n",
    "        pred = np.zeros_like(test[:, 1:, :, :])\n",
    "        print(pred.shape)\n",
    "        \n",
    "        for appliance in range(test.shape[1]-1):\n",
    "            for day in range(test.shape[2]):\n",
    "                pred[:, appliance, day, :] = train[:, appliance+1, day, :].mean(axis=0)\n",
    "        out.append(pred)\n",
    "    return np.concatenate(out)"
   ]
  },
  {
   "cell_type": "code",
   "execution_count": 58,
   "metadata": {},
   "outputs": [
    {
     "name": "stdout",
     "output_type": "stream",
     "text": [
      "(3, 5, 112, 24)\n",
      "(3, 5, 112, 24)\n",
      "(2, 5, 112, 24)\n",
      "(2, 5, 112, 24)\n",
      "(2, 5, 112, 24)\n",
      "(10, 5, 112, 24)\n",
      "(10, 5, 112, 24)\n",
      "(10, 5, 112, 24)\n",
      "(9, 5, 112, 24)\n",
      "(9, 5, 112, 24)\n",
      "(2, 5, 112, 24)\n",
      "(2, 5, 112, 24)\n",
      "(2, 5, 112, 24)\n",
      "(1, 5, 112, 24)\n",
      "(1, 5, 112, 24)\n"
     ]
    }
   ],
   "source": [
    "from sklearn.model_selection import KFold\n",
    "error_mean = {}\n",
    "num_folds = 5\n",
    "for i in range(3):\n",
    "    error_mean[i] = {}\n",
    "    gt = true_tensor[cluster[i], 1:, :, :]\n",
    "    pred = mean_predictions(true_tensor[cluster[i]])\n",
    "    pred = np.minimum(pred, true_tensor[cluster[i], 0:1, :,:])\n",
    "\n",
    "    error_mean[i] = {APPLIANCE_ORDER[i+1]:mean_absolute_error(pred[:, i,:,:].flatten(), \n",
    "                                                                       gt[:, i, :, :].flatten()) for i in range(pred.shape[1])}"
   ]
  },
  {
   "cell_type": "code",
   "execution_count": 62,
   "metadata": {},
   "outputs": [
    {
     "data": {
      "text/plain": [
       "dr        138.987168\n",
       "dw         35.703705\n",
       "fridge     31.557518\n",
       "hvac      591.487861\n",
       "mw         16.035679\n",
       "dtype: float64"
      ]
     },
     "execution_count": 62,
     "metadata": {},
     "output_type": "execute_result"
    }
   ],
   "source": [
    "pd.DataFrame(error_mean).mean(axis=1)"
   ]
  },
  {
   "cell_type": "code",
   "execution_count": null,
   "metadata": {
    "collapsed": true
   },
   "outputs": [],
   "source": [
    "dataset = 2\n",
    "err_mean ={}\n",
    "gt = tensor[:, 1:, :, :]\n",
    "pred = mean_predictions(dataset)\n",
    "# Clamping prediction to aggregate\n",
    "pred = np.minimum(pred, tensor[:, 0:1, :,:])\n",
    "err_mean = {APPLIANCE_ORDER[i+1]:mean_absolute_error(pred[:, i,:,:].flatten(), \n",
    "                                                                       gt[:, i, :, :].flatten()) for i in range(pred.shape[1])}"
   ]
  }
 ],
 "metadata": {
  "kernelspec": {
   "display_name": "Python 3",
   "language": "python",
   "name": "python3"
  },
  "language_info": {
   "codemirror_mode": {
    "name": "ipython",
    "version": 3
   },
   "file_extension": ".py",
   "mimetype": "text/x-python",
   "name": "python",
   "nbconvert_exporter": "python",
   "pygments_lexer": "ipython3",
   "version": "3.6.3"
  }
 },
 "nbformat": 4,
 "nbformat_minor": 2
}
