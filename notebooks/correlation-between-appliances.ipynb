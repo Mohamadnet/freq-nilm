{
 "cells": [
  {
   "cell_type": "code",
   "execution_count": 1,
   "metadata": {
    "collapsed": true
   },
   "outputs": [],
   "source": [
    "import sys\n",
    "sys.path.append(\"../code/\")\n",
    "from common import APPLIANCES_ORDER\n",
    "\n",
    "\n"
   ]
  },
  {
   "cell_type": "code",
   "execution_count": 2,
   "metadata": {
    "collapsed": true
   },
   "outputs": [],
   "source": [
    "import numpy as np\n",
    "\n",
    "import pandas as pd\n",
    "import matplotlib.pyplot as plt\n",
    "%matplotlib inline"
   ]
  },
  {
   "cell_type": "code",
   "execution_count": 3,
   "metadata": {
    "collapsed": true
   },
   "outputs": [],
   "source": [
    "tensor = np.load('../1H-input.npy')"
   ]
  },
  {
   "cell_type": "code",
   "execution_count": 4,
   "metadata": {
    "collapsed": true
   },
   "outputs": [],
   "source": [
    "def create_subset_dataset(tensor):\n",
    "    t_subset = tensor[:, :, 180:194, :]\n",
    "    all_indices = np.array(list(range(320)))\n",
    "    for i in range(1, 7):\n",
    "        valid_homes = pd.DataFrame(t_subset[:, i, :].reshape(320, 14*24)).dropna().index\n",
    "        all_indices = np.intersect1d(all_indices, valid_homes)\n",
    "    t_subset = t_subset[all_indices, :, :, :].reshape(52, 7, 14*24)\n",
    "    \n",
    "    # Create artificial aggregate\n",
    "    t_subset[:, 0, :] = 0.0\n",
    "    for i in range(1, 7):\n",
    "        t_subset[:, 0, :] = t_subset[:, 0, :] + t_subset[:, i, :]\n",
    "    # t_subset is of shape (#home, appliance, days*hours)\n",
    "    return t_subset, all_indices"
   ]
  },
  {
   "cell_type": "code",
   "execution_count": 5,
   "metadata": {},
   "outputs": [
    {
     "data": {
      "text/plain": [
       "(52, 7, 336)"
      ]
     },
     "execution_count": 5,
     "metadata": {},
     "output_type": "execute_result"
    }
   ],
   "source": [
    "t_all, valid_homes = create_subset_dataset(tensor)\n",
    "t_all.shape"
   ]
  },
  {
   "cell_type": "code",
   "execution_count": 6,
   "metadata": {},
   "outputs": [
    {
     "data": {
      "text/plain": [
       "(52, 7, 336)"
      ]
     },
     "execution_count": 6,
     "metadata": {},
     "output_type": "execute_result"
    }
   ],
   "source": [
    "t_all.shape"
   ]
  },
  {
   "cell_type": "code",
   "execution_count": 7,
   "metadata": {
    "collapsed": true
   },
   "outputs": [],
   "source": [
    "def my_objective(y_pred, y_true):\n",
    "    with tf.name_scope(None):\n",
    "        return tf.losses.absolute_difference(y_pred, y_true)"
   ]
  },
  {
   "cell_type": "code",
   "execution_count": 8,
   "metadata": {},
   "outputs": [
    {
     "name": "stderr",
     "output_type": "stream",
     "text": [
      "Using TensorFlow backend.\n",
      "/Users/nipun/anaconda3/lib/python3.6/importlib/_bootstrap.py:219: RuntimeWarning: compiletime version 3.5 of module 'tensorflow.python.framework.fast_tensor_util' does not match runtime version 3.6\n",
      "  return f(*args, **kwds)\n"
     ]
    }
   ],
   "source": [
    "from random import randint\n",
    "from numpy import array\n",
    "from numpy import argmax\n",
    "from numpy import array_equal\n",
    "from keras.models import Sequential\n",
    "from keras.layers import LSTM\n",
    "from keras.layers import Dense\n",
    "from keras.layers import TimeDistributed\n",
    "from keras.layers import RepeatVector\n",
    "import keras\n",
    "from IPython.display import SVG\n",
    "from keras.utils.vis_utils import model_to_dot\n",
    "n_movies = 3\n",
    "n_users=3\n",
    "n_latent_factors=2"
   ]
  },
  {
   "cell_type": "code",
   "execution_count": 9,
   "metadata": {},
   "outputs": [
    {
     "data": {
      "text/plain": [
       "['aggregate', 'hvac', 'fridge', 'mw', 'dw', 'wm', 'oven']"
      ]
     },
     "execution_count": 9,
     "metadata": {},
     "output_type": "execute_result"
    }
   ],
   "source": [
    "APPLIANCES_ORDER"
   ]
  },
  {
   "cell_type": "code",
   "execution_count": 10,
   "metadata": {
    "collapsed": true
   },
   "outputs": [],
   "source": [
    "train_agg = t_all[:30, 0, :].reshape(30*14, 24)\n",
    "train_appliance = {}\n",
    "test_appliance = {}\n",
    "for appliance_num, appliance in enumerate(APPLIANCES_ORDER[1:]):\n",
    "    train_appliance[appliance] = t_all[:30, appliance_num+1, :].reshape(30*14, 24)\n",
    "    test_appliance[appliance] = t_all[30:, appliance_num+1, :].reshape(22*14, 24)\n",
    "\n",
    "\n",
    "\n",
    "\n",
    "\n",
    "\n",
    "test_hvac = t_all[30:, 1, :].reshape(22*14, 24)\n",
    "test_fridge = t_all[30:, 2, :].reshape(22*14, 24)\n",
    "\n",
    "test_mw = t_all[30:, 3, :].reshape(22*14, 24)\n",
    "\n",
    "\n",
    "\n",
    "test_agg = t_all[30:, 0, :].reshape(22*14, 24)"
   ]
  },
  {
   "cell_type": "code",
   "execution_count": null,
   "metadata": {
    "collapsed": true
   },
   "outputs": [],
   "source": []
  },
  {
   "cell_type": "code",
   "execution_count": 30,
   "metadata": {},
   "outputs": [
    {
     "data": {
      "text/plain": [
       "<matplotlib.axes._subplots.AxesSubplot at 0x1a2d394cf8>"
      ]
     },
     "execution_count": 30,
     "metadata": {},
     "output_type": "execute_result"
    },
    {
     "data": {
      "image/png": "[encoded data removed]",
      "text/plain": [
       "<matplotlib.figure.Figure at 0x1a2d4a37b8>"
      ]
     },
     "metadata": {},
     "output_type": "display_data"
    }
   ],
   "source": [
    "pd.DataFrame(train_appliance['oven']).T.plot(legend=False, color='k',alpha=0.2)"
   ]
  },
  {
   "cell_type": "code",
   "execution_count": 19,
   "metadata": {},
   "outputs": [
    {
     "data": {
      "text/plain": [
       "0    -0.126893\n",
       "1    -0.112627\n",
       "2    -0.111376\n",
       "3    -0.048266\n",
       "4     0.007701\n",
       "5    -0.018865\n",
       "6     0.072901\n",
       "7     0.031823\n",
       "8     0.096118\n",
       "9     0.098100\n",
       "10    0.002096\n",
       "11   -0.000474\n",
       "12    0.053790\n",
       "13    0.151189\n",
       "14   -0.003528\n",
       "15   -0.011850\n",
       "16    0.005128\n",
       "17   -0.016421\n",
       "18    0.040137\n",
       "19   -0.033456\n",
       "20    0.191945\n",
       "21   -0.062418\n",
       "22   -0.072402\n",
       "23   -0.108893\n",
       "dtype: float64"
      ]
     },
     "execution_count": 19,
     "metadata": {},
     "output_type": "execute_result"
    }
   ],
   "source": [
    "pd.DataFrame(train_appliance['mw']).corrwith(pd.DataFrame(train_appliance['oven']))"
   ]
  },
  {
   "cell_type": "code",
   "execution_count": 30,
   "metadata": {
    "collapsed": true
   },
   "outputs": [],
   "source": [
    "train_hvac_fridge = np.hstack([train_hvac, train_fridge])\n",
    "test_hvac_fridge = np.hstack([test_hvac, test_fridge])"
   ]
  },
  {
   "cell_type": "code",
   "execution_count": 36,
   "metadata": {},
   "outputs": [
    {
     "name": "stdout",
     "output_type": "stream",
     "text": [
      "hvac\n",
      "********************\n",
      "Train on 378 samples, validate on 42 samples\n",
      "Epoch 1/300\n",
      "378/378 [==============================] - 0s 1ms/step - loss: 661.6838 - val_loss: 666.3338\n",
      "Epoch 2/300\n",
      "378/378 [==============================] - 0s 50us/step - loss: 591.9552 - val_loss: 590.7587\n",
      "Epoch 3/300\n",
      "378/378 [==============================] - 0s 51us/step - loss: 520.2719 - val_loss: 519.7037\n",
      "Epoch 4/300\n",
      "378/378 [==============================] - 0s 51us/step - loss: 454.8880 - val_loss: 450.5059\n",
      "Epoch 5/300\n",
      "378/378 [==============================] - 0s 52us/step - loss: 389.6605 - val_loss: 381.3647\n",
      "Epoch 6/300\n",
      "378/378 [==============================] - 0s 51us/step - loss: 340.8408 - val_loss: 325.7024\n",
      "Epoch 7/300\n",
      "378/378 [==============================] - 0s 54us/step - loss: 311.5913 - val_loss: 279.7422\n",
      "Epoch 8/300\n",
      "378/378 [==============================] - 0s 54us/step - loss: 274.5177 - val_loss: 252.5243\n",
      "Epoch 9/300\n",
      "378/378 [==============================] - 0s 58us/step - loss: 253.1699 - val_loss: 236.5009\n",
      "Epoch 10/300\n",
      "378/378 [==============================] - 0s 57us/step - loss: 232.3254 - val_loss: 210.2190\n",
      "Epoch 11/300\n",
      "378/378 [==============================] - 0s 54us/step - loss: 207.1601 - val_loss: 188.7835\n",
      "Epoch 12/300\n",
      "378/378 [==============================] - 0s 57us/step - loss: 187.0578 - val_loss: 175.4448\n",
      "Epoch 13/300\n",
      "378/378 [==============================] - 0s 49us/step - loss: 168.8666 - val_loss: 153.2943\n",
      "Epoch 14/300\n",
      "378/378 [==============================] - 0s 48us/step - loss: 154.0500 - val_loss: 143.2210\n",
      "Epoch 15/300\n",
      "378/378 [==============================] - 0s 47us/step - loss: 149.7838 - val_loss: 140.8269\n",
      "Epoch 16/300\n",
      "378/378 [==============================] - 0s 49us/step - loss: 144.6259 - val_loss: 140.9123\n",
      "Epoch 17/300\n",
      "378/378 [==============================] - 0s 46us/step - loss: 140.8270 - val_loss: 140.7998\n",
      "Epoch 18/300\n",
      "378/378 [==============================] - 0s 50us/step - loss: 137.7452 - val_loss: 140.7386\n",
      "Epoch 19/300\n",
      "378/378 [==============================] - 0s 49us/step - loss: 136.3308 - val_loss: 140.8164\n",
      "Epoch 20/300\n",
      "378/378 [==============================] - 0s 49us/step - loss: 135.6806 - val_loss: 140.8029\n",
      "Epoch 21/300\n",
      "378/378 [==============================] - 0s 49us/step - loss: 132.6984 - val_loss: 140.8296\n",
      "Epoch 22/300\n",
      "378/378 [==============================] - 0s 50us/step - loss: 132.9278 - val_loss: 140.8399\n",
      "Epoch 23/300\n",
      "378/378 [==============================] - 0s 53us/step - loss: 131.2327 - val_loss: 140.7992\n",
      "Epoch 24/300\n",
      "378/378 [==============================] - 0s 58us/step - loss: 133.2514 - val_loss: 140.7231\n",
      "Epoch 25/300\n",
      "378/378 [==============================] - 0s 66us/step - loss: 130.9194 - val_loss: 140.6565\n",
      "Epoch 26/300\n",
      "378/378 [==============================] - 0s 58us/step - loss: 132.8930 - val_loss: 140.6072\n",
      "Epoch 27/300\n",
      "378/378 [==============================] - 0s 59us/step - loss: 132.2502 - val_loss: 140.5252\n",
      "Epoch 28/300\n",
      "378/378 [==============================] - 0s 55us/step - loss: 131.3921 - val_loss: 140.4510\n",
      "Epoch 29/300\n",
      "378/378 [==============================] - 0s 54us/step - loss: 132.5399 - val_loss: 140.3843\n",
      "Epoch 30/300\n",
      "378/378 [==============================] - 0s 52us/step - loss: 131.8676 - val_loss: 140.3483\n",
      "Epoch 31/300\n",
      "378/378 [==============================] - 0s 55us/step - loss: 130.4077 - val_loss: 140.3679\n",
      "Epoch 32/300\n",
      "378/378 [==============================] - 0s 53us/step - loss: 128.8600 - val_loss: 140.3384\n",
      "Epoch 33/300\n",
      "378/378 [==============================] - 0s 54us/step - loss: 129.8561 - val_loss: 140.3007\n",
      "Epoch 34/300\n",
      "378/378 [==============================] - 0s 49us/step - loss: 130.3328 - val_loss: 140.2832\n",
      "Epoch 35/300\n",
      "378/378 [==============================] - 0s 50us/step - loss: 129.4058 - val_loss: 140.2677\n",
      "Epoch 36/300\n",
      "378/378 [==============================] - 0s 57us/step - loss: 129.7686 - val_loss: 140.2344\n",
      "Epoch 37/300\n",
      "378/378 [==============================] - 0s 53us/step - loss: 129.9283 - val_loss: 140.1951\n",
      "Epoch 38/300\n",
      "378/378 [==============================] - 0s 47us/step - loss: 130.4127 - val_loss: 140.1553\n",
      "Epoch 39/300\n",
      "378/378 [==============================] - 0s 53us/step - loss: 130.7554 - val_loss: 140.0806\n",
      "Epoch 40/300\n",
      "378/378 [==============================] - 0s 49us/step - loss: 128.8196 - val_loss: 140.0237\n",
      "Epoch 41/300\n",
      "378/378 [==============================] - 0s 50us/step - loss: 129.5811 - val_loss: 139.9884\n",
      "Epoch 42/300\n",
      "378/378 [==============================] - 0s 46us/step - loss: 130.1186 - val_loss: 139.9583\n",
      "Epoch 43/300\n",
      "378/378 [==============================] - 0s 45us/step - loss: 129.1605 - val_loss: 139.9353\n",
      "Epoch 44/300\n",
      "378/378 [==============================] - 0s 50us/step - loss: 130.1548 - val_loss: 139.8980\n",
      "Epoch 45/300\n",
      "378/378 [==============================] - 0s 48us/step - loss: 129.2811 - val_loss: 139.8567\n",
      "Epoch 46/300\n",
      "378/378 [==============================] - 0s 48us/step - loss: 127.4658 - val_loss: 139.8432\n",
      "Epoch 47/300\n",
      "378/378 [==============================] - 0s 50us/step - loss: 128.1523 - val_loss: 139.8436\n",
      "Epoch 48/300\n",
      "378/378 [==============================] - 0s 49us/step - loss: 129.4098 - val_loss: 139.8265\n",
      "Epoch 49/300\n",
      "378/378 [==============================] - 0s 48us/step - loss: 128.7498 - val_loss: 139.8231\n",
      "Epoch 50/300\n",
      "378/378 [==============================] - 0s 52us/step - loss: 128.5832 - val_loss: 139.8303\n",
      "Epoch 51/300\n",
      "378/378 [==============================] - 0s 56us/step - loss: 128.9945 - val_loss: 139.8297\n",
      "Epoch 52/300\n",
      "378/378 [==============================] - 0s 50us/step - loss: 128.0357 - val_loss: 139.8175\n",
      "Epoch 53/300\n",
      "378/378 [==============================] - 0s 52us/step - loss: 128.6308 - val_loss: 139.8136\n",
      "Epoch 54/300\n",
      "378/378 [==============================] - 0s 46us/step - loss: 127.6388 - val_loss: 139.8051\n",
      "Epoch 55/300\n",
      "378/378 [==============================] - 0s 51us/step - loss: 128.5852 - val_loss: 139.7966\n",
      "Epoch 56/300\n",
      "378/378 [==============================] - 0s 49us/step - loss: 128.1530 - val_loss: 139.7799\n",
      "Epoch 57/300\n",
      "378/378 [==============================] - 0s 55us/step - loss: 128.1829 - val_loss: 139.7685\n",
      "Epoch 58/300\n",
      "378/378 [==============================] - 0s 52us/step - loss: 129.1592 - val_loss: 139.7616\n",
      "Epoch 59/300\n",
      "378/378 [==============================] - 0s 52us/step - loss: 128.4734 - val_loss: 139.7570\n",
      "Epoch 60/300\n",
      "378/378 [==============================] - 0s 55us/step - loss: 128.7630 - val_loss: 139.7386\n",
      "Epoch 61/300\n",
      "378/378 [==============================] - 0s 52us/step - loss: 128.2538 - val_loss: 139.7154\n",
      "Epoch 62/300\n",
      "378/378 [==============================] - 0s 58us/step - loss: 128.9239 - val_loss: 139.6755\n",
      "Epoch 63/300\n",
      "378/378 [==============================] - 0s 54us/step - loss: 129.1183 - val_loss: 139.6510\n",
      "Epoch 64/300\n",
      "378/378 [==============================] - 0s 68us/step - loss: 127.5278 - val_loss: 139.6411\n",
      "Epoch 65/300\n",
      "378/378 [==============================] - 0s 56us/step - loss: 128.2425 - val_loss: 139.6339\n",
      "Epoch 66/300\n",
      "378/378 [==============================] - 0s 55us/step - loss: 128.1037 - val_loss: 139.6214\n",
      "Epoch 67/300\n",
      "378/378 [==============================] - 0s 50us/step - loss: 128.6005 - val_loss: 139.6240\n",
      "Epoch 68/300\n",
      "378/378 [==============================] - 0s 53us/step - loss: 128.0964 - val_loss: 139.6214\n",
      "Epoch 69/300\n",
      "378/378 [==============================] - 0s 55us/step - loss: 127.7643 - val_loss: 139.6276\n",
      "Epoch 70/300\n",
      "378/378 [==============================] - 0s 52us/step - loss: 127.8480 - val_loss: 139.6171\n",
      "Epoch 71/300\n",
      "378/378 [==============================] - 0s 50us/step - loss: 128.3643 - val_loss: 139.6091\n",
      "Epoch 72/300\n",
      "378/378 [==============================] - 0s 52us/step - loss: 127.9342 - val_loss: 139.5944\n",
      "Epoch 73/300\n",
      "378/378 [==============================] - 0s 56us/step - loss: 128.0625 - val_loss: 139.5816\n",
      "Epoch 74/300\n",
      "378/378 [==============================] - 0s 54us/step - loss: 128.5663 - val_loss: 139.5677\n",
      "Epoch 75/300\n",
      "378/378 [==============================] - 0s 52us/step - loss: 128.5791 - val_loss: 139.5594\n",
      "Epoch 76/300\n",
      "378/378 [==============================] - 0s 55us/step - loss: 127.5213 - val_loss: 139.5536\n"
     ]
    },
    {
     "name": "stdout",
     "output_type": "stream",
     "text": [
      "Epoch 77/300\n",
      "378/378 [==============================] - 0s 56us/step - loss: 127.6365 - val_loss: 139.5523\n",
      "Epoch 78/300\n",
      "378/378 [==============================] - 0s 50us/step - loss: 127.8330 - val_loss: 139.5443\n",
      "Epoch 79/300\n",
      "378/378 [==============================] - ETA: 0s - loss: 129.608 - 0s 58us/step - loss: 128.1786 - val_loss: 139.5379\n",
      "Epoch 80/300\n",
      "378/378 [==============================] - 0s 50us/step - loss: 128.0439 - val_loss: 139.5374\n",
      "Epoch 81/300\n",
      "378/378 [==============================] - 0s 52us/step - loss: 127.8161 - val_loss: 139.5313\n",
      "Epoch 82/300\n",
      "378/378 [==============================] - 0s 46us/step - loss: 127.6848 - val_loss: 139.5253\n",
      "Epoch 83/300\n",
      "378/378 [==============================] - 0s 52us/step - loss: 127.7055 - val_loss: 139.5151\n",
      "Epoch 84/300\n",
      "378/378 [==============================] - 0s 56us/step - loss: 127.8220 - val_loss: 139.4930\n",
      "Epoch 85/300\n",
      "378/378 [==============================] - 0s 56us/step - loss: 127.5482 - val_loss: 139.4731\n",
      "Epoch 86/300\n",
      "378/378 [==============================] - 0s 51us/step - loss: 127.9319 - val_loss: 139.4631\n",
      "Epoch 87/300\n",
      "378/378 [==============================] - 0s 50us/step - loss: 127.4570 - val_loss: 139.4517\n",
      "Epoch 88/300\n",
      "378/378 [==============================] - 0s 56us/step - loss: 127.6264 - val_loss: 139.4422\n",
      "Epoch 89/300\n",
      "378/378 [==============================] - 0s 52us/step - loss: 128.1408 - val_loss: 139.4115\n",
      "Epoch 90/300\n",
      "378/378 [==============================] - 0s 55us/step - loss: 127.8888 - val_loss: 139.3842\n",
      "Epoch 91/300\n",
      "378/378 [==============================] - 0s 51us/step - loss: 128.1916 - val_loss: 139.3669\n",
      "Epoch 92/300\n",
      "378/378 [==============================] - ETA: 0s - loss: 126.043 - 0s 49us/step - loss: 127.5925 - val_loss: 139.3628\n",
      "Epoch 93/300\n",
      "378/378 [==============================] - 0s 50us/step - loss: 127.7130 - val_loss: 139.3738\n",
      "Epoch 94/300\n",
      "378/378 [==============================] - 0s 51us/step - loss: 127.6288 - val_loss: 139.3762\n",
      "Epoch 95/300\n",
      "378/378 [==============================] - 0s 56us/step - loss: 128.2678 - val_loss: 139.3621\n",
      "Epoch 96/300\n",
      "378/378 [==============================] - 0s 56us/step - loss: 127.9262 - val_loss: 139.3534\n",
      "Epoch 97/300\n",
      "378/378 [==============================] - 0s 51us/step - loss: 127.6810 - val_loss: 139.3428\n",
      "Epoch 98/300\n",
      "378/378 [==============================] - 0s 54us/step - loss: 127.4808 - val_loss: 139.3260\n",
      "Epoch 99/300\n",
      "378/378 [==============================] - 0s 57us/step - loss: 127.6759 - val_loss: 139.3097\n",
      "Epoch 100/300\n",
      "378/378 [==============================] - 0s 52us/step - loss: 127.3561 - val_loss: 139.3139\n",
      "Epoch 101/300\n",
      "378/378 [==============================] - 0s 51us/step - loss: 128.0823 - val_loss: 139.3232\n",
      "Epoch 102/300\n",
      "378/378 [==============================] - 0s 50us/step - loss: 127.6143 - val_loss: 139.3412\n",
      "Epoch 103/300\n",
      "378/378 [==============================] - 0s 46us/step - loss: 127.8013 - val_loss: 139.3657\n",
      "Epoch 104/300\n",
      "378/378 [==============================] - 0s 49us/step - loss: 127.4023 - val_loss: 139.3657\n",
      "Epoch 105/300\n",
      "378/378 [==============================] - 0s 47us/step - loss: 127.8639 - val_loss: 139.3657\n",
      "Epoch 106/300\n",
      "378/378 [==============================] - 0s 54us/step - loss: 127.5771 - val_loss: 139.3657\n",
      "Epoch 107/300\n",
      "378/378 [==============================] - 0s 65us/step - loss: 127.6990 - val_loss: 139.3657\n",
      "Epoch 108/300\n",
      "378/378 [==============================] - 0s 78us/step - loss: 127.9906 - val_loss: 139.3657\n",
      "Epoch 109/300\n",
      "378/378 [==============================] - 0s 50us/step - loss: 127.7648 - val_loss: 139.3657\n",
      "Epoch 110/300\n",
      "378/378 [==============================] - 0s 55us/step - loss: 127.6065 - val_loss: 139.3657\n",
      "Epoch 111/300\n",
      "378/378 [==============================] - 0s 88us/step - loss: 127.3161 - val_loss: 139.3657\n",
      "Epoch 112/300\n",
      "378/378 [==============================] - 0s 85us/step - loss: 127.4637 - val_loss: 139.3657\n",
      "Epoch 113/300\n",
      "378/378 [==============================] - 0s 70us/step - loss: 127.5148 - val_loss: 139.3657\n",
      "Epoch 114/300\n",
      "378/378 [==============================] - 0s 77us/step - loss: 128.2400 - val_loss: 139.3657\n",
      "Epoch 115/300\n",
      "378/378 [==============================] - 0s 71us/step - loss: 127.6829 - val_loss: 139.3657\n",
      "Epoch 116/300\n",
      "378/378 [==============================] - 0s 73us/step - loss: 127.9204 - val_loss: 139.3657\n",
      "Epoch 117/300\n",
      "378/378 [==============================] - 0s 56us/step - loss: 127.5591 - val_loss: 139.3657\n",
      "Epoch 118/300\n",
      "378/378 [==============================] - 0s 85us/step - loss: 127.8480 - val_loss: 139.3657\n",
      "Epoch 119/300\n",
      "378/378 [==============================] - ETA: 0s - loss: 116.620 - 0s 60us/step - loss: 127.4917 - val_loss: 139.3657\n",
      "Epoch 120/300\n",
      "378/378 [==============================] - 0s 63us/step - loss: 127.5772 - val_loss: 139.3657\n",
      "Epoch 121/300\n",
      "378/378 [==============================] - 0s 74us/step - loss: 127.9660 - val_loss: 139.3657\n",
      "Epoch 122/300\n",
      "378/378 [==============================] - 0s 71us/step - loss: 127.8665 - val_loss: 139.3657\n",
      "Epoch 123/300\n",
      "378/378 [==============================] - 0s 64us/step - loss: 127.5150 - val_loss: 139.3657\n",
      "Epoch 124/300\n",
      "378/378 [==============================] - 0s 77us/step - loss: 127.5936 - val_loss: 139.3657\n",
      "Epoch 125/300\n",
      "378/378 [==============================] - 0s 74us/step - loss: 128.1108 - val_loss: 139.3657\n",
      "Epoch 126/300\n",
      "378/378 [==============================] - 0s 75us/step - loss: 127.7965 - val_loss: 139.3657\n",
      "Epoch 127/300\n",
      "378/378 [==============================] - 0s 85us/step - loss: 127.5257 - val_loss: 139.3657\n",
      "Epoch 128/300\n",
      "378/378 [==============================] - 0s 81us/step - loss: 127.5335 - val_loss: 139.3657\n",
      "Epoch 129/300\n",
      "378/378 [==============================] - 0s 57us/step - loss: 127.4638 - val_loss: 139.3657\n",
      "Epoch 130/300\n",
      "378/378 [==============================] - 0s 60us/step - loss: 127.8345 - val_loss: 139.3657\n",
      "Epoch 131/300\n",
      "378/378 [==============================] - 0s 65us/step - loss: 127.3438 - val_loss: 139.3657\n",
      "Epoch 132/300\n",
      "378/378 [==============================] - 0s 63us/step - loss: 127.8509 - val_loss: 139.3657\n",
      "Epoch 133/300\n",
      "378/378 [==============================] - 0s 60us/step - loss: 127.4404 - val_loss: 139.3657\n",
      "Epoch 134/300\n",
      "378/378 [==============================] - 0s 76us/step - loss: 127.9176 - val_loss: 139.3657\n",
      "Epoch 135/300\n",
      "378/378 [==============================] - 0s 65us/step - loss: 127.6411 - val_loss: 139.3657\n",
      "Epoch 136/300\n",
      "378/378 [==============================] - 0s 54us/step - loss: 127.4574 - val_loss: 139.3657\n",
      "Epoch 137/300\n",
      "378/378 [==============================] - 0s 57us/step - loss: 127.7479 - val_loss: 139.3657\n",
      "Epoch 138/300\n",
      "378/378 [==============================] - 0s 54us/step - loss: 127.7012 - val_loss: 139.3657\n",
      "Epoch 139/300\n",
      "378/378 [==============================] - 0s 56us/step - loss: 128.1346 - val_loss: 139.3657\n",
      "Epoch 140/300\n",
      "378/378 [==============================] - 0s 143us/step - loss: 127.2635 - val_loss: 139.3657\n",
      "Epoch 141/300\n",
      "378/378 [==============================] - 0s 102us/step - loss: 127.7890 - val_loss: 139.3657\n",
      "Epoch 142/300\n",
      " 32/378 [=>............................] - ETA: 0s - loss: 109.4108"
     ]
    },
    {
     "ename": "KeyboardInterrupt",
     "evalue": "",
     "output_type": "error",
     "traceback": [
      "\u001b[0;31m---------------------------------------------------------------------------\u001b[0m",
      "\u001b[0;31mKeyboardInterrupt\u001b[0m                         Traceback (most recent call last)",
      "\u001b[0;32m<ipython-input-36-212e8d604e26>\u001b[0m in \u001b[0;36m<module>\u001b[0;34m()\u001b[0m\n\u001b[1;32m     19\u001b[0m     \u001b[0mmodel\u001b[0m \u001b[0;34m=\u001b[0m \u001b[0mkeras\u001b[0m\u001b[0;34m.\u001b[0m\u001b[0mModel\u001b[0m\u001b[0;34m(\u001b[0m\u001b[0magg_input\u001b[0m\u001b[0;34m,\u001b[0m \u001b[0mout\u001b[0m\u001b[0;34m)\u001b[0m\u001b[0;34m\u001b[0m\u001b[0m\n\u001b[1;32m     20\u001b[0m     \u001b[0mmodel\u001b[0m\u001b[0;34m.\u001b[0m\u001b[0mcompile\u001b[0m\u001b[0;34m(\u001b[0m\u001b[0;34m'adam'\u001b[0m\u001b[0;34m,\u001b[0m\u001b[0;34m'mean_absolute_error'\u001b[0m\u001b[0;34m)\u001b[0m\u001b[0;34m\u001b[0m\u001b[0m\n\u001b[0;32m---> 21\u001b[0;31m     \u001b[0mmodel\u001b[0m\u001b[0;34m.\u001b[0m\u001b[0mfit\u001b[0m\u001b[0;34m(\u001b[0m\u001b[0mtrain_agg\u001b[0m\u001b[0;34m,\u001b[0m \u001b[0mtrain_appliance\u001b[0m\u001b[0;34m[\u001b[0m\u001b[0mappliance\u001b[0m\u001b[0;34m]\u001b[0m\u001b[0;34m,\u001b[0m \u001b[0mepochs\u001b[0m\u001b[0;34m=\u001b[0m\u001b[0;36m300\u001b[0m\u001b[0;34m,\u001b[0m \u001b[0mvalidation_split\u001b[0m\u001b[0;34m=\u001b[0m\u001b[0;36m0.1\u001b[0m\u001b[0;34m)\u001b[0m\u001b[0;34m\u001b[0m\u001b[0m\n\u001b[0m\u001b[1;32m     22\u001b[0m     \u001b[0mpred_appliance\u001b[0m\u001b[0;34m[\u001b[0m\u001b[0mappliance\u001b[0m\u001b[0;34m]\u001b[0m \u001b[0;34m=\u001b[0m \u001b[0mmodel\u001b[0m\u001b[0;34m.\u001b[0m\u001b[0mpredict\u001b[0m\u001b[0;34m(\u001b[0m\u001b[0mtest_agg\u001b[0m\u001b[0;34m)\u001b[0m\u001b[0;34m\u001b[0m\u001b[0m\n\u001b[1;32m     23\u001b[0m \u001b[0;34m\u001b[0m\u001b[0m\n",
      "\u001b[0;32m~/anaconda3/lib/python3.6/site-packages/keras/engine/training.py\u001b[0m in \u001b[0;36mfit\u001b[0;34m(self, x, y, batch_size, epochs, verbose, callbacks, validation_split, validation_data, shuffle, class_weight, sample_weight, initial_epoch, steps_per_epoch, validation_steps, **kwargs)\u001b[0m\n\u001b[1;32m   1655\u001b[0m                               \u001b[0minitial_epoch\u001b[0m\u001b[0;34m=\u001b[0m\u001b[0minitial_epoch\u001b[0m\u001b[0;34m,\u001b[0m\u001b[0;34m\u001b[0m\u001b[0m\n\u001b[1;32m   1656\u001b[0m                               \u001b[0msteps_per_epoch\u001b[0m\u001b[0;34m=\u001b[0m\u001b[0msteps_per_epoch\u001b[0m\u001b[0;34m,\u001b[0m\u001b[0;34m\u001b[0m\u001b[0m\n\u001b[0;32m-> 1657\u001b[0;31m                               validation_steps=validation_steps)\n\u001b[0m\u001b[1;32m   1658\u001b[0m \u001b[0;34m\u001b[0m\u001b[0m\n\u001b[1;32m   1659\u001b[0m     def evaluate(self, x=None, y=None,\n",
      "\u001b[0;32m~/anaconda3/lib/python3.6/site-packages/keras/engine/training.py\u001b[0m in \u001b[0;36m_fit_loop\u001b[0;34m(self, f, ins, out_labels, batch_size, epochs, verbose, callbacks, val_f, val_ins, shuffle, callback_metrics, initial_epoch, steps_per_epoch, validation_steps)\u001b[0m\n\u001b[1;32m   1211\u001b[0m                     \u001b[0mbatch_logs\u001b[0m\u001b[0;34m[\u001b[0m\u001b[0;34m'size'\u001b[0m\u001b[0;34m]\u001b[0m \u001b[0;34m=\u001b[0m \u001b[0mlen\u001b[0m\u001b[0;34m(\u001b[0m\u001b[0mbatch_ids\u001b[0m\u001b[0;34m)\u001b[0m\u001b[0;34m\u001b[0m\u001b[0m\n\u001b[1;32m   1212\u001b[0m                     \u001b[0mcallbacks\u001b[0m\u001b[0;34m.\u001b[0m\u001b[0mon_batch_begin\u001b[0m\u001b[0;34m(\u001b[0m\u001b[0mbatch_index\u001b[0m\u001b[0;34m,\u001b[0m \u001b[0mbatch_logs\u001b[0m\u001b[0;34m)\u001b[0m\u001b[0;34m\u001b[0m\u001b[0m\n\u001b[0;32m-> 1213\u001b[0;31m                     \u001b[0mouts\u001b[0m \u001b[0;34m=\u001b[0m \u001b[0mf\u001b[0m\u001b[0;34m(\u001b[0m\u001b[0mins_batch\u001b[0m\u001b[0;34m)\u001b[0m\u001b[0;34m\u001b[0m\u001b[0m\n\u001b[0m\u001b[1;32m   1214\u001b[0m                     \u001b[0;32mif\u001b[0m \u001b[0;32mnot\u001b[0m \u001b[0misinstance\u001b[0m\u001b[0;34m(\u001b[0m\u001b[0mouts\u001b[0m\u001b[0;34m,\u001b[0m \u001b[0mlist\u001b[0m\u001b[0;34m)\u001b[0m\u001b[0;34m:\u001b[0m\u001b[0;34m\u001b[0m\u001b[0m\n\u001b[1;32m   1215\u001b[0m                         \u001b[0mouts\u001b[0m \u001b[0;34m=\u001b[0m \u001b[0;34m[\u001b[0m\u001b[0mouts\u001b[0m\u001b[0;34m]\u001b[0m\u001b[0;34m\u001b[0m\u001b[0m\n",
      "\u001b[0;32m~/anaconda3/lib/python3.6/site-packages/keras/backend/tensorflow_backend.py\u001b[0m in \u001b[0;36m__call__\u001b[0;34m(self, inputs)\u001b[0m\n\u001b[1;32m   2355\u001b[0m         \u001b[0msession\u001b[0m \u001b[0;34m=\u001b[0m \u001b[0mget_session\u001b[0m\u001b[0;34m(\u001b[0m\u001b[0;34m)\u001b[0m\u001b[0;34m\u001b[0m\u001b[0m\n\u001b[1;32m   2356\u001b[0m         updated = session.run(fetches=fetches, feed_dict=feed_dict,\n\u001b[0;32m-> 2357\u001b[0;31m                               **self.session_kwargs)\n\u001b[0m\u001b[1;32m   2358\u001b[0m         \u001b[0;32mreturn\u001b[0m \u001b[0mupdated\u001b[0m\u001b[0;34m[\u001b[0m\u001b[0;34m:\u001b[0m\u001b[0mlen\u001b[0m\u001b[0;34m(\u001b[0m\u001b[0mself\u001b[0m\u001b[0;34m.\u001b[0m\u001b[0moutputs\u001b[0m\u001b[0;34m)\u001b[0m\u001b[0;34m]\u001b[0m\u001b[0;34m\u001b[0m\u001b[0m\n\u001b[1;32m   2359\u001b[0m \u001b[0;34m\u001b[0m\u001b[0m\n",
      "\u001b[0;32m~/anaconda3/lib/python3.6/site-packages/tensorflow/python/client/session.py\u001b[0m in \u001b[0;36mrun\u001b[0;34m(self, fetches, feed_dict, options, run_metadata)\u001b[0m\n\u001b[1;32m    887\u001b[0m     \u001b[0;32mtry\u001b[0m\u001b[0;34m:\u001b[0m\u001b[0;34m\u001b[0m\u001b[0m\n\u001b[1;32m    888\u001b[0m       result = self._run(None, fetches, feed_dict, options_ptr,\n\u001b[0;32m--> 889\u001b[0;31m                          run_metadata_ptr)\n\u001b[0m\u001b[1;32m    890\u001b[0m       \u001b[0;32mif\u001b[0m \u001b[0mrun_metadata\u001b[0m\u001b[0;34m:\u001b[0m\u001b[0;34m\u001b[0m\u001b[0m\n\u001b[1;32m    891\u001b[0m         \u001b[0mproto_data\u001b[0m \u001b[0;34m=\u001b[0m \u001b[0mtf_session\u001b[0m\u001b[0;34m.\u001b[0m\u001b[0mTF_GetBuffer\u001b[0m\u001b[0;34m(\u001b[0m\u001b[0mrun_metadata_ptr\u001b[0m\u001b[0;34m)\u001b[0m\u001b[0;34m\u001b[0m\u001b[0m\n",
      "\u001b[0;32m~/anaconda3/lib/python3.6/site-packages/tensorflow/python/client/session.py\u001b[0m in \u001b[0;36m_run\u001b[0;34m(self, handle, fetches, feed_dict, options, run_metadata)\u001b[0m\n\u001b[1;32m   1118\u001b[0m     \u001b[0;32mif\u001b[0m \u001b[0mfinal_fetches\u001b[0m \u001b[0;32mor\u001b[0m \u001b[0mfinal_targets\u001b[0m \u001b[0;32mor\u001b[0m \u001b[0;34m(\u001b[0m\u001b[0mhandle\u001b[0m \u001b[0;32mand\u001b[0m \u001b[0mfeed_dict_tensor\u001b[0m\u001b[0;34m)\u001b[0m\u001b[0;34m:\u001b[0m\u001b[0;34m\u001b[0m\u001b[0m\n\u001b[1;32m   1119\u001b[0m       results = self._do_run(handle, final_targets, final_fetches,\n\u001b[0;32m-> 1120\u001b[0;31m                              feed_dict_tensor, options, run_metadata)\n\u001b[0m\u001b[1;32m   1121\u001b[0m     \u001b[0;32melse\u001b[0m\u001b[0;34m:\u001b[0m\u001b[0;34m\u001b[0m\u001b[0m\n\u001b[1;32m   1122\u001b[0m       \u001b[0mresults\u001b[0m \u001b[0;34m=\u001b[0m \u001b[0;34m[\u001b[0m\u001b[0;34m]\u001b[0m\u001b[0;34m\u001b[0m\u001b[0m\n",
      "\u001b[0;32m~/anaconda3/lib/python3.6/site-packages/tensorflow/python/client/session.py\u001b[0m in \u001b[0;36m_do_run\u001b[0;34m(self, handle, target_list, fetch_list, feed_dict, options, run_metadata)\u001b[0m\n\u001b[1;32m   1315\u001b[0m     \u001b[0;32mif\u001b[0m \u001b[0mhandle\u001b[0m \u001b[0;32mis\u001b[0m \u001b[0;32mNone\u001b[0m\u001b[0;34m:\u001b[0m\u001b[0;34m\u001b[0m\u001b[0m\n\u001b[1;32m   1316\u001b[0m       return self._do_call(_run_fn, self._session, feeds, fetches, targets,\n\u001b[0;32m-> 1317\u001b[0;31m                            options, run_metadata)\n\u001b[0m\u001b[1;32m   1318\u001b[0m     \u001b[0;32melse\u001b[0m\u001b[0;34m:\u001b[0m\u001b[0;34m\u001b[0m\u001b[0m\n\u001b[1;32m   1319\u001b[0m       \u001b[0;32mreturn\u001b[0m \u001b[0mself\u001b[0m\u001b[0;34m.\u001b[0m\u001b[0m_do_call\u001b[0m\u001b[0;34m(\u001b[0m\u001b[0m_prun_fn\u001b[0m\u001b[0;34m,\u001b[0m \u001b[0mself\u001b[0m\u001b[0;34m.\u001b[0m\u001b[0m_session\u001b[0m\u001b[0;34m,\u001b[0m \u001b[0mhandle\u001b[0m\u001b[0;34m,\u001b[0m \u001b[0mfeeds\u001b[0m\u001b[0;34m,\u001b[0m \u001b[0mfetches\u001b[0m\u001b[0;34m)\u001b[0m\u001b[0;34m\u001b[0m\u001b[0m\n",
      "\u001b[0;32m~/anaconda3/lib/python3.6/site-packages/tensorflow/python/client/session.py\u001b[0m in \u001b[0;36m_do_call\u001b[0;34m(self, fn, *args)\u001b[0m\n\u001b[1;32m   1321\u001b[0m   \u001b[0;32mdef\u001b[0m \u001b[0m_do_call\u001b[0m\u001b[0;34m(\u001b[0m\u001b[0mself\u001b[0m\u001b[0;34m,\u001b[0m \u001b[0mfn\u001b[0m\u001b[0;34m,\u001b[0m \u001b[0;34m*\u001b[0m\u001b[0margs\u001b[0m\u001b[0;34m)\u001b[0m\u001b[0;34m:\u001b[0m\u001b[0;34m\u001b[0m\u001b[0m\n\u001b[1;32m   1322\u001b[0m     \u001b[0;32mtry\u001b[0m\u001b[0;34m:\u001b[0m\u001b[0;34m\u001b[0m\u001b[0m\n\u001b[0;32m-> 1323\u001b[0;31m       \u001b[0;32mreturn\u001b[0m \u001b[0mfn\u001b[0m\u001b[0;34m(\u001b[0m\u001b[0;34m*\u001b[0m\u001b[0margs\u001b[0m\u001b[0;34m)\u001b[0m\u001b[0;34m\u001b[0m\u001b[0m\n\u001b[0m\u001b[1;32m   1324\u001b[0m     \u001b[0;32mexcept\u001b[0m \u001b[0merrors\u001b[0m\u001b[0;34m.\u001b[0m\u001b[0mOpError\u001b[0m \u001b[0;32mas\u001b[0m \u001b[0me\u001b[0m\u001b[0;34m:\u001b[0m\u001b[0;34m\u001b[0m\u001b[0m\n\u001b[1;32m   1325\u001b[0m       \u001b[0mmessage\u001b[0m \u001b[0;34m=\u001b[0m \u001b[0mcompat\u001b[0m\u001b[0;34m.\u001b[0m\u001b[0mas_text\u001b[0m\u001b[0;34m(\u001b[0m\u001b[0me\u001b[0m\u001b[0;34m.\u001b[0m\u001b[0mmessage\u001b[0m\u001b[0;34m)\u001b[0m\u001b[0;34m\u001b[0m\u001b[0m\n",
      "\u001b[0;32m~/anaconda3/lib/python3.6/site-packages/tensorflow/python/client/session.py\u001b[0m in \u001b[0;36m_run_fn\u001b[0;34m(session, feed_dict, fetch_list, target_list, options, run_metadata)\u001b[0m\n\u001b[1;32m   1300\u001b[0m           return tf_session.TF_Run(session, options,\n\u001b[1;32m   1301\u001b[0m                                    \u001b[0mfeed_dict\u001b[0m\u001b[0;34m,\u001b[0m \u001b[0mfetch_list\u001b[0m\u001b[0;34m,\u001b[0m \u001b[0mtarget_list\u001b[0m\u001b[0;34m,\u001b[0m\u001b[0;34m\u001b[0m\u001b[0m\n\u001b[0;32m-> 1302\u001b[0;31m                                    status, run_metadata)\n\u001b[0m\u001b[1;32m   1303\u001b[0m \u001b[0;34m\u001b[0m\u001b[0m\n\u001b[1;32m   1304\u001b[0m     \u001b[0;32mdef\u001b[0m \u001b[0m_prun_fn\u001b[0m\u001b[0;34m(\u001b[0m\u001b[0msession\u001b[0m\u001b[0;34m,\u001b[0m \u001b[0mhandle\u001b[0m\u001b[0;34m,\u001b[0m \u001b[0mfeed_dict\u001b[0m\u001b[0;34m,\u001b[0m \u001b[0mfetch_list\u001b[0m\u001b[0;34m)\u001b[0m\u001b[0;34m:\u001b[0m\u001b[0;34m\u001b[0m\u001b[0m\n",
      "\u001b[0;31mKeyboardInterrupt\u001b[0m: "
     ]
    }
   ],
   "source": [
    "pred_appliance = {}\n",
    "for appliance in APPLIANCES_ORDER[1:]:\n",
    "    print(appliance)\n",
    "    print(\"*\"*20)\n",
    "    np.random.seed(0)\n",
    "    from keras.layers.merge import Subtract, Minimum\n",
    "    from keras import regularizers\n",
    "    agg_input = keras.layers.Input(shape=[24],name='Aggregate')\n",
    "    appliance_dense_1 = keras.layers.Dense(units=20,name='Appliance-layer-1',activation='relu')(agg_input)\n",
    "    dropout = keras.layers.Dropout(rate=0.3,name='Droput-Appliance')(appliance_dense_1)\n",
    "\n",
    "\n",
    "\n",
    "\n",
    "    out = keras.layers.Dense(units=24,name='Appliance-output',activation='relu')(dropout)\n",
    "    out = Minimum(name='Clip-to-agg')([out, agg_input])\n",
    "\n",
    "\n",
    "    model = keras.Model(agg_input, out)\n",
    "    model.compile('adam','mean_absolute_error')\n",
    "    model.fit(train_agg, train_appliance[appliance], epochs=300, validation_split=0.1)\n",
    "    pred_appliance[appliance] = model.predict(test_agg)\n",
    "\n"
   ]
  },
  {
   "cell_type": "code",
   "execution_count": 37,
   "metadata": {
    "collapsed": true
   },
   "outputs": [],
   "source": [
    "with open('per-appliance.pdf','wb') as f:\n",
    "    f.write(model_to_dot(model,  show_shapes=True, show_layer_names=True, rankdir='HB').create(prog='dot', format='pdf'))\n",
    "\n"
   ]
  },
  {
   "cell_type": "code",
   "execution_count": 21,
   "metadata": {},
   "outputs": [
    {
     "name": "stdout",
     "output_type": "stream",
     "text": [
      "__________________________________________________________________________________________________\n",
      "Layer (type)                    Output Shape         Param #     Connected to                     \n",
      "==================================================================================================\n",
      "Aggregate (InputLayer)          (None, 24)           0                                            \n",
      "__________________________________________________________________________________________________\n",
      "Appliance-layer-1 (Dense)       (None, 20)           500         Aggregate[0][0]                  \n",
      "__________________________________________________________________________________________________\n",
      "Droput-Appliance (Dropout)      (None, 20)           0           Appliance-layer-1[0][0]          \n",
      "__________________________________________________________________________________________________\n",
      "Appliance-output (Dense)        (None, 24)           504         Droput-Appliance[0][0]           \n",
      "__________________________________________________________________________________________________\n",
      "minimum_2 (Minimum)             (None, 24)           0           Appliance-output[0][0]           \n",
      "                                                                 Aggregate[0][0]                  \n",
      "==================================================================================================\n",
      "Total params: 1,004\n",
      "Trainable params: 1,004\n",
      "Non-trainable params: 0\n",
      "__________________________________________________________________________________________________\n"
     ]
    }
   ],
   "source": [
    "model.summary()"
   ]
  },
  {
   "cell_type": "code",
   "execution_count": 32,
   "metadata": {
    "collapsed": true
   },
   "outputs": [],
   "source": [
    "mae = {}\n",
    "for appliance in APPLIANCES_ORDER[1:]:\n",
    "    mae[appliance] = mean_absolute_error(test_appliance[appliance], pred_appliance[appliance])\n",
    "    \n",
    "    "
   ]
  },
  {
   "cell_type": "code",
   "execution_count": 34,
   "metadata": {},
   "outputs": [
    {
     "data": {
      "text/plain": [
       "dw         14.515641\n",
       "fridge     42.986721\n",
       "hvac      135.127259\n",
       "mw          6.303220\n",
       "oven       19.784436\n",
       "wm          5.618949\n",
       "dtype: float64"
      ]
     },
     "execution_count": 34,
     "metadata": {},
     "output_type": "execute_result"
    }
   ],
   "source": [
    "pd.Series(mae)"
   ]
  },
  {
   "cell_type": "code",
   "execution_count": 24,
   "metadata": {},
   "outputs": [
    {
     "data": {
      "text/plain": [
       "(308, 24)"
      ]
     },
     "execution_count": 24,
     "metadata": {},
     "output_type": "execute_result"
    }
   ],
   "source": [
    "pred_hvac.shape"
   ]
  },
  {
   "cell_type": "code",
   "execution_count": 27,
   "metadata": {},
   "outputs": [
    {
     "name": "stdout",
     "output_type": "stream",
     "text": [
      "41.4446940174\n",
      "996.766596489\n"
     ]
    }
   ],
   "source": [
    "pred_hvac = model.predict(test_agg)\n",
    "\n",
    "\n",
    "from sklearn.metrics import mean_absolute_error\n",
    "print(mean_absolute_error(pred_hvac, test_fridge))\n",
    "print(mean_absolute_error(pred_hvac, test_agg))\n",
    "\n",
    "\n"
   ]
  },
  {
   "cell_type": "code",
   "execution_count": 282,
   "metadata": {},
   "outputs": [
    {
     "data": {
      "text/plain": [
       "0     1.907349e-06\n",
       "1    -3.877686e+00\n",
       "2    -9.150000e+00\n",
       "3     0.000000e+00\n",
       "4     0.000000e+00\n",
       "5    -9.633333e+00\n",
       "6     0.000000e+00\n",
       "7     2.861023e-06\n",
       "8    -8.683333e+00\n",
       "9     9.536743e-07\n",
       "10    0.000000e+00\n",
       "11    9.536743e-07\n",
       "12   -9.583333e+00\n",
       "13   -9.516666e+00\n",
       "14   -4.711666e+01\n",
       "15    3.099442e-06\n",
       "16   -4.685000e+01\n",
       "17    9.536743e-07\n",
       "18   -7.310000e+01\n",
       "19   -7.350000e+01\n",
       "20   -4.180000e+01\n",
       "21    0.000000e+00\n",
       "22   -9.616667e+00\n",
       "23   -9.533334e+00\n",
       "dtype: float64"
      ]
     },
     "execution_count": 282,
     "metadata": {},
     "output_type": "execute_result"
    }
   ],
   "source": [
    "(pd.DataFrame(pred_hvac) - pd.DataFrame(test_agg)).max()"
   ]
  },
  {
   "cell_type": "code",
   "execution_count": 284,
   "metadata": {},
   "outputs": [
    {
     "data": {
      "text/plain": [
       "<matplotlib.legend.Legend at 0x1c39139b38>"
      ]
     },
     "execution_count": 284,
     "metadata": {},
     "output_type": "execute_result"
    },
    {
     "data": {
      "image/png": "[encoded data removed]",
      "text/plain": [
       "<matplotlib.figure.Figure at 0x1c391557b8>"
      ]
     },
     "metadata": {},
     "output_type": "display_data"
    }
   ],
   "source": [
    "pd.Series(test_mw[1, :]).plot(label='GT')\n",
    "#pd.Series(test_agg[1, :]).plot(label='GT')\n",
    "\n",
    "\n",
    "pd.Series(model.predict(test_agg[1:2])[0, :24]).plot(label='Pred')\n",
    "\n",
    "\n",
    "\n",
    "\n",
    "plt.legend()"
   ]
  },
  {
   "cell_type": "code",
   "execution_count": null,
   "metadata": {
    "collapsed": true
   },
   "outputs": [],
   "source": []
  }
 ],
 "metadata": {
  "kernelspec": {
   "display_name": "Python 3",
   "language": "python",
   "name": "python3"
  },
  "language_info": {
   "codemirror_mode": {
    "name": "ipython",
    "version": 3
   },
   "file_extension": ".py",
   "mimetype": "text/x-python",
   "name": "python",
   "nbconvert_exporter": "python",
   "pygments_lexer": "ipython3",
   "version": "3.6.3"
  }
 },
 "nbformat": 4,
 "nbformat_minor": 2
}
