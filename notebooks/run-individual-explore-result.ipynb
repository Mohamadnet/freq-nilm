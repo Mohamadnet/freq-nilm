{
 "cells": [
  {
   "cell_type": "code",
   "execution_count": 10,
   "metadata": {
    "collapsed": true
   },
   "outputs": [],
   "source": [
    "import numpy as np\n",
    "import itertools\n",
    "from pathlib import Path\n",
    "\n"
   ]
  },
  {
   "cell_type": "code",
   "execution_count": 49,
   "metadata": {},
   "outputs": [
    {
     "name": "stdout",
     "output_type": "stream",
     "text": [
      "6 1\n"
     ]
    }
   ],
   "source": [
    "print(srv, gid)"
   ]
  },
  {
   "cell_type": "code",
   "execution_count": 61,
   "metadata": {
    "scrolled": true
   },
   "outputs": [
    {
     "name": "stdout",
     "output_type": "stream",
     "text": [
      "0\n"
     ]
    }
   ],
   "source": [
    "gid = 0\n",
    "srv = 1\n",
    "c = 0\n",
    "cmd = {}\n",
    "\n",
    "for fold_num in range(5):\n",
    "    for cell_type in ['GRU', 'RNN', 'LSTM']:\n",
    "        for hidden_size in [20, 50, 100]:\n",
    "            for num_layers in [1, 2, 3, 4]:\n",
    "                for bidirectional in [True, False]:\n",
    "                    for lr in [0.001, 0.01, 0.1, 1]:\n",
    "                        lr = float(lr)\n",
    "                        for order in ['hvac', 'fridge', 'dr', 'dw', 'mw']:\n",
    "                            \n",
    "                            directory = \"../../baseline/rnn-individual/3/{}/{}/{}/{}/{}/{}/3000/0.0/\".format(fold_num, cell_type,\n",
    "                                                                                                hidden_size,\n",
    "                                                                                                num_layers,\n",
    "                                                                                                bidirectional,\n",
    "                                                                                                lr)\n",
    "                            filename = \"test-pred-{}-3-{}-{}-{}-{}-{}-3000-0.0-[\\'{}\\'].npy\".format(fold_num, cell_type, hidden_size, num_layers,\n",
    "                                                                             bidirectional, lr, order)\n",
    "#                             print(filename)\n",
    "                            \n",
    "                            \n",
    "                            full_path = directory + filename\n",
    "                            my_file = Path(full_path)\n",
    "                            if not my_file.exists():\n",
    "                                \n",
    "                                \n",
    "                                \n",
    "#                                 print(hidden_size, num_layers, bidirectional, lr)\n",
    "#                             o = \" \".join(str(x) for x in order)\n",
    "                                line = (\"CUDA_VISIBLE_DEVICES={} python rnn-nested-cv-individual.py 3 {} {} {} {} {} 3000 0 {} {}\\n\".format(gid, cell_type, hidden_size, num_layers, bidirectional, lr, fold_num, order))\n",
    "                                print(line)\n",
    "# #                             cmd[c] = line\n",
    "#                                 with open('../code/0{}{}.sh'.format(srv, gid), 'a') as the_file:\n",
    "#                                     the_file.write(\"#!bin/bash \\n\")\n",
    "#                                     the_file.write(line)\n",
    "                                c += 1\n",
    "                                if c%500 == 0:\n",
    "                                    gid += 1\n",
    "                                if gid == 1:\n",
    "                                    gid = 0\n",
    "                                    srv += 1\n",
    "\n",
    "print(c)                               "
   ]
  },
  {
   "cell_type": "code",
   "execution_count": 101,
   "metadata": {
    "scrolled": false
   },
   "outputs": [
    {
     "name": "stdout",
     "output_type": "stream",
     "text": [
      "nohup sh 010.sh &> 010.out &\n",
      "nohup sh 011.sh &> 011.out &\n",
      "nohup sh 012.sh &> 012.out &\n",
      "nohup sh 013.sh &> 013.out &\n",
      "nohup sh 020.sh &> 020.out &\n",
      "nohup sh 021.sh &> 021.out &\n",
      "nohup sh 022.sh &> 022.out &\n",
      "nohup sh 023.sh &> 023.out &\n",
      "nohup sh 030.sh &> 030.out &\n",
      "nohup sh 031.sh &> 031.out &\n",
      "nohup sh 032.sh &> 032.out &\n",
      "nohup sh 033.sh &> 033.out &\n",
      "nohup sh 040.sh &> 040.out &\n",
      "nohup sh 041.sh &> 041.out &\n",
      "nohup sh 042.sh &> 042.out &\n",
      "nohup sh 043.sh &> 043.out &\n",
      "nohup sh 050.sh &> 050.out &\n",
      "nohup sh 051.sh &> 051.out &\n",
      "nohup sh 052.sh &> 052.out &\n",
      "nohup sh 053.sh &> 053.out &\n",
      "nohup sh 060.sh &> 060.out &\n",
      "nohup sh 061.sh &> 061.out &\n",
      "nohup sh 062.sh &> 062.out &\n",
      "nohup sh 063.sh &> 063.out &\n",
      "nohup sh 070.sh &> 070.out &\n",
      "nohup sh 071.sh &> 071.out &\n",
      "nohup sh 072.sh &> 072.out &\n",
      "nohup sh 073.sh &> 073.out &\n",
      "nohup sh 080.sh &> 080.out &\n",
      "nohup sh 081.sh &> 081.out &\n",
      "nohup sh 082.sh &> 082.out &\n",
      "nohup sh 083.sh &> 083.out &\n"
     ]
    }
   ],
   "source": [
    "for i in range(1, 9):\n",
    "    for j in range(4):\n",
    "        print(\"nohup sh 0{}{}.sh &> 0{}{}.out &\".format(i, j, i, j))"
   ]
  },
  {
   "cell_type": "code",
   "execution_count": 107,
   "metadata": {},
   "outputs": [
    {
     "name": "stdout",
     "output_type": "stream",
     "text": [
      "ssh yj9xs@ai01.cs.virginia.edu\n",
      "ssh yj9xs@ai02.cs.virginia.edu\n",
      "ssh yj9xs@ai03.cs.virginia.edu\n",
      "ssh yj9xs@ai04.cs.virginia.edu\n",
      "ssh yj9xs@ai05.cs.virginia.edu\n",
      "ssh yj9xs@ai06.cs.virginia.edu\n"
     ]
    }
   ],
   "source": [
    "for i in range(1, 7):\n",
    "    print(\"ssh yj9xs@ai0{}.cs.virginia.edu\".format(i))"
   ]
  },
  {
   "cell_type": "code",
   "execution_count": 62,
   "metadata": {},
   "outputs": [],
   "source": [
    "error = {}\n",
    "for fold_num in range(5):\n",
    "    error[fold_num] = {}\n",
    "    for cell_type in ['GRU', 'RNN', 'LSTM']:\n",
    "        error[fold_num][cell_type] = {}\n",
    "        for hidden_size in [20, 50, 100]:\n",
    "            error[fold_num][cell_type][hidden_size] = {}\n",
    "            for num_layers in [1, 2, 3]:\n",
    "                error[fold_num][cell_type][hidden_size][num_layers] = {}\n",
    "                for bidirectional in [True]:\n",
    "                    error[fold_num][cell_type][hidden_size][num_layers][bidirectional] = {}\n",
    "                    for lr in [0.001, 0.01, 0.1, 1.0]:\n",
    "                        error[fold_num][cell_type][hidden_size][num_layers][bidirectional][lr] = {}\n",
    "                        for order in ['hvac', 'fridge', 'dr', 'dw', 'mw']:\n",
    "                            if (hidden_size == 100 and (num_layers == 3 or num_layers == 4 or num_layers == 2)) or (hidden_size == 20 and num_layers ==1) or(hidden_size == 50 and (num_layers == 1 or num_layers == 3)):\n",
    "                                continue\n",
    "#                             print(fold_num, cell_type, hidden_size, num_layers, bidirectional, lr, order)\n",
    "#                             o = \"\\', \\'\".join(str(x) for x in order)\n",
    "                            directory = \"../../baseline/rnn-individual/3/{}/{}/{}/{}/{}/{}/3000/0.0/\".format(fold_num, cell_type,\n",
    "                                                                                                hidden_size,\n",
    "                                                                                                num_layers,\n",
    "                                                                                                bidirectional,\n",
    "                                                                                                lr)\n",
    "                            filename = \"valid-error-{}-3-{}-{}-{}-{}-{}-3000-0.0-[\\'{}\\'].npy\".format(fold_num, cell_type, hidden_size, num_layers,\n",
    "                                                                             bidirectional, lr, order)\n",
    "                            \n",
    "                            \n",
    "                            full_path = directory + filename\n",
    "                            my_file = Path(full_path)\n",
    "                            \n",
    "                            error[fold_num][cell_type][hidden_size][num_layers][bidirectional][lr][order] = np.load(full_path).item()\n",
    "                            "
   ]
  },
  {
   "cell_type": "code",
   "execution_count": 66,
   "metadata": {},
   "outputs": [],
   "source": [
    "# find best params\n",
    "best_param = {}\n",
    "for appliance in ['hvac', 'fridge', 'dr', 'dw', 'mw']:\n",
    "    best_param[appliance] = {}\n",
    "    for fold_num in range(5):\n",
    "        best_param[appliance][fold_num] = {}\n",
    "        best_error = np.Inf\n",
    "        for cell_type in ['GRU', 'RNN', 'LSTM']:\n",
    "            for hidden_size in [20, 50, 100]:\n",
    "                for num_layers in [1, 2, 3]:\n",
    "                    for bidirectional in [True]:\n",
    "                        for lr in [0.001, 0.01, 0.1, 1.0]:\n",
    "                            if (hidden_size == 100 and (num_layers == 3 or num_layers == 4 or num_layers == 2)) or (hidden_size == 20 and num_layers ==1) or(hidden_size == 50 and (num_layers == 1 or num_layers == 3)):\n",
    "                                continue\n",
    "                            for iters in [1000, 2000, 3000]:\n",
    "                                cur_error = pd.Series(error[fold_num][cell_type][hidden_size][num_layers][bidirectional][lr][appliance][iters]).mean()\n",
    "                                if cur_error < best_error:\n",
    "                                    best_error = cur_error\n",
    "                                    best_param[appliance][fold_num]['cell_type'] = cell_type\n",
    "                                    best_param[appliance][fold_num]['hidden_size'] = hidden_size\n",
    "                                    best_param[appliance][fold_num]['num_layers'] = num_layers\n",
    "                                    best_param[appliance][fold_num]['bidirectional'] = bidirectional\n",
    "                                    best_param[appliance][fold_num]['lr'] = lr\n",
    "                                    best_param[appliance][fold_num]['iters'] = iters\n"
   ]
  },
  {
   "cell_type": "code",
   "execution_count": 67,
   "metadata": {
    "collapsed": true
   },
   "outputs": [
    {
     "data": {
      "text/plain": [
       "{'dr': {0: {'bidirectional': True,\n",
       "   'cell_type': 'LSTM',\n",
       "   'hidden_size': 20,\n",
       "   'iters': 2000,\n",
       "   'lr': 0.001,\n",
       "   'num_layers': 3},\n",
       "  1: {'bidirectional': True,\n",
       "   'cell_type': 'GRU',\n",
       "   'hidden_size': 20,\n",
       "   'iters': 2000,\n",
       "   'lr': 0.001,\n",
       "   'num_layers': 3},\n",
       "  2: {'bidirectional': True,\n",
       "   'cell_type': 'GRU',\n",
       "   'hidden_size': 20,\n",
       "   'iters': 1000,\n",
       "   'lr': 1.0,\n",
       "   'num_layers': 2},\n",
       "  3: {'bidirectional': True,\n",
       "   'cell_type': 'GRU',\n",
       "   'hidden_size': 20,\n",
       "   'iters': 3000,\n",
       "   'lr': 0.01,\n",
       "   'num_layers': 2},\n",
       "  4: {'bidirectional': True,\n",
       "   'cell_type': 'RNN',\n",
       "   'hidden_size': 100,\n",
       "   'iters': 1000,\n",
       "   'lr': 0.1,\n",
       "   'num_layers': 1}},\n",
       " 'dw': {0: {'bidirectional': True,\n",
       "   'cell_type': 'GRU',\n",
       "   'hidden_size': 20,\n",
       "   'iters': 1000,\n",
       "   'lr': 0.001,\n",
       "   'num_layers': 2},\n",
       "  1: {'bidirectional': True,\n",
       "   'cell_type': 'GRU',\n",
       "   'hidden_size': 20,\n",
       "   'iters': 1000,\n",
       "   'lr': 0.1,\n",
       "   'num_layers': 2},\n",
       "  2: {'bidirectional': True,\n",
       "   'cell_type': 'GRU',\n",
       "   'hidden_size': 20,\n",
       "   'iters': 2000,\n",
       "   'lr': 0.001,\n",
       "   'num_layers': 2},\n",
       "  3: {'bidirectional': True,\n",
       "   'cell_type': 'GRU',\n",
       "   'hidden_size': 20,\n",
       "   'iters': 2000,\n",
       "   'lr': 0.001,\n",
       "   'num_layers': 2},\n",
       "  4: {'bidirectional': True,\n",
       "   'cell_type': 'GRU',\n",
       "   'hidden_size': 20,\n",
       "   'iters': 3000,\n",
       "   'lr': 0.001,\n",
       "   'num_layers': 2}},\n",
       " 'fridge': {0: {'bidirectional': True,\n",
       "   'cell_type': 'RNN',\n",
       "   'hidden_size': 20,\n",
       "   'iters': 2000,\n",
       "   'lr': 0.001,\n",
       "   'num_layers': 2},\n",
       "  1: {'bidirectional': True,\n",
       "   'cell_type': 'LSTM',\n",
       "   'hidden_size': 100,\n",
       "   'iters': 3000,\n",
       "   'lr': 0.001,\n",
       "   'num_layers': 1},\n",
       "  2: {'bidirectional': True,\n",
       "   'cell_type': 'RNN',\n",
       "   'hidden_size': 20,\n",
       "   'iters': 2000,\n",
       "   'lr': 0.001,\n",
       "   'num_layers': 2},\n",
       "  3: {'bidirectional': True,\n",
       "   'cell_type': 'LSTM',\n",
       "   'hidden_size': 50,\n",
       "   'iters': 3000,\n",
       "   'lr': 0.001,\n",
       "   'num_layers': 2},\n",
       "  4: {'bidirectional': True,\n",
       "   'cell_type': 'GRU',\n",
       "   'hidden_size': 50,\n",
       "   'iters': 3000,\n",
       "   'lr': 0.001,\n",
       "   'num_layers': 2}},\n",
       " 'hvac': {0: {'bidirectional': True,\n",
       "   'cell_type': 'GRU',\n",
       "   'hidden_size': 100,\n",
       "   'iters': 3000,\n",
       "   'lr': 0.01,\n",
       "   'num_layers': 1},\n",
       "  1: {'bidirectional': True,\n",
       "   'cell_type': 'GRU',\n",
       "   'hidden_size': 100,\n",
       "   'iters': 3000,\n",
       "   'lr': 0.01,\n",
       "   'num_layers': 1},\n",
       "  2: {'bidirectional': True,\n",
       "   'cell_type': 'RNN',\n",
       "   'hidden_size': 100,\n",
       "   'iters': 3000,\n",
       "   'lr': 0.01,\n",
       "   'num_layers': 1},\n",
       "  3: {'bidirectional': True,\n",
       "   'cell_type': 'GRU',\n",
       "   'hidden_size': 100,\n",
       "   'iters': 3000,\n",
       "   'lr': 0.01,\n",
       "   'num_layers': 1},\n",
       "  4: {'bidirectional': True,\n",
       "   'cell_type': 'GRU',\n",
       "   'hidden_size': 100,\n",
       "   'iters': 3000,\n",
       "   'lr': 0.01,\n",
       "   'num_layers': 1}},\n",
       " 'mw': {0: {'bidirectional': True,\n",
       "   'cell_type': 'GRU',\n",
       "   'hidden_size': 20,\n",
       "   'iters': 1000,\n",
       "   'lr': 0.001,\n",
       "   'num_layers': 2},\n",
       "  1: {'bidirectional': True,\n",
       "   'cell_type': 'GRU',\n",
       "   'hidden_size': 20,\n",
       "   'iters': 2000,\n",
       "   'lr': 0.001,\n",
       "   'num_layers': 3},\n",
       "  2: {'bidirectional': True,\n",
       "   'cell_type': 'LSTM',\n",
       "   'hidden_size': 100,\n",
       "   'iters': 3000,\n",
       "   'lr': 0.001,\n",
       "   'num_layers': 1},\n",
       "  3: {'bidirectional': True,\n",
       "   'cell_type': 'GRU',\n",
       "   'hidden_size': 20,\n",
       "   'iters': 3000,\n",
       "   'lr': 0.001,\n",
       "   'num_layers': 3},\n",
       "  4: {'bidirectional': True,\n",
       "   'cell_type': 'GRU',\n",
       "   'hidden_size': 20,\n",
       "   'iters': 3000,\n",
       "   'lr': 0.001,\n",
       "   'num_layers': 3}}}"
      ]
     },
     "execution_count": 67,
     "metadata": {},
     "output_type": "execute_result"
    }
   ],
   "source": [
    "best_param"
   ]
  },
  {
   "cell_type": "code",
   "execution_count": 68,
   "metadata": {
    "collapsed": true
   },
   "outputs": [],
   "source": [
    "np.save(\"../code/baseline/result/rnn-individual-param-3.npy\", best_param)"
   ]
  },
  {
   "cell_type": "code",
   "execution_count": 75,
   "metadata": {},
   "outputs": [],
   "source": [
    "best_test_error = {}\n",
    "for appliance in ['hvac', 'fridge', 'dr', 'dw', 'mw']:\n",
    "    best_test_error[appliance] = {}\n",
    "    for fold_num in range(5):\n",
    "        cell_type = best_param[appliance][fold_num]['cell_type']\n",
    "        hidden_size = best_param[appliance][fold_num]['hidden_size'] \n",
    "        num_layers = best_param[appliance][fold_num]['num_layers']\n",
    "        bidirectional = best_param[appliance][fold_num]['bidirectional'] \n",
    "        lr = best_param[appliance][fold_num]['lr']\n",
    "        iters = best_param[appliance][fold_num]['iters']\n",
    "        \n",
    "\n",
    "\n",
    "#         o = \"\\', \\'\".join(str(x) for x in order)\n",
    "        directory = \"../../baseline/rnn-individual/3/{}/{}/{}/{}/{}/{}/3000/0.0/\".format(fold_num, cell_type,\n",
    "                                                                            hidden_size,\n",
    "                                                                            num_layers,\n",
    "                                                                            bidirectional,\n",
    "                                                                            lr)\n",
    "        filename = \"test-error-{}-3-{}-{}-{}-{}-{}-3000-0.0-[\\'{}\\'].npy\".format(fold_num, cell_type, hidden_size, num_layers,\n",
    "                                                         bidirectional, lr, appliance)\n",
    "\n",
    "\n",
    "        full_path = directory + filename\n",
    "        my_file = Path(full_path)\n",
    "\n",
    "        best_test_error[appliance][fold_num] = np.load(full_path).item()[iters][appliance]\n"
   ]
  },
  {
   "cell_type": "code",
   "execution_count": 79,
   "metadata": {},
   "outputs": [
    {
     "data": {
      "text/plain": [
       "dr         67.187805\n",
       "dw         15.428419\n",
       "fridge     28.954171\n",
       "hvac      325.131830\n",
       "mw          8.271786\n",
       "dtype: float64"
      ]
     },
     "execution_count": 79,
     "metadata": {},
     "output_type": "execute_result"
    }
   ],
   "source": [
    "import pandas as pd\n",
    "pd.DataFrame(best_test_error).mean()"
   ]
  }
 ],
 "metadata": {
  "kernelspec": {
   "display_name": "Python 3",
   "language": "python",
   "name": "python3"
  },
  "language_info": {
   "codemirror_mode": {
    "name": "ipython",
    "version": 3
   },
   "file_extension": ".py",
   "mimetype": "text/x-python",
   "name": "python",
   "nbconvert_exporter": "python",
   "pygments_lexer": "ipython3",
   "version": "3.6.3"
  }
 },
 "nbformat": 4,
 "nbformat_minor": 2
}
