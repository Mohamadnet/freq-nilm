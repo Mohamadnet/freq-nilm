{
 "cells": [
  {
   "cell_type": "code",
   "execution_count": 1,
   "metadata": {
    "collapsed": true
   },
   "outputs": [],
   "source": [
    "import numpy as np"
   ]
  },
  {
   "cell_type": "code",
   "execution_count": 3,
   "metadata": {},
   "outputs": [],
   "source": [
    "dataid = np.load(\"./homeid_10_hourly.npy\")\n",
    "validid = np.load(\"./valid_homes_index.npy\")"
   ]
  },
  {
   "cell_type": "code",
   "execution_count": 4,
   "metadata": {},
   "outputs": [
    {
     "data": {
      "text/plain": [
       "(68,)"
      ]
     },
     "execution_count": 4,
     "metadata": {},
     "output_type": "execute_result"
    }
   ],
   "source": [
    "dataid.shape\n",
    "validid.shape"
   ]
  },
  {
   "cell_type": "code",
   "execution_count": 5,
   "metadata": {
    "collapsed": true
   },
   "outputs": [],
   "source": [
    "valid_dataid = dataid[validid]"
   ]
  },
  {
   "cell_type": "code",
   "execution_count": 6,
   "metadata": {},
   "outputs": [
    {
     "data": {
      "text/plain": [
       "array([1, 1, 2, 1, 0, 1, 1, 1, 1, 1, 1, 1, 0, 1, 1, 1, 1, 1, 0, 0, 1, 1, 2,\n",
       "       0, 1, 1, 0, 1, 0, 2, 1, 1, 1, 1, 0, 1, 1, 0, 1, 2, 1, 1, 1, 1, 0, 2,\n",
       "       2, 0, 1, 1, 1, 2, 1, 1, 1, 1, 1, 1, 1, 1, 2, 1, 1, 1, 1, 1, 0, 1], dtype=int32)"
      ]
     },
     "execution_count": 6,
     "metadata": {},
     "output_type": "execute_result"
    }
   ],
   "source": [
    "# tensor = np.load('../2015-5appliances-true-agg.npy')\n",
    "from sklearn.cluster import KMeans\n",
    "ag_tensor = np.load('../2015-5appliances.numpy.npy')\n",
    "true_tensor = np.load(\"../2015-5appliances-true-agg.npy\")\n",
    "from sklearn.metrics import mean_absolute_error\n",
    "\n",
    "ag_agg = ag_tensor[:, 0, :, :]\n",
    "true_agg = true_tensor[:, 0, :, :]\n",
    "residual_agg = true_agg - ag_agg\n",
    "\n",
    "residual_agg = residual_agg.reshape(68, -1)\n",
    "\n",
    "kmeans = KMeans(n_clusters=3, random_state=0).fit(residual_agg)\n",
    "kmeans.labels_"
   ]
  },
  {
   "cell_type": "code",
   "execution_count": 7,
   "metadata": {
    "collapsed": true
   },
   "outputs": [],
   "source": [
    "cluster = {}\n",
    "for i in range(3):\n",
    "    cluster[i] = [x for x in range(68) if kmeans.labels_[x] == i]"
   ]
  },
  {
   "cell_type": "code",
   "execution_count": 15,
   "metadata": {},
   "outputs": [
    {
     "data": {
      "text/plain": [
       "[2, 22, 29, 39, 45, 46, 51, 60]"
      ]
     },
     "execution_count": 15,
     "metadata": {},
     "output_type": "execute_result"
    }
   ],
   "source": [
    "cluster[2]"
   ]
  },
  {
   "cell_type": "code",
   "execution_count": 8,
   "metadata": {},
   "outputs": [
    {
     "name": "stdout",
     "output_type": "stream",
     "text": [
      "[2814 7940 7951 2094 7863 3367 4373 8156 7117 4946 5568 5809]\n",
      "[ 114  661 2575 2859 3456 3482 5403 6836 6990 7536 8236 9134 8188 2156\n",
      " 4220   93  871 1169 1415 3723 5395 5921 7627 7850 9982 4514 8956 9278\n",
      " 4874 7641 8292 3036 9701  434 7901 6101 8565 6063  781 2532 5317  101\n",
      " 1310 3273 9912 3413 2361  668]\n",
      "[2018 9737 4526 9248 4957 2242 1507 3916]\n"
     ]
    }
   ],
   "source": [
    "for i in range(3):\n",
    "    print(valid_dataid[cluster[i]])"
   ]
  },
  {
   "cell_type": "code",
   "execution_count": 23,
   "metadata": {},
   "outputs": [
    {
     "name": "stdout",
     "output_type": "stream",
     "text": [
      "[2814 7940 7951 2094 7863 3367 4373 8156 7117 4946 5568 5809]\n",
      "[ 114  661 2575 2859 3456 3482 5403 6836 6990 7536 8236 9134 8188 2156 4220\n",
      "   93  871 1169 1415 3723 5395 5921 7627 7850 9982 4514 8956 9278 4874 7641\n",
      " 8292 3036 9701  434 7901 6101 8565 6063  781 2532 5317  101 1310 3273 9912\n",
      " 3413 2361  668]\n",
      "[2018 9737 4526 9248 4957 2242 1507 3916]\n"
     ]
    }
   ],
   "source": [
    "for i in range(3):\n",
    "    print(valid_dataid[cluster[i]])"
   ]
  },
  {
   "cell_type": "code",
   "execution_count": 25,
   "metadata": {},
   "outputs": [
    {
     "data": {
      "text/plain": [
       "array([ 2175.2332896 ,  2084.51665652,  2128.26675415, ...,  2338.13337505,\n",
       "        2084.74982806,  1199.8667272 ])"
      ]
     },
     "execution_count": 25,
     "metadata": {},
     "output_type": "execute_result"
    }
   ],
   "source": [
    "residual_agg[51]"
   ]
  },
  {
   "cell_type": "code",
   "execution_count": 26,
   "metadata": {},
   "outputs": [
    {
     "data": {
      "text/plain": [
       "array([ 1698.98337555,  1382.63344574,  1401.11658478, ...,  2381.24990082,\n",
       "        1695.33324432,  1585.33319855])"
      ]
     },
     "execution_count": 26,
     "metadata": {},
     "output_type": "execute_result"
    }
   ],
   "source": [
    "residual_agg[cluster[2][0]]"
   ]
  }
 ],
 "metadata": {
  "kernelspec": {
   "display_name": "Python 3",
   "language": "python",
   "name": "python3"
  },
  "language_info": {
   "codemirror_mode": {
    "name": "ipython",
    "version": 3
   },
   "file_extension": ".py",
   "mimetype": "text/x-python",
   "name": "python",
   "nbconvert_exporter": "python",
   "pygments_lexer": "ipython3",
   "version": "3.6.3"
  }
 },
 "nbformat": 4,
 "nbformat_minor": 2
}
