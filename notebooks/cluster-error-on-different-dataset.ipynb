{
 "cells": [
  {
   "cell_type": "code",
   "execution_count": 1,
   "metadata": {
    "collapsed": true
   },
   "outputs": [],
   "source": [
    "import numpy as np\n",
    "import pandas as pd\n",
    "%matplotlib inline\n",
    "import matplotlib.pyplot as plt"
   ]
  },
  {
   "cell_type": "code",
   "execution_count": 2,
   "metadata": {
    "collapsed": true
   },
   "outputs": [],
   "source": [
    "dataid = np.load(\"./homeid_10_hourly.npy\")\n",
    "validid = np.load(\"./valid_homes_index.npy\")\n",
    "homeid = dataid[validid]"
   ]
  },
  {
   "cell_type": "code",
   "execution_count": 3,
   "metadata": {
    "collapsed": true
   },
   "outputs": [],
   "source": [
    "labels = [1, 1, 2, 1, 0, 1, 1, 1, 1, 1, 1, 1, 0, 1, 1, 1, 1, 1, 0, 0, 1, 1, 2,\n",
    "       0, 1, 1, 0, 1, 0, 2, 1, 1, 1, 1, 0, 1, 1, 0, 1, 2, 1, 1, 1, 1, 0, 2,\n",
    "       2, 0, 1, 1, 1, 2, 1, 1, 1, 1, 1, 1, 1, 1, 2, 1, 1, 1, 1, 1, 0, 1]\n",
    "cluster = {}\n",
    "for i in range(3):\n",
    "    cluster[i] = [x for x in range(68) if labels[x] == i]"
   ]
  },
  {
   "cell_type": "code",
   "execution_count": 172,
   "metadata": {},
   "outputs": [],
   "source": [
    "# prediction of three methods\n",
    "# for STF\n",
    "true_pred = np.load(\"../code/baseline/result/mtf-pred-12.npy\").item()[2]\n",
    "artificial_pred = np.load(\"../code/baseline/result/mtf-pred-12.npy\").item()[1]\n",
    "subtract_pred = np.load(\"../code/baseline/result/mtf-pred-34.npy\").item()[3]"
   ]
  },
  {
   "cell_type": "code",
   "execution_count": 173,
   "metadata": {},
   "outputs": [],
   "source": [
    "# gt\n",
    "import sys\n",
    "sys.path.append(\"../code/\")\n",
    "from dataloader import APPLIANCE_ORDER, get_train_test\n",
    "\n",
    "\n",
    "gt_tensor = np.ones([68, 5, 112, 24])\n",
    "start = 0\n",
    "for fold_num in range(5):\n",
    "    train, test = get_train_test(1, 5, fold_num)\n",
    "#     if fold_num == 0:\n",
    "#         print(test)\n",
    "    length = len(test)\n",
    "    gt_tensor[start:start+length] = test[:, 1:, : :]\n",
    "    start = start + length"
   ]
  },
  {
   "cell_type": "code",
   "execution_count": 174,
   "metadata": {},
   "outputs": [],
   "source": [
    "true_pred_tensor = np.ones([68, 5, 112, 24])\n",
    "start = 0\n",
    "for i in range(5):\n",
    "    length = len(true_pred[i])\n",
    "    true_pred_tensor[start:start+length] = true_pred[i]\n",
    "    start = start + length\n",
    "\n",
    "artificial_pred_tensor = np.ones([68, 5, 112, 24])\n",
    "start = 0\n",
    "for i in range(5):\n",
    "    length = len(artificial_pred[i])\n",
    "    artificial_pred_tensor[start:start+length] = artificial_pred[i]\n",
    "    start = start + length\n",
    "    \n",
    "subtract_pred_tensor = np.ones([68, 5, 112, 24])\n",
    "start = 0\n",
    "for i in range(5):\n",
    "    length = len(subtract_pred[i])\n",
    "    subtract_pred_tensor[start:start+length] = subtract_pred[i]\n",
    "    start = start + length\n",
    "    "
   ]
  },
  {
   "cell_type": "code",
   "execution_count": 175,
   "metadata": {
    "collapsed": true
   },
   "outputs": [],
   "source": [
    "APPLIANCE_ORDER = ['aggregate', 'hvac', 'fridge', 'dr', 'dw', 'mw']\n",
    "from sklearn.metrics import mean_absolute_error\n"
   ]
  },
  {
   "cell_type": "code",
   "execution_count": 176,
   "metadata": {},
   "outputs": [],
   "source": [
    "# for true_pred_tensor\n",
    "true_cluster_error = {}\n",
    "for c in range(3):\n",
    "#     print(cluster[i])\n",
    "    pred = true_pred_tensor[cluster[c]]\n",
    "    gt = gt_tensor[cluster[c]]\n",
    "    test_error = {APPLIANCE_ORDER[i+1]:mean_absolute_error(pred[:, i,:,:].flatten(), \n",
    "                                                       gt[:, i, :, :].flatten()) for i in range(pred.shape[1])}\n",
    "    true_cluster_error[c] = test_error"
   ]
  },
  {
   "cell_type": "code",
   "execution_count": 177,
   "metadata": {},
   "outputs": [],
   "source": [
    "# for artificial_pred_tensor\n",
    "artificial_cluster_error = {}\n",
    "for c in range(3):\n",
    "#     print(cluster[i])\n",
    "    pred = artificial_pred_tensor[cluster[c]]\n",
    "    gt = gt_tensor[cluster[c]]\n",
    "    test_error = {APPLIANCE_ORDER[i+1]:mean_absolute_error(pred[:, i,:,:].flatten(), \n",
    "                                                       gt[:, i, :, :].flatten()) for i in range(pred.shape[1])}\n",
    "    artificial_cluster_error[c] = test_error"
   ]
  },
  {
   "cell_type": "code",
   "execution_count": 178,
   "metadata": {},
   "outputs": [],
   "source": [
    "# for subtract_pred_tensor\n",
    "subtract_cluster_error = {}\n",
    "for c in range(3):\n",
    "#     print(cluster[i])\n",
    "    pred = subtract_pred_tensor[cluster[c]]\n",
    "    gt = gt_tensor[cluster[c]]\n",
    "    test_error = {APPLIANCE_ORDER[i+1]:mean_absolute_error(pred[:, i,:,:].flatten(), \n",
    "                                                       gt[:, i, :, :].flatten()) for i in range(pred.shape[1])}\n",
    "    subtract_cluster_error[c] = test_error"
   ]
  },
  {
   "cell_type": "code",
   "execution_count": 180,
   "metadata": {},
   "outputs": [
    {
     "data": {
      "text/plain": [
       "Text(0.5,1,'MTF Prediction Error of 3 Clusters on 3 Different Datasets')"
      ]
     },
     "execution_count": 180,
     "metadata": {},
     "output_type": "execute_result"
    },
    {
     "data": {
      "image/png": "[encoded data removed]",
      "text/plain": [
       "<matplotlib.figure.Figure at 0x7f23bddeeba8>"
      ]
     },
     "metadata": {},
     "output_type": "display_data"
    }
   ],
   "source": [
    "df= pd.DataFrame(true_cluster_error).mean(axis=0)\n",
    "df = pd.concat([df, pd.DataFrame(artificial_cluster_error).mean(axis=0)], axis=1)\n",
    "df = df.rename(columns={0:'true', 1:'artificial'})\n",
    "df = pd.concat([df, pd.DataFrame(subtract_cluster_error).mean(axis=0)], axis=1)\n",
    "df = df.rename(columns={0:'subtract'})\n",
    "df = df.rename(index={0:1, 1:2, 2:3})\n",
    "ax = df.plot(kind='bar')\n",
    "ax.set_xlabel(\"cluster\")\n",
    "ax.set_ylabel(\"prediction error\")\n",
    "ax.set_title('MTF Prediction Error of 3 Clusters on 3 Different Datasets')"
   ]
  }
 ],
 "metadata": {
  "kernelspec": {
   "display_name": "Python 3",
   "language": "python",
   "name": "python3"
  },
  "language_info": {
   "codemirror_mode": {
    "name": "ipython",
    "version": 3
   },
   "file_extension": ".py",
   "mimetype": "text/x-python",
   "name": "python",
   "nbconvert_exporter": "python",
   "pygments_lexer": "ipython3",
   "version": "3.6.3"
  }
 },
 "nbformat": 4,
 "nbformat_minor": 2
}
