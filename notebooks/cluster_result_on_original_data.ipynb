{
 "cells": [
  {
   "cell_type": "code",
   "execution_count": 2,
   "metadata": {
    "collapsed": true
   },
   "outputs": [],
   "source": [
    "import numpy as np\n",
    "from sklearn.cluster import KMeans"
   ]
  },
  {
   "cell_type": "code",
   "execution_count": 3,
   "metadata": {
    "collapsed": true
   },
   "outputs": [],
   "source": [
    "# tensor = np.load('../2015-5appliances-true-agg.npy')\n",
    "ag_tensor = np.load('../2015-5appliances.numpy.npy')\n",
    "true_tensor = np.load(\"../2015-5appliances-true-agg.npy\")\n",
    "from sklearn.metrics import mean_absolute_error"
   ]
  },
  {
   "cell_type": "code",
   "execution_count": 4,
   "metadata": {
    "collapsed": true
   },
   "outputs": [],
   "source": [
    "ag_agg = ag_tensor[:, 0, :, :]\n",
    "true_agg = true_tensor[:, 0, :, :]\n",
    "residual_agg = true_agg - ag_agg"
   ]
  },
  {
   "cell_type": "code",
   "execution_count": 5,
   "metadata": {
    "collapsed": true
   },
   "outputs": [],
   "source": [
    "residual_agg = residual_agg.reshape(68, -1)"
   ]
  },
  {
   "cell_type": "code",
   "execution_count": 6,
   "metadata": {},
   "outputs": [
    {
     "data": {
      "text/plain": [
       "array([1, 1, 2, 1, 0, 1, 1, 1, 1, 1, 1, 1, 0, 1, 1, 1, 1, 1, 0, 0, 1, 1, 2,\n",
       "       0, 1, 1, 0, 1, 0, 2, 1, 1, 1, 1, 0, 1, 1, 0, 1, 2, 1, 1, 1, 1, 0, 2,\n",
       "       2, 0, 1, 1, 1, 2, 1, 1, 1, 1, 1, 1, 1, 1, 2, 1, 1, 1, 1, 1, 0, 1], dtype=int32)"
      ]
     },
     "execution_count": 6,
     "metadata": {},
     "output_type": "execute_result"
    }
   ],
   "source": [
    "kmeans = KMeans(n_clusters=3, random_state=0).fit(residual_agg)\n",
    "kmeans.labels_"
   ]
  },
  {
   "cell_type": "code",
   "execution_count": 7,
   "metadata": {
    "collapsed": true
   },
   "outputs": [],
   "source": [
    "cluster = {}\n",
    "for i in range(3):\n",
    "    cluster[i] = [x for x in range(68) if kmeans.labels_[x] == i]"
   ]
  },
  {
   "cell_type": "code",
   "execution_count": 31,
   "metadata": {},
   "outputs": [],
   "source": [
    "sc_with_pred = np.load(\"../code/baseline/result/DSC-pred.npy\").item()[2]"
   ]
  },
  {
   "cell_type": "code",
   "execution_count": 32,
   "metadata": {},
   "outputs": [],
   "source": [
    "pred = sc_with_pred[0]\n",
    "for i in range(1, 5):\n",
    "    pred = np.vstack([pred, sc_with_pred[i]])"
   ]
  },
  {
   "cell_type": "code",
   "execution_count": 28,
   "metadata": {
    "collapsed": true
   },
   "outputs": [],
   "source": [
    "APPLIANCE_ORDER = ['aggregate', 'hvac', 'fridge', 'dr', 'dw', 'mw']\n"
   ]
  },
  {
   "cell_type": "code",
   "execution_count": 40,
   "metadata": {},
   "outputs": [
    {
     "name": "stdout",
     "output_type": "stream",
     "text": [
      "{'hvac': 1199.1295280102504, 'fridge': 795.25735564418096, 'dr': 79.902179731301345, 'dw': 80.053259664482624, 'mw': 31.11132486276021}\n"
     ]
    }
   ],
   "source": [
    "error = {APPLIANCE_ORDER[i+1]:mean_absolute_error(pred[:, i,:,:].flatten(), \n",
    "                                                               true_tensor[:, i, :, :].flatten()) for i in range(pred.shape[1])}\n",
    "print(error)"
   ]
  },
  {
   "cell_type": "code",
   "execution_count": 37,
   "metadata": {},
   "outputs": [
    {
     "name": "stdout",
     "output_type": "stream",
     "text": [
      "12\n",
      "{'hvac': 1490.8661539744789, 'fridge': 952.322154481859, 'dr': 87.603601510192505, 'dw': 89.294082041208341, 'mw': 36.838615441234779}\n",
      "48\n",
      "{'hvac': 849.65506297095487, 'fridge': 714.23743443746446, 'dr': 78.214919687500142, 'dw': 71.07112171213987, 'mw': 29.562563445106136}\n",
      "8\n",
      "{'hvac': 2858.3713792996823, 'fridge': 1045.7796846279614, 'dr': 78.473607325771766, 'dw': 120.08485381345062, 'mw': 31.812957500972864}\n"
     ]
    }
   ],
   "source": [
    "for i in range(3):\n",
    "    print(len(cluster[i]))\n",
    "    cluster_pred = pred[cluster[i]]\n",
    "    cluster_gt = true_tensor[cluster[i]]\n",
    "    cluster_pred = np.minimum(cluster_pred, cluster_gt[:, 0:1, :, :])\n",
    "    error = {APPLIANCE_ORDER[i+1]:mean_absolute_error(cluster_pred[:, i,:,:].flatten(), \n",
    "                                                               cluster_gt[:, i, :, :].flatten()) for i in range(cluster_pred.shape[1])}\n",
    "    print(error)"
   ]
  }
 ],
 "metadata": {
  "kernelspec": {
   "display_name": "Python 3",
   "language": "python",
   "name": "python3"
  },
  "language_info": {
   "codemirror_mode": {
    "name": "ipython",
    "version": 3
   },
   "file_extension": ".py",
   "mimetype": "text/x-python",
   "name": "python",
   "nbconvert_exporter": "python",
   "pygments_lexer": "ipython3",
   "version": "3.6.3"
  }
 },
 "nbformat": 4,
 "nbformat_minor": 2
}
