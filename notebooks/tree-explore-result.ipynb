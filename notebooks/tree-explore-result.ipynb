{
 "cells": [
  {
   "cell_type": "code",
   "execution_count": 1,
   "metadata": {
    "collapsed": true
   },
   "outputs": [],
   "source": [
    "import numpy as np\n",
    "import itertools\n",
    "from pathlib import Path\n",
    "\n"
   ]
  },
  {
   "cell_type": "code",
   "execution_count": 7,
   "metadata": {},
   "outputs": [
    {
     "name": "stdout",
     "output_type": "stream",
     "text": [
      "18987\n"
     ]
    }
   ],
   "source": [
    "gid = 0\n",
    "srv = 1\n",
    "c = 0\n",
    "cmd = {}\n",
    "\n",
    "for fold_num in range(5):\n",
    "    for cell_type in ['RNN', 'LSTM']:\n",
    "        for hidden_size in [20, 50, 100]:\n",
    "            for num_layers in [1, 2, 3, 4]:\n",
    "                for bidirectional in [True, False]:\n",
    "                    for lr in [0.001, 0.01, 0.1, 1.0]:\n",
    "                        for order in list(itertools.permutations(['hvac', 'fridge', 'dr', 'dw', 'mw'])):\n",
    "                            if (hidden_size == 100 and (num_layers == 3 or num_layers == 4 or num_layers == 2)) or (hidden_size == 50 and (num_layers == 4 or num_layers == 3)):\n",
    "                                continue\n",
    "                            o = \"\\', \\'\".join(str(x) for x in order)\n",
    "                            directory = \"../../baseline/rnn-tree-order-new/2/{}/{}/{}/{}/{}/{}/3000/0.0/\".format(fold_num, cell_type,\n",
    "                                                                                                hidden_size,\n",
    "                                                                                                num_layers,\n",
    "                                                                                                bidirectional,\n",
    "                                                                                                lr)\n",
    "                            filename = \"test-pred-{}-2-{}-{}-{}-{}-{}-3000-0.0-[\\'{}\\'].npy\".format(fold_num, cell_type, hidden_size, num_layers,\n",
    "                                                                             bidirectional, lr, o)\n",
    "                            \n",
    "                            \n",
    "                            full_path = directory + filename\n",
    "                            my_file = Path(full_path)\n",
    "                            if not my_file.exists():\n",
    "                                \n",
    "\n",
    "                                \n",
    "                                #print(hidden_size, num_layers, bidirectional, lr)\n",
    "                                o = \" \".join(str(x) for x in order)\n",
    "                                line = (\"CUDA_VISIBLE_DEVICES={} python rnn-nested-cv.py 2 {} {} {} {} {} 3000 0 {} {}\\n\".format(gid, cell_type, hidden_size, num_layers, bidirectional, lr, fold_num, o))\n",
    "                                cmd[c] = line\n",
    "#                                 with open('../code/0{}{}.sh'.format(srv, gid), 'a') as the_file:\n",
    "#                                     the_file.write(\"#!bin/bash \\n\")\n",
    "#                                     the_file.write(line)\n",
    "                                c += 1\n",
    "                                if c%2000 == 0:\n",
    "                                    gid += 1\n",
    "                                if gid == 3:\n",
    "                                    gid = 0\n",
    "                                    srv += 1\n",
    "\n",
    "print(c)                               "
   ]
  },
  {
   "cell_type": "code",
   "execution_count": 114,
   "metadata": {},
   "outputs": [
    {
     "name": "stdout",
     "output_type": "stream",
     "text": [
      "7 2\n"
     ]
    }
   ],
   "source": [
    "print(srv, gid)"
   ]
  },
  {
   "cell_type": "code",
   "execution_count": 118,
   "metadata": {
    "scrolled": false
   },
   "outputs": [
    {
     "name": "stdout",
     "output_type": "stream",
     "text": [
      "nohup sh 010.sh &> 010.out &\n",
      "nohup sh 011.sh &> 011.out &\n",
      "nohup sh 012.sh &> 012.out &\n",
      "nohup sh 020.sh &> 020.out &\n",
      "nohup sh 021.sh &> 021.out &\n",
      "nohup sh 022.sh &> 022.out &\n",
      "nohup sh 030.sh &> 030.out &\n",
      "nohup sh 031.sh &> 031.out &\n",
      "nohup sh 032.sh &> 032.out &\n",
      "nohup sh 040.sh &> 040.out &\n",
      "nohup sh 041.sh &> 041.out &\n",
      "nohup sh 042.sh &> 042.out &\n",
      "nohup sh 050.sh &> 050.out &\n",
      "nohup sh 051.sh &> 051.out &\n",
      "nohup sh 052.sh &> 052.out &\n",
      "nohup sh 060.sh &> 060.out &\n",
      "nohup sh 061.sh &> 061.out &\n",
      "nohup sh 062.sh &> 062.out &\n",
      "nohup sh 070.sh &> 070.out &\n",
      "nohup sh 071.sh &> 071.out &\n",
      "nohup sh 072.sh &> 072.out &\n"
     ]
    }
   ],
   "source": [
    "for i in range(1, 8):\n",
    "    for j in range(3):\n",
    "        print(\"nohup sh 0{}{}.sh &> 0{}{}.out &\".format(i, j, i, j))"
   ]
  },
  {
   "cell_type": "code",
   "execution_count": 107,
   "metadata": {},
   "outputs": [
    {
     "name": "stdout",
     "output_type": "stream",
     "text": [
      "ssh yj9xs@ai01.cs.virginia.edu\n",
      "ssh yj9xs@ai02.cs.virginia.edu\n",
      "ssh yj9xs@ai03.cs.virginia.edu\n",
      "ssh yj9xs@ai04.cs.virginia.edu\n",
      "ssh yj9xs@ai05.cs.virginia.edu\n",
      "ssh yj9xs@ai06.cs.virginia.edu\n"
     ]
    }
   ],
   "source": [
    "for i in range(1, 7):\n",
    "    print(\"ssh yj9xs@ai0{}.cs.virginia.edu\".format(i))"
   ]
  },
  {
   "cell_type": "code",
   "execution_count": 58,
   "metadata": {},
   "outputs": [
    {
     "data": {
      "text/plain": [
       "5600"
      ]
     },
     "execution_count": 58,
     "metadata": {},
     "output_type": "execute_result"
    }
   ],
   "source": [
    "c"
   ]
  }
 ],
 "metadata": {
  "kernelspec": {
   "display_name": "Python 3",
   "language": "python",
   "name": "python3"
  },
  "language_info": {
   "codemirror_mode": {
    "name": "ipython",
    "version": 3
   },
   "file_extension": ".py",
   "mimetype": "text/x-python",
   "name": "python",
   "nbconvert_exporter": "python",
   "pygments_lexer": "ipython3",
   "version": "3.6.3"
  }
 },
 "nbformat": 4,
 "nbformat_minor": 2
}
