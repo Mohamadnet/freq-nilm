{
 "cells": [
  {
   "cell_type": "code",
   "execution_count": 1,
   "metadata": {},
   "outputs": [],
   "source": [
    "import sys\n",
    "sys.path.append(\"../code/\")\n",
    "import numpy as np\n",
    "import pandas as pd\n",
    "from dataloader import APPLIANCE_ORDER, get_train_test\n",
    "from tensor_custom_core import stf_4dim, stf_4dim_time\n",
    "import torch\n",
    "import torch.nn as nn\n",
    "from torch.autograd import Variable\n",
    "torch.manual_seed(0)\n",
    "np.random.seed(0)"
   ]
  },
  {
   "cell_type": "code",
   "execution_count": 66,
   "metadata": {},
   "outputs": [],
   "source": [
    "class CustomRNN(nn.Module):\n",
    "    def __init__(self, cell_type, hidden_size, num_layers, bidirectional):\n",
    "        super(CustomRNN, self).__init__()\n",
    "        torch.manual_seed(0)\n",
    "\n",
    "        if bidirectional:\n",
    "            self.num_directions = 2\n",
    "        else:\n",
    "            self.num_directions = 1\n",
    "        if cell_type==\"RNN\":\n",
    "            self.rnn = nn.RNN(input_size=25, hidden_size=hidden_size,\n",
    "                   num_layers=num_layers, batch_first=True,\n",
    "                   bidirectional=bidirectional)\n",
    "        elif cell_type==\"GRU\":\n",
    "            self.rnn = nn.GRU(input_size=25, hidden_size=hidden_size,\n",
    "                              num_layers=num_layers, batch_first=True,\n",
    "                              bidirectional=bidirectional)\n",
    "        else:\n",
    "            self.rnn = nn.LSTM(input_size=25, hidden_size=hidden_size,\n",
    "                              num_layers=num_layers, batch_first=True,\n",
    "                              bidirectional=bidirectional)\n",
    "\n",
    "        self.linear = nn.Linear(hidden_size*self.num_directions, 1 )\n",
    "        self.act = nn.ReLU()\n",
    "\n",
    "    def forward(self, x):\n",
    "        pred, hidden = self.rnn(x, None)\n",
    "        pred = self.linear(pred)\n",
    "        \n",
    "        #pred = pred[:, :, 23:24]\n",
    "        #pred = self.act(pred)\n",
    "        #pred = torch.clamp(pred, min=0.)\n",
    "        #pred = self.act(pred)\n",
    "        #pred = torch.min(pred, x)\n",
    "        return pred\n",
    "\n",
    "\n",
    "num_folds = 5\n",
    "\n",
    "if torch.cuda.is_available():\n",
    "    cuda_av = True\n",
    "else:\n",
    "    cuda_av=False"
   ]
  },
  {
   "cell_type": "code",
   "execution_count": 67,
   "metadata": {},
   "outputs": [
    {
     "data": {
      "text/plain": [
       "CustomRNN (\n",
       "  (rnn): GRU(25, 100, batch_first=True)\n",
       "  (linear): Linear (100 -> 1)\n",
       "  (act): ReLU ()\n",
       ")"
      ]
     },
     "execution_count": 67,
     "metadata": {},
     "output_type": "execute_result"
    }
   ],
   "source": [
    "c = CustomRNN('GRU',100, 1, False)\n",
    "c"
   ]
  },
  {
   "cell_type": "code",
   "execution_count": 68,
   "metadata": {},
   "outputs": [],
   "source": [
    "fold_num = 0\n",
    "num_folds = 5\n",
    "cell_type=\"GRU\"\n",
    "hidden_size = 100\n",
    "lr = 1\n",
    "bidirectional = False\n",
    "appliance = \"dr\""
   ]
  },
  {
   "cell_type": "code",
   "execution_count": 69,
   "metadata": {},
   "outputs": [],
   "source": [
    "from sklearn.preprocessing import OneHotEncoder"
   ]
  },
  {
   "cell_type": "code",
   "execution_count": 70,
   "metadata": {},
   "outputs": [],
   "source": [
    "oh = OneHotEncoder()"
   ]
  },
  {
   "cell_type": "code",
   "execution_count": 71,
   "metadata": {},
   "outputs": [],
   "source": [
    "d=pd.DataFrame(oh.fit_transform(np.array(range(1, 25)).reshape(-1, 1)).toarray())\n"
   ]
  },
  {
   "cell_type": "code",
   "execution_count": 72,
   "metadata": {},
   "outputs": [],
   "source": [
    "torch.manual_seed(0)\n",
    "\n",
    "appliance_num = APPLIANCE_ORDER.index(appliance)\n",
    "train, test = get_train_test(num_folds=num_folds, fold_num=fold_num)\n",
    "train_aggregate = train[:, 0, :, :].reshape(-1, 24, 1)\n",
    "test_aggregate = test[:, 0, :, :].reshape(-1, 24, 1)\n",
    "\n",
    "train_appliance = train[:, appliance_num, :, :].reshape(-1, 24, 1)\n",
    "test_appliance = test[:, appliance_num, :, :].reshape(-1, 24, 1)\n",
    "   "
   ]
  },
  {
   "cell_type": "code",
   "execution_count": 73,
   "metadata": {},
   "outputs": [],
   "source": [
    "train_aggregate_time = np.zeros((train_aggregate.shape[0], 24, 25))\n",
    "for home in range(train_aggregate.shape[0]):\n",
    "    temp = d.copy()\n",
    "    temp['power'] = train_aggregate[home, :, :]\n",
    "    train_aggregate_time[home, :, :] = temp.values\n",
    "    "
   ]
  },
  {
   "cell_type": "code",
   "execution_count": 74,
   "metadata": {},
   "outputs": [
    {
     "data": {
      "text/plain": [
       "(6048, 24, 25)"
      ]
     },
     "execution_count": 74,
     "metadata": {},
     "output_type": "execute_result"
    }
   ],
   "source": [
    "train_aggregate_time.shape"
   ]
  },
  {
   "cell_type": "code",
   "execution_count": 75,
   "metadata": {},
   "outputs": [],
   "source": [
    "loss_func = nn.L1Loss()\n",
    "r = CustomRNN(cell_type, hidden_size, 1, bidirectional)\n",
    "\n",
    "if cuda_av:\n",
    "    r = r.cuda()\n",
    "    loss_func = loss_func.cuda()\n",
    "\n",
    "optimizer = torch.optim.Adam(r.parameters(), lr=lr)"
   ]
  },
  {
   "cell_type": "code",
   "execution_count": 76,
   "metadata": {},
   "outputs": [
    {
     "data": {
      "text/plain": [
       "torch.Size([6048, 24, 1])"
      ]
     },
     "execution_count": 76,
     "metadata": {},
     "output_type": "execute_result"
    }
   ],
   "source": [
    "pred.size()"
   ]
  },
  {
   "cell_type": "code",
   "execution_count": 77,
   "metadata": {},
   "outputs": [
    {
     "ename": "ValueError",
     "evalue": "result of slicing is an empty tensor",
     "output_type": "error",
     "traceback": [
      "\u001b[0;31m---------------------------------------------------------------------------\u001b[0m",
      "\u001b[0;31mValueError\u001b[0m                                Traceback (most recent call last)",
      "\u001b[0;32m<ipython-input-77-4ad8c7322b32>\u001b[0m in \u001b[0;36m<module>\u001b[0;34m()\u001b[0m\n\u001b[0;32m----> 1\u001b[0;31m \u001b[0mpred\u001b[0m\u001b[0;34m[\u001b[0m\u001b[0;34m:\u001b[0m\u001b[0;34m,\u001b[0m \u001b[0;34m:\u001b[0m\u001b[0;34m,\u001b[0m \u001b[0;36m23\u001b[0m\u001b[0;34m:\u001b[0m\u001b[0;36m24\u001b[0m\u001b[0;34m]\u001b[0m\u001b[0;34m\u001b[0m\u001b[0m\n\u001b[0m",
      "\u001b[0;32m~/anaconda3/lib/python3.6/site-packages/torch/autograd/variable.py\u001b[0m in \u001b[0;36m__getitem__\u001b[0;34m(self, key)\u001b[0m\n\u001b[1;32m     74\u001b[0m                 \u001b[0;32mreturn\u001b[0m \u001b[0mIndexSelect\u001b[0m\u001b[0;34m.\u001b[0m\u001b[0mapply\u001b[0m\u001b[0;34m(\u001b[0m\u001b[0mself\u001b[0m\u001b[0;34m,\u001b[0m \u001b[0;36m0\u001b[0m\u001b[0;34m,\u001b[0m \u001b[0mkey\u001b[0m\u001b[0;34m)\u001b[0m\u001b[0;34m\u001b[0m\u001b[0m\n\u001b[1;32m     75\u001b[0m             \u001b[0;31m# else fall through and raise an error in Index\u001b[0m\u001b[0;34m\u001b[0m\u001b[0;34m\u001b[0m\u001b[0m\n\u001b[0;32m---> 76\u001b[0;31m         \u001b[0;32mreturn\u001b[0m \u001b[0mIndex\u001b[0m\u001b[0;34m.\u001b[0m\u001b[0mapply\u001b[0m\u001b[0;34m(\u001b[0m\u001b[0mself\u001b[0m\u001b[0;34m,\u001b[0m \u001b[0mkey\u001b[0m\u001b[0;34m)\u001b[0m\u001b[0;34m\u001b[0m\u001b[0m\n\u001b[0m\u001b[1;32m     77\u001b[0m \u001b[0;34m\u001b[0m\u001b[0m\n\u001b[1;32m     78\u001b[0m     \u001b[0;32mdef\u001b[0m \u001b[0m__setitem__\u001b[0m\u001b[0;34m(\u001b[0m\u001b[0mself\u001b[0m\u001b[0;34m,\u001b[0m \u001b[0mkey\u001b[0m\u001b[0;34m,\u001b[0m \u001b[0mvalue\u001b[0m\u001b[0;34m)\u001b[0m\u001b[0;34m:\u001b[0m\u001b[0;34m\u001b[0m\u001b[0m\n",
      "\u001b[0;32m~/anaconda3/lib/python3.6/site-packages/torch/autograd/_functions/tensor.py\u001b[0m in \u001b[0;36mforward\u001b[0;34m(ctx, i, index)\u001b[0m\n\u001b[1;32m     14\u001b[0m         \u001b[0mctx\u001b[0m\u001b[0;34m.\u001b[0m\u001b[0minput_size\u001b[0m \u001b[0;34m=\u001b[0m \u001b[0mi\u001b[0m\u001b[0;34m.\u001b[0m\u001b[0msize\u001b[0m\u001b[0;34m(\u001b[0m\u001b[0;34m)\u001b[0m\u001b[0;34m\u001b[0m\u001b[0m\n\u001b[1;32m     15\u001b[0m         \u001b[0mctx\u001b[0m\u001b[0;34m.\u001b[0m\u001b[0mindex\u001b[0m \u001b[0;34m=\u001b[0m \u001b[0mindex\u001b[0m\u001b[0;34m\u001b[0m\u001b[0m\n\u001b[0;32m---> 16\u001b[0;31m         \u001b[0mresult\u001b[0m \u001b[0;34m=\u001b[0m \u001b[0mi\u001b[0m\u001b[0;34m.\u001b[0m\u001b[0mindex\u001b[0m\u001b[0;34m(\u001b[0m\u001b[0mctx\u001b[0m\u001b[0;34m.\u001b[0m\u001b[0mindex\u001b[0m\u001b[0;34m)\u001b[0m\u001b[0;34m\u001b[0m\u001b[0m\n\u001b[0m\u001b[1;32m     17\u001b[0m         \u001b[0mctx\u001b[0m\u001b[0;34m.\u001b[0m\u001b[0madvanced_indexing\u001b[0m \u001b[0;34m=\u001b[0m \u001b[0mi\u001b[0m\u001b[0;34m.\u001b[0m\u001b[0m_check_advanced_indexing\u001b[0m\u001b[0;34m(\u001b[0m\u001b[0mindex\u001b[0m\u001b[0;34m)\u001b[0m\u001b[0;34m\u001b[0m\u001b[0m\n\u001b[1;32m     18\u001b[0m         \u001b[0;32mif\u001b[0m \u001b[0;32mnot\u001b[0m \u001b[0mctx\u001b[0m\u001b[0;34m.\u001b[0m\u001b[0madvanced_indexing\u001b[0m\u001b[0;34m:\u001b[0m\u001b[0;34m\u001b[0m\u001b[0m\n",
      "\u001b[0;31mValueError\u001b[0m: result of slicing is an empty tensor"
     ]
    }
   ],
   "source": [
    "pred[:, :, 23:24]"
   ]
  },
  {
   "cell_type": "code",
   "execution_count": 78,
   "metadata": {},
   "outputs": [
    {
     "name": "stdout",
     "output_type": "stream",
     "text": [
      "0 71.59637451171875\n",
      "1 90.98584747314453\n",
      "2 93.04279327392578\n",
      "3 74.61920166015625\n",
      "4 71.3032455444336\n",
      "5 78.37008666992188\n",
      "6 72.1739273071289\n",
      "7 71.57890319824219\n",
      "8 77.93737030029297\n",
      "9 72.68170166015625\n"
     ]
    }
   ],
   "source": [
    "num_iterations=10\n",
    "for t in range(num_iterations):\n",
    "\n",
    "    inp = Variable(torch.Tensor(train_aggregate_time), requires_grad=True)\n",
    "    train_y = Variable(torch.Tensor(train_appliance))\n",
    "    if cuda_av:\n",
    "        inp = inp.cuda()\n",
    "        train_y = train_y.cuda()\n",
    "    pred = r(inp)\n",
    "\n",
    "    optimizer.zero_grad()\n",
    "    loss = loss_func(pred, train_y)\n",
    "    if t % 1 == 0:\n",
    "        print(t, loss.data[0])\n",
    "    loss.backward()\n",
    "    optimizer.step()\n",
    "    \n",
    "    "
   ]
  },
  {
   "cell_type": "code",
   "execution_count": 79,
   "metadata": {},
   "outputs": [
    {
     "data": {
      "text/plain": [
       "Variable containing:\n",
       "( 0  ,.,.) = \n",
       "  -1.6251\n",
       "  -1.6251\n",
       "  -1.6251\n",
       "    ⋮    \n",
       "  -1.6251\n",
       "  -1.6251\n",
       "  -1.6251\n",
       "\n",
       "( 1  ,.,.) = \n",
       "  -1.6251\n",
       "  -1.6251\n",
       "  -1.6251\n",
       "    ⋮    \n",
       "  -1.6251\n",
       "  -1.6251\n",
       "  -1.6251\n",
       "\n",
       "( 2  ,.,.) = \n",
       "  -1.6251\n",
       "  -1.6251\n",
       "  -1.6251\n",
       "    ⋮    \n",
       "  -1.6251\n",
       "  -1.6251\n",
       "  -1.6251\n",
       " ... \n",
       "\n",
       "(6045,.,.) = \n",
       "  -1.6251\n",
       "  -1.6251\n",
       "  -1.6251\n",
       "    ⋮    \n",
       "  -1.6251\n",
       "  -1.6251\n",
       "  -1.6251\n",
       "\n",
       "(6046,.,.) = \n",
       "  -1.6251\n",
       "  -1.6251\n",
       "  -1.6251\n",
       "    ⋮    \n",
       "  -1.6251\n",
       "  -1.6251\n",
       "  -1.6251\n",
       "\n",
       "(6047,.,.) = \n",
       "  -1.6251\n",
       "  -1.6251\n",
       "  -1.6251\n",
       "    ⋮    \n",
       "  -1.6251\n",
       "  -1.6251\n",
       "  -1.6251\n",
       "[torch.FloatTensor of size 6048x24x1]"
      ]
     },
     "execution_count": 79,
     "metadata": {},
     "output_type": "execute_result"
    }
   ],
   "source": [
    "pred"
   ]
  },
  {
   "cell_type": "code",
   "execution_count": null,
   "metadata": {},
   "outputs": [],
   "source": [
    "    test_inp = Variable(torch.Tensor(test_aggregate), requires_grad=False)\n",
    "    test_y = Variable(torch.Tensor(test_appliance), requires_grad=False)\n",
    "    if cuda_av:\n",
    "        test_inp = test_inp.cuda()\n",
    "    pred = r(test_inp)\n",
    "    #pred[pred<0.] = 0.\n",
    "    pred = torch.clamp(pred, min=0.)\n",
    "    if cuda_av:\n",
    "        prediction_fold = pred.cpu().data.numpy()\n",
    "    else:\n",
    "        prediction_fold = pred.data.numpy()"
   ]
  },
  {
   "cell_type": "code",
   "execution_count": null,
   "metadata": {},
   "outputs": [],
   "source": [
    "gts = []\n",
    "preds = []\n",
    "\n",
    "def disagg_fold(fold_num, appliance, cell_type, hidden_size,\n",
    "                num_layers, bidirectional, lr,\n",
    "                num_iterations):\n",
    "    torch.manual_seed(0)\n",
    "\n",
    "    appliance_num = APPLIANCE_ORDER.index(appliance)\n",
    "    train, test = get_train_test(num_folds=num_folds, fold_num=fold_num)\n",
    "    train_aggregate = train[:, 0, :, :].reshape(-1, 24, 1)\n",
    "    test_aggregate = test[:, 0, :, :].reshape(-1, 24, 1)\n",
    "\n",
    "    train_appliance = train[:, appliance_num, :, :].reshape(-1, 24, 1)\n",
    "    test_appliance = test[:, appliance_num, :, :].reshape(-1, 24, 1)\n",
    "    gts.append(test_appliance.reshape(-1, 24))\n",
    "    loss_func = nn.L1Loss()\n",
    "    r = CustomRNN(cell_type, hidden_size, num_layers, bidirectional)\n",
    "\n",
    "    if cuda_av:\n",
    "        r = r.cuda()\n",
    "        loss_func = loss_func.cuda()\n",
    "\n",
    "    # Setting the params all to be non-negative\n",
    "    #for param in r.parameters():\n",
    "    #    param.data = param.data.abs()\n",
    "\n",
    "    optimizer = torch.optim.Adam(r.parameters(), lr=lr)\n",
    "\n",
    "    for t in range(num_iterations):\n",
    "\n",
    "        inp = Variable(torch.Tensor(train_aggregate), requires_grad=True)\n",
    "        train_y = Variable(torch.Tensor(train_appliance))\n",
    "        if cuda_av:\n",
    "            inp = inp.cuda()\n",
    "            train_y = train_y.cuda()\n",
    "        pred = r(inp)\n",
    "\n",
    "        optimizer.zero_grad()\n",
    "        loss = loss_func(pred, train_y)\n",
    "        if t % 5 == 0:\n",
    "            print(t, loss.data[0])\n",
    "        loss.backward()\n",
    "        optimizer.step()\n",
    "\n",
    "    test_inp = Variable(torch.Tensor(test_aggregate), requires_grad=False)\n",
    "    test_y = Variable(torch.Tensor(test_appliance), requires_grad=False)\n",
    "    if cuda_av:\n",
    "        test_inp = test_inp.cuda()\n",
    "    pred = r(test_inp)\n",
    "    #pred[pred<0.] = 0.\n",
    "    pred = torch.clamp(pred, min=0.)\n",
    "    if cuda_av:\n",
    "        prediction_fold = pred.cpu().data.numpy()\n",
    "    else:\n",
    "        prediction_fold = pred.data.numpy()\n",
    "    return prediction_fold, test_appliance\n",
    "\n",
    "def disagg(appliance, cell_type, hidden_size, num_layers, bidirectional, lr, num_iterations):\n",
    "    from sklearn.metrics import mean_absolute_error\n",
    "    preds = []\n",
    "    gts = []\n",
    "    for cur_fold in range(num_folds):\n",
    "        pred, gt = disagg_fold(cur_fold, appliance, cell_type, hidden_size, num_layers\n",
    "                               ,bidirectional, lr, num_iterations)\n",
    "\n",
    "        preds.append(pred)\n",
    "        gts.append(gt)\n",
    "    return mean_absolute_error(np.concatenate(gts).flatten(), np.concatenate(preds).flatten())\n",
    "\n",
    "appliance = \"hvac\"\n",
    "cell_type=\"GRU\" # One of GRU, LSTM, RNN\n",
    "hidden_size=100 # [20, 50, 100, 150]\n",
    "num_layers=1  # [1, 2, 3, 4]\n",
    "bidirectional=False # True or False\n",
    "lr =1 # 1e-3, 1e-2, 1e-1, 1, 2\n",
    "num_iterations = 20 #200, 400, 600, 800\n",
    "\n",
    "appliance, cell_type, hidden_size, num_layers, bidirectional, lr, num_iterations = sys.argv[1:]\n",
    "hidden_size = int(hidden_size)\n",
    "num_layers = int(num_layers)\n",
    "lr = float(lr)\n",
    "num_iterations = int(num_iterations)\n",
    "\n",
    "p = disagg(appliance, cell_type, hidden_size, num_layers,\n",
    "                bidirectional, lr, num_iterations)\n",
    "\n",
    "import pickle\n",
    "pickle.dump(p, open(\"./baseline/rnn-individual-baseline-result/rnn-individual-{}-{}-{}-{}-{}-{}-{}.pkl\".format(appliance,\n",
    "\t\t\t\t\t\tcell_type, hidden_size, num_layers, bidirectional, lr, num_iterations), \"wb\"))"
   ]
  }
 ],
 "metadata": {
  "kernelspec": {
   "display_name": "Python 3",
   "language": "python",
   "name": "python3"
  },
  "language_info": {
   "codemirror_mode": {
    "name": "ipython",
    "version": 3
   },
   "file_extension": ".py",
   "mimetype": "text/x-python",
   "name": "python",
   "nbconvert_exporter": "python",
   "pygments_lexer": "ipython3",
   "version": "3.6.3"
  }
 },
 "nbformat": 4,
 "nbformat_minor": 2
}
