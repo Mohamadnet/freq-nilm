{
 "cells": [
  {
   "cell_type": "code",
   "execution_count": 1,
   "metadata": {
    "collapsed": true
   },
   "outputs": [],
   "source": [
    "import pandas as pd\n",
    "import sys\n",
    "import numpy as np\n",
    "import matplotlib.pyplot as plt\n",
    "sys.path.append('../code/')\n",
    "%matplotlib inline\n",
    "import itertools\n",
    "from pathlib import Path"
   ]
  },
  {
   "cell_type": "code",
   "execution_count": 2,
   "metadata": {},
   "outputs": [
    {
     "data": {
      "text/plain": [
       "array({1500: {'fridge': 26.916928397174093, 'dr': 56.463557797157137, 'hvac': 239.80102848125694, 'dw': 9.5109570990965544, 'mw': 12.706101665673406}, 3000: {'fridge': 26.996038848844453, 'dr': 52.158697541693634, 'hvac': 129.40611733080101, 'dw': 9.5216165350374169, 'mw': 12.800202782522446}, 4500: {'fridge': 30.51869570790349, 'dr': 51.403742134129608, 'hvac': 91.701091649247431, 'dw': 9.5216082735777636, 'mw': 12.701820872831837}, 6000: {'fridge': 32.721179308106862, 'dr': 51.437949194513486, 'hvac': 85.284771740319286, 'dw': 9.5186222608528031, 'mw': 12.818615050322139}}, dtype=object)"
      ]
     },
     "execution_count": 2,
     "metadata": {},
     "output_type": "execute_result"
    }
   ],
   "source": [
    "np.load(\"../code/baseline/cnn-rnn-tree/1/4/GRU/50/2/True/0.01/6000/0.0/test-error-['fridge', 'dr', 'hvac', 'dw', 'mw'].npy\")"
   ]
  }
 ],
 "metadata": {
  "kernelspec": {
   "display_name": "Python 3",
   "language": "python",
   "name": "python3"
  },
  "language_info": {
   "codemirror_mode": {
    "name": "ipython",
    "version": 3
   },
   "file_extension": ".py",
   "mimetype": "text/x-python",
   "name": "python",
   "nbconvert_exporter": "python",
   "pygments_lexer": "ipython3",
   "version": "3.6.3"
  }
 },
 "nbformat": 4,
 "nbformat_minor": 2
}
