{
 "cells": [
  {
   "cell_type": "code",
   "execution_count": 41,
   "metadata": {
    "collapsed": true
   },
   "outputs": [],
   "source": [
    "import numpy as np\n",
    "import pandas as pd"
   ]
  },
  {
   "cell_type": "markdown",
   "metadata": {},
   "source": [
    "# STF"
   ]
  },
  {
   "cell_type": "code",
   "execution_count": 5,
   "metadata": {},
   "outputs": [],
   "source": [
    "\n",
    "r = {}\n",
    "mean_r = {}\n",
    "for dataset in [3, 4]:\n",
    "    r[dataset] = {}\n",
    "    mean_r[dataset] = {}\n",
    "    for cur_fold in range(5):\n",
    "        r[dataset][cur_fold] = {}\n",
    "        mean_r[dataset][cur_fold] = {}\n",
    "        for num_latent in range(1, 21):\n",
    "            r[dataset][cur_fold][num_latent] = {}\n",
    "            mean_r[dataset][cur_fold][num_latent] = {}\n",
    "            for lr in [0.01, 0.1 ,1 ,2]:\n",
    "                lr = float(lr)\n",
    "                r[dataset][cur_fold][num_latent][lr] = {}\n",
    "                mean_r[dataset][cur_fold][num_latent][lr] = {}\n",
    "                for iters in range(100, 2600, 400):\n",
    "                    try:\n",
    "                        r[dataset][cur_fold][num_latent][lr][iters] = np.load(\"../code/baseline/stf/{}/valid/stf-error-{}-{}-{}-{}-{}.npy\".format(dataset, dataset, cur_fold, num_latent, lr, iters)).item()\n",
    "                        mean_r[dataset][cur_fold][num_latent][lr][iters] = pd.Series(r[dataset][cur_fold][num_latent][lr][iters]).mean()\n",
    "                    except:\n",
    "                        print(\"python baseline-stf-nested-valid.py {} {} {} {} {}\".format(dataset, cur_fold, num_latent, lr, iters))"
   ]
  },
  {
   "cell_type": "code",
   "execution_count": 6,
   "metadata": {
    "collapsed": true
   },
   "outputs": [],
   "source": [
    "best_result = {}\n",
    "best_param = {}\n",
    "best_mean = {}\n",
    "for dataset in [3, 4]:\n",
    "    best_result[dataset] = {}\n",
    "    best_mean[dataset] = {}\n",
    "    best_param[dataset] = {}\n",
    "    for cur_fold in range(5):\n",
    "        best_result[dataset][cur_fold] = {} \n",
    "        best_param[dataset][cur_fold] = {}"
   ]
  },
  {
   "cell_type": "code",
   "execution_count": null,
   "metadata": {
    "collapsed": true
   },
   "outputs": [],
   "source": [
    "for cluster in [1, 2, 3]:\n",
    "    for cur_fold in range(5):\n",
    "        \n",
    "        #find the best\n",
    "        best_error = np.Inf\n",
    "        for num_latent in range(1, 21):\n",
    "            for lr in [0.01, 0.1, 1, 2]:\n",
    "                lr = float(lr)\n",
    "                for iters in range(100, 2600, 400):\n",
    "                    error = mean_r[cluster][cur_fold][num_latent][lr][iters]\n",
    "                    if error < best_error:\n",
    "                        best_error = error\n",
    "                        best_lr = lr\n",
    "                        best_iters = iters\n",
    "                        best_latent = num_latent\n",
    "        \n",
    "        best_param[cluster][cur_fold]['num_latent'] = best_latent\n",
    "        best_param[cluster][cur_fold]['iters'] = best_iters\n",
    "        best_param[cluster][cur_fold]['lr'] = best_lr\n",
    "\n",
    "\n",
    "        \n",
    "        best_result[cluster][cur_fold] = r[cluster][cur_fold][best_latent][best_lr][best_iters]\n",
    "        best_mean[cluster][cur_fold] = mean_r[cluster][cur_fold][best_latent][best_lr][best_iters]"
   ]
  },
  {
   "cell_type": "code",
   "execution_count": 7,
   "metadata": {
    "collapsed": true
   },
   "outputs": [],
   "source": [
    "for dataset in [3, 4]:\n",
    "    for cur_fold in range(5):\n",
    "        \n",
    "        #find the best\n",
    "        best_error = np.Inf\n",
    "        for num_latent in range(1, 21):\n",
    "            for lr in [0.01, 0.1, 1, 2]:\n",
    "                lr = float(lr)\n",
    "                for iters in range(100, 2600, 400):\n",
    "                    error = mean_r[dataset][cur_fold][num_latent][lr][iters]\n",
    "                    if error < best_error:\n",
    "                        best_error = error\n",
    "                        best_lr = lr\n",
    "                        best_iters = iters\n",
    "                        best_latent = num_latent\n",
    "        \n",
    "        best_param[dataset][cur_fold]['num_latent'] = best_latent\n",
    "        best_param[dataset][cur_fold]['iters'] = best_iters\n",
    "        best_param[dataset][cur_fold]['lr'] = best_lr\n",
    "\n",
    "\n",
    "        \n",
    "        best_result[dataset][cur_fold] = r[dataset][cur_fold][best_latent][best_lr][best_iters]\n",
    "        best_mean[dataset][cur_fold] = mean_r[dataset][cur_fold][best_latent][best_lr][best_iters]"
   ]
  },
  {
   "cell_type": "code",
   "execution_count": 12,
   "metadata": {},
   "outputs": [],
   "source": [
    "np.save(\"../code/baseline/result/stf-param-34.npy\", best_param)"
   ]
  },
  {
   "cell_type": "code",
   "execution_count": 14,
   "metadata": {},
   "outputs": [
    {
     "name": "stdout",
     "output_type": "stream",
     "text": [
      "python baseline-stf-nested.py 3 0 12 1.0 2500 &\n",
      "python baseline-stf-nested.py 3 1 12 1.0 2500 &\n",
      "python baseline-stf-nested.py 3 2 16 2.0 2100 &\n",
      "python baseline-stf-nested.py 3 3 18 2.0 1300 &\n",
      "python baseline-stf-nested.py 3 4 19 2.0 500 &\n",
      "python baseline-stf-nested.py 4 0 19 2.0 500 &\n",
      "python baseline-stf-nested.py 4 1 12 1.0 2500 &\n",
      "python baseline-stf-nested.py 4 2 19 2.0 1700 &\n",
      "python baseline-stf-nested.py 4 3 15 1.0 1700 &\n",
      "python baseline-stf-nested.py 4 4 17 2.0 100 &\n"
     ]
    }
   ],
   "source": [
    "for dataset in [3, 4]:\n",
    "    for cur_fold in range(5):\n",
    "        num_latent = best_param[dataset][cur_fold]['num_latent']\n",
    "        iters = best_param[dataset][cur_fold]['iters']\n",
    "        lr = best_param[dataset][cur_fold]['lr'] \n",
    "        \n",
    "        print(\"python baseline-stf-nested.py {} {} {} {} {} &\".format(dataset, cur_fold, num_latent, lr, iters))"
   ]
  },
  {
   "cell_type": "markdown",
   "metadata": {},
   "source": [
    "# MTF"
   ]
  },
  {
   "cell_type": "code",
   "execution_count": 11,
   "metadata": {
    "collapsed": true
   },
   "outputs": [],
   "source": [
    "r = {}\n",
    "mean_r = {}\n",
    "for dataset in [3, 4]:\n",
    "    r[dataset] = {}\n",
    "    mean_r[dataset] = {}\n",
    "    for cur_fold in range(5):\n",
    "        r[dataset][cur_fold] = {}\n",
    "        mean_r[dataset][cur_fold] = {}\n",
    "        for num_latent in range(1, 21):\n",
    "            r[dataset][cur_fold][num_latent] = {}\n",
    "            mean_r[dataset][cur_fold][num_latent] = {}\n",
    "            for lr in [0.01, 0.1 ,1 ,2]:\n",
    "                lr = float(lr)\n",
    "                r[dataset][cur_fold][num_latent][lr] = {}\n",
    "                mean_r[dataset][cur_fold][num_latent][lr] = {}\n",
    "                for iters in range(100, 2600, 400):\n",
    "                    try:\n",
    "                        r[dataset][cur_fold][num_latent][lr][iters] = np.load(\"../code/baseline/mtf/{}/valid/mtf-error-{}-{}-{}-{}-{}.npy\".format(dataset, dataset, cur_fold, num_latent, lr, iters)).item()\n",
    "                        mean_r[dataset][cur_fold][num_latent][lr][iters] = pd.Series(r[dataset][cur_fold][num_latent][lr][iters]).mean()\n",
    "                    except:\n",
    "                        print(\"python baseline-mtf-nested-valid.py {} {} {} {} {}\".format(dataset, cur_fold, num_latent, lr, iters))"
   ]
  },
  {
   "cell_type": "code",
   "execution_count": 15,
   "metadata": {
    "collapsed": true
   },
   "outputs": [],
   "source": [
    "best_result = {}\n",
    "best_param = {}\n",
    "best_mean = {}\n",
    "for dataset in [3, 4]:\n",
    "    best_result[dataset] = {}\n",
    "    best_mean[dataset] = {}\n",
    "    best_param[dataset] = {}\n",
    "    for cur_fold in range(5):\n",
    "        best_result[dataset][cur_fold] = {} \n",
    "        best_param[dataset][cur_fold] = {}"
   ]
  },
  {
   "cell_type": "code",
   "execution_count": 17,
   "metadata": {},
   "outputs": [],
   "source": [
    "for dataset in [3, 4]:\n",
    "    for cur_fold in range(5):\n",
    "        \n",
    "        #find the best\n",
    "        best_error = np.Inf\n",
    "        for num_latent in range(1, 21):\n",
    "            for lr in [0.01, 0.1, 1, 2]:\n",
    "                lr = float(lr)\n",
    "                for iters in range(100, 2600, 400):\n",
    "                    error = mean_r[dataset][cur_fold][num_latent][lr][iters]\n",
    "                    if error < best_error:\n",
    "                        best_error = error\n",
    "                        best_lr = lr\n",
    "                        best_iters = iters\n",
    "                        best_latent = num_latent\n",
    "        \n",
    "        best_param[dataset][cur_fold]['num_latent'] = best_latent\n",
    "        best_param[dataset][cur_fold]['iters'] = best_iters\n",
    "        best_param[dataset][cur_fold]['lr'] = best_lr\n",
    "\n",
    "\n",
    "        \n",
    "        best_result[dataset][cur_fold] = r[dataset][cur_fold][best_latent][best_lr][best_iters]\n",
    "        best_mean[dataset][cur_fold] = mean_r[dataset][cur_fold][best_latent][best_lr][best_iters]"
   ]
  },
  {
   "cell_type": "code",
   "execution_count": 18,
   "metadata": {
    "collapsed": true
   },
   "outputs": [],
   "source": [
    "np.save(\"../code/baseline/result/mtf-param-34.npy\", best_param)"
   ]
  },
  {
   "cell_type": "code",
   "execution_count": 19,
   "metadata": {},
   "outputs": [
    {
     "name": "stdout",
     "output_type": "stream",
     "text": [
      "python baseline-mtf-nested.py 3 0 17 1.0 2100 &\n",
      "python baseline-mtf-nested.py 3 1 15 2.0 2100 &\n",
      "python baseline-mtf-nested.py 3 2 7 2.0 100 &\n",
      "python baseline-mtf-nested.py 3 3 19 2.0 2500 &\n",
      "python baseline-mtf-nested.py 3 4 11 1.0 1700 &\n",
      "python baseline-mtf-nested.py 4 0 10 2.0 100 &\n",
      "python baseline-mtf-nested.py 4 1 19 1.0 1700 &\n",
      "python baseline-mtf-nested.py 4 2 7 2.0 100 &\n",
      "python baseline-mtf-nested.py 4 3 20 2.0 2500 &\n",
      "python baseline-mtf-nested.py 4 4 19 1.0 900 &\n"
     ]
    }
   ],
   "source": [
    "for dataset in [3, 4]:\n",
    "    for cur_fold in range(5):\n",
    "        num_latent = best_param[dataset][cur_fold]['num_latent']\n",
    "        iters = best_param[dataset][cur_fold]['iters']\n",
    "        lr = best_param[dataset][cur_fold]['lr'] \n",
    "        \n",
    "        print(\"python baseline-mtf-nested.py {} {} {} {} {} &\".format(dataset, cur_fold, num_latent, lr, iters))"
   ]
  },
  {
   "cell_type": "markdown",
   "metadata": {},
   "source": [
    "# Baseline results"
   ]
  },
  {
   "cell_type": "code",
   "execution_count": 42,
   "metadata": {
    "collapsed": true
   },
   "outputs": [],
   "source": [
    "param = {}\n",
    "param['stf'] = np.load(\"../code/baseline/result/stf-param-34.npy\").item()\n",
    "param['mtf'] = np.load(\"../code/baseline/result/mtf-param-34.npy\").item()"
   ]
  },
  {
   "cell_type": "code",
   "execution_count": 44,
   "metadata": {},
   "outputs": [],
   "source": [
    "r = {}\n",
    "mean_r = {}\n",
    "pred = {}\n",
    "\n",
    "for method in ['stf', 'mtf']:\n",
    "    r[method] = {}\n",
    "    mean_r[method] = {}\n",
    "    pred[method] = {}\n",
    "    for dataset in [3, 4]:\n",
    "        r[method][dataset] = {}\n",
    "        mean_r[method][dataset] = {}\n",
    "        pred[method][dataset] = {}\n",
    "        for cur_fold in range(5):\n",
    "            num_latent = param[method][dataset][cur_fold]['num_latent']\n",
    "            iters = param[method][dataset][cur_fold]['iters']\n",
    "            lr = param[method][dataset][cur_fold]['lr']\n",
    "            \n",
    "            pred[method][dataset][cur_fold] = np.load(\"../code/baseline/{}/{}/test/{}-test-pred-{}-{}-{}-{}-{}.npy\".format(method, dataset, method, dataset, cur_fold, num_latent, lr, iters))\n",
    "            r[method][dataset][cur_fold] = np.load(\"../code/baseline/{}/{}/test/{}-test-error-{}-{}-{}-{}-{}.npy\".format(method, dataset, method, dataset, cur_fold, num_latent, lr, iters)).item()\n",
    "#             mean_r[method][dataset][cur_fold] = {}\n"
   ]
  },
  {
   "cell_type": "code",
   "execution_count": 46,
   "metadata": {
    "collapsed": true
   },
   "outputs": [],
   "source": [
    "np.save(\"../code/baseline/result/stf-pred-34.npy\", pred['stf'])\n",
    "np.save(\"../code/baseline/result/mtf-pred-34.npy\", pred['mtf'])"
   ]
  },
  {
   "cell_type": "code",
   "execution_count": 37,
   "metadata": {},
   "outputs": [
    {
     "data": {
      "text/plain": [
       "dr        120.751873\n",
       "dw         30.676922\n",
       "fridge     40.139671\n",
       "hvac      424.724229\n",
       "mw         10.213372\n",
       "dtype: float64"
      ]
     },
     "execution_count": 37,
     "metadata": {},
     "output_type": "execute_result"
    }
   ],
   "source": [
    "pd.DataFrame(r['mtf'][3]).mean(axis=1)"
   ]
  },
  {
   "cell_type": "code",
   "execution_count": 39,
   "metadata": {},
   "outputs": [
    {
     "data": {
      "text/plain": [
       "dr        120.983648\n",
       "dw         29.937658\n",
       "fridge     43.910363\n",
       "hvac      414.533402\n",
       "mw         10.153439\n",
       "dtype: float64"
      ]
     },
     "execution_count": 39,
     "metadata": {},
     "output_type": "execute_result"
    }
   ],
   "source": [
    "pd.DataFrame(r['stf'][3]).mean(axis=1)"
   ]
  },
  {
   "cell_type": "code",
   "execution_count": 38,
   "metadata": {},
   "outputs": [
    {
     "data": {
      "text/plain": [
       "dr        124.028771\n",
       "dw         29.766260\n",
       "fridge     45.772242\n",
       "hvac      428.033528\n",
       "mw         10.101700\n",
       "dtype: float64"
      ]
     },
     "execution_count": 38,
     "metadata": {},
     "output_type": "execute_result"
    }
   ],
   "source": [
    "pd.DataFrame(r['mtf'][4]).mean(axis=1)"
   ]
  },
  {
   "cell_type": "code",
   "execution_count": 40,
   "metadata": {},
   "outputs": [
    {
     "data": {
      "text/plain": [
       "dr        118.387798\n",
       "dw         26.839825\n",
       "fridge     50.133586\n",
       "hvac      444.086511\n",
       "mw         13.526868\n",
       "dtype: float64"
      ]
     },
     "execution_count": 40,
     "metadata": {},
     "output_type": "execute_result"
    }
   ],
   "source": [
    "pd.DataFrame(r['stf'][4]).mean(axis=1)"
   ]
  }
 ],
 "metadata": {
  "kernelspec": {
   "display_name": "Python 3",
   "language": "python",
   "name": "python3"
  },
  "language_info": {
   "codemirror_mode": {
    "name": "ipython",
    "version": 3
   },
   "file_extension": ".py",
   "mimetype": "text/x-python",
   "name": "python",
   "nbconvert_exporter": "python",
   "pygments_lexer": "ipython3",
   "version": "3.6.3"
  }
 },
 "nbformat": 4,
 "nbformat_minor": 2
}
