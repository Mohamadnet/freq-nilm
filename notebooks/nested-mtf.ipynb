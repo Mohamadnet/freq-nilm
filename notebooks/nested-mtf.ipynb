{
 "cells": [
  {
   "cell_type": "code",
   "execution_count": 2,
   "metadata": {
    "collapsed": true
   },
   "outputs": [],
   "source": [
    "import numpy as np\n",
    "import pandas as pd"
   ]
  },
  {
   "cell_type": "markdown",
   "metadata": {},
   "source": [
    "### dataset, cur_fold, r, lr, num_iter= sys.argv[1:]\n"
   ]
  },
  {
   "cell_type": "code",
   "execution_count": 3,
   "metadata": {},
   "outputs": [
    {
     "ename": "FileNotFoundError",
     "evalue": "[Errno 2] No such file or directory: '../../baseline/mtf-nested/mtf-error-1-0-1-0.01-100.npy'",
     "output_type": "error",
     "traceback": [
      "\u001b[0;31m---------------------------------------------------------------------------\u001b[0m",
      "\u001b[0;31mFileNotFoundError\u001b[0m                         Traceback (most recent call last)",
      "\u001b[0;32m<ipython-input-3-a9201fdd1462>\u001b[0m in \u001b[0;36m<module>\u001b[0;34m()\u001b[0m\n\u001b[1;32m      9\u001b[0m                 \u001b[0merr\u001b[0m\u001b[0;34m[\u001b[0m\u001b[0mdataset\u001b[0m\u001b[0;34m]\u001b[0m\u001b[0;34m[\u001b[0m\u001b[0mcur_fold\u001b[0m\u001b[0;34m]\u001b[0m\u001b[0;34m[\u001b[0m\u001b[0mr\u001b[0m\u001b[0;34m]\u001b[0m\u001b[0;34m[\u001b[0m\u001b[0mlr\u001b[0m\u001b[0;34m]\u001b[0m \u001b[0;34m=\u001b[0m \u001b[0;34m{\u001b[0m\u001b[0;34m}\u001b[0m\u001b[0;34m\u001b[0m\u001b[0m\n\u001b[1;32m     10\u001b[0m                 \u001b[0;32mfor\u001b[0m \u001b[0mnum_iter\u001b[0m \u001b[0;32min\u001b[0m \u001b[0mrange\u001b[0m\u001b[0;34m(\u001b[0m\u001b[0;36m100\u001b[0m\u001b[0;34m,\u001b[0m \u001b[0;36m2600\u001b[0m\u001b[0;34m,\u001b[0m \u001b[0;36m400\u001b[0m\u001b[0;34m)\u001b[0m\u001b[0;34m:\u001b[0m\u001b[0;34m\u001b[0m\u001b[0m\n\u001b[0;32m---> 11\u001b[0;31m                     \u001b[0merr\u001b[0m\u001b[0;34m[\u001b[0m\u001b[0mdataset\u001b[0m\u001b[0;34m]\u001b[0m\u001b[0;34m[\u001b[0m\u001b[0mcur_fold\u001b[0m\u001b[0;34m]\u001b[0m\u001b[0;34m[\u001b[0m\u001b[0mr\u001b[0m\u001b[0;34m]\u001b[0m\u001b[0;34m[\u001b[0m\u001b[0mlr\u001b[0m\u001b[0;34m]\u001b[0m\u001b[0;34m[\u001b[0m\u001b[0mnum_iter\u001b[0m\u001b[0;34m]\u001b[0m \u001b[0;34m=\u001b[0m                     \u001b[0mnp\u001b[0m\u001b[0;34m.\u001b[0m\u001b[0mload\u001b[0m\u001b[0;34m(\u001b[0m\u001b[0;34m\"../../baseline/mtf-nested/mtf-error-{}-{}-{}-{}-{}.npy\"\u001b[0m\u001b[0;34m.\u001b[0m\u001b[0mformat\u001b[0m\u001b[0;34m(\u001b[0m\u001b[0mdataset\u001b[0m\u001b[0;34m,\u001b[0m \u001b[0mcur_fold\u001b[0m\u001b[0;34m,\u001b[0m \u001b[0mr\u001b[0m\u001b[0;34m,\u001b[0m \u001b[0mlr\u001b[0m\u001b[0;34m,\u001b[0m \u001b[0mnum_iter\u001b[0m\u001b[0;34m)\u001b[0m\u001b[0;34m)\u001b[0m\u001b[0;34m.\u001b[0m\u001b[0mitem\u001b[0m\u001b[0;34m(\u001b[0m\u001b[0;34m)\u001b[0m\u001b[0;34m\u001b[0m\u001b[0m\n\u001b[0m",
      "\u001b[0;32m/Library/Frameworks/Python.framework/Versions/3.5/lib/python3.5/site-packages/numpy/lib/npyio.py\u001b[0m in \u001b[0;36mload\u001b[0;34m(file, mmap_mode, allow_pickle, fix_imports, encoding)\u001b[0m\n\u001b[1;32m    368\u001b[0m     \u001b[0mown_fid\u001b[0m \u001b[0;34m=\u001b[0m \u001b[0;32mFalse\u001b[0m\u001b[0;34m\u001b[0m\u001b[0m\n\u001b[1;32m    369\u001b[0m     \u001b[0;32mif\u001b[0m \u001b[0misinstance\u001b[0m\u001b[0;34m(\u001b[0m\u001b[0mfile\u001b[0m\u001b[0;34m,\u001b[0m \u001b[0mbasestring\u001b[0m\u001b[0;34m)\u001b[0m\u001b[0;34m:\u001b[0m\u001b[0;34m\u001b[0m\u001b[0m\n\u001b[0;32m--> 370\u001b[0;31m         \u001b[0mfid\u001b[0m \u001b[0;34m=\u001b[0m \u001b[0mopen\u001b[0m\u001b[0;34m(\u001b[0m\u001b[0mfile\u001b[0m\u001b[0;34m,\u001b[0m \u001b[0;34m\"rb\"\u001b[0m\u001b[0;34m)\u001b[0m\u001b[0;34m\u001b[0m\u001b[0m\n\u001b[0m\u001b[1;32m    371\u001b[0m         \u001b[0mown_fid\u001b[0m \u001b[0;34m=\u001b[0m \u001b[0;32mTrue\u001b[0m\u001b[0;34m\u001b[0m\u001b[0m\n\u001b[1;32m    372\u001b[0m     \u001b[0;32melif\u001b[0m \u001b[0mis_pathlib_path\u001b[0m\u001b[0;34m(\u001b[0m\u001b[0mfile\u001b[0m\u001b[0;34m)\u001b[0m\u001b[0;34m:\u001b[0m\u001b[0;34m\u001b[0m\u001b[0m\n",
      "\u001b[0;31mFileNotFoundError\u001b[0m: [Errno 2] No such file or directory: '../../baseline/mtf-nested/mtf-error-1-0-1-0.01-100.npy'"
     ]
    }
   ],
   "source": [
    "err = {}\n",
    "for dataset in [1, 2]:\n",
    "    err[dataset] = {}\n",
    "    for cur_fold in range(5):\n",
    "        err[dataset][cur_fold] = {}\n",
    "        for r in range(1 ,21):\n",
    "            err[dataset][cur_fold][r] = {}\n",
    "            for lr in [0.01, 0.1, 1.0, 2.0]:\n",
    "                err[dataset][cur_fold][r][lr] = {}\n",
    "                for num_iter in range(100, 2600, 400):\n",
    "                    err[dataset][cur_fold][r][lr][num_iter] = \\\n",
    "                    np.load(\"../../baseline/mtf-nested/mtf-error-{}-{}-{}-{}-{}.npy\".format(dataset, cur_fold, r, lr, num_iter)).item()"
   ]
  },
  {
   "cell_type": "code",
   "execution_count": 4,
   "metadata": {
    "collapsed": true
   },
   "outputs": [],
   "source": [
    "iter = pd.DataFrame(err[1][0][3][0.01]).mean().idxmin()"
   ]
  },
  {
   "cell_type": "code",
   "execution_count": 5,
   "metadata": {},
   "outputs": [
    {
     "data": {
      "text/plain": [
       "177.28915755534743"
      ]
     },
     "execution_count": 5,
     "metadata": {},
     "output_type": "execute_result"
    }
   ],
   "source": [
    "pd.DataFrame(err[1][0][3][0.01]).mean()[2500]"
   ]
  },
  {
   "cell_type": "code",
   "execution_count": 6,
   "metadata": {
    "collapsed": true
   },
   "outputs": [],
   "source": [
    "best_r = {}\n",
    "best_lr = {}\n",
    "best_iter = {}\n",
    "for dataset in [1, 2]:\n",
    "    best_r[dataset] = {}\n",
    "    best_lr[dataset] = {}\n",
    "    best_iter[dataset] = {}\n",
    "    for cur_fold in range(5):\n",
    "        min_error = np.inf\n",
    "        for r in range(1, 21):\n",
    "            for lr in [0.01, 0.1, 1.0, 2.0]:\n",
    "                iter = pd.DataFrame(err[dataset][cur_fold][r][lr]).mean().idxmin()\n",
    "                error = pd.DataFrame(err[dataset][cur_fold][r][lr]).mean()[iter]\n",
    "                if error < min_error:\n",
    "                    min_error = error\n",
    "                    best_r[dataset][cur_fold] = r\n",
    "                    best_lr[dataset][cur_fold] = lr\n",
    "                    best_iter[dataset][cur_fold] = iter"
   ]
  },
  {
   "cell_type": "code",
   "execution_count": 7,
   "metadata": {},
   "outputs": [
    {
     "data": {
      "text/html": [
       "<div>\n",
       "<style>\n",
       "    .dataframe thead tr:only-child th {\n",
       "        text-align: right;\n",
       "    }\n",
       "\n",
       "    .dataframe thead th {\n",
       "        text-align: left;\n",
       "    }\n",
       "\n",
       "    .dataframe tbody tr th {\n",
       "        vertical-align: top;\n",
       "    }\n",
       "</style>\n",
       "<table border=\"1\" class=\"dataframe\">\n",
       "  <thead>\n",
       "    <tr style=\"text-align: right;\">\n",
       "      <th></th>\n",
       "      <th>1</th>\n",
       "      <th>2</th>\n",
       "    </tr>\n",
       "  </thead>\n",
       "  <tbody>\n",
       "    <tr>\n",
       "      <th>0</th>\n",
       "      <td>20</td>\n",
       "      <td>16</td>\n",
       "    </tr>\n",
       "    <tr>\n",
       "      <th>1</th>\n",
       "      <td>18</td>\n",
       "      <td>13</td>\n",
       "    </tr>\n",
       "    <tr>\n",
       "      <th>2</th>\n",
       "      <td>17</td>\n",
       "      <td>13</td>\n",
       "    </tr>\n",
       "    <tr>\n",
       "      <th>3</th>\n",
       "      <td>10</td>\n",
       "      <td>3</td>\n",
       "    </tr>\n",
       "    <tr>\n",
       "      <th>4</th>\n",
       "      <td>20</td>\n",
       "      <td>15</td>\n",
       "    </tr>\n",
       "  </tbody>\n",
       "</table>\n",
       "</div>"
      ],
      "text/plain": [
       "    1   2\n",
       "0  20  16\n",
       "1  18  13\n",
       "2  17  13\n",
       "3  10   3\n",
       "4  20  15"
      ]
     },
     "execution_count": 7,
     "metadata": {},
     "output_type": "execute_result"
    }
   ],
   "source": [
    "pd.DataFrame(best_r)"
   ]
  },
  {
   "cell_type": "code",
   "execution_count": 8,
   "metadata": {},
   "outputs": [
    {
     "data": {
      "text/html": [
       "<div>\n",
       "<style>\n",
       "    .dataframe thead tr:only-child th {\n",
       "        text-align: right;\n",
       "    }\n",
       "\n",
       "    .dataframe thead th {\n",
       "        text-align: left;\n",
       "    }\n",
       "\n",
       "    .dataframe tbody tr th {\n",
       "        vertical-align: top;\n",
       "    }\n",
       "</style>\n",
       "<table border=\"1\" class=\"dataframe\">\n",
       "  <thead>\n",
       "    <tr style=\"text-align: right;\">\n",
       "      <th></th>\n",
       "      <th>1</th>\n",
       "      <th>2</th>\n",
       "    </tr>\n",
       "  </thead>\n",
       "  <tbody>\n",
       "    <tr>\n",
       "      <th>0</th>\n",
       "      <td>2.0</td>\n",
       "      <td>1.0</td>\n",
       "    </tr>\n",
       "    <tr>\n",
       "      <th>1</th>\n",
       "      <td>1.0</td>\n",
       "      <td>2.0</td>\n",
       "    </tr>\n",
       "    <tr>\n",
       "      <th>2</th>\n",
       "      <td>2.0</td>\n",
       "      <td>0.1</td>\n",
       "    </tr>\n",
       "    <tr>\n",
       "      <th>3</th>\n",
       "      <td>2.0</td>\n",
       "      <td>2.0</td>\n",
       "    </tr>\n",
       "    <tr>\n",
       "      <th>4</th>\n",
       "      <td>1.0</td>\n",
       "      <td>1.0</td>\n",
       "    </tr>\n",
       "  </tbody>\n",
       "</table>\n",
       "</div>"
      ],
      "text/plain": [
       "     1    2\n",
       "0  2.0  1.0\n",
       "1  1.0  2.0\n",
       "2  2.0  0.1\n",
       "3  2.0  2.0\n",
       "4  1.0  1.0"
      ]
     },
     "execution_count": 8,
     "metadata": {},
     "output_type": "execute_result"
    }
   ],
   "source": [
    "pd.DataFrame(best_lr)"
   ]
  },
  {
   "cell_type": "code",
   "execution_count": 9,
   "metadata": {},
   "outputs": [
    {
     "data": {
      "text/html": [
       "<div>\n",
       "<style>\n",
       "    .dataframe thead tr:only-child th {\n",
       "        text-align: right;\n",
       "    }\n",
       "\n",
       "    .dataframe thead th {\n",
       "        text-align: left;\n",
       "    }\n",
       "\n",
       "    .dataframe tbody tr th {\n",
       "        vertical-align: top;\n",
       "    }\n",
       "</style>\n",
       "<table border=\"1\" class=\"dataframe\">\n",
       "  <thead>\n",
       "    <tr style=\"text-align: right;\">\n",
       "      <th></th>\n",
       "      <th>1</th>\n",
       "      <th>2</th>\n",
       "    </tr>\n",
       "  </thead>\n",
       "  <tbody>\n",
       "    <tr>\n",
       "      <th>0</th>\n",
       "      <td>100</td>\n",
       "      <td>1700</td>\n",
       "    </tr>\n",
       "    <tr>\n",
       "      <th>1</th>\n",
       "      <td>1700</td>\n",
       "      <td>500</td>\n",
       "    </tr>\n",
       "    <tr>\n",
       "      <th>2</th>\n",
       "      <td>100</td>\n",
       "      <td>2500</td>\n",
       "    </tr>\n",
       "    <tr>\n",
       "      <th>3</th>\n",
       "      <td>2100</td>\n",
       "      <td>100</td>\n",
       "    </tr>\n",
       "    <tr>\n",
       "      <th>4</th>\n",
       "      <td>2500</td>\n",
       "      <td>2100</td>\n",
       "    </tr>\n",
       "  </tbody>\n",
       "</table>\n",
       "</div>"
      ],
      "text/plain": [
       "      1     2\n",
       "0   100  1700\n",
       "1  1700   500\n",
       "2   100  2500\n",
       "3  2100   100\n",
       "4  2500  2100"
      ]
     },
     "execution_count": 9,
     "metadata": {},
     "output_type": "execute_result"
    }
   ],
   "source": [
    "pd.DataFrame(best_iter)"
   ]
  },
  {
   "cell_type": "code",
   "execution_count": 17,
   "metadata": {
    "collapsed": true
   },
   "outputs": [],
   "source": [
    "import sys\n",
    "sys.path.append(\"../code/\")\n",
    "from dataloader import APPLIANCE_ORDER, get_train_test\n",
    "from tensor_custom_core import stf_4dim, stf_4dim_time\n"
   ]
  },
  {
   "cell_type": "code",
   "execution_count": 18,
   "metadata": {
    "collapsed": true
   },
   "outputs": [],
   "source": [
    "def stf(dataset, cur_fold, r=2, lr=1, num_iter=100):\n",
    "    num_folds=5\n",
    "    train, test = get_train_test(dataset, num_folds=num_folds, fold_num=cur_fold)\n",
    "    test_copy = test.copy()\n",
    "    test_copy[:, 1:, :, :] = np.NaN\n",
    "    train_test = np.concatenate([train, test_copy])\n",
    "    H, A, D, T = stf_4dim(tensor=train_test, r=r, lr=lr, num_iter=num_iter)\n",
    "    pred = np.einsum(\"Hr, Ar, Dr, Tr ->HADT\", H, A, D, T)[len(train):, 1:, :, :]\n",
    "    \n",
    "    return pred"
   ]
  },
  {
   "cell_type": "markdown",
   "metadata": {},
   "source": [
    "### dataset1"
   ]
  },
  {
   "cell_type": "code",
   "execution_count": 20,
   "metadata": {
    "collapsed": true
   },
   "outputs": [
    {
     "name": "stdout",
     "output_type": "stream",
     "text": [
      "798.933843056 0\n",
      "378.803348099 50\n",
      "774.407629853 0\n",
      "365.00344319 50\n",
      "348.621090837 100\n",
      "342.167086754 150\n",
      "338.306065278 200\n",
      "336.303861986 250\n",
      "335.103598744 300\n",
      "334.344257071 350\n",
      "333.821063507 400\n",
      "333.41211898 450\n",
      "333.067870084 500\n",
      "332.768277648 550\n",
      "332.50458815 600\n",
      "332.263785697 650\n",
      "332.035411527 700\n",
      "331.81530579 750\n",
      "331.606187673 800\n",
      "331.413104578 850\n",
      "334.61270702 900\n",
      "331.063309943 950\n",
      "330.897317442 1000\n",
      "330.721851726 1050\n",
      "330.531779888 1100\n",
      "330.33091099 1150\n",
      "330.126299526 1200\n",
      "329.928018319 1250\n",
      "329.750957264 1300\n",
      "329.597514526 1350\n",
      "329.465269089 1400\n",
      "329.350633183 1450\n",
      "329.251723463 1500\n",
      "329.163389804 1550\n",
      "329.084942314 1600\n",
      "329.014487962 1650\n",
      "758.386331002 0\n",
      "370.68698227 50\n",
      "711.568421186 0\n",
      "367.737972621 50\n",
      "348.901025068 100\n",
      "344.276390236 150\n",
      "342.733977494 200\n",
      "341.997188568 250\n",
      "341.494687181 300\n",
      "341.038885002 350\n",
      "340.578743822 400\n",
      "340.144819979 450\n",
      "339.782136944 500\n",
      "339.511915195 550\n",
      "339.310314185 600\n",
      "339.146562617 650\n",
      "339.01095118 700\n",
      "338.914544877 750\n",
      "338.840747355 800\n",
      "343.917095059 850\n",
      "338.672009627 900\n",
      "338.604461889 950\n",
      "338.555581595 1000\n",
      "338.512565778 1050\n",
      "338.478194577 1100\n",
      "338.448270252 1150\n",
      "338.421806314 1200\n",
      "338.397912087 1250\n",
      "338.374842534 1300\n",
      "338.351118408 1350\n",
      "338.326186099 1400\n",
      "338.299175936 1450\n",
      "338.269399184 1500\n",
      "338.236597233 1550\n",
      "338.201184188 1600\n",
      "338.163622588 1650\n",
      "338.124453229 1700\n",
      "338.085324518 1750\n",
      "338.047523077 1800\n",
      "338.011799064 1850\n",
      "337.978412795 1900\n",
      "337.947954206 1950\n",
      "337.919153296 2000\n",
      "337.891563168 2050\n",
      "775.157569446 0\n",
      "361.82516549 50\n",
      "345.857295088 100\n",
      "338.552329022 150\n",
      "334.72952726 200\n",
      "332.48011659 250\n",
      "331.807084783 300\n",
      "330.515422262 350\n",
      "329.996569334 400\n",
      "329.582332848 450\n",
      "329.219305291 500\n",
      "328.874089872 550\n",
      "328.518178634 600\n",
      "328.167476443 650\n",
      "327.842045871 700\n",
      "327.544264839 750\n",
      "327.272166005 800\n",
      "327.026456465 850\n",
      "326.800598994 900\n",
      "326.591460318 950\n",
      "326.403492104 1000\n",
      "326.235238475 1050\n",
      "326.084835865 1100\n",
      "325.953401255 1150\n",
      "325.832271547 1200\n",
      "325.720493364 1250\n",
      "325.620488436 1300\n",
      "325.524848723 1350\n",
      "325.438185486 1400\n",
      "325.358997982 1450\n",
      "325.286500947 1500\n",
      "325.217959235 1550\n",
      "325.154833983 1600\n",
      "325.097127667 1650\n",
      "325.047421413 1700\n",
      "325.003442415 1750\n",
      "324.963965742 1800\n",
      "324.928626941 1850\n",
      "324.897360381 1900\n",
      "324.870359341 1950\n",
      "324.848597608 2000\n",
      "324.830424685 2050\n",
      "324.80999058 2100\n",
      "324.791312225 2150\n",
      "324.775861711 2200\n",
      "324.761513028 2250\n",
      "324.748155705 2300\n",
      "324.735668263 2350\n",
      "324.723847357 2400\n",
      "324.71272539 2450\n"
     ]
    }
   ],
   "source": [
    "dataset = 1\n",
    "out = []\n",
    "num_fold=5\n",
    "for cur_fold in range(5):\n",
    "    b_r= best_r[dataset][cur_fold]\n",
    "    b_lr = best_lr[dataset][cur_fold]\n",
    "    b_iter = best_iter[dataset][cur_fold]\n",
    "    \n",
    "    pred = stf(dataset, cur_fold, b_r, b_lr, b_iter)\n",
    "    \n",
    "    out.append(pred)"
   ]
  },
  {
   "cell_type": "code",
   "execution_count": 24,
   "metadata": {
    "collapsed": true
   },
   "outputs": [],
   "source": [
    "cont_out = np.concatenate(out)\n",
    "tensor = np.load('../2015-5appliances.numpy.npy')\n",
    "gt = tensor[:, 1:, :, :]"
   ]
  },
  {
   "cell_type": "code",
   "execution_count": 26,
   "metadata": {
    "collapsed": true
   },
   "outputs": [],
   "source": [
    "from sklearn.metrics import mean_absolute_error\n",
    "err_stf = {APPLIANCE_ORDER[i+1]:mean_absolute_error(cont_out[:, i,:,:].flatten(), \n",
    "                                                                       gt[:, i, :, :].flatten()) for i in range(pred.shape[1])}"
   ]
  },
  {
   "cell_type": "code",
   "execution_count": 27,
   "metadata": {},
   "outputs": [
    {
     "data": {
      "text/plain": [
       "{'dr': 117.55267578113788,\n",
       " 'dw': 27.461522878707523,\n",
       " 'fridge': 43.819964033418202,\n",
       " 'hvac': 331.63421940163073,\n",
       " 'mw': 10.488311233484415}"
      ]
     },
     "execution_count": 27,
     "metadata": {},
     "output_type": "execute_result"
    }
   ],
   "source": [
    "err_stf"
   ]
  },
  {
   "cell_type": "markdown",
   "metadata": {},
   "source": [
    "### dataset 2"
   ]
  },
  {
   "cell_type": "code",
   "execution_count": null,
   "metadata": {},
   "outputs": [
    {
     "name": "stdout",
     "output_type": "stream",
     "text": [
      "1252.33308992 0\n",
      "527.959217355 50\n",
      "497.913017577 100\n",
      "485.598775016 150\n",
      "480.795097588 200\n",
      "478.138420724 250\n",
      "476.488134263 300\n",
      "475.32242377 350\n",
      "474.349240402 400\n",
      "473.447005509 450\n",
      "472.608111016 500\n",
      "471.894729038 550\n",
      "471.32460406 600\n",
      "470.90972481 650\n",
      "470.597483214 700\n",
      "470.359519399 750\n",
      "470.173643753 800\n",
      "470.025461654 850\n",
      "469.903689551 900\n",
      "470.2406338 950\n",
      "469.717039465 1000\n",
      "469.631922545 1050\n",
      "469.559896712 1100\n",
      "469.493289488 1150\n",
      "469.431321994 1200\n",
      "469.373852816 1250\n",
      "469.320427133 1300\n",
      "469.270083076 1350\n",
      "469.222136247 1400\n",
      "469.176311398 1450\n",
      "469.132448512 1500\n",
      "469.090392435 1550\n",
      "469.051494132 1600\n",
      "469.01667089 1650\n",
      "1130.47780132 0\n",
      "522.329721924 50\n",
      "492.205349408 100\n",
      "481.823028392 150\n",
      "477.514654514 200\n",
      "475.683895015 250\n",
      "476.886950426 300\n",
      "472.657812498 350\n",
      "471.911310251 400\n",
      "471.344719487 450\n",
      "1277.35094154 0\n",
      "1027.75940997 50\n",
      "745.517658982 100\n",
      "626.701261412 150\n",
      "587.095526992 200\n",
      "572.455908563 250\n",
      "565.62380263 300\n",
      "561.280690543 350\n",
      "557.730145748 400\n",
      "554.413956037 450\n",
      "551.20782432 500\n",
      "548.044038134 550\n",
      "544.87375861 600\n",
      "541.772036559 650\n",
      "538.747256597 700\n",
      "535.829713696 750\n",
      "533.052931549 800\n",
      "530.452218494 850\n",
      "527.975156124 900\n",
      "525.605852268 950\n",
      "523.326780544 1000\n",
      "521.1495216 1050\n",
      "519.065788726 1100\n",
      "517.118519056 1150\n",
      "515.273063676 1200\n",
      "513.542444013 1250\n",
      "511.922220913 1300\n",
      "510.40730816 1350\n",
      "508.989567968 1400\n",
      "507.681148803 1450\n",
      "506.473440581 1500\n",
      "505.343108851 1550\n",
      "504.290971039 1600\n",
      "503.306764642 1650\n",
      "502.382992668 1700\n",
      "501.520923569 1750\n",
      "500.708167756 1800\n",
      "499.938577268 1850\n",
      "499.211051925 1900\n",
      "498.519780441 1950\n",
      "497.85889346 2000\n",
      "497.227771711 2050\n",
      "496.62928354 2100\n",
      "496.057387398 2150\n",
      "495.508937813 2200\n",
      "494.984911695 2250\n",
      "494.495712667 2300\n",
      "494.027690674 2350\n",
      "493.575550405 2400\n",
      "493.136371246 2450\n",
      "1229.59672574 0\n",
      "539.387936321 50\n",
      "1242.58795528 0\n",
      "518.766233895 50\n",
      "492.087439321 100\n",
      "478.983675068 150\n",
      "473.596787105 200\n",
      "470.858990867 250\n",
      "469.393937876 300\n",
      "468.415625111 350\n",
      "467.73604367 400\n",
      "467.218209185 450\n",
      "466.789241032 500\n",
      "466.399734147 550\n",
      "466.035731066 600\n",
      "465.679354775 650\n",
      "465.334274545 700\n",
      "465.016869801 750\n",
      "464.74539225 800\n",
      "464.516830294 850\n",
      "464.320729427 900\n",
      "464.148445152 950\n",
      "463.98740504 1000\n",
      "463.83321425 1050\n",
      "463.684252442 1100\n",
      "463.548074952 1150\n",
      "463.429599723 1200\n",
      "463.322586492 1250\n",
      "463.229580426 1300\n",
      "463.157376362 1350\n",
      "463.877258497 1400\n"
     ]
    }
   ],
   "source": [
    "dataset = 2\n",
    "out = []\n",
    "num_fold=5\n",
    "for cur_fold in range(5):\n",
    "    b_r= best_r[dataset][cur_fold]\n",
    "    b_lr = best_lr[dataset][cur_fold]\n",
    "    b_iter = best_iter[dataset][cur_fold]\n",
    "    \n",
    "    pred = stf(dataset, cur_fold, b_r, b_lr, b_iter)\n",
    "    \n",
    "    out.append(pred)"
   ]
  }
 ],
 "metadata": {
  "kernelspec": {
   "display_name": "Python 3",
   "language": "python",
   "name": "python3"
  },
  "language_info": {
   "codemirror_mode": {
    "name": "ipython",
    "version": 3
   },
   "file_extension": ".py",
   "mimetype": "text/x-python",
   "name": "python",
   "nbconvert_exporter": "python",
   "pygments_lexer": "ipython3",
   "version": "3.5.2"
  }
 },
 "nbformat": 4,
 "nbformat_minor": 2
}
