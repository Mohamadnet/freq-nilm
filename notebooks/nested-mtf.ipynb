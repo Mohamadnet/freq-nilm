{
 "cells": [
  {
   "cell_type": "code",
   "execution_count": 1,
   "metadata": {
    "collapsed": true
   },
   "outputs": [],
   "source": [
    "import numpy as np\n",
    "import pandas as pd"
   ]
  },
  {
   "cell_type": "markdown",
   "metadata": {},
   "source": [
    "### dataset, cur_fold, r, lr, num_iter= sys.argv[1:]\n"
   ]
  },
  {
   "cell_type": "code",
   "execution_count": 2,
   "metadata": {
    "collapsed": true
   },
   "outputs": [],
   "source": [
    "err = {}\n",
    "for dataset in [1, 2]:\n",
    "    err[dataset] = {}\n",
    "    for cur_fold in range(5):\n",
    "        err[dataset][cur_fold] = {}\n",
    "        for r in range(1 ,21):\n",
    "            err[dataset][cur_fold][r] = {}\n",
    "            for lr in [0.01, 0.1, 1.0, 2.0]:\n",
    "                err[dataset][cur_fold][r][lr] = {}\n",
    "                for num_iter in range(100, 2600, 400):\n",
    "                    try:\n",
    "                        err[dataset][cur_fold][r][lr][num_iter] = \\\n",
    "                        np.load(\"../code/baseline/mtf-nested/mtf-error-{}-{}-{}-{}-{}.npy\".format(dataset, cur_fold, r, lr, num_iter)).item()\n",
    "                    except:\n",
    "                        print (dataset, cur_fold, r, lr, num_iter)"
   ]
  },
  {
   "cell_type": "code",
   "execution_count": 3,
   "metadata": {
    "collapsed": true
   },
   "outputs": [],
   "source": [
    "iter = pd.DataFrame(err[1][0][3][0.01]).mean().idxmin()"
   ]
  },
  {
   "cell_type": "code",
   "execution_count": 4,
   "metadata": {},
   "outputs": [
    {
     "data": {
      "text/plain": [
       "174.27279032501659"
      ]
     },
     "execution_count": 4,
     "metadata": {},
     "output_type": "execute_result"
    }
   ],
   "source": [
    "pd.DataFrame(err[1][0][3][0.01]).mean()[2500]"
   ]
  },
  {
   "cell_type": "code",
   "execution_count": 5,
   "metadata": {
    "collapsed": true
   },
   "outputs": [],
   "source": [
    "best_r = {}\n",
    "best_lr = {}\n",
    "best_iter = {}\n",
    "for dataset in [1, 2]:\n",
    "    best_r[dataset] = {}\n",
    "    best_lr[dataset] = {}\n",
    "    best_iter[dataset] = {}\n",
    "    for cur_fold in range(5):\n",
    "        min_error = np.inf\n",
    "        for r in range(1, 21):\n",
    "            for lr in [0.01, 0.1, 1.0, 2.0]:\n",
    "                iter = pd.DataFrame(err[dataset][cur_fold][r][lr]).mean().idxmin()\n",
    "                error = pd.DataFrame(err[dataset][cur_fold][r][lr]).mean()[iter]\n",
    "                if error < min_error:\n",
    "                    min_error = error\n",
    "                    best_r[dataset][cur_fold] = r\n",
    "                    best_lr[dataset][cur_fold] = lr\n",
    "                    best_iter[dataset][cur_fold] = iter"
   ]
  },
  {
   "cell_type": "code",
   "execution_count": 6,
   "metadata": {},
   "outputs": [
    {
     "data": {
      "text/html": [
       "<div>\n",
       "<style scoped>\n",
       "    .dataframe tbody tr th:only-of-type {\n",
       "        vertical-align: middle;\n",
       "    }\n",
       "\n",
       "    .dataframe tbody tr th {\n",
       "        vertical-align: top;\n",
       "    }\n",
       "\n",
       "    .dataframe thead th {\n",
       "        text-align: right;\n",
       "    }\n",
       "</style>\n",
       "<table border=\"1\" class=\"dataframe\">\n",
       "  <thead>\n",
       "    <tr style=\"text-align: right;\">\n",
       "      <th></th>\n",
       "      <th>1</th>\n",
       "      <th>2</th>\n",
       "    </tr>\n",
       "  </thead>\n",
       "  <tbody>\n",
       "    <tr>\n",
       "      <th>0</th>\n",
       "      <td>20</td>\n",
       "      <td>11</td>\n",
       "    </tr>\n",
       "    <tr>\n",
       "      <th>1</th>\n",
       "      <td>16</td>\n",
       "      <td>13</td>\n",
       "    </tr>\n",
       "    <tr>\n",
       "      <th>2</th>\n",
       "      <td>20</td>\n",
       "      <td>17</td>\n",
       "    </tr>\n",
       "    <tr>\n",
       "      <th>3</th>\n",
       "      <td>19</td>\n",
       "      <td>15</td>\n",
       "    </tr>\n",
       "    <tr>\n",
       "      <th>4</th>\n",
       "      <td>14</td>\n",
       "      <td>14</td>\n",
       "    </tr>\n",
       "  </tbody>\n",
       "</table>\n",
       "</div>"
      ],
      "text/plain": [
       "    1   2\n",
       "0  20  11\n",
       "1  16  13\n",
       "2  20  17\n",
       "3  19  15\n",
       "4  14  14"
      ]
     },
     "execution_count": 6,
     "metadata": {},
     "output_type": "execute_result"
    }
   ],
   "source": [
    "pd.DataFrame(best_r)"
   ]
  },
  {
   "cell_type": "code",
   "execution_count": 7,
   "metadata": {},
   "outputs": [
    {
     "data": {
      "text/html": [
       "<div>\n",
       "<style scoped>\n",
       "    .dataframe tbody tr th:only-of-type {\n",
       "        vertical-align: middle;\n",
       "    }\n",
       "\n",
       "    .dataframe tbody tr th {\n",
       "        vertical-align: top;\n",
       "    }\n",
       "\n",
       "    .dataframe thead th {\n",
       "        text-align: right;\n",
       "    }\n",
       "</style>\n",
       "<table border=\"1\" class=\"dataframe\">\n",
       "  <thead>\n",
       "    <tr style=\"text-align: right;\">\n",
       "      <th></th>\n",
       "      <th>1</th>\n",
       "      <th>2</th>\n",
       "    </tr>\n",
       "  </thead>\n",
       "  <tbody>\n",
       "    <tr>\n",
       "      <th>0</th>\n",
       "      <td>2.0</td>\n",
       "      <td>2.0</td>\n",
       "    </tr>\n",
       "    <tr>\n",
       "      <th>1</th>\n",
       "      <td>1.0</td>\n",
       "      <td>1.0</td>\n",
       "    </tr>\n",
       "    <tr>\n",
       "      <th>2</th>\n",
       "      <td>2.0</td>\n",
       "      <td>1.0</td>\n",
       "    </tr>\n",
       "    <tr>\n",
       "      <th>3</th>\n",
       "      <td>1.0</td>\n",
       "      <td>1.0</td>\n",
       "    </tr>\n",
       "    <tr>\n",
       "      <th>4</th>\n",
       "      <td>1.0</td>\n",
       "      <td>2.0</td>\n",
       "    </tr>\n",
       "  </tbody>\n",
       "</table>\n",
       "</div>"
      ],
      "text/plain": [
       "     1    2\n",
       "0  2.0  2.0\n",
       "1  1.0  1.0\n",
       "2  2.0  1.0\n",
       "3  1.0  1.0\n",
       "4  1.0  2.0"
      ]
     },
     "execution_count": 7,
     "metadata": {},
     "output_type": "execute_result"
    }
   ],
   "source": [
    "pd.DataFrame(best_lr)"
   ]
  },
  {
   "cell_type": "code",
   "execution_count": 8,
   "metadata": {},
   "outputs": [
    {
     "data": {
      "text/html": [
       "<div>\n",
       "<style scoped>\n",
       "    .dataframe tbody tr th:only-of-type {\n",
       "        vertical-align: middle;\n",
       "    }\n",
       "\n",
       "    .dataframe tbody tr th {\n",
       "        vertical-align: top;\n",
       "    }\n",
       "\n",
       "    .dataframe thead th {\n",
       "        text-align: right;\n",
       "    }\n",
       "</style>\n",
       "<table border=\"1\" class=\"dataframe\">\n",
       "  <thead>\n",
       "    <tr style=\"text-align: right;\">\n",
       "      <th></th>\n",
       "      <th>1</th>\n",
       "      <th>2</th>\n",
       "    </tr>\n",
       "  </thead>\n",
       "  <tbody>\n",
       "    <tr>\n",
       "      <th>0</th>\n",
       "      <td>2100</td>\n",
       "      <td>1300</td>\n",
       "    </tr>\n",
       "    <tr>\n",
       "      <th>1</th>\n",
       "      <td>500</td>\n",
       "      <td>1300</td>\n",
       "    </tr>\n",
       "    <tr>\n",
       "      <th>2</th>\n",
       "      <td>2100</td>\n",
       "      <td>1700</td>\n",
       "    </tr>\n",
       "    <tr>\n",
       "      <th>3</th>\n",
       "      <td>500</td>\n",
       "      <td>100</td>\n",
       "    </tr>\n",
       "    <tr>\n",
       "      <th>4</th>\n",
       "      <td>500</td>\n",
       "      <td>1700</td>\n",
       "    </tr>\n",
       "  </tbody>\n",
       "</table>\n",
       "</div>"
      ],
      "text/plain": [
       "      1     2\n",
       "0  2100  1300\n",
       "1   500  1300\n",
       "2  2100  1700\n",
       "3   500   100\n",
       "4   500  1700"
      ]
     },
     "execution_count": 8,
     "metadata": {},
     "output_type": "execute_result"
    }
   ],
   "source": [
    "pd.DataFrame(best_iter)"
   ]
  },
  {
   "cell_type": "code",
   "execution_count": 9,
   "metadata": {
    "collapsed": true
   },
   "outputs": [],
   "source": [
    "import sys\n",
    "sys.path.append(\"../code/\")\n",
    "from dataloader import APPLIANCE_ORDER, get_train_test\n",
    "from tensor_custom_core import stf_4dim, stf_4dim_time\n"
   ]
  },
  {
   "cell_type": "code",
   "execution_count": 10,
   "metadata": {
    "collapsed": true
   },
   "outputs": [],
   "source": [
    "def mtf(dataset, cur_fold, r=2, lr=1, num_iter=100):\n",
    "    num_folds=5\n",
    "    train, test = get_train_test(dataset, num_folds=num_folds, fold_num=cur_fold)\n",
    "    test_copy = test.copy()\n",
    "    test_copy[:, 1:, :, :] = np.NaN\n",
    "    train_test = np.concatenate([train, test_copy])\n",
    "    H, A, D, T = stf_4dim_time(tensor=train_test, r=r, lr=lr, num_iter=num_iter)\n",
    "    pred = np.einsum(\"Hr, Ar, Dr, ATr -> HADT\", H, A, D, T)[len(train):, 1:, :, :]\n",
    "    \n",
    "    return pred"
   ]
  },
  {
   "cell_type": "markdown",
   "metadata": {},
   "source": [
    "### dataset1"
   ]
  },
  {
   "cell_type": "code",
   "execution_count": 11,
   "metadata": {},
   "outputs": [
    {
     "name": "stdout",
     "output_type": "stream",
     "text": [
      "634.205178669 0\n",
      "377.395198629 50\n",
      "355.861281052 100\n",
      "347.117871722 150\n",
      "343.416226376 200\n",
      "341.430488927 250\n",
      "342.437417588 300\n",
      "339.436308416 350\n",
      "338.926125741 400\n",
      "338.551813415 450\n",
      "338.257340759 500\n",
      "337.995497989 550\n",
      "337.746169569 600\n",
      "337.508540898 650\n",
      "337.275323372 700\n",
      "337.042505586 750\n",
      "336.81027201 800\n",
      "336.589005076 850\n",
      "336.377845994 900\n",
      "336.172773748 950\n",
      "335.970306953 1000\n",
      "335.763646105 1050\n",
      "335.554508584 1100\n",
      "335.342438693 1150\n",
      "335.131788962 1200\n",
      "334.929092296 1250\n",
      "334.741609053 1300\n",
      "334.576235819 1350\n",
      "334.432146603 1400\n",
      "334.311463552 1450\n",
      "334.268137686 1500\n",
      "335.96177768 1550\n",
      "334.081729034 1600\n",
      "334.029170781 1650\n",
      "333.99054924 1700\n",
      "333.962015966 1750\n",
      "333.939764955 1800\n",
      "333.922005968 1850\n",
      "333.907428952 1900\n",
      "333.895169444 1950\n",
      "333.884608368 2000\n",
      "333.875163209 2050\n",
      "775.724916684 0\n",
      "366.570717216 50\n",
      "350.094776011 100\n",
      "341.218130973 150\n",
      "337.954078423 200\n",
      "336.222316629 250\n",
      "335.155201852 300\n",
      "334.437599517 350\n",
      "333.875780133 400\n",
      "333.419431722 450\n",
      "627.18261781 0\n",
      "371.69572733 50\n",
      "348.938937458 100\n",
      "340.082230729 150\n",
      "340.03028161 200\n",
      "334.241447537 250\n",
      "333.044124417 300\n",
      "332.215878764 350\n",
      "331.551987779 400\n",
      "330.970678156 450\n",
      "330.470702258 500\n",
      "330.060272597 550\n",
      "331.453381214 600\n",
      "329.596765864 650\n",
      "329.292481051 700\n",
      "329.111148886 750\n",
      "328.960699578 800\n",
      "328.831774414 850\n",
      "328.717604854 900\n",
      "328.613680914 950\n",
      "328.517492951 1000\n",
      "328.426881548 1050\n",
      "328.342484289 1100\n",
      "328.263566873 1150\n",
      "328.191834179 1200\n",
      "328.125102303 1250\n",
      "328.062146602 1300\n",
      "328.002465442 1350\n",
      "327.946336544 1400\n",
      "327.894570242 1450\n",
      "327.846760887 1500\n",
      "327.80241453 1550\n",
      "327.761307768 1600\n",
      "327.723203401 1650\n",
      "327.687852124 1700\n",
      "327.655631686 1750\n",
      "327.626394217 1800\n",
      "327.598858884 1850\n",
      "327.572677844 1900\n",
      "327.547821247 1950\n",
      "327.524361457 2000\n",
      "327.502252979 2050\n",
      "767.589421956 0\n",
      "357.597357375 50\n",
      "342.057290245 100\n",
      "335.402748486 150\n",
      "331.956986306 200\n",
      "329.888548957 250\n",
      "328.587788553 300\n",
      "327.740543481 350\n",
      "327.158330944 400\n",
      "326.774390413 450\n",
      "787.27151396 0\n",
      "367.482919804 50\n",
      "350.258657637 100\n",
      "342.014818659 150\n",
      "339.284197904 200\n",
      "337.968176712 250\n",
      "337.122310466 300\n",
      "336.47610654 350\n",
      "335.929002411 400\n",
      "335.433122891 450\n"
     ]
    }
   ],
   "source": [
    "dataset = 1\n",
    "out = []\n",
    "num_fold=5\n",
    "for cur_fold in range(5):\n",
    "    b_r= best_r[dataset][cur_fold]\n",
    "    b_lr = best_lr[dataset][cur_fold]\n",
    "    b_iter = best_iter[dataset][cur_fold]\n",
    "    \n",
    "    pred = mtf(dataset, cur_fold, b_r, b_lr, b_iter)\n",
    "    \n",
    "    out.append(pred)"
   ]
  },
  {
   "cell_type": "code",
   "execution_count": 12,
   "metadata": {
    "collapsed": true
   },
   "outputs": [],
   "source": [
    "cont_out = np.concatenate(out)\n",
    "tensor = np.load('../2015-5appliances.numpy.npy')\n",
    "gt = tensor[:, 1:, :, :]"
   ]
  },
  {
   "cell_type": "code",
   "execution_count": 13,
   "metadata": {
    "collapsed": true
   },
   "outputs": [],
   "source": [
    "from sklearn.metrics import mean_absolute_error\n",
    "err_stf = {APPLIANCE_ORDER[i+1]:mean_absolute_error(cont_out[:, i,:,:].flatten(), \n",
    "                                                                       gt[:, i, :, :].flatten()) for i in range(cont_out.shape[1])}"
   ]
  },
  {
   "cell_type": "code",
   "execution_count": 14,
   "metadata": {},
   "outputs": [
    {
     "data": {
      "text/plain": [
       "{'dr': 119.94438254635432,\n",
       " 'dw': 28.503259073456459,\n",
       " 'fridge': 39.463749904414321,\n",
       " 'hvac': 317.73748440484155,\n",
       " 'mw': 11.658893160385178}"
      ]
     },
     "execution_count": 14,
     "metadata": {},
     "output_type": "execute_result"
    }
   ],
   "source": [
    "err_stf"
   ]
  },
  {
   "cell_type": "code",
   "execution_count": 15,
   "metadata": {
    "collapsed": true
   },
   "outputs": [],
   "source": [
    "np.save(\"../code/baseline/mtf-nested-pred-1.npy\", cont_out)"
   ]
  },
  {
   "cell_type": "code",
   "execution_count": 16,
   "metadata": {
    "collapsed": true
   },
   "outputs": [],
   "source": [
    "np.save(\"../code/baseline/mtf-nested-error-1.npy\", err_stf)"
   ]
  },
  {
   "cell_type": "markdown",
   "metadata": {},
   "source": [
    "### dataset 2"
   ]
  },
  {
   "cell_type": "code",
   "execution_count": null,
   "metadata": {},
   "outputs": [
    {
     "name": "stdout",
     "output_type": "stream",
     "text": [
      "11 2.0 1300\n",
      "1127.26288697 0\n",
      "542.025848806 50\n",
      "504.793116051 100\n",
      "492.596434598 150\n",
      "488.48626187 200\n",
      "486.411634904 250\n",
      "485.129892307 300\n",
      "484.301725783 350\n",
      "483.729753381 400\n",
      "483.298527919 450\n"
     ]
    }
   ],
   "source": [
    "dataset = 2\n",
    "out = []\n",
    "num_fold=5\n",
    "for cur_fold in range(5):\n",
    "    b_r= best_r[dataset][cur_fold]\n",
    "    b_lr = best_lr[dataset][cur_fold]\n",
    "    b_iter = best_iter[dataset][cur_fold]\n",
    "    \n",
    "    print (b_r, b_lr, b_iter)\n",
    "    pred = mtf(dataset, cur_fold, b_r, b_lr, b_iter)\n",
    "    \n",
    "    out.append(pred)"
   ]
  },
  {
   "cell_type": "code",
   "execution_count": 26,
   "metadata": {},
   "outputs": [],
   "source": [
    "cont_out_2 = np.concatenate(out)\n",
    "tensor = np.load('../2015-5appliances-true-agg.npy')\n",
    "gt = tensor[:, 1:, :, :]"
   ]
  },
  {
   "cell_type": "code",
   "execution_count": 27,
   "metadata": {
    "collapsed": true
   },
   "outputs": [],
   "source": [
    "from sklearn.metrics import mean_absolute_error\n",
    "err_stf = {APPLIANCE_ORDER[i+1]:mean_absolute_error(cont_out[:, i,:,:].flatten(), \n",
    "                                                                       gt[:, i, :, :].flatten()) for i in range(cont_out_2.shape[1])}"
   ]
  },
  {
   "cell_type": "code",
   "execution_count": 28,
   "metadata": {
    "collapsed": true
   },
   "outputs": [],
   "source": [
    "np.save(\"../code/baseline/mtf-nested-pred-2.npy\", cont_out_2)"
   ]
  },
  {
   "cell_type": "code",
   "execution_count": 29,
   "metadata": {
    "collapsed": true
   },
   "outputs": [],
   "source": [
    "np.save(\"../code/baseline/mtf-nested-error-1.npy\", err_stf)"
   ]
  },
  {
   "cell_type": "code",
   "execution_count": 30,
   "metadata": {},
   "outputs": [
    {
     "data": {
      "text/plain": [
       "{'dr': 119.94438254635432,\n",
       " 'dw': 28.503259073456459,\n",
       " 'fridge': 39.463749904414321,\n",
       " 'hvac': 317.73748440484155,\n",
       " 'mw': 11.658893160385178}"
      ]
     },
     "execution_count": 30,
     "metadata": {},
     "output_type": "execute_result"
    }
   ],
   "source": [
    "err_stf"
   ]
  }
 ],
 "metadata": {
  "kernelspec": {
   "display_name": "Python 3",
   "language": "python",
   "name": "python3"
  },
  "language_info": {
   "codemirror_mode": {
    "name": "ipython",
    "version": 3
   },
   "file_extension": ".py",
   "mimetype": "text/x-python",
   "name": "python",
   "nbconvert_exporter": "python",
   "pygments_lexer": "ipython3",
   "version": "3.6.3"
  }
 },
 "nbformat": 4,
 "nbformat_minor": 2
}
