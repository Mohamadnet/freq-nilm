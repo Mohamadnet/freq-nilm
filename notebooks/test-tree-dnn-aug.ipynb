{
 "cells": [
  {
   "cell_type": "code",
   "execution_count": 1,
   "metadata": {},
   "outputs": [
    {
     "data": {
      "text/plain": [
       "<torch._C.Generator at 0x7fcf1da60190>"
      ]
     },
     "execution_count": 1,
     "metadata": {},
     "output_type": "execute_result"
    }
   ],
   "source": [
    "import sys\n",
    "sys.path.append(\"../code/\")\n",
    "from sklearn.metrics import mean_absolute_error\n",
    "from dataloader import APPLIANCE_ORDER, get_train_test\n",
    "import numpy as np\n",
    "import pandas as pd\n",
    "import torch\n",
    "import torch.nn as nn\n",
    "from torch.autograd import Variable\n",
    "\n",
    "cuda_av = False\n",
    "if torch.cuda.is_available():\n",
    "    cuda_av = True\n",
    "\n",
    "torch.manual_seed(0)\n",
    "np.random.seed(0)\n",
    "\n",
    "\n",
    "weight_appliance = {'mw':1, 'dw':1, 'dr':1,'fridge':1, 'hvac':1}\n",
    "\n",
    "# num_hidden, num_iterations, num_layers, p, num_directions = sys.argv[1:6]\n",
    "\n",
    "\n",
    "class CustomRNN(nn.Module):\n",
    "    def __init__(self):\n",
    "        super(CustomRNN, self).__init__()\n",
    "        torch.manual_seed(0)\n",
    "\n",
    "      \n",
    "        self.lin_1 = nn.Linear(24, 100)\n",
    "        self.lin_2 = nn.Linear(100, 24)\n",
    "        self.bn = nn.BatchNorm1d(100)\n",
    "        #self.lin_3 = nn.Linear(48, 24)\n",
    "        \n",
    "        \n",
    "        self.act_1 = nn.ReLU()\n",
    "        self.act_2 = nn.ReLU()\n",
    "        #self.act_3 = nn.ReLU()\n",
    "\n",
    "    def forward(self, x):\n",
    "        \n",
    "        pred = self.lin_1(x)\n",
    "        pred = self.act_1(pred)\n",
    "        pred = self.bn(pred)\n",
    "        pred = self.lin_2(pred)\n",
    "        pred = self.act_2(pred)\n",
    "        \n",
    "        \n",
    "        #pred = torch.clamp(pred, min=0.)\n",
    "        #pred = self.act(pred)\n",
    "        pred = torch.min(pred, x)\n",
    "        return pred\n",
    "\n",
    "\n",
    "class AppliancesRNN(nn.Module):\n",
    "    def __init__(self, num_appliance):\n",
    "        super(AppliancesRNN, self).__init__()\n",
    "        self.num_appliance = num_appliance\n",
    "        self.preds = {}\n",
    "        self.order = ORDER\n",
    "        for appliance in range(self.num_appliance):\n",
    "            if cuda_av:\n",
    "                setattr(self, \"Appliance_\" + str(appliance), CustomRNN().cuda())\n",
    "            else:\n",
    "                setattr(self, \"Appliance_\" + str(appliance), CustomRNN())\n",
    "\n",
    "    def forward(self, *args):\n",
    "        agg_current = args[0]\n",
    "        flag = False\n",
    "        if np.random.random() > args[1]:\n",
    "            flag = True\n",
    "        # print(\"Subtracting prediction\")\n",
    "        else:\n",
    "            pass\n",
    "        # print(\"Subtracting true\")\n",
    "        for appliance in range(self.num_appliance):\n",
    "            # print(agg_current.mean().data[0])\n",
    "            # print appliance\n",
    "            # print self.order[appliance]\n",
    "            # print args[2+appliance]\n",
    "            #print(getattr(self, \"Appliance_\" + str(appliance)))\n",
    "            self.preds[appliance] = getattr(self, \"Appliance_\" + str(appliance))(agg_current)\n",
    "            if flag:\n",
    "                agg_current = agg_current - self.preds[appliance]\n",
    "            else:\n",
    "                agg_current = agg_current - args[2 + appliance]\n",
    "\n",
    "        return torch.cat([self.preds[a] for a in range(self.num_appliance)])\n",
    "\n",
    "#ORDER = APPLIANCE_ORDER[1:][::-1]\n",
    "\n",
    "\n",
    "num_hidden = 120\n",
    "num_iterations = 300\n",
    "num_layers = 1\n",
    "num_directions = 1\n",
    "\n",
    "input_dim = 1\n",
    "hidden_size = num_hidden\n",
    "num_layers = num_layers\n",
    "if num_directions == 1:\n",
    "    bidirectional = False\n",
    "else:\n",
    "    bidirectional = True\n",
    "lr = 0.5\n",
    "p = 0.1\n",
    "num_folds = 5\n",
    "fold_num = 0\n",
    "\n",
    "torch.manual_seed(0)\n",
    "\n"
   ]
  },
  {
   "cell_type": "code",
   "execution_count": 2,
   "metadata": {},
   "outputs": [],
   "source": [
    "aug_data = np.load('../aug_data_appliance.npy')"
   ]
  },
  {
   "cell_type": "code",
   "execution_count": 3,
   "metadata": {
    "collapsed": true
   },
   "outputs": [],
   "source": [
    "train, test = get_train_test(num_folds=num_folds, fold_num=fold_num)"
   ]
  },
  {
   "cell_type": "code",
   "execution_count": 4,
   "metadata": {
    "collapsed": true
   },
   "outputs": [],
   "source": [
    "num_aug = 50\n",
    "train = np.vstack([train, aug_data[:num_aug]])"
   ]
  },
  {
   "cell_type": "code",
   "execution_count": 5,
   "metadata": {
    "collapsed": true
   },
   "outputs": [],
   "source": [
    "train_aggregate = train[:, 0, :, :].reshape(-1, 24)\n",
    "test_aggregate = test[:, 0, :, :].reshape(-1, 24)"
   ]
  },
  {
   "cell_type": "code",
   "execution_count": 6,
   "metadata": {},
   "outputs": [
    {
     "name": "stdout",
     "output_type": "stream",
     "text": [
      "(104, 6, 112, 24)\n"
     ]
    }
   ],
   "source": [
    "ORDER = APPLIANCE_ORDER[1:][:3]\n",
    "ORDER = ['dw','fridge','dr','hvac']\n",
    "#ORDER = ['fridge']\n",
    "ORDER = ['hvac']\n",
    "\n",
    "print (train.shape)"
   ]
  },
  {
   "cell_type": "code",
   "execution_count": 7,
   "metadata": {
    "collapsed": true
   },
   "outputs": [],
   "source": [
    "out_train = [None for temp in range(len(ORDER))]\n",
    "for a_num, appliance in enumerate(ORDER):\n",
    "    out_train[a_num] = Variable(\n",
    "        torch.Tensor(train[:, APPLIANCE_ORDER.index(appliance), :, :].reshape((train_aggregate.shape[0], -1))))\n",
    "    if cuda_av:\n",
    "        out_train[a_num] = out_train[a_num].cuda()\n",
    "\n",
    "out_test = [None for temp in range(len(ORDER))]\n",
    "for a_num, appliance in enumerate(ORDER):\n",
    "    out_test[a_num] = Variable(\n",
    "        torch.Tensor(test[:, APPLIANCE_ORDER.index(appliance), :, :].reshape((test_aggregate.shape[0], -1))))\n",
    "    if cuda_av:\n",
    "        out_test[a_num] = out_test[a_num].cuda()\n",
    "\n",
    "loss_func = nn.L1Loss()\n",
    "a = AppliancesRNN(num_appliance=len(ORDER))\n",
    "#for param in a.parameters():\n",
    "#    param.data = param.data.abs()\n",
    "#print(a)\n",
    "if cuda_av:\n",
    "    a = a.cuda()\n",
    "    loss_func = loss_func.cuda()\n",
    "optimizer = torch.optim.Adam(a.parameters(), lr=lr)"
   ]
  },
  {
   "cell_type": "code",
   "execution_count": 8,
   "metadata": {
    "collapsed": true
   },
   "outputs": [],
   "source": [
    "inp = Variable(torch.Tensor(train_aggregate.reshape((train_aggregate.shape[0], -1))).type(torch.FloatTensor),\n",
    "               requires_grad=True)"
   ]
  },
  {
   "cell_type": "code",
   "execution_count": 9,
   "metadata": {},
   "outputs": [
    {
     "data": {
      "text/plain": [
       "torch.Size([11648, 24])"
      ]
     },
     "execution_count": 9,
     "metadata": {},
     "output_type": "execute_result"
    }
   ],
   "source": [
    "inp.size()"
   ]
  },
  {
   "cell_type": "code",
   "execution_count": 10,
   "metadata": {
    "scrolled": true
   },
   "outputs": [
    {
     "name": "stdout",
     "output_type": "stream",
     "text": [
      "(0, 870.9022827148438)\n",
      "(1, 868.3705444335938)\n",
      "(2, 850.6871948242188)\n",
      "(3, 818.9712524414062)\n",
      "(4, 764.2807006835938)\n",
      "(5, 684.1810302734375)\n",
      "(6, 582.8931884765625)\n",
      "(7, 474.0671081542969)\n",
      "(8, 367.33526611328125)\n",
      "(9, 275.1098327636719)\n",
      "(10, 208.36410522460938)\n",
      "(11, 174.63934326171875)\n",
      "(12, 165.36634826660156)\n",
      "(13, 166.59042358398438)\n",
      "(14, 169.74794006347656)\n",
      "(15, 172.2734832763672)\n",
      "(16, 173.8472900390625)\n",
      "(17, 174.7525177001953)\n",
      "(18, 175.1378631591797)\n",
      "(19, 175.3018798828125)\n",
      "(20, 175.3915557861328)\n",
      "(21, 175.41932678222656)\n",
      "(22, 175.39315795898438)\n",
      "(23, 175.36383056640625)\n",
      "(24, 175.36581420898438)\n",
      "(25, 175.36412048339844)\n",
      "(26, 175.32798767089844)\n",
      "(27, 175.26895141601562)\n",
      "(28, 175.17515563964844)\n",
      "(29, 175.05279541015625)\n",
      "(30, 174.9171600341797)\n",
      "(31, 174.78562927246094)\n",
      "(32, 174.62208557128906)\n",
      "(33, 174.45021057128906)\n",
      "(34, 174.26145935058594)\n",
      "(35, 174.07916259765625)\n",
      "(36, 173.9104461669922)\n",
      "(37, 173.72802734375)\n",
      "(38, 173.5377197265625)\n",
      "(39, 173.33079528808594)\n",
      "(40, 173.09666442871094)\n",
      "(41, 172.85690307617188)\n",
      "(42, 172.60537719726562)\n",
      "(43, 172.35885620117188)\n",
      "(44, 172.12843322753906)\n",
      "(45, 171.88778686523438)\n",
      "(46, 171.6447296142578)\n",
      "(47, 171.38746643066406)\n",
      "(48, 171.1157989501953)\n",
      "(49, 170.8214874267578)\n",
      "(50, 170.54566955566406)\n",
      "(51, 170.31045532226562)\n",
      "(52, 170.1175994873047)\n",
      "(53, 169.95745849609375)\n",
      "(54, 169.81243896484375)\n",
      "(55, 169.65911865234375)\n",
      "(56, 169.50213623046875)\n",
      "(57, 169.31724548339844)\n",
      "(58, 169.14784240722656)\n",
      "(59, 168.98443603515625)\n",
      "(60, 168.8696746826172)\n",
      "(61, 168.76344299316406)\n",
      "(62, 168.6497039794922)\n",
      "(63, 168.53933715820312)\n",
      "(64, 168.38140869140625)\n",
      "(65, 168.30935668945312)\n",
      "(66, 168.2492218017578)\n",
      "(67, 168.1863555908203)\n",
      "(68, 168.08743286132812)\n",
      "(69, 167.95175170898438)\n",
      "(70, 167.8344268798828)\n",
      "(71, 167.70953369140625)\n",
      "(72, 167.55502319335938)\n",
      "(73, 167.41336059570312)\n",
      "(74, 167.2871551513672)\n",
      "(75, 167.15452575683594)\n",
      "(76, 167.0168914794922)\n",
      "(77, 166.8802490234375)\n",
      "(78, 166.75973510742188)\n",
      "(79, 166.6182403564453)\n",
      "(80, 166.47552490234375)\n",
      "(81, 166.36195373535156)\n",
      "(82, 166.2291717529297)\n",
      "(83, 166.09864807128906)\n",
      "(84, 165.95606994628906)\n",
      "(85, 165.84169006347656)\n",
      "(86, 165.70980834960938)\n",
      "(87, 165.56800842285156)\n",
      "(88, 165.4140625)\n",
      "(89, 165.24595642089844)\n",
      "(90, 165.0869140625)\n",
      "(91, 164.91575622558594)\n",
      "(92, 164.74166870117188)\n",
      "(93, 164.56297302246094)\n",
      "(94, 164.41761779785156)\n",
      "(95, 164.26583862304688)\n",
      "(96, 164.13076782226562)\n",
      "(97, 164.00454711914062)\n",
      "(98, 163.8638916015625)\n",
      "(99, 163.73577880859375)\n",
      "(100, 163.61349487304688)\n",
      "(101, 163.450439453125)\n",
      "(102, 163.3330078125)\n",
      "(103, 163.16371154785156)\n",
      "(104, 163.04098510742188)\n",
      "(105, 162.9126434326172)\n",
      "(106, 162.817138671875)\n",
      "(107, 162.7224578857422)\n",
      "(108, 162.62136840820312)\n",
      "(109, 162.53538513183594)\n",
      "(110, 162.44398498535156)\n",
      "(111, 162.34429931640625)\n",
      "(112, 162.24623107910156)\n",
      "(113, 162.1409149169922)\n",
      "(114, 162.03453063964844)\n",
      "(115, 161.912109375)\n",
      "(116, 161.7863006591797)\n",
      "(117, 161.64418029785156)\n",
      "(118, 161.50997924804688)\n",
      "(119, 161.35769653320312)\n",
      "(120, 161.2301025390625)\n",
      "(121, 161.09249877929688)\n",
      "(122, 160.98451232910156)\n",
      "(123, 160.8092498779297)\n",
      "(124, 160.68670654296875)\n",
      "(125, 160.5695343017578)\n",
      "(126, 160.44656372070312)\n",
      "(127, 160.309326171875)\n",
      "(128, 160.18663024902344)\n",
      "(129, 160.09681701660156)\n",
      "(130, 159.96849060058594)\n",
      "(131, 159.84251403808594)\n",
      "(132, 159.73060607910156)\n",
      "(133, 159.62803649902344)\n",
      "(134, 159.56021118164062)\n",
      "(135, 159.45938110351562)\n",
      "(136, 159.31341552734375)\n",
      "(137, 159.20094299316406)\n",
      "(138, 159.1279754638672)\n",
      "(139, 159.04034423828125)\n",
      "(140, 158.93997192382812)\n",
      "(141, 158.8124237060547)\n",
      "(142, 158.71359252929688)\n",
      "(143, 158.59237670898438)\n",
      "(144, 158.5019989013672)\n",
      "(145, 158.40438842773438)\n",
      "(146, 158.31321716308594)\n",
      "(147, 158.21002197265625)\n",
      "(148, 158.1716766357422)\n",
      "(149, 157.9979248046875)\n",
      "(150, 157.868408203125)\n",
      "(151, 157.77426147460938)\n",
      "(152, 157.91348266601562)\n",
      "(153, 158.17745971679688)\n",
      "(154, 157.5618133544922)\n",
      "(155, 157.44427490234375)\n",
      "(156, 157.4575958251953)\n",
      "(157, 157.43338012695312)\n",
      "(158, 157.0350341796875)\n",
      "(159, 157.4607696533203)\n",
      "(160, 157.29258728027344)\n",
      "(161, 157.0442657470703)\n",
      "(162, 156.5234832763672)\n",
      "(163, 157.2323455810547)\n",
      "(164, 157.48191833496094)\n",
      "(165, 156.82762145996094)\n",
      "(166, 157.0515899658203)\n",
      "(167, 156.0752410888672)\n",
      "(168, 156.55030822753906)\n",
      "(169, 156.33753967285156)\n",
      "(170, 155.78875732421875)\n",
      "(171, 155.87071228027344)\n",
      "(172, 155.5575714111328)\n",
      "(173, 155.59402465820312)\n",
      "(174, 155.40097045898438)\n",
      "(175, 155.07681274414062)\n",
      "(176, 155.18434143066406)\n",
      "(177, 155.028564453125)\n",
      "(178, 154.49868774414062)\n",
      "(179, 154.7843017578125)\n",
      "(180, 154.4842071533203)\n",
      "(181, 154.3531951904297)\n",
      "(182, 153.9010772705078)\n",
      "(183, 153.97271728515625)\n",
      "(184, 154.1044921875)\n",
      "(185, 154.49363708496094)\n",
      "(186, 153.7709197998047)\n",
      "(187, 153.41749572753906)\n",
      "(188, 153.86720275878906)\n",
      "(189, 154.48666381835938)\n",
      "(190, 153.58421325683594)\n",
      "(191, 154.92161560058594)\n",
      "(192, 153.38787841796875)\n",
      "(193, 153.9958038330078)\n",
      "(194, 154.58285522460938)\n",
      "(195, 153.22592163085938)\n",
      "(196, 154.11395263671875)\n",
      "(197, 153.75192260742188)\n",
      "(198, 152.9550018310547)\n",
      "(199, 153.93569946289062)\n",
      "(200, 153.2101287841797)\n",
      "(201, 153.3175048828125)\n",
      "(202, 153.1808624267578)\n",
      "(203, 152.73431396484375)\n",
      "(204, 152.4786834716797)\n",
      "(205, 152.40858459472656)\n",
      "(206, 152.60107421875)\n",
      "(207, 152.19979858398438)\n",
      "(208, 151.78695678710938)\n",
      "(209, 151.61752319335938)\n",
      "(210, 151.43289184570312)\n",
      "(211, 151.36639404296875)\n",
      "(212, 150.85641479492188)\n",
      "(213, 150.87506103515625)\n",
      "(214, 150.84788513183594)\n",
      "(215, 150.77281188964844)\n",
      "(216, 150.34524536132812)\n",
      "(217, 150.267578125)\n",
      "(218, 150.330078125)\n",
      "(219, 150.2173614501953)\n",
      "(220, 149.85694885253906)\n",
      "(221, 149.7210693359375)\n",
      "(222, 149.8726806640625)\n",
      "(223, 149.58091735839844)\n",
      "(224, 149.51441955566406)\n",
      "(225, 149.78338623046875)\n",
      "(226, 149.0181121826172)\n",
      "(227, 149.26473999023438)\n",
      "(228, 148.66493225097656)\n",
      "(229, 148.85580444335938)\n",
      "(230, 148.63784790039062)\n",
      "(231, 148.1134490966797)\n",
      "(232, 148.59127807617188)\n",
      "(233, 147.80523681640625)\n",
      "(234, 148.2015380859375)\n",
      "(235, 147.92349243164062)\n",
      "(236, 147.70932006835938)\n",
      "(237, 147.82833862304688)\n",
      "(238, 147.17218017578125)\n",
      "(239, 147.54359436035156)\n",
      "(240, 146.86598205566406)\n",
      "(241, 146.94528198242188)\n",
      "(242, 146.68971252441406)\n",
      "(243, 146.3343505859375)\n",
      "(244, 146.79428100585938)\n",
      "(245, 146.11524963378906)\n",
      "(246, 146.1789093017578)\n",
      "(247, 145.60748291015625)\n",
      "(248, 145.73715209960938)\n",
      "(249, 145.65188598632812)\n",
      "(250, 145.06446838378906)\n",
      "(251, 145.0672149658203)\n",
      "(252, 144.6177520751953)\n",
      "(253, 144.52688598632812)\n",
      "(254, 144.1298370361328)\n",
      "(255, 143.75331115722656)\n",
      "(256, 143.29588317871094)\n",
      "(257, 142.96810913085938)\n",
      "(258, 142.53733825683594)\n",
      "(259, 142.47561645507812)\n",
      "(260, 141.91311645507812)\n",
      "(261, 141.70518493652344)\n",
      "(262, 140.7425537109375)\n",
      "(263, 140.57057189941406)\n",
      "(264, 140.14755249023438)\n",
      "(265, 139.6949462890625)\n",
      "(266, 139.70059204101562)\n",
      "(267, 138.697509765625)\n",
      "(268, 138.7723388671875)\n",
      "(269, 138.23770141601562)\n",
      "(270, 138.5410919189453)\n",
      "(271, 138.1378936767578)\n",
      "(272, 137.52867126464844)\n",
      "(273, 137.74143981933594)\n",
      "(274, 137.21034240722656)\n",
      "(275, 137.4137420654297)\n",
      "(276, 136.6126251220703)\n",
      "(277, 136.8840789794922)\n",
      "(278, 136.37789916992188)\n",
      "(279, 136.35646057128906)\n",
      "(280, 135.62600708007812)\n",
      "(281, 136.1689453125)\n",
      "(282, 135.28424072265625)\n",
      "(283, 135.36538696289062)\n",
      "(284, 134.93704223632812)\n",
      "(285, 134.50399780273438)\n",
      "(286, 134.1266326904297)\n",
      "(287, 133.96170043945312)\n",
      "(288, 133.85971069335938)\n",
      "(289, 133.24560546875)\n",
      "(290, 133.29432678222656)\n",
      "(291, 132.82386779785156)\n",
      "(292, 132.6881866455078)\n",
      "(293, 132.43536376953125)\n",
      "(294, 132.1415557861328)\n",
      "(295, 131.9755401611328)\n",
      "(296, 131.84556579589844)\n",
      "(297, 131.63796997070312)\n",
      "(298, 131.5183563232422)\n",
      "(299, 131.3848876953125)\n"
     ]
    }
   ],
   "source": [
    "for t in range(num_iterations):\n",
    "    inp = Variable(torch.Tensor(train_aggregate), requires_grad=True)\n",
    "    out = torch.cat([out_train[appliance_num] for appliance_num, appliance in enumerate(ORDER)])\n",
    "    ot =  torch.cat([out_test[appliance_num] for appliance_num, appliance in enumerate(ORDER)])\n",
    "    if cuda_av:\n",
    "        inp = inp.cuda()\n",
    "        out = out.cuda()\n",
    "        ot = ot.cuda()\n",
    "\n",
    "    params = [inp, p]\n",
    "    for a_num, appliance in enumerate(ORDER):\n",
    "        params.append(out_train[a_num])\n",
    "    # print(params)\n",
    "    pred = a(*params)\n",
    "\n",
    "    optimizer.zero_grad()\n",
    "    pred_split = torch.split(pred, pred.size(0)//len(ORDER))\n",
    "\n",
    "    losses= [loss_func(pred_split[appliance_num], out_train[appliance_num])*weight_appliance[appliance] for appliance_num, appliance in enumerate(ORDER)]\n",
    "    \n",
    "    loss = sum(losses)\n",
    "    if t % 1 == 0:\n",
    "        print(t, loss.data[0])\n",
    "\n",
    "    loss.backward()\n",
    "    optimizer.step()"
   ]
  },
  {
   "cell_type": "code",
   "execution_count": 11,
   "metadata": {
    "collapsed": true
   },
   "outputs": [],
   "source": [
    "params = list(a.parameters())"
   ]
  },
  {
   "cell_type": "code",
   "execution_count": 12,
   "metadata": {},
   "outputs": [
    {
     "data": {
      "text/plain": [
       "<matplotlib.axes._subplots.AxesSubplot at 0x7fcee3901d10>"
      ]
     },
     "execution_count": 12,
     "metadata": {},
     "output_type": "execute_result"
    }
   ],
   "source": [
    "import seaborn as sns\n",
    "sns.heatmap(params[0].data.numpy(),cmap='Greens')"
   ]
  },
  {
   "cell_type": "code",
   "execution_count": 13,
   "metadata": {},
   "outputs": [
    {
     "data": {
      "text/plain": [
       "Variable containing:\n",
       "  767.8787\n",
       "  679.1804\n",
       "  593.6063\n",
       "  536.8521\n",
       "  505.1638\n",
       "  500.2490\n",
       "  407.5239\n",
       "  329.9708\n",
       "  415.2789\n",
       "  503.7776\n",
       "  650.6884\n",
       "  845.0388\n",
       " 1031.0276\n",
       " 1245.6385\n",
       " 1436.0037\n",
       " 1609.1650\n",
       " 1721.4832\n",
       " 1761.7365\n",
       " 1572.9579\n",
       " 1490.0607\n",
       " 1365.6045\n",
       " 1216.0181\n",
       " 1037.4904\n",
       "  902.2043\n",
       "[torch.FloatTensor of size 24]"
      ]
     },
     "execution_count": 13,
     "metadata": {},
     "output_type": "execute_result"
    }
   ],
   "source": [
    "pred.mean(dim=0)"
   ]
  },
  {
   "cell_type": "code",
   "execution_count": 14,
   "metadata": {
    "collapsed": true
   },
   "outputs": [],
   "source": [
    "test_inp = Variable(torch.Tensor(test_aggregate), requires_grad=False)\n",
    "if cuda_av:\n",
    "    test_inp = test_inp.cuda()\n",
    "\n",
    "params = [test_inp, -2]\n",
    "for i in range(len(ORDER)):\n",
    "    params.append(None)\n",
    "pr = a(*params)\n",
    "pr = torch.clamp(pr, min=0.)\n",
    "test_pred = torch.split(pr, test_aggregate.shape[0])\n",
    "prediction_fold = [None for x in range(len(ORDER))]\n",
    "\n",
    "if cuda_av:\n",
    "    for appliance_num, appliance in enumerate(ORDER):\n",
    "        prediction_fold[appliance_num] = test_pred[appliance_num].cpu().data.numpy().reshape(-1, 24)\n",
    "else:\n",
    "    for appliance_num, appliance in enumerate(ORDER):\n",
    "        prediction_fold[appliance_num] = test_pred[appliance_num].data.numpy().reshape(-1, 24)\n",
    "gt_fold = [None for x in range(len(ORDER))]\n",
    "for appliance_num, appliance in enumerate(ORDER):\n",
    "    gt_fold[appliance_num] = test[:, APPLIANCE_ORDER.index(appliance), :, :].reshape(test_aggregate.shape[0], -1,\n",
    "                                                                                         1).reshape(-1, 24)"
   ]
  },
  {
   "cell_type": "code",
   "execution_count": 15,
   "metadata": {},
   "outputs": [
    {
     "data": {
      "text/plain": [
       "['hvac']"
      ]
     },
     "execution_count": 15,
     "metadata": {},
     "output_type": "execute_result"
    }
   ],
   "source": [
    "ORDER"
   ]
  },
  {
   "cell_type": "code",
   "execution_count": 16,
   "metadata": {},
   "outputs": [
    {
     "data": {
      "text/plain": [
       "125.80279694778379"
      ]
     },
     "execution_count": 16,
     "metadata": {},
     "output_type": "execute_result"
    }
   ],
   "source": [
    "from sklearn.metrics import mean_absolute_error\n",
    "mean_absolute_error(prediction_fold[0], gt_fold[0])"
   ]
  },
  {
   "cell_type": "code",
   "execution_count": 17,
   "metadata": {},
   "outputs": [
    {
     "data": {
      "text/plain": [
       "892.3822"
      ]
     },
     "execution_count": 17,
     "metadata": {},
     "output_type": "execute_result"
    }
   ],
   "source": [
    "prediction_fold[0].mean()"
   ]
  },
  {
   "cell_type": "code",
   "execution_count": 18,
   "metadata": {
    "collapsed": true
   },
   "outputs": [],
   "source": [
    "%matplotlib inline"
   ]
  },
  {
   "cell_type": "code",
   "execution_count": 19,
   "metadata": {},
   "outputs": [
    {
     "data": {
      "text/plain": [
       "<matplotlib.legend.Legend at 0x7fcee0c11b50>"
      ]
     },
     "execution_count": 19,
     "metadata": {},
     "output_type": "execute_result"
    },
    {
     "data": {
      "image/png": "[encoded data removed]",
      "text/plain": [
       "<matplotlib.figure.Figure at 0x7fcee0c06c50>"
      ]
     },
     "metadata": {},
     "output_type": "display_data"
    }
   ],
   "source": [
    "import matplotlib.pyplot as plt\n",
    "pd.DataFrame(prediction_fold[0]).iloc[10].plot(label='Pred')\n",
    "pd.DataFrame(gt_fold[0]).iloc[10].plot(label='GT')\n",
    "plt.legend()"
   ]
  },
  {
   "cell_type": "code",
   "execution_count": 20,
   "metadata": {},
   "outputs": [
    {
     "name": "stdout",
     "output_type": "stream",
     "text": [
      "[Variable containing:\n",
      " 963.5253\n",
      "[torch.FloatTensor of size 1]\n",
      "]\n"
     ]
    }
   ],
   "source": [
    "\n",
    "\n",
    "\n",
    "print([x.mean() for x in pred_split])\n",
    "error = pd.Series({appliance:mean_absolute_error(gt_fold[appliance_num], prediction_fold[appliance_num]) for appliance_num, appliance in enumerate(ORDER)})"
   ]
  },
  {
   "cell_type": "code",
   "execution_count": null,
   "metadata": {
    "collapsed": true
   },
   "outputs": [],
   "source": []
  },
  {
   "cell_type": "code",
   "execution_count": null,
   "metadata": {
    "collapsed": true
   },
   "outputs": [],
   "source": []
  }
 ],
 "metadata": {
  "kernelspec": {
   "display_name": "Python 3",
   "language": "python",
   "name": "python3"
  },
  "language_info": {
   "codemirror_mode": {
    "name": "ipython",
    "version": 2
   },
   "file_extension": ".py",
   "mimetype": "text/x-python",
   "name": "python",
   "nbconvert_exporter": "python",
   "pygments_lexer": "ipython2",
   "version": "2.7.13"
  }
 },
 "nbformat": 4,
 "nbformat_minor": 2
}
