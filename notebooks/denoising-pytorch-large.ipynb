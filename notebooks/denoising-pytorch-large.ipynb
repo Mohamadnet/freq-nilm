{
 "cells": [
  {
   "cell_type": "markdown",
   "metadata": {},
   "source": [
    "# Signal denoising using RNNs in PyTorch"
   ]
  },
  {
   "cell_type": "markdown",
   "metadata": {},
   "source": [
    "In this post, I'll use PyTorch to create a simple Recurrent Neural Network (RNN) for denoising a signal. I started learning RNNs using PyTorch. However, I felt that many of the examples were fairly complex. So, here's an attempt to create a simple example."
   ]
  },
  {
   "cell_type": "markdown",
   "metadata": {},
   "source": [
    "### Problem description\n",
    "\n",
    "Given a noisy sine wave as an input, we want to estimate the denoised signal. This is shown in the figure below."
   ]
  },
  {
   "cell_type": "markdown",
   "metadata": {},
   "source": [
    "![](denoising.png)"
   ]
  },
  {
   "cell_type": "markdown",
   "metadata": {},
   "source": [
    "### Customary imports"
   ]
  },
  {
   "cell_type": "code",
   "execution_count": 1,
   "metadata": {},
   "outputs": [],
   "source": [
    "import numpy as np\n",
    "import math, random\n",
    "import matplotlib.pyplot as plt\n",
    "\n",
    "%matplotlib inline\n",
    "np.random.seed(0)"
   ]
  },
  {
   "cell_type": "markdown",
   "metadata": {},
   "source": [
    "### Creating noisy and denoised signals\n",
    "\n",
    "Let's now write functions to cerate a sine wave, add some noise on top of it. This way we're able to create a noisy verison of the sine wave."
   ]
  },
  {
   "cell_type": "code",
   "execution_count": 108,
   "metadata": {},
   "outputs": [],
   "source": [
    "# Generating a clean sine wave \n",
    "def sine(X, signal_freq=60.):\n",
    "    return np.sin(2 * np.pi * (X) / signal_freq)+2\n",
    "\n",
    "# Adding uniform noise\n",
    "def noisy(Y, noise_range=(-0.35, 0.35)):\n",
    "    noise = np.random.uniform(noise_range[0], noise_range[1], size=Y.shape)\n",
    "    return Y + noise+10\n",
    "\n",
    "# Create a noisy and clean sine wave \n",
    "def sample(sample_size):\n",
    "    random_offset = random.randint(0, sample_size)\n",
    "    X = np.arange(sample_size)\n",
    "    out = sine(X + random_offset)\n",
    "    inp = noisy(out)\n",
    "    return inp, out"
   ]
  },
  {
   "cell_type": "markdown",
   "metadata": {},
   "source": [
    "Let's now invoke the functions we defined to generate the figure we saw in the problem description."
   ]
  },
  {
   "cell_type": "code",
   "execution_count": 109,
   "metadata": {},
   "outputs": [
    {
     "data": {
      "text/plain": [
       "<matplotlib.legend.Legend at 0x115dd2550>"
      ]
     },
     "execution_count": 109,
     "metadata": {},
     "output_type": "execute_result"
    },
    {
     "data": {
      "image/png": "[encoded data removed]",
      "text/plain": [
       "<matplotlib.figure.Figure at 0x115eec0f0>"
      ]
     },
     "metadata": {},
     "output_type": "display_data"
    }
   ],
   "source": [
    "inp, out = sample(100)\n",
    "plt.plot(inp, label='Noisy')\n",
    "plt.plot(out, label ='Denoised')\n",
    "plt.legend()"
   ]
  },
  {
   "cell_type": "markdown",
   "metadata": {},
   "source": [
    "### Creating dataset"
   ]
  },
  {
   "cell_type": "markdown",
   "metadata": {},
   "source": [
    "Now, let's write a simple function to generate a dataset of such noisy and denoised samples."
   ]
  },
  {
   "cell_type": "code",
   "execution_count": 110,
   "metadata": {},
   "outputs": [],
   "source": [
    "def create_dataset(n_samples=10000, sample_size=100):\n",
    "    data_inp = np.zeros((n_samples, sample_size))\n",
    "    data_out = np.zeros((n_samples, sample_size))\n",
    "    \n",
    "    for i in range(n_samples):\n",
    "        sample_inp, sample_out = sample(sample_size)\n",
    "        data_inp[i, :] = sample_inp\n",
    "        data_out[i, :] = sample_out\n",
    "    return data_inp, data_out"
   ]
  },
  {
   "cell_type": "markdown",
   "metadata": {},
   "source": [
    "Now, creating the dataset, and dividing it into train and test set."
   ]
  },
  {
   "cell_type": "code",
   "execution_count": 111,
   "metadata": {},
   "outputs": [],
   "source": [
    "from sklearn.preprocessing import MinMaxScaler\n",
    "scaler = MinMaxScaler()\n",
    "scaler.fit(data_inp)\n",
    "data_inp_scaled = scaler.transform(data_inp)\n",
    "data_out_scaled = scaler.transform(data_out)"
   ]
  },
  {
   "cell_type": "code",
   "execution_count": 112,
   "metadata": {},
   "outputs": [],
   "source": [
    "data_inp, data_out = create_dataset()\n",
    "train_inp, train_out = data_inp[:8000], data_out[:8000]\n",
    "test_inp, test_out = data_inp[8000:], data_out[8000:]"
   ]
  },
  {
   "cell_type": "code",
   "execution_count": 113,
   "metadata": {},
   "outputs": [],
   "source": [
    "import torch\n",
    "import torch.nn as nn\n",
    "from torch.autograd import Variable"
   ]
  },
  {
   "cell_type": "markdown",
   "metadata": {},
   "source": [
    "### Creating RNN"
   ]
  },
  {
   "cell_type": "markdown",
   "metadata": {},
   "source": [
    "We have 1d sine waves, which we want to denoise. Thus, we have input dimension of 1. Let's create a simple 1-layer RNN with 25 hidden units. "
   ]
  },
  {
   "cell_type": "code",
   "execution_count": 123,
   "metadata": {},
   "outputs": [],
   "source": [
    "class CustomRNN(nn.Module):\n",
    "    def __init__(self, input_size, hidden_size, output_size):\n",
    "        super(CustomRNN, self).__init__()\n",
    "        self.rnn = nn.RNN(input_size=input_size, hidden_size=hidden_size, batch_first=True)\n",
    "        self.linear = nn.Linear(hidden_size, output_size, )\n",
    "    def forward(self, x):\n",
    "        pred, hidden = self.rnn(x, None)\n",
    "        pred = self.linear(pred).view(pred.data.shape[0], -1, 1)\n",
    "        return pred\n"
   ]
  },
  {
   "cell_type": "code",
   "execution_count": 124,
   "metadata": {},
   "outputs": [],
   "source": [
    "r= CustomRNN(input_dim, hidden_size, 1)"
   ]
  },
  {
   "cell_type": "code",
   "execution_count": 125,
   "metadata": {},
   "outputs": [
    {
     "data": {
      "text/plain": [
       "torch.Size([1])"
      ]
     },
     "execution_count": 125,
     "metadata": {},
     "output_type": "execute_result"
    }
   ],
   "source": [
    "list(r.parameters())[5].size()"
   ]
  },
  {
   "cell_type": "code",
   "execution_count": 141,
   "metadata": {},
   "outputs": [],
   "source": [
    "input_dim = 1\n",
    "hidden_size = 45\n",
    "num_layers = 1\n",
    "rnn = nn.RNN(input_size=input_dim, hidden_size=hidden_size, num_layers=num_layers\n",
    ", batch_first=True)\n",
    "# We'll use TanH activaton\n",
    "tanh = nn.Tanh()\n",
    "relu = nn.ReLU()\n",
    "linear = nn.Linear(hidden_size, 1)"
   ]
  },
  {
   "cell_type": "markdown",
   "metadata": {},
   "source": [
    "### Training"
   ]
  },
  {
   "cell_type": "code",
   "execution_count": null,
   "metadata": {},
   "outputs": [],
   "source": []
  },
  {
   "cell_type": "code",
   "execution_count": 142,
   "metadata": {},
   "outputs": [
    {
     "name": "stdout",
     "output_type": "stream",
     "text": [
      "0 1.418552041053772\n",
      "2 0.640697181224823\n",
      "4 0.7416679859161377\n",
      "6 0.6632755994796753\n",
      "8 0.6147423982620239\n",
      "10 0.6418255567550659\n",
      "12 0.6188149452209473\n",
      "14 0.5980509519577026\n",
      "16 0.5782493948936462\n",
      "18 0.565689742565155\n",
      "20 0.5347281098365784\n",
      "22 0.503415048122406\n",
      "24 0.46207910776138306\n",
      "26 0.3920835852622986\n",
      "28 0.480284720659256\n",
      "30 0.6375488042831421\n",
      "32 0.558197021484375\n",
      "34 0.38742339611053467\n",
      "36 0.387906551361084\n",
      "38 0.4131935238838196\n",
      "40 0.30313819646835327\n",
      "42 0.3335677683353424\n",
      "44 0.34548476338386536\n",
      "46 0.2438851147890091\n",
      "48 0.16551734507083893\n",
      "50 0.24013876914978027\n",
      "52 0.2916643023490906\n",
      "54 0.27149298787117004\n",
      "56 0.24396340548992157\n",
      "58 0.23896560072898865\n",
      "60 0.19549529254436493\n",
      "62 0.1523866057395935\n",
      "64 0.22843188047409058\n",
      "66 0.22128863632678986\n",
      "68 0.17655517160892487\n",
      "70 0.1569146066904068\n",
      "72 0.1495760977268219\n",
      "74 0.19700373709201813\n",
      "76 0.1587100327014923\n",
      "78 0.14661994576454163\n",
      "80 0.17125478386878967\n",
      "82 0.15856115520000458\n",
      "84 0.13956224918365479\n",
      "86 0.16632601618766785\n",
      "88 0.13788530230522156\n",
      "90 0.14955657720565796\n",
      "92 0.14070358872413635\n",
      "94 0.1433732509613037\n",
      "96 0.13542324304580688\n",
      "98 0.14326298236846924\n",
      "100 0.13284553587436676\n",
      "102 0.13729619979858398\n",
      "104 0.13897249102592468\n",
      "106 0.13154350221157074\n",
      "108 0.1292072981595993\n",
      "110 0.1315578818321228\n",
      "112 0.13731218874454498\n",
      "114 0.14325259625911713\n",
      "116 0.13698075711727142\n",
      "118 0.12776897847652435\n",
      "120 0.12502612173557281\n",
      "122 0.12363415956497192\n",
      "124 0.12273424863815308\n",
      "126 0.12215825170278549\n",
      "128 0.1358814537525177\n",
      "130 0.20281390845775604\n",
      "132 0.12276008725166321\n",
      "134 0.1780371218919754\n",
      "136 0.13581505417823792\n",
      "138 0.11729716509580612\n",
      "140 0.1589587926864624\n",
      "142 0.1259845793247223\n",
      "144 0.12508992850780487\n",
      "146 0.18607577681541443\n",
      "148 0.1348632425069809\n",
      "150 0.14513225853443146\n",
      "152 0.1275242418050766\n",
      "154 0.1497926414012909\n",
      "156 0.12854982912540436\n",
      "158 0.1297670304775238\n",
      "160 0.14083144068717957\n",
      "162 0.12287174165248871\n",
      "164 0.12595359981060028\n",
      "166 0.13468271493911743\n",
      "168 0.1280352771282196\n",
      "170 0.11882111430168152\n",
      "172 0.1151038110256195\n",
      "174 0.12269075959920883\n",
      "176 0.15232588350772858\n",
      "178 0.11910460889339447\n",
      "180 0.1068095862865448\n",
      "182 0.13647431135177612\n",
      "184 0.14813321828842163\n",
      "186 0.1299387365579605\n",
      "188 0.13919557631015778\n",
      "190 0.10732793062925339\n",
      "192 0.15774695575237274\n",
      "194 0.11569998413324356\n",
      "196 0.17046356201171875\n",
      "198 0.10905933380126953\n"
     ]
    }
   ],
   "source": [
    "r= CustomRNN(input_dim, hidden_size, 1)\n",
    "# Storing predictions per iterations to visualise later\n",
    "predictions = []\n",
    "\n",
    "optimizer = torch.optim.Adam(r.parameters(), lr=1e-2)\n",
    "loss_func = nn.L1Loss()\n",
    "\n",
    "for t in range(200):\n",
    "    hidden = None\n",
    "    inp = Variable(torch.Tensor(train_inp.reshape((train_inp.shape[0], -1, 1))), requires_grad=True)\n",
    "    out = Variable(torch.Tensor(train_out.reshape((train_out.shape[0], -1, 1))) )\n",
    "    pred = r(inp)\n",
    "    optimizer.zero_grad()\n",
    "    predictions.append(pred.data.numpy())\n",
    "    loss = loss_func(pred, out)\n",
    "    if t%2==0:\n",
    "        print(t, loss.data[0])\n",
    "    loss.backward()\n",
    "    optimizer.step()"
   ]
  },
  {
   "cell_type": "markdown",
   "metadata": {},
   "source": [
    "Great. As expected, the loss reduces over time."
   ]
  },
  {
   "cell_type": "code",
   "execution_count": 143,
   "metadata": {},
   "outputs": [],
   "source": [
    "t_inp = Variable(torch.Tensor(test_inp.reshape((test_inp.shape[0], -1, 1))), requires_grad=True)\n",
    "pred_t = r(t_inp)\n"
   ]
  },
  {
   "cell_type": "code",
   "execution_count": 132,
   "metadata": {},
   "outputs": [
    {
     "data": {
      "text/plain": [
       "[<matplotlib.lines.Line2D at 0x115aea128>]"
      ]
     },
     "execution_count": 132,
     "metadata": {},
     "output_type": "execute_result"
    },
    {
     "data": {
      "image/png": "[encoded data removed]",
      "text/plain": [
       "<matplotlib.figure.Figure at 0x115dda860>"
      ]
     },
     "metadata": {},
     "output_type": "display_data"
    }
   ],
   "source": [
    "plt.plot(list(r.parameters())[5].data.numpy())"
   ]
  },
  {
   "cell_type": "code",
   "execution_count": 133,
   "metadata": {},
   "outputs": [
    {
     "ename": "TypeError",
     "evalue": "Invalid dimensions for image data",
     "output_type": "error",
     "traceback": [
      "\u001b[0;31m---------------------------------------------------------------------------\u001b[0m",
      "\u001b[0;31mTypeError\u001b[0m                                 Traceback (most recent call last)",
      "\u001b[0;32m<ipython-input-133-a7394b880a57>\u001b[0m in \u001b[0;36m<module>\u001b[0;34m()\u001b[0m\n\u001b[0;32m----> 1\u001b[0;31m \u001b[0mplt\u001b[0m\u001b[0;34m.\u001b[0m\u001b[0mimshow\u001b[0m\u001b[0;34m(\u001b[0m\u001b[0mlist\u001b[0m\u001b[0;34m(\u001b[0m\u001b[0mr\u001b[0m\u001b[0;34m.\u001b[0m\u001b[0mparameters\u001b[0m\u001b[0;34m(\u001b[0m\u001b[0;34m)\u001b[0m\u001b[0;34m)\u001b[0m\u001b[0;34m[\u001b[0m\u001b[0;36m5\u001b[0m\u001b[0;34m]\u001b[0m\u001b[0;34m.\u001b[0m\u001b[0mdata\u001b[0m\u001b[0;34m.\u001b[0m\u001b[0mnumpy\u001b[0m\u001b[0;34m(\u001b[0m\u001b[0;34m)\u001b[0m\u001b[0;34m)\u001b[0m\u001b[0;34m\u001b[0m\u001b[0m\n\u001b[0m",
      "\u001b[0;32m~/anaconda3/lib/python3.6/site-packages/matplotlib/pyplot.py\u001b[0m in \u001b[0;36mimshow\u001b[0;34m(X, cmap, norm, aspect, interpolation, alpha, vmin, vmax, origin, extent, shape, filternorm, filterrad, imlim, resample, url, hold, data, **kwargs)\u001b[0m\n\u001b[1;32m   3155\u001b[0m                         \u001b[0mfilternorm\u001b[0m\u001b[0;34m=\u001b[0m\u001b[0mfilternorm\u001b[0m\u001b[0;34m,\u001b[0m \u001b[0mfilterrad\u001b[0m\u001b[0;34m=\u001b[0m\u001b[0mfilterrad\u001b[0m\u001b[0;34m,\u001b[0m\u001b[0;34m\u001b[0m\u001b[0m\n\u001b[1;32m   3156\u001b[0m                         \u001b[0mimlim\u001b[0m\u001b[0;34m=\u001b[0m\u001b[0mimlim\u001b[0m\u001b[0;34m,\u001b[0m \u001b[0mresample\u001b[0m\u001b[0;34m=\u001b[0m\u001b[0mresample\u001b[0m\u001b[0;34m,\u001b[0m \u001b[0murl\u001b[0m\u001b[0;34m=\u001b[0m\u001b[0murl\u001b[0m\u001b[0;34m,\u001b[0m \u001b[0mdata\u001b[0m\u001b[0;34m=\u001b[0m\u001b[0mdata\u001b[0m\u001b[0;34m,\u001b[0m\u001b[0;34m\u001b[0m\u001b[0m\n\u001b[0;32m-> 3157\u001b[0;31m                         **kwargs)\n\u001b[0m\u001b[1;32m   3158\u001b[0m     \u001b[0;32mfinally\u001b[0m\u001b[0;34m:\u001b[0m\u001b[0;34m\u001b[0m\u001b[0m\n\u001b[1;32m   3159\u001b[0m         \u001b[0max\u001b[0m\u001b[0;34m.\u001b[0m\u001b[0m_hold\u001b[0m \u001b[0;34m=\u001b[0m \u001b[0mwashold\u001b[0m\u001b[0;34m\u001b[0m\u001b[0m\n",
      "\u001b[0;32m~/anaconda3/lib/python3.6/site-packages/matplotlib/__init__.py\u001b[0m in \u001b[0;36minner\u001b[0;34m(ax, *args, **kwargs)\u001b[0m\n\u001b[1;32m   1896\u001b[0m                     warnings.warn(msg % (label_namer, func.__name__),\n\u001b[1;32m   1897\u001b[0m                                   RuntimeWarning, stacklevel=2)\n\u001b[0;32m-> 1898\u001b[0;31m             \u001b[0;32mreturn\u001b[0m \u001b[0mfunc\u001b[0m\u001b[0;34m(\u001b[0m\u001b[0max\u001b[0m\u001b[0;34m,\u001b[0m \u001b[0;34m*\u001b[0m\u001b[0margs\u001b[0m\u001b[0;34m,\u001b[0m \u001b[0;34m**\u001b[0m\u001b[0mkwargs\u001b[0m\u001b[0;34m)\u001b[0m\u001b[0;34m\u001b[0m\u001b[0m\n\u001b[0m\u001b[1;32m   1899\u001b[0m         \u001b[0mpre_doc\u001b[0m \u001b[0;34m=\u001b[0m \u001b[0minner\u001b[0m\u001b[0;34m.\u001b[0m\u001b[0m__doc__\u001b[0m\u001b[0;34m\u001b[0m\u001b[0m\n\u001b[1;32m   1900\u001b[0m         \u001b[0;32mif\u001b[0m \u001b[0mpre_doc\u001b[0m \u001b[0;32mis\u001b[0m \u001b[0;32mNone\u001b[0m\u001b[0;34m:\u001b[0m\u001b[0;34m\u001b[0m\u001b[0m\n",
      "\u001b[0;32m~/anaconda3/lib/python3.6/site-packages/matplotlib/axes/_axes.py\u001b[0m in \u001b[0;36mimshow\u001b[0;34m(self, X, cmap, norm, aspect, interpolation, alpha, vmin, vmax, origin, extent, shape, filternorm, filterrad, imlim, resample, url, **kwargs)\u001b[0m\n\u001b[1;32m   5122\u001b[0m                               resample=resample, **kwargs)\n\u001b[1;32m   5123\u001b[0m \u001b[0;34m\u001b[0m\u001b[0m\n\u001b[0;32m-> 5124\u001b[0;31m         \u001b[0mim\u001b[0m\u001b[0;34m.\u001b[0m\u001b[0mset_data\u001b[0m\u001b[0;34m(\u001b[0m\u001b[0mX\u001b[0m\u001b[0;34m)\u001b[0m\u001b[0;34m\u001b[0m\u001b[0m\n\u001b[0m\u001b[1;32m   5125\u001b[0m         \u001b[0mim\u001b[0m\u001b[0;34m.\u001b[0m\u001b[0mset_alpha\u001b[0m\u001b[0;34m(\u001b[0m\u001b[0malpha\u001b[0m\u001b[0;34m)\u001b[0m\u001b[0;34m\u001b[0m\u001b[0m\n\u001b[1;32m   5126\u001b[0m         \u001b[0;32mif\u001b[0m \u001b[0mim\u001b[0m\u001b[0;34m.\u001b[0m\u001b[0mget_clip_path\u001b[0m\u001b[0;34m(\u001b[0m\u001b[0;34m)\u001b[0m \u001b[0;32mis\u001b[0m \u001b[0;32mNone\u001b[0m\u001b[0;34m:\u001b[0m\u001b[0;34m\u001b[0m\u001b[0m\n",
      "\u001b[0;32m~/anaconda3/lib/python3.6/site-packages/matplotlib/image.py\u001b[0m in \u001b[0;36mset_data\u001b[0;34m(self, A)\u001b[0m\n\u001b[1;32m    598\u001b[0m         if (self._A.ndim not in (2, 3) or\n\u001b[1;32m    599\u001b[0m                 (self._A.ndim == 3 and self._A.shape[-1] not in (3, 4))):\n\u001b[0;32m--> 600\u001b[0;31m             \u001b[0;32mraise\u001b[0m \u001b[0mTypeError\u001b[0m\u001b[0;34m(\u001b[0m\u001b[0;34m\"Invalid dimensions for image data\"\u001b[0m\u001b[0;34m)\u001b[0m\u001b[0;34m\u001b[0m\u001b[0m\n\u001b[0m\u001b[1;32m    601\u001b[0m \u001b[0;34m\u001b[0m\u001b[0m\n\u001b[1;32m    602\u001b[0m         \u001b[0mself\u001b[0m\u001b[0;34m.\u001b[0m\u001b[0m_imcache\u001b[0m \u001b[0;34m=\u001b[0m \u001b[0;32mNone\u001b[0m\u001b[0;34m\u001b[0m\u001b[0m\n",
      "\u001b[0;31mTypeError\u001b[0m: Invalid dimensions for image data"
     ]
    },
    {
     "data": {
      "image/png": "[encoded data removed]",
      "text/plain": [
       "<matplotlib.figure.Figure at 0x1159bb518>"
      ]
     },
     "metadata": {},
     "output_type": "display_data"
    }
   ],
   "source": [
    "plt.imshow(list(r.parameters())[5].data.numpy())"
   ]
  },
  {
   "cell_type": "code",
   "execution_count": 134,
   "metadata": {},
   "outputs": [
    {
     "name": "stdout",
     "output_type": "stream",
     "text": [
      "0.14140084385871887\n",
      "9.999841690063477\n"
     ]
    }
   ],
   "source": [
    "# Test loss\n",
    "print(loss_func(pred_t, Variable(torch.Tensor(test_out.reshape((test_inp.shape[0], -1, 1))))).data[0])\n",
    "print(loss_func(t_inp, Variable(torch.Tensor(test_out.reshape((test_inp.shape[0], -1, 1))))).data[0])"
   ]
  },
  {
   "cell_type": "markdown",
   "metadata": {},
   "source": [
    "### Visualising sample denoising"
   ]
  },
  {
   "cell_type": "code",
   "execution_count": 144,
   "metadata": {},
   "outputs": [
    {
     "data": {
      "text/plain": [
       "<matplotlib.text.Text at 0x1114e9208>"
      ]
     },
     "execution_count": 144,
     "metadata": {},
     "output_type": "execute_result"
    },
    {
     "data": {
      "image/png": "[encoded data removed]",
      "text/plain": [
       "<matplotlib.figure.Figure at 0x115391400>"
      ]
     },
     "metadata": {},
     "output_type": "display_data"
    }
   ],
   "source": [
    "sample_num = 1\n",
    "plt.plot(pred_t[sample_num].data.numpy(), label='Pred')\n",
    "plt.plot(test_out[sample_num], label='GT')\n",
    "plt.legend()\n",
    "plt.title(\"Sample num: {}\".format(sample_num))"
   ]
  },
  {
   "cell_type": "markdown",
   "metadata": {},
   "source": [
    "Seems pretty neat to me!"
   ]
  },
  {
   "cell_type": "markdown",
   "metadata": {},
   "source": [
    "### Visualising estimations as model improves\n",
    "\n",
    "Let's now write a simple function to visualise the estimations as a function of iterations. We'd expect the estimations to improve over time."
   ]
  },
  {
   "cell_type": "code",
   "execution_count": 14,
   "metadata": {},
   "outputs": [
    {
     "name": "stdout",
     "output_type": "stream",
     "text": [
      "fig size: 72.0 DPI, size in inches [ 4.  3.]\n"
     ]
    }
   ],
   "source": [
    "from matplotlib.animation import FuncAnimation\n",
    "\n",
    "fig, ax = plt.subplots(figsize=(4, 3))\n",
    "fig.set_tight_layout(True)\n",
    "\n",
    "# Query the figure's on-screen size and DPI. Note that when saving the figure to\n",
    "# a file, we need to provide a DPI for that separately.\n",
    "print('fig size: {0} DPI, size in inches {1}'.format(\n",
    "    fig.get_dpi(), fig.get_size_inches()))\n",
    "\n",
    "def update(i):\n",
    "    label = 'Iteration {0}'.format(i)\n",
    "    ax.cla()\n",
    "    ax.plot(np.array(predictions)[i, 0, :, 0].T, label='Pred')\n",
    "    ax.plot(train_out[0, :], label='GT')\n",
    "    ax.legend()\n",
    "    ax.set_title(label)\n",
    " \n",
    "\n",
    "anim = FuncAnimation(fig, update, frames=range(0, 200), interval=10)\n",
    "anim.save('learning.mp4',fps=20)\n",
    "plt.close()"
   ]
  },
  {
   "cell_type": "code",
   "execution_count": 15,
   "metadata": {},
   "outputs": [
    {
     "data": {
      "text/html": [
       "<video src=\"learning.mp4\" controls>\n",
       "      Your browser does not support the <code>video</code> element.\n",
       "    </video>"
      ],
      "text/plain": [
       "<IPython.core.display.Video object>"
      ]
     },
     "execution_count": 15,
     "metadata": {},
     "output_type": "execute_result"
    }
   ],
   "source": [
    "from IPython.display import Video\n",
    "Video(\"learning.mp4\")"
   ]
  },
  {
   "cell_type": "markdown",
   "metadata": {},
   "source": [
    "This looks great! We can see how our model learns to learn reasonably good denoised signals over time. It doesn't start great though. Would a better initialisation help? I certainly feel that for this particular problem it would, as predicting the output the same as input is a good starting point!\n",
    "\n",
    "I must also thank Simon Wang and his helpful inputs on the [PyTorch discussion forum](https://discuss.pytorch.org/t/problem-with-vanilla-rnn/12235/12)."
   ]
  }
 ],
 "metadata": {
  "kernelspec": {
   "display_name": "Python 3",
   "language": "python",
   "name": "python3"
  },
  "language_info": {
   "codemirror_mode": {
    "name": "ipython",
    "version": 3
   },
   "file_extension": ".py",
   "mimetype": "text/x-python",
   "name": "python",
   "nbconvert_exporter": "python",
   "pygments_lexer": "ipython3",
   "version": "3.6.3"
  }
 },
 "nbformat": 4,
 "nbformat_minor": 2
}
