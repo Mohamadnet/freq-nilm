{
 "cells": [
  {
   "cell_type": "code",
   "execution_count": 1,
   "metadata": {
    "collapsed": true
   },
   "outputs": [],
   "source": [
    "import numpy as np\n"
   ]
  },
  {
   "cell_type": "code",
   "execution_count": 2,
   "metadata": {
    "collapsed": true
   },
   "outputs": [],
   "source": [
    "appliance_list = ['hvac', 'fridge', 'dr', 'dw', 'mw']"
   ]
  },
  {
   "cell_type": "code",
   "execution_count": 37,
   "metadata": {
    "collapsed": true
   },
   "outputs": [],
   "source": [
    "fold_num = 4\n",
    "dataset = 1"
   ]
  },
  {
   "cell_type": "code",
   "execution_count": 102,
   "metadata": {},
   "outputs": [
    {
     "name": "stdout",
     "output_type": "stream",
     "text": [
      "hvac fridge\n",
      "hvac dr\n",
      "hvac dw\n",
      "hvac mw\n",
      "fridge hvac\n",
      "fridge dr\n",
      "fridge dw\n",
      "fridge mw\n",
      "mw hvac\n",
      "mw fridge\n",
      "mw dr\n",
      "mw dw\n"
     ]
    }
   ],
   "source": [
    "raw_error = {}\n",
    "for app1 in ['hvac', 'fridge', 'mw']:\n",
    "    raw_error[app1] = {}\n",
    "    for app2 in [app for app in appliance_list if app != app1]:\n",
    "        raw_error[app1][app2] = {}\n",
    "        print (app1, app2)\n",
    "        \n",
    "        for lr in [0.01, 0.1, 1.0]:\n",
    "            raw_error[app1][app2][lr] = {}\n",
    "            for iters in [1000, 2000, 3000]:\n",
    "                try:\n",
    "                    raw_error[app1][app2][lr][iters] = \\\n",
    "                    np.load(\"../code/baseline/dnn-nested-cv/valid-error-{}-{}-{}-{}-0.0-[\\'{}\\', \\'{}\\'].npy\"\\\n",
    "                            .format(fold_num, dataset, lr, iters, app1, app2)).item()\n",
    "                except:\n",
    "#                                     continuelr, num_iterations, p, ORDER\n",
    "                    print (\"python rnn-nested-cv-new.py\", fold_num, dataset, lr, iters, 0, app1,app2)"
   ]
  },
  {
   "cell_type": "code",
   "execution_count": 15,
   "metadata": {
    "collapsed": true
   },
   "outputs": [],
   "source": [
    "appliance_contri = {'hvac':0.83003428, 'fridge':0.0827564, 'dr':0.06381463, 'dw':0.01472098, 'mw':0.00867371}"
   ]
  },
  {
   "cell_type": "code",
   "execution_count": 103,
   "metadata": {
    "scrolled": false
   },
   "outputs": [
    {
     "name": "stdout",
     "output_type": "stream",
     "text": [
      "hvac fridge 4 1 0.01 3000 855.150701719\n",
      "hvac fridge 4 1 0.1 1000 843.097138963\n",
      "hvac fridge 4 1 0.1 2000 827.932197845\n",
      "hvac fridge 4 1 0.1 3000 824.290212529\n",
      "hvac fridge 4 1 1.0 1000 858.356540559\n",
      "hvac fridge 4 1 1.0 2000 848.626789135\n",
      "hvac mw 4 1 0.1 1000 1008.02583406\n",
      "hvac mw 4 1 0.1 2000 1035.26860908\n",
      "hvac mw 4 1 0.1 3000 1036.55832649\n",
      "fridge hvac 4 1 0.01 1000 831.656318143\n",
      "fridge hvac 4 1 0.01 2000 836.335845291\n",
      "fridge hvac 4 1 0.01 3000 510.467924271\n",
      "fridge hvac 4 1 0.1 1000 465.040757716\n",
      "fridge hvac 4 1 0.1 2000 524.637168107\n",
      "fridge hvac 4 1 0.1 3000 522.497013515\n"
     ]
    }
   ],
   "source": [
    "error = {}\n",
    "for app1 in ['hvac', 'fridge', 'mw']:\n",
    "    error[app1] = {}\n",
    "    for app2 in [app for app in appliance_list if app != app1]:\n",
    "        error[app1][app2] = {}\n",
    "        \n",
    "        for lr in [0.01, 0.1, 1.0]:\n",
    "            error[app1][app2][lr] = {}\n",
    "            for iters in [1000, 2000, 3000]:\n",
    "                try:\n",
    "                    e1 = raw_error[app1][app2][lr][iters][app1]/appliance_contri[app1]\n",
    "                    e2 = raw_error[app1][app2][lr][iters][app2]/appliance_contri[app2]\n",
    "                    error[app1][app2][lr][iters] = e1+e2\n",
    "                    if e1+e2 < 1050:\n",
    "                        print (app1, app2, fold_num, dataset, lr, iters, e1+e2)\n",
    "                except:\n",
    "                    continue"
   ]
  },
  {
   "cell_type": "code",
   "execution_count": 13,
   "metadata": {},
   "outputs": [
    {
     "data": {
      "text/plain": [
       "array({'hvac': 722.58363073806356, 'mw': 5.414413103077095, 'dr': 73.628477913040754}, dtype=object)"
      ]
     },
     "execution_count": 13,
     "metadata": {},
     "output_type": "execute_result"
    }
   ],
   "source": [
    "np.load('../code/baseline/rnn-nested-cv/valid-error-4-1-GRU-20-1-True-0.01-1000-0.0-[\\'hvac\\', \\'mw\\', \\'dr\\'].npy')"
   ]
  },
  {
   "cell_type": "code",
   "execution_count": 153,
   "metadata": {
    "scrolled": false
   },
   "outputs": [
    {
     "data": {
      "text/plain": [
       "2048.9694031740196"
      ]
     },
     "execution_count": 153,
     "metadata": {},
     "output_type": "execute_result"
    }
   ],
   "source": [
    "fold_num= 4\n",
    "dataset = 1\n",
    "str = 'hvac mw dw'\n",
    "app1, app2, app3 =  str.split()\n",
    "e = []\n",
    "\n",
    "for lr in [0.01, 0.1, 1.0]:\n",
    "    for iters in [1000, 2000, 3000]:\n",
    "        try:\n",
    "            k = \\\n",
    "            np.load(\"../code/baseline/dnn-nested-cv/valid-error-{}-{}-{}-{}-0.0-[\\'{}\\', \\'{}\\', \\'{}\\'].npy\"\\\n",
    "                    .format(fold_num, dataset, lr, iters, app1, app2, app3)).item()\n",
    "#                       \n",
    "            e1 = k[app1]/appliance_contri[app1]\n",
    "            e2 = k[app2]/appliance_contri[app2]\n",
    "            e3 = k[app3]/appliance_contri[app3]\n",
    "            e.append(e1+e2+e3)\n",
    "#                         print (e1+e2+e3)\n",
    "        except:\n",
    "#                             print (\"../code/baseline/rnn-nested-cv/valid-error-{}-{}-{}-{}-{}-{}-{}-{}-0.0-[\\'{}\\', \\'{}\\', \\'{}\\'].npy\"\\\n",
    "#                                     .format(fold_num, dataset, cell_type, hidden_size, num_layers, bidirectional, lr, iters, app1, app2, app3))\n",
    "            print (\"python rnn-nested-cv-new.py \", fold_num, dataset, cell_type, hidden_size, num_layers, bidirectional, lr, iters, 0, app1, app2, app3)\n",
    "            continue\n",
    "                        \n",
    "min(e)"
   ]
  },
  {
   "cell_type": "code",
   "execution_count": 243,
   "metadata": {},
   "outputs": [
    {
     "name": "stdout",
     "output_type": "stream",
     "text": [
      "mw hvac fridge dr\n"
     ]
    }
   ],
   "source": [
    "str = 'mw hvac fridge dr'\n",
    "a1, a2, a3, a4 =  (str.split())\n",
    "print (a1, a2, a3, a4)"
   ]
  },
  {
   "cell_type": "code",
   "execution_count": 201,
   "metadata": {
    "scrolled": false
   },
   "outputs": [
    {
     "name": "stdout",
     "output_type": "stream",
     "text": [
      "2326.87857486\n"
     ]
    }
   ],
   "source": [
    "fold_num = 4\n",
    "dataset = 1\n",
    "str = 'fridge hvac mw dw'\n",
    "app1, app2, app3, app4 = (str.split())\n",
    "# fridge hvac dr dw\n",
    "e = []\n",
    "\n",
    "for lr in [0.01, 0.1, 1.0]:\n",
    "    for iters in [1000, 2000, 3000]:\n",
    "        try:\n",
    "            k = \\\n",
    "            np.load(\"../code/baseline/dnn-nested-cv/valid-error-{}-{}-{}-{}-0.0-[\\'{}\\', \\'{}\\', \\'{}\\', \\'{}\\'].npy\"\\\n",
    "                    .format(fold_num, dataset, lr, iters, app1, app2, app3, app4)).item()\n",
    "            e1 = k[app1]/appliance_contri[app1]\n",
    "            e2 = k[app2]/appliance_contri[app2]\n",
    "            e3 = k[app3]/appliance_contri[app3]\n",
    "            e4 = k[app4]/appliance_contri[app4]\n",
    "            e.append(e1+e2+e3+e4)\n",
    "        except:\n",
    "            print (\"python rnn-nested-cv-new.py \", fold_num, dataset, lr, iters, 0, app1, app2, app3, app4)\n",
    "print (min(e))"
   ]
  },
  {
   "cell_type": "code",
   "execution_count": 234,
   "metadata": {
    "scrolled": false
   },
   "outputs": [
    {
     "name": "stdout",
     "output_type": "stream",
     "text": [
      "0.01 1000 3548.72331209\n",
      "0.01 2000 3567.93575203\n",
      "0.01 3000 3242.89231218\n",
      "0.1 1000 3261.49497801\n",
      "0.1 2000 3281.1364101\n",
      "0.1 3000 3307.51809439\n",
      "1.0 1000 3263.99028386\n",
      "1.0 2000 3263.27473931\n",
      "1.0 3000 3963.97117528\n",
      "3242.89231218\n"
     ]
    }
   ],
   "source": [
    "fold_num = 1\n",
    "dataset = 1\n",
    "str = 'fridge hvac dr dw mw'\n",
    "app1, app2, app3, app4, app5 = (str.split())\n",
    "# fridge hvac dr dw\n",
    "e = []\n",
    "\n",
    "           \n",
    "for lr in [0.01, 0.1, 1.0]:\n",
    "    for iters in [1000, 2000, 3000]:\n",
    "        try:\n",
    "#                             valid-error-4-1-RNN-100-1-True-0.01-3000-0.0-\\[\\'hvac\\'\\,\\ \\'fridge\\'\\,\\ \\'mw\\'\\,\\ \\'dr\\'\\].npy\n",
    "            k = \\\n",
    "            np.load(\"../code/baseline/dnn-nested-cv/valid-error-{}-{}-{}-{}-0.0-[\\'{}\\', \\'{}\\', \\'{}\\', \\'{}\\', \\'{}\\'].npy\"\\\n",
    "                    .format(fold_num, dataset, lr, iters, app1, app2, app3, app4, app5)).item()\n",
    "            e1 = k[app1]/appliance_contri[app1]\n",
    "            e2 = k[app2]/appliance_contri[app2]\n",
    "            e3 = k[app3]/appliance_contri[app3]\n",
    "            e4 = k[app4]/appliance_contri[app4]\n",
    "            e5 = k[app5]/appliance_contri[app5]\n",
    "            e.append(e1+e2+e3+e4+e5)\n",
    "            print ( lr, iters, e1+e2+e3+e4+e5)\n",
    "#                             print (e1+e2+e3+e4)\n",
    "        except:\n",
    "            print (\"python rnn-nested-cv-new.py \", lr, iters, 0, app1, app2, app3, app4, app5)\n",
    "print (min(e))"
   ]
  },
  {
   "cell_type": "code",
   "execution_count": 235,
   "metadata": {
    "collapsed": true
   },
   "outputs": [],
   "source": [
    "greedy = {}\n",
    "dataset = 1\n",
    "greedy[dataset] = {}\n",
    "\n",
    "#fold 0\n",
    "fold=0\n",
    "greedy[dataset][fold] = {}\n",
    "greedy[dataset][fold]['lr'] = 0.1\n",
    "greedy[dataset][fold]['iters'] = 1000\n",
    "greedy[dataset][fold]['ORDER'] = 'fridge hvac dr mw dw'"
   ]
  },
  {
   "cell_type": "code",
   "execution_count": 236,
   "metadata": {
    "collapsed": true
   },
   "outputs": [],
   "source": [
    "#fold 0\n",
    "fold=1\n",
    "greedy[dataset][fold] = {}\n",
    "greedy[dataset][fold]['lr'] = 0.01\n",
    "greedy[dataset][fold]['iters'] = 3000\n",
    "greedy[dataset][fold]['ORDER'] = 'fridge hvac dr dw mw'"
   ]
  },
  {
   "cell_type": "code",
   "execution_count": 243,
   "metadata": {
    "collapsed": true
   },
   "outputs": [],
   "source": [
    "#fold 0\n",
    "fold=2\n",
    "greedy[dataset][fold] = {}\n",
    "greedy[dataset][fold]['lr'] = 1\n",
    "greedy[dataset][fold]['iters'] = 1000\n",
    "greedy[dataset][fold]['ORDER'] = 'fridge hvac dw dr mw'"
   ]
  },
  {
   "cell_type": "code",
   "execution_count": 238,
   "metadata": {
    "collapsed": true
   },
   "outputs": [],
   "source": [
    "#fold 0\n",
    "fold=3\n",
    "greedy[dataset][fold] = {}\n",
    "greedy[dataset][fold]['lr'] = 0.01\n",
    "greedy[dataset][fold]['iters'] = 3000\n",
    "greedy[dataset][fold]['ORDER'] = 'fridge hvac dr dw mw'"
   ]
  },
  {
   "cell_type": "code",
   "execution_count": 239,
   "metadata": {
    "collapsed": true
   },
   "outputs": [],
   "source": [
    "#fold 0\n",
    "fold=4\n",
    "greedy[dataset][fold] = {}\n",
    "greedy[dataset][fold]['lr'] = 0.01\n",
    "greedy[dataset][fold]['iters'] = 3000\n",
    "greedy[dataset][fold]['ORDER'] = 'fridge hvac dr mw dw'"
   ]
  },
  {
   "cell_type": "code",
   "execution_count": 244,
   "metadata": {
    "collapsed": true
   },
   "outputs": [],
   "source": [
    "np.save(\"../code/baseline/greedy_dnn_params.npy\", greedy)"
   ]
  }
 ],
 "metadata": {
  "kernelspec": {
   "display_name": "Python 3",
   "language": "python",
   "name": "python3"
  },
  "language_info": {
   "codemirror_mode": {
    "name": "ipython",
    "version": 3
   },
   "file_extension": ".py",
   "mimetype": "text/x-python",
   "name": "python",
   "nbconvert_exporter": "python",
   "pygments_lexer": "ipython3",
   "version": "3.6.3"
  }
 },
 "nbformat": 4,
 "nbformat_minor": 2
}
