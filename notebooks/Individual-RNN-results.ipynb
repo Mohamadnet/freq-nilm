{
 "cells": [
  {
   "cell_type": "code",
   "execution_count": 9,
   "metadata": {
    "collapsed": true
   },
   "outputs": [],
   "source": [
    "import numpy as np\n",
    "import itertools\n",
    "from pathlib import Path\n",
    "%matplotlib inline\n",
    "import matplotlib.pyplot as plt\n",
    "import sys\n",
    "sys.path.append(\"../code/\")\n",
    "from dataloader import get_train_test\n",
    "import pandas as pd"
   ]
  },
  {
   "cell_type": "code",
   "execution_count": 18,
   "metadata": {},
   "outputs": [],
   "source": [
    "best_param = np.load(\"../code/baseline/result/best_param_nested_rnn.npy\").item()\n",
    "k = np.load(\"../code/baseline/result/rnn-individual-param-2.npy\").item()"
   ]
  },
  {
   "cell_type": "code",
   "execution_count": 25,
   "metadata": {},
   "outputs": [],
   "source": [
    "best = {}\n",
    "for appliance in ['hvac', 'fridge', 'dr', 'dw', 'mw']:\n",
    "    best[appliance] = {}\n",
    "    for fold_num in range(5):\n",
    "        best[appliance][fold_num] = {}\n",
    "        \n",
    "for appliance in ['hvac', 'fridge', 'dr', 'dw', 'mw']:\n",
    "    for fold_num in range(5):\n",
    "        best[appliance][fold_num]['bidirectional'] = best_param[1][fold_num][appliance]['bidirectional']\n",
    "        best[appliance][fold_num]['cell_type'] = best_param[1][fold_num][appliance]['cell_type']\n",
    "        best[appliance][fold_num]['hidden_size'] = best_param[1][fold_num][appliance]['hidden_size']\n",
    "        best[appliance][fold_num]['iters'] = best_param[1][fold_num][appliance]['iters']\n",
    "        best[appliance][fold_num]['lr'] = best_param[1][fold_num][appliance]['lr']\n",
    "        best[appliance][fold_num]['num_layers'] = best_param[1][fold_num][appliance]['num_layers']"
   ]
  },
  {
   "cell_type": "code",
   "execution_count": 28,
   "metadata": {},
   "outputs": [],
   "source": [
    "np.save(\"../code/baseline/result/rnn-individual-param-1.npy\", best)"
   ]
  },
  {
   "cell_type": "code",
   "execution_count": 31,
   "metadata": {},
   "outputs": [],
   "source": [
    "k = np.load(\"../code/baseline/result/rnn-tree-param-2.npy\").item()"
   ]
  },
  {
   "cell_type": "code",
   "execution_count": null,
   "metadata": {
    "collapsed": true
   },
   "outputs": [],
   "source": [
    "best = {}\n",
    "for fold_num in range(5):\n",
    "    best[fold_num] = {}"
   ]
  },
  {
   "cell_type": "code",
   "execution_count": 56,
   "metadata": {},
   "outputs": [],
   "source": [
    "best[4]['cell_type'] = 'GRU'\n",
    "best[4]['hidden_size'] = 50\n",
    "best[4]['num_layers'] = 1\n",
    "best[4]['bidirectional'] = True\n",
    "best[4]['lr'] = 1\n",
    "best[4]['iters'] = 2000\n",
    "best[4]['order'] = ('fridge', 'hvac', 'mw', 'dr', 'dw')"
   ]
  },
  {
   "cell_type": "code",
   "execution_count": 58,
   "metadata": {},
   "outputs": [
    {
     "data": {
      "text/plain": [
       "{0: {'bidirectional': True,\n",
       "  'cell_type': 'LSTM',\n",
       "  'hidden_size': 50,\n",
       "  'iters': 3000,\n",
       "  'lr': 0.01,\n",
       "  'num_layers': 2,\n",
       "  'order': ('fridge', 'hvac', 'mw', 'dw', 'dr')},\n",
       " 1: {'bidirectional': True,\n",
       "  'cell_type': 'LSTM',\n",
       "  'hidden_size': 50,\n",
       "  'iters': 3000,\n",
       "  'lr': 0.01,\n",
       "  'num_layers': 2,\n",
       "  'order': ('fridge', 'dw', 'mw', 'dr', 'hvac')},\n",
       " 2: {'bidirectional': True,\n",
       "  'cell_type': 'RNN',\n",
       "  'hidden_size': 100,\n",
       "  'iters': 3000,\n",
       "  'lr': 0.01,\n",
       "  'num_layers': 1,\n",
       "  'order': ('fridge', 'hvac', 'dr', 'mw', 'dw')},\n",
       " 3: {'bidirectional': True,\n",
       "  'cell_type': 'GRU',\n",
       "  'hidden_size': 100,\n",
       "  'iters': 3000,\n",
       "  'lr': 0.01,\n",
       "  'num_layers': 1,\n",
       "  'order': ('fridge', 'mw', 'dw', 'hvac', 'dr')},\n",
       " 4: {'bidirectional': True,\n",
       "  'cell_type': 'LSTM',\n",
       "  'hidden_size': 50,\n",
       "  'iters': 3000,\n",
       "  'lr': 0.01,\n",
       "  'num_layers': 2,\n",
       "  'order': ('dw', 'fridge', 'mw', 'hvac', 'dr')}}"
      ]
     },
     "execution_count": 58,
     "metadata": {},
     "output_type": "execute_result"
    }
   ],
   "source": [
    "k"
   ]
  },
  {
   "cell_type": "code",
   "execution_count": 60,
   "metadata": {},
   "outputs": [],
   "source": [
    "np.save(\"../code/baseline/result/rnn-tree-param-1.npy\", best)"
   ]
  }
 ],
 "metadata": {
  "kernelspec": {
   "display_name": "Python 3",
   "language": "python",
   "name": "python3"
  },
  "language_info": {
   "codemirror_mode": {
    "name": "ipython",
    "version": 3
   },
   "file_extension": ".py",
   "mimetype": "text/x-python",
   "name": "python",
   "nbconvert_exporter": "python",
   "pygments_lexer": "ipython3",
   "version": "3.6.3"
  }
 },
 "nbformat": 4,
 "nbformat_minor": 2
}
