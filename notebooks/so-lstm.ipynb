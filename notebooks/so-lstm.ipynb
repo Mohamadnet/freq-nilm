{
 "cells": [
  {
   "cell_type": "code",
   "execution_count": 1,
   "metadata": {},
   "outputs": [
    {
     "name": "stderr",
     "output_type": "stream",
     "text": [
      "Using TensorFlow backend.\n",
      "/Users/nipun/anaconda3/lib/python3.6/importlib/_bootstrap.py:219: RuntimeWarning: compiletime version 3.5 of module 'tensorflow.python.framework.fast_tensor_util' does not match runtime version 3.6\n",
      "  return f(*args, **kwds)\n"
     ]
    }
   ],
   "source": [
    "import keras\n",
    "from keras.layers.merge import Maximum, Minimum\n",
    "from IPython.display import SVG\n",
    "from keras.utils.vis_utils import model_to_dot"
   ]
  },
  {
   "cell_type": "code",
   "execution_count": 2,
   "metadata": {},
   "outputs": [
    {
     "data": {
      "image/svg+xml": [
       "<svg height=\"458pt\" viewBox=\"0.00 0.00 621.73 458.00\" width=\"622pt\" xmlns=\"http://www.w3.org/2000/svg\" xmlns:xlink=\"http://www.w3.org/1999/xlink\">\n",
       "<g class=\"graph\" id=\"graph0\" transform=\"scale(1 1) rotate(0) translate(4 454)\">\n",
       "<title>G</title>\n",
       "<polygon fill=\"white\" points=\"-4,4 -4,-454 617.735,-454 617.735,4 -4,4\" stroke=\"none\"/>\n",
       "<!-- 103549095720 -->\n",
       "<g class=\"node\" id=\"node1\"><title>103549095720</title>\n",
       "<polygon fill=\"none\" points=\"339.055,-405.5 339.055,-449.5 613.735,-449.5 613.735,-405.5 339.055,-405.5\" stroke=\"black\"/>\n",
       "<text font-family=\"Times,serif\" font-size=\"14.00\" text-anchor=\"middle\" x=\"403.236\" y=\"-423.3\">input_1: InputLayer</text>\n",
       "<polyline fill=\"none\" points=\"467.417,-405.5 467.417,-449.5 \" stroke=\"black\"/>\n",
       "<text font-family=\"Times,serif\" font-size=\"14.00\" text-anchor=\"middle\" x=\"495.252\" y=\"-434.3\">input:</text>\n",
       "<polyline fill=\"none\" points=\"467.417,-427.5 523.086,-427.5 \" stroke=\"black\"/>\n",
       "<text font-family=\"Times,serif\" font-size=\"14.00\" text-anchor=\"middle\" x=\"495.252\" y=\"-412.3\">output:</text>\n",
       "<polyline fill=\"none\" points=\"523.086,-405.5 523.086,-449.5 \" stroke=\"black\"/>\n",
       "<text font-family=\"Times,serif\" font-size=\"14.00\" text-anchor=\"middle\" x=\"568.411\" y=\"-434.3\">(None, 20, 2)</text>\n",
       "<polyline fill=\"none\" points=\"523.086,-427.5 613.735,-427.5 \" stroke=\"black\"/>\n",
       "<text font-family=\"Times,serif\" font-size=\"14.00\" text-anchor=\"middle\" x=\"568.411\" y=\"-412.3\">(None, 20, 2)</text>\n",
       "</g>\n",
       "<!-- 103549095776 -->\n",
       "<g class=\"node\" id=\"node2\"><title>103549095776</title>\n",
       "<polygon fill=\"none\" points=\"219.814,-324.5 219.814,-368.5 464.976,-368.5 464.976,-324.5 219.814,-324.5\" stroke=\"black\"/>\n",
       "<text font-family=\"Times,serif\" font-size=\"14.00\" text-anchor=\"middle\" x=\"269.236\" y=\"-342.3\">lstm_1: LSTM</text>\n",
       "<polyline fill=\"none\" points=\"318.659,-324.5 318.659,-368.5 \" stroke=\"black\"/>\n",
       "<text font-family=\"Times,serif\" font-size=\"14.00\" text-anchor=\"middle\" x=\"346.493\" y=\"-353.3\">input:</text>\n",
       "<polyline fill=\"none\" points=\"318.659,-346.5 374.328,-346.5 \" stroke=\"black\"/>\n",
       "<text font-family=\"Times,serif\" font-size=\"14.00\" text-anchor=\"middle\" x=\"346.493\" y=\"-331.3\">output:</text>\n",
       "<polyline fill=\"none\" points=\"374.328,-324.5 374.328,-368.5 \" stroke=\"black\"/>\n",
       "<text font-family=\"Times,serif\" font-size=\"14.00\" text-anchor=\"middle\" x=\"419.652\" y=\"-353.3\">(None, 20, 2)</text>\n",
       "<polyline fill=\"none\" points=\"374.328,-346.5 464.976,-346.5 \" stroke=\"black\"/>\n",
       "<text font-family=\"Times,serif\" font-size=\"14.00\" text-anchor=\"middle\" x=\"419.652\" y=\"-331.3\">(None, 150)</text>\n",
       "</g>\n",
       "<!-- 103549095720&#45;&gt;103549095776 -->\n",
       "<g class=\"edge\" id=\"edge1\"><title>103549095720-&gt;103549095776</title>\n",
       "<path d=\"M440.485,-405.329C424.113,-395.677 404.559,-384.149 387.232,-373.934\" fill=\"none\" stroke=\"black\"/>\n",
       "<polygon fill=\"black\" points=\"388.796,-370.793 378.404,-368.729 385.241,-376.823 388.796,-370.793\" stroke=\"black\"/>\n",
       "</g>\n",
       "<!-- 103549426936 -->\n",
       "<g class=\"node\" id=\"node6\"><title>103549426936</title>\n",
       "<polygon fill=\"none\" points=\"181.828,-0.5 181.828,-44.5 566.962,-44.5 566.962,-0.5 181.828,-0.5\" stroke=\"black\"/>\n",
       "<text font-family=\"Times,serif\" font-size=\"14.00\" text-anchor=\"middle\" x=\"255.75\" y=\"-18.3\">minimum_1: Minimum</text>\n",
       "<polyline fill=\"none\" points=\"329.672,-0.5 329.672,-44.5 \" stroke=\"black\"/>\n",
       "<text font-family=\"Times,serif\" font-size=\"14.00\" text-anchor=\"middle\" x=\"357.507\" y=\"-29.3\">input:</text>\n",
       "<polyline fill=\"none\" points=\"329.672,-22.5 385.341,-22.5 \" stroke=\"black\"/>\n",
       "<text font-family=\"Times,serif\" font-size=\"14.00\" text-anchor=\"middle\" x=\"357.507\" y=\"-7.3\">output:</text>\n",
       "<polyline fill=\"none\" points=\"385.341,-0.5 385.341,-44.5 \" stroke=\"black\"/>\n",
       "<text font-family=\"Times,serif\" font-size=\"14.00\" text-anchor=\"middle\" x=\"476.152\" y=\"-29.3\">[(None, 20, 2), (None, 20, 2)]</text>\n",
       "<polyline fill=\"none\" points=\"385.341,-22.5 566.962,-22.5 \" stroke=\"black\"/>\n",
       "<text font-family=\"Times,serif\" font-size=\"14.00\" text-anchor=\"middle\" x=\"475.666\" y=\"-7.3\">(None, 20, 2)</text>\n",
       "</g>\n",
       "<!-- 103549095720&#45;&gt;103549426936 -->\n",
       "<g class=\"edge\" id=\"edge6\"><title>103549095720-&gt;103549426936</title>\n",
       "<path d=\"M483.418,-405.29C492.837,-374.904 508.395,-317.065 508.395,-266.5 508.395,-266.5 508.395,-266.5 508.395,-183.5 508.395,-137.168 517.258,-118.018 489.395,-81 479.446,-67.7816 465.618,-57.3974 450.991,-49.3143\" fill=\"none\" stroke=\"black\"/>\n",
       "<polygon fill=\"black\" points=\"452.3,-46.0511 441.809,-44.574 449.089,-52.2712 452.3,-46.0511\" stroke=\"black\"/>\n",
       "</g>\n",
       "<!-- 4517274624 -->\n",
       "<g class=\"node\" id=\"node3\"><title>4517274624</title>\n",
       "<polygon fill=\"none\" points=\"109.751,-243.5 109.751,-287.5 459.039,-287.5 459.039,-243.5 109.751,-243.5\" stroke=\"black\"/>\n",
       "<text font-family=\"Times,serif\" font-size=\"14.00\" text-anchor=\"middle\" x=\"204.236\" y=\"-261.3\">repeat_vector_1: RepeatVector</text>\n",
       "<polyline fill=\"none\" points=\"298.721,-243.5 298.721,-287.5 \" stroke=\"black\"/>\n",
       "<text font-family=\"Times,serif\" font-size=\"14.00\" text-anchor=\"middle\" x=\"326.556\" y=\"-272.3\">input:</text>\n",
       "<polyline fill=\"none\" points=\"298.721,-265.5 354.39,-265.5 \" stroke=\"black\"/>\n",
       "<text font-family=\"Times,serif\" font-size=\"14.00\" text-anchor=\"middle\" x=\"326.556\" y=\"-250.3\">output:</text>\n",
       "<polyline fill=\"none\" points=\"354.39,-243.5 354.39,-287.5 \" stroke=\"black\"/>\n",
       "<text font-family=\"Times,serif\" font-size=\"14.00\" text-anchor=\"middle\" x=\"406.714\" y=\"-272.3\">(None, 150)</text>\n",
       "<polyline fill=\"none\" points=\"354.39,-265.5 459.039,-265.5 \" stroke=\"black\"/>\n",
       "<text font-family=\"Times,serif\" font-size=\"14.00\" text-anchor=\"middle\" x=\"406.714\" y=\"-250.3\">(None, 20, 150)</text>\n",
       "</g>\n",
       "<!-- 103549095776&#45;&gt;4517274624 -->\n",
       "<g class=\"edge\" id=\"edge2\"><title>103549095776-&gt;4517274624</title>\n",
       "<path d=\"M326.852,-324.329C320.481,-315.651 312.996,-305.456 306.1,-296.063\" fill=\"none\" stroke=\"black\"/>\n",
       "<polygon fill=\"black\" points=\"308.72,-293.718 299.981,-287.729 303.078,-297.861 308.72,-293.718\" stroke=\"black\"/>\n",
       "</g>\n",
       "<!-- 4516530440 -->\n",
       "<g class=\"node\" id=\"node4\"><title>4516530440</title>\n",
       "<polygon fill=\"none\" points=\"125.814,-162.5 125.814,-206.5 384.976,-206.5 384.976,-162.5 125.814,-162.5\" stroke=\"black\"/>\n",
       "<text font-family=\"Times,serif\" font-size=\"14.00\" text-anchor=\"middle\" x=\"175.236\" y=\"-180.3\">lstm_2: LSTM</text>\n",
       "<polyline fill=\"none\" points=\"224.659,-162.5 224.659,-206.5 \" stroke=\"black\"/>\n",
       "<text font-family=\"Times,serif\" font-size=\"14.00\" text-anchor=\"middle\" x=\"252.493\" y=\"-191.3\">input:</text>\n",
       "<polyline fill=\"none\" points=\"224.659,-184.5 280.328,-184.5 \" stroke=\"black\"/>\n",
       "<text font-family=\"Times,serif\" font-size=\"14.00\" text-anchor=\"middle\" x=\"252.493\" y=\"-169.3\">output:</text>\n",
       "<polyline fill=\"none\" points=\"280.328,-162.5 280.328,-206.5 \" stroke=\"black\"/>\n",
       "<text font-family=\"Times,serif\" font-size=\"14.00\" text-anchor=\"middle\" x=\"332.652\" y=\"-191.3\">(None, 20, 150)</text>\n",
       "<polyline fill=\"none\" points=\"280.328,-184.5 384.976,-184.5 \" stroke=\"black\"/>\n",
       "<text font-family=\"Times,serif\" font-size=\"14.00\" text-anchor=\"middle\" x=\"332.652\" y=\"-169.3\">(None, 20, 150)</text>\n",
       "</g>\n",
       "<!-- 4517274624&#45;&gt;4516530440 -->\n",
       "<g class=\"edge\" id=\"edge3\"><title>4517274624-&gt;4516530440</title>\n",
       "<path d=\"M276.624,-243.329C273.568,-235.005 270,-225.286 266.671,-216.217\" fill=\"none\" stroke=\"black\"/>\n",
       "<polygon fill=\"black\" points=\"269.92,-214.91 263.188,-206.729 263.348,-217.323 269.92,-214.91\" stroke=\"black\"/>\n",
       "</g>\n",
       "<!-- 103700966760 -->\n",
       "<g class=\"node\" id=\"node5\"><title>103700966760</title>\n",
       "<polygon fill=\"none\" points=\"0,-81.5 0,-125.5 480.79,-125.5 480.79,-81.5 0,-81.5\" stroke=\"black\"/>\n",
       "<text font-family=\"Times,serif\" font-size=\"14.00\" text-anchor=\"middle\" x=\"160.236\" y=\"-99.3\">time_distributed_1(dense_1): TimeDistributed(Dense)</text>\n",
       "<polyline fill=\"none\" points=\"320.473,-81.5 320.473,-125.5 \" stroke=\"black\"/>\n",
       "<text font-family=\"Times,serif\" font-size=\"14.00\" text-anchor=\"middle\" x=\"348.307\" y=\"-110.3\">input:</text>\n",
       "<polyline fill=\"none\" points=\"320.473,-103.5 376.142,-103.5 \" stroke=\"black\"/>\n",
       "<text font-family=\"Times,serif\" font-size=\"14.00\" text-anchor=\"middle\" x=\"348.307\" y=\"-88.3\">output:</text>\n",
       "<polyline fill=\"none\" points=\"376.142,-81.5 376.142,-125.5 \" stroke=\"black\"/>\n",
       "<text font-family=\"Times,serif\" font-size=\"14.00\" text-anchor=\"middle\" x=\"428.466\" y=\"-110.3\">(None, 20, 150)</text>\n",
       "<polyline fill=\"none\" points=\"376.142,-103.5 480.79,-103.5 \" stroke=\"black\"/>\n",
       "<text font-family=\"Times,serif\" font-size=\"14.00\" text-anchor=\"middle\" x=\"428.466\" y=\"-88.3\">(None, 20, 2)</text>\n",
       "</g>\n",
       "<!-- 4516530440&#45;&gt;103700966760 -->\n",
       "<g class=\"edge\" id=\"edge4\"><title>4516530440-&gt;103700966760</title>\n",
       "<path d=\"M251.375,-162.329C249.828,-154.183 248.028,-144.699 246.338,-135.797\" fill=\"none\" stroke=\"black\"/>\n",
       "<polygon fill=\"black\" points=\"249.73,-134.901 244.426,-125.729 242.853,-136.206 249.73,-134.901\" stroke=\"black\"/>\n",
       "</g>\n",
       "<!-- 103700966760&#45;&gt;103549426936 -->\n",
       "<g class=\"edge\" id=\"edge5\"><title>103700966760-&gt;103549426936</title>\n",
       "<path d=\"M276.305,-81.3294C292.677,-71.6772 312.231,-60.1487 329.558,-49.934\" fill=\"none\" stroke=\"black\"/>\n",
       "<polygon fill=\"black\" points=\"331.549,-52.8227 338.386,-44.729 327.994,-46.7926 331.549,-52.8227\" stroke=\"black\"/>\n",
       "</g>\n",
       "</g>\n",
       "</svg>"
      ],
      "text/plain": [
       "<IPython.core.display.SVG object>"
      ]
     },
     "execution_count": 2,
     "metadata": {},
     "output_type": "execute_result"
    }
   ],
   "source": [
    "n_timesteps_in = 20 \n",
    "n_features=2\n",
    "input_tensor = keras.layers.Input(shape = [n_timesteps_in, n_features])\n",
    "\n",
    "out = keras.layers.LSTM(150)(input_tensor)\n",
    "out = keras.layers.RepeatVector(n_timesteps_in)(out) \n",
    "out = keras.layers.LSTM(150, return_sequences=True)(out)\n",
    "out = keras.layers.TimeDistributed(keras.layers.Dense(n_features))(out)\n",
    "\n",
    "out = Minimum()([out, input_tensor])\n",
    "model = keras.Model(input_tensor, out )\n",
    "SVG(model_to_dot(model,  show_shapes=True, show_layer_names=True, rankdir='HB').create(prog='dot', format='svg'))"
   ]
  },
  {
   "cell_type": "code",
   "execution_count": 9,
   "metadata": {},
   "outputs": [
    {
     "data": {
      "text/plain": [
       "<tf.Tensor 'time_distributed_1/Reshape_1:0' shape=(?, 20, 2) dtype=float32>"
      ]
     },
     "execution_count": 9,
     "metadata": {},
     "output_type": "execute_result"
    }
   ],
   "source": [
    "model."
   ]
  },
  {
   "cell_type": "code",
   "execution_count": null,
   "metadata": {
    "collapsed": true
   },
   "outputs": [],
   "source": []
  }
 ],
 "metadata": {
  "kernelspec": {
   "display_name": "Python 3",
   "language": "python",
   "name": "python3"
  },
  "language_info": {
   "codemirror_mode": {
    "name": "ipython",
    "version": 3
   },
   "file_extension": ".py",
   "mimetype": "text/x-python",
   "name": "python",
   "nbconvert_exporter": "python",
   "pygments_lexer": "ipython3",
   "version": "3.6.3"
  }
 },
 "nbformat": 4,
 "nbformat_minor": 2
}
