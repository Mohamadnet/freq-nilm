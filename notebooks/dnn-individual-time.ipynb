{
 "cells": [
  {
   "cell_type": "code",
   "execution_count": 1,
   "metadata": {},
   "outputs": [],
   "source": [
    "import sys\n",
    "sys.path.append(\"../code/\")\n",
    "import numpy as np\n",
    "import pandas as pd\n",
    "from dataloader import APPLIANCE_ORDER, get_train_test\n",
    "from tensor_custom_core import stf_4dim, stf_4dim_time\n",
    "import torch\n",
    "import torch.nn as nn\n",
    "from torch.autograd import Variable\n",
    "torch.manual_seed(0)\n",
    "np.random.seed(0)"
   ]
  },
  {
   "cell_type": "code",
   "execution_count": 2,
   "metadata": {},
   "outputs": [],
   "source": [
    "class CustomDNN(nn.Module):\n",
    "    def __init__(self):\n",
    "        super(CustomDNN, self).__init__()\n",
    "        torch.manual_seed(0)\n",
    "\n",
    "        \n",
    "\n",
    "        self.linear1 = nn.Linear(25, 50 )\n",
    "        self.linear2 = nn.Linear(50, 24 )\n",
    "        self.act1 = nn.ReLU()\n",
    "        self.act2 = nn.ReLU()\n",
    "\n",
    "    def forward(self, x):\n",
    "        pred = self.linear1(x)\n",
    "        pred = self.act1(pred)\n",
    "        pred = self.linear2(pred)\n",
    "        pred = self.act2(pred)\n",
    "        \n",
    "        #pred = pred[:, :, 23:24]\n",
    "        #pred = self.act(pred)\n",
    "        #pred = torch.clamp(pred, min=0.)\n",
    "        #pred = self.act(pred)\n",
    "        #pred = torch.min(pred, x)\n",
    "        return pred\n",
    "\n",
    "\n",
    "num_folds = 5\n",
    "\n",
    "if torch.cuda.is_available():\n",
    "    cuda_av = True\n",
    "else:\n",
    "    cuda_av=False"
   ]
  },
  {
   "cell_type": "code",
   "execution_count": 3,
   "metadata": {},
   "outputs": [
    {
     "data": {
      "text/plain": [
       "CustomDNN (\n",
       "  (linear1): Linear (25 -> 50)\n",
       "  (linear2): Linear (50 -> 24)\n",
       "  (act1): ReLU ()\n",
       "  (act2): ReLU ()\n",
       ")"
      ]
     },
     "execution_count": 3,
     "metadata": {},
     "output_type": "execute_result"
    }
   ],
   "source": [
    "c = CustomDNN()\n",
    "c"
   ]
  },
  {
   "cell_type": "code",
   "execution_count": 4,
   "metadata": {},
   "outputs": [],
   "source": [
    "fold_num = 0\n",
    "num_folds = 5\n",
    "cell_type=\"GRU\"\n",
    "hidden_size = 50\n",
    "lr = 1\n",
    "bidirectional = False\n",
    "appliance = \"dr\""
   ]
  },
  {
   "cell_type": "code",
   "execution_count": 5,
   "metadata": {},
   "outputs": [],
   "source": [
    "from sklearn.preprocessing import OneHotEncoder"
   ]
  },
  {
   "cell_type": "code",
   "execution_count": 6,
   "metadata": {},
   "outputs": [],
   "source": [
    "oh = OneHotEncoder()"
   ]
  },
  {
   "cell_type": "code",
   "execution_count": 7,
   "metadata": {},
   "outputs": [],
   "source": [
    "d=pd.DataFrame(oh.fit_transform(np.array(range(1, 25)).reshape(-1, 1)).toarray())\n"
   ]
  },
  {
   "cell_type": "code",
   "execution_count": 16,
   "metadata": {},
   "outputs": [],
   "source": [
    "torch.manual_seed(0)\n",
    "\n",
    "appliance_num = APPLIANCE_ORDER.index(appliance)\n",
    "train, test = get_train_test(num_folds=num_folds, fold_num=fold_num)\n",
    "train_aggregate = train[:, 0, :, :].reshape(-1, 24)\n",
    "test_aggregate = test[:, 0, :, :].reshape(-1, 24)\n",
    "\n",
    "train_appliance = train[:, appliance_num, :, :].reshape(-1, 24)\n",
    "test_appliance = test[:, appliance_num, :, :].reshape(-1, 24)\n",
    "   "
   ]
  },
  {
   "cell_type": "code",
   "execution_count": 17,
   "metadata": {},
   "outputs": [
    {
     "data": {
      "text/plain": [
       "(6048, 24)"
      ]
     },
     "execution_count": 17,
     "metadata": {},
     "output_type": "execute_result"
    }
   ],
   "source": [
    "train_aggregate.shape"
   ]
  },
  {
   "cell_type": "code",
   "execution_count": 9,
   "metadata": {},
   "outputs": [],
   "source": [
    "train_aggregate_time = np.zeros((train_aggregate.shape[0], 24, 25))\n",
    "for home in range(train_aggregate.shape[0]):\n",
    "    temp = d.copy()\n",
    "    temp['power'] = train_aggregate[home, :, :]\n",
    "    train_aggregate_time[home, :, :] = temp.values\n",
    "    "
   ]
  },
  {
   "cell_type": "code",
   "execution_count": 10,
   "metadata": {},
   "outputs": [
    {
     "data": {
      "text/plain": [
       "(6048, 24, 25)"
      ]
     },
     "execution_count": 10,
     "metadata": {},
     "output_type": "execute_result"
    }
   ],
   "source": [
    "train_aggregate_time.shape"
   ]
  },
  {
   "cell_type": "code",
   "execution_count": 12,
   "metadata": {},
   "outputs": [],
   "source": [
    "loss_func = nn.L1Loss()\n",
    "r = CustomDNN()\n",
    "\n",
    "if cuda_av:\n",
    "    r = r.cuda()\n",
    "    loss_func = loss_func.cuda()\n",
    "\n",
    "optimizer = torch.optim.Adam(r.parameters(), lr=lr)"
   ]
  },
  {
   "cell_type": "code",
   "execution_count": 13,
   "metadata": {},
   "outputs": [
    {
     "ename": "NameError",
     "evalue": "name 'pred' is not defined",
     "output_type": "error",
     "traceback": [
      "\u001b[0;31m---------------------------------------------------------------------------\u001b[0m",
      "\u001b[0;31mNameError\u001b[0m                                 Traceback (most recent call last)",
      "\u001b[0;32m<ipython-input-13-7ffcb01dd6f4>\u001b[0m in \u001b[0;36m<module>\u001b[0;34m()\u001b[0m\n\u001b[0;32m----> 1\u001b[0;31m \u001b[0mpred\u001b[0m\u001b[0;34m.\u001b[0m\u001b[0msize\u001b[0m\u001b[0;34m(\u001b[0m\u001b[0;34m)\u001b[0m\u001b[0;34m\u001b[0m\u001b[0m\n\u001b[0m",
      "\u001b[0;31mNameError\u001b[0m: name 'pred' is not defined"
     ]
    }
   ],
   "source": [
    "pred.size()"
   ]
  },
  {
   "cell_type": "code",
   "execution_count": 14,
   "metadata": {},
   "outputs": [
    {
     "ename": "NameError",
     "evalue": "name 'pred' is not defined",
     "output_type": "error",
     "traceback": [
      "\u001b[0;31m---------------------------------------------------------------------------\u001b[0m",
      "\u001b[0;31mNameError\u001b[0m                                 Traceback (most recent call last)",
      "\u001b[0;32m<ipython-input-14-4ad8c7322b32>\u001b[0m in \u001b[0;36m<module>\u001b[0;34m()\u001b[0m\n\u001b[0;32m----> 1\u001b[0;31m \u001b[0mpred\u001b[0m\u001b[0;34m[\u001b[0m\u001b[0;34m:\u001b[0m\u001b[0;34m,\u001b[0m \u001b[0;34m:\u001b[0m\u001b[0;34m,\u001b[0m \u001b[0;36m23\u001b[0m\u001b[0;34m:\u001b[0m\u001b[0;36m24\u001b[0m\u001b[0;34m]\u001b[0m\u001b[0;34m\u001b[0m\u001b[0m\n\u001b[0m",
      "\u001b[0;31mNameError\u001b[0m: name 'pred' is not defined"
     ]
    }
   ],
   "source": [
    "pred[:, :, 23:24]"
   ]
  },
  {
   "cell_type": "code",
   "execution_count": 15,
   "metadata": {},
   "outputs": [
    {
     "ename": "RuntimeError",
     "evalue": "input and target have different number of elements: input[6048 x 24 x 24] has 3483648 elements, while target[6048 x 24 x 1] has 145152 elements at /Users/soumith/miniconda2/conda-bld/pytorch_1503975723910/work/torch/lib/THNN/generic/AbsCriterion.c:13",
     "output_type": "error",
     "traceback": [
      "\u001b[0;31m---------------------------------------------------------------------------\u001b[0m",
      "\u001b[0;31mRuntimeError\u001b[0m                              Traceback (most recent call last)",
      "\u001b[0;32m<ipython-input-15-186af893bedd>\u001b[0m in \u001b[0;36m<module>\u001b[0;34m()\u001b[0m\n\u001b[1;32m     10\u001b[0m \u001b[0;34m\u001b[0m\u001b[0m\n\u001b[1;32m     11\u001b[0m     \u001b[0moptimizer\u001b[0m\u001b[0;34m.\u001b[0m\u001b[0mzero_grad\u001b[0m\u001b[0;34m(\u001b[0m\u001b[0;34m)\u001b[0m\u001b[0;34m\u001b[0m\u001b[0m\n\u001b[0;32m---> 12\u001b[0;31m     \u001b[0mloss\u001b[0m \u001b[0;34m=\u001b[0m \u001b[0mloss_func\u001b[0m\u001b[0;34m(\u001b[0m\u001b[0mpred\u001b[0m\u001b[0;34m,\u001b[0m \u001b[0mtrain_y\u001b[0m\u001b[0;34m)\u001b[0m\u001b[0;34m\u001b[0m\u001b[0m\n\u001b[0m\u001b[1;32m     13\u001b[0m     \u001b[0;32mif\u001b[0m \u001b[0mt\u001b[0m \u001b[0;34m%\u001b[0m \u001b[0;36m1\u001b[0m \u001b[0;34m==\u001b[0m \u001b[0;36m0\u001b[0m\u001b[0;34m:\u001b[0m\u001b[0;34m\u001b[0m\u001b[0m\n\u001b[1;32m     14\u001b[0m         \u001b[0mprint\u001b[0m\u001b[0;34m(\u001b[0m\u001b[0mt\u001b[0m\u001b[0;34m,\u001b[0m \u001b[0mloss\u001b[0m\u001b[0;34m.\u001b[0m\u001b[0mdata\u001b[0m\u001b[0;34m[\u001b[0m\u001b[0;36m0\u001b[0m\u001b[0;34m]\u001b[0m\u001b[0;34m)\u001b[0m\u001b[0;34m\u001b[0m\u001b[0m\n",
      "\u001b[0;32m~/anaconda3/lib/python3.6/site-packages/torch/nn/modules/module.py\u001b[0m in \u001b[0;36m__call__\u001b[0;34m(self, *input, **kwargs)\u001b[0m\n\u001b[1;32m    222\u001b[0m         \u001b[0;32mfor\u001b[0m \u001b[0mhook\u001b[0m \u001b[0;32min\u001b[0m \u001b[0mself\u001b[0m\u001b[0;34m.\u001b[0m\u001b[0m_forward_pre_hooks\u001b[0m\u001b[0;34m.\u001b[0m\u001b[0mvalues\u001b[0m\u001b[0;34m(\u001b[0m\u001b[0;34m)\u001b[0m\u001b[0;34m:\u001b[0m\u001b[0;34m\u001b[0m\u001b[0m\n\u001b[1;32m    223\u001b[0m             \u001b[0mhook\u001b[0m\u001b[0;34m(\u001b[0m\u001b[0mself\u001b[0m\u001b[0;34m,\u001b[0m \u001b[0minput\u001b[0m\u001b[0;34m)\u001b[0m\u001b[0;34m\u001b[0m\u001b[0m\n\u001b[0;32m--> 224\u001b[0;31m         \u001b[0mresult\u001b[0m \u001b[0;34m=\u001b[0m \u001b[0mself\u001b[0m\u001b[0;34m.\u001b[0m\u001b[0mforward\u001b[0m\u001b[0;34m(\u001b[0m\u001b[0;34m*\u001b[0m\u001b[0minput\u001b[0m\u001b[0;34m,\u001b[0m \u001b[0;34m**\u001b[0m\u001b[0mkwargs\u001b[0m\u001b[0;34m)\u001b[0m\u001b[0;34m\u001b[0m\u001b[0m\n\u001b[0m\u001b[1;32m    225\u001b[0m         \u001b[0;32mfor\u001b[0m \u001b[0mhook\u001b[0m \u001b[0;32min\u001b[0m \u001b[0mself\u001b[0m\u001b[0;34m.\u001b[0m\u001b[0m_forward_hooks\u001b[0m\u001b[0;34m.\u001b[0m\u001b[0mvalues\u001b[0m\u001b[0;34m(\u001b[0m\u001b[0;34m)\u001b[0m\u001b[0;34m:\u001b[0m\u001b[0;34m\u001b[0m\u001b[0m\n\u001b[1;32m    226\u001b[0m             \u001b[0mhook_result\u001b[0m \u001b[0;34m=\u001b[0m \u001b[0mhook\u001b[0m\u001b[0;34m(\u001b[0m\u001b[0mself\u001b[0m\u001b[0;34m,\u001b[0m \u001b[0minput\u001b[0m\u001b[0;34m,\u001b[0m \u001b[0mresult\u001b[0m\u001b[0;34m)\u001b[0m\u001b[0;34m\u001b[0m\u001b[0m\n",
      "\u001b[0;32m~/anaconda3/lib/python3.6/site-packages/torch/nn/modules/loss.py\u001b[0m in \u001b[0;36mforward\u001b[0;34m(self, input, target)\u001b[0m\n\u001b[1;32m     59\u001b[0m     \u001b[0;32mdef\u001b[0m \u001b[0mforward\u001b[0m\u001b[0;34m(\u001b[0m\u001b[0mself\u001b[0m\u001b[0;34m,\u001b[0m \u001b[0minput\u001b[0m\u001b[0;34m,\u001b[0m \u001b[0mtarget\u001b[0m\u001b[0;34m)\u001b[0m\u001b[0;34m:\u001b[0m\u001b[0;34m\u001b[0m\u001b[0m\n\u001b[1;32m     60\u001b[0m         \u001b[0m_assert_no_grad\u001b[0m\u001b[0;34m(\u001b[0m\u001b[0mtarget\u001b[0m\u001b[0;34m)\u001b[0m\u001b[0;34m\u001b[0m\u001b[0m\n\u001b[0;32m---> 61\u001b[0;31m         \u001b[0;32mreturn\u001b[0m \u001b[0mF\u001b[0m\u001b[0;34m.\u001b[0m\u001b[0ml1_loss\u001b[0m\u001b[0;34m(\u001b[0m\u001b[0minput\u001b[0m\u001b[0;34m,\u001b[0m \u001b[0mtarget\u001b[0m\u001b[0;34m,\u001b[0m \u001b[0msize_average\u001b[0m\u001b[0;34m=\u001b[0m\u001b[0mself\u001b[0m\u001b[0;34m.\u001b[0m\u001b[0msize_average\u001b[0m\u001b[0;34m)\u001b[0m\u001b[0;34m\u001b[0m\u001b[0m\n\u001b[0m\u001b[1;32m     62\u001b[0m \u001b[0;34m\u001b[0m\u001b[0m\n\u001b[1;32m     63\u001b[0m \u001b[0;34m\u001b[0m\u001b[0m\n",
      "\u001b[0;32m~/anaconda3/lib/python3.6/site-packages/torch/nn/functional.py\u001b[0m in \u001b[0;36ml1_loss\u001b[0;34m(input, target, size_average)\u001b[0m\n\u001b[1;32m    813\u001b[0m \u001b[0;34m\u001b[0m\u001b[0m\n\u001b[1;32m    814\u001b[0m \u001b[0;32mdef\u001b[0m \u001b[0ml1_loss\u001b[0m\u001b[0;34m(\u001b[0m\u001b[0minput\u001b[0m\u001b[0;34m,\u001b[0m \u001b[0mtarget\u001b[0m\u001b[0;34m,\u001b[0m \u001b[0msize_average\u001b[0m\u001b[0;34m=\u001b[0m\u001b[0;32mTrue\u001b[0m\u001b[0;34m)\u001b[0m\u001b[0;34m:\u001b[0m\u001b[0;34m\u001b[0m\u001b[0m\n\u001b[0;32m--> 815\u001b[0;31m     \u001b[0;32mreturn\u001b[0m \u001b[0m_functions\u001b[0m\u001b[0;34m.\u001b[0m\u001b[0mthnn\u001b[0m\u001b[0;34m.\u001b[0m\u001b[0mL1Loss\u001b[0m\u001b[0;34m.\u001b[0m\u001b[0mapply\u001b[0m\u001b[0;34m(\u001b[0m\u001b[0minput\u001b[0m\u001b[0;34m,\u001b[0m \u001b[0mtarget\u001b[0m\u001b[0;34m,\u001b[0m \u001b[0msize_average\u001b[0m\u001b[0;34m)\u001b[0m\u001b[0;34m\u001b[0m\u001b[0m\n\u001b[0m\u001b[1;32m    816\u001b[0m \u001b[0;34m\u001b[0m\u001b[0m\n\u001b[1;32m    817\u001b[0m \u001b[0;34m\u001b[0m\u001b[0m\n",
      "\u001b[0;32m~/anaconda3/lib/python3.6/site-packages/torch/nn/_functions/thnn/auto.py\u001b[0m in \u001b[0;36mforward\u001b[0;34m(ctx, input, target, *args)\u001b[0m\n\u001b[1;32m     45\u001b[0m         \u001b[0moutput\u001b[0m \u001b[0;34m=\u001b[0m \u001b[0minput\u001b[0m\u001b[0;34m.\u001b[0m\u001b[0mnew\u001b[0m\u001b[0;34m(\u001b[0m\u001b[0;36m1\u001b[0m\u001b[0;34m)\u001b[0m\u001b[0;34m\u001b[0m\u001b[0m\n\u001b[1;32m     46\u001b[0m         getattr(ctx._backend, update_output.name)(ctx._backend.library_state, input, target,\n\u001b[0;32m---> 47\u001b[0;31m                                                   output, *ctx.additional_args)\n\u001b[0m\u001b[1;32m     48\u001b[0m         \u001b[0;32mreturn\u001b[0m \u001b[0moutput\u001b[0m\u001b[0;34m\u001b[0m\u001b[0m\n\u001b[1;32m     49\u001b[0m \u001b[0;34m\u001b[0m\u001b[0m\n",
      "\u001b[0;31mRuntimeError\u001b[0m: input and target have different number of elements: input[6048 x 24 x 24] has 3483648 elements, while target[6048 x 24 x 1] has 145152 elements at /Users/soumith/miniconda2/conda-bld/pytorch_1503975723910/work/torch/lib/THNN/generic/AbsCriterion.c:13"
     ]
    }
   ],
   "source": [
    "num_iterations=10\n",
    "for t in range(num_iterations):\n",
    "\n",
    "    inp = Variable(torch.Tensor(train_aggregate_time), requires_grad=True)\n",
    "    train_y = Variable(torch.Tensor(train_appliance))\n",
    "    if cuda_av:\n",
    "        inp = inp.cuda()\n",
    "        train_y = train_y.cuda()\n",
    "    pred = r(inp)\n",
    "\n",
    "    optimizer.zero_grad()\n",
    "    loss = loss_func(pred, train_y)\n",
    "    if t % 1 == 0:\n",
    "        print(t, loss.data[0])\n",
    "    loss.backward()\n",
    "    optimizer.step()\n",
    "    \n",
    "    "
   ]
  },
  {
   "cell_type": "code",
   "execution_count": 54,
   "metadata": {},
   "outputs": [
    {
     "data": {
      "text/plain": [
       "Variable containing:\n",
       "( 0  ,.,.) = \n",
       "   0\n",
       "   0\n",
       "   0\n",
       " ⋮  \n",
       "   0\n",
       "   0\n",
       "   0\n",
       "\n",
       "( 1  ,.,.) = \n",
       "   0\n",
       "   0\n",
       "   0\n",
       " ⋮  \n",
       "   0\n",
       "   0\n",
       "   0\n",
       "\n",
       "( 2  ,.,.) = \n",
       "   0\n",
       "   0\n",
       "   0\n",
       " ⋮  \n",
       "   0\n",
       "   0\n",
       "   0\n",
       " ... \n",
       "\n",
       "(6045,.,.) = \n",
       "   0\n",
       "   0\n",
       "   0\n",
       " ⋮  \n",
       "   0\n",
       "   0\n",
       "   0\n",
       "\n",
       "(6046,.,.) = \n",
       "   0\n",
       "   0\n",
       "   0\n",
       " ⋮  \n",
       "   0\n",
       "   0\n",
       "   0\n",
       "\n",
       "(6047,.,.) = \n",
       "   0\n",
       "   0\n",
       "   0\n",
       " ⋮  \n",
       "   0\n",
       "   0\n",
       "   0\n",
       "[torch.FloatTensor of size 6048x24x1]"
      ]
     },
     "execution_count": 54,
     "metadata": {},
     "output_type": "execute_result"
    }
   ],
   "source": [
    "pred"
   ]
  },
  {
   "cell_type": "code",
   "execution_count": null,
   "metadata": {},
   "outputs": [],
   "source": [
    "    test_inp = Variable(torch.Tensor(test_aggregate), requires_grad=False)\n",
    "    test_y = Variable(torch.Tensor(test_appliance), requires_grad=False)\n",
    "    if cuda_av:\n",
    "        test_inp = test_inp.cuda()\n",
    "    pred = r(test_inp)\n",
    "    #pred[pred<0.] = 0.\n",
    "    pred = torch.clamp(pred, min=0.)\n",
    "    if cuda_av:\n",
    "        prediction_fold = pred.cpu().data.numpy()\n",
    "    else:\n",
    "        prediction_fold = pred.data.numpy()"
   ]
  },
  {
   "cell_type": "code",
   "execution_count": null,
   "metadata": {},
   "outputs": [],
   "source": [
    "gts = []\n",
    "preds = []\n",
    "\n",
    "def disagg_fold(fold_num, appliance, cell_type, hidden_size,\n",
    "                num_layers, bidirectional, lr,\n",
    "                num_iterations):\n",
    "    torch.manual_seed(0)\n",
    "\n",
    "    appliance_num = APPLIANCE_ORDER.index(appliance)\n",
    "    train, test = get_train_test(num_folds=num_folds, fold_num=fold_num)\n",
    "    train_aggregate = train[:, 0, :, :].reshape(-1, 24, 1)\n",
    "    test_aggregate = test[:, 0, :, :].reshape(-1, 24, 1)\n",
    "\n",
    "    train_appliance = train[:, appliance_num, :, :].reshape(-1, 24, 1)\n",
    "    test_appliance = test[:, appliance_num, :, :].reshape(-1, 24, 1)\n",
    "    gts.append(test_appliance.reshape(-1, 24))\n",
    "    loss_func = nn.L1Loss()\n",
    "    r = CustomRNN(cell_type, hidden_size, num_layers, bidirectional)\n",
    "\n",
    "    if cuda_av:\n",
    "        r = r.cuda()\n",
    "        loss_func = loss_func.cuda()\n",
    "\n",
    "    # Setting the params all to be non-negative\n",
    "    #for param in r.parameters():\n",
    "    #    param.data = param.data.abs()\n",
    "\n",
    "    optimizer = torch.optim.Adam(r.parameters(), lr=lr)\n",
    "\n",
    "    for t in range(num_iterations):\n",
    "\n",
    "        inp = Variable(torch.Tensor(train_aggregate), requires_grad=True)\n",
    "        train_y = Variable(torch.Tensor(train_appliance))\n",
    "        if cuda_av:\n",
    "            inp = inp.cuda()\n",
    "            train_y = train_y.cuda()\n",
    "        pred = r(inp)\n",
    "\n",
    "        optimizer.zero_grad()\n",
    "        loss = loss_func(pred, train_y)\n",
    "        if t % 5 == 0:\n",
    "            print(t, loss.data[0])\n",
    "        loss.backward()\n",
    "        optimizer.step()\n",
    "\n",
    "    test_inp = Variable(torch.Tensor(test_aggregate), requires_grad=False)\n",
    "    test_y = Variable(torch.Tensor(test_appliance), requires_grad=False)\n",
    "    if cuda_av:\n",
    "        test_inp = test_inp.cuda()\n",
    "    pred = r(test_inp)\n",
    "    #pred[pred<0.] = 0.\n",
    "    pred = torch.clamp(pred, min=0.)\n",
    "    if cuda_av:\n",
    "        prediction_fold = pred.cpu().data.numpy()\n",
    "    else:\n",
    "        prediction_fold = pred.data.numpy()\n",
    "    return prediction_fold, test_appliance\n",
    "\n",
    "def disagg(appliance, cell_type, hidden_size, num_layers, bidirectional, lr, num_iterations):\n",
    "    from sklearn.metrics import mean_absolute_error\n",
    "    preds = []\n",
    "    gts = []\n",
    "    for cur_fold in range(num_folds):\n",
    "        pred, gt = disagg_fold(cur_fold, appliance, cell_type, hidden_size, num_layers\n",
    "                               ,bidirectional, lr, num_iterations)\n",
    "\n",
    "        preds.append(pred)\n",
    "        gts.append(gt)\n",
    "    return mean_absolute_error(np.concatenate(gts).flatten(), np.concatenate(preds).flatten())\n",
    "\n",
    "appliance = \"hvac\"\n",
    "cell_type=\"GRU\" # One of GRU, LSTM, RNN\n",
    "hidden_size=100 # [20, 50, 100, 150]\n",
    "num_layers=1  # [1, 2, 3, 4]\n",
    "bidirectional=False # True or False\n",
    "lr =1 # 1e-3, 1e-2, 1e-1, 1, 2\n",
    "num_iterations = 20 #200, 400, 600, 800\n",
    "\n",
    "appliance, cell_type, hidden_size, num_layers, bidirectional, lr, num_iterations = sys.argv[1:]\n",
    "hidden_size = int(hidden_size)\n",
    "num_layers = int(num_layers)\n",
    "lr = float(lr)\n",
    "num_iterations = int(num_iterations)\n",
    "\n",
    "p = disagg(appliance, cell_type, hidden_size, num_layers,\n",
    "                bidirectional, lr, num_iterations)\n",
    "\n",
    "import pickle\n",
    "pickle.dump(p, open(\"./baseline/rnn-individual-baseline-result/rnn-individual-{}-{}-{}-{}-{}-{}-{}.pkl\".format(appliance,\n",
    "\t\t\t\t\t\tcell_type, hidden_size, num_layers, bidirectional, lr, num_iterations), \"wb\"))"
   ]
  }
 ],
 "metadata": {
  "kernelspec": {
   "display_name": "Python 3",
   "language": "python",
   "name": "python3"
  },
  "language_info": {
   "codemirror_mode": {
    "name": "ipython",
    "version": 3
   },
   "file_extension": ".py",
   "mimetype": "text/x-python",
   "name": "python",
   "nbconvert_exporter": "python",
   "pygments_lexer": "ipython3",
   "version": "3.6.3"
  }
 },
 "nbformat": 4,
 "nbformat_minor": 2
}
