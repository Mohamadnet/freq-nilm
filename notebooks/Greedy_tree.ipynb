{
 "cells": [
  {
   "cell_type": "code",
   "execution_count": 1,
   "metadata": {
    "collapsed": true
   },
   "outputs": [],
   "source": [
    "import numpy as np"
   ]
  },
  {
   "cell_type": "code",
   "execution_count": 22,
   "metadata": {},
   "outputs": [
    {
     "name": "stdout",
     "output_type": "stream",
     "text": [
      "0\n"
     ]
    }
   ],
   "source": [
    "p = 0.0\n",
    "error = {}\n",
    "count = 0\n",
    "for dataset in [1, 2]:\n",
    "    error[dataset] = {}\n",
    "    for fold_num in range(5):\n",
    "        error[dataset][fold_num] = {}\n",
    "        for appliance in ['hvac', 'fridge','dr', 'dw', 'mw']:\n",
    "            error[dataset][fold_num][appliance] = {}\n",
    "            for cell_type in ['GRU', 'RNN', 'LSTM']:\n",
    "                error[dataset][fold_num][appliance][cell_type] = {}\n",
    "                for hidden_size  in [20, 50, 100]:\n",
    "                    error[dataset][fold_num][appliance][cell_type][hidden_size] = {}\n",
    "                    for num_layers in range(1,5):\n",
    "                        error[dataset][fold_num][appliance][cell_type][hidden_size][num_layers] = {}\n",
    "                        for bidirectional in [True, False]:\n",
    "                            error[dataset][fold_num][appliance][cell_type][hidden_size][num_layers][bidirectional] = {}\n",
    "                            for lr in [0.01, 0.1, 1.0]:\n",
    "                                error[dataset][fold_num][appliance][cell_type][hidden_size][num_layers][bidirectional][lr] = {}\n",
    "                                for iters in [1000, 2000, 3000]:\n",
    "                                    try:\n",
    "                                        error[dataset][fold_num][appliance][cell_type][hidden_size][num_layers][bidirectional][lr][iters] = \\\n",
    "                                        np.load('../code/baseline/rnn-nested-cv/valid-error-{}-{}-{}-{}-{}-{}-{}-{}-{}-[\\'{}\\'].npy'.format(fold_num, \\\n",
    "                                                                                                                           dataset, \n",
    "                                                                                                                           cell_type, \n",
    "                                                                                                                           hidden_size, \n",
    "                                                                                                                           num_layers, \n",
    "                                                                                                                           bidirectional, \n",
    "                                                                                                                           lr, \n",
    "                                                                                                                           iters, \n",
    "                                                                                                                           p, appliance)).item()\n",
    "\n",
    "                                    except:\n",
    "                                        count += 1\n",
    "                                        print (fold_num, cell_type, hidden_size, num_layers, bidirectional, lr, iters, 0, appliance)\n",
    "print (count)"
   ]
  },
  {
   "cell_type": "code",
   "execution_count": 23,
   "metadata": {},
   "outputs": [
    {
     "data": {
      "text/plain": [
       "{0.01: {1000: {'hvac': 463.57893996549819},\n",
       "  2000: {'hvac': 311.08377126969111},\n",
       "  3000: {'hvac': 222.43269077583432}},\n",
       " 0.1: {1000: {'hvac': 155.59836716626697},\n",
       "  2000: {'hvac': 164.66031662783652},\n",
       "  3000: {'hvac': 167.80067484673552}},\n",
       " 1.0: {1000: {'hvac': 168.55771785128752},\n",
       "  2000: {'hvac': 168.55771785128752},\n",
       "  3000: {'hvac': 168.55771241823382}}}"
      ]
     },
     "execution_count": 23,
     "metadata": {},
     "output_type": "execute_result"
    }
   ],
   "source": [
    "error[1][0]['hvac']['RNN'][20][1][True]"
   ]
  },
  {
   "cell_type": "code",
   "execution_count": 18,
   "metadata": {
    "collapsed": true
   },
   "outputs": [],
   "source": [
    "best_params = np.load(\"../code/baseline/best_param_nested_rnn.npy\").item()"
   ]
  },
  {
   "cell_type": "code",
   "execution_count": 7,
   "metadata": {
    "collapsed": true
   },
   "outputs": [],
   "source": [
    "appliance_contri = {'hvac':0.83003428, 'fridge':0.0827564, 'dr':0.06381463, 'dw':0.01472098, 'mw':0.00867371}"
   ]
  },
  {
   "cell_type": "code",
   "execution_count": 20,
   "metadata": {},
   "outputs": [
    {
     "name": "stdout",
     "output_type": "stream",
     "text": [
      "0\n"
     ]
    }
   ],
   "source": [
    "p = 0.0\n",
    "best_params = {}\n",
    "count = 0\n",
    "for dataset in [1, 2]:\n",
    "    best_params[dataset] = {}\n",
    "    for fold_num in range(5):\n",
    "        best_params[dataset][fold_num] = {}\n",
    "        for appliance in ['hvac', 'fridge','dr', 'dw', 'mw']:\n",
    "            best_params[dataset][fold_num][appliance] = {}\n",
    "            min_error = np.inf\n",
    "            for cell_type in ['GRU', 'RNN', 'LSTM']:\n",
    "                for hidden_size  in [20, 50, 100]:\n",
    "                    for num_layers in [1,3]:\n",
    "                        for bidirectional in [True, False]:\n",
    "                            for lr in [0.01, 0.1, 1.0]:\n",
    "                                for iters in [1000, 2000, 3000]:\n",
    "                                    if error[dataset][fold_num][appliance][cell_type][hidden_size][num_layers][bidirectional][lr][iters][appliance] < min_error:\n",
    "                                        min_error = error[dataset][fold_num][appliance][cell_type][hidden_size][num_layers][bidirectional][lr][iters][appliance]\n",
    "                                        best_params[dataset][fold_num][appliance]['cell_type'] = cell_type\n",
    "                                        best_params[dataset][fold_num][appliance]['hidden_size'] = hidden_size\n",
    "                                        best_params[dataset][fold_num][appliance]['num_layers'] = num_layers\n",
    "                                        best_params[dataset][fold_num][appliance]['bidirectional'] = bidirectional\n",
    "                                        best_params[dataset][fold_num][appliance]['lr'] = lr\n",
    "                                        best_params[dataset][fold_num][appliance]['iters'] = iters\n",
    "print (count)"
   ]
  },
  {
   "cell_type": "code",
   "execution_count": 21,
   "metadata": {
    "scrolled": false
   },
   "outputs": [
    {
     "name": "stdout",
     "output_type": "stream",
     "text": [
      "dataset  1  fold_num  0\n",
      "LSTM 100 3 True\n",
      "hvac 98.8855860071 119.134339858\n",
      "LSTM 100 3 True\n",
      "fridge 23.4676773421 283.575377156\n",
      "GRU 100 1 True\n",
      "dr 73.5619796993 1152.7447499\n",
      "GRU 20 1 True\n",
      "dw 13.616785021 924.991747897\n",
      "GRU 20 3 True\n",
      "mw 10.0716479815 1161.16955507\n",
      "dataset  1  fold_num  1\n",
      "LSTM 100 3 True\n",
      "hvac 99.916129004 120.375906648\n",
      "LSTM 100 3 True\n",
      "fridge 23.704817473 286.440897296\n",
      "LSTM 100 1 True\n",
      "dr 67.5024289863 1057.78924028\n",
      "GRU 20 1 True\n",
      "dw 13.4501938939 913.675169312\n",
      "GRU 50 1 True\n",
      "mw 7.6272995697 879.358379482\n",
      "dataset  1  fold_num  2\n",
      "LSTM 100 3 True\n",
      "hvac 108.649285451 130.897347337\n",
      "RNN 100 1 True\n",
      "fridge 24.2153095556 292.609508819\n",
      "LSTM 100 3 True\n",
      "dr 70.2447549227 1100.7625512\n",
      "GRU 20 1 True\n",
      "dw 14.4292951778 980.185774165\n",
      "GRU 50 1 True\n",
      "mw 7.65113499476 882.10638755\n",
      "dataset  1  fold_num  3\n",
      "RNN 100 1 True\n",
      "hvac 117.671717476 141.767298425\n",
      "LSTM 100 1 True\n",
      "fridge 24.1582291356 291.919768569\n",
      "GRU 20 1 True\n",
      "dr 71.848154455 1125.88844368\n",
      "GRU 20 1 True\n",
      "dw 12.3282676135 837.462425295\n",
      "LSTM 50 1 True\n",
      "mw 7.30655389153 842.379315371\n",
      "dataset  1  fold_num  4\n",
      "GRU 100 1 True\n",
      "hvac 120.860946117 145.60958388\n",
      "LSTM 100 1 True\n",
      "fridge 23.2876564942 281.400066873\n",
      "GRU 20 1 True\n",
      "dr 73.6277456535 1153.77532791\n",
      "GRU 20 1 True\n",
      "dw 14.8799727236 1010.80041707\n",
      "GRU 50 3 True\n",
      "mw 5.33779441023 615.399224811\n",
      "dataset  2  fold_num  0\n",
      "LSTM 100 3 True\n",
      "hvac 318.665357309 383.918309144\n",
      "GRU 100 3 True\n",
      "fridge 25.9968525525 314.137064354\n",
      "GRU 20 1 True\n",
      "dr 73.5620840318 1152.74638483\n",
      "GRU 20 1 True\n",
      "dw 13.616785021 924.991747897\n",
      "GRU 50 3 True\n",
      "mw 9.93863759536 1145.83466537\n",
      "dataset  2  fold_num  1\n",
      "LSTM 100 3 True\n",
      "hvac 351.484178775 423.457424885\n",
      "LSTM 100 1 True\n",
      "fridge 26.3844503585 318.82066352\n",
      "RNN 100 1 True\n",
      "dr 67.5039472035 1057.81303133\n",
      "GRU 20 1 True\n",
      "dw 13.4501938939 913.675169312\n",
      "LSTM 50 3 True\n",
      "mw 7.41748041796 855.168136583\n",
      "dataset  2  fold_num  2\n",
      "LSTM 50 3 True\n",
      "hvac 353.621343939 426.032216331\n",
      "LSTM 20 1 True\n",
      "fridge 25.5898349126 309.218802565\n",
      "GRU 20 1 True\n",
      "dr 70.285356329 1101.39879098\n",
      "GRU 20 1 True\n",
      "dw 14.4292951778 980.185774165\n",
      "LSTM 100 3 True\n",
      "mw 7.56608069154 872.300398739\n",
      "dataset  2  fold_num  3\n",
      "RNN 100 1 True\n",
      "hvac 319.993537768 385.518460476\n",
      "LSTM 100 3 True\n",
      "fridge 24.5226039725 296.322749328\n",
      "GRU 20 1 True\n",
      "dr 71.848154455 1125.88844368\n",
      "GRU 20 1 True\n",
      "dw 12.3282676135 837.462425295\n",
      "LSTM 100 1 True\n",
      "mw 7.19671594741 829.715997815\n",
      "dataset  2  fold_num  4\n",
      "LSTM 100 3 True\n",
      "hvac 371.764449161 447.890476476\n",
      "LSTM 50 3 True\n",
      "fridge 24.0374030673 290.459747733\n",
      "GRU 20 3 True\n",
      "dr 73.6277455528 1153.77532633\n",
      "GRU 20 1 True\n",
      "dw 14.8799727236 1010.80041707\n",
      "LSTM 50 3 True\n",
      "mw 5.26684984811 607.219961021\n"
     ]
    }
   ],
   "source": [
    "for dataset in [1, 2]:\n",
    "    for fold_num in range(5):\n",
    "        print (\"dataset \", dataset, \" fold_num \", fold_num)\n",
    "        for appliance in ['hvac', 'fridge', 'dr', 'dw', 'mw']:\n",
    "            \n",
    "            cell_type = best_params[dataset][fold_num][appliance]['cell_type']\n",
    "            hidden_size = best_params[dataset][fold_num][appliance]['hidden_size'] \n",
    "            num_layers = best_params[dataset][fold_num][appliance]['num_layers']\n",
    "            bidirectional = best_params[dataset][fold_num][appliance]['bidirectional'] \n",
    "            lr = best_params[dataset][fold_num][appliance]['lr'] \n",
    "            iters = best_params[dataset][fold_num][appliance]['iters']\n",
    "            print (cell_type, hidden_size, num_layers, bidirectional)\n",
    "            print (appliance, error[dataset][fold_num][appliance][cell_type][hidden_size][num_layers][bidirectional][lr][iters][appliance],\n",
    "                  error[dataset][fold_num][appliance][cell_type][hidden_size][num_layers][bidirectional][lr][iters][appliance]/appliance_contri[appliance])"
   ]
  }
 ],
 "metadata": {
  "kernelspec": {
   "display_name": "Python 3",
   "language": "python",
   "name": "python3"
  },
  "language_info": {
   "codemirror_mode": {
    "name": "ipython",
    "version": 3
   },
   "file_extension": ".py",
   "mimetype": "text/x-python",
   "name": "python",
   "nbconvert_exporter": "python",
   "pygments_lexer": "ipython3",
   "version": "3.6.3"
  }
 },
 "nbformat": 4,
 "nbformat_minor": 2
}
