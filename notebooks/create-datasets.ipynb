{
 "cells": [
  {
   "cell_type": "code",
   "execution_count": 1,
   "metadata": {
    "collapsed": true
   },
   "outputs": [],
   "source": [
    "freq_dict = {'15-min':'15T',\n",
    "            '1-hour':'1H',\n",
    "            '2-hour':'2H',\n",
    "            '4-hour':'4H',\n",
    "            '6-hour':'6H',\n",
    "            '8-hour':'8H',\n",
    "            '12-hour':'12H',\n",
    "            '1-day':'1D',\n",
    "            '2-day':'2D',\n",
    "            '7-day':'7D',\n",
    "            '15-day':'15D',\n",
    "            '1-month':'1M'}"
   ]
  },
  {
   "cell_type": "code",
   "execution_count": 2,
   "metadata": {
    "collapsed": true
   },
   "outputs": [],
   "source": [
    "import pandas as pd\n",
    "import numpy as np\n",
    "import matplotlib.pyplot as plt\n",
    "import os\n",
    "from copy import deepcopy\n"
   ]
  },
  {
   "cell_type": "code",
   "execution_count": 3,
   "metadata": {
    "collapsed": true
   },
   "outputs": [],
   "source": [
    "metadata_df = pd.read_csv(\"./metadata.csv\",index_col=0)\n",
    "feeds = {'use':'aggregate',\n",
    "        'air1':'hvac',\n",
    "         'clotheswasher1':'wm',\n",
    "         'dishwasher1':'dw',\n",
    "         'microwave1':'mw',\n",
    "         'refrigerator1':'fridge',\n",
    "         'oven1':'oven',\n",
    "        'car1':'ec',\n",
    "         'waterheater1':'wh',\n",
    "         'drye1':'dr'\n",
    "        }"
   ]
  },
  {
   "cell_type": "code",
   "execution_count": 4,
   "metadata": {
    "collapsed": true
   },
   "outputs": [],
   "source": [
    "city = 'Austin'\n",
    "year = 2015"
   ]
  },
  {
   "cell_type": "code",
   "execution_count": 5,
   "metadata": {
    "collapsed": true
   },
   "outputs": [],
   "source": [
    "st = pd.HDFStore(os.path.expanduser(\"~/all.h5\"), mode='r')"
   ]
  },
  {
   "cell_type": "code",
   "execution_count": 10,
   "metadata": {
    "collapsed": true
   },
   "outputs": [],
   "source": [
    "d = st['/26']['2015']['use']"
   ]
  },
  {
   "cell_type": "code",
   "execution_count": 13,
   "metadata": {},
   "outputs": [
    {
     "data": {
      "text/plain": [
       "<matplotlib.axes._subplots.AxesSubplot at 0x11342d320>"
      ]
     },
     "execution_count": 13,
     "metadata": {},
     "output_type": "execute_result"
    },
    {
     "data": {
      "image/png": "[encoded data removed]",
      "text/plain": [
       "<matplotlib.figure.Figure at 0x11b999630>"
      ]
     },
     "metadata": {},
     "output_type": "display_data"
    }
   ],
   "source": [
    "%matplotlib inline\n",
    "d.head(100).plot()"
   ]
  },
  {
   "cell_type": "code",
   "execution_count": 14,
   "metadata": {
    "collapsed": true
   },
   "outputs": [],
   "source": [
    "APPLIANCES_ORDER = ['aggregate', 'hvac', 'fridge', 'mw', 'dw', 'wm', 'oven']"
   ]
  },
  {
   "cell_type": "code",
   "execution_count": 15,
   "metadata": {},
   "outputs": [
    {
     "name": "stdout",
     "output_type": "stream",
     "text": [
      "1H\n",
      "'No object named /2836 in the file'\n",
      "'No object named /2743 in the file'\n",
      "'No object named /5323 in the file'\n",
      "'No object named /8560 in the file'\n",
      "'No object named /3313 in the file'\n",
      "'No object named /5052 in the file'\n",
      "'No object named /3936 in the file'\n",
      "'No object named /1622 in the file'\n",
      "'No object named /1114 in the file'\n",
      "'No object named /5433 in the file'\n",
      "'No object named /1101 in the file'\n",
      "'2015'\n",
      "'2015'\n",
      "'No object named /3824 in the file'\n",
      "'No object named /78 in the file'\n",
      "'2015'\n",
      "'No object named /5839 in the file'\n",
      "'No object named /1050 in the file'\n",
      "'2015'\n",
      "'2015'\n",
      "'No object named /18 in the file'\n",
      "'No object named /35 in the file'\n",
      "'No object named /964 in the file'\n",
      "'No object named /1852 in the file'\n",
      "'No object named /2345 in the file'\n",
      "'No object named /2645 in the file'\n",
      "'No object named /2653 in the file'\n",
      "'No object named /3739 in the file'\n",
      "'No object named /4228 in the file'\n",
      "'No object named /4421 in the file'\n",
      "'No object named /4671 in the file'\n",
      "'No object named /4726 in the file'\n",
      "'No object named /5193 in the file'\n",
      "'No object named /6830 in the file'\n",
      "'No object named /7113 in the file'\n",
      "'2015'\n",
      "'No object named /5524 in the file'\n",
      "'No object named /583 in the file'\n",
      "'No object named /990 in the file'\n",
      "'No object named /1600 in the file'\n",
      "'No object named /2749 in the file'\n",
      "'No object named /4395 in the file'\n",
      "'No object named /5806 in the file'\n",
      "'No object named /5968 in the file'\n",
      "'No object named /6180 in the file'\n",
      "'No object named /7335 in the file'\n",
      "'No object named /7809 in the file'\n",
      "'No object named /8332 in the file'\n",
      "'No object named /9699 in the file'\n",
      "'No object named /3570 in the file'\n",
      "'No object named /7454 in the file'\n",
      "'No object named /5077 in the file'\n",
      "'No object named /2305 in the file'\n",
      "'2015'\n",
      "'No object named /3256 in the file'\n",
      "'No object named /6493 in the file'\n",
      "'No object named /7683 in the file'\n",
      "'No object named /9927 in the file'\n",
      "'No object named /3724 in the file'\n",
      "'No object named /9925 in the file'\n",
      "'No object named /7488 in the file'\n",
      "'No object named /8719 in the file'\n",
      "'No object named /3834 in the file'\n",
      "'No object named /9930 in the file'\n",
      "'2015'\n",
      "'2015'\n",
      "'2015'\n",
      "'2015'\n",
      "'No object named /103 in the file'\n",
      "'No object named /748 in the file'\n",
      "'No object named /2149 in the file'\n",
      "'No object named /3109 in the file'\n",
      "'No object named /3342 in the file'\n",
      "'No object named /4141 in the file'\n",
      "'No object named /5292 in the file'\n",
      "'No object named /6088 in the file'\n",
      "'No object named /6246 in the file'\n",
      "'No object named /6394 in the file'\n",
      "'No object named /6794 in the file'\n",
      "'No object named /6827 in the file'\n",
      "'No object named /7161 in the file'\n",
      "'No object named /7589 in the file'\n",
      "'No object named /8268 in the file'\n",
      "'No object named /8399 in the file'\n",
      "'2015'\n",
      "'No object named /9727 in the file'\n",
      "'No object named /9867 in the file'\n",
      "'No object named /9916 in the file'\n",
      "'No object named /9917 in the file'\n",
      "'No object named /9920 in the file'\n",
      "'2015'\n",
      "'No object named /9940 in the file'\n",
      "'No object named /9941 in the file'\n",
      "'No object named /8160 in the file'\n",
      "'No object named /1547 in the file'\n",
      "'No object named /5002 in the file'\n",
      "'No object named /3198 in the file'\n",
      "'No object named /9969 in the file'\n",
      "'2015'\n",
      "'2015'\n",
      "'No object named /9277 in the file'\n",
      "'2015'\n",
      "'No object named /1630 in the file'\n",
      "'No object named /7243 in the file'\n",
      "'2015'\n",
      "'2015'\n",
      "'2015'\n",
      "'2015'\n",
      "'2015'\n",
      "'2015'\n",
      "'No object named /9600 in the file'\n",
      "'No object named /2792 in the file'\n",
      "'No object named /4743 in the file'\n",
      "'No object named /5484 in the file'\n",
      "'No object named /6473 in the file'\n",
      "'No object named /6685 in the file'\n",
      "'No object named /7460 in the file'\n",
      "'No object named /7682 in the file'\n",
      "'No object named /7813 in the file'\n",
      "'No object named /7919 in the file'\n",
      "'No object named /9620 in the file'\n",
      "'2015'\n",
      "'No object named /5210 in the file'\n",
      "'2015'\n",
      "'No object named /7856 in the file'\n",
      "'2015'\n",
      "'No object named /6112 in the file'\n",
      "'No object named /1413 in the file'\n",
      "'No object named /3301 in the file'\n",
      "'No object named /4029 in the file'\n",
      "'No object named /4356 in the file'\n",
      "'No object named /5131 in the file'\n",
      "'No object named /7566 in the file'\n",
      "'No object named /8911 in the file'\n",
      "'No object named /7304 in the file'\n",
      "'No object named /285 in the file'\n",
      "'No object named /1473 in the file'\n",
      "'No object named /6773 in the file'\n",
      "'No object named /6524 in the file'\n",
      "'No object named /3146 in the file'\n",
      "'No object named /9849 in the file'\n",
      "'2015'\n",
      "'2015'\n",
      "'2015'\n",
      "'No object named /1042 in the file'\n",
      "'No object named /417 in the file'\n",
      "'No object named /2615 in the file'\n",
      "'No object named /4187 in the file'\n",
      "'No object named /6182 in the file'\n",
      "'No object named /1556 in the file'\n",
      "'No object named /4092 in the file'\n",
      "'No object named /9944 in the file'\n",
      "'No object named /1619 in the file'\n",
      "'2015'\n",
      "'No object named /2946 in the file'\n",
      "'2015'\n",
      "'No object named /520 in the file'\n",
      "'No object named /7419 in the file'\n",
      "'No object named /9474 in the file'\n",
      "'No object named /5636 in the file'\n",
      "'No object named /5412 in the file'\n",
      "'No object named /8703 in the file'\n",
      "'2015'\n",
      "'2015'\n",
      "'No object named /773 in the file'\n",
      "'No object named /6407 in the file'\n",
      "'No object named /9639 in the file'\n",
      "'No object named /6576 in the file'\n",
      "'No object named /7674 in the file'\n",
      "'No object named /3805 in the file'\n",
      "'No object named /5102 in the file'\n",
      "'No object named /4252 in the file'\n",
      "'No object named /1518 in the file'\n",
      "'No object named /2647 in the file'\n",
      "'No object named /6103 in the file'\n",
      "'No object named /7524 in the file'\n",
      "'No object named /6420 in the file'\n",
      "'No object named /9956 in the file'\n",
      "'No object named /2540 in the file'\n",
      "'No object named /4826 in the file'\n",
      "'No object named /1039 in the file'\n",
      "'No object named /3572 in the file'\n",
      "'No object named /4894 in the file'\n",
      "'No object named /6863 in the file'\n",
      "'No object named /1785 in the file'\n",
      "'No object named /2288 in the file'\n",
      "'No object named /5264 in the file'\n",
      "'No object named /6897 in the file'\n",
      "'No object named /8244 in the file'\n",
      "'No object named /5537 in the file'\n",
      "'No object named /5903 in the file'\n",
      "'No object named /2085 in the file'\n",
      "'No object named /9373 in the file'\n",
      "'No object named /3677 in the file'\n",
      "'No object named /8424 in the file'\n",
      "'No object named /9454 in the file'\n",
      "'No object named /6505 in the file'\n",
      "'No object named /9543 in the file'\n",
      "'No object named /1398 in the file'\n",
      "'No object named /2210 in the file'\n",
      "'No object named /2039 in the file'\n",
      "'No object named /6558 in the file'\n",
      "'2015'\n",
      "'2015'\n",
      "'No object named /6744 in the file'\n",
      "'No object named /820 in the file'\n",
      "'2015'\n",
      "'No object named /7302 in the file'\n",
      "'No object named /2521 in the file'\n",
      "'No object named /3026 in the file'\n",
      "'2015'\n",
      "'2015'\n",
      "'2015'\n",
      "'No object named /2692 in the file'\n",
      "'No object named /3085 in the file'\n",
      "'No object named /4806 in the file'\n",
      "'No object named /9051 in the file'\n",
      "'No object named /4437 in the file'\n",
      "'No object named /9890 in the file'\n",
      "'No object named /2323 in the file'\n",
      "'No object named /6133 in the file'\n",
      "'2015'\n",
      "'2015'\n",
      "'2015'\n",
      "'No object named /3705 in the file'\n",
      "'2015'\n",
      "'No object named /8370 in the file'\n",
      "'2015'\n",
      "'2015'\n",
      "'2015'\n",
      "'2015'\n",
      "'2015'\n",
      "'2015'\n",
      "'No object named /9176 in the file'\n",
      "'2015'\n",
      "'2015'\n",
      "'No object named /111 in the file'\n",
      "'No object named /4408 in the file'\n",
      "'No object named /8107 in the file'\n",
      "'No object named /1035 in the file'\n",
      "'No object named /5586 in the file'\n",
      "'No object named /6502 in the file'\n",
      "'No object named /6787 in the file'\n",
      "'2015'\n",
      "'No object named /807 in the file'\n",
      "'No object named /2559 in the file'\n",
      "'No object named /4015 in the file'\n",
      "'No object named /5805 in the file'\n",
      "'No object named /6383 in the file'\n",
      "'No object named /7321 in the file'\n",
      "'No object named /1410 in the file'\n",
      "'No object named /6995 in the file'\n",
      "'No object named /7077 in the file'\n",
      "'No object named /9116 in the file'\n",
      "'No object named /3947 in the file'\n",
      "'2015'\n",
      "'2015'\n",
      "'2015'\n",
      "'2015'\n",
      "'No object named /2848 in the file'\n",
      "'No object named /8023 in the file'\n",
      "'2015'\n",
      "'No object named /7671 in the file'\n",
      "'2015'\n",
      "'2015'\n",
      "'No object named /3214 in the file'\n",
      "'2015'\n",
      "'No object named /1078 in the file'\n",
      "'No object named /8817 in the file'\n",
      "'No object named /8946 in the file'\n",
      "'No object named /894 in the file'\n",
      "'No object named /2113 in the file'\n",
      "'2015'\n",
      "'2015'\n",
      "'2015'\n",
      "'2015'\n",
      "'2015'\n",
      "'2015'\n",
      "'2015'\n",
      "'No object named /1646 in the file'\n",
      "'2015'\n",
      "'2015'\n",
      "'No object named /692 in the file'\n"
     ]
    },
    {
     "name": "stdout",
     "output_type": "stream",
     "text": [
      "'No object named /9599 in the file'\n",
      "'No object named /6953 in the file'\n",
      "'2015'\n",
      "'2015'\n",
      "'2015'\n",
      "'2015'\n",
      "'No object named /862 in the file'\n",
      "'No object named /9950 in the file'\n",
      "'No object named /3147 in the file'\n",
      "'2015'\n",
      "'No object named /136 in the file'\n",
      "'2015'\n",
      "'2015'\n",
      "'No object named /44 in the file'\n",
      "'No object named /365 in the file'\n",
      "'No object named /4953 in the file'\n",
      "'No object named /6424 in the file'\n",
      "'No object named /7474 in the file'\n",
      "'No object named /8596 in the file'\n",
      "'2015'\n",
      "'2015'\n",
      "'No object named /1462 in the file'\n",
      "'No object named /543 in the file'\n",
      "'No object named /6345 in the file'\n",
      "'No object named /3246 in the file'\n",
      "'No object named /325 in the file'\n",
      "'No object named /1275 in the file'\n",
      "'No object named /2172 in the file'\n",
      "'No object named /2377 in the file'\n",
      "'No object named /3498 in the file'\n",
      "'No object named /3730 in the file'\n",
      "'No object named /3977 in the file'\n",
      "'No object named /4731 in the file'\n",
      "'No object named /4734 in the file'\n",
      "'No object named /5320 in the file'\n",
      "'No object named /5931 in the file'\n",
      "'No object named /6062 in the file'\n",
      "'2015'\n",
      "'No object named /9347 in the file'\n",
      "'No object named /9412 in the file'\n",
      "'No object named /2429 in the file'\n",
      "'No object named /6896 in the file'\n",
      "'No object named /398 in the file'\n",
      "'No object named /6236 in the file'\n",
      "'No object named /8344 in the file'\n",
      "'No object named /6845 in the file'\n",
      "'No object named /1974 in the file'\n",
      "'No object named /6667 in the file'\n",
      "'No object named /7172 in the file'\n",
      "'No object named /7750 in the file'\n",
      "'No object named /1954 in the file'\n",
      "'No object named /4465 in the file'\n",
      "'No object named /151 in the file'\n",
      "'No object named /3783 in the file'\n",
      "'2015'\n",
      "'No object named /2204 in the file'\n",
      "'No object named /6945 in the file'\n",
      "'No object named /3095 in the file'\n",
      "'No object named /5639 in the file'\n",
      "'No object named /6212 in the file'\n",
      "'No object named /6242 in the file'\n",
      "'No object named /7203 in the file'\n",
      "'No object named /7155 in the file'\n",
      "'No object named /168 in the file'\n",
      "'No object named /885 in the file'\n",
      "'No object named /564 in the file'\n",
      "'No object named /1565 in the file'\n",
      "'No object named /330 in the file'\n",
      "'2015'\n",
      "'2015'\n",
      "'2015'\n",
      "'No object named /4014 in the file'\n",
      "'No object named /7128 in the file'\n",
      "'2015'\n",
      "'No object named /8506 in the file'\n",
      "'No object named /9389 in the file'\n",
      "'2015'\n",
      "'No object named /448 in the file'\n",
      "'No object named /1104 in the file'\n",
      "'No object named /1764 in the file'\n",
      "'No object named /2650 in the file'\n",
      "'No object named /4378 in the file'\n",
      "'No object named /5541 in the file'\n",
      "'No object named /5924 in the file'\n",
      "'No object named /6605 in the file'\n"
     ]
    }
   ],
   "source": [
    "#for freq in ['2H','4H','12H','1H']:\n",
    "for freq in ['1H']:\n",
    "    print(freq)\n",
    "    freq_num = int(freq[:-1])\n",
    "    out = []\n",
    "    homes = []\n",
    "    city_data = metadata_df[metadata_df['city'] == city]\n",
    "    city_homes = city_data.index.values.astype('int')\n",
    "    for home in city_homes[:]:\n",
    "\n",
    "        try:\n",
    "            data_df = st['/%d' %home]['%s' %year]\n",
    "\n",
    "            # Only consider homes that have data from Jan 1 to Dec 31\n",
    "            day_of_year = data_df.index.dayofyear\n",
    "            if day_of_year[0]==1 and day_of_year[-1]==365:\n",
    "                downsampled_data = data_df.resample(freq).mean()\n",
    "                if len(downsampled_data)<((365*24)//freq_num):\n",
    "                    continue\n",
    "                downsampled_data = downsampled_data.rename(columns=feeds)\n",
    "                o =  [None] * len(APPLIANCES_ORDER)\n",
    "                for a_num, appliance in enumerate(APPLIANCES_ORDER):\n",
    "                    if appliance in downsampled_data.columns:\n",
    "                        o[a_num] = downsampled_data[appliance].values.reshape(365, 24//freq_num)\n",
    "                    else:\n",
    "                        o[a_num] = np.zeros((365, 24//freq_num))\n",
    "                        o[a_num].fill(np.nan)\n",
    "                out.append(o)\n",
    "                homes.append(home)\n",
    "\n",
    "            else:\n",
    "                continue\n",
    "        except Exception as e:\n",
    "            print(e)\n",
    "    out = np.array(out)\n",
    "    \n",
    "    np.save('{}-input.npy'.format(freq), out)"
   ]
  },
  {
   "cell_type": "code",
   "execution_count": 17,
   "metadata": {
    "collapsed": true
   },
   "outputs": [],
   "source": [
    "np.save('{}-input.npy'.format(freq), out)"
   ]
  },
  {
   "cell_type": "code",
   "execution_count": 16,
   "metadata": {
    "collapsed": true
   },
   "outputs": [],
   "source": [
    "import sys\n",
    "sys.path.append(\"../code/\")"
   ]
  },
  {
   "cell_type": "code",
   "execution_count": 17,
   "metadata": {
    "collapsed": true
   },
   "outputs": [],
   "source": [
    "from tensor_custom_core import *"
   ]
  },
  {
   "cell_type": "code",
   "execution_count": 18,
   "metadata": {},
   "outputs": [
    {
     "name": "stdout",
     "output_type": "stream",
     "text": [
      "773.306544215 0\n",
      "365.768216336 50\n"
     ]
    }
   ],
   "source": [
    "home, appliance, day, hour = stf_4dim(out[:10, :, :, :], 2)"
   ]
  },
  {
   "cell_type": "code",
   "execution_count": 19,
   "metadata": {},
   "outputs": [
    {
     "data": {
      "text/plain": [
       "<matplotlib.axes._subplots.AxesSubplot at 0x112818eb8>"
      ]
     },
     "execution_count": 19,
     "metadata": {},
     "output_type": "execute_result"
    },
    {
     "data": {
      "image/png": "[encoded data removed]",
      "text/plain": [
       "<matplotlib.figure.Figure at 0x122a93898>"
      ]
     },
     "metadata": {},
     "output_type": "display_data"
    }
   ],
   "source": [
    "pd.DataFrame(hour).plot()"
   ]
  },
  {
   "cell_type": "code",
   "execution_count": 17,
   "metadata": {
    "collapsed": true
   },
   "outputs": [],
   "source": [
    "%matplotlib inline"
   ]
  },
  {
   "cell_type": "code",
   "execution_count": 25,
   "metadata": {},
   "outputs": [
    {
     "ename": "ValueError",
     "evalue": "410 is not in list",
     "output_type": "error",
     "traceback": [
      "\u001b[0;31m---------------------------------------------------------------------------\u001b[0m",
      "\u001b[0;31mValueError\u001b[0m                                Traceback (most recent call last)",
      "\u001b[0;32m<ipython-input-25-c132ca3f5ecd>\u001b[0m in \u001b[0;36m<module>\u001b[0;34m()\u001b[0m\n\u001b[0;32m----> 1\u001b[0;31m \u001b[0mpd\u001b[0m\u001b[0;34m.\u001b[0m\u001b[0mDataFrame\u001b[0m\u001b[0;34m(\u001b[0m\u001b[0mout\u001b[0m\u001b[0;34m[\u001b[0m\u001b[0mhomes\u001b[0m\u001b[0;34m.\u001b[0m\u001b[0mindex\u001b[0m\u001b[0;34m(\u001b[0m\u001b[0;36m410\u001b[0m\u001b[0;34m)\u001b[0m\u001b[0;34m]\u001b[0m\u001b[0;34m[\u001b[0m\u001b[0mAPPLIANCES_ORDER\u001b[0m\u001b[0;34m.\u001b[0m\u001b[0mindex\u001b[0m\u001b[0;34m(\u001b[0m\u001b[0;34m\"hvac\"\u001b[0m\u001b[0;34m)\u001b[0m\u001b[0;34m]\u001b[0m\u001b[0;34m)\u001b[0m\u001b[0;34m.\u001b[0m\u001b[0mT\u001b[0m\u001b[0;34m.\u001b[0m\u001b[0mplot\u001b[0m\u001b[0;34m(\u001b[0m\u001b[0mlegend\u001b[0m\u001b[0;34m=\u001b[0m\u001b[0;32mFalse\u001b[0m\u001b[0;34m,\u001b[0m \u001b[0mcolor\u001b[0m\u001b[0;34m=\u001b[0m\u001b[0;34m'k'\u001b[0m\u001b[0;34m,\u001b[0m\u001b[0malpha\u001b[0m\u001b[0;34m=\u001b[0m\u001b[0;36m0.1\u001b[0m\u001b[0;34m)\u001b[0m\u001b[0;34m\u001b[0m\u001b[0m\n\u001b[0m",
      "\u001b[0;31mValueError\u001b[0m: 410 is not in list"
     ]
    }
   ],
   "source": [
    "pd.DataFrame(out[homes.index(410)][APPLIANCES_ORDER.index(\"hvac\")]).T.plot(legend=False, color='k',alpha=0.1)"
   ]
  },
  {
   "cell_type": "code",
   "execution_count": 96,
   "metadata": {},
   "outputs": [
    {
     "data": {
      "text/plain": [
       "(13, 7, 365, 24)"
      ]
     },
     "execution_count": 96,
     "metadata": {},
     "output_type": "execute_result"
    }
   ],
   "source": [
    "np.array(out).shape"
   ]
  },
  {
   "cell_type": "code",
   "execution_count": 58,
   "metadata": {},
   "outputs": [
    {
     "ename": "NameError",
     "evalue": "name 'to_ignore' is not defined",
     "output_type": "error",
     "traceback": [
      "\u001b[0;31m---------------------------------------------------------------------------\u001b[0m",
      "\u001b[0;31mNameError\u001b[0m                                 Traceback (most recent call last)",
      "\u001b[0;32m<ipython-input-58-561ec9b0412f>\u001b[0m in \u001b[0;36m<module>\u001b[0;34m()\u001b[0m\n\u001b[1;32m      6\u001b[0m \u001b[0mfreq_use\u001b[0m\u001b[0;34m=\u001b[0m\u001b[0;34m'12-hour'\u001b[0m\u001b[0;34m\u001b[0m\u001b[0m\n\u001b[1;32m      7\u001b[0m \u001b[0;32mfor\u001b[0m \u001b[0mhome\u001b[0m \u001b[0;32min\u001b[0m \u001b[0mcity_homes\u001b[0m\u001b[0;34m[\u001b[0m\u001b[0;34m:\u001b[0m\u001b[0;34m]\u001b[0m\u001b[0;34m:\u001b[0m\u001b[0;34m\u001b[0m\u001b[0m\n\u001b[0;32m----> 8\u001b[0;31m     \u001b[0;32mif\u001b[0m \u001b[0mhome\u001b[0m \u001b[0;32min\u001b[0m \u001b[0mto_ignore\u001b[0m\u001b[0;34m:\u001b[0m\u001b[0;34m\u001b[0m\u001b[0m\n\u001b[0m\u001b[1;32m      9\u001b[0m         \u001b[0;32mcontinue\u001b[0m\u001b[0;34m\u001b[0m\u001b[0m\n\u001b[1;32m     10\u001b[0m     \u001b[0;32mtry\u001b[0m\u001b[0;34m:\u001b[0m\u001b[0;34m\u001b[0m\u001b[0m\n",
      "\u001b[0;31mNameError\u001b[0m: name 'to_ignore' is not defined"
     ]
    }
   ],
   "source": [
    "out_overall = {}\n",
    "\n",
    "city_data = metadata_df[metadata_df['city'] == city]\n",
    "city_homes = city_data.index.values.astype('int')\n",
    "out = {}\n",
    "freq_use='12-hour'\n",
    "for home in city_homes[:]:\n",
    "    if home in to_ignore:\n",
    "        continue\n",
    "    try:\n",
    "        data_df = st['/%d' %home]['%d' %year]\n",
    "        data_df_resampled = data_df.resample(\"1M\").sum()\n",
    "        df_res_kwh = data_df_resampled.div(1000)\n",
    "        df_res_kwh.index = df_res_kwh.index.month\n",
    "        # Find months where we have less than 28 days worth data and ignore those months\n",
    "        day_res = data_df.resample(\"1D\").sum()['use'].dropna()\n",
    "        a = pd.value_counts(day_res.index.month)\n",
    "        lt_28_days = a[a<28].index.values\n",
    "\n",
    "        for m in lt_28_days:\n",
    "            df_res_kwh.loc[m] = np.NAN\n",
    "\n",
    "        temp = {}\n",
    "        for feed_name, feed_value in feeds.iteritems():\n",
    "            temp[feed_value] = []\n",
    "            for month in range(year_dict['start_month'], year_dict['end_month']+1):\n",
    "\n",
    "\n",
    "                try:\n",
    "                    temp[feed_value].append(df_res_kwh.loc[month, feed_name])\n",
    "                except:\n",
    "                    temp[feed_value].append(np.NAN)\n",
    "        out[home] = np.hstack(temp.values())\n",
    "\n",
    "\n",
    "\n",
    "\n",
    "    except Exception, e:\n",
    "        pass\n",
    "appliances = temp.keys()\n",
    "col_headers = []\n",
    "for appliance in appliances:\n",
    "    for month in range(1, 13):\n",
    "        col_headers.append(appliance+\"_\"+str(month))\n",
    "df = pd.DataFrame(out).T\n",
    "df.columns = col_headers\n",
    "\n",
    "# Read metadata\n",
    "mdf = pd.read_csv(\"metadata/%s_md.csv\" %city.replace(\" \",\"\"), index_col=0)\n",
    "for column in mdf.columns:\n",
    "    df[column] = mdf[column]\n",
    "\n",
    "city = city.replace(\" \",\"\")\n",
    "out_overall[year][city] =df\n",
    "\n",
    "tdf = df[['aggregate_'+str(month) for month in range(1, 13)]].dropna().copy()\n",
    "full_agg = {}\n",
    "\n",
    "\n",
    "for home in df.index:\n",
    "    if home in tdf.index:\n",
    "        full_agg[home] = 1\n",
    "\n",
    "\n",
    "    else:\n",
    "        full_agg[home] = 0"
   ]
  },
  {
   "cell_type": "code",
   "execution_count": null,
   "metadata": {
    "collapsed": true
   },
   "outputs": [],
   "source": []
  }
 ],
 "metadata": {
  "kernelspec": {
   "display_name": "Python 3",
   "language": "python",
   "name": "python3"
  },
  "language_info": {
   "codemirror_mode": {
    "name": "ipython",
    "version": 3
   },
   "file_extension": ".py",
   "mimetype": "text/x-python",
   "name": "python",
   "nbconvert_exporter": "python",
   "pygments_lexer": "ipython3",
   "version": "3.6.3"
  }
 },
 "nbformat": 4,
 "nbformat_minor": 2
}
